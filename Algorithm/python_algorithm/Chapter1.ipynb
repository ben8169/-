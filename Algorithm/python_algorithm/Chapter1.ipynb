{
 "cells": [
  {
   "cell_type": "code",
   "execution_count": null,
   "metadata": {},
   "outputs": [],
   "source": [
    "import queue\n",
    "\n",
    "#Queue and stack(lifoqueue)\n",
    "Q = queue.Queue(maxsize=10)\n",
    "S = queue.LifoQueue(maxsize=10)\n",
    "\n",
    "\n",
    "for i in range(1, 11):\n",
    "    Q.put(i)\n",
    "    S.put(i)\n",
    "\n",
    "print(\"Queue: \", Q.queue)\n",
    "print(\"LifoQueue: \", S.queue)\n",
    "\n",
    "Q.get()\n",
    "S.get()\n",
    "\n",
    "print(\"Queue: \", Q.queue)\n",
    "print(\"LifoQueue: \", S.queue)\n",
    "\n",
    "\n",
    "#Set\n",
    "S = set([1, 2, 3, 4, 5])\n",
    "print(\"Set: \", S)\n",
    "print(\"Type: \", type(S))\n",
    "\n",
    "print()\n",
    "\n",
    "FS = frozenset([1, 2, 3, 4, 5])\n",
    "print(\"FSet: \", FS)\n",
    "print(\"Type: \", type(FS))\n",
    "\n",
    "#Dictionary\n",
    "D = {'a': 1, 'b': 2, 'c': 3}\n",
    "D['a'] = 4\n",
    "print(\"Dictionary: \", D)"
   ]
  },
  {
   "cell_type": "markdown",
   "metadata": {},
   "source": [
    "Practice"
   ]
  },
  {
   "cell_type": "code",
   "execution_count": 3,
   "metadata": {},
   "outputs": [
    {
     "data": {
      "text/plain": [
       "4"
      ]
     },
     "execution_count": 3,
     "metadata": {},
     "output_type": "execute_result"
    }
   ],
   "source": [
    "#2\n",
    "# def gcd2(a, b):\n",
    "#     lst_a = []\n",
    "#     lst_b = []\n",
    "#     lst_c = []\n",
    "#     for i in range(1, a):\n",
    "#         if a % i == 0:\n",
    "#             lst_a.append(i)\n",
    "#     for i in range(1, b):\n",
    "#         if b % i == 0:\n",
    "#             lst_b.append(i)\n",
    "\n",
    "#     print(lst_a)\n",
    "#     print(lst_b)\n",
    "\n",
    "#     for i in lst_a:\n",
    "#         for j in lst_b:\n",
    "#             if j==i:\n",
    "#                 lst_c.append(j)\n",
    "\n",
    "#     print(max(lst_c))\n",
    "\n",
    "\n",
    "# gcd2(60,28)\n",
    "\n",
    "#2-1\n",
    "def gcd2(a, b):\n",
    "    lst_a = []\n",
    "    lst_b = []\n",
    "    for i in range(1, a):\n",
    "        if a % i == 0:\n",
    "            lst_a.append(i)\n",
    "    for i in range(1, b):\n",
    "        if b % i == 0:\n",
    "            lst_b.append(i)\n",
    "\n",
    "    for i in list(reversed(lst_a)):\n",
    "        if i in lst_b:\n",
    "            return i\n",
    "        \n",
    "\n",
    "\n",
    "gcd2(60,28)"
   ]
  },
  {
   "cell_type": "code",
   "execution_count": 2,
   "metadata": {},
   "outputs": [
    {
     "name": "stdout",
     "output_type": "stream",
     "text": [
      "[9, 8, 7, 6, 5, 4, 3, 2, 1, 0]\n"
     ]
    }
   ],
   "source": [
    "lst = range((10))\n",
    "print(list(reversed(lst)))"
   ]
  },
  {
   "cell_type": "code",
   "execution_count": 6,
   "metadata": {},
   "outputs": [
    {
     "data": {
      "text/plain": [
       "4"
      ]
     },
     "execution_count": 6,
     "metadata": {},
     "output_type": "execute_result"
    }
   ],
   "source": [
    "#3\n",
    "def gcd3(a, b):\n",
    "    lst_a = []\n",
    "    for i in range(1, a):\n",
    "        if a % i == 0:\n",
    "            lst_a.append(i)\n",
    "    # print(lst_a)\n",
    "    lst_a.reverse()\n",
    "    for i in lst_a:\n",
    "        if (b%i) == 0:\n",
    "            return i\n",
    "\n",
    "gcd3(60,28)\n"
   ]
  },
  {
   "cell_type": "code",
   "execution_count": 26,
   "metadata": {},
   "outputs": [
    {
     "name": "stdout",
     "output_type": "stream",
     "text": [
      "gcd(60,28)\n",
      "gcd(28,4)\n",
      "gcd(4,0)\n",
      "4\n"
     ]
    }
   ],
   "source": [
    "#4\n",
    "def gcd(a, b):\n",
    "    while b != 0:\n",
    "        print(f\"gcd({a},{b})\")\n",
    "        r = a % b\n",
    "        a = b\n",
    "        b = r\n",
    "    print(f\"gcd({a},{b})\")\n",
    "    return a\n",
    "\n",
    "print(gcd(60,28))"
   ]
  },
  {
   "cell_type": "code",
   "execution_count": 27,
   "metadata": {},
   "outputs": [
    {
     "name": "stdout",
     "output_type": "stream",
     "text": [
      "gcd(60,28)\n",
      "gcd(28,4)\n",
      "gcd(4,0)\n",
      "4\n"
     ]
    }
   ],
   "source": [
    "#5\n",
    "def gcd(a, b):\n",
    "    if a < b:\n",
    "        a, b = b, a\n",
    "    while b != 0:\n",
    "        print(f\"gcd({a},{b})\")\n",
    "        r = a % b\n",
    "        a = b\n",
    "        b = r\n",
    "    print(f\"gcd({a},{b})\")\n",
    "    return a\n",
    "\n",
    "print(gcd(28,60))"
   ]
  },
  {
   "cell_type": "code",
   "execution_count": 32,
   "metadata": {},
   "outputs": [
    {
     "name": "stdout",
     "output_type": "stream",
     "text": [
      "[1, 2, 3, 4, 5, 6, 10, 12, 15, 20, 30]\n",
      "[1, 2, 4, 7, 14]\n",
      "4\n",
      "Time taken by gcd2: 0.000093 seconds\n",
      "[1, 2, 3, 4, 5, 6, 10, 12, 15, 20, 30]\n",
      "4\n",
      "Time taken by gcd3: 0.000043 seconds\n"
     ]
    }
   ],
   "source": [
    "import time\n",
    "\n",
    "\n",
    "# Measure time for gcd2\n",
    "start_time = time.time()\n",
    "gcd2(60, 28)\n",
    "end_time = time.time()\n",
    "\n",
    "print(\"Time taken by gcd2: %f seconds\" % (end_time - start_time))\n",
    "# Measure time for gcd3\n",
    "start_time = time.time()\n",
    "gcd3(60, 28)\n",
    "end_time = time.time()\n",
    "\n",
    "print(\"Time taken by gcd3: %f seconds\" % (end_time - start_time))\n"
   ]
  },
  {
   "cell_type": "code",
   "execution_count": null,
   "metadata": {},
   "outputs": [],
   "source": [
    "#8 LCM\n",
    "#LCM(a,b) = a*b*gcd(a,b)\n",
    "#변환정복기법"
   ]
  },
  {
   "cell_type": "code",
   "execution_count": 34,
   "metadata": {},
   "outputs": [
    {
     "name": "stdout",
     "output_type": "stream",
     "text": [
      "real\n",
      "first root : 2.000000\n",
      "second root : 1.000000\n",
      "\n",
      "double root\n",
      "root:-1.000000\n",
      "\n",
      "invalid\n"
     ]
    }
   ],
   "source": [
    "#9\n",
    "import math\n",
    "\n",
    "def root(a, b ,c):\n",
    "    if a == 0:\n",
    "        print(\"invalid\")\n",
    "        return\n",
    "    discriminant = math.sqrt(b**2-4*a*c)\n",
    "    if discriminant > 0:\n",
    "        root1 = (-1*b+discriminant)/2*a\n",
    "        root2 = (-1*b-discriminant)/2*a\n",
    "        print(\"real\")\n",
    "        print(\"first root : %f\"%root1)\n",
    "        print(\"second root : %f\"%root2)\n",
    "    elif discriminant == 0:\n",
    "        root1 = (-1*b+discriminant)/2*a\n",
    "        print(\"double root\")\n",
    "        print(\"root:%f\"%root1)\n",
    "    else:\n",
    "        print(\"none\")\n",
    "\n",
    "\n",
    "root(1,-3,2)\n",
    "print()\n",
    "root(1, 2, 1)\n",
    "print()\n",
    "root(0, 2, 1)"
   ]
  },
  {
   "cell_type": "code",
   "execution_count": 42,
   "metadata": {},
   "outputs": [
    {
     "name": "stdout",
     "output_type": "stream",
     "text": [
      "Estimated Pi value: 3.1413671999999999151498286664718762040138244628906250000000000000000000000000000000000000000000000000\n"
     ]
    }
   ],
   "source": [
    "#10\n",
    "#monte_carlo method\n",
    "import random\n",
    "\n",
    "def estimate_pi(num_samples):\n",
    "    inside_circle = 0\n",
    "\n",
    "    for _ in range(num_samples):\n",
    "        x = random.uniform(0, 1)\n",
    "        y = random.uniform(0, 1)\n",
    "\n",
    "        distance = x**2 + y**2\n",
    "\n",
    "        if distance <= 1:\n",
    "            inside_circle += 1\n",
    "\n",
    "    pi_estimate = (inside_circle / num_samples) * 4\n",
    "    return pi_estimate\n",
    "\n",
    "# 시뮬레이션에 사용할 샘플 수 설정\n",
    "num_samples = 10**7\n",
    "\n",
    "# 원주율 추정\n",
    "pi_value = estimate_pi(num_samples)\n",
    "\n",
    "print(f\"Estimated Pi value: {pi_value:.100f}\")\n"
   ]
  },
  {
   "cell_type": "code",
   "execution_count": 16,
   "metadata": {},
   "outputs": [
    {
     "name": "stdout",
     "output_type": "stream",
     "text": [
      "[98, 21, 22, 50, 74, 38, 3, 89, 31, 9, 35, 49, 80, 12, 44, 63, 5, 26, 68, 59, 70, 27, 22, 53, 35, 11, 88, 66, 33, 84, 86, 14, 59, 83, 23, 58, 44, 91, 87, 44, 79, 71, 17, 41, 50, 45, 31, 98, 42, 60, 32, 41, 81, 4, 52, 9, 83, 56, 45, 73, 69, 60, 27, 10, 77, 50, 78, 17, 72, 62, 96, 23, 59, 24, 14, 83, 64, 74, 49, 32, 36, 2, 88, 24, 18, 66, 16, 84, 25, 50, 10, 65, 19, 67, 10, 4, 71, 68, 64, 34]\n",
      "[2, 3, 4, 4, 5, 9, 9, 10, 10, 10, 11, 12, 14, 14, 16, 17, 17, 18, 19, 21, 22, 22, 23, 23, 24, 24, 25, 26, 27, 27, 31, 31, 32, 32, 33, 34, 35, 35, 36, 38, 41, 41, 42, 44, 44, 44, 45, 45, 49, 49, 50, 50, 50, 50, 52, 53, 56, 58, 59, 59, 59, 60, 60, 62, 63, 64, 64, 65, 66, 66, 67, 68, 68, 69, 70, 71, 71, 72, 73, 74, 74, 77, 78, 79, 80, 81, 83, 83, 83, 84, 84, 86, 87, 88, 88, 89, 91, 96, 98, 98]\n",
      "0\n"
     ]
    }
   ],
   "source": [
    "#12-1\n",
    "# def min_distance(A:list):\n",
    "#     dmin = abs(A[0] - A[1])\n",
    "#     for i in range(len(A)):\n",
    "#         for j in range(i+1,len(A)):\n",
    "#             if (A[i] != A[j]) and (abs(A[i]-A[j])<dmin):\n",
    "#                 dmin = abs(A[i]-A[j])\n",
    "#     return dmin\n",
    "\n",
    "# lst = [10,20,30,39]\n",
    "# print(min_distance(lst))\n",
    "\n",
    "#12-2\n",
    "import random\n",
    "\n",
    "def min_distance(a:list):\n",
    "    a.sort()\n",
    "    min = a[1] - a[0]\n",
    "    for i in range(len(a)-1):\n",
    "        if a[i+1] - a[i] < min:\n",
    "            min = a[i+1]-a[i]\n",
    "    return min\n",
    "\n",
    "    # return dmin\n",
    "\n",
    "# lst = [20,10,30,39]\n",
    "lst = []\n",
    "for _ in range(100):\n",
    "    lst.append(random.randint(1,100))\n",
    "print(lst)\n",
    "lst.sort()\n",
    "print(min_distance(lst))"
   ]
  },
  {
   "cell_type": "code",
   "execution_count": 59,
   "metadata": {},
   "outputs": [
    {
     "name": "stdout",
     "output_type": "stream",
     "text": [
      "5\n",
      "6\n",
      "7\n"
     ]
    }
   ],
   "source": [
    "class Node:\n",
    "    def __init__(self, data, link):\n",
    "        self.data = data\n",
    "        self.link = link\n",
    "\n",
    "TAIL = Node(None, None)\n",
    "node3 = Node(7, TAIL)\n",
    "node2 = Node(6, node3)\n",
    "node1 = Node(5, node2)\n",
    "\n",
    "# 노드를 순서대로 프린트하는 함수\n",
    "def print_linked_list(head):\n",
    "    current = head\n",
    "    while current is not None:\n",
    "        if current.data == None:\n",
    "            break\n",
    "        print(current.data)\n",
    "        current = current.link\n",
    "\n",
    "# 노드를 순서대로 프린트\n",
    "print_linked_list(node1)\n"
   ]
  },
  {
   "cell_type": "code",
   "execution_count": 70,
   "metadata": {},
   "outputs": [
    {
     "name": "stdout",
     "output_type": "stream",
     "text": [
      "[0, 9]\n"
     ]
    }
   ],
   "source": [
    "#19\n",
    "def find_minmax(A:list):\n",
    "    min = A[0]\n",
    "    max = A[0]\n",
    "    for i in A:\n",
    "        if i > max:\n",
    "            max = i\n",
    "        if i < min:\n",
    "            min = i\n",
    "    return (min,max)\n",
    "\n",
    "\n",
    "\n",
    "lst = list(range(10))\n",
    "# lst = [1]*10\n",
    "print([i for i in find_minmax(lst)])\n",
    "\n"
   ]
  },
  {
   "cell_type": "code",
   "execution_count": 17,
   "metadata": {},
   "outputs": [
    {
     "name": "stdout",
     "output_type": "stream",
     "text": [
      "<class 'tuple'>\n"
     ]
    }
   ],
   "source": [
    "#return 여러개라도 한개의 튜플로 반환(하는 격)\n",
    "def test():\n",
    "    return 1,2\n",
    "print(type(test()))"
   ]
  },
  {
   "cell_type": "code",
   "execution_count": 20,
   "metadata": {},
   "outputs": [
    {
     "name": "stdout",
     "output_type": "stream",
     "text": [
      "O\n",
      "L\n",
      "L\n",
      "E\n",
      "H\n"
     ]
    }
   ],
   "source": [
    "#22 \n",
    "import queue\n",
    "\n",
    "S = queue.LifoQueue()\n",
    "string = \"HELLO\"\n",
    "for i in string:\n",
    "    S.put(i)\n",
    "\n",
    "# 수정된 부분: len(S.queue) -> range(S.qsize())\n",
    "for i in range(S.qsize()):\n",
    "    print(S.get())\n",
    "\n",
    "# while not S.empty():\n",
    "#     print(S.get(), end = \"\")\n"
   ]
  },
  {
   "cell_type": "code",
   "execution_count": 22,
   "metadata": {},
   "outputs": [
    {
     "name": "stdout",
     "output_type": "stream",
     "text": [
      "F(0) = 0\n",
      "F(1) = 1\n",
      "F(2) = 1\n",
      "F(3) = 2\n",
      "F(4) = 3\n",
      "F(5) = 5\n",
      "F(6) = 8\n",
      "F(7) = 13\n",
      "F(8) = 21\n",
      "F(9) = 34\n"
     ]
    }
   ],
   "source": [
    "# #23\n",
    "# import queue\n",
    "\n",
    "# Q = queue.Queue()\n",
    "# Q.put(0)\n",
    "# Q.put(1)\n",
    "# print(Q.queue)\n",
    "# def Fibonacci(Q, n):\n",
    "#     for _ in range(n):\n",
    "#         a = Q.get()\n",
    "#         b = Q.get()\n",
    "#         c = a + b\n",
    "#         Q.put(b)\n",
    "#         Q.put(c)\n",
    "#         print(\"current queue:\",Q.queue)\n",
    "#     return\n",
    "\n",
    "# Fibonacci(Q, 10)\n",
    "\n",
    "#23 - deque 이용\n",
    "\n",
    "import collections\n",
    "\n",
    "Q = collections.deque()\n",
    "Q.append(0)\n",
    "Q.append(1)\n",
    "\n",
    "print(\"F(0) = 0\")\n",
    "print(\"F(1) = 1\")\n",
    "\n",
    "for i in range(2, 10):\n",
    "    val1 = Q.popleft()\n",
    "    val2 = Q.popleft()\n",
    "    val = val1 + val2\n",
    "    Q.appendleft(val2)\n",
    "    Q.append(val)\n",
    "    print(\"F(%d) =\"%i, val)"
   ]
  },
  {
   "cell_type": "code",
   "execution_count": 96,
   "metadata": {},
   "outputs": [
    {
     "name": "stdout",
     "output_type": "stream",
     "text": [
      "A: {1, 2, 3, 4, 5, 7, 8, 10, 12, 15}\n",
      "B: {1, 2, 6, 8, 9, 10, 11, 12, 17, 19}\n",
      "{1, 2, 3, 4, 5, 6, 7, 8, 9, 10, 11, 12, 15, 17, 19}\n",
      "{1, 2, 8, 10, 12}\n",
      "{3, 4, 5, 7, 15}\n",
      "{6, 9, 11, 17, 19}\n"
     ]
    }
   ],
   "source": [
    "import random\n",
    "random.seed(32)\n",
    "\n",
    "A = set(random.sample(range(1, 20), 10))\n",
    "B = set(random.sample(range(1, 20), 10))\n",
    "\n",
    "print(\"A:\",A)\n",
    "print(\"B:\",B)\n",
    "s1 = A.union(B)\n",
    "s2 = A.intersection(B)\n",
    "s3 = A-B\n",
    "s4 = B-A\n",
    "\n",
    "print(s1)\n",
    "print(s2)\n",
    "print(s3)\n",
    "print(s4)\n",
    "\n",
    "#26"
   ]
  },
  {
   "cell_type": "code",
   "execution_count": 103,
   "metadata": {},
   "outputs": [
    {
     "name": "stdout",
     "output_type": "stream",
     "text": [
      "No\n"
     ]
    },
    {
     "data": {
      "text/plain": [
       "[None]"
      ]
     },
     "execution_count": 103,
     "metadata": {},
     "output_type": "execute_result"
    }
   ],
   "source": [
    "#26\n",
    "A = set([1,2,3,5])\n",
    "B = set([1,2,3,4])\n",
    "\n",
    "\n",
    "[print(\"yes\") if \n",
    "      (A-B == set()) \n",
    "       and\n",
    "       (A!=B)\n",
    "       else\n",
    "       print(\"No\")]"
   ]
  },
  {
   "cell_type": "code",
   "execution_count": 106,
   "metadata": {},
   "outputs": [
    {
     "name": "stdout",
     "output_type": "stream",
     "text": [
      " Key: name, Value: John\n",
      " Key: age, Value: 30\n",
      " Key: city, Value: Boston\n",
      " Key: country, Value: USA\n",
      " Key: occupation, Value: Engineer\n",
      " Key: gender, Value: Male\n",
      " Key: hobby, Value: Reading\n"
     ]
    }
   ],
   "source": [
    "# 딕셔너리 초기값 지정\n",
    "dict1 = {'name': 'John', 'age': 25, 'city': 'Boston','country': 'USA', 'occupation': 'Engineer', 'age': 30}\n",
    "\n",
    "# 딕셔너리에 요소 추가\n",
    "dict1['gender'] = 'Male'\n",
    "dict1['hobby'] = 'Reading'\n",
    "\n",
    "# 딕셔너리의 key와 value 출력\n",
    "for key, value in dict1.items():\n",
    "    print(f\" Key: {key}, Value: {value}\")\n"
   ]
  },
  {
   "cell_type": "code",
   "execution_count": null,
   "metadata": {},
   "outputs": [],
   "source": []
  }
 ],
 "metadata": {
  "kernelspec": {
   "display_name": "Python 3",
   "language": "python",
   "name": "python3"
  },
  "language_info": {
   "codemirror_mode": {
    "name": "ipython",
    "version": 3
   },
   "file_extension": ".py",
   "mimetype": "text/x-python",
   "name": "python",
   "nbconvert_exporter": "python",
   "pygments_lexer": "ipython3",
   "version": "3.11.2"
  }
 },
 "nbformat": 4,
 "nbformat_minor": 2
}
