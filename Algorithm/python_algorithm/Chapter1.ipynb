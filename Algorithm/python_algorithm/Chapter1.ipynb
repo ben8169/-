{
 "cells": [
  {
   "cell_type": "code",
   "execution_count": null,
   "metadata": {},
   "outputs": [],
   "source": [
    "import queue\n",
    "\n",
    "#Queue and stack(lifoqueue)\n",
    "Q = queue.Queue(maxsize=10)\n",
    "S = queue.LifoQueue(maxsize=10)\n",
    "\n",
    "\n",
    "for i in range(1, 11):\n",
    "    Q.put(i)\n",
    "    S.put(i)\n",
    "\n",
    "print(\"Queue: \", Q.queue)\n",
    "print(\"LifoQueue: \", S.queue)\n",
    "\n",
    "Q.get()\n",
    "S.get()\n",
    "\n",
    "print(\"Queue: \", Q.queue)\n",
    "print(\"LifoQueue: \", S.queue)\n",
    "\n",
    "\n",
    "#Set\n",
    "S = set([1, 2, 3, 4, 5])\n",
    "print(\"Set: \", S)\n",
    "print(\"Type: \", type(S))\n",
    "\n",
    "print()\n",
    "\n",
    "FS = frozenset([1, 2, 3, 4, 5])\n",
    "print(\"FSet: \", FS)\n",
    "print(\"Type: \", type(FS))\n",
    "\n",
    "#Dictionary\n",
    "D = {'a': 1, 'b': 2, 'c': 3}\n",
    "D['a'] = 4\n",
    "print(\"Dictionary: \", D)"
   ]
  },
  {
   "cell_type": "markdown",
   "metadata": {},
   "source": [
    "Practice"
   ]
  },
  {
   "cell_type": "code",
   "execution_count": 24,
   "metadata": {},
   "outputs": [
    {
     "name": "stdout",
     "output_type": "stream",
     "text": [
      "[1, 2, 3, 4, 5, 6, 10, 12, 15, 20, 30]\n",
      "[1, 2, 4, 7, 14]\n",
      "4\n"
     ]
    }
   ],
   "source": [
    "#2\n",
    "def gcd2(a, b):\n",
    "    lst_a = []\n",
    "    lst_b = []\n",
    "    lst_c = []\n",
    "    for i in range(1, a):\n",
    "        if a % i == 0:\n",
    "            lst_a.append(i)\n",
    "    for i in range(1, b):\n",
    "        if b % i == 0:\n",
    "            lst_b.append(i)\n",
    "\n",
    "    print(lst_a)\n",
    "    print(lst_b)\n",
    "\n",
    "    for i in lst_a:\n",
    "        for j in lst_b:\n",
    "            if j==i:\n",
    "                lst_c.append(j)\n",
    "\n",
    "    print(max(lst_c))\n",
    "\n",
    "\n",
    "gcd2(60,28)"
   ]
  },
  {
   "cell_type": "code",
   "execution_count": 25,
   "metadata": {},
   "outputs": [
    {
     "name": "stdout",
     "output_type": "stream",
     "text": [
      "[1, 2, 3, 4, 5, 6, 10, 12, 15, 20, 30]\n",
      "4\n"
     ]
    }
   ],
   "source": [
    "#3\n",
    "def gcd3(a, b):\n",
    "    lst_a = []\n",
    "    lst_b = []\n",
    "    lst_c = []\n",
    "    for i in range(1, a):\n",
    "        if a % i == 0:\n",
    "            lst_a.append(i)\n",
    "    print(lst_a)\n",
    "\n",
    "    for i in lst_a:\n",
    "        if (b%i) == 0:\n",
    "            lst_c.append(i)\n",
    "    \n",
    "    print(max(lst_c))\n",
    "\n",
    "gcd3(60,28)\n"
   ]
  },
  {
   "cell_type": "code",
   "execution_count": 26,
   "metadata": {},
   "outputs": [
    {
     "name": "stdout",
     "output_type": "stream",
     "text": [
      "gcd(60,28)\n",
      "gcd(28,4)\n",
      "gcd(4,0)\n",
      "4\n"
     ]
    }
   ],
   "source": [
    "#4\n",
    "def gcd(a, b):\n",
    "    while b != 0:\n",
    "        print(f\"gcd({a},{b})\")\n",
    "        r = a % b\n",
    "        a = b\n",
    "        b = r\n",
    "    print(f\"gcd({a},{b})\")\n",
    "    return a\n",
    "\n",
    "print(gcd(60,28))"
   ]
  },
  {
   "cell_type": "code",
   "execution_count": 27,
   "metadata": {},
   "outputs": [
    {
     "name": "stdout",
     "output_type": "stream",
     "text": [
      "gcd(60,28)\n",
      "gcd(28,4)\n",
      "gcd(4,0)\n",
      "4\n"
     ]
    }
   ],
   "source": [
    "#5\n",
    "def gcd(a, b):\n",
    "    if a < b:\n",
    "        a, b = b, a\n",
    "    while b != 0:\n",
    "        print(f\"gcd({a},{b})\")\n",
    "        r = a % b\n",
    "        a = b\n",
    "        b = r\n",
    "    print(f\"gcd({a},{b})\")\n",
    "    return a\n",
    "\n",
    "print(gcd(28,60))"
   ]
  },
  {
   "cell_type": "code",
   "execution_count": 32,
   "metadata": {},
   "outputs": [
    {
     "name": "stdout",
     "output_type": "stream",
     "text": [
      "[1, 2, 3, 4, 5, 6, 10, 12, 15, 20, 30]\n",
      "[1, 2, 4, 7, 14]\n",
      "4\n",
      "Time taken by gcd2: 0.000093 seconds\n",
      "[1, 2, 3, 4, 5, 6, 10, 12, 15, 20, 30]\n",
      "4\n",
      "Time taken by gcd3: 0.000043 seconds\n"
     ]
    }
   ],
   "source": [
    "import time\n",
    "\n",
    "\n",
    "# Measure time for gcd2\n",
    "start_time = time.time()\n",
    "gcd2(60, 28)\n",
    "end_time = time.time()\n",
    "\n",
    "print(\"Time taken by gcd2: %f seconds\" % (end_time - start_time))\n",
    "# Measure time for gcd3\n",
    "start_time = time.time()\n",
    "gcd3(60, 28)\n",
    "end_time = time.time()\n",
    "\n",
    "print(\"Time taken by gcd3: %f seconds\" % (end_time - start_time))\n"
   ]
  },
  {
   "cell_type": "code",
   "execution_count": null,
   "metadata": {},
   "outputs": [],
   "source": []
  },
  {
   "cell_type": "code",
   "execution_count": 34,
   "metadata": {},
   "outputs": [
    {
     "name": "stdout",
     "output_type": "stream",
     "text": [
      "real\n",
      "first root : 2.000000\n",
      "second root : 1.000000\n",
      "\n",
      "double root\n",
      "root:-1.000000\n",
      "\n",
      "invalid\n"
     ]
    }
   ],
   "source": [
    "#9\n",
    "import math\n",
    "\n",
    "def root(a, b ,c):\n",
    "    if a == 0:\n",
    "        print(\"invalid\")\n",
    "        return\n",
    "    discriminant = math.sqrt(b**2-4*a*c)\n",
    "    if discriminant > 0:\n",
    "        root1 = (-1*b+discriminant)/2*a\n",
    "        root2 = (-1*b-discriminant)/2*a\n",
    "        print(\"real\")\n",
    "        print(\"first root : %f\"%root1)\n",
    "        print(\"second root : %f\"%root2)\n",
    "    elif discriminant == 0:\n",
    "        root1 = (-1*b+discriminant)/2*a\n",
    "        print(\"double root\")\n",
    "        print(\"root:%f\"%root1)\n",
    "    else:\n",
    "        print(\"none\")\n",
    "\n",
    "\n",
    "root(1,-3,2)\n",
    "print()\n",
    "root(1, 2, 1)\n",
    "print()\n",
    "root(0, 2, 1)"
   ]
  },
  {
   "cell_type": "code",
   "execution_count": 42,
   "metadata": {},
   "outputs": [
    {
     "name": "stdout",
     "output_type": "stream",
     "text": [
      "Estimated Pi value: 3.1413671999999999151498286664718762040138244628906250000000000000000000000000000000000000000000000000\n"
     ]
    }
   ],
   "source": [
    "#10\n",
    "#monte_carlo method\n",
    "import random\n",
    "\n",
    "def estimate_pi(num_samples):\n",
    "    inside_circle = 0\n",
    "\n",
    "    for _ in range(num_samples):\n",
    "        x = random.uniform(0, 1)\n",
    "        y = random.uniform(0, 1)\n",
    "\n",
    "        distance = x**2 + y**2\n",
    "\n",
    "        if distance <= 1:\n",
    "            inside_circle += 1\n",
    "\n",
    "    pi_estimate = (inside_circle / num_samples) * 4\n",
    "    return pi_estimate\n",
    "\n",
    "# 시뮬레이션에 사용할 샘플 수 설정\n",
    "num_samples = 10**7\n",
    "\n",
    "# 원주율 추정\n",
    "pi_value = estimate_pi(num_samples)\n",
    "\n",
    "print(f\"Estimated Pi value: {pi_value:.100f}\")\n"
   ]
  },
  {
   "cell_type": "code",
   "execution_count": 51,
   "metadata": {},
   "outputs": [
    {
     "name": "stdout",
     "output_type": "stream",
     "text": [
      "9\n"
     ]
    }
   ],
   "source": [
    "#12\n",
    "def min_distance(A:list):\n",
    "    dmin = abs(A[0] - A[1])\n",
    "    for i in range(len(A)):\n",
    "        for j in range(i+1,len(A)):\n",
    "            if (A[i] != A[j]) and (abs(A[i]-A[j])<dmin):\n",
    "                dmin = abs(A[i]-A[j])\n",
    "    return dmin\n",
    "\n",
    "lst = [10,20,30,39]\n",
    "print(min_distance(lst))\n"
   ]
  },
  {
   "cell_type": "code",
   "execution_count": 59,
   "metadata": {},
   "outputs": [
    {
     "name": "stdout",
     "output_type": "stream",
     "text": [
      "5\n",
      "6\n",
      "7\n"
     ]
    }
   ],
   "source": [
    "class Node:\n",
    "    def __init__(self, data, link):\n",
    "        self.data = data\n",
    "        self.link = link\n",
    "\n",
    "TAIL = Node(None, None)\n",
    "node3 = Node(7, TAIL)\n",
    "node2 = Node(6, node3)\n",
    "node1 = Node(5, node2)\n",
    "\n",
    "# 노드를 순서대로 프린트하는 함수\n",
    "def print_linked_list(head):\n",
    "    current = head\n",
    "    while current is not None:\n",
    "        if current.data == None:\n",
    "            break\n",
    "        print(current.data)\n",
    "        current = current.link\n",
    "\n",
    "# 노드를 순서대로 프린트\n",
    "print_linked_list(node1)\n"
   ]
  },
  {
   "cell_type": "code",
   "execution_count": 70,
   "metadata": {},
   "outputs": [
    {
     "name": "stdout",
     "output_type": "stream",
     "text": [
      "[0, 9]\n"
     ]
    }
   ],
   "source": [
    "#19\n",
    "def find_minmax(A:list):\n",
    "    min = A[0]\n",
    "    max = A[0]\n",
    "    for i in A:\n",
    "        if i > max:\n",
    "            max = i\n",
    "        if i < min:\n",
    "            min = i\n",
    "    return (min,max)\n",
    "\n",
    "\n",
    "\n",
    "lst = list(range(10))\n",
    "# lst = [1]*10\n",
    "print([i for i in find_minmax(lst)])\n",
    "\n"
   ]
  },
  {
   "cell_type": "code",
   "execution_count": 78,
   "metadata": {},
   "outputs": [
    {
     "name": "stdout",
     "output_type": "stream",
     "text": [
      "O\n",
      "L\n",
      "L\n",
      "E\n",
      "H\n"
     ]
    }
   ],
   "source": [
    "#22\n",
    "import queue\n",
    "\n",
    "S = queue.LifoQueue()\n",
    "string = \"HELLO\"\n",
    "for i in string:\n",
    "    S.put(i)\n",
    "\n",
    "# 수정된 부분: len(S.queue) -> range(S.qsize())\n",
    "for i in range(S.qsize()):\n",
    "    print(S.get())\n"
   ]
  },
  {
   "cell_type": "code",
   "execution_count": 82,
   "metadata": {},
   "outputs": [
    {
     "name": "stdout",
     "output_type": "stream",
     "text": [
      "deque([0, 1])\n",
      "current queue: deque([1, 1])\n",
      "current queue: deque([1, 2])\n",
      "current queue: deque([2, 3])\n",
      "current queue: deque([3, 5])\n",
      "current queue: deque([5, 8])\n",
      "current queue: deque([8, 13])\n",
      "current queue: deque([13, 21])\n",
      "current queue: deque([21, 34])\n",
      "current queue: deque([34, 55])\n",
      "current queue: deque([55, 89])\n"
     ]
    }
   ],
   "source": [
    "#23\n",
    "import queue\n",
    "\n",
    "Q = queue.Queue()\n",
    "Q.put(0)\n",
    "Q.put(1)\n",
    "print(Q.queue)\n",
    "def Fibonacci(Q, n):\n",
    "    for _ in range(n):\n",
    "        a = Q.get()\n",
    "        b = Q.get()\n",
    "        c = a + b\n",
    "        Q.put(b)\n",
    "        Q.put(c)\n",
    "        print(\"current queue:\",Q.queue)\n",
    "    return\n",
    "\n",
    "Fibonacci(Q, 10)"
   ]
  },
  {
   "cell_type": "code",
   "execution_count": 96,
   "metadata": {},
   "outputs": [
    {
     "name": "stdout",
     "output_type": "stream",
     "text": [
      "A: {1, 2, 3, 4, 5, 7, 8, 10, 12, 15}\n",
      "B: {1, 2, 6, 8, 9, 10, 11, 12, 17, 19}\n",
      "{1, 2, 3, 4, 5, 6, 7, 8, 9, 10, 11, 12, 15, 17, 19}\n",
      "{1, 2, 8, 10, 12}\n",
      "{3, 4, 5, 7, 15}\n",
      "{6, 9, 11, 17, 19}\n"
     ]
    }
   ],
   "source": [
    "import random\n",
    "random.seed(32)\n",
    "\n",
    "A = set(random.sample(range(1, 20), 10))\n",
    "B = set(random.sample(range(1, 20), 10))\n",
    "\n",
    "print(\"A:\",A)\n",
    "print(\"B:\",B)\n",
    "s1 = A.union(B)\n",
    "s2 = A.intersection(B)\n",
    "s3 = A-B\n",
    "s4 = B-A\n",
    "\n",
    "print(s1)\n",
    "print(s2)\n",
    "print(s3)\n",
    "print(s4)\n",
    "\n",
    "#26"
   ]
  },
  {
   "cell_type": "code",
   "execution_count": 103,
   "metadata": {},
   "outputs": [
    {
     "name": "stdout",
     "output_type": "stream",
     "text": [
      "No\n"
     ]
    },
    {
     "data": {
      "text/plain": [
       "[None]"
      ]
     },
     "execution_count": 103,
     "metadata": {},
     "output_type": "execute_result"
    }
   ],
   "source": [
    "#26\n",
    "A = set([1,2,3,5])\n",
    "B = set([1,2,3,4])\n",
    "\n",
    "\n",
    "[print(\"yes\") if \n",
    "      (A-B == set()) \n",
    "       and\n",
    "       (A!=B)\n",
    "       else\n",
    "       print(\"No\")]"
   ]
  },
  {
   "cell_type": "code",
   "execution_count": 106,
   "metadata": {},
   "outputs": [
    {
     "name": "stdout",
     "output_type": "stream",
     "text": [
      " Key: name, Value: John\n",
      " Key: age, Value: 30\n",
      " Key: city, Value: Boston\n",
      " Key: country, Value: USA\n",
      " Key: occupation, Value: Engineer\n",
      " Key: gender, Value: Male\n",
      " Key: hobby, Value: Reading\n"
     ]
    }
   ],
   "source": [
    "# 딕셔너리 초기값 지정\n",
    "dict1 = {'name': 'John', 'age': 25, 'city': 'Boston','country': 'USA', 'occupation': 'Engineer', 'age': 30}\n",
    "\n",
    "# 딕셔너리에 요소 추가\n",
    "dict1['gender'] = 'Male'\n",
    "dict1['hobby'] = 'Reading'\n",
    "\n",
    "# 딕셔너리의 key와 value 출력\n",
    "for key, value in dict1.items():\n",
    "    print(f\" Key: {key}, Value: {value}\")\n"
   ]
  },
  {
   "cell_type": "code",
   "execution_count": null,
   "metadata": {},
   "outputs": [],
   "source": []
  }
 ],
 "metadata": {
  "kernelspec": {
   "display_name": "Python 3",
   "language": "python",
   "name": "python3"
  },
  "language_info": {
   "codemirror_mode": {
    "name": "ipython",
    "version": 3
   },
   "file_extension": ".py",
   "mimetype": "text/x-python",
   "name": "python",
   "nbconvert_exporter": "python",
   "pygments_lexer": "ipython3",
   "version": "3.11.2"
  }
 },
 "nbformat": 4,
 "nbformat_minor": 2
}
