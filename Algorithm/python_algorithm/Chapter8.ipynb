{
 "cells": [
  {
   "cell_type": "markdown",
   "metadata": {},
   "source": [
    "## 8. 탐욕적 기법\n",
    "\n",
    "- 단기적 최적을 쫓음. 최적해를 항상 찾을 것이라는 보장이 없다. -> 완전 탐색이나 동적 계획법으로 최적해를 구하기 어려울 때 사용\n",
    "<hr>\n",
    "\n",
    "- 가능한(feasible) 해 -> 문제의 제약조건을 모두 만족하며,\n",
    "- 지역적 최적(locally optimal) -> 해당 단계에서 가능한 모든 것 중 가장 좋은 선택이며\n",
    "- 되돌릴 수 없다(irrevocable) -> 한번 만들어지면 후속 알고리즘에서 변경 불가능하다."
   ]
  },
  {
   "cell_type": "code",
   "execution_count": null,
   "metadata": {},
   "outputs": [],
   "source": []
  }
 ],
 "metadata": {
  "language_info": {
   "name": "python"
  }
 },
 "nbformat": 4,
 "nbformat_minor": 2
}
