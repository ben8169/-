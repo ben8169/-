{
 "cells": [
  {
   "cell_type": "markdown",
   "metadata": {},
   "source": [
    "## 8. 탐욕적 기법\n",
    "\n",
    "- 단기적 최적을 쫓음. 최적해를 항상 찾을 것이라는 보장이 없다. -> 완전 탐색이나 동적 계획법으로 최적해를 구하기 어려울 때 사용\n",
    "<hr>\n",
    "\n",
    "- 가능한(feasible) 해 -> 문제의 제약조건을 모두 만족하며,\n",
    "- 지역적 최적(locally optimal) -> 해당 단계에서 가능한 모든 것 중 가장 좋은 선택이며\n",
    "- 되돌릴 수 없다(irrevocable) -> 한번 만들어지면 후속 알고리즘에서 변경 불가능하다."
   ]
  },
  {
   "cell_type": "markdown",
   "metadata": {},
   "source": [
    "### 8.1 거스름돈 최소화 알고리즘\n",
    "\n",
    "- 각 거스름돈이 나누어떨어지면 그리디 알고리즘으로 탐색가능\n",
    "- 그 이외는 분할 정복 해야함(해보기)"
   ]
  },
  {
   "cell_type": "code",
   "execution_count": null,
   "metadata": {},
   "outputs": [],
   "source": []
  },
  {
   "cell_type": "markdown",
   "metadata": {},
   "source": [
    "### 8.2 fractional knapsack"
   ]
  },
  {
   "cell_type": "code",
   "execution_count": null,
   "metadata": {},
   "outputs": [],
   "source": []
  },
  {
   "cell_type": "markdown",
   "metadata": {},
   "source": [
    "### 8.3 MST(최소비용 신장트리): Prim 알고리즘\n",
    "- 가중치가 가장 낮은 정점을 선택해가면서 그래프 생성\n",
    "- 항상 MST를 생성해낸다."
   ]
  },
  {
   "cell_type": "code",
   "execution_count": 2,
   "metadata": {},
   "outputs": [
    {
     "data": {
      "text/plain": [
       "7"
      ]
     },
     "execution_count": 2,
     "metadata": {},
     "output_type": "execute_result"
    }
   ],
   "source": [
    "vertex = ['A','B','C','D','E','F','G']\n",
    "weight = [[None,29,None,None,None,10,None],\n",
    "          [29,None,16,None,None,None,15],\n",
    "          [None,16,None,12,None,None,None],\n",
    "          [None,None,12,None,22,None,18],\n",
    "          [None,None,None,22,None,27,25],\n",
    "          [10,None,None,None,27,None,None],\n",
    "          [None,15,None,18,25,None,None]]\n",
    "INF = 9999\n",
    "\n",
    "def getMinVertex(dist, selected):\n",
    "    minv = -1\n",
    "    mindist = INF\n",
    "    for v in range(len(dist)):\n",
    "        if not selected[v] and dist[v]<mindist:\n",
    "            mindist = dist[v]\n",
    "            minv = v\n",
    "    return minv\n",
    "\n",
    "\n",
    "def MSTPrim(vertex, adj):\n",
    "    vsize = len(vertex)\n",
    "    dist = [INF]*vsize\n",
    "    dist[0] = 0\n",
    "    selected = [False]*vsize\n",
    "\n",
    "    for i in range(vsize):\n",
    "        u = getMinVertex(dist)\n"
   ]
  },
  {
   "cell_type": "code",
   "execution_count": null,
   "metadata": {},
   "outputs": [],
   "source": []
  }
 ],
 "metadata": {
  "kernelspec": {
   "display_name": "Python 3",
   "language": "python",
   "name": "python3"
  },
  "language_info": {
   "codemirror_mode": {
    "name": "ipython",
    "version": 3
   },
   "file_extension": ".py",
   "mimetype": "text/x-python",
   "name": "python",
   "nbconvert_exporter": "python",
   "pygments_lexer": "ipython3",
   "version": "3.11.2"
  }
 },
 "nbformat": 4,
 "nbformat_minor": 2
}
