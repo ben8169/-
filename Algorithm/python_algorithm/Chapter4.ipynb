{
 "cells": [
  {
   "cell_type": "markdown",
   "metadata": {},
   "source": [
    "## 4. 축소 정복 기법\n",
    "- 고정 크기 축소(decrease by a constant) -> factorial\n",
    "- 고정 비율 축소(decrease by a constant factor) -> binary search     \n",
    "- 가변 크기 축소(variable size decrease) -> gcd\n",
    "<hr>\n",
    "\n",
    "- 하향식 축소(순환)\n",
    "- 상향식 축소(반복)"
   ]
  },
  {
   "cell_type": "markdown",
   "metadata": {},
   "source": [
    "### 4.1 삽입 정렬(Insertion sort)\n",
    "\n",
    "- 하향식 : n-1개 정렬 후 n번째 삽입,<br>\n",
    "         n-2개 정렬 후 n-1번째 삽입\n",
    "         ...\n",
    "- 상향식 : 첫번쨰(정렬됨)에 두번쨰 삽입정렬,<br>\n",
    "        세번째 삽입정렬\n",
    "        ...\n",
    "\n",
    "<br>\n",
    "- 최선 O(N), 최악 O(N^2), 평균 O(1/2 N^2)\n",
    "\n",
    "\n",
    "- 레코드 이동이 많으므로 큰 레코드에는 비효율적\n",
    "- 정렬되어 있을수록 효율적"
   ]
  },
  {
   "cell_type": "code",
   "execution_count": 2,
   "metadata": {},
   "outputs": [
    {
     "name": "stdout",
     "output_type": "stream",
     "text": [
      "Original : [5, 3, 8, 4, 9, 1, 6, 2, 7]\n",
      "Step  1 = [3, 5, 8, 4, 9, 1, 6, 2, 7]\n",
      "Step  2 = [3, 5, 8, 4, 9, 1, 6, 2, 7]\n",
      "Step  3 = [3, 4, 5, 8, 9, 1, 6, 2, 7]\n",
      "Step  4 = [3, 4, 5, 8, 9, 1, 6, 2, 7]\n",
      "Step  5 = [1, 3, 4, 5, 8, 9, 6, 2, 7]\n",
      "Step  6 = [1, 3, 4, 5, 6, 8, 9, 2, 7]\n",
      "Step  7 = [1, 2, 3, 4, 5, 6, 8, 9, 7]\n",
      "Step  8 = [1, 2, 3, 4, 5, 6, 7, 8, 9]\n",
      "Insertion : [1, 2, 3, 4, 5, 6, 7, 8, 9]\n"
     ]
    }
   ],
   "source": [
    "#test code\n",
    "def printStep(arr, val):\n",
    "    print(\"Step %2d = \"%val,end='')\n",
    "    print(arr)\n",
    "\n",
    "def insertion_sort(A):\n",
    "    n = len(A)\n",
    "    for i in range(1,n):\n",
    "        key = A[i]\n",
    "        j = i-1\n",
    "        while j>=0 and A[j]>key:\n",
    "            A[j+1] =A[j]\n",
    "            j -= 1\n",
    "        A[j+1] = key\n",
    "        printStep(A,i)\n",
    "\n",
    "data = [5, 3, 8, 4, 9, 1, 6, 2, 7]\n",
    "print(\"Original :\", data)\n",
    "insertion_sort(data)\n",
    "print(\"Insertion :\", data)"
   ]
  },
  {
   "cell_type": "markdown",
   "metadata": {},
   "source": [
    "### 4.2 위상정렬(topological sort)\n",
    "-   방향 그래프에서, 선행순서를 위배하지 않으면서 모든 정점들을 순서대로 나열\n",
    "    - DFS 기반 억지기법\n",
    "    - 축소 정복 기법\n",
    "        - 차수 0인 노드 삭제해가면서\n",
    "- 프로그램 코드 컴파일에서의 명령어 스케줄링, 스프레드시트에서 공식들을 적용하기 위한 셀들의 계산 순서, 링커에서 심벌들의 연관성을 해결하는 응용..."
   ]
  },
  {
   "cell_type": "code",
   "execution_count": 21,
   "metadata": {},
   "outputs": [],
   "source": [
    "mygraph = {\"A\" : {\"C\", \"D\"},\n",
    "           \"B\" : {\"D\", \"E\"},\n",
    "           \"C\" : {\"D\", \"F\"},\n",
    "           \"D\" : {\"F\"},\n",
    "           \"E\" : {\"F\"},\n",
    "           \"F\" : set()\n",
    "           }"
   ]
  },
  {
   "cell_type": "code",
   "execution_count": 26,
   "metadata": {},
   "outputs": [
    {
     "name": "stdout",
     "output_type": "stream",
     "text": [
      "['B', 'E', 'A', 'C', 'D', 'F']\n"
     ]
    }
   ],
   "source": [
    "#sol1 - DFS 기반 억지 기법\n",
    "# def DFS(graph, start, visited):\n",
    "#     if start not in visited:\n",
    "#         visited.add(start)\n",
    "#         print(start, end=' ')\n",
    "#         nbr = graph[start] - visited\n",
    "#         for v in nbr:\n",
    "#             DFS(graph, v, visited)\n",
    "\n",
    "# DFS(mygraph,\"A\",set())\n",
    "\n",
    "\n",
    "def dfs(graph, node, visited, stack):\n",
    "    visited.add(node)\n",
    "    for neighbor in graph[node]:\n",
    "        if neighbor not in visited:\n",
    "            dfs(graph, neighbor, visited, stack)\n",
    "    stack.append(node)\n",
    "\n",
    "def topological_sort(graph):\n",
    "    visited = set()\n",
    "    stack = []\n",
    "    for node in graph:\n",
    "        if node not in visited:\n",
    "            dfs(graph, node, visited, stack)\n",
    "    return stack[::-1]\n",
    "\n",
    "print(topological_sort(mygraph))"
   ]
  },
  {
   "cell_type": "code",
   "execution_count": 15,
   "metadata": {},
   "outputs": [
    {
     "name": "stdout",
     "output_type": "stream",
     "text": [
      "topological_sort:\n",
      "B E A C D F "
     ]
    }
   ],
   "source": [
    "#sol2 - 축소 정복 기법\n",
    "def topological_sort(graph):\n",
    "    inDeg = {}\n",
    "    for v in graph:\n",
    "        inDeg[v] = 0\n",
    "    for v in graph:\n",
    "        for u in graph[v]:\n",
    "            inDeg[u] += 1\n",
    "    vlist = []  #진입차수가 0인 정점 리스트\n",
    "    for v in graph:\n",
    "        if inDeg[v] == 0:\n",
    "            vlist.append(v)\n",
    "\n",
    "    while vlist:\n",
    "        v = vlist.pop()            #B E A C D F \n",
    "        # v = vlist.pop(0)        #A B C E D F\n",
    "        print(v, end=' ')\n",
    "\n",
    "        for u in graph[v]:\n",
    "            inDeg[u] -= 1\n",
    "            if inDeg[u] == 0:\n",
    "                vlist.append(u)\n",
    "\n",
    "print(\"topological_sort:\")\n",
    "\n",
    "topological_sort(mygraph)\n",
    "\n"
   ]
  },
  {
   "cell_type": "markdown",
   "metadata": {},
   "source": [
    "### 4.3 이진 탐색\n",
    "\n",
    "- 정렬만 되어 있다면 매우 효율적인 알고리즘\n",
    "- 최선 O(N) 가운데, 최악 O(logN) 양 끝\n",
    "- 수정, 변경 잦을 경우 적합 X"
   ]
  },
  {
   "cell_type": "code",
   "execution_count": 34,
   "metadata": {},
   "outputs": [],
   "source": [
    "#1. 순환 구조\n",
    "def binary_search(A, key, low, high):\n",
    "    if low<=high:\n",
    "        mid = (low+high)//2\n",
    "        if key == A[mid]:\n",
    "            return mid\n",
    "        elif key > A[mid]:\n",
    "            return binary_search(A, key, mid+1,high)\n",
    "        else:\n",
    "            return binary_search(A, key, low, mid-1)\n",
    "    return -1"
   ]
  },
  {
   "cell_type": "code",
   "execution_count": 35,
   "metadata": {},
   "outputs": [],
   "source": [
    "#2. 반복 구조\n",
    "def binary_search_iter(A, key, low, high):\n",
    "    while low <= high:\n",
    "        mid = (low+high)//2\n",
    "        if A[mid] == key:\n",
    "            return mid\n",
    "        elif A[mid] > key:\n",
    "            high = mid-1\n",
    "        elif A[mid] < key:\n",
    "            low = mid +1\n",
    "    return -1"
   ]
  },
  {
   "cell_type": "code",
   "execution_count": 36,
   "metadata": {},
   "outputs": [
    {
     "name": "stdout",
     "output_type": "stream",
     "text": [
      "N: 16\n",
      "Before: [1, 3, 8, 13, 13, 16, 21, 26, 27, 30, 33, 36, 39, 41, 44, 49]\n",
      "0\n",
      "14\n",
      "-1\n",
      "-1\n"
     ]
    }
   ],
   "source": [
    "#test code\n",
    "listA = [1,3,8,13,13,16,21,26,27,30,33,36,39,41,44,49]\n",
    "n = len(listA)\n",
    "print(\"N:\",n)\n",
    "print(\"Before:\",listA)\n",
    "print(binary_search(listA, 1,0 ,n))\n",
    "print(binary_search_iter(listA, 44, 0 ,n))\n",
    "print(binary_search(listA, 32, 0 ,n))\n",
    "print(binary_search_iter(listA, 32, 0 ,n))"
   ]
  },
  {
   "cell_type": "markdown",
   "metadata": {},
   "source": [
    "### 4.4 거듭제곱 문제 \n",
    "$x^n = (x^2)^n/2$   를 재귀적으로 (O(logn))\n",
    "cf)반복 O(N), 단순재귀 O(N)"
   ]
  },
  {
   "cell_type": "code",
   "execution_count": 44,
   "metadata": {},
   "outputs": [
    {
     "data": {
      "text/plain": [
       "1024"
      ]
     },
     "execution_count": 44,
     "metadata": {},
     "output_type": "execute_result"
    }
   ],
   "source": [
    "def my_power(x, n):\n",
    "    if n == 0:\n",
    "        return 1\n",
    "    else:\n",
    "        return x * my_power(x,n-1)\n",
    "    \n",
    "my_power(2,10)"
   ]
  },
  {
   "cell_type": "code",
   "execution_count": 45,
   "metadata": {},
   "outputs": [
    {
     "data": {
      "text/plain": [
       "1024"
      ]
     },
     "execution_count": 45,
     "metadata": {},
     "output_type": "execute_result"
    }
   ],
   "source": [
    "def slow_power(x, n):\n",
    "    result = 1\n",
    "    for i in range(n):\n",
    "        result *= x\n",
    "    return result\n",
    "slow_power(2,10)"
   ]
  },
  {
   "cell_type": "code",
   "execution_count": 46,
   "metadata": {},
   "outputs": [],
   "source": [
    "def power(x,n):\n",
    "    if n == 0:\n",
    "        return 1\n",
    "    elif (n%2) == 0:\n",
    "        return power(x*x,n//2)\n",
    "    else:\n",
    "        return x * power(x*x,(n-1)//2)"
   ]
  },
  {
   "cell_type": "code",
   "execution_count": 48,
   "metadata": {},
   "outputs": [
    {
     "name": "stdout",
     "output_type": "stream",
     "text": [
      "축소정복\n",
      "0.1162559986114502\n",
      "재귀\n",
      "3.2073349952697754\n",
      "반복\n",
      "1.5111119747161865\n"
     ]
    }
   ],
   "source": [
    "import time\n",
    "\n",
    "t1 = time.time()\n",
    "for _ in range(100000): power(2,500)\n",
    "t2 = time.time()\n",
    "for _ in range(100000): my_power(2,500)\n",
    "t3 = time.time()\n",
    "for _ in range(100000) : slow_power(2,500)\n",
    "t4 = time.time()\n",
    "\n",
    "print(\"축소정복\")\n",
    "print(t2-t1)\n",
    "print(\"재귀\")\n",
    "print(t3-t2)\n",
    "print(\"반복\")\n",
    "print(t4-t3)"
   ]
  },
  {
   "cell_type": "code",
   "execution_count": 49,
   "metadata": {},
   "outputs": [],
   "source": [
    "#행렬의 거듭제곱\n",
    "import numpy as np\n",
    "\n",
    "def powerMat(x, n):\n",
    "    if n==1:\n",
    "        return x\n",
    "    elif (n%2) == 0:\n",
    "        return powerMat(np.matmul(x,x), n//2)\n",
    "    else:\n",
    "        return np.matmul(x,powerMat(np.matmul(x,x), (n-1)//2))\n",
    "    \n",
    "\n",
    "def slow_powerMat(matrix, power):\n",
    "    result = np.eye(matrix.shape[0])  # 초기화: 항등 행렬\n",
    "    for _ in range(power):\n",
    "        result = np.matmul(result, matrix)\n",
    "    return result\n"
   ]
  },
  {
   "cell_type": "code",
   "execution_count": 54,
   "metadata": {},
   "outputs": [
    {
     "name": "stdout",
     "output_type": "stream",
     "text": [
      "축소정복\n",
      "0.21066594123840332\n",
      "반복\n",
      "0.38330698013305664\n",
      "np 모듈\n",
      "0.1716780662536621\n"
     ]
    }
   ],
   "source": [
    "import time\n",
    "\n",
    "random_matrix = np.random.rand(5, 5)\n",
    "t1 = time.time()\n",
    "for _ in range(100000): powerMat(random_matrix, 5)\n",
    "t2 = time.time()\n",
    "for _ in range(100000): slow_powerMat(random_matrix, 5)\n",
    "t3 = time.time()\n",
    "for _ in range(100000) : np.linalg.matrix_power(random_matrix, 3)\n",
    "t4 = time.time()\n",
    "\n",
    "print(\"축소정복\")\n",
    "print(t2-t1)\n",
    "print(\"반복\")\n",
    "print(t3-t2)\n",
    "print(\"np 모듈\")\n",
    "print(t4-t3)"
   ]
  },
  {
   "cell_type": "markdown",
   "metadata": {},
   "source": [
    "### 4.5 선택 문제: k번쨰 작은 수 찾기\n",
    "- 1. 정렬하기\n",
    "- 2. 축소 정복 (다 정렬할 필요 없이, pivot 기준으로 작은/큰 수로만 나누면서(O(N),필요 없는 리스트를 반씩 삭제해 나감(O(log(N)))"
   ]
  },
  {
   "cell_type": "code",
   "execution_count": 21,
   "metadata": {},
   "outputs": [
    {
     "ename": "RecursionError",
     "evalue": "maximum recursion depth exceeded",
     "output_type": "error",
     "traceback": [
      "\u001b[0;31m---------------------------------------------------------------------------\u001b[0m",
      "\u001b[0;31mRecursionError\u001b[0m                            Traceback (most recent call last)",
      "Cell \u001b[0;32mIn[21], line 22\u001b[0m\n\u001b[1;32m     18\u001b[0m         \u001b[38;5;28;01mreturn\u001b[39;00m quick_select(A[k_num\u001b[38;5;241m+\u001b[39m\u001b[38;5;241m1\u001b[39m:], k\u001b[38;5;241m-\u001b[39mk_num)\n\u001b[1;32m     21\u001b[0m lst \u001b[38;5;241m=\u001b[39m [\u001b[38;5;241m5\u001b[39m,\u001b[38;5;241m3\u001b[39m,\u001b[38;5;241m8\u001b[39m,\u001b[38;5;241m4\u001b[39m,\u001b[38;5;241m9\u001b[39m,\u001b[38;5;241m1\u001b[39m,\u001b[38;5;241m6\u001b[39m,\u001b[38;5;241m2\u001b[39m,\u001b[38;5;241m7\u001b[39m]\n\u001b[0;32m---> 22\u001b[0m \u001b[43mquick_select\u001b[49m\u001b[43m(\u001b[49m\u001b[43mlst\u001b[49m\u001b[43m,\u001b[49m\u001b[38;5;241;43m1\u001b[39;49m\u001b[43m)\u001b[49m\n",
      "Cell \u001b[0;32mIn[21], line 16\u001b[0m, in \u001b[0;36mquick_select\u001b[0;34m(A, k)\u001b[0m\n\u001b[1;32m     14\u001b[0m     \u001b[38;5;28;01mreturn\u001b[39;00m A[k_num\u001b[38;5;241m-\u001b[39m\u001b[38;5;241m1\u001b[39m]\n\u001b[1;32m     15\u001b[0m \u001b[38;5;28;01melif\u001b[39;00m k \u001b[38;5;241m<\u001b[39m k_num:\n\u001b[0;32m---> 16\u001b[0m     \u001b[38;5;28;01mreturn\u001b[39;00m \u001b[43mquick_select\u001b[49m\u001b[43m(\u001b[49m\u001b[43mA\u001b[49m\u001b[43m[\u001b[49m\u001b[43m:\u001b[49m\u001b[43mk_num\u001b[49m\u001b[43m]\u001b[49m\u001b[43m,\u001b[49m\u001b[43m \u001b[49m\u001b[43mk\u001b[49m\u001b[43m)\u001b[49m\n\u001b[1;32m     17\u001b[0m \u001b[38;5;28;01melse\u001b[39;00m:\n\u001b[1;32m     18\u001b[0m     \u001b[38;5;28;01mreturn\u001b[39;00m quick_select(A[k_num\u001b[38;5;241m+\u001b[39m\u001b[38;5;241m1\u001b[39m:], k\u001b[38;5;241m-\u001b[39mk_num)\n",
      "Cell \u001b[0;32mIn[21], line 16\u001b[0m, in \u001b[0;36mquick_select\u001b[0;34m(A, k)\u001b[0m\n\u001b[1;32m     14\u001b[0m     \u001b[38;5;28;01mreturn\u001b[39;00m A[k_num\u001b[38;5;241m-\u001b[39m\u001b[38;5;241m1\u001b[39m]\n\u001b[1;32m     15\u001b[0m \u001b[38;5;28;01melif\u001b[39;00m k \u001b[38;5;241m<\u001b[39m k_num:\n\u001b[0;32m---> 16\u001b[0m     \u001b[38;5;28;01mreturn\u001b[39;00m \u001b[43mquick_select\u001b[49m\u001b[43m(\u001b[49m\u001b[43mA\u001b[49m\u001b[43m[\u001b[49m\u001b[43m:\u001b[49m\u001b[43mk_num\u001b[49m\u001b[43m]\u001b[49m\u001b[43m,\u001b[49m\u001b[43m \u001b[49m\u001b[43mk\u001b[49m\u001b[43m)\u001b[49m\n\u001b[1;32m     17\u001b[0m \u001b[38;5;28;01melse\u001b[39;00m:\n\u001b[1;32m     18\u001b[0m     \u001b[38;5;28;01mreturn\u001b[39;00m quick_select(A[k_num\u001b[38;5;241m+\u001b[39m\u001b[38;5;241m1\u001b[39m:], k\u001b[38;5;241m-\u001b[39mk_num)\n",
      "    \u001b[0;31m[... skipping similar frames: quick_select at line 16 (2971 times)]\u001b[0m\n",
      "Cell \u001b[0;32mIn[21], line 16\u001b[0m, in \u001b[0;36mquick_select\u001b[0;34m(A, k)\u001b[0m\n\u001b[1;32m     14\u001b[0m     \u001b[38;5;28;01mreturn\u001b[39;00m A[k_num\u001b[38;5;241m-\u001b[39m\u001b[38;5;241m1\u001b[39m]\n\u001b[1;32m     15\u001b[0m \u001b[38;5;28;01melif\u001b[39;00m k \u001b[38;5;241m<\u001b[39m k_num:\n\u001b[0;32m---> 16\u001b[0m     \u001b[38;5;28;01mreturn\u001b[39;00m \u001b[43mquick_select\u001b[49m\u001b[43m(\u001b[49m\u001b[43mA\u001b[49m\u001b[43m[\u001b[49m\u001b[43m:\u001b[49m\u001b[43mk_num\u001b[49m\u001b[43m]\u001b[49m\u001b[43m,\u001b[49m\u001b[43m \u001b[49m\u001b[43mk\u001b[49m\u001b[43m)\u001b[49m\n\u001b[1;32m     17\u001b[0m \u001b[38;5;28;01melse\u001b[39;00m:\n\u001b[1;32m     18\u001b[0m     \u001b[38;5;28;01mreturn\u001b[39;00m quick_select(A[k_num\u001b[38;5;241m+\u001b[39m\u001b[38;5;241m1\u001b[39m:], k\u001b[38;5;241m-\u001b[39mk_num)\n",
      "\u001b[0;31mRecursionError\u001b[0m: maximum recursion depth exceeded"
     ]
    }
   ],
   "source": [
    "def quick_select(A, k):\n",
    "    pivot = A[0]\n",
    "    left_list, right_list = [],[]\n",
    "    for i in A[1:]:\n",
    "        if i>pivot:\n",
    "            right_list.append(i)\n",
    "        elif i<pivot:\n",
    "            left_list.append(i)\n",
    "    left_num = len(left_list)\n",
    "    k_num = left_num + 1\n",
    "    right_num = len(right_list)\n",
    "\n",
    "    if k == k_num:\n",
    "        return A[k_num-1]\n",
    "    elif k < k_num:\n",
    "        return quick_select(A[:k_num], k)\n",
    "    else:\n",
    "        return quick_select(A[k_num+1:], k-k_num)\n",
    "\n",
    "\n",
    "lst = [5,3,8,4,9,1,6,2,7]\n",
    "quick_select(lst,1)"
   ]
  },
  {
   "cell_type": "markdown",
   "metadata": {},
   "source": [
    "### 4.6 축소 정복 기법의 추가 예시\n",
    "\n",
    "- 위조 동전 찾기: 고정 비율 축소(log_2_n 두 묶음, log_3_n 세 묶음)\n",
    "- 보간 탐색 \n",
    "    - 이진 탐색에서의 mid뿐만 아니라, low, high까지 트래킹\n",
    "    - 찾는 값과 위치가 비례한다고 가정함.<br>\n",
    "     (A[high]-A[low]) : key-A[low] = high-low : 예상탐색위치-low\n",
    "    - 가변크기축소(보통 logN)\n",
    "\n",
    "\n",
    "</br>"
   ]
  },
  {
   "cell_type": "markdown",
   "metadata": {},
   "source": [
    "## practice"
   ]
  },
  {
   "cell_type": "code",
   "execution_count": 48,
   "metadata": {},
   "outputs": [
    {
     "data": {
      "text/plain": [
       "[9, 13]"
      ]
     },
     "execution_count": 48,
     "metadata": {},
     "output_type": "execute_result"
    }
   ],
   "source": [
    "#1. 삽입정렬을 순환구조(하향식)로 표현\n",
    "B = []\n",
    "def insertion_sort(A,key):\n",
    "    if key == None : key = A[0]\n",
    "    global B\n",
    "    if len(A)==1:\n",
    "        B.append(A[0])\n",
    "        if A[0] >= key:\n",
    "            return B.insert(0,key)\n",
    "        elif A[-1] <= key:\n",
    "            \n",
    "            return B.append(key)\n",
    "    else:\n",
    "        insertion_sort(A[1:], A[0])\n",
    "    \n",
    "    return B\n",
    "\n",
    "\n",
    "A = [3,4,1,2,6,8,9,13]\n",
    "insertion_sort(A,None)"
   ]
  },
  {
   "cell_type": "code",
   "execution_count": 53,
   "metadata": {},
   "outputs": [
    {
     "data": {
      "text/plain": [
       "['A', 'G', 'H', 'I', 'L', 'M', 'O', 'R', 'T']"
      ]
     },
     "execution_count": 53,
     "metadata": {},
     "output_type": "execute_result"
    }
   ],
   "source": [
    "#2~5\n",
    "def insertion_sort(A):\n",
    "    for i in range(1,len(A)):\n",
    "        j = i-1\n",
    "        while j>=0 and A[j]>A[j+1]:\n",
    "            A[j+1],A[j] = A[j], A[j+1]\n",
    "            j-=1\n",
    "    return A\n",
    "insertion_sort(list('ALGORITHM'))"
   ]
  },
  {
   "cell_type": "code",
   "execution_count": 54,
   "metadata": {},
   "outputs": [
    {
     "name": "stdout",
     "output_type": "stream",
     "text": [
      "1 [4, 7, 9, 6, 3, 8, 7, 5]\n",
      "2 [4, 7, 9, 6, 3, 8, 7, 5]\n",
      "3 [4, 6, 7, 9, 3, 8, 7, 5]\n",
      "4 [3, 4, 6, 7, 9, 8, 7, 5]\n",
      "5 [3, 4, 6, 7, 8, 9, 7, 5]\n",
      "6 [3, 4, 6, 7, 7, 8, 9, 5]\n",
      "7 [3, 4, 5, 6, 7, 7, 8, 9]\n"
     ]
    },
    {
     "data": {
      "text/plain": [
       "[3, 4, 5, 6, 7, 7, 8, 9]"
      ]
     },
     "execution_count": 54,
     "metadata": {},
     "output_type": "execute_result"
    }
   ],
   "source": [
    "#3\n",
    "def insertion_sort(A):\n",
    "    for i in range(1,len(A)):\n",
    "        j = i-1\n",
    "        while j>=0 and A[j]>A[j+1]:\n",
    "            A[j+1],A[j] = A[j], A[j+1]\n",
    "            j-=1\n",
    "        print(i, A)\n",
    "    return A\n",
    "insertion_sort([7,4,9,6,3,8,7,5])"
   ]
  },
  {
   "cell_type": "code",
   "execution_count": 78,
   "metadata": {},
   "outputs": [
    {
     "name": "stdout",
     "output_type": "stream",
     "text": [
      "[3, 11, 38, 40, 46, 49, 55, 68, 76, 100]\n"
     ]
    },
    {
     "data": {
      "text/plain": [
       "1"
      ]
     },
     "execution_count": 78,
     "metadata": {},
     "output_type": "execute_result"
    }
   ],
   "source": [
    "#15. ternary search\n",
    "def ternary_search(A, key):\n",
    "    n = len(A)\n",
    "    pivot1 = A[n//3]\n",
    "    pivot2 = A[n//3*2]\n",
    "    \n",
    "    if key == pivot1:\n",
    "        return n//3\n",
    "    elif key == pivot2:\n",
    "        return n//3*2\n",
    "    elif key<pivot1:\n",
    "        return ternary_search(A[:n//3],key)\n",
    "    elif key>pivot2:\n",
    "        return ternary_search(A[n//3*2+1:],key)\n",
    "    else:\n",
    "        return ternary_search(A[n//3+1:n//3*2])\n",
    "    \n",
    "import random\n",
    "random.seed(23)\n",
    "lst = [random.randint(1,100) for _ in range(10)]\n",
    "lst.sort()\n",
    "print(lst)\n",
    "ternary_search(lst,76)"
   ]
  },
  {
   "cell_type": "code",
   "execution_count": 108,
   "metadata": {},
   "outputs": [
    {
     "name": "stdout",
     "output_type": "stream",
     "text": [
      "M[0][0] =  22\n",
      "M[0][1] =  28\n",
      "M[1][0] =  49\n",
      "M[1][1] =  64\n",
      "M[2][0] =  76\n",
      "M[2][1] =  100\n"
     ]
    },
    {
     "data": {
      "text/plain": [
       "[[22, 28], [49, 64], [76, 100]]"
      ]
     },
     "execution_count": 108,
     "metadata": {},
     "output_type": "execute_result"
    }
   ],
   "source": [
    "#16. \n",
    "def multMul(M1,M2):\n",
    "    M2_T = [[M2[i][j] for i in range(len(M2))] for j in range(len(M2[0]))]\n",
    "    # M = [[0]*len(M2[0])]*len(M1) #이렇게 하면 안됨(아래 참고)\n",
    "    M = [[0] * len(M2[0]) for _ in range(len(M1))]\n",
    "    for i in range(len(M1)):  \n",
    "        for j in range(len(M2_T)):     \n",
    "            M[i][j] = sum(x*y for x,y in zip(M1[i],M2_T[j]))\n",
    "            print(f\"M[{i}][{j}] = \",M[i][j])\n",
    "    return M\n",
    "\n",
    "\n",
    "M1 = [[1,2,3],[4,5,6],[7,8,9]]\n",
    "M2 = [[1,2],[3,4],[5,6]]\n",
    "multMul(M1,M2)\n"
   ]
  },
  {
   "cell_type": "code",
   "execution_count": 102,
   "metadata": {},
   "outputs": [
    {
     "name": "stdout",
     "output_type": "stream",
     "text": [
      "[[ 22  28]\n",
      " [ 49  64]\n",
      " [ 76 100]]\n"
     ]
    }
   ],
   "source": [
    "import numpy as np\n",
    "\n",
    "M1 = np.array([[1, 2, 3], [4, 5, 6], [7, 8, 9]])\n",
    "M2 = np.array([[1, 2], [3, 4], [5, 6]])\n",
    "\n",
    "result = M1 @ M2\n",
    "print(result)\n"
   ]
  },
  {
   "cell_type": "code",
   "execution_count": 120,
   "metadata": {},
   "outputs": [
    {
     "name": "stdout",
     "output_type": "stream",
     "text": [
      "[[0, 0, 1], [0, 0, 0], [0, 0, 0]]\n",
      "[[0, 0, 1], [0, 0, 1], [0, 0, 1]]\n"
     ]
    }
   ],
   "source": [
    "#다차원 리스트 선언 주의\n",
    "lst1 = [[0]*3 for _ in range(3)]\n",
    "lst1[0][2] = 1\n",
    "print(lst1)\n",
    "\n",
    "lst2 = [[0]*3]*3\n",
    "lst2[0][2] = 1\n",
    "print(lst2)"
   ]
  },
  {
   "cell_type": "code",
   "execution_count": null,
   "metadata": {},
   "outputs": [],
   "source": []
  }
 ],
 "metadata": {
  "kernelspec": {
   "display_name": "Python 3",
   "language": "python",
   "name": "python3"
  },
  "language_info": {
   "codemirror_mode": {
    "name": "ipython",
    "version": 3
   },
   "file_extension": ".py",
   "mimetype": "text/x-python",
   "name": "python",
   "nbconvert_exporter": "python",
   "pygments_lexer": "ipython3",
   "version": "3.11.2"
  }
 },
 "nbformat": 4,
 "nbformat_minor": 2
}
