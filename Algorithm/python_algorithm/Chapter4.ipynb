{
 "cells": [
  {
   "cell_type": "markdown",
   "metadata": {},
   "source": [
    "## 4. 축소 정복 기법\n",
    "- 고정 크기 축소(decrease by a constant) -> factorial\n",
    "- 고정 비율 축소(decrease by a constant factor) -> binary search     \n",
    "- 가변 크기 축소(variable size decrease) -> gcd\n",
    "<hr>\n",
    "\n",
    "- 하향식 축소(순환)\n",
    "- 상향식 축소(반복)"
   ]
  },
  {
   "cell_type": "markdown",
   "metadata": {},
   "source": [
    "### 4.1 삽입 정렬(Insertion sort)\n",
    "\n",
    "- 하향식 : n-1개 정렬 후 n번째 삽입,<br>\n",
    "         n-2개 정렬 후 n-1번째 삽입\n",
    "         ...\n",
    "- 상향식 : 첫번쨰(정렬됨)에 두번쨰 삽입정렬,<br>\n",
    "        세번째 삽입정렬\n",
    "        ...\n",
    "\n",
    "<br>\n",
    "- 최선 O(N), 최악 O(N^2), 평균 O(1/2 N^2)\n",
    "\n",
    "\n",
    "- 레코드 이동이 많으므로 큰 레코드에는 비효율적\n",
    "- 정렬되어 있을수록 효율적"
   ]
  },
  {
   "cell_type": "code",
   "execution_count": 2,
   "metadata": {},
   "outputs": [
    {
     "name": "stdout",
     "output_type": "stream",
     "text": [
      "Original : [5, 3, 8, 4, 9, 1, 6, 2, 7]\n",
      "Step  1 = [3, 5, 8, 4, 9, 1, 6, 2, 7]\n",
      "Step  2 = [3, 5, 8, 4, 9, 1, 6, 2, 7]\n",
      "Step  3 = [3, 4, 5, 8, 9, 1, 6, 2, 7]\n",
      "Step  4 = [3, 4, 5, 8, 9, 1, 6, 2, 7]\n",
      "Step  5 = [1, 3, 4, 5, 8, 9, 6, 2, 7]\n",
      "Step  6 = [1, 3, 4, 5, 6, 8, 9, 2, 7]\n",
      "Step  7 = [1, 2, 3, 4, 5, 6, 8, 9, 7]\n",
      "Step  8 = [1, 2, 3, 4, 5, 6, 7, 8, 9]\n",
      "Insertion : [1, 2, 3, 4, 5, 6, 7, 8, 9]\n"
     ]
    }
   ],
   "source": [
    "#test code\n",
    "def printStep(arr, val):\n",
    "    print(\"Step %2d = \"%val,end='')\n",
    "    print(arr)\n",
    "\n",
    "def insertion_sort(A):\n",
    "    n = len(A)\n",
    "    for i in range(1,n):\n",
    "        key = A[i]\n",
    "        j = i-1\n",
    "        while j>=0 and A[j]>key:\n",
    "            A[j+1] =A[j]\n",
    "            j -= 1\n",
    "        A[j+1] = key\n",
    "        printStep(A,i)\n",
    "\n",
    "data = [5, 3, 8, 4, 9, 1, 6, 2, 7]\n",
    "print(\"Original :\", data)\n",
    "insertion_sort(data)\n",
    "print(\"Insertion :\", data)"
   ]
  },
  {
   "cell_type": "markdown",
   "metadata": {},
   "source": [
    "### 4.2 위상정렬(topological sort)\n",
    "-   방향 그래프에서, 선행순서를 위배하지 않으면서 모든 정점들을 순서대로 나열\n",
    "    - DFS 기반 억지기법\n",
    "    - 축소 정복 기법\n",
    "        - 차수 0인 노드 삭제해가면서\n",
    "- 프로그램 코드 컴파일에서의 명령어 스케줄링, 스프레드시트에서 공식들을 적용하기 위한 셀들의 계산 순서, 링커에서 심벌들의 연관성을 해결하는 응용..."
   ]
  },
  {
   "cell_type": "code",
   "execution_count": 21,
   "metadata": {},
   "outputs": [],
   "source": [
    "mygraph = {\"A\" : {\"C\", \"D\"},\n",
    "           \"B\" : {\"D\", \"E\"},\n",
    "           \"C\" : {\"D\", \"F\"},\n",
    "           \"D\" : {\"F\"},\n",
    "           \"E\" : {\"F\"},\n",
    "           \"F\" : set()\n",
    "           }"
   ]
  },
  {
   "cell_type": "code",
   "execution_count": 26,
   "metadata": {},
   "outputs": [
    {
     "name": "stdout",
     "output_type": "stream",
     "text": [
      "['B', 'E', 'A', 'C', 'D', 'F']\n"
     ]
    }
   ],
   "source": [
    "#sol1 - DFS 기반 억지 기법\n",
    "# def DFS(graph, start, visited):\n",
    "#     if start not in visited:\n",
    "#         visited.add(start)\n",
    "#         print(start, end=' ')\n",
    "#         nbr = graph[start] - visited\n",
    "#         for v in nbr:\n",
    "#             DFS(graph, v, visited)\n",
    "\n",
    "# DFS(mygraph,\"A\",set())\n",
    "\n",
    "\n",
    "def dfs(graph, node, visited, stack):\n",
    "    visited.add(node)\n",
    "    for neighbor in graph[node]:\n",
    "        if neighbor not in visited:\n",
    "            dfs(graph, neighbor, visited, stack)\n",
    "    stack.append(node)\n",
    "\n",
    "def topological_sort(graph):\n",
    "    visited = set()\n",
    "    stack = []\n",
    "    for node in graph:\n",
    "        if node not in visited:\n",
    "            dfs(graph, node, visited, stack)\n",
    "    return stack[::-1]\n",
    "\n",
    "print(topological_sort(mygraph))"
   ]
  },
  {
   "cell_type": "code",
   "execution_count": 15,
   "metadata": {},
   "outputs": [
    {
     "name": "stdout",
     "output_type": "stream",
     "text": [
      "topological_sort:\n",
      "B E A C D F "
     ]
    }
   ],
   "source": [
    "#sol2 - 축소 정복 기법\n",
    "def topological_sort(graph):\n",
    "    inDeg = {}\n",
    "    for v in graph:\n",
    "        inDeg[v] = 0\n",
    "    for v in graph:\n",
    "        for u in graph[v]:\n",
    "            inDeg[u] += 1\n",
    "    vlist = []  #진입차수가 0인 정점 리스트\n",
    "    for v in graph:\n",
    "        if inDeg[v] == 0:\n",
    "            vlist.append(v)\n",
    "\n",
    "    while vlist:\n",
    "        v = vlist.pop()            #B E A C D F \n",
    "        # v = vlist.pop(0)        #A B C E D F\n",
    "        print(v, end=' ')\n",
    "\n",
    "        for u in graph[v]:\n",
    "            inDeg[u] -= 1\n",
    "            if inDeg[u] == 0:\n",
    "                vlist.append(u)\n",
    "\n",
    "print(\"topological_sort:\")\n",
    "\n",
    "topological_sort(mygraph)\n",
    "\n"
   ]
  },
  {
   "cell_type": "markdown",
   "metadata": {},
   "source": [
    "### 4.3 이진 탐색\n",
    "\n",
    "- 정렬만 되어 있다면 매우 효율적인 알고리즘\n",
    "- 최선 O(N) 가운데, 최악 O(logN) 양 끝\n",
    "- 수정, 변경 잦을 경우 적합 X"
   ]
  },
  {
   "cell_type": "code",
   "execution_count": 34,
   "metadata": {},
   "outputs": [],
   "source": [
    "#1. 순환 구조\n",
    "def binary_search(A, key, low, high):\n",
    "    if low<=high:\n",
    "        mid = (low+high)//2\n",
    "        if key == A[mid]:\n",
    "            return mid\n",
    "        elif key > A[mid]:\n",
    "            return binary_search(A, key, mid+1,high)\n",
    "        else:\n",
    "            return binary_search(A, key, low, mid-1)\n",
    "    return -1"
   ]
  },
  {
   "cell_type": "code",
   "execution_count": 35,
   "metadata": {},
   "outputs": [],
   "source": [
    "#2. 반복 구조\n",
    "def binary_search_iter(A, key, low, high):\n",
    "    while low <= high:\n",
    "        mid = (low+high)//2\n",
    "        if A[mid] == key:\n",
    "            return mid\n",
    "        elif A[mid] > key:\n",
    "            high = mid-1\n",
    "        elif A[mid] < key:\n",
    "            low = mid +1\n",
    "    return -1"
   ]
  },
  {
   "cell_type": "code",
   "execution_count": 36,
   "metadata": {},
   "outputs": [
    {
     "name": "stdout",
     "output_type": "stream",
     "text": [
      "N: 16\n",
      "Before: [1, 3, 8, 13, 13, 16, 21, 26, 27, 30, 33, 36, 39, 41, 44, 49]\n",
      "0\n",
      "14\n",
      "-1\n",
      "-1\n"
     ]
    }
   ],
   "source": [
    "#test code\n",
    "listA = [1,3,8,13,13,16,21,26,27,30,33,36,39,41,44,49]\n",
    "n = len(listA)\n",
    "print(\"N:\",n)\n",
    "print(\"Before:\",listA)\n",
    "print(binary_search(listA, 1,0 ,n))\n",
    "print(binary_search_iter(listA, 44, 0 ,n))\n",
    "print(binary_search(listA, 32, 0 ,n))\n",
    "print(binary_search_iter(listA, 32, 0 ,n))"
   ]
  },
  {
   "cell_type": "markdown",
   "metadata": {},
   "source": [
    "### 4.4 거듭제곱 문제 \n",
    "$x^n = (x^2)^n/2$   를 재귀적으로 (O(logn))\n",
    "cf)반복 O(N), 단순재귀 O(N)"
   ]
  },
  {
   "cell_type": "code",
   "execution_count": 44,
   "metadata": {},
   "outputs": [
    {
     "data": {
      "text/plain": [
       "1024"
      ]
     },
     "execution_count": 44,
     "metadata": {},
     "output_type": "execute_result"
    }
   ],
   "source": [
    "def my_power(x, n):\n",
    "    if n == 0:\n",
    "        return 1\n",
    "    else:\n",
    "        return x * my_power(x,n-1)\n",
    "    \n",
    "my_power(2,10)"
   ]
  },
  {
   "cell_type": "code",
   "execution_count": 45,
   "metadata": {},
   "outputs": [
    {
     "data": {
      "text/plain": [
       "1024"
      ]
     },
     "execution_count": 45,
     "metadata": {},
     "output_type": "execute_result"
    }
   ],
   "source": [
    "def slow_power(x, n):\n",
    "    result = 1\n",
    "    for i in range(n):\n",
    "        result *= x\n",
    "    return result\n",
    "slow_power(2,10)"
   ]
  },
  {
   "cell_type": "code",
   "execution_count": 46,
   "metadata": {},
   "outputs": [],
   "source": [
    "def power(x,n):\n",
    "    if n == 0:\n",
    "        return 1\n",
    "    elif (n%2) == 0:\n",
    "        return power(x*x,n//2)\n",
    "    else:\n",
    "        return x * power(x*x,(n-1)//2)"
   ]
  },
  {
   "cell_type": "code",
   "execution_count": 48,
   "metadata": {},
   "outputs": [
    {
     "name": "stdout",
     "output_type": "stream",
     "text": [
      "축소정복\n",
      "0.1162559986114502\n",
      "재귀\n",
      "3.2073349952697754\n",
      "반복\n",
      "1.5111119747161865\n"
     ]
    }
   ],
   "source": [
    "import time\n",
    "\n",
    "t1 = time.time()\n",
    "for _ in range(100000): power(2,500)\n",
    "t2 = time.time()\n",
    "for _ in range(100000): my_power(2,500)\n",
    "t3 = time.time()\n",
    "for _ in range(100000) : slow_power(2,500)\n",
    "t4 = time.time()\n",
    "\n",
    "print(\"축소정복\")\n",
    "print(t2-t1)\n",
    "print(\"재귀\")\n",
    "print(t3-t2)\n",
    "print(\"반복\")\n",
    "print(t4-t3)"
   ]
  },
  {
   "cell_type": "code",
   "execution_count": 49,
   "metadata": {},
   "outputs": [],
   "source": [
    "#행렬의 거듭제곱\n",
    "import numpy as np\n",
    "\n",
    "def powerMat(x, n):\n",
    "    if n==1:\n",
    "        return x\n",
    "    elif (n%2) == 0:\n",
    "        return powerMat(np.matmul(x,x), n//2)\n",
    "    else:\n",
    "        return np.matmul(x,powerMat(np.matmul(x,x), (n-1)//2))\n",
    "    \n",
    "\n",
    "def slow_powerMat(matrix, power):\n",
    "    result = np.eye(matrix.shape[0])  # 초기화: 항등 행렬\n",
    "    for _ in range(power):\n",
    "        result = np.matmul(result, matrix)\n",
    "    return result\n"
   ]
  },
  {
   "cell_type": "code",
   "execution_count": 54,
   "metadata": {},
   "outputs": [
    {
     "name": "stdout",
     "output_type": "stream",
     "text": [
      "축소정복\n",
      "0.21066594123840332\n",
      "반복\n",
      "0.38330698013305664\n",
      "np 모듈\n",
      "0.1716780662536621\n"
     ]
    }
   ],
   "source": [
    "import time\n",
    "\n",
    "random_matrix = np.random.rand(5, 5)\n",
    "t1 = time.time()\n",
    "for _ in range(100000): powerMat(random_matrix, 5)\n",
    "t2 = time.time()\n",
    "for _ in range(100000): slow_powerMat(random_matrix, 5)\n",
    "t3 = time.time()\n",
    "for _ in range(100000) : np.linalg.matrix_power(random_matrix, 3)\n",
    "t4 = time.time()\n",
    "\n",
    "print(\"축소정복\")\n",
    "print(t2-t1)\n",
    "print(\"반복\")\n",
    "print(t3-t2)\n",
    "print(\"np 모듈\")\n",
    "print(t4-t3)"
   ]
  },
  {
   "cell_type": "markdown",
   "metadata": {},
   "source": [
    "### 4.5 선택 문제: k번쨰 작은 수 찾기\n",
    "- 1. 정렬하기\n",
    "- 2. 축소 정복 (다 정렬할 필요 없이, pivot 기준으로 작은/큰 수로만 나누면서(O(N),필요 없는 리스트를 반씩 삭제해 나감(O(log(N)))"
   ]
  },
  {
   "cell_type": "code",
   "execution_count": 74,
   "metadata": {},
   "outputs": [
    {
     "name": "stdout",
     "output_type": "stream",
     "text": [
      "-1\n"
     ]
    }
   ],
   "source": [
    "def quick_select(A, left, right, k):\n",
    "    if A == []:\n",
    "        return -1\n",
    "    piv = A[0]\n",
    "    left_list = []\n",
    "    right_list = []\n",
    "    for i in range(1, len(A)):\n",
    "        if A[i] < piv:\n",
    "            left_list.append(A[i])\n",
    "        elif A[i] > piv:\n",
    "            right_list.append(A[i])\n",
    "    pivot_idx = len(left_list)\n",
    "    if k == pivot_idx:\n",
    "        return A[pivot_idx]\n",
    "    elif k < pivot_idx:\n",
    "        return quick_select(left_list, 0, pivot_idx-1, k)\n",
    "    else:\n",
    "        k -= pivot_idx\n",
    "        return quick_select(right_list, pivot_idx+1, len(A)-1, k)\n",
    "\n",
    "lst = list(range(10))\n",
    "result = quick_select(lst, 0, 9, 3)\n",
    "print(result)\n"
   ]
  },
  {
   "cell_type": "code",
   "execution_count": null,
   "metadata": {},
   "outputs": [],
   "source": []
  }
 ],
 "metadata": {
  "kernelspec": {
   "display_name": "Python 3",
   "language": "python",
   "name": "python3"
  },
  "language_info": {
   "codemirror_mode": {
    "name": "ipython",
    "version": 3
   },
   "file_extension": ".py",
   "mimetype": "text/x-python",
   "name": "python",
   "nbconvert_exporter": "python",
   "pygments_lexer": "ipython3",
   "version": "3.11.2"
  }
 },
 "nbformat": 4,
 "nbformat_minor": 2
}
