{
 "cells": [
  {
   "cell_type": "markdown",
   "metadata": {},
   "source": [
    "## 4. 축소 정복 기법\n",
    "- 고정 크기 축소(decrease by a constant) -> factorial\n",
    "- 고정 비율 축소(decrease by a constant factor) -> binary search     \n",
    "- 가변 크기 축소(variable size decrease) -> gcd\n",
    "<hr>\n",
    "\n",
    "- 하향식 축소(순환)\n",
    "- 상향식 축소(반복)"
   ]
  },
  {
   "cell_type": "markdown",
   "metadata": {},
   "source": [
    "### 4.1 삽입 정렬(Insertion sort)\n",
    "\n",
    "- 하향식 : n-1개 정렬 후 n번째 삽입,<br>\n",
    "         n-2개 정렬 후 n-1번째 삽입\n",
    "         ...\n",
    "- 상향식 : 첫번쨰(정렬됨)에 두번쨰 삽입정렬,<br>\n",
    "        세번째 삽입정렬\n",
    "        ...\n",
    "\n",
    "<br>\n",
    "- 최선 O(N), 최악 O(N^2), 평균 O(1/2 N^2)\n",
    "\n",
    "\n",
    "- 레코드 이동이 많으므로 큰 레코드에는 비효율적\n",
    "- 정렬되어 있을수록 효율적"
   ]
  },
  {
   "cell_type": "code",
   "execution_count": 2,
   "metadata": {},
   "outputs": [
    {
     "name": "stdout",
     "output_type": "stream",
     "text": [
      "Original : [5, 3, 8, 4, 9, 1, 6, 2, 7]\n",
      "Step  1 = [3, 5, 8, 4, 9, 1, 6, 2, 7]\n",
      "Step  2 = [3, 5, 8, 4, 9, 1, 6, 2, 7]\n",
      "Step  3 = [3, 4, 5, 8, 9, 1, 6, 2, 7]\n",
      "Step  4 = [3, 4, 5, 8, 9, 1, 6, 2, 7]\n",
      "Step  5 = [1, 3, 4, 5, 8, 9, 6, 2, 7]\n",
      "Step  6 = [1, 3, 4, 5, 6, 8, 9, 2, 7]\n",
      "Step  7 = [1, 2, 3, 4, 5, 6, 8, 9, 7]\n",
      "Step  8 = [1, 2, 3, 4, 5, 6, 7, 8, 9]\n",
      "Insertion : [1, 2, 3, 4, 5, 6, 7, 8, 9]\n"
     ]
    }
   ],
   "source": [
    "#test code\n",
    "def printStep(arr, val):\n",
    "    print(\"Step %2d = \"%val,end='')\n",
    "    print(arr)\n",
    "\n",
    "def insertion_sort(A):\n",
    "    n = len(A)\n",
    "    for i in range(1,n):\n",
    "        key = A[i]\n",
    "        j = i-1\n",
    "        while j>=0 and A[j]>key:\n",
    "            A[j+1] =A[j]\n",
    "            j -= 1\n",
    "        A[j+1] = key\n",
    "        printStep(A,i)\n",
    "\n",
    "data = [5, 3, 8, 4, 9, 1, 6, 2, 7]\n",
    "print(\"Original :\", data)\n",
    "insertion_sort(data)\n",
    "print(\"Insertion :\", data)"
   ]
  },
  {
   "cell_type": "markdown",
   "metadata": {},
   "source": [
    "### 4.2 위상정렬(topological sort)\n",
    "-   방향 그래프에서, 선행순서를 위배하지 않으면서 모든 정점들을 순서대로 나열\n",
    "    - DFS 기반 억지기법\n",
    "    - 축소 정복 기법\n",
    "        - 차수 0인 노드 삭제해가면서\n",
    "- 프로그램 코드 컴파일에서의 명령어 스케줄링, 스프레드시트에서 공식들을 적용하기 위한 셀들의 계산 순서, 링커에서 심벌들의 연관성을 해결하는 응용..."
   ]
  },
  {
   "cell_type": "code",
   "execution_count": 21,
   "metadata": {},
   "outputs": [],
   "source": [
    "mygraph = {\"A\" : {\"C\", \"D\"},\n",
    "           \"B\" : {\"D\", \"E\"},\n",
    "           \"C\" : {\"D\", \"F\"},\n",
    "           \"D\" : {\"F\"},\n",
    "           \"E\" : {\"F\"},\n",
    "           \"F\" : set()\n",
    "           }"
   ]
  },
  {
   "cell_type": "code",
   "execution_count": 24,
   "metadata": {},
   "outputs": [
    {
     "name": "stdout",
     "output_type": "stream",
     "text": [
      "['B', 'E', 'A', 'D', 'C', 'D', 'F']\n"
     ]
    }
   ],
   "source": [
    "#sol1 - DFS 기반 억지 기법\n",
    "# def DFS(graph, start, visited):\n",
    "#     if start not in visited:\n",
    "#         visited.add(start)\n",
    "#         print(start, end=' ')\n",
    "#         nbr = graph[start] - visited\n",
    "#         for v in nbr:\n",
    "#             DFS(graph, v, visited)\n",
    "\n",
    "# DFS(mygraph,\"A\",set())\n",
    "\n",
    "\n",
    "def dfs(graph, node, visited, stack):\n",
    "    visited.add(node)\n",
    "    for neighbor in graph[node]:\n",
    "        if neighbor not in visited:\n",
    "            dfs(graph, neighbor, visited, stack)\n",
    "    stack.append(node)\n",
    "\n",
    "def dfs(graph, node, visited, stack):\n",
    "    visited.add(node)\n",
    "    for neighbor in graph[node] - visited:\n",
    "        dfs(graph, neighbor, visited, stack)\n",
    "    stack.append(node)\n",
    "\n",
    "def topological_sort(graph):\n",
    "    visited = set()\n",
    "    stack = []\n",
    "    for node in graph:\n",
    "        if node not in visited:\n",
    "            dfs(graph, node, visited, stack)\n",
    "    return stack[::-1]\n",
    "\n",
    "print(topological_sort(mygraph))"
   ]
  },
  {
   "cell_type": "code",
   "execution_count": 15,
   "metadata": {},
   "outputs": [
    {
     "name": "stdout",
     "output_type": "stream",
     "text": [
      "topological_sort:\n",
      "B E A C D F "
     ]
    }
   ],
   "source": [
    "#sol2 - 축소 정복 기법\n",
    "def topological_sort(graph):\n",
    "    inDeg = {}\n",
    "    for v in graph:\n",
    "        inDeg[v] = 0\n",
    "    for v in graph:\n",
    "        for u in graph[v]:\n",
    "            inDeg[u] += 1\n",
    "    vlist = []  #진입차수가 0인 정점 리스트\n",
    "    for v in graph:\n",
    "        if inDeg[v] == 0:\n",
    "            vlist.append(v)\n",
    "\n",
    "    while vlist:\n",
    "        v = vlist.pop()            #B E A C D F \n",
    "        # v = vlist.pop(0)        #A B C E D F\n",
    "        print(v, end=' ')\n",
    "\n",
    "        for u in graph[v]:\n",
    "            inDeg[u] -= 1\n",
    "            if inDeg[u] == 0:\n",
    "                vlist.append(u)\n",
    "\n",
    "print(\"topological_sort:\")\n",
    "\n",
    "topological_sort(mygraph)\n",
    "\n"
   ]
  },
  {
   "cell_type": "markdown",
   "metadata": {},
   "source": [
    "### 4.3 이진 탐색"
   ]
  },
  {
   "cell_type": "code",
   "execution_count": null,
   "metadata": {},
   "outputs": [],
   "source": []
  }
 ],
 "metadata": {
  "kernelspec": {
   "display_name": "Python 3",
   "language": "python",
   "name": "python3"
  },
  "language_info": {
   "codemirror_mode": {
    "name": "ipython",
    "version": 3
   },
   "file_extension": ".py",
   "mimetype": "text/x-python",
   "name": "python",
   "nbconvert_exporter": "python",
   "pygments_lexer": "ipython3",
   "version": "3.11.2"
  }
 },
 "nbformat": 4,
 "nbformat_minor": 2
}
