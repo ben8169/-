{
 "cells": [
  {
   "cell_type": "code",
   "execution_count": 1,
   "metadata": {},
   "outputs": [],
   "source": [
    "#asymptotic notation\n",
    "#입력 데이터 n과 기본 연산\n",
    "#recursion -> 연속 대치법에 의한 풀이\n",
    "ex) 팩토리얼 계산에서T(n) = T(n-1) + 1\n",
    "= T(n-2) + 2\n",
    "= T(n-3) + 3\n",
    "...\n",
    "= T(0) + n\n",
    "= n\n"
   ]
  },
  {
   "cell_type": "markdown",
   "metadata": {},
   "source": [
    "- asymptotic notation\n",
    "- BIG O -> upper bound(점근적 상한) 이므로 느리거나 같은 복잡도 함수를 포함한다.<br>\n",
    "|f(n)| <= c|g(n)| 이면, f(n)∈O(g(n))\n",
    "- f1(n)∈O(g1(n)) 이고 f2(n)∈O(g2(n)) 이면, f1(n)+f2(n)∈O(max(g1(n), g2(n)))<br>\n",
    "ex)리스트 중복검사에서 O(n^2)보다 정렬 후 순차탐색 O(max(O(nlogn), O(n))) = O(nlogn) 이 훨씬 효율적!!\n",
    "- n! >2^n > n^2\n",
    "<hr>\n",
    "\n",
    "- iteration -> 입력 데이터 n과 기본 연산 찾기!\n",
    "- recursion -> 연속 대치법에 의한 풀이\n",
    "ex) 팩토리얼 계산에서T(n) = T(n-1) + 1\n",
    "= T(n-2) + 2\n",
    "= T(n-3) + 3\n",
    "...\n",
    "= T(0) + n\n",
    "= n"
   ]
  },
  {
   "cell_type": "code",
   "execution_count": 2,
   "metadata": {},
   "outputs": [
    {
     "name": "stdout",
     "output_type": "stream",
     "text": [
      "원판 1을 A에서 C로 옮긴다.\n",
      "원판 2을 A에서 B로 옮긴다.\n",
      "원판 1을 C에서 B로 옮긴다.\n",
      "원판 3을 A에서 C로 옮긴다.\n",
      "원판 1을 B에서 A로 옮긴다.\n",
      "원판 2을 B에서 C로 옮긴다.\n",
      "원판 1을 A에서 C로 옮긴다.\n"
     ]
    }
   ],
   "source": [
    "#recursion의 중요성 .. 하노이의 탑\n",
    "def hanoi(n, fr, tmp, to):\n",
    "    if n == 1:\n",
    "        print(\"원판 1을 %s에서 %s로 옮긴다.\" % (fr, to))\n",
    "    else:\n",
    "        hanoi(n-1, fr, to, tmp)\n",
    "        print(\"원판 %d을 %s에서 %s로 옮긴다.\" % (n, fr, to))\n",
    "        hanoi(n-1, tmp, fr, to)\n",
    "\n",
    "hanoi(3, 'A', 'B', 'C')"
   ]
  },
  {
   "cell_type": "markdown",
   "metadata": {},
   "source": [
    "연습문제"
   ]
  },
  {
   "cell_type": "code",
   "execution_count": 44,
   "metadata": {},
   "outputs": [
    {
     "name": "stdout",
     "output_type": "stream",
     "text": [
      "10000\n"
     ]
    }
   ],
   "source": [
    "#10 fake coin\n",
    "import random\n",
    "\n",
    "def compare(a:list):\n",
    "    length = len(a)\n",
    "    for i in range(length-2):\n",
    "        if a[i] < a[i+1]:\n",
    "            if a[i+1] == a[i+2]:\n",
    "                # print(\"Fake coin is {}th, light coin\".format(i+1));\n",
    "                return 0\n",
    "            elif a[i+1] > a[i+2]:\n",
    "                # print(\"Fake coin is {}th, heavy coin\".format(i+1+1));\n",
    "                return 2\n",
    "        elif a[i] > a[i+1]:\n",
    "            if a[i+1] == a[i+2]:\n",
    "                # print(\"Fake coin is {}th, heavy coin\".format(i+1));\n",
    "                return 2\n",
    "            elif a[i+1] < a[i+2]:\n",
    "                # print(\"Fake coin is {}th, light coin\".format(i+1+1));\n",
    "                return 0\n",
    "            \n",
    "\n",
    "cnt = 0\n",
    "#case test\n",
    "def producing_test():\n",
    "    global cnt\n",
    "    lst = [1] * 10\n",
    "    flag = -1\n",
    "    index_to_replace = random.choice(range(0, 9))\n",
    "    \n",
    "    if random.choice([0, 2]) == 0:\n",
    "        lst[index_to_replace] = 0\n",
    "        # print(lst)\n",
    "        # compare(lst)\n",
    "        flag = 0\n",
    "        if compare(lst) == flag:\n",
    "            # print(\"correct\")\n",
    "            cnt += 1\n",
    "    else:\n",
    "        lst[index_to_replace] = 2\n",
    "        # print(lst)\n",
    "        # compare(lst)\n",
    "        flag = 2\n",
    "        if compare(lst) == flag:\n",
    "            # print(\"correct\")\n",
    "            cnt += 1\n",
    "\n",
    "for _ in range(10000):\n",
    "    producing_test()\n",
    "print(cnt)\n",
    "\n"
   ]
  },
  {
   "cell_type": "code",
   "execution_count": 1,
   "metadata": {},
   "outputs": [
    {
     "name": "stdout",
     "output_type": "stream",
     "text": [
      "CALL\n",
      "CALL\n",
      "CALL\n",
      "CALL\n",
      "CALL\n"
     ]
    },
    {
     "data": {
      "text/plain": [
       "2"
      ]
     },
     "execution_count": 1,
     "metadata": {},
     "output_type": "execute_result"
    }
   ],
   "source": [
    "#17\n",
    "def sub(n):\n",
    "    print(\"CALL\")\n",
    "    if n<=1 : return n\n",
    "    return sub(n-1) + sub(n-2)\n",
    "\n",
    "sub(3)"
   ]
  },
  {
   "cell_type": "code",
   "execution_count": 2,
   "metadata": {},
   "outputs": [
    {
     "name": "stdout",
     "output_type": "stream",
     "text": [
      "5\n",
      "4\n",
      "3\n",
      "2\n",
      "1\n",
      "0\n"
     ]
    },
    {
     "data": {
      "text/plain": [
       "15"
      ]
     },
     "execution_count": 2,
     "metadata": {},
     "output_type": "execute_result"
    }
   ],
   "source": [
    "#18\n",
    "cnt = 0\n",
    "def sum(n):\n",
    "    print(n)\n",
    "    if n<1 : return 0\n",
    "    else : return n + sum(n-1)\n",
    "\n",
    "sum(5)"
   ]
  },
  {
   "cell_type": "code",
   "execution_count": 3,
   "metadata": {},
   "outputs": [
    {
     "name": "stdout",
     "output_type": "stream",
     "text": [
      "***************"
     ]
    }
   ],
   "source": [
    "#19\n",
    "def asterisk(i):\n",
    "    if i>1:\n",
    "        asterisk(i/2)\n",
    "        asterisk(i/2)\n",
    "    print(\"*\",end='')\n",
    "\n",
    "asterisk(5)"
   ]
  },
  {
   "cell_type": "code",
   "execution_count": null,
   "metadata": {},
   "outputs": [],
   "source": []
  }
 ],
 "metadata": {
  "kernelspec": {
   "display_name": "base",
   "language": "python",
   "name": "python3"
  },
  "language_info": {
   "codemirror_mode": {
    "name": "ipython",
    "version": 3
   },
   "file_extension": ".py",
   "mimetype": "text/x-python",
   "name": "python",
   "nbconvert_exporter": "python",
   "pygments_lexer": "ipython3",
   "version": "3.11.2"
  }
 },
 "nbformat": 4,
 "nbformat_minor": 2
}
