{
 "cells": [
  {
   "cell_type": "markdown",
   "metadata": {},
   "source": [
    "## 5. 분할 정복 기법\n",
    "- 정렬, 탐색에 효과적 / 순차&병렬 둘 다 효과적\n",
    "- 마스터 정리 -> 점근적 수행 시간 계산가능(공식 외우는게 편할듯)\n",
    "<br>\n",
    "- 같은 부분문제가 여러번 나타나지 않을 때 써야 함!!(merge sort, closest pair같이)\n",
    "\n",
    "T(N) = aT(N/b)+f(n) --> a는 분할된 문제 a개를 푸는데 걸리는 연산들, f(n)은 크기가 n인 원래의 문제를 분할하여 나누고 병합하여 최종 해를 만드는데 사용되는 연산들"
   ]
  },
  {
   "cell_type": "markdown",
   "metadata": {},
   "source": [
    "### 5.1 병합 정렬\n",
    "\n",
    "- 복잡도 O(nlogn)"
   ]
  },
  {
   "cell_type": "code",
   "execution_count": null,
   "metadata": {},
   "outputs": [],
   "source": [
    "def merge_sort(A, left, right):\n",
    "    if left<right:\n",
    "        mid = (left+right) // 2\n",
    "        merge_sort(A, left, mid)\n",
    "        merge_sort(A,mid+1, right)\n",
    "        merge(A,left,mid,right)\n",
    "    else:\n",
    "        ...\n",
    "\n",
    "\n",
    "\n",
    "def merge(A, left, mid, right):\n",
    "    k = left\n",
    "    i = left\n",
    "    j = mid + 1\n",
    "\n",
    "    while i<=mid and j<=right:\n",
    "        if A[i]<=A[j]:\n",
    "            sorted[k] = A[i]\n",
    "            i, k = i+1, k+1\n",
    "        else:\n",
    "            sorted[k] = A[j]\n",
    "            j, k = j+1, k+1\n",
    "\n",
    "    if i>mid:\n",
    "        sorted[k:k+right-j+1] = A[j:right+1]\n",
    "    else:\n",
    "        sorted[k:k+mid-i+1] = A[i:mid+1]\n",
    "    \n",
    "    A[left:right+1] = sorted[left:right+1]"
   ]
  },
  {
   "cell_type": "markdown",
   "metadata": {},
   "source": [
    "### 5.2 퀵 정렬\n",
    "- 최선-O(nlogn), 최악-O(n^2), 이미 정렬되어 있는 리스트\n",
    "- 중간값을 이용하거나, hybrid 정렬, dual pivot 등 여러 응용 존재"
   ]
  },
  {
   "cell_type": "code",
   "execution_count": 3,
   "metadata": {},
   "outputs": [
    {
     "name": "stdout",
     "output_type": "stream",
     "text": [
      "Original:  [5, 3, 8, 4, 9, 1, 6, 2, 7]\n",
      "QuickSort:  [1, 2, 3, 4, 5, 6, 7, 8, 9]\n"
     ]
    }
   ],
   "source": [
    "#Hoare partition\n",
    "def partition(A, left, right):\n",
    "    low = left+1\n",
    "    high = right\n",
    "    pivot = A[left]\n",
    "\n",
    "    while low<=high:\n",
    "        while low <= right and A[low]<=pivot : low += 1\n",
    "        while high >= left and A[high]>pivot : high -= 1\n",
    "        \n",
    "        if low < high :\n",
    "            A[low], A[high] = A[high], A[low]\n",
    "    \n",
    "    A[left],A[high] = A[high], A[left]\n",
    "    return high\n",
    "\n",
    "def quick_sort(A, left, right):\n",
    "    if left<right:\n",
    "        mid = partition(A, left, right)\n",
    "        quick_sort(A, left, mid-1)\n",
    "        quick_sort(A, mid+1, right)\n",
    "\n",
    "\n",
    "data = [5, 3, 8, 4, 9, 1, 6, 2, 7]\n",
    "print(\"Original: \",data)\n",
    "quick_sort(data,0,len(data)-1)\n",
    "print(\"QuickSort: \", data)"
   ]
  },
  {
   "cell_type": "markdown",
   "metadata": {},
   "source": [
    "### 5.3 이진트리 관련 문제\n"
   ]
  },
  {
   "cell_type": "code",
   "execution_count": 1,
   "metadata": {},
   "outputs": [],
   "source": [
    "class TNode:\n",
    "    def __init__(self, data, left, right):\n",
    "        self.data = data\n",
    "        self.left = left\n",
    "        self.right = right\n",
    "\n",
    "d = TNode('D',None,None)\n",
    "e = TNode('E',None,None)\n",
    "b = TNode('B',d,e)\n",
    "f = TNode('F',None,None)\n",
    "c = TNode('C',f,None)\n",
    "root = TNode('A',b,c)"
   ]
  },
  {
   "cell_type": "markdown",
   "metadata": {},
   "source": [
    "#### 5.3.1 이진트리의 높이 알고리즘"
   ]
  },
  {
   "cell_type": "code",
   "execution_count": 3,
   "metadata": {},
   "outputs": [
    {
     "data": {
      "text/plain": [
       "3"
      ]
     },
     "execution_count": 3,
     "metadata": {},
     "output_type": "execute_result"
    }
   ],
   "source": [
    "def calc_height(root):\n",
    "    if root is None:\n",
    "        return 0\n",
    "    hleft = calc_height(root.left)\n",
    "    hright = calc_height(root.right)\n",
    "    return max(hleft,hright) + 1\n",
    "\n",
    "calc_height(root)"
   ]
  },
  {
   "cell_type": "markdown",
   "metadata": {},
   "source": [
    "#### 5.3.2 이진트리의 표준 순회 문제\n",
    "- preorder: VLR\n",
    "- inorder: LVR\n",
    "- postorder: LRV\n"
   ]
  },
  {
   "cell_type": "code",
   "execution_count": 5,
   "metadata": {},
   "outputs": [
    {
     "name": "stdout",
     "output_type": "stream",
     "text": [
      "Preorder:  A B D E C F \n",
      "Inorder:  D B E A F C \n",
      "Postorder:  D E B F C A "
     ]
    }
   ],
   "source": [
    "def preorder(n):\n",
    "    if n is not None:\n",
    "        print(n.data, end=' ')\n",
    "        preorder(n.left)\n",
    "        preorder(n.right)\n",
    "\n",
    "def inorder(n):\n",
    "    if n is not None:\n",
    "        inorder(n.left)\n",
    "        print(n.data, end = ' ')\n",
    "        inorder(n.right)\n",
    "def postorder(n):\n",
    "    if n is not None:\n",
    "        postorder(n.left)\n",
    "        postorder(n.right)\n",
    "        print(n.data, end=' ')\n",
    "\n",
    "\n",
    "print(\"Preorder: \", end=' ')\n",
    "preorder(root)\n",
    "print()\n",
    "\n",
    "print(\"Inorder: \", end=' ')\n",
    "inorder(root)\n",
    "print()\n",
    "\n",
    "print(\"Postorder: \", end=' ')\n",
    "postorder(root)\n"
   ]
  },
  {
   "cell_type": "markdown",
   "metadata": {},
   "source": [
    "### 5.4 최근접 쌍의 거리 문제(심화)\n",
    "- O(n(logn)^2) 을 O(nlogn)으로 개선하려면, strip_closest를 O(n)에 처리해야 함. 이를 위해서는 strip_closest 내부에서 정렬하지 않고, 미리 정렬하고 해당 함수를 호출해야 함. \n",
    "    - Challenge\n",
    "    - closest_pair_dist()의 Pm~append 에서 정렬된 부분 리스트들을 병합하는 merge sort 이용해야 함\n",
    "    - 그리고 실질적인 y방향 정렬의 시작은 억지기법 쓸 때(부분리스트 3이하)에서 시작해야 함."
   ]
  },
  {
   "cell_type": "code",
   "execution_count": 6,
   "metadata": {},
   "outputs": [
    {
     "data": {
      "text/plain": [
       "1.4142135623730951"
      ]
     },
     "execution_count": 6,
     "metadata": {},
     "output_type": "execute_result"
    }
   ],
   "source": [
    "import math\n",
    "def calculate_distance(p1:tuple, p2:tuple):\n",
    "    return math.sqrt((p2[0]-p1[0])**2 + (p2[1]-p1[1])**2)\n",
    "\n",
    "def closest_pair(p):\n",
    "    n=len(p)\n",
    "    min_dist = float(\"inf\")\n",
    "    for i in range(n-1):\n",
    "        for j in range(i+1,n):\n",
    "            dist = calculate_distance(p[i],p[j])\n",
    "            if dist < min_dist:\n",
    "                min_dist = dist\n",
    "    return min_dist\n",
    "\n",
    "def strip_closest(P, d):\n",
    "    n = len(P)\n",
    "    d_min = d\n",
    "    P.sort(key = lambda point:point[1])         #여기도 병합정렬 쓰면 더 줄일 수 있다\n",
    "\n",
    "    for i in range(n):\n",
    "        j = i+1\n",
    "        while j<n and (P[j][1] - P[i][1]<d_min):\n",
    "            dij = calculate_distance(P[i], P[j])\n",
    "            if dij < d_min:\n",
    "                d_min = dij\n",
    "            j += 1\n",
    "    return d_min\n",
    "\n",
    "def closest_pair_dist(P, n):\n",
    "    if n<=3:\n",
    "        return closest_pair(P)\n",
    "    \n",
    "    mid = n//2\n",
    "    mid_x = P[mid][0]\n",
    "\n",
    "    dl = closest_pair_dist(P[:mid], mid)\n",
    "    dr = closest_pair_dist(P[mid:], n-mid)\n",
    "    d = min(dl, dr)\n",
    "\n",
    "    Pm = []\n",
    "\n",
    "    for i in range(n):\n",
    "        if abs(P[i][0] - mid_x) < d:\n",
    "            Pm.append(P[i])\n",
    "    \n",
    "    ds = strip_closest(Pm, d)\n",
    "    return min(d, ds)\n",
    "\n",
    "\n",
    "lst = [\n",
    "    (2,3),\n",
    "    (12,30),\n",
    "    (40,50),\n",
    "    (5,1),\n",
    "    (12,10),\n",
    "    (3,4)\n",
    "]\n",
    "lst.sort(key = lambda point: point[0])\n",
    "closest_pair_dist(lst, len(lst))"
   ]
  },
  {
   "cell_type": "markdown",
   "metadata": {},
   "source": [
    "### 5.5 행렬 곱셈(심화)\n",
    "- 억지기법으로 O(n^3)\n",
    "- Strassen 기법\n",
    "    - 행렬을 4개의 부분 행렬로 분할"
   ]
  },
  {
   "cell_type": "markdown",
   "metadata": {},
   "source": [
    "### 5.6 O(n)의 피보나치수열"
   ]
  },
  {
   "cell_type": "code",
   "execution_count": 14,
   "metadata": {},
   "outputs": [
    {
     "name": "stdout",
     "output_type": "stream",
     "text": [
      "0 1 1 2 3 5 8 13 21 34 "
     ]
    }
   ],
   "source": [
    "import numpy as np\n",
    "\n",
    "def fib_iter(n):\n",
    "    if n<2: return n\n",
    "    last = 0\n",
    "    current = 1\n",
    "    for _ in range(2, n+1):\n",
    "        tmp = current\n",
    "        current += last\n",
    "        last = tmp\n",
    "    return current\n",
    "\n",
    "\n",
    "\n",
    "#O(log n)\n",
    "def fib_mat(n):\n",
    "    if n<2: return n\n",
    "    mat = np.array([[1, 1], [1, 0]], dtype=object)\n",
    "    result = np.linalg.matrix_power(mat, n)\n",
    "    return result[0][1]\n",
    "\n",
    "for i in range(10):\n",
    "    print(fib_mat(i), end = ' ')"
   ]
  },
  {
   "cell_type": "code",
   "execution_count": null,
   "metadata": {},
   "outputs": [],
   "source": []
  }
 ],
 "metadata": {
  "kernelspec": {
   "display_name": "Python 3",
   "language": "python",
   "name": "python3"
  },
  "language_info": {
   "codemirror_mode": {
    "name": "ipython",
    "version": 3
   },
   "file_extension": ".py",
   "mimetype": "text/x-python",
   "name": "python",
   "nbconvert_exporter": "python",
   "pygments_lexer": "ipython3",
   "version": "3.11.2"
  }
 },
 "nbformat": 4,
 "nbformat_minor": 2
}
