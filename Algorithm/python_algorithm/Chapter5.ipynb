{
 "cells": [
  {
   "cell_type": "markdown",
   "metadata": {},
   "source": [
    "## 5. 분할 정복 기법\n",
    "- 정렬, 탐색에 효과적 / 순차&병렬 둘 다 효과적\n",
    "- 마스터 정리 -> 점근적 수행 시간 계산가능(공식 외우는게 편할듯)\n",
    "<br>\n",
    "- 같은 부분문제가 여러번 나타나지 않을 때 써야 함!!(merge sort, closest pair같이)\n",
    "\n",
    "T(N) = aT(N/b)+f(n) --> a는 분할된 문제 a개를 푸는데 걸리는 연산들, f(n)은 크기가 n인 원래의 문제를 분할하여 나누고 병합하여 최종 해를 만드는데 사용되는 연산들"
   ]
  },
  {
   "cell_type": "markdown",
   "metadata": {},
   "source": [
    "### 5.1 병합 정렬\n",
    "\n",
    "- 복잡도 O(nlogn)"
   ]
  },
  {
   "cell_type": "code",
   "execution_count": 10,
   "metadata": {},
   "outputs": [
    {
     "name": "stdout",
     "output_type": "stream",
     "text": [
      "Original:  [5, 3, 8, 4, 9, 1, 6, 2, 7]\n",
      "MergeSort:  [1, 2, 3, 4, 5, 6, 7, 8, 9]\n"
     ]
    }
   ],
   "source": [
    "def merge_sort(A, left, right):\n",
    "    if left<right:\n",
    "        mid = (left+right) // 2\n",
    "        merge_sort(A, left, mid)\n",
    "        merge_sort(A,mid+1, right)\n",
    "        merge(A,left,mid,right)\n",
    "    else:\n",
    "        ...\n",
    "\n",
    "\n",
    "\n",
    "def merge(A, left, mid, right):\n",
    "    global sorted\n",
    "    k = left\n",
    "    i = left\n",
    "    j = mid + 1\n",
    "\n",
    "    while i<=mid and j<=right:\n",
    "        if A[i]<=A[j]:\n",
    "            sorted[k] = A[i]\n",
    "            i, k = i+1, k+1\n",
    "        else:\n",
    "            sorted[k] = A[j]\n",
    "            j, k = j+1, k+1\n",
    "\n",
    "    if i>mid:\n",
    "        sorted[k:k+right-j+1] = A[j:right+1]\n",
    "    else:\n",
    "        sorted[k:k+mid-i+1] = A[i:mid+1]\n",
    "    \n",
    "    A[left:right+1] = sorted[left:right+1]\n",
    "\n",
    "\n",
    "data = [5, 3, 8, 4, 9, 1, 6, 2, 7]\n",
    "sorted = [0]*10\n",
    "print(\"Original: \",data)\n",
    "merge_sort(data,0,len(data)-1)\n",
    "print(\"MergeSort: \", data)"
   ]
  },
  {
   "cell_type": "markdown",
   "metadata": {},
   "source": [
    "### 5.2 퀵 정렬\n",
    "- 최선-O(nlogn), 최악-O(n^2), 이미 정렬되어 있는 리스트\n",
    "- 중간값을 이용하거나, hybrid 정렬, dual pivot 등 여러 응용 존재"
   ]
  },
  {
   "cell_type": "code",
   "execution_count": 3,
   "metadata": {},
   "outputs": [
    {
     "name": "stdout",
     "output_type": "stream",
     "text": [
      "Original:  [5, 3, 8, 4, 9, 1, 6, 2, 7]\n",
      "QuickSort:  [1, 2, 3, 4, 5, 6, 7, 8, 9]\n"
     ]
    }
   ],
   "source": [
    "#Hoare partition\n",
    "def partition(A, left, right):\n",
    "    low = left+1\n",
    "    high = right\n",
    "    pivot = A[left]\n",
    "\n",
    "    while low<=high:\n",
    "        while low <= right and A[low]<=pivot : low += 1\n",
    "        while high >= left and A[high]>pivot : high -= 1\n",
    "        \n",
    "        if low < high :\n",
    "            A[low], A[high] = A[high], A[low]\n",
    "    \n",
    "    A[left],A[high] = A[high], A[left]\n",
    "    return high\n",
    "\n",
    "def quick_sort(A, left, right):\n",
    "    if left<right:\n",
    "        mid = partition(A, left, right)\n",
    "        quick_sort(A, left, mid-1)\n",
    "        quick_sort(A, mid+1, right)\n",
    "\n",
    "\n",
    "data = [5, 3, 8, 4, 9, 1, 6, 2, 7]\n",
    "print(\"Original: \",data)\n",
    "quick_sort(data,0,len(data)-1)\n",
    "print(\"QuickSort: \", data)"
   ]
  },
  {
   "cell_type": "markdown",
   "metadata": {},
   "source": [
    "### 5.3 이진트리 관련 문제"
   ]
  },
  {
   "cell_type": "code",
   "execution_count": 56,
   "metadata": {},
   "outputs": [],
   "source": [
    "class TNode:\n",
    "    def __init__(self, data, left, right):\n",
    "        self.data = data\n",
    "        self.left = left\n",
    "        self.right = right\n",
    "    # def isLeaf(self):\n",
    "    #     if self.left is None and self.right is None:\n",
    "    #         return True\n",
    "    #     else:\n",
    "    #         return False\n",
    "    def isLeaf(self):\n",
    "        return self.left is None and self.right is None\n",
    "d = TNode('D',None,None)\n",
    "e = TNode('E',None,None)\n",
    "b = TNode('B',d,e)\n",
    "f = TNode('F',None,None)\n",
    "c = TNode('C',f,None)\n",
    "root = TNode('A',b,c)\n",
    "\n",
    "# g = TNode('G', None, None)\n",
    "# h = TNode('H', None, None)\n",
    "# i = TNode('I', None, None)\n",
    "\n",
    "# # 완전 이진 트리로 추가\n",
    "# root.left.left.left = g\n",
    "# root.left.left.right = h\n",
    "# root.left.right.left = i\n",
    "\n"
   ]
  },
  {
   "cell_type": "markdown",
   "metadata": {},
   "source": [
    "#### 5.3.1 이진트리의 높이 알고리즘"
   ]
  },
  {
   "cell_type": "code",
   "execution_count": 3,
   "metadata": {},
   "outputs": [
    {
     "data": {
      "text/plain": [
       "3"
      ]
     },
     "execution_count": 3,
     "metadata": {},
     "output_type": "execute_result"
    }
   ],
   "source": [
    "def calc_height(root):\n",
    "    if root is None:\n",
    "        return 0\n",
    "    hleft = calc_height(root.left)\n",
    "    hright = calc_height(root.right)\n",
    "    return max(hleft,hright) + 1\n",
    "\n",
    "calc_height(root)"
   ]
  },
  {
   "cell_type": "markdown",
   "metadata": {},
   "source": [
    "#### 5.3.2 이진트리의 표준 순회 문제\n",
    "- preorder: VLR\n",
    "- inorder: LVR\n",
    "- postorder: LRV\n"
   ]
  },
  {
   "cell_type": "code",
   "execution_count": 5,
   "metadata": {},
   "outputs": [
    {
     "name": "stdout",
     "output_type": "stream",
     "text": [
      "Preorder:  A B D E C F \n",
      "Inorder:  D B E A F C \n",
      "Postorder:  D E B F C A "
     ]
    }
   ],
   "source": [
    "def preorder(n):\n",
    "    if n is not None:\n",
    "        print(n.data, end=' ')\n",
    "        preorder(n.left)\n",
    "        preorder(n.right)\n",
    "\n",
    "def inorder(n):\n",
    "    if n is not None:\n",
    "        inorder(n.left)\n",
    "        print(n.data, end = ' ')\n",
    "        inorder(n.right)\n",
    "def postorder(n):\n",
    "    if n is not None:\n",
    "        postorder(n.left)\n",
    "        postorder(n.right)\n",
    "        print(n.data, end=' ')\n",
    "\n",
    "\n",
    "print(\"Preorder: \", end=' ')\n",
    "preorder(root)\n",
    "print()\n",
    "\n",
    "print(\"Inorder: \", end=' ')\n",
    "inorder(root)\n",
    "print()\n",
    "\n",
    "print(\"Postorder: \", end=' ')\n",
    "postorder(root)\n"
   ]
  },
  {
   "cell_type": "markdown",
   "metadata": {},
   "source": [
    "### 5.4 최근접 쌍의 거리 문제(심화)\n",
    "- O(n(logn)^2) 을 O(nlogn)으로 개선하려면, strip_closest를 O(n)에 처리해야 함. 이를 위해서는 strip_closest 내부에서 정렬하지 않고, 미리 정렬하고 해당 함수를 호출해야 함. \n",
    "    - Challenge\n",
    "    - closest_pair_dist()의 Pm~append 에서 정렬된 부분 리스트들을 병합하는 merge sort 이용해야 함\n",
    "    - 그리고 실질적인 y방향 정렬의 시작은 억지기법 쓸 때(부분리스트 3이하)에서 시작해야 함."
   ]
  },
  {
   "cell_type": "code",
   "execution_count": 76,
   "metadata": {},
   "outputs": [
    {
     "data": {
      "text/plain": [
       "4.8160552978515625e-05"
      ]
     },
     "execution_count": 76,
     "metadata": {},
     "output_type": "execute_result"
    }
   ],
   "source": [
    "import math\n",
    "def calculate_distance(p1:tuple, p2:tuple):\n",
    "    return math.sqrt((p2[0]-p1[0])**2 + (p2[1]-p1[1])**2)\n",
    "\n",
    "def closest_pair(p):\n",
    "    n=len(p)\n",
    "    min_dist = float(\"inf\")\n",
    "    for i in range(n-1):\n",
    "        for j in range(i+1,n):\n",
    "            dist = calculate_distance(p[i],p[j])\n",
    "            if dist < min_dist:\n",
    "                min_dist = dist\n",
    "    return min_dist\n",
    "\n",
    "def strip_closest(P, d):\n",
    "    n = len(P)\n",
    "    d_min = d\n",
    "    P.sort(key = lambda point:point[1])         #여기도 병합정렬 쓰면 더 줄일 수 있다\n",
    "\n",
    "    for i in range(n):\n",
    "        j = i+1\n",
    "        while j<n and (P[j][1] - P[i][1]<d_min):\n",
    "            dij = calculate_distance(P[i], P[j])\n",
    "            if dij < d_min:\n",
    "                d_min = dij\n",
    "            j += 1\n",
    "    return d_min\n",
    "\n",
    "\n",
    "def closest_pair_dist(P, n):\n",
    "    if n<=3:\n",
    "        return closest_pair(P)\n",
    "    \n",
    "    mid = n//2\n",
    "    mid_x = P[mid][0]\n",
    "\n",
    "    dl = closest_pair_dist(P[:mid], mid)\n",
    "    dr = closest_pair_dist(P[mid:], n-mid)\n",
    "    d = min(dl, dr)\n",
    "\n",
    "    Pm = []\n",
    "\n",
    "    for i in range(n):\n",
    "        if abs(P[i][0] - mid_x) < d:\n",
    "            Pm.append(P[i])\n",
    "    \n",
    "    ds = strip_closest(Pm, d)\n",
    "    return min(d, ds)\n",
    "\n",
    "\n",
    "lst = [\n",
    "    (2,3),\n",
    "    (12,30),\n",
    "    (40,50),\n",
    "    (5,1),\n",
    "    (12,10),\n",
    "    (3,4)\n",
    "]\n",
    "\n",
    "import time\n",
    "a = time.time()\n",
    "closest_pair_dist(lst, len(lst))\n",
    "b = time.time()\n",
    "b-a"
   ]
  },
  {
   "cell_type": "markdown",
   "metadata": {},
   "source": [
    "### 5.5 행렬 곱셈(심화)\n",
    "- 억지기법으로 O(n^3)\n",
    "- Strassen 기법\n",
    "    - 행렬을 4개의 부분 행렬로 분할"
   ]
  },
  {
   "cell_type": "markdown",
   "metadata": {},
   "source": [
    "### 5.6 O(n)의 피보나치수열"
   ]
  },
  {
   "cell_type": "code",
   "execution_count": 14,
   "metadata": {},
   "outputs": [
    {
     "name": "stdout",
     "output_type": "stream",
     "text": [
      "0 1 1 2 3 5 8 13 21 34 "
     ]
    }
   ],
   "source": [
    "import numpy as np\n",
    "\n",
    "def fib_iter(n):\n",
    "    if n<2: return n\n",
    "    last = 0\n",
    "    current = 1\n",
    "    for _ in range(2, n+1):\n",
    "        tmp = current\n",
    "        current += last\n",
    "        last = tmp\n",
    "    return current\n",
    "\n",
    "\n",
    "\n",
    "#O(log n)\n",
    "def fib_mat(n):\n",
    "    if n<2: return n\n",
    "    mat = np.array([[1, 1], [1, 0]], dtype=object)\n",
    "    result = np.linalg.matrix_power(mat, n)\n",
    "    return result[0][1]\n",
    "\n",
    "for i in range(10):\n",
    "    print(fib_mat(i), end = ' ')"
   ]
  },
  {
   "cell_type": "markdown",
   "metadata": {},
   "source": [
    "## practice"
   ]
  },
  {
   "cell_type": "code",
   "execution_count": 2,
   "metadata": {},
   "outputs": [
    {
     "data": {
      "text/plain": [
       "1"
      ]
     },
     "execution_count": 2,
     "metadata": {},
     "output_type": "execute_result"
    }
   ],
   "source": [
    "#1\n",
    "def find_minimum(A):\n",
    "    if len(A) <=2:\n",
    "        return min(A)\n",
    "    mid = len(A)//2\n",
    "    left_min = find_minimum(A[:mid])\n",
    "    right_min = find_minimum(A[mid:])\n",
    "\n",
    "    return min(left_min, right_min)\n",
    "\n",
    "\n",
    "lst = [7,4,9,6,3,8,7,5,1]\n",
    "find_minimum(lst)\n"
   ]
  },
  {
   "cell_type": "code",
   "execution_count": 1,
   "metadata": {},
   "outputs": [],
   "source": [
    "#8\n",
    "def merge_iter(a,b):\n",
    "    ...\n",
    "\n",
    "\n",
    "def merge_sort_iter(A):\n",
    "    global sorted\n",
    "    lst = []\n",
    "    step = 0\n",
    "    for step in range(0,len(A),2):\n",
    "        lst.append(A[step:step+2])\n",
    "\n",
    "\n",
    "A = [7,4,9,6,3,8,7,5,1]\n",
    "sorted = [0]*len(A)\n",
    "\n",
    "\n"
   ]
  },
  {
   "cell_type": "code",
   "execution_count": 12,
   "metadata": {},
   "outputs": [
    {
     "ename": "ValueError",
     "evalue": "min() arg is an empty sequence",
     "output_type": "error",
     "traceback": [
      "\u001b[0;31m---------------------------------------------------------------------------\u001b[0m",
      "\u001b[0;31mValueError\u001b[0m                                Traceback (most recent call last)",
      "Cell \u001b[0;32mIn[12], line 29\u001b[0m\n\u001b[1;32m     27\u001b[0m cnt \u001b[38;5;241m=\u001b[39m \u001b[38;5;241m0\u001b[39m\n\u001b[1;32m     28\u001b[0m A \u001b[38;5;241m=\u001b[39m [\u001b[38;5;241m7\u001b[39m,\u001b[38;5;241m4\u001b[39m,\u001b[38;5;241m9\u001b[39m,\u001b[38;5;241m6\u001b[39m,\u001b[38;5;241m3\u001b[39m,\u001b[38;5;241m8\u001b[39m,\u001b[38;5;241m7\u001b[39m,\u001b[38;5;241m1\u001b[39m]\n\u001b[0;32m---> 29\u001b[0m \u001b[43msearch_inversion\u001b[49m\u001b[43m(\u001b[49m\u001b[43mA\u001b[49m\u001b[43m)\u001b[49m\n",
      "Cell \u001b[0;32mIn[12], line 5\u001b[0m, in \u001b[0;36msearch_inversion\u001b[0;34m(A)\u001b[0m\n\u001b[1;32m      3\u001b[0m mid \u001b[38;5;241m=\u001b[39m \u001b[38;5;28mlen\u001b[39m(A)\u001b[38;5;241m/\u001b[39m\u001b[38;5;241m/\u001b[39m\u001b[38;5;241m2\u001b[39m\n\u001b[1;32m      4\u001b[0m left_max \u001b[38;5;241m=\u001b[39m search_inversion_min(A[:mid])\n\u001b[0;32m----> 5\u001b[0m right_min \u001b[38;5;241m=\u001b[39m \u001b[43msearch_inversion\u001b[49m\u001b[43m(\u001b[49m\u001b[43mA\u001b[49m\u001b[43m[\u001b[49m\u001b[43mmid\u001b[49m\u001b[43m:\u001b[49m\u001b[43m]\u001b[49m\u001b[43m)\u001b[49m\n\u001b[1;32m      6\u001b[0m \u001b[38;5;28;01mif\u001b[39;00m left_max \u001b[38;5;241m>\u001b[39m right_min:\n\u001b[1;32m      7\u001b[0m     cnt \u001b[38;5;241m+\u001b[39m\u001b[38;5;241m=\u001b[39m \u001b[38;5;241m1\u001b[39m\n",
      "Cell \u001b[0;32mIn[12], line 5\u001b[0m, in \u001b[0;36msearch_inversion\u001b[0;34m(A)\u001b[0m\n\u001b[1;32m      3\u001b[0m mid \u001b[38;5;241m=\u001b[39m \u001b[38;5;28mlen\u001b[39m(A)\u001b[38;5;241m/\u001b[39m\u001b[38;5;241m/\u001b[39m\u001b[38;5;241m2\u001b[39m\n\u001b[1;32m      4\u001b[0m left_max \u001b[38;5;241m=\u001b[39m search_inversion_min(A[:mid])\n\u001b[0;32m----> 5\u001b[0m right_min \u001b[38;5;241m=\u001b[39m \u001b[43msearch_inversion\u001b[49m\u001b[43m(\u001b[49m\u001b[43mA\u001b[49m\u001b[43m[\u001b[49m\u001b[43mmid\u001b[49m\u001b[43m:\u001b[49m\u001b[43m]\u001b[49m\u001b[43m)\u001b[49m\n\u001b[1;32m      6\u001b[0m \u001b[38;5;28;01mif\u001b[39;00m left_max \u001b[38;5;241m>\u001b[39m right_min:\n\u001b[1;32m      7\u001b[0m     cnt \u001b[38;5;241m+\u001b[39m\u001b[38;5;241m=\u001b[39m \u001b[38;5;241m1\u001b[39m\n",
      "Cell \u001b[0;32mIn[12], line 5\u001b[0m, in \u001b[0;36msearch_inversion\u001b[0;34m(A)\u001b[0m\n\u001b[1;32m      3\u001b[0m mid \u001b[38;5;241m=\u001b[39m \u001b[38;5;28mlen\u001b[39m(A)\u001b[38;5;241m/\u001b[39m\u001b[38;5;241m/\u001b[39m\u001b[38;5;241m2\u001b[39m\n\u001b[1;32m      4\u001b[0m left_max \u001b[38;5;241m=\u001b[39m search_inversion_min(A[:mid])\n\u001b[0;32m----> 5\u001b[0m right_min \u001b[38;5;241m=\u001b[39m \u001b[43msearch_inversion\u001b[49m\u001b[43m(\u001b[49m\u001b[43mA\u001b[49m\u001b[43m[\u001b[49m\u001b[43mmid\u001b[49m\u001b[43m:\u001b[49m\u001b[43m]\u001b[49m\u001b[43m)\u001b[49m\n\u001b[1;32m      6\u001b[0m \u001b[38;5;28;01mif\u001b[39;00m left_max \u001b[38;5;241m>\u001b[39m right_min:\n\u001b[1;32m      7\u001b[0m     cnt \u001b[38;5;241m+\u001b[39m\u001b[38;5;241m=\u001b[39m \u001b[38;5;241m1\u001b[39m\n",
      "Cell \u001b[0;32mIn[12], line 4\u001b[0m, in \u001b[0;36msearch_inversion\u001b[0;34m(A)\u001b[0m\n\u001b[1;32m      2\u001b[0m \u001b[38;5;28;01mdef\u001b[39;00m \u001b[38;5;21msearch_inversion\u001b[39m(A):\n\u001b[1;32m      3\u001b[0m     mid \u001b[38;5;241m=\u001b[39m \u001b[38;5;28mlen\u001b[39m(A)\u001b[38;5;241m/\u001b[39m\u001b[38;5;241m/\u001b[39m\u001b[38;5;241m2\u001b[39m\n\u001b[0;32m----> 4\u001b[0m     left_max \u001b[38;5;241m=\u001b[39m \u001b[43msearch_inversion_min\u001b[49m\u001b[43m(\u001b[49m\u001b[43mA\u001b[49m\u001b[43m[\u001b[49m\u001b[43m:\u001b[49m\u001b[43mmid\u001b[49m\u001b[43m]\u001b[49m\u001b[43m)\u001b[49m\n\u001b[1;32m      5\u001b[0m     right_min \u001b[38;5;241m=\u001b[39m search_inversion(A[mid:])\n\u001b[1;32m      6\u001b[0m     \u001b[38;5;28;01mif\u001b[39;00m left_max \u001b[38;5;241m>\u001b[39m right_min:\n",
      "Cell \u001b[0;32mIn[12], line 13\u001b[0m, in \u001b[0;36msearch_inversion_min\u001b[0;34m(A)\u001b[0m\n\u001b[1;32m     11\u001b[0m \u001b[38;5;28;01mglobal\u001b[39;00m cnt\n\u001b[1;32m     12\u001b[0m \u001b[38;5;28;01mif\u001b[39;00m \u001b[38;5;28mlen\u001b[39m(A)\u001b[38;5;241m<\u001b[39m\u001b[38;5;241m=\u001b[39m\u001b[38;5;241m2\u001b[39m:\n\u001b[0;32m---> 13\u001b[0m     \u001b[38;5;28;01mreturn\u001b[39;00m \u001b[38;5;28;43mmin\u001b[39;49m\u001b[43m(\u001b[49m\u001b[43mA\u001b[49m\u001b[43m)\u001b[49m\n\u001b[1;32m     14\u001b[0m mid \u001b[38;5;241m=\u001b[39m \u001b[38;5;28mlen\u001b[39m(A)\u001b[38;5;241m/\u001b[39m\u001b[38;5;241m/\u001b[39m\u001b[38;5;241m2\u001b[39m\n\u001b[1;32m     15\u001b[0m left_max \u001b[38;5;241m=\u001b[39m search_inversion_min(A[:mid])\n",
      "\u001b[0;31mValueError\u001b[0m: min() arg is an empty sequence"
     ]
    }
   ],
   "source": [
    "#9\n",
    "#merge_sort에서 merge 중 위치 변환 하는 횟수를 더하면될듯 + merge 함수에 inversion return하도록 추가하고\n"
   ]
  },
  {
   "cell_type": "code",
   "execution_count": 27,
   "metadata": {},
   "outputs": [
    {
     "name": "stdout",
     "output_type": "stream",
     "text": [
      "Original:  [5, 3, 8, 4, 9, 1, 6, 2, 7]\n",
      "[5, 7, 9]\n",
      "[5, 3, 8, 4, 9, 1, 6, 2, 7]\n",
      "\n",
      "[4, 5, 6]\n",
      "[6, 3, 7, 4, 2, 1, 5, 9, 8]\n",
      "\n",
      "[1, 5, 6]\n",
      "[1, 3, 5, 4, 2, 6, 7, 9, 8]\n",
      "\n",
      "[1, 2, 5]\n",
      "[2, 3, 5, 4, 1, 6, 7, 9, 8]\n",
      "\n",
      "[1, 1, 2]\n",
      "[1, 2, 5, 4, 3, 6, 7, 9, 8]\n",
      "\n",
      "[3, 4, 5]\n",
      "[1, 2, 5, 4, 3, 6, 7, 9, 8]\n",
      "\n",
      "[3, 4, 5]\n",
      "[1, 2, 3, 4, 5, 6, 7, 9, 8]\n",
      "\n",
      "[3, 4, 4]\n",
      "[1, 2, 4, 3, 5, 6, 7, 9, 8]\n",
      "\n",
      "[3, 3, 4]\n",
      "[1, 2, 3, 4, 5, 6, 7, 9, 8]\n",
      "\n",
      "[8, 9, 9]\n",
      "[1, 2, 3, 4, 5, 6, 7, 9, 8]\n",
      "\n",
      "[8, 8, 9]\n",
      "[1, 2, 3, 4, 5, 6, 7, 8, 9]\n",
      "\n",
      "QuickSort:  [1, 2, 3, 4, 5, 6, 7, 8, 9]\n"
     ]
    }
   ],
   "source": [
    "#12\n",
    "#Hoare partition\n",
    "def partition(A, left, right):\n",
    "    low = left+1\n",
    "    high = right\n",
    "    tmp = [A[left],A[right],A[(left+right)//2]]\n",
    "    tmp.sort()\n",
    "    print(tmp)\n",
    "    pivot = tmp[1]\n",
    "    # pivot = A[left]\n",
    "\n",
    "    while low<=high:\n",
    "        while low <= right and A[low]<=pivot : low += 1\n",
    "        while high >= left and A[high]>pivot : high -= 1\n",
    "        \n",
    "        if low < high :\n",
    "            A[low], A[high] = A[high], A[low]\n",
    "    \n",
    "    A[left],A[high] = A[high], A[left]\n",
    "    return high\n",
    "\n",
    "def quick_sort(A, left, right):\n",
    "    if left<right:\n",
    "        mid = partition(A, left, right)\n",
    "        quick_sort(A, left, mid)\n",
    "        quick_sort(A, mid+1, right)\n",
    "\n",
    "\n",
    "data = [5, 3, 8, 4, 9, 1, 6, 2, 7]\n",
    "print(\"Original: \",data)\n",
    "quick_sort(data,0,len(data)-1)\n",
    "print(\"QuickSort: \", data)"
   ]
  },
  {
   "cell_type": "code",
   "execution_count": 28,
   "metadata": {},
   "outputs": [
    {
     "data": {
      "text/plain": [
       "6"
      ]
     },
     "execution_count": 28,
     "metadata": {},
     "output_type": "execute_result"
    }
   ],
   "source": [
    "#16\n",
    "def count_nodes(root):\n",
    "    # if root.left is None:\n",
    "    #     return 1\n",
    "    # left = count_nodes(root.left)\n",
    "    # right = count_nodes(root.right)\n",
    "    # return left+right\n",
    "    if root is None:\n",
    "        return 0\n",
    "    else:\n",
    "        return 1+count_nodes(root.left)+count_nodes(root.right)\n",
    "\n",
    "count_nodes(root)\n",
    "\n",
    "    "
   ]
  },
  {
   "cell_type": "code",
   "execution_count": 38,
   "metadata": {},
   "outputs": [
    {
     "data": {
      "text/plain": [
       "3"
      ]
     },
     "execution_count": 38,
     "metadata": {},
     "output_type": "execute_result"
    }
   ],
   "source": [
    "#17\n",
    "def count_leaf(root):\n",
    "    if root is None: return 0\n",
    "    elif root.isLeaf() : return 1\n",
    "    else: return count_leaf(root.left)+count_leaf(root.right)\n",
    "\n",
    "count_leaf(root)"
   ]
  },
  {
   "cell_type": "code",
   "execution_count": 68,
   "metadata": {},
   "outputs": [
    {
     "name": "stdout",
     "output_type": "stream",
     "text": [
      "This is not a complete binary tree\n"
     ]
    }
   ],
   "source": [
    "class Node:\n",
    "    def __init__(self, item, left=None, right=None):\n",
    "        self.item = item\n",
    "        self.left = left\n",
    "        self.right = right\n",
    "\n",
    "def calculate_depth(node):\n",
    "    d = -1\n",
    "    while node is not None:\n",
    "        d += 1\n",
    "        node = node.left\n",
    "    return d\n",
    "\n",
    "def is_complete_binary_tree(node, depth, level = 0):\n",
    "    if node is None:\n",
    "        return True\n",
    "\n",
    "    if depth == level + 1:\n",
    "        return node.left is not None and node.right is not None\n",
    "\n",
    "    if depth > level + 1:\n",
    "        return (node.left is not None and node.right is not None) and \\\n",
    "               is_complete_binary_tree(node.left, depth, level + 1) and \\\n",
    "               is_complete_binary_tree(node.right, depth, level + 1)\n",
    "    \n",
    "    return False\n",
    "\n",
    "root = Node(1)\n",
    "root.left = Node(2)\n",
    "root.right = Node(3)\n",
    "root.left.left = Node(4)\n",
    "root.left.right = Node(5)\n",
    "root.right.left = Node(6)\n",
    "# root.right.right = Node(7)\n",
    "\n",
    "if is_complete_binary_tree(root, calculate_depth(root)):\n",
    "    print(\"This is a complete binary tree\")\n",
    "else:\n",
    "    print(\"This is not a complete binary tree\")\n"
   ]
  },
  {
   "cell_type": "code",
   "execution_count": 62,
   "metadata": {},
   "outputs": [
    {
     "name": "stdout",
     "output_type": "stream",
     "text": [
      "The level of node 'E' is: 3\n"
     ]
    }
   ],
   "source": [
    "#21\n",
    "class TreeNode:\n",
    "    def __init__(self, value):\n",
    "        self.value = value\n",
    "        self.left = None\n",
    "        self.right = None\n",
    "\n",
    "def findNodeLevel(root, target, current_level=1):\n",
    "    # 기저 조건: 노드가 None이면 0 반환 (찾지 못한 경우)\n",
    "    if root is None:\n",
    "        return 0\n",
    "\n",
    "    # 기저 조건: 노드 값이 타겟과 일치하면 현재 레벨 반환\n",
    "    if root.value == target:\n",
    "        return current_level\n",
    "\n",
    "    # 왼쪽 서브트리와 오른쪽 서브트리에서 재귀적으로 호출\n",
    "    left_level = findNodeLevel(root.left, target, current_level + 1)\n",
    "    right_level = findNodeLevel(root.right, target, current_level + 1)\n",
    "\n",
    "    # 레벨이 0이면 해당 값이 서브트리에 존재하지 않음을 의미\n",
    "    if left_level == 0 and right_level == 0:\n",
    "        return 0\n",
    "\n",
    "    # 레벨이 0이 아니라면 적어도 한 쪽 서브트리에는 존재함\n",
    "    return max(left_level, right_level)\n",
    "\n",
    "# 테스트를 위한 이진 트리 생성\n",
    "#       A\n",
    "#      / \\\n",
    "#     B   C\n",
    "#    / \\   \\\n",
    "#   D   E   F\n",
    "root = TreeNode('A')\n",
    "root.left = TreeNode('B')\n",
    "root.right = TreeNode('C')\n",
    "root.left.left = TreeNode('D')\n",
    "root.left.right = TreeNode('E')\n",
    "root.right.right = TreeNode('F')\n",
    "\n",
    "# 특정 노드의 레벨 찾기\n",
    "target_node_value = 'E'\n",
    "level = findNodeLevel(root, target_node_value)\n",
    "\n",
    "if level:\n",
    "    print(f\"The level of node '{target_node_value}' is: {level}\")\n",
    "else:\n",
    "    print(f\"Node '{target_node_value}' not found in the tree.\")\n"
   ]
  },
  {
   "cell_type": "code",
   "execution_count": 75,
   "metadata": {},
   "outputs": [
    {
     "data": {
      "text/plain": [
       "4.696846008300781e-05"
      ]
     },
     "execution_count": 75,
     "metadata": {},
     "output_type": "execute_result"
    }
   ],
   "source": [
    "#22\n",
    "import math\n",
    "def calculate_distance(p1:tuple, p2:tuple):\n",
    "    return math.sqrt((p2[0]-p1[0])**2 + (p2[1]-p1[1])**2)\n",
    "\n",
    "def closest_pair(p):\n",
    "    n=len(p)\n",
    "    min_dist = float(\"inf\")\n",
    "    for i in range(n-1):\n",
    "        for j in range(i+1,n):\n",
    "            dist = calculate_distance(p[i],p[j])\n",
    "            if dist < min_dist:\n",
    "                min_dist = dist\n",
    "    return min_dist\n",
    "\n",
    "def strip_closest(P, d):\n",
    "    n = len(P)\n",
    "    d_min = d\n",
    "\n",
    "    for i in range(n):\n",
    "        j = i+1\n",
    "        while j<n and (P[j][1] - P[i][1]<d_min):\n",
    "            dij = calculate_distance(P[i], P[j])\n",
    "            if dij < d_min:\n",
    "                d_min = dij\n",
    "            j += 1\n",
    "    return d_min\n",
    "\n",
    "def closest_pair_dist_2(P, n):\n",
    "    if n<=3:\n",
    "        P.sort(key = lambda pt:pt[1])\n",
    "        return closest_pair(P)\n",
    "    \n",
    "    mid = n//2\n",
    "    mid_x = P[mid][0]\n",
    "\n",
    "    dl = closest_pair_dist_2(P[:mid], mid)\n",
    "    dr = closest_pair_dist_2(P[mid:], n-mid)\n",
    "    d = min(dl, dr)\n",
    "\n",
    "    Pm = []\n",
    "\n",
    "    for i in range(n):\n",
    "        if abs(P[i][0] - mid_x) < d:\n",
    "            Pm.append(P[i])\n",
    "    \n",
    "    ds = strip_closest(Pm, d)\n",
    "    return min(d, ds)\n",
    "\n",
    "\n",
    "lst = [\n",
    "    (2,3),\n",
    "    (12,30),\n",
    "    (40,50),\n",
    "    (5,1),\n",
    "    (12,10),\n",
    "    (3,4)\n",
    "]\n",
    "\n",
    "\n",
    "import time\n",
    "a = time.time()\n",
    "closest_pair_dist_2(lst, len(lst))\n",
    "b = time.time()\n",
    "b-a\n"
   ]
  },
  {
   "cell_type": "code",
   "execution_count": 48,
   "metadata": {},
   "outputs": [
    {
     "name": "stdout",
     "output_type": "stream",
     "text": [
      "46 1836311903\n"
     ]
    }
   ],
   "source": [
    "#30\n",
    "import numpy as np\n",
    "def fib_mat(n):\n",
    "    if n<2: return n\n",
    "    mat = np.array([[1, 1], [1, 0]], dtype=object)\n",
    "    result = np.linalg.matrix_power(mat, n)\n",
    "    return result[0][1]\n",
    "\n",
    "n=0\n",
    "while fib_mat(n)<2**31:\n",
    "    n+=1\n",
    "else:\n",
    "    print(n-1,fib_mat(n-1))"
   ]
  },
  {
   "cell_type": "code",
   "execution_count": 85,
   "metadata": {},
   "outputs": [
    {
     "data": {
      "image/png": "[encoded data removed]",
      "text/plain": [
       "<Figure size 1000x600 with 1 Axes>"
      ]
     },
     "metadata": {},
     "output_type": "display_data"
    }
   ],
   "source": [
    "import matplotlib.pyplot as plt\n",
    "import time\n",
    "import random\n",
    "\n",
    "time1_list = []\n",
    "time2_list = []\n",
    "size_list = []\n",
    "\n",
    "\n",
    "for i in range(100,10000,100):\n",
    "    lst = [(random.randint(1,1000),random.randint(1,1000)) for _ in range(i)]\n",
    "    a2 = time.time()\n",
    "    closest_pair_dist(lst, len(lst))\n",
    "    a1 = time.time()\n",
    "    closest_pair_dist_2(lst, len(lst))\n",
    "    a3 = time.time()\n",
    "\n",
    "    time1 = a2-a1\n",
    "    time2 = a3-a2\n",
    "\n",
    "    time1_list.append(time1)\n",
    "    time2_list.append(time2)\n",
    "    size_list.append(i)\n",
    "\n",
    "plt.figure(figsize=(10, 6))\n",
    "plt.plot(size_list, time1_list, marker='o', label='closest_pair_dist')\n",
    "plt.plot(size_list, time2_list, marker='v', label='closest_pair_dist_2')\n",
    "plt.xlabel('Size of List')\n",
    "plt.ylabel('Time Taken')\n",
    "plt.legend()\n",
    "plt.show()"
   ]
  },
  {
   "cell_type": "code",
   "execution_count": null,
   "metadata": {},
   "outputs": [],
   "source": []
  }
 ],
 "metadata": {
  "kernelspec": {
   "display_name": "Python 3",
   "language": "python",
   "name": "python3"
  },
  "language_info": {
   "codemirror_mode": {
    "name": "ipython",
    "version": 3
   },
   "file_extension": ".py",
   "mimetype": "text/x-python",
   "name": "python",
   "nbconvert_exporter": "python",
   "pygments_lexer": "ipython3",
   "version": "3.0.0"
  }
 },
 "nbformat": 4,
 "nbformat_minor": 2
}
