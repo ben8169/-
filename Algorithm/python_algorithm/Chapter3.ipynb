{
 "cells": [
  {
   "cell_type": "markdown",
   "metadata": {},
   "source": [
    "### 3.억지 기법과 완전 탐색\n",
    "- 정렬의 대상을 레코드, 레코드의 특성들을 필드, 정렬의 기준이 되는 필드를 키"
   ]
  },
  {
   "cell_type": "markdown",
   "metadata": {},
   "source": [
    "#### 1.Selection Sort(선택 정렬)\n",
    "\n",
    "- 최솟값을 '선택'해서, 첫 번째 요소와 교환\n",
    "- O(n^2), 불안정함\n",
    "- 원시적인 의미의 정렬을 가장 잘 표현하고 있다.\n",
    "\n",
    "\n"
   ]
  },
  {
   "cell_type": "code",
   "execution_count": 30,
   "metadata": {},
   "outputs": [
    {
     "name": "stdout",
     "output_type": "stream",
     "text": [
      "[7, 8, 5, 6, 3, 2, 9, 0, 1, 4]\n",
      "Step  1 = [0, 8, 5, 6, 3, 2, 9, 7, 1, 4]\n",
      "Step  2 = [0, 1, 5, 6, 3, 2, 9, 7, 8, 4]\n",
      "Step  3 = [0, 1, 2, 6, 3, 5, 9, 7, 8, 4]\n",
      "Step  4 = [0, 1, 2, 3, 6, 5, 9, 7, 8, 4]\n",
      "Step  5 = [0, 1, 2, 3, 4, 5, 9, 7, 8, 6]\n",
      "Step  6 = [0, 1, 2, 3, 4, 6, 9, 7, 8, 5]\n",
      "Step  7 = [0, 1, 2, 3, 4, 6, 5, 7, 8, 9]\n",
      "Step  8 = [0, 1, 2, 3, 4, 6, 5, 8, 7, 9]\n",
      "Step  9 = [0, 1, 2, 3, 4, 6, 5, 8, 9, 7]\n"
     ]
    },
    {
     "data": {
      "text/plain": [
       "[0, 1, 2, 3, 4, 6, 5, 8, 9, 7]"
      ]
     },
     "execution_count": 30,
     "metadata": {},
     "output_type": "execute_result"
    }
   ],
   "source": [
    "#code \n",
    "import random\n",
    "random.seed(23)\n",
    "\n",
    "# #sol1\n",
    "# def selection_sort(arr):\n",
    "#     for i in range(len(arr)-1):\n",
    "#         min_val = arr[i]\n",
    "#         for j in range(i+1,len(arr)):\n",
    "#             if arr[j]<min_val:\n",
    "#                 min_val = arr[j]\n",
    "#         idx = arr.index(min_val)\n",
    "#         arr[i], arr[idx] = arr[idx], arr[i]\n",
    "#         printStep(arr,i+1)\n",
    "#     return arr\n",
    "\n",
    "# #sol2\n",
    "# def selection_sort(arr):\n",
    "#     for i in range(len(arr)-1):\n",
    "#         tmp_arr = arr[i+1:]\n",
    "#         try:\n",
    "#             min_val = min(tmp_arr)\n",
    "#         except:\n",
    "#             pass\n",
    "#         min_idx = arr.index(min_val)\n",
    "#         arr[i], arr[min_idx] = arr[min_idx], arr[i]\n",
    "#         printStep(arr, i+1)\n",
    "#     return arr\n",
    "\n",
    "#sol_answer\n",
    "#값을 안 건드리고도 인덱스만 건드리면 되구나!\n",
    "def selection_sort(arr):\n",
    "    n = len(arr)\n",
    "    for i in range(n-1):\n",
    "        least = i\n",
    "        for j in range(i+1,n):\n",
    "            if (arr[j]<arr[least]):\n",
    "                least = j\n",
    "        arr[i], arr[least] = arr[least], arr[i]\n",
    "        printStep(arr, i+1)\n",
    "    return arr    \n",
    "\n",
    "def printStep(arr, val):\n",
    "    print(\"Step %2d = \"%val,end='')\n",
    "    print(arr)\n",
    "\n",
    "arr = list(range(10))\n",
    "random.shuffle(arr)\n",
    "print(arr)\n",
    "\n",
    "selection_sort(arr)"
   ]
  },
  {
   "cell_type": "code",
   "execution_count": null,
   "metadata": {},
   "outputs": [],
   "source": []
  }
 ],
 "metadata": {
  "kernelspec": {
   "display_name": "base",
   "language": "python",
   "name": "python3"
  },
  "language_info": {
   "codemirror_mode": {
    "name": "ipython",
    "version": 3
   },
   "file_extension": ".py",
   "mimetype": "text/x-python",
   "name": "python",
   "nbconvert_exporter": "python",
   "pygments_lexer": "ipython3",
   "version": "3.10.13"
  }
 },
 "nbformat": 4,
 "nbformat_minor": 2
}
