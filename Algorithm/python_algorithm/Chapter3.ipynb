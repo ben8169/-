{
 "cells": [
  {
   "cell_type": "markdown",
   "metadata": {},
   "source": [
    "### 3.억지 기법과 완전 탐색\n",
    "- 정렬의 대상을 레코드, 레코드의 특성들을 필드, 정렬의 기준이 되는 필드를 키"
   ]
  },
  {
   "cell_type": "markdown",
   "metadata": {},
   "source": [
    "#### 1.Selection Sort(선택 정렬)\n",
    "\n",
    "- 최솟값을 '선택'해서, 첫 번째 요소와 교환\n",
    "- O(n^2), 불안정함\n",
    "- 원시적인 의미의 정렬을 가장 잘 표현하고 있다.\n",
    "\n",
    "\n"
   ]
  },
  {
   "cell_type": "code",
   "execution_count": 30,
   "metadata": {},
   "outputs": [
    {
     "name": "stdout",
     "output_type": "stream",
     "text": [
      "[7, 8, 5, 6, 3, 2, 9, 0, 1, 4]\n",
      "Step  1 = [0, 8, 5, 6, 3, 2, 9, 7, 1, 4]\n",
      "Step  2 = [0, 1, 5, 6, 3, 2, 9, 7, 8, 4]\n",
      "Step  3 = [0, 1, 2, 6, 3, 5, 9, 7, 8, 4]\n",
      "Step  4 = [0, 1, 2, 3, 6, 5, 9, 7, 8, 4]\n",
      "Step  5 = [0, 1, 2, 3, 4, 5, 9, 7, 8, 6]\n",
      "Step  6 = [0, 1, 2, 3, 4, 6, 9, 7, 8, 5]\n",
      "Step  7 = [0, 1, 2, 3, 4, 6, 5, 7, 8, 9]\n",
      "Step  8 = [0, 1, 2, 3, 4, 6, 5, 8, 7, 9]\n",
      "Step  9 = [0, 1, 2, 3, 4, 6, 5, 8, 9, 7]\n"
     ]
    },
    {
     "data": {
      "text/plain": [
       "[0, 1, 2, 3, 4, 6, 5, 8, 9, 7]"
      ]
     },
     "execution_count": 30,
     "metadata": {},
     "output_type": "execute_result"
    }
   ],
   "source": [
    "#code \n",
    "import random\n",
    "random.seed(23)\n",
    "\n",
    "# #sol1\n",
    "# def selection_sort(arr):\n",
    "#     for i in range(len(arr)-1):\n",
    "#         min_val = arr[i]\n",
    "#         for j in range(i+1,len(arr)):\n",
    "#             if arr[j]<min_val:\n",
    "#                 min_val = arr[j]\n",
    "#         idx = arr.index(min_val)\n",
    "#         arr[i], arr[idx] = arr[idx], arr[i]\n",
    "#         printStep(arr,i+1)\n",
    "#     return arr\n",
    "\n",
    "# #sol2\n",
    "# def selection_sort(arr):\n",
    "#     for i in range(len(arr)-1):\n",
    "#         tmp_arr = arr[i+1:]\n",
    "#         try:\n",
    "#             min_val = min(tmp_arr)\n",
    "#         except:\n",
    "#             pass\n",
    "#         min_idx = arr.index(min_val)\n",
    "#         arr[i], arr[min_idx] = arr[min_idx], arr[i]\n",
    "#         printStep(arr, i+1)\n",
    "#     return arr\n",
    "\n",
    "#sol_answer\n",
    "#값을 안 건드리고도 인덱스만 건드리면 되구나!\n",
    "def selection_sort(arr):\n",
    "    n = len(arr)\n",
    "    for i in range(n-1):\n",
    "        least = i\n",
    "        for j in range(i+1,n):\n",
    "            if (arr[j]<arr[least]):\n",
    "                least = j\n",
    "        arr[i], arr[least] = arr[least], arr[i]\n",
    "        printStep(arr, i+1)\n",
    "    return arr    \n",
    "\n",
    "def printStep(arr, val):\n",
    "    print(\"Step %2d = \"%val,end='')\n",
    "    print(arr)\n",
    "\n",
    "arr = list(range(10))\n",
    "random.shuffle(arr)\n",
    "print(arr)\n",
    "\n",
    "selection_sort(arr)"
   ]
  },
  {
   "cell_type": "markdown",
   "metadata": {},
   "source": [
    "#### 2. 순차 탐색\n",
    "\n",
    "- 비정렬 리스트 -> 비효율적이지만 이게 최선!\n"
   ]
  },
  {
   "cell_type": "code",
   "execution_count": 22,
   "metadata": {},
   "outputs": [
    {
     "data": {
      "text/plain": [
       "1"
      ]
     },
     "execution_count": 22,
     "metadata": {},
     "output_type": "execute_result"
    }
   ],
   "source": [
    "def sequential_search(arr:list, key:int):\n",
    "    for i in range(len(arr)):\n",
    "        if arr[i] == key:\n",
    "            return i\n",
    "    else:\n",
    "        return -1\n",
    "    \n",
    "sequential_search(range(10), 1)"
   ]
  },
  {
   "cell_type": "code",
   "execution_count": 31,
   "metadata": {},
   "outputs": [
    {
     "ename": "IndexError",
     "evalue": "string index out of range",
     "output_type": "error",
     "traceback": [
      "\u001b[0;31m---------------------------------------------------------------------------\u001b[0m",
      "\u001b[0;31mIndexError\u001b[0m                                Traceback (most recent call last)",
      "Cell \u001b[0;32mIn[31], line 26\u001b[0m\n\u001b[1;32m     21\u001b[0m             \u001b[38;5;28;01mreturn\u001b[39;00m i\n\u001b[1;32m     23\u001b[0m     \u001b[38;5;28;01mreturn\u001b[39;00m \u001b[38;5;241m-\u001b[39m\u001b[38;5;241m1\u001b[39m\n\u001b[0;32m---> 26\u001b[0m \u001b[43mstring_matching\u001b[49m\u001b[43m(\u001b[49m\u001b[38;5;124;43m\"\u001b[39;49m\u001b[38;5;124;43mHello, this is mike\u001b[39;49m\u001b[38;5;124;43m\"\u001b[39;49m\u001b[43m,\u001b[49m\u001b[43m \u001b[49m\u001b[38;5;124;43m\"\u001b[39;49m\u001b[38;5;124;43mmike\u001b[39;49m\u001b[38;5;124;43m\"\u001b[39;49m\u001b[43m)\u001b[49m\n",
      "Cell \u001b[0;32mIn[31], line 18\u001b[0m, in \u001b[0;36mstring_matching\u001b[0;34m(T, m)\u001b[0m\n\u001b[1;32m     16\u001b[0m \u001b[38;5;28;01mfor\u001b[39;00m i \u001b[38;5;129;01min\u001b[39;00m \u001b[38;5;28mrange\u001b[39m(\u001b[38;5;28mlen\u001b[39m(T)\u001b[38;5;241m-\u001b[39m\u001b[38;5;28mlen\u001b[39m(m)\u001b[38;5;241m+\u001b[39m\u001b[38;5;241m1\u001b[39m):\n\u001b[1;32m     17\u001b[0m     j \u001b[38;5;241m=\u001b[39m \u001b[38;5;241m0\u001b[39m\n\u001b[0;32m---> 18\u001b[0m     \u001b[38;5;28;01mwhile\u001b[39;00m \u001b[43mT\u001b[49m\u001b[43m[\u001b[49m\u001b[43mi\u001b[49m\u001b[38;5;241;43m+\u001b[39;49m\u001b[43mj\u001b[49m\u001b[43m]\u001b[49m \u001b[38;5;241m==\u001b[39m m[j] \u001b[38;5;129;01mand\u001b[39;00m j\u001b[38;5;241m<\u001b[39m\u001b[38;5;28mlen\u001b[39m(m):\n\u001b[1;32m     19\u001b[0m         j \u001b[38;5;241m+\u001b[39m\u001b[38;5;241m=\u001b[39m \u001b[38;5;241m1\u001b[39m\n\u001b[1;32m     20\u001b[0m     \u001b[38;5;28;01mif\u001b[39;00m j \u001b[38;5;241m==\u001b[39m \u001b[38;5;28mlen\u001b[39m(m):\n",
      "\u001b[0;31mIndexError\u001b[0m: string index out of range"
     ]
    }
   ],
   "source": [
    "# def string_matching(T:str, m:str):\n",
    "#     for i in range(len(T)):\n",
    "#         for j in range(len(m)):\n",
    "#             if T[i+j] == m[j]:\n",
    "#                 pass\n",
    "#             else:\n",
    "#                 break\n",
    "#         else:\n",
    "#             return i, j+1\n",
    "\n",
    "\n",
    "#     else:\n",
    "#         return -1\n",
    "\n",
    "def string_matching(T:str, m:str):\n",
    "    for i in range(len(T)-len(m)+1):\n",
    "        j = 0\n",
    "        while T[i+j] == m[j] and j<len(m):\n",
    "            j += 1\n",
    "        if j == len(m):\n",
    "            return i\n",
    "\n",
    "    return -1\n",
    "    \n",
    "\n",
    "string_matching(\"Hello, this is mike\", \"mike\")"
   ]
  },
  {
   "cell_type": "code",
   "execution_count": null,
   "metadata": {},
   "outputs": [],
   "source": []
  }
 ],
 "metadata": {
  "kernelspec": {
   "display_name": "base",
   "language": "python",
   "name": "python3"
  },
  "language_info": {
   "codemirror_mode": {
    "name": "ipython",
    "version": 3
   },
   "file_extension": ".py",
   "mimetype": "text/x-python",
   "name": "python",
   "nbconvert_exporter": "python",
   "pygments_lexer": "ipython3",
   "version": "3.11.2"
  }
 },
 "nbformat": 4,
 "nbformat_minor": 2
}
