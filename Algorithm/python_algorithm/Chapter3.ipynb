{
 "cells": [
  {
   "cell_type": "markdown",
   "metadata": {},
   "source": [
    "### 3.억지 기법과 완전 탐색\n",
    "- 정렬의 대상을 레코드, 레코드의 특성들을 필드, 정렬의 기준이 되는 필드를 키"
   ]
  },
  {
   "cell_type": "markdown",
   "metadata": {},
   "source": [
    "#### 1.Selection Sort(선택 정렬)\n",
    "\n",
    "- 최솟값을 '선택'해서, 첫 번째 요소와 교환\n",
    "- O(n^2), 불안정함\n",
    "- 원시적인 의미의 정렬을 가장 잘 표현하고 있다.\n",
    "\n",
    "\n"
   ]
  },
  {
   "cell_type": "code",
   "execution_count": 30,
   "metadata": {},
   "outputs": [
    {
     "name": "stdout",
     "output_type": "stream",
     "text": [
      "[7, 8, 5, 6, 3, 2, 9, 0, 1, 4]\n",
      "Step  1 = [0, 8, 5, 6, 3, 2, 9, 7, 1, 4]\n",
      "Step  2 = [0, 1, 5, 6, 3, 2, 9, 7, 8, 4]\n",
      "Step  3 = [0, 1, 2, 6, 3, 5, 9, 7, 8, 4]\n",
      "Step  4 = [0, 1, 2, 3, 6, 5, 9, 7, 8, 4]\n",
      "Step  5 = [0, 1, 2, 3, 4, 5, 9, 7, 8, 6]\n",
      "Step  6 = [0, 1, 2, 3, 4, 6, 9, 7, 8, 5]\n",
      "Step  7 = [0, 1, 2, 3, 4, 6, 5, 7, 8, 9]\n",
      "Step  8 = [0, 1, 2, 3, 4, 6, 5, 8, 7, 9]\n",
      "Step  9 = [0, 1, 2, 3, 4, 6, 5, 8, 9, 7]\n"
     ]
    },
    {
     "data": {
      "text/plain": [
       "[0, 1, 2, 3, 4, 6, 5, 8, 9, 7]"
      ]
     },
     "execution_count": 30,
     "metadata": {},
     "output_type": "execute_result"
    }
   ],
   "source": [
    "#code \n",
    "import random\n",
    "random.seed(23)\n",
    "\n",
    "# #sol1\n",
    "# def selection_sort(arr):\n",
    "#     for i in range(len(arr)-1):\n",
    "#         min_val = arr[i]\n",
    "#         for j in range(i+1,len(arr)):\n",
    "#             if arr[j]<min_val:\n",
    "#                 min_val = arr[j]\n",
    "#         idx = arr.index(min_val)\n",
    "#         arr[i], arr[idx] = arr[idx], arr[i]\n",
    "#         printStep(arr,i+1)\n",
    "#     return arr\n",
    "\n",
    "# #sol2\n",
    "# def selection_sort(arr):\n",
    "#     for i in range(len(arr)-1):\n",
    "#         tmp_arr = arr[i+1:]\n",
    "#         try:\n",
    "#             min_val = min(tmp_arr)\n",
    "#         except:\n",
    "#             pass\n",
    "#         min_idx = arr.index(min_val)\n",
    "#         arr[i], arr[min_idx] = arr[min_idx], arr[i]\n",
    "#         printStep(arr, i+1)\n",
    "#     return arr\n",
    "\n",
    "#sol_answer\n",
    "#값을 안 건드리고도 인덱스만 건드리면 되구나!\n",
    "def selection_sort(arr):\n",
    "    n = len(arr)\n",
    "    for i in range(n-1):\n",
    "        least = i\n",
    "        for j in range(i+1,n):\n",
    "            if (arr[j]<arr[least]):\n",
    "                least = j\n",
    "        arr[i], arr[least] = arr[least], arr[i]\n",
    "        printStep(arr, i+1)\n",
    "    return arr    \n",
    "\n",
    "def printStep(arr, val):\n",
    "    print(\"Step %2d = \"%val,end='')\n",
    "    print(arr)\n",
    "\n",
    "arr = list(range(10))\n",
    "random.shuffle(arr)\n",
    "print(arr)\n",
    "\n",
    "selection_sort(arr)"
   ]
  },
  {
   "cell_type": "markdown",
   "metadata": {},
   "source": [
    "#### 2. 순차 탐색\n",
    "\n",
    "- 비정렬 리스트 -> 비효율적이지만 이게 최선!\n"
   ]
  },
  {
   "cell_type": "code",
   "execution_count": 22,
   "metadata": {},
   "outputs": [
    {
     "data": {
      "text/plain": [
       "1"
      ]
     },
     "execution_count": 22,
     "metadata": {},
     "output_type": "execute_result"
    }
   ],
   "source": [
    "def sequential_search(arr:list, key:int):\n",
    "    for i in range(len(arr)):\n",
    "        if arr[i] == key:\n",
    "            return i\n",
    "    else:\n",
    "        return -1\n",
    "    \n",
    "sequential_search(range(10), 1)"
   ]
  },
  {
   "cell_type": "markdown",
   "metadata": {},
   "source": [
    "#### 3. 문자열 매칭"
   ]
  },
  {
   "cell_type": "code",
   "execution_count": 4,
   "metadata": {},
   "outputs": [
    {
     "data": {
      "text/plain": [
       "(15, 4)"
      ]
     },
     "execution_count": 4,
     "metadata": {},
     "output_type": "execute_result"
    }
   ],
   "source": [
    "# def string_matching(T:str, m:str):\n",
    "#     for i in range(len(T)):\n",
    "#         for j in range(len(m)):\n",
    "#             if T[i+j] == m[j]:\n",
    "#                 pass\n",
    "#             else:\n",
    "#                 break\n",
    "#         else:\n",
    "#             return i, j+1\n",
    "\n",
    "\n",
    "#     else:\n",
    "#         return -1\n",
    "\n",
    "\n",
    "def string_matching(T:str, m:str):\n",
    "    for i in range(len(T)-len(m)+1):\n",
    "        j = 0\n",
    "        while j<len(m) and T[i+j] == m[j]:\n",
    "            j += 1\n",
    "        if j == len(m):\n",
    "            return i,len(m)\n",
    "\n",
    "    return -1\n",
    "\n",
    "\n",
    "string_matching(\"Hello, this is mike\", \"mike\")"
   ]
  },
  {
   "cell_type": "markdown",
   "metadata": {},
   "source": [
    "#### 4. 최근접 쌍의 거리\n",
    "\n",
    "- "
   ]
  },
  {
   "cell_type": "code",
   "execution_count": 13,
   "metadata": {},
   "outputs": [
    {
     "data": {
      "text/plain": [
       "1.4142135623730951"
      ]
     },
     "execution_count": 13,
     "metadata": {},
     "output_type": "execute_result"
    }
   ],
   "source": [
    "import math\n",
    "\n",
    "def calculate_distance(p1:tuple, p2:tuple):\n",
    "    return math.sqrt((p2[0]-p1[0])**2 + (p2[1]-p1[1])**2)\n",
    "\n",
    "lst = [\n",
    "    (2,3),\n",
    "    (12,30),\n",
    "    (40,50),\n",
    "    (5,1),\n",
    "    (12,10),\n",
    "    (3,4)\n",
    "]\n",
    "\n",
    "# n = len(lst)\n",
    "\n",
    "# min_distance = calculate_distance(lst[0],lst[1])\n",
    "# for i in range(n):\n",
    "#     for j in range(i+1,(n)):\n",
    "#         if calculate_distance(lst[i],lst[j])<min_distance:\n",
    "#             min_distance = calculate_distance(lst[i],lst[j])\n",
    "# print(min_distance)\n",
    "\n",
    "\n",
    "def closest_pair(p):\n",
    "    n=len(p)\n",
    "    min_dist = float(\"inf\")\n",
    "    for i in range(n-1):\n",
    "        for j in range(i+1,n):\n",
    "            dist = calculate_distance(p[i],p[j])\n",
    "            if dist < min_dist:\n",
    "                min_dist = dist\n",
    "    return min_dist\n",
    "\n",
    "closest_pair(lst)\n"
   ]
  },
  {
   "cell_type": "code",
   "execution_count": 16,
   "metadata": {},
   "outputs": [
    {
     "data": {
      "text/plain": [
       "9223372036854775807"
      ]
     },
     "execution_count": 16,
     "metadata": {},
     "output_type": "execute_result"
    }
   ],
   "source": [
    "import sys\n",
    "sys.maxsize"
   ]
  },
  {
   "cell_type": "markdown",
   "metadata": {},
   "source": [
    "#### 5. 완전 탐색 (Exhausive search)\n",
    "\n",
    "- tic tac toe\n",
    "- 외판원 문제(Traveling Salesman Problem) -> n개의 완전 그래프에 대해 (n-1)!개의 Permutation\n",
    "- 01 Knapsack Problem\n",
    "- Job Assignment Problem\n",
    "- Graph Search (DFS,BFS)\n"
   ]
  },
  {
   "cell_type": "code",
   "execution_count": 22,
   "metadata": {},
   "outputs": [
    {
     "name": "stdout",
     "output_type": "stream",
     "text": [
      "A B D F C E H G "
     ]
    }
   ],
   "source": [
    "#DFS\n",
    "mygraph = {\n",
    "    \"A\" : {\"B\",\"C\"},\n",
    "    \"B\" : {\"A\",\"D\"},\n",
    "    \"C\" : {\"A\",\"D\",\"E\"},\n",
    "    \"D\" : {\"B\",\"C\",\"F\"},\n",
    "    \"E\" : {\"C\",\"G\",\"H\"},\n",
    "    \"F\" : {\"D\"},\n",
    "    \"G\" : {\"E\",\"H\"},\n",
    "    \"H\" : {\"E\",\"G\"}\n",
    "}\n",
    "\n",
    "def DFS(graph, start, visited):\n",
    "    if start not in visited:\n",
    "        visited.add(start)\n",
    "        print(start,end=' ')\n",
    "        nbr = graph[start] - visited\n",
    "        for v in nbr:\n",
    "            DFS(graph, v, visited)\n",
    "\n",
    "DFS(mygraph, \"A\", set())"
   ]
  },
  {
   "cell_type": "code",
   "execution_count": 23,
   "metadata": {},
   "outputs": [
    {
     "name": "stdout",
     "output_type": "stream",
     "text": [
      "A B C D E F H G "
     ]
    }
   ],
   "source": [
    "#BFS\n",
    "import queue \n",
    "def BFS(graph, start):\n",
    "    visited = {start}\n",
    "    que = queue.Queue()\n",
    "    que.put(start)\n",
    "    while not que.empty():\n",
    "        v = que.get()\n",
    "        print(v, end=' ')\n",
    "        nbr = graph[v] - visited\n",
    "        for u in nbr:\n",
    "            visited.add(u)\n",
    "            que.put(u)\n",
    "BFS(mygraph, \"A\")\n"
   ]
  },
  {
   "cell_type": "markdown",
   "metadata": {},
   "source": [
    "PRACTICE"
   ]
  },
  {
   "cell_type": "code",
   "execution_count": 9,
   "metadata": {},
   "outputs": [
    {
     "name": "stdout",
     "output_type": "stream",
     "text": [
      "Step  1 [3, 4, 9, 6, 7, 8, 7, 5]\n",
      "Step  2 [3, 4, 9, 6, 7, 8, 7, 5]\n",
      "Step  3 [3, 4, 5, 6, 7, 8, 7, 9]\n",
      "Step  4 [3, 4, 5, 6, 7, 8, 7, 9]\n",
      "Step  5 [3, 4, 5, 6, 7, 8, 7, 9]\n",
      "Step  6 [3, 4, 5, 6, 7, 7, 8, 9]\n",
      "Step  7 [3, 4, 5, 6, 7, 7, 8, 9]\n"
     ]
    },
    {
     "data": {
      "text/plain": [
       "[3, 4, 5, 6, 7, 7, 8, 9]"
      ]
     },
     "execution_count": 9,
     "metadata": {},
     "output_type": "execute_result"
    }
   ],
   "source": [
    "def selection_sort(arr:list):\n",
    "    for i in range(len(arr)-1):\n",
    "        min_idx = i\n",
    "        for j in range(i+1,len(arr)):\n",
    "            if arr[min_idx] > arr[j]:\n",
    "                min_idx =  j\n",
    "        arr[i], arr[min_idx] = arr[min_idx], arr[i]\n",
    "        printSort(arr, i)\n",
    "\n",
    "    return arr\n",
    "\n",
    "# #1\n",
    "# string = \"ALGORITHM\"\n",
    "# selection_sort(list(string))\n",
    "\n",
    "\n",
    "#2\n",
    "def printSort(arr:list, idx:int):\n",
    "    print(\"Step %2d\"%(idx+1), arr)\n",
    "\n",
    "lst = [7,4,9,6,3,8,7,5]\n",
    "\n",
    "selection_sort(lst)"
   ]
  },
  {
   "cell_type": "code",
   "execution_count": 10,
   "metadata": {},
   "outputs": [],
   "source": [
    "#3,4"
   ]
  },
  {
   "cell_type": "code",
   "execution_count": 65,
   "metadata": {},
   "outputs": [
    {
     "name": "stdout",
     "output_type": "stream",
     "text": [
      "Before: ['B', 'B', 'W', 'W', 'B', 'B', 'W', 'B', 'B', 'B', 'W', 'W', 'B', 'W', 'W', 'B', 'B', 'B', 'W', 'B']\n",
      "Step  1 ['B', 'W', 'W', 'B', 'B', 'W', 'B', 'B', 'B', 'W', 'W', 'B', 'W', 'W', 'B', 'B', 'B', 'W', 'B', 'B']\n",
      "Step  2 ['W', 'W', 'B', 'B', 'W', 'B', 'B', 'B', 'W', 'W', 'B', 'W', 'W', 'B', 'B', 'B', 'W', 'B', 'B', 'B']\n",
      "Step  3 ['W', 'W', 'B', 'W', 'B', 'B', 'B', 'W', 'W', 'B', 'W', 'W', 'B', 'B', 'B', 'W', 'B', 'B', 'B', 'B']\n",
      "Step  4 ['W', 'W', 'W', 'B', 'B', 'B', 'W', 'W', 'B', 'W', 'W', 'B', 'B', 'B', 'W', 'B', 'B', 'B', 'B', 'B']\n",
      "Step  5 ['W', 'W', 'W', 'B', 'B', 'W', 'W', 'B', 'W', 'W', 'B', 'B', 'B', 'W', 'B', 'B', 'B', 'B', 'B', 'B']\n",
      "Step  6 ['W', 'W', 'W', 'B', 'W', 'W', 'B', 'W', 'W', 'B', 'B', 'B', 'W', 'B', 'B', 'B', 'B', 'B', 'B', 'B']\n",
      "Step  7 ['W', 'W', 'W', 'W', 'W', 'B', 'W', 'W', 'B', 'B', 'B', 'W', 'B', 'B', 'B', 'B', 'B', 'B', 'B', 'B']\n",
      "Step  8 ['W', 'W', 'W', 'W', 'W', 'W', 'W', 'B', 'B', 'B', 'W', 'B', 'B', 'B', 'B', 'B', 'B', 'B', 'B', 'B']\n",
      "Step  9 ['W', 'W', 'W', 'W', 'W', 'W', 'W', 'B', 'B', 'W', 'B', 'B', 'B', 'B', 'B', 'B', 'B', 'B', 'B', 'B']\n",
      "Step 10 ['W', 'W', 'W', 'W', 'W', 'W', 'W', 'B', 'W', 'B', 'B', 'B', 'B', 'B', 'B', 'B', 'B', 'B', 'B', 'B']\n",
      "Step 11 ['W', 'W', 'W', 'W', 'W', 'W', 'W', 'W', 'B', 'B', 'B', 'B', 'B', 'B', 'B', 'B', 'B', 'B', 'B', 'B']\n",
      "Step 12 ['W', 'W', 'W', 'W', 'W', 'W', 'W', 'W', 'B', 'B', 'B', 'B', 'B', 'B', 'B', 'B', 'B', 'B', 'B', 'B']\n",
      "Step 13 ['W', 'W', 'W', 'W', 'W', 'W', 'W', 'W', 'B', 'B', 'B', 'B', 'B', 'B', 'B', 'B', 'B', 'B', 'B', 'B']\n",
      "Step 14 ['W', 'W', 'W', 'W', 'W', 'W', 'W', 'W', 'B', 'B', 'B', 'B', 'B', 'B', 'B', 'B', 'B', 'B', 'B', 'B']\n",
      "Step 15 ['W', 'W', 'W', 'W', 'W', 'W', 'W', 'W', 'B', 'B', 'B', 'B', 'B', 'B', 'B', 'B', 'B', 'B', 'B', 'B']\n",
      "Step 16 ['W', 'W', 'W', 'W', 'W', 'W', 'W', 'W', 'B', 'B', 'B', 'B', 'B', 'B', 'B', 'B', 'B', 'B', 'B', 'B']\n",
      "Step 17 ['W', 'W', 'W', 'W', 'W', 'W', 'W', 'W', 'B', 'B', 'B', 'B', 'B', 'B', 'B', 'B', 'B', 'B', 'B', 'B']\n",
      "Step 18 ['W', 'W', 'W', 'W', 'W', 'W', 'W', 'W', 'B', 'B', 'B', 'B', 'B', 'B', 'B', 'B', 'B', 'B', 'B', 'B']\n",
      "Step 19 ['W', 'W', 'W', 'W', 'W', 'W', 'W', 'W', 'B', 'B', 'B', 'B', 'B', 'B', 'B', 'B', 'B', 'B', 'B', 'B']\n",
      "Step 20 ['W', 'W', 'W', 'W', 'W', 'W', 'W', 'W', 'B', 'B', 'B', 'B', 'B', 'B', 'B', 'B', 'B', 'B', 'B', 'B']\n",
      "After: ['W', 'W', 'W', 'W', 'W', 'W', 'W', 'W', 'B', 'B', 'B', 'B', 'B', 'B', 'B', 'B', 'B', 'B', 'B', 'B']\n"
     ]
    }
   ],
   "source": [
    "#5\n",
    "import random\n",
    "# random.seed(23)\n",
    "BWlst = []\n",
    "for i in range(20):\n",
    "    BWlst.append(random.choice(['B','W']))\n",
    "print(\"Before:\", BWlst)\n",
    "\n",
    "def BWsort(arr:list):\n",
    "    n = len(arr)\n",
    "    for i in range(n):\n",
    "        for j in range(n-1):\n",
    "            if arr[j] == 'B' and arr[j+1] == 'W':\n",
    "                arr[j], arr[j+1] = arr[j+1], arr[j]\n",
    "        print(\"Step %2d\"%(i+1), arr)\n",
    "    return arr\n",
    "\n",
    "\n",
    "print(\"After:\", BWsort(BWlst))\n",
    "        "
   ]
  },
  {
   "cell_type": "code",
   "execution_count": 64,
   "metadata": {},
   "outputs": [
    {
     "name": "stdout",
     "output_type": "stream",
     "text": [
      "[3, 11, 38, 40, 46, 49, 55, 68, 76, 100]\n",
      "current list: [3, 11, 38, 40, 46, 49, 55, 68, 76, 100]\n",
      "current list: [49, 55, 68, 76, 100]\n",
      "current list: [49, 55]\n"
     ]
    },
    {
     "data": {
      "text/plain": [
       "55"
      ]
     },
     "execution_count": 64,
     "metadata": {},
     "output_type": "execute_result"
    }
   ],
   "source": [
    "#6 sequential sort with sorted llst\n",
    "def sequential_search(A,key):\n",
    "    n = len(A)\n",
    "    print(\"current list:\",A)\n",
    "    if key<A[0] or key>A[-1]:\n",
    "        return -1\n",
    "    \n",
    "    if key == A[n//2]:\n",
    "        return key\n",
    "    elif key > A[n//2]:\n",
    "        return sequential_search(A[n//2:],key)\n",
    "    elif key < A[n//2]:\n",
    "        return sequential_search(A[0:n//2],key)\n",
    "\n",
    "    return -1\n",
    "\n",
    "\n",
    "import random\n",
    "random.seed(23)\n",
    "lst = [random.randint(1,100) for i in range(10)]\n",
    "lst.sort()\n",
    "print(lst)\n",
    "\n",
    "# sequential_search(lst, 41)\n",
    "sequential_search(lst, 55)"
   ]
  },
  {
   "cell_type": "code",
   "execution_count": 72,
   "metadata": {},
   "outputs": [
    {
     "data": {
      "text/plain": [
       "9"
      ]
     },
     "execution_count": 72,
     "metadata": {},
     "output_type": "execute_result"
    }
   ],
   "source": [
    "#7 Sentinel\n",
    "def sequential_search(A, key):\n",
    "    n = len(A)\n",
    "    A.append(key)\n",
    "    i = 0\n",
    "    while A[-1] != A[i]:\n",
    "        i+=1\n",
    "        if i == n:\n",
    "            return -1\n",
    "    return i\n",
    "    \n",
    "\n",
    "\n",
    "lst = [17, 93, 25, 35, 57, 2, 29, 80, 59, 4]\n",
    "sequential_search(lst, 4)"
   ]
  },
  {
   "cell_type": "code",
   "execution_count": 91,
   "metadata": {},
   "outputs": [
    {
     "name": "stdout",
     "output_type": "stream",
     "text": [
      "\n"
     ]
    }
   ],
   "source": [
    "#11\n",
    "cnt = 0\n",
    "def ABpattern(string:str):\n",
    "    cnt = 0\n",
    "    for idx in range(len(string)):\n",
    "        if string[idx] == 'A':\n",
    "            print(idx+1)\n",
    "            n = string[idx+1:].count('B')\n",
    "            cnt += n\n",
    "    return cnt\n",
    "\n",
    "str1 = \"ADBAAEDBA\"\n",
    "ABpattern(str1)"
   ]
  },
  {
   "cell_type": "code",
   "execution_count": 96,
   "metadata": {},
   "outputs": [
    {
     "name": "stdout",
     "output_type": "stream",
     "text": [
      "Start: A\n",
      "Start: B\n",
      "Start: D\n",
      "Start: C\n",
      "Cycle Doesn't Exist.\n",
      "Start: E\n",
      "Start: F\n",
      "Cycle Doesn't Exist.\n",
      "Cycle Doesn't Exist.\n",
      "Cycle Doesn't Exist.\n",
      "Cycle Doesn't Exist.\n",
      "Start: C\n",
      "Start: D\n",
      "Start: B\n",
      "Cycle Doesn't Exist.\n",
      "Start: E\n",
      "Start: F\n",
      "Cycle Doesn't Exist.\n",
      "Cycle Doesn't Exist.\n",
      "Cycle Doesn't Exist.\n",
      "Cycle Doesn't Exist.\n",
      "Cycle Doesn't Exist.\n"
     ]
    }
   ],
   "source": [
    "#15\n",
    "def hamilton_cycle(graph, start,visited=None):\n",
    "    if visited is None:\n",
    "        visited = set()\n",
    "\n",
    "    size = len(graph)\n",
    "    visited.add(start)\n",
    "    print(\"Start:\", start)\n",
    "\n",
    "    current = graph[start] - visited\n",
    "    for i in current:\n",
    "        if i not in visited:\n",
    "            hamilton_cycle(graph, i, visited.copy())\n",
    "    if len(visited) == size:\n",
    "        print(\"Cycle Exists.\")\n",
    "    else:\n",
    "        print(\"Cycle Doesn't Exist.\")\n",
    "            \n",
    "\n",
    "\n",
    "graph = {\n",
    "    \"A\": {\"B\", \"C\", \"D\"},\n",
    "    \"B\": {\"A\", \"C\", \"D\"},\n",
    "    \"C\": {\"A\", \"B\", \"D\", \"E\"},\n",
    "    \"D\": {\"A\", \"B\", \"C\", \"E\"},\n",
    "    \"E\": {\"C\", \"D\"}\n",
    "}\n",
    "\n",
    "graph_no_cycle = {\n",
    "    \"A\": {\"B\", \"C\"},\n",
    "    \"B\": {\"A\", \"D\"},\n",
    "    \"C\": {\"A\", \"D\"},\n",
    "    \"D\": {\"B\", \"C\", \"E\"},\n",
    "    \"E\": {\"D\", \"F\"},\n",
    "    \"F\": {\"E\"}\n",
    "}\n",
    "\n",
    "\n",
    "\n",
    "# hamilton_cycle(graph,\"A\")\n",
    "hamilton_cycle(graph_no_cycle,\"A\")\n",
    "\n"
   ]
  },
  {
   "cell_type": "code",
   "execution_count": null,
   "metadata": {},
   "outputs": [],
   "source": []
  },
  {
   "cell_type": "code",
   "execution_count": null,
   "metadata": {},
   "outputs": [],
   "source": []
  },
  {
   "cell_type": "code",
   "execution_count": null,
   "metadata": {},
   "outputs": [],
   "source": []
  },
  {
   "cell_type": "code",
   "execution_count": null,
   "metadata": {},
   "outputs": [],
   "source": []
  },
  {
   "cell_type": "code",
   "execution_count": null,
   "metadata": {},
   "outputs": [],
   "source": []
  },
  {
   "cell_type": "code",
   "execution_count": null,
   "metadata": {},
   "outputs": [],
   "source": []
  },
  {
   "cell_type": "code",
   "execution_count": null,
   "metadata": {},
   "outputs": [],
   "source": []
  },
  {
   "cell_type": "code",
   "execution_count": null,
   "metadata": {},
   "outputs": [],
   "source": []
  },
  {
   "cell_type": "code",
   "execution_count": null,
   "metadata": {},
   "outputs": [],
   "source": []
  },
  {
   "cell_type": "code",
   "execution_count": null,
   "metadata": {},
   "outputs": [],
   "source": [
    "#23\n",
    "graph = {\n",
    "    \"A\": {\"B\", \"D\", \"E\"},\n",
    "    \"B\": {\"A\", \"C\", \"E\", \"F\"},\n",
    "    \"C\": {\"B\", \"G\"},\n",
    "    \"D\": {\"A\", \"E\"},\n",
    "    \"E\": {\"A\", \"B\", \"D\"},\n",
    "    \"F\":{\"B\", \"G\"},\n",
    "    \"G\":{\"C\", \"F\"}\n",
    "}"
   ]
  }
 ],
 "metadata": {
  "kernelspec": {
   "display_name": "base",
   "language": "python",
   "name": "python3"
  },
  "language_info": {
   "codemirror_mode": {
    "name": "ipython",
    "version": 3
   },
   "file_extension": ".py",
   "mimetype": "text/x-python",
   "name": "python",
   "nbconvert_exporter": "python",
   "pygments_lexer": "ipython3",
   "version": "3.11.2"
  }
 },
 "nbformat": 4,
 "nbformat_minor": 2
}
