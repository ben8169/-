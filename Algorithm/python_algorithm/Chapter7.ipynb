{
 "cells": [
  {
   "cell_type": "markdown",
   "metadata": {},
   "source": [
    "## 7. 동적 계획법\n",
    "\n",
    "- 분할 정복 기법과 매우 유사하면서, <b>같은 문제를 다시 풀지 않도록 하는 것이 핵심</b> \n",
    "- 부분 문제의 답을 저장하기 위해 추가메모리를 사용하므로, 공간으로 시간벌기 + 분할정복 \n",
    "- 기반상황 설정 후 일반상황 고려\n",
    "\n",
    "- 겹치는 부분 문제(overlapping subproblem), 최적 부분 구조(optimal substructure, 부분 문제의 최적해를 이용해 전체문제의 최적해를 구할 수 있는 구조)"
   ]
  },
  {
   "cell_type": "markdown",
   "metadata": {},
   "source": [
    "### 7.1 피보나치 수열과 동적계획법\n",
    "- 메모이제이션(memoization)\n",
    "    - 한번 계산한 값을 저장해두었다가 사용하는 최적화 기법\n",
    "    - top-down\n",
    "    - O(N)의 속도, O(N)의 공간 필요\n",
    "    - subprocess의 순서를 잘 모를 때\n",
    "- 테이블화\n",
    "    - 저장하는 것은 같으나, 메모리의 항목을 순서적으로 채워나가는 데 초점\n",
    "    - bottom-up\n",
    "    - O(N)의 속도, O(N)의 공간 필요\n",
    "    - 순환호출 부담이 없고 전역메모리 필요없으므로 모듈화에도 유리"
   ]
  },
  {
   "cell_type": "code",
   "execution_count": 3,
   "metadata": {},
   "outputs": [
    {
     "data": {
      "text/plain": [
       "(21, [0, 1, 1, 2, 3, 5, 8, 13, 21])"
      ]
     },
     "execution_count": 3,
     "metadata": {},
     "output_type": "execute_result"
    }
   ],
   "source": [
    "#memoization \n",
    "n = 8\n",
    "mem = [None]*(n+1)\n",
    "def fib_dp_mem(n):\n",
    "    if (mem[n] == None):\n",
    "        if n<2:\n",
    "            mem[n]=n\n",
    "        else:\n",
    "            mem[n] = fib_dp_mem(n-1) + fib_dp_mem(n-2)\n",
    "    return mem[n]\n",
    "\n",
    "fib_dp_mem(8), mem"
   ]
  },
  {
   "cell_type": "code",
   "execution_count": 9,
   "metadata": {},
   "outputs": [
    {
     "data": {
      "text/plain": [
       "(21, [0, 1, 1, 2, 3, 5, 8, 13, 21])"
      ]
     },
     "execution_count": 9,
     "metadata": {},
     "output_type": "execute_result"
    }
   ],
   "source": [
    "#tabulation\n",
    "def fib_dp_tab(n):\n",
    "    f = [None]*(n+1)\n",
    "    f[0]=0\n",
    "    f[1]=1\n",
    "    for i in range(2,n+1):\n",
    "        f[i] = f[i-1] +f[i-2]\n",
    "    return f[n], f\n",
    "fib_dp_tab(8)"
   ]
  },
  {
   "cell_type": "markdown",
   "metadata": {},
   "source": [
    "### 7.2 이항계수 구하기"
   ]
  },
  {
   "cell_type": "code",
   "execution_count": null,
   "metadata": {},
   "outputs": [],
   "source": [
    "#분할 정복\n",
    "def bino_coef_dc(n,r):\n",
    "    if r==0 or r == n:\n",
    "        return 1\n",
    "    return bino_coef_dc(n-1,r-1)+bino_coef_dc(n-1,r)"
   ]
  },
  {
   "cell_type": "code",
   "execution_count": 21,
   "metadata": {},
   "outputs": [
    {
     "name": "stdout",
     "output_type": "stream",
     "text": [
      "[1, 0, 0, 0, 0, 0, 0]\n",
      "[1, 1, 0, 0, 0, 0, 0]\n",
      "[1, 2, 1, 0, 0, 0, 0]\n",
      "[1, 3, 3, 1, 0, 0, 0]\n",
      "[1, 4, 6, 4, 1, 0, 0]\n",
      "[1, 5, 10, 10, 5, 1, 0]\n",
      "[1, 6, 15, 20, 15, 6, 0]\n"
     ]
    },
    {
     "data": {
      "text/plain": [
       "6"
      ]
     },
     "execution_count": 21,
     "metadata": {},
     "output_type": "execute_result"
    }
   ],
   "source": [
    "#tabulation\n",
    "def bino_coef_dp(n,r):\n",
    "    C = [[0]*(n+1) for _ in range(n+1)]\n",
    "\n",
    "    for i in range(n+1):\n",
    "        for j in range(min(i,r)+1):\n",
    "            if j==0 or j == i:\n",
    "                C[i][j] = 1\n",
    "            else:\n",
    "                C[i][j] = C[i-1][j-1] + C[i-1][j]\n",
    "\n",
    "    [print(z) for z in C]\n",
    "    return C[n][r]\n",
    "bino_coef_dp(6,5)"
   ]
  },
  {
   "cell_type": "markdown",
   "metadata": {},
   "source": [
    "### 7.3 0-1 Knapsack 배낭 채우기 문제"
   ]
  },
  {
   "cell_type": "code",
   "execution_count": 23,
   "metadata": {},
   "outputs": [
    {
     "data": {
      "text/plain": [
       "480"
      ]
     },
     "execution_count": 23,
     "metadata": {},
     "output_type": "execute_result"
    }
   ],
   "source": [
    "val = [60, 100, 190, 120, 200, 150]\n",
    "wt = [2, 5, 8, 4, 7, 6]\n",
    "W = 18\n",
    "n = len(val)\n",
    "\n",
    "#분할 정복\n",
    "def knapSack_dc(W, wt, val, n):\n",
    "    if n==0 or W == 0:\n",
    "        return 0\n",
    "    \n",
    "    if wt[n-1]>W:\n",
    "        return knapSack_dc(W, wt, val, n-1)\n",
    "    else:\n",
    "        valwithout = knapSack_dc(W, wt, val, n-1)\n",
    "        valWith = val[n-1] + knapSack_dc(W-wt[n-1], wt, val, n-1)\n",
    "        return max(valWith, valwithout)\n",
    "    \n",
    "knapSack_dc(W, wt, val, n)"
   ]
  },
  {
   "cell_type": "code",
   "execution_count": 26,
   "metadata": {},
   "outputs": [
    {
     "name": "stdout",
     "output_type": "stream",
     "text": [
      "[0, 0, 0, 0, 0, 0, 0, 0, 0, 0, 0, 0, 0, 0, 0, 0, 0, 0, 0]\n",
      "[0, 0, 60, 60, 60, 60, 60, 60, 60, 60, 60, 60, 60, 60, 60, 60, 60, 60, 60]\n",
      "[0, 0, 60, 60, 60, 100, 100, 160, 160, 160, 160, 160, 160, 160, 160, 160, 160, 160, 160]\n",
      "[0, 0, 60, 60, 60, 100, 100, 160, 190, 190, 250, 250, 250, 290, 290, 350, 350, 350, 350]\n",
      "[0, 0, 60, 60, 120, 120, 180, 180, 190, 220, 250, 280, 310, 310, 370, 370, 370, 410, 410]\n",
      "[0, 0, 60, 60, 120, 120, 180, 200, 200, 260, 260, 320, 320, 380, 380, 390, 420, 450, 480]\n",
      "[0, 0, 60, 60, 120, 120, 180, 200, 210, 260, 270, 320, 330, 380, 380, 410, 420, 470, 480]\n"
     ]
    },
    {
     "data": {
      "text/plain": [
       "480"
      ]
     },
     "execution_count": 26,
     "metadata": {},
     "output_type": "execute_result"
    }
   ],
   "source": [
    "#동적계획법\n",
    "def knapSack_dp(W, wt, val, n):\n",
    "    A = [[0 for _ in range(W+1)] for _ in range(n+1)]\n",
    "\n",
    "    for i in range(1, n+1):\n",
    "        for w in range(1, W+1):\n",
    "            if wt[i-1] > w:\n",
    "                A[i][w] = A[i-1][w]\n",
    "            else:\n",
    "                valWith = val[i-1] + A[i-1][w-wt[i-1]]\n",
    "                valWithout = A[i-1][w]\n",
    "                A[i][w] = max(valWith, valWithout)\n",
    "    [print(i) for i in A]\n",
    "    return A[n][W]\n",
    "\n",
    "knapSack_dp(W, wt, val, n)"
   ]
  },
  {
   "cell_type": "markdown",
   "metadata": {},
   "source": [
    "### 7.4 최장 공통 부분순서 문제(LCS, Longest Common Subsequence)\n",
    "- 데이터의 유사도 평가에 매우 유용 (유전자 염기 서열 분서이나, 두 소스파일의 차이 찾기)"
   ]
  },
  {
   "cell_type": "code",
   "execution_count": 27,
   "metadata": {},
   "outputs": [],
   "source": [
    "#순환구조 (정신나감)\n",
    "def lcs_recur(X, Y, m, n):\n",
    "    if m==0 or n==0:\n",
    "        return 0\n",
    "    elif X[m-1] == Y[n-1]:\n",
    "        return 1+ lcs_recur(X,Y,m-1,n-1)\n",
    "    else:\n",
    "        return max(lcs_recur(X,Y,m,n-1),lcs_recur(X,Y,m-1,n))"
   ]
  },
  {
   "cell_type": "code",
   "execution_count": 3,
   "metadata": {},
   "outputs": [
    {
     "name": "stdout",
     "output_type": "stream",
     "text": [
      "E OR\n"
     ]
    },
    {
     "data": {
      "text/plain": [
       "4"
      ]
     },
     "execution_count": 3,
     "metadata": {},
     "output_type": "execute_result"
    }
   ],
   "source": [
    "#동적계획법\n",
    "\n",
    "def lcs_dp(X, Y):\n",
    "    m = len(X)\n",
    "    n = len(Y)\n",
    "    L = [[None]*(n+1) for _ in range(m+1)]\n",
    "\n",
    "    for i in range(m+1):\n",
    "        for j in range(n+1):\n",
    "            if i==0 or j==0:\n",
    "                L[i][j] = 0\n",
    "            elif X[i-1] == Y[j-1]:\n",
    "                L[i][j] =  L[i-1][j-1]+1\n",
    "            else:\n",
    "                L[i][j] = max(L[i-1][j], L[i][j-1])\n",
    "\n",
    "    print(lcs_dp_traceback(\"GAME OVER\", \"HELLO WORLD\", L))\n",
    "    return L[m][n]\n",
    "\n",
    "\n",
    "def lcs_dp_traceback(X, Y, L):\n",
    "    lcs = \"\"\n",
    "    i = len(X)\n",
    "    j = len(Y)\n",
    "    while i>0 and j>0:\n",
    "        v = L[i][j]\n",
    "        if v>L[i][j-1] and v>L[i-1][j] and v>L[i-1][j-1]:\n",
    "            i-=1\n",
    "            j-=1\n",
    "            lcs = X[i] + lcs\n",
    "        \n",
    "        elif v == L[i][j-1] and v>L[i-1][j]:\n",
    "            j -=1\n",
    "        else:\n",
    "            i -= 1\n",
    "    return lcs\n",
    "\n",
    "lcs_dp(\"GAME OVER\", \"HELLO WORLD\")"
   ]
  },
  {
   "cell_type": "markdown",
   "metadata": {},
   "source": [
    "### 7.5 그래프의 인접 행렬 표현과 최단 경로 문제\n",
    "1. 시작 -> 도착 최단경로\n",
    "2. 시작 -> 모든 최단경로(Dijkstra)\n",
    "3. 모두 -> 모두 최단경로(2의 반복)"
   ]
  },
  {
   "cell_type": "markdown",
   "metadata": {},
   "source": [
    "### 7.6 모든 정점간의 최단 경로 길이\n",
    "- 3번의 더 간단한 해결법.. Floyd-Warshall 알고리즘\n",
    "- "
   ]
  },
  {
   "cell_type": "code",
   "execution_count": 4,
   "metadata": {},
   "outputs": [
    {
     "name": "stdout",
     "output_type": "stream",
     "text": [
      "==============================\n",
      "   0   7INF INF    3  10INF \n",
      "   7   0   4  10   2   6INF \n",
      "INF    4   0   2INF INF INF \n",
      "INF   10   2   0  11   9   4\n",
      "   3   2INF   11   0  13   5\n",
      "  10   6INF    9  13   0INF \n",
      "INF INF INF    4   5INF    0\n",
      "==============================\n",
      "   0   7  11  17   3  10INF \n",
      "   7   0   4  10   2   6INF \n",
      "  11   4   0   2   6  10INF \n",
      "  17  10   2   0  11   9   4\n",
      "   3   2   6  11   0   8   5\n",
      "  10   6  10   9   8   0INF \n",
      "INF INF INF    4   5INF    0\n",
      "==============================\n",
      "   0   7  11  13   3  10INF \n",
      "   7   0   4   6   2   6INF \n",
      "  11   4   0   2   6  10INF \n",
      "  13   6   2   0   8   9   4\n",
      "   3   2   6   8   0   8   5\n",
      "  10   6  10   9   8   0INF \n",
      "INF INF INF    4   5INF    0\n",
      "==============================\n",
      "   0   7  11  13   3  10  17\n",
      "   7   0   4   6   2   6  10\n",
      "  11   4   0   2   6  10   6\n",
      "  13   6   2   0   8   9   4\n",
      "   3   2   6   8   0   8   5\n",
      "  10   6  10   9   8   0  13\n",
      "  17  10   6   4   5  13   0\n",
      "==============================\n",
      "   0   5   9  11   3  10   8\n",
      "   5   0   4   6   2   6   7\n",
      "   9   4   0   2   6  10   6\n",
      "  11   6   2   0   8   9   4\n",
      "   3   2   6   8   0   8   5\n",
      "  10   6  10   9   8   0  13\n",
      "   8   7   6   4   5  13   0\n",
      "==============================\n",
      "   0   5   9  11   3  10   8\n",
      "   5   0   4   6   2   6   7\n",
      "   9   4   0   2   6  10   6\n",
      "  11   6   2   0   8   9   4\n",
      "   3   2   6   8   0   8   5\n",
      "  10   6  10   9   8   0  13\n",
      "   8   7   6   4   5  13   0\n",
      "==============================\n",
      "   0   5   9  11   3  10   8\n",
      "   5   0   4   6   2   6   7\n",
      "   9   4   0   2   6  10   6\n",
      "  11   6   2   0   8   9   4\n",
      "   3   2   6   8   0   8   5\n",
      "  10   6  10   9   8   0  13\n",
      "   8   7   6   4   5  13   0\n"
     ]
    }
   ],
   "source": [
    "import copy\n",
    "def shortest_path_floyd(vertex, W):\n",
    "    vsize = len(vertex)\n",
    "    D = copy.deepcopy(W)\n",
    "\n",
    "    for k in range(vsize):\n",
    "        for i in range(vsize):\n",
    "            for j in range(vsize):\n",
    "                if (D[i][k]+D[k][j] < D[i][j]):\n",
    "                    D[i][j] = D[i][k] + D[k][j]\n",
    "        printD(D)\n",
    "\n",
    "def printD(D):\n",
    "    vsize = len(D)\n",
    "    print(\"=\"*30)\n",
    "    for i in range(vsize):\n",
    "        for j in range(vsize):\n",
    "            if (D[i][j] == INF):\n",
    "                print(\"INF \", end='')\n",
    "            else:\n",
    "                print(\"%4d\"%D[i][j], end='')\n",
    "        print(\"\")\n",
    "\n",
    "INF = 99999\n",
    "vertex = ['A','B','C','D','E','F','G']\n",
    "weight = [[0, 7, INF, INF, 3, 10, INF],\n",
    "          [7, 0, 4, 10, 2, 6, INF],\n",
    "          [INF, 4, 0, 2, INF, INF,INF],\n",
    "          [INF, 10, 2, 0 ,11, 9, 4],\n",
    "          [3, 2, INF, 11, 0, 13, 5],\n",
    "          [10, 6, INF, 9, 13, 0, INF],\n",
    "          [INF,INF,INF,4, 5, INF, 0]]\n",
    "shortest_path_floyd(vertex,weight)\n"
   ]
  },
  {
   "cell_type": "markdown",
   "metadata": {},
   "source": [
    "### 7.7 편집 거리\n",
    "- 하나의 문자열을 수정하여 다른 문자열을 만드는 문제\n",
    "- 삽입, 삭제, 대체 3가지만을 이용함\n",
    "- 단어 철자오류, 유전자 유사도 측정 등.."
   ]
  },
  {
   "cell_type": "code",
   "execution_count": null,
   "metadata": {},
   "outputs": [],
   "source": [
    "#분할 정복\n",
    "def edit_distance(S, T, m, n):\n",
    "    if m==0: return n\n",
    "    if n==0: return m\n",
    "\n",
    "    if S[m-1] == T[n-1]:\n",
    "        return edit_distance(S, T, m-1, n-1)\n",
    "    \n",
    "    return 1+ min(edit_distance(S,T,m,n-1),\n",
    "                  edit_distance(S,T,m-1,n),\n",
    "                  edit_distance(S,T,m-1,n-1))"
   ]
  },
  {
   "cell_type": "code",
   "execution_count": 7,
   "metadata": {},
   "outputs": [
    {
     "name": "stdout",
     "output_type": "stream",
     "text": [
      "mem[0][0] =  0\n",
      "mem[1][0] =  1\n",
      "mem[2][0] =  2\n",
      "mem[0][1] =  1\n",
      "mem[1][1] =  1\n",
      "mem[2][1] =  2\n",
      "mem[1][2] =  1\n",
      "mem[2][2] =  2\n",
      "mem[0][2] =  2\n",
      "mem[0][3] =  3\n",
      "mem[1][3] =  2\n",
      "mem[2][3] =  2\n",
      "mem[3][4] =  2\n",
      "mem[4][5] =  2\n",
      "mem[5][6] =  2\n",
      "mem[6][7] =  2\n"
     ]
    },
    {
     "data": {
      "text/plain": [
       "2"
      ]
     },
     "execution_count": 7,
     "metadata": {},
     "output_type": "execute_result"
    }
   ],
   "source": [
    "#테이블 생성이 애매... memoization\n",
    "\n",
    "def edit_distance_mem(S, T, m, n):\n",
    "    global mem\n",
    "    if m==0: return n\n",
    "    if n==0: return m\n",
    "\n",
    "    if mem[m-1][n-1] == None:\n",
    "        if S[m-1] == T[n-1]:\n",
    "            mem[m-1][n-1] = edit_distance_mem(S,T,m-1,n-1)\n",
    "        \n",
    "        else:\n",
    "            mem[m-1][n-1] = 1+ min(edit_distance_mem(S,T,m,n-1),\n",
    "                  edit_distance_mem(S,T,m-1,n),\n",
    "                  edit_distance_mem(S,T,m-1,n-1))\n",
    "        print(\"mem[%d][%d] = \"%(m-1,n-1), mem[m-1][n-1])\n",
    "    \n",
    "    return mem[m-1][n-1]\n",
    "\n",
    "S = \"tuesday\"\n",
    "T = \"thursday\"\n",
    "m = len(S)\n",
    "n = len(T)\n",
    "mem = [[None for _ in range(n)] for _ in range(m)]\n",
    "\n",
    "edit_distance_mem(S,T,m,n)"
   ]
  },
  {
   "cell_type": "markdown",
   "metadata": {},
   "source": [
    "## Practice"
   ]
  },
  {
   "cell_type": "code",
   "execution_count": 7,
   "metadata": {},
   "outputs": [
    {
     "name": "stdout",
     "output_type": "stream",
     "text": [
      "0\n",
      "1\n",
      "1\n",
      "2\n",
      "3\n",
      "5\n",
      "8\n",
      "13\n",
      "21\n"
     ]
    }
   ],
   "source": [
    "#1\n",
    "# def fib_mem(n):\n",
    "#     global mem\n",
    "#     if n == 1:\n",
    "#         return 1\n",
    "#     elif n == 2:\n",
    "#         return 2\n",
    "\n",
    "    \n",
    "#     if mem[n-1] is None:\n",
    "#         if mem[n-2] is None :\n",
    "#             mem[n-2] = fib_mem(n-1)\n",
    "#         if mem[n-3] is None:\n",
    "#             mem[n-3] = fib_mem(n-2)\n",
    "#         mem[n-1] = mem[n-2]+mem[n-3]\n",
    "    \n",
    "#     return mem[n-1]\n",
    "\n",
    "# #memoization \n",
    "# n = 8\n",
    "# mem = [None]*(n+1)\n",
    "# def fib_dp_mem(n):\n",
    "#     if (mem[n] == None):\n",
    "#         if n<2:\n",
    "#             mem[n]=n\n",
    "#         else:\n",
    "#             mem[n] = fib_dp_mem(n-1) + fib_dp_mem(n-2)\n",
    "#     return mem[n]\n",
    "\n",
    "# fib_dp_mem(8), mem\n",
    "\n",
    "def fib_tbl(n):\n",
    "    t = [0]*(n+1)\n",
    "    t[0]=0\n",
    "    t[1]=1\n",
    "    for i in range(2,n):\n",
    "        t[i] = t[i-1]+t[i-2]\n",
    "    \n",
    "    return t[n-1]\n",
    "for i in range(1,10):\n",
    "    print(fib_tbl(i))\n"
   ]
  },
  {
   "cell_type": "code",
   "execution_count": 24,
   "metadata": {},
   "outputs": [
    {
     "data": {
      "text/plain": [
       "13746234145802811501267369720"
      ]
     },
     "execution_count": 24,
     "metadata": {},
     "output_type": "execute_result"
    }
   ],
   "source": [
    "#4 \n",
    "# def bino_coef_tbl(n, r):\n",
    "#     tbl = [[0 for _ in range(r+1)] for _ in range(n+1)]\n",
    "#     for i in range(r+1):\n",
    "#         tbl[i][i] = 1\n",
    "#     for i in range(n+1):\n",
    "#         tbl[i][0] = 1\n",
    "#     for i in range(1,n+1):\n",
    "#         for j in range(1,min(i,r)+1):\n",
    "#             tbl[i][j] = tbl[i-1][j-1] + tbl[i-1][j]\n",
    "#     print(tbl)\n",
    "\n",
    "#     return tbl[n][r]\n",
    "\n",
    "# bino_coef_tbl(7,3)\n",
    "\n",
    "\n",
    "# def bino_coef_dp(n,r):\n",
    "#     C = [[0]*(n+1) for _ in range(n+1)]\n",
    "\n",
    "#     for i in range(n+1):\n",
    "#         for j in range(min(i,r)+1):\n",
    "#             if j==0 or j == i:\n",
    "#                 C[i][j] = 1\n",
    "#             else:\n",
    "#                 C[i][j] = C[i-1][j-1] + C[i-1][j]\n",
    "\n",
    "#     [print(z) for z in C]\n",
    "#     return C[n][r]\n",
    "# bino_coef_dp(6,5)\n",
    "\n",
    "def bino_coed_mem(n,r,mem):\n",
    "    \n",
    "\n",
    "    if mem[0][0] == 0:\n",
    "        for i in range(n+1):\n",
    "            for j in range(min(i,r)+1):\n",
    "                if j==0 or j == i:\n",
    "                    mem[i][j] = 1\n",
    "\n",
    "    if mem[n][r] == 0:\n",
    "        mem[n][r] = bino_coed_mem(n-1,r-1,mem)+bino_coed_mem(n-1,r,mem)\n",
    "\n",
    "    return mem[n][r]\n",
    "n = 100\n",
    "r = 40\n",
    "mem = [[0 for _ in range(r+1)] for _ in range(n+1)]\n",
    "bino_coed_mem(n,r,mem)"
   ]
  },
  {
   "cell_type": "code",
   "execution_count": 16,
   "metadata": {},
   "outputs": [
    {
     "name": "stdout",
     "output_type": "stream",
     "text": [
      "n is 1\n"
     ]
    },
    {
     "data": {
      "text/plain": [
       "1"
      ]
     },
     "execution_count": 16,
     "metadata": {},
     "output_type": "execute_result"
    }
   ],
   "source": [
    "#6\n",
    "def square_matrix(M,size):\n",
    "    if size == 0: return 1\n",
    "    n=len(M)        #최대 사이즈에 대해서 모든 좌표 탐색하도록 수정\n",
    "    flag = -1\n",
    "    for i in range(size):\n",
    "        for j in range(size):\n",
    "                if M[n-j][n-i]==0:\n",
    "                    flag = 1\n",
    "                    break\n",
    "    if flag < 0:\n",
    "          return size**2    #최댓값 반출\n",
    "    else:\n",
    "        square_matrix(M,size-1)\n",
    "    \n",
    "\n",
    "M = [[1,1,1],[1,1,1],[1,1,1],[1,1,1]]\n",
    "\n",
    "\n",
    "size = min(len(M), len(M[0]))\n",
    "square_matrix(M,size)"
   ]
  },
  {
   "cell_type": "code",
   "execution_count": 28,
   "metadata": {},
   "outputs": [
    {
     "data": {
      "text/plain": [
       "64"
      ]
     },
     "execution_count": 28,
     "metadata": {},
     "output_type": "execute_result"
    }
   ],
   "source": [
    "#8\n",
    "\n",
    "def knapsack(W,wt,val,n):\n",
    "    if n==0 or W==0: return 0\n",
    "\n",
    "    if wt[n-1]>W:\n",
    "        return knapsack(W,wt,val,n-1)\n",
    "    else:\n",
    "        valwithout = knapsack(W, wt, val, n-1)\n",
    "        valwith = val[n-1] + knapsack(W-wt[n-1], wt, val,n-1)\n",
    "        return max(valwith,valwithout)\n",
    "        \n",
    "    \n",
    "W = 6\n",
    "wt = [3,2,1,4,5]\n",
    "val = [26,20,14,40,50]\n",
    "n = len(wt)\n",
    "\n",
    "knapsack(W, wt, val, n)\n"
   ]
  },
  {
   "cell_type": "code",
   "execution_count": 34,
   "metadata": {},
   "outputs": [
    {
     "data": {
      "text/plain": [
       "64"
      ]
     },
     "execution_count": 34,
     "metadata": {},
     "output_type": "execute_result"
    }
   ],
   "source": [
    "#11 \n",
    "def knapsack_mem(W,wt,val,n):\n",
    "    global mem\n",
    "    if n==0 or W==0: return 0\n",
    "\n",
    "    if wt[n-1]>W:\n",
    "        return knapsack(W,wt,val,n-1)\n",
    "    else:\n",
    "        if mem[n-1] is None:\n",
    "            valwithout = knapsack(W, wt, val, n-1)\n",
    "            valwith = val[n-1] + knapsack(W-wt[n-1], wt, val,n-1)\n",
    "            mem[n-1] =  max(valwith,valwithout)\n",
    "    \n",
    "    return mem[n-1]\n",
    "\n",
    "W = 6\n",
    "wt = [3,2,1,4,5]\n",
    "val = [26,20,14,40,50]\n",
    "n = len(wt)\n",
    "mem = [None]*n\n",
    "\n",
    "knapsack_mem(W, wt, val, n)"
   ]
  },
  {
   "cell_type": "code",
   "execution_count": 40,
   "metadata": {},
   "outputs": [
    {
     "name": "stdout",
     "output_type": "stream",
     "text": [
      "[0, 0, 0, 0, 0, 0, 0, 0, 0, 0, 0, 0, 0, 0, 0, 0, 0]\n",
      "[0, 0, 0, 0, 0, 0, 0, 0, 0, 0, 0, 0, 0, 0, 0, 0, 0]\n",
      "[0, 0, 0, 0, 0, 0, 0, 0, 1, 1, 1, 1, 1, 1, 1, 1, 1]\n",
      "[0, 0, 0, 1, 1, 1, 1, 1, 1, 1, 1, 1, 1, 1, 2, 2, 2]\n",
      "[0, 0, 0, 1, 1, 1, 1, 1, 2, 2, 2, 2, 2, 2, 2, 2, 2]\n",
      "[0, 0, 0, 1, 1, 1, 1, 2, 2, 2, 2, 2, 2, 2, 2, 2, 2]\n",
      "[0, 0, 0, 1, 1, 1, 1, 2, 2, 2, 2, 2, 2, 2, 2, 2, 2]\n",
      "[0, 0, 0, 1, 1, 1, 1, 2, 2, 2, 2, 2, 2, 2, 3, 3, 3]\n",
      "[0, 0, 0, 1, 1, 1, 1, 2, 2, 2, 2, 2, 3, 3, 3, 3, 3]\n",
      "[0, 0, 0, 1, 1, 1, 1, 2, 2, 2, 2, 2, 3, 3, 3, 3, 3]\n",
      "[0, 0, 0, 1, 1, 1, 1, 2, 2, 2, 2, 2, 3, 3, 3, 3, 3]\n",
      "[0, 0, 0, 1, 1, 1, 1, 2, 2, 2, 2, 2, 3, 3, 4, 4, 4]\n",
      "[0, 0, 0, 1, 1, 1, 1, 2, 2, 2, 2, 2, 3, 3, 4, 4, 4]\n",
      "[0, 0, 0, 1, 1, 1, 1, 2, 2, 2, 2, 2, 3, 3, 4, 4, 4]\n",
      "[0, 0, 0, 1, 1, 1, 1, 2, 2, 2, 2, 2, 3, 3, 4, 4, 4]\n"
     ]
    },
    {
     "data": {
      "text/plain": [
       "4"
      ]
     },
     "execution_count": 40,
     "metadata": {},
     "output_type": "execute_result"
    }
   ],
   "source": [
    "\n",
    "#13\n",
    "# def lcs(S, T, m, n):\n",
    "#     if m==0 or n==0: return 0\n",
    "    \n",
    "#     elif S[m-1]==T[n-1]:\n",
    "#         return 1+lcs(S, T, m-1, n-1)\n",
    "#     else:\n",
    "#         return max(lcs(S,T,m-1,n), lcs(S,T,m,n-1))\n",
    "\n",
    "def lcs(S,T):\n",
    "    m=len(S)\n",
    "    n=len(T)\n",
    "    L=[[0]*(n+1) for _ in range(m+1)]\n",
    "\n",
    "    for i in range(m+1):\n",
    "        for j in range(n+1):\n",
    "            if i==0 or j==0:\n",
    "                L[i][j]==0\n",
    "            elif S[i-1]==T[j-1]:\n",
    "                L[i][j] = L[i-1][j-1]+1\n",
    "            else:\n",
    "                L[i][j] = max(L[i-1][j],L[i][j-1])\n",
    "    [print(i) for i in L]\n",
    "    return L[m][n]\n",
    "    \n",
    "S = \"DATA STRUCTURE\"\n",
    "T = \"PYTHON ALGORITHM\"\n",
    "lcs(S,T)"
   ]
  },
  {
   "cell_type": "code",
   "execution_count": null,
   "metadata": {},
   "outputs": [],
   "source": [
    "#16\n",
    "def lcs_mem(S,T,m,n,L):\n",
    "    for i in range(m+1):\n",
    "        for j in range(n+1):\n",
    "            if S[i-1]==T[j-1]:\n",
    "                if L[i][j] == 0:\n",
    "                    L[i][j] = 1+ lcs_mem(S,T,m-1,n-1,L)\n",
    "                    # L[i][j] = L[i-1][j-1]+1\n",
    "            else:\n",
    "                if L[i][j] == 0:\n",
    "                    L[i][j] = max(lcs_mem(S,T,m-1,n,L), lcs_mem(S,T,m,n-1,L))\n",
    "    return L[m][n]\n",
    "    \n",
    "S = \"DATA STRUCTURE\"\n",
    "T = \"PYTHON ALGORITHM\"\n",
    "m=len(S)\n",
    "n=len(T)\n",
    "L=[[0]*(n+1) for _ in range(m+1)]\n",
    "for i in range(m+1):\n",
    "    for j in range(n+1):\n",
    "        if i==0 or j==0:\n",
    "            L[i][j]=0\n",
    "lcs_mem(S,T,m,n,L)"
   ]
  },
  {
   "cell_type": "code",
   "execution_count": 5,
   "metadata": {},
   "outputs": [
    {
     "name": "stdout",
     "output_type": "stream",
     "text": [
      "==============================\n",
      "   0   7   9INF INF   14\n",
      "   7   0  10  15INF   21\n",
      "   9  10   0  11INF   23\n",
      "INF   15  11   0   6INF \n",
      "INF INF INF    6   0   9\n",
      "  14  21  23INF    9   0\n",
      "==============================\n",
      "   0   7   9  22INF   14\n",
      "   7   0  10  15INF   21\n",
      "   9  10   0  11INF   23\n",
      "  22  15  11   0   6  36\n",
      "INF INF INF    6   0   9\n",
      "  14  21  23  36   9   0\n",
      "==============================\n",
      "   0   7   9  20INF   14\n",
      "   7   0  10  15INF   21\n",
      "   9  10   0  11INF   23\n",
      "  20  15  11   0   6  34\n",
      "INF INF INF    6   0   9\n",
      "  14  21  23  34   9   0\n",
      "==============================\n",
      "   0   7   9  20  26  14\n",
      "   7   0  10  15  21  21\n",
      "   9  10   0  11  17  23\n",
      "  20  15  11   0   6  34\n",
      "  26  21  17   6   0   9\n",
      "  14  21  23  34   9   0\n",
      "==============================\n",
      "   0   7   9  20  26  14\n",
      "   7   0  10  15  21  21\n",
      "   9  10   0  11  17  23\n",
      "  20  15  11   0   6  15\n",
      "  26  21  17   6   0   9\n",
      "  14  21  23  15   9   0\n",
      "==============================\n",
      "   0   7   9  20  23  14\n",
      "   7   0  10  15  21  21\n",
      "   9  10   0  11  17  23\n",
      "  20  15  11   0   6  15\n",
      "  23  21  17   6   0   9\n",
      "  14  21  23  15   9   0\n"
     ]
    }
   ],
   "source": [
    "#17\n",
    "import copy\n",
    "def shortest_path_floyd(vertex, W):\n",
    "    vsize = len(vertex)\n",
    "    D = copy.deepcopy(W)\n",
    "\n",
    "    for k in range(vsize):\n",
    "        for i in range(vsize):\n",
    "            for j in range(vsize):\n",
    "                if (D[i][k]+D[k][j] < D[i][j]):\n",
    "                    D[i][j] = D[i][k] + D[k][j]\n",
    "        printD(D)\n",
    "\n",
    "def printD(D):\n",
    "    vsize = len(D)\n",
    "    print(\"=\"*30)\n",
    "    for i in range(vsize):\n",
    "        for j in range(vsize):\n",
    "            if (D[i][j] == INF):\n",
    "                print(\"INF \", end='')\n",
    "            else:\n",
    "                print(\"%4d\"%D[i][j], end='')\n",
    "        print(\"\")\n",
    "\n",
    "INF = 99999\n",
    "vertex = ['A','B','C','D','E','F']\n",
    "weight = [[0, 7, 9, INF, INF, 14],\n",
    "          [7, 0, 10,15,INF,INF],\n",
    "          [9,10,0,11,INF,INF],\n",
    "          [INF,15,11,0,6,INF],\n",
    "          [INF,INF,INF,6,0,9],\n",
    "          [14,INF,INF,INF,9,0]\n",
    "          ]\n",
    "shortest_path_floyd(vertex,weight)\n"
   ]
  },
  {
   "cell_type": "code",
   "execution_count": 14,
   "metadata": {},
   "outputs": [
    {
     "name": "stdout",
     "output_type": "stream",
     "text": [
      "==============================\n",
      "   0   50   45   20 INF INF \n",
      "INF    0   10   15   20 INF \n",
      "INF INF    0 INF   30 INF \n",
      "  10   60   55    0   15 INF \n",
      "INF INF   35 INF    0 INF \n",
      "INF INF INF INF    3    0 \n",
      "==============================\n",
      "   0   50   45   20   70 INF \n",
      "INF    0   10   15   20 INF \n",
      "INF INF    0 INF   30 INF \n",
      "  10   60   55    0   15 INF \n",
      "INF INF   35 INF    0 INF \n",
      "INF INF INF INF    3    0 \n",
      "==============================\n",
      "   0   50   45   20   70 INF \n",
      "INF    0   10   15   20 INF \n",
      "INF INF    0 INF   30 INF \n",
      "  10   60   55    0   15 INF \n",
      "INF INF   35 INF    0 INF \n",
      "INF INF INF INF    3    0 \n",
      "==============================\n",
      "   0   50   45   20   35 INF \n",
      "  25    0   10   15   20 INF \n",
      "INF INF    0 INF   30 INF \n",
      "  10   60   55    0   15 INF \n",
      "INF INF   35 INF    0 INF \n",
      "INF INF INF INF    3    0 \n",
      "==============================\n",
      "   0   50   45   20   35 INF \n",
      "  25    0   10   15   20 INF \n",
      "INF INF    0 INF   30 INF \n",
      "  10   60   50    0   15 INF \n",
      "INF INF   35 INF    0 INF \n",
      "INF INF   38 INF    3    0 \n",
      "==============================\n",
      "   0   50   45   20   35 INF \n",
      "  25    0   10   15   20 INF \n",
      "INF INF    0 INF   30 INF \n",
      "  10   60   50    0   15 INF \n",
      "INF INF   35 INF    0 INF \n",
      "INF INF   38 INF    3    0 \n"
     ]
    }
   ],
   "source": [
    "#18\n",
    "import copy\n",
    "def shortest_path_floyd(vertex, W):\n",
    "    vsize = len(vertex)\n",
    "    D = copy.deepcopy(W)\n",
    "\n",
    "    for k in range(vsize):\n",
    "        for i in range(vsize):\n",
    "            for j in range(vsize):\n",
    "                if (D[i][k]+D[k][j] < D[i][j]):\n",
    "                    D[i][j] = D[i][k] + D[k][j]\n",
    "        printD(D)\n",
    "\n",
    "def printD(D):\n",
    "    vsize = len(D)\n",
    "    print(\"=\"*30)\n",
    "    for i in range(vsize):\n",
    "        for j in range(vsize):\n",
    "            if (D[i][j] == INF):\n",
    "                print(\"INF \", end='')\n",
    "            else:\n",
    "                print(\"%4d \"%D[i][j], end='')\n",
    "        print(\"\")\n",
    "\n",
    "INF = 99999\n",
    "vertex = ['A','B','C','D','E','F']\n",
    "weight = [[0, 50, 45, 20, INF, INF],\n",
    "          [INF, 0, 10,15,20,INF],\n",
    "          [INF,INF,0,INF,30,INF],\n",
    "          [10,INF,INF,0,15,INF],\n",
    "          [INF,INF,35,INF,0,INF],\n",
    "          [INF,INF,INF,INF,3,0]\n",
    "          ]\n",
    "shortest_path_floyd(vertex,weight)\n"
   ]
  },
  {
   "cell_type": "code",
   "execution_count": null,
   "metadata": {},
   "outputs": [],
   "source": [
    "#20 warshall 알고리즘"
   ]
  },
  {
   "cell_type": "code",
   "execution_count": 6,
   "metadata": {},
   "outputs": [
    {
     "name": "stdout",
     "output_type": "stream",
     "text": [
      "==============================\n",
      "최단 경로의 거리:\n",
      "   0   5   9  11   3  10   8\n",
      "   5   0   4   6   2   6   7\n",
      "   9   4   0   2   6  10   6\n",
      "  11   6   2   0   8   9   4\n",
      "   3   2   6   8   0   8   5\n",
      "  10   6  10   9   8   0  13\n",
      "   8   7   6   4   5  13   0\n",
      "==============================\n",
      "최단 경로의 경로:\n",
      "A에서 B로 가는 경로: A -> E -> B\n",
      "A에서 C로 가는 경로: A -> E -> B -> C\n",
      "A에서 D로 가는 경로: A -> E -> B -> C -> D\n",
      "A에서 E로 가는 경로: A -> E\n",
      "A에서 F로 가는 경로: A -> F\n",
      "A에서 G로 가는 경로: A -> E -> G\n",
      "B에서 A로 가는 경로: B -> E -> A\n",
      "B에서 C로 가는 경로: B -> C\n",
      "B에서 D로 가는 경로: B -> C -> D\n",
      "B에서 E로 가는 경로: B -> E\n",
      "B에서 F로 가는 경로: B -> F\n",
      "B에서 G로 가는 경로: B -> E -> G\n",
      "C에서 A로 가는 경로: C -> B -> E -> A\n",
      "C에서 B로 가는 경로: C -> B\n",
      "C에서 D로 가는 경로: C -> D\n",
      "C에서 E로 가는 경로: C -> B -> E\n",
      "C에서 F로 가는 경로: C -> B -> F\n",
      "C에서 G로 가는 경로: C -> D -> G\n",
      "D에서 A로 가는 경로: D -> C -> B -> E -> A\n",
      "D에서 B로 가는 경로: D -> C -> B\n",
      "D에서 C로 가는 경로: D -> C\n",
      "D에서 E로 가는 경로: D -> C -> B -> E\n",
      "D에서 F로 가는 경로: D -> F\n",
      "D에서 G로 가는 경로: D -> G\n",
      "E에서 A로 가는 경로: E -> A\n",
      "E에서 B로 가는 경로: E -> B\n",
      "E에서 C로 가는 경로: E -> B -> C\n",
      "E에서 D로 가는 경로: E -> B -> C -> D\n",
      "E에서 F로 가는 경로: E -> B -> F\n",
      "E에서 G로 가는 경로: E -> G\n",
      "F에서 A로 가는 경로: F -> A\n",
      "F에서 B로 가는 경로: F -> B\n",
      "F에서 C로 가는 경로: F -> B -> C\n",
      "F에서 D로 가는 경로: F -> D\n",
      "F에서 E로 가는 경로: F -> B -> E\n",
      "F에서 G로 가는 경로: F -> D -> G\n",
      "G에서 A로 가는 경로: G -> E -> A\n",
      "G에서 B로 가는 경로: G -> E -> B\n",
      "G에서 C로 가는 경로: G -> D -> C\n",
      "G에서 D로 가는 경로: G -> D\n",
      "G에서 E로 가는 경로: G -> E\n",
      "G에서 F로 가는 경로: G -> D -> F\n"
     ]
    }
   ],
   "source": [
    "#21\n",
    "import copy\n",
    "\n",
    "def shortest_path_floyd(vertex, W):\n",
    "    vsize = len(vertex)\n",
    "    D = copy.deepcopy(W)\n",
    "    P = [[-1 for _ in range(vsize)] for _ in range(vsize)]  # 경로 기록을 위한 2차원 배열 P 초기화\n",
    "\n",
    "    for k in range(vsize):\n",
    "        for i in range(vsize):\n",
    "            for j in range(vsize):\n",
    "                if D[i][k] + D[k][j] < D[i][j]:\n",
    "                    D[i][j] = D[i][k] + D[k][j]\n",
    "                    P[i][j] = k  # 경로 갱신\n",
    "\n",
    "    print_result(vertex, D, P)\n",
    "\n",
    "def print_result(vertex, D, P):\n",
    "    vsize = len(vertex)\n",
    "    print(\"=\" * 30)\n",
    "    print(\"최단 경로의 거리:\")\n",
    "    for i in range(vsize):\n",
    "        for j in range(vsize):\n",
    "            if D[i][j] == INF:\n",
    "                print(\"INF \", end='')\n",
    "            else:\n",
    "                print(\"%4d\" % D[i][j], end='')\n",
    "        print(\"\")\n",
    "\n",
    "    print(\"=\" * 30)\n",
    "    print(\"최단 경로의 경로:\")\n",
    "    for i in range(vsize):\n",
    "        for j in range(vsize):\n",
    "            if i != j:\n",
    "                path = get_path(i, j, P)\n",
    "                print(f\"{vertex[i]}에서 {vertex[j]}로 가는 경로: {' -> '.join(path)}\")\n",
    "\n",
    "def get_path(i, j, P):\n",
    "    if P[i][j] == -1:  # 직접적인 경로가 있는 경우\n",
    "        return [vertex[i], vertex[j]]\n",
    "    else:\n",
    "        k = P[i][j]\n",
    "        path1 = get_path(i, k, P)  # i에서 k로 가는 경로\n",
    "        path2 = get_path(k, j, P)  # k에서 j로 가는 경로\n",
    "        return path1 + path2[1:]  # 중복되는 k를 제외한 경로 반환\n",
    "\n",
    "INF = 99999\n",
    "vertex = ['A', 'B', 'C', 'D', 'E', 'F', 'G']\n",
    "weight = [[0, 7, INF, INF, 3, 10, INF],\n",
    "          [7, 0, 4, 10, 2, 6, INF],\n",
    "          [INF, 4, 0, 2, INF, INF, INF],\n",
    "          [INF, 10, 2, 0, 11, 9, 4],\n",
    "          [3, 2, INF, 11, 0, 13, 5],\n",
    "          [10, 6, INF, 9, 13, 0, INF],\n",
    "          [INF, INF, INF, 4, 5, INF, 0]]\n",
    "\n",
    "shortest_path_floyd(vertex, weight)\n"
   ]
  },
  {
   "cell_type": "code",
   "execution_count": 5,
   "metadata": {},
   "outputs": [
    {
     "name": "stdout",
     "output_type": "stream",
     "text": [
      "mem[0][0] =  1 Substitute\n",
      "mem[1][0] =  2 Delete\n",
      "mem[2][0] =  3 Delete\n",
      "mem[3][0] =  4 Delete\n",
      "mem[4][0] =  5 Delete\n",
      "mem[5][0] =  6 Delete\n",
      "mem[6][0] =  7 Delete\n",
      "mem[7][0] =  8 Delete\n",
      "mem[8][0] =  9 Delete\n",
      "mem[9][0] =  10 Delete\n",
      "mem[10][0] =  11 Delete\n",
      "mem[0][1] =  2 Insert\n",
      "mem[1][1] =  2 Substitute\n",
      "mem[2][1] =  3 Delete\n",
      "mem[3][1] =  4 Delete\n",
      "mem[4][1] =  5 Delete\n",
      "mem[5][1] =  6 Delete\n",
      "mem[6][1] =  7 Delete\n",
      "mem[7][1] =  8 Delete\n",
      "mem[8][1] =  9 Delete\n",
      "mem[9][1] =  10 Delete\n",
      "mem[10][1] =  11 Delete\n",
      "mem[0][2] =  3 Insert\n",
      "mem[1][2] =  3 Insert\n",
      "mem[2][2] =  3 Substitute\n",
      "mem[3][2] =  4 Delete\n",
      "mem[4][2] =  5 Delete\n",
      "mem[5][2] =  6 Delete\n",
      "mem[6][2] =  7 Delete\n",
      "mem[7][2] =  8 Delete\n",
      "mem[8][2] =  9 Delete\n",
      "mem[9][2] =  10 Delete\n",
      "mem[10][2] =  11 Delete\n",
      "mem[1][3] =  3 \n",
      "mem[2][3] =  4 Insert\n",
      "mem[3][3] =  4 Substitute\n",
      "mem[4][3] =  5 Delete\n",
      "mem[5][3] =  6 Delete\n",
      "mem[6][3] =  7 Delete\n",
      "mem[7][3] =  8 Delete\n",
      "mem[8][3] =  9 Delete\n",
      "mem[9][3] =  10 Delete\n",
      "mem[10][3] =  11 Delete\n",
      "mem[5][4] =  5 \n",
      "mem[6][4] =  6 Delete\n",
      "mem[7][4] =  7 Delete\n",
      "mem[8][4] =  8 Delete\n",
      "mem[9][4] =  9 Delete\n",
      "mem[10][4] =  10 Delete\n",
      "mem[7][5] =  6 \n",
      "mem[8][5] =  7 Delete\n",
      "mem[9][5] =  8 Delete\n",
      "mem[10][5] =  9 Delete\n",
      "mem[0][3] =  4 Insert\n",
      "mem[0][4] =  5 Insert\n",
      "mem[1][4] =  4 Insert\n",
      "mem[2][4] =  4 Substitute\n",
      "mem[3][4] =  5 Insert\n",
      "mem[4][5] =  5 \n",
      "mem[4][4] =  5 Substitute\n",
      "mem[5][5] =  6 Insert\n",
      "mem[6][5] =  6 Substitute\n",
      "mem[0][5] =  6 Insert\n",
      "mem[1][5] =  5 Insert\n",
      "mem[2][5] =  5 Insert\n",
      "mem[3][5] =  5 Substitute\n",
      "mem[0][6] =  7 Insert\n",
      "mem[1][6] =  6 Insert\n",
      "mem[2][6] =  6 Insert\n",
      "mem[3][6] =  6 Insert\n",
      "mem[4][6] =  6 Insert\n",
      "mem[5][6] =  6 Substitute\n",
      "mem[6][6] =  7 Insert\n",
      "mem[7][6] =  7 Insert\n",
      "mem[8][6] =  7 Substitute\n",
      "mem[9][6] =  8 Delete\n",
      "mem[10][6] =  9 Delete\n",
      "mem[1][7] =  7 \n",
      "mem[2][7] =  7 Insert\n",
      "mem[3][7] =  7 Insert\n",
      "mem[4][7] =  7 Insert\n",
      "mem[5][7] =  7 Insert\n",
      "mem[6][7] =  7 Substitute\n",
      "mem[7][7] =  8 Insert\n",
      "mem[8][7] =  8 Insert\n",
      "mem[9][7] =  8 Substitute\n",
      "mem[10][7] =  9 Delete\n",
      "mem[8][8] =  8 \n",
      "mem[9][8] =  9 Insert\n",
      "mem[10][8] =  9 Substitute\n"
     ]
    },
    {
     "data": {
      "text/plain": [
       "9"
      ]
     },
     "execution_count": 5,
     "metadata": {},
     "output_type": "execute_result"
    }
   ],
   "source": [
    "def edit_distance_mem(S, T, m, n):\n",
    "    global mem, operation\n",
    "    if m==0: return n\n",
    "    if n==0: return m\n",
    "\n",
    "    if mem[m-1][n-1] == None:\n",
    "        if S[m-1] == T[n-1]:\n",
    "            mem[m-1][n-1] = edit_distance_mem(S,T,m-1,n-1)\n",
    "        else:\n",
    "            ins = edit_distance_mem(S,T,m,n-1)\n",
    "            dels = edit_distance_mem(S,T,m-1,n)\n",
    "            sub = edit_distance_mem(S,T,m-1,n-1)\n",
    "\n",
    "            min_operation = min(ins, dels, sub)\n",
    "\n",
    "            mem[m-1][n-1] = 1 + min_operation\n",
    "\n",
    "            if min_operation == ins:\n",
    "                operation[m-1][n-1] = 'Insert'\n",
    "            elif min_operation == dels:\n",
    "                operation[m-1][n-1] = 'Delete'\n",
    "            else:\n",
    "                operation[m-1][n-1] = 'Substitute'\n",
    "        print(\"mem[%d][%d] = \"%(m-1,n-1), mem[m-1][n-1], operation[m-1][n-1])\n",
    "    \n",
    "    return mem[m-1][n-1]\n",
    "\n",
    "S = \"HELLO WORLD\"\n",
    "T = \"GAME OVER\"\n",
    "m = len(S)\n",
    "n = len(T)\n",
    "mem = [[None for _ in range(n)] for _ in range(m)]\n",
    "operation = [['' for _ in range(n)] for _ in range(m)]\n",
    "\n",
    "edit_distance_mem(S,T,m,n)\n"
   ]
  },
  {
   "cell_type": "code",
   "execution_count": null,
   "metadata": {},
   "outputs": [],
   "source": [
    "#24\n",
    "def edit_distance_mem(S, T, m, n):\n",
    "    global mem, operation\n",
    "    if m==0: return n*4\n",
    "    if n==0: return m*2\n",
    "\n",
    "    if mem[m-1][n-1] == None:\n",
    "        if S[m-1] == T[n-1]:\n",
    "            mem[m-1][n-1] = edit_distance_mem(S,T,m-1,n-1)\n",
    "        else:\n",
    "            ins = edit_distance_mem(S,T,m,n-1) + 2\n",
    "            dels = edit_distance_mem(S,T,m-1,n) + 4\n",
    "            sub = edit_distance_mem(S,T,m-1,n-1) + 6\n",
    "\n",
    "            min_operation = min(ins, dels, sub)\n",
    "\n",
    "            mem[m-1][n-1] = min_operation\n",
    "\n",
    "            if min_operation == ins:\n",
    "                operation[m-1][n-1] = 'Insert'\n",
    "            elif min_operation == dels:\n",
    "                operation[m-1][n-1] = 'Delete'\n",
    "            else:\n",
    "                operation[m-1][n-1] = 'Substitute'\n",
    "        print(\"mem[%d][%d] = \"%(m-1,n-1), mem[m-1][n-1], operation[m-1][n-1])\n",
    "    \n",
    "    return mem[m-1][n-1]\n",
    "\n",
    "S = \"HELLO WORLD\"\n",
    "T = \"GAME OVER\"\n",
    "m = len(S)\n",
    "n = len(T)\n",
    "mem = [[None for _ in range(n)] for _ in range(m)]\n",
    "operation = [['' for _ in range(n)] for _ in range(m)]\n",
    "\n",
    "edit_distance_mem(S,T,m,n)\n"
   ]
  }
 ],
 "metadata": {
  "kernelspec": {
   "display_name": "Python 3",
   "language": "python",
   "name": "python3"
  },
  "language_info": {
   "codemirror_mode": {
    "name": "ipython",
    "version": 3
   },
   "file_extension": ".py",
   "mimetype": "text/x-python",
   "name": "python",
   "nbconvert_exporter": "python",
   "pygments_lexer": "ipython3",
   "version": "3.11.2"
  }
 },
 "nbformat": 4,
 "nbformat_minor": 2
}
