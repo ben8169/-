{
 "cells": [
  {
   "cell_type": "markdown",
   "metadata": {},
   "source": [
    "## 7. 동적 계획법\n",
    "\n",
    "- 분할 정복 기법과 매우 유사하면서, <b>같은 문제를 다시 풀지 않도록 하는 것이 핵심</b> \n",
    "- 부분 문제의 답을 저장하기 위해 추가메모리를 사용하므로, 공간으로 시간벌기 + 분할정복 \n",
    "- 기반상황 설정 후 일반상황 고려\n",
    "\n",
    "- 겹치는 부분 문제(overlapping subproblem), 최적 부분 구조(optimal substructure, 부분 문제의 최적해를 이용해 전체문제의 최적해를 구할 수 있는 구조)"
   ]
  },
  {
   "cell_type": "markdown",
   "metadata": {},
   "source": [
    "### 7.1 피보나치 수열과 동적계획법\n",
    "- 메모이제이션(memoization)\n",
    "    - 한번 계산한 값을 저장해두었다가 사용하는 최적화 기법\n",
    "    - top-down\n",
    "    - O(N)의 속도, O(N)의 공간 필요\n",
    "    - subprocess의 순서를 잘 모를 때\n",
    "- 테이블화\n",
    "    - 저장하는 것은 같으나, 메모리의 항목을 순서적으로 채워나가는 데 초점\n",
    "    - bottom-up\n",
    "    - O(N)의 속도, O(N)의 공간 필요\n",
    "    - 순환호출 부담이 없고 전역메모리 필요없으므로 모듈화에도 유리"
   ]
  },
  {
   "cell_type": "code",
   "execution_count": 3,
   "metadata": {},
   "outputs": [
    {
     "data": {
      "text/plain": [
       "(21, [0, 1, 1, 2, 3, 5, 8, 13, 21])"
      ]
     },
     "execution_count": 3,
     "metadata": {},
     "output_type": "execute_result"
    }
   ],
   "source": [
    "#memoization \n",
    "n = 8\n",
    "mem = [None]*(n+1)\n",
    "def fib_dp_mem(n):\n",
    "    if (mem[n] == None):\n",
    "        if n<2:\n",
    "            mem[n]=n\n",
    "        else:\n",
    "            mem[n] = fib_dp_mem(n-1) + fib_dp_mem(n-2)\n",
    "    return mem[n]\n",
    "\n",
    "fib_dp_mem(8), mem"
   ]
  },
  {
   "cell_type": "code",
   "execution_count": 6,
   "metadata": {},
   "outputs": [
    {
     "data": {
      "text/plain": [
       "(21, [0, 1, 1, 2, 3, 5, 8, 13, 21])"
      ]
     },
     "execution_count": 6,
     "metadata": {},
     "output_type": "execute_result"
    }
   ],
   "source": [
    "#tabulation\n",
    "def fib_dp_tab(n):\n",
    "    f = [None]*(n+1)\n",
    "    f[0]=0\n",
    "    f[1]=1\n",
    "    for i in range(2,n+1):\n",
    "        f[i] = f[i-1] +f[i-2]\n",
    "    return f[n], f\n",
    "fib_dp_tab(8)"
   ]
  },
  {
   "cell_type": "markdown",
   "metadata": {},
   "source": [
    "### 7.2 이항계수 구하기"
   ]
  },
  {
   "cell_type": "code",
   "execution_count": null,
   "metadata": {},
   "outputs": [],
   "source": [
    "#분할 정복\n",
    "def bino_coef_dc(n,r):\n",
    "    if r==0 or r == n:\n",
    "        return 1\n",
    "    return bino_coef_dc(n-1,r-1)+bino_coef_dc(n-1,r)"
   ]
  },
  {
   "cell_type": "code",
   "execution_count": 21,
   "metadata": {},
   "outputs": [
    {
     "name": "stdout",
     "output_type": "stream",
     "text": [
      "[1, 0, 0, 0, 0, 0, 0]\n",
      "[1, 1, 0, 0, 0, 0, 0]\n",
      "[1, 2, 1, 0, 0, 0, 0]\n",
      "[1, 3, 3, 1, 0, 0, 0]\n",
      "[1, 4, 6, 4, 1, 0, 0]\n",
      "[1, 5, 10, 10, 5, 1, 0]\n",
      "[1, 6, 15, 20, 15, 6, 0]\n"
     ]
    },
    {
     "data": {
      "text/plain": [
       "6"
      ]
     },
     "execution_count": 21,
     "metadata": {},
     "output_type": "execute_result"
    }
   ],
   "source": [
    "#tabulation\n",
    "def bino_coef_dp(n,r):\n",
    "    C = [[0]*(n+1) for _ in range(n+1)]\n",
    "\n",
    "    for i in range(n+1):\n",
    "        for j in range(min(i,r)+1):\n",
    "            if j==0 or j == i:\n",
    "                C[i][j] = 1\n",
    "            else:\n",
    "                C[i][j] = C[i-1][j-1] + C[i-1][j]\n",
    "\n",
    "    [print(z) for z in C]\n",
    "    return C[n][r]\n",
    "bino_coef_dp(6,5)"
   ]
  },
  {
   "cell_type": "markdown",
   "metadata": {},
   "source": [
    "### 7.3 0-1 Knapsack 배낭 채우기 문제"
   ]
  },
  {
   "cell_type": "code",
   "execution_count": 23,
   "metadata": {},
   "outputs": [
    {
     "data": {
      "text/plain": [
       "480"
      ]
     },
     "execution_count": 23,
     "metadata": {},
     "output_type": "execute_result"
    }
   ],
   "source": [
    "val = [60, 100, 190, 120, 200, 150]\n",
    "wt = [2, 5, 8, 4, 7, 6]\n",
    "W = 18\n",
    "n = len(val)\n",
    "\n",
    "#분할 정복\n",
    "def knapSack_dc(W, wt, val, n):\n",
    "    if n==0 or W == 0:\n",
    "        return 0\n",
    "    \n",
    "    if wt[n-1]>W:\n",
    "        return knapSack_dc(W, wt, val, n-1)\n",
    "    else:\n",
    "        valwithout = knapSack_dc(W, wt, val, n-1)\n",
    "        valWith = val[n-1] + knapSack_dc(W-wt[n-1], wt, val, n-1)\n",
    "        return max(valWith, valwithout)\n",
    "    \n",
    "knapSack_dc(W, wt, val, n)"
   ]
  },
  {
   "cell_type": "code",
   "execution_count": 26,
   "metadata": {},
   "outputs": [
    {
     "name": "stdout",
     "output_type": "stream",
     "text": [
      "[0, 0, 0, 0, 0, 0, 0, 0, 0, 0, 0, 0, 0, 0, 0, 0, 0, 0, 0]\n",
      "[0, 0, 60, 60, 60, 60, 60, 60, 60, 60, 60, 60, 60, 60, 60, 60, 60, 60, 60]\n",
      "[0, 0, 60, 60, 60, 100, 100, 160, 160, 160, 160, 160, 160, 160, 160, 160, 160, 160, 160]\n",
      "[0, 0, 60, 60, 60, 100, 100, 160, 190, 190, 250, 250, 250, 290, 290, 350, 350, 350, 350]\n",
      "[0, 0, 60, 60, 120, 120, 180, 180, 190, 220, 250, 280, 310, 310, 370, 370, 370, 410, 410]\n",
      "[0, 0, 60, 60, 120, 120, 180, 200, 200, 260, 260, 320, 320, 380, 380, 390, 420, 450, 480]\n",
      "[0, 0, 60, 60, 120, 120, 180, 200, 210, 260, 270, 320, 330, 380, 380, 410, 420, 470, 480]\n"
     ]
    },
    {
     "data": {
      "text/plain": [
       "480"
      ]
     },
     "execution_count": 26,
     "metadata": {},
     "output_type": "execute_result"
    }
   ],
   "source": [
    "#동적계획법\n",
    "def knapSack_dp(W, wt, val, n):\n",
    "    A = [[0 for _ in range(W+1)] for _ in range(n+1)]\n",
    "\n",
    "    for i in range(1, n+1):\n",
    "        for w in range(1, W+1):\n",
    "            if wt[i-1] > w:\n",
    "                A[i][w] = A[i-1][w]\n",
    "            else:\n",
    "                valWith = val[i-1] + A[i-1][w-wt[i-1]]\n",
    "                valWithout = A[i-1][w]\n",
    "                A[i][w] = max(valWith, valWithout)\n",
    "    [print(i) for i in A]\n",
    "    return A[n][W]\n",
    "\n",
    "knapSack_dp(W, wt, val, n)\n"
   ]
  },
  {
   "cell_type": "markdown",
   "metadata": {},
   "source": [
    "### 7.4 최장 공통 부분순서 문제(LCS, Longest Common Subsequence)\n",
    "- 데이터의 유사도 평가에 매우 유용 (유전자 염기 서열 분서이나, 두 소스파일의 차이 찾기)"
   ]
  },
  {
   "cell_type": "code",
   "execution_count": 27,
   "metadata": {},
   "outputs": [],
   "source": [
    "#순환구조 (정신나감)\n",
    "def lcs_recur(X, Y, m, n):\n",
    "    if m==0 or n==0:\n",
    "        return 0\n",
    "    elif X[m-1] == Y[n-1]:\n",
    "        return 1+ lcs_recur(X,Y,m-1,n-1)\n",
    "    else:\n",
    "        return max(lcs_recur(X,Y,m,n-1),lcs_recur(X,Y,m-1,n))"
   ]
  },
  {
   "cell_type": "code",
   "execution_count": 3,
   "metadata": {},
   "outputs": [
    {
     "name": "stdout",
     "output_type": "stream",
     "text": [
      "E OR\n"
     ]
    },
    {
     "data": {
      "text/plain": [
       "4"
      ]
     },
     "execution_count": 3,
     "metadata": {},
     "output_type": "execute_result"
    }
   ],
   "source": [
    "#동적계획법\n",
    "\n",
    "def lcs_dp(X, Y):\n",
    "    m = len(X)\n",
    "    n = len(Y)\n",
    "    L = [[None]*(n+1) for _ in range(m+1)]\n",
    "\n",
    "    for i in range(m+1):\n",
    "        for j in range(n+1):\n",
    "            if i==0 or j==0:\n",
    "                L[i][j] = 0\n",
    "            elif X[i-1] == Y[j-1]:\n",
    "                L[i][j] =  L[i-1][j-1]+1\n",
    "            else:\n",
    "                L[i][j] = max(L[i-1][j], L[i][j-1])\n",
    "\n",
    "    print(lcs_dp_traceback(\"GAME OVER\", \"HELLO WORLD\", L))\n",
    "    return L[m][n]\n",
    "\n",
    "\n",
    "def lcs_dp_traceback(X, Y, L):\n",
    "    lcs = \"\"\n",
    "    i = len(X)\n",
    "    j = len(Y)\n",
    "    while i>0 and j>0:\n",
    "        v = L[i][j]\n",
    "        if v>L[i][j-1] and v>L[i-1][j] and v>L[i-1][j-1]:\n",
    "            i-=1\n",
    "            j-=1\n",
    "            lcs = X[i] + lcs\n",
    "        \n",
    "        elif v == L[i][j-1] and v>L[i-1][j]:\n",
    "            j -=1\n",
    "        else:\n",
    "            i -= 1\n",
    "    return lcs\n",
    "\n",
    "lcs_dp(\"GAME OVER\", \"HELLO WORLD\")"
   ]
  },
  {
   "cell_type": "code",
   "execution_count": null,
   "metadata": {},
   "outputs": [],
   "source": []
  }
 ],
 "metadata": {
  "kernelspec": {
   "display_name": "Python 3",
   "language": "python",
   "name": "python3"
  },
  "language_info": {
   "codemirror_mode": {
    "name": "ipython",
    "version": 3
   },
   "file_extension": ".py",
   "mimetype": "text/x-python",
   "name": "python",
   "nbconvert_exporter": "python",
   "pygments_lexer": "ipython3",
   "version": "3.11.2"
  }
 },
 "nbformat": 4,
 "nbformat_minor": 2
}
