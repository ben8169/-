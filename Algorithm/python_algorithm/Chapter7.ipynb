{
 "cells": [
  {
   "cell_type": "markdown",
   "metadata": {},
   "source": [
    "## 7. 동적 계획법\n",
    "\n",
    "- 분할 정복 기법과 매우 유사하면서, <b>같은 문제를 다시 풀지 않도록 하는 것이 핵심</b> \n",
    "- 부분 문제의 답을 저장하기 위해 추가메모리를 사용하므로, 공간으로 시간벌기 + 분할정복 \n",
    "- 기반상황 설정 후 일반상황 고려\n",
    "\n",
    "- 겹치는 부분 문제(overlapping subproblem), 최적 부분 구조(optimal substructure, 부분 문제의 최적해를 이용해 전체문제의 최적해를 구할 수 있는 구조)"
   ]
  },
  {
   "cell_type": "markdown",
   "metadata": {},
   "source": [
    "### 7.1 피보나치 수열과 동적계획법\n",
    "- 메모이제이션(memoization)\n",
    "    - 한번 계산한 값을 저장해두었다가 사용하는 최적화 기법\n",
    "    - top-down\n",
    "    - O(N)의 속도, O(N)의 공간 필요\n",
    "    - subprocess의 순서를 잘 모를 때\n",
    "- 테이블화\n",
    "    - 저장하는 것은 같으나, 메모리의 항목을 순서적으로 채워나가는 데 초점\n",
    "    - bottom-up\n",
    "    - O(N)의 속도, O(N)의 공간 필요\n",
    "    - 순환호출 부담이 없고 전역메모리 필요없으므로 모듈화에도 유리"
   ]
  },
  {
   "cell_type": "code",
   "execution_count": 3,
   "metadata": {},
   "outputs": [
    {
     "data": {
      "text/plain": [
       "(21, [0, 1, 1, 2, 3, 5, 8, 13, 21])"
      ]
     },
     "execution_count": 3,
     "metadata": {},
     "output_type": "execute_result"
    }
   ],
   "source": [
    "#memoization \n",
    "n = 8\n",
    "mem = [None]*(n+1)\n",
    "def fib_dp_mem(n):\n",
    "    if (mem[n] == None):\n",
    "        if n<2:\n",
    "            mem[n]=n\n",
    "        else:\n",
    "            mem[n] = fib_dp_mem(n-1) + fib_dp_mem(n-2)\n",
    "    return mem[n]\n",
    "\n",
    "fib_dp_mem(8), mem"
   ]
  },
  {
   "cell_type": "code",
   "execution_count": 9,
   "metadata": {},
   "outputs": [
    {
     "data": {
      "text/plain": [
       "(21, [0, 1, 1, 2, 3, 5, 8, 13, 21])"
      ]
     },
     "execution_count": 9,
     "metadata": {},
     "output_type": "execute_result"
    }
   ],
   "source": [
    "#tabulation\n",
    "def fib_dp_tab(n):\n",
    "    f = [None]*(n+1)\n",
    "    f[0]=0\n",
    "    f[1]=1\n",
    "    for i in range(2,n+1):\n",
    "        f[i] = f[i-1] +f[i-2]\n",
    "    return f[n], f\n",
    "fib_dp_tab(8)"
   ]
  },
  {
   "cell_type": "markdown",
   "metadata": {},
   "source": [
    "### 7.2 이항계수 구하기"
   ]
  },
  {
   "cell_type": "code",
   "execution_count": null,
   "metadata": {},
   "outputs": [],
   "source": [
    "#분할 정복\n",
    "def bino_coef_dc(n,r):\n",
    "    if r==0 or r == n:\n",
    "        return 1\n",
    "    return bino_coef_dc(n-1,r-1)+bino_coef_dc(n-1,r)"
   ]
  },
  {
   "cell_type": "code",
   "execution_count": 21,
   "metadata": {},
   "outputs": [
    {
     "name": "stdout",
     "output_type": "stream",
     "text": [
      "[1, 0, 0, 0, 0, 0, 0]\n",
      "[1, 1, 0, 0, 0, 0, 0]\n",
      "[1, 2, 1, 0, 0, 0, 0]\n",
      "[1, 3, 3, 1, 0, 0, 0]\n",
      "[1, 4, 6, 4, 1, 0, 0]\n",
      "[1, 5, 10, 10, 5, 1, 0]\n",
      "[1, 6, 15, 20, 15, 6, 0]\n"
     ]
    },
    {
     "data": {
      "text/plain": [
       "6"
      ]
     },
     "execution_count": 21,
     "metadata": {},
     "output_type": "execute_result"
    }
   ],
   "source": [
    "#tabulation\n",
    "def bino_coef_dp(n,r):\n",
    "    C = [[0]*(n+1) for _ in range(n+1)]\n",
    "\n",
    "    for i in range(n+1):\n",
    "        for j in range(min(i,r)+1):\n",
    "            if j==0 or j == i:\n",
    "                C[i][j] = 1\n",
    "            else:\n",
    "                C[i][j] = C[i-1][j-1] + C[i-1][j]\n",
    "\n",
    "    [print(z) for z in C]\n",
    "    return C[n][r]\n",
    "bino_coef_dp(6,5)"
   ]
  },
  {
   "cell_type": "markdown",
   "metadata": {},
   "source": [
    "### 7.3 0-1 Knapsack 배낭 채우기 문제"
   ]
  },
  {
   "cell_type": "code",
   "execution_count": 23,
   "metadata": {},
   "outputs": [
    {
     "data": {
      "text/plain": [
       "480"
      ]
     },
     "execution_count": 23,
     "metadata": {},
     "output_type": "execute_result"
    }
   ],
   "source": [
    "val = [60, 100, 190, 120, 200, 150]\n",
    "wt = [2, 5, 8, 4, 7, 6]\n",
    "W = 18\n",
    "n = len(val)\n",
    "\n",
    "#분할 정복\n",
    "def knapSack_dc(W, wt, val, n):\n",
    "    if n==0 or W == 0:\n",
    "        return 0\n",
    "    \n",
    "    if wt[n-1]>W:\n",
    "        return knapSack_dc(W, wt, val, n-1)\n",
    "    else:\n",
    "        valwithout = knapSack_dc(W, wt, val, n-1)\n",
    "        valWith = val[n-1] + knapSack_dc(W-wt[n-1], wt, val, n-1)\n",
    "        return max(valWith, valwithout)\n",
    "    \n",
    "knapSack_dc(W, wt, val, n)"
   ]
  },
  {
   "cell_type": "code",
   "execution_count": 26,
   "metadata": {},
   "outputs": [
    {
     "name": "stdout",
     "output_type": "stream",
     "text": [
      "[0, 0, 0, 0, 0, 0, 0, 0, 0, 0, 0, 0, 0, 0, 0, 0, 0, 0, 0]\n",
      "[0, 0, 60, 60, 60, 60, 60, 60, 60, 60, 60, 60, 60, 60, 60, 60, 60, 60, 60]\n",
      "[0, 0, 60, 60, 60, 100, 100, 160, 160, 160, 160, 160, 160, 160, 160, 160, 160, 160, 160]\n",
      "[0, 0, 60, 60, 60, 100, 100, 160, 190, 190, 250, 250, 250, 290, 290, 350, 350, 350, 350]\n",
      "[0, 0, 60, 60, 120, 120, 180, 180, 190, 220, 250, 280, 310, 310, 370, 370, 370, 410, 410]\n",
      "[0, 0, 60, 60, 120, 120, 180, 200, 200, 260, 260, 320, 320, 380, 380, 390, 420, 450, 480]\n",
      "[0, 0, 60, 60, 120, 120, 180, 200, 210, 260, 270, 320, 330, 380, 380, 410, 420, 470, 480]\n"
     ]
    },
    {
     "data": {
      "text/plain": [
       "480"
      ]
     },
     "execution_count": 26,
     "metadata": {},
     "output_type": "execute_result"
    }
   ],
   "source": [
    "#동적계획법\n",
    "def knapSack_dp(W, wt, val, n):\n",
    "    A = [[0 for _ in range(W+1)] for _ in range(n+1)]\n",
    "\n",
    "    for i in range(1, n+1):\n",
    "        for w in range(1, W+1):\n",
    "            if wt[i-1] > w:\n",
    "                A[i][w] = A[i-1][w]\n",
    "            else:\n",
    "                valWith = val[i-1] + A[i-1][w-wt[i-1]]\n",
    "                valWithout = A[i-1][w]\n",
    "                A[i][w] = max(valWith, valWithout)\n",
    "    [print(i) for i in A]\n",
    "    return A[n][W]\n",
    "\n",
    "knapSack_dp(W, wt, val, n)\n"
   ]
  },
  {
   "cell_type": "markdown",
   "metadata": {},
   "source": [
    "### 7.4 최장 공통 부분순서 문제(LCS, Longest Common Subsequence)\n",
    "- 데이터의 유사도 평가에 매우 유용 (유전자 염기 서열 분서이나, 두 소스파일의 차이 찾기)"
   ]
  },
  {
   "cell_type": "code",
   "execution_count": 27,
   "metadata": {},
   "outputs": [],
   "source": [
    "#순환구조 (정신나감)\n",
    "def lcs_recur(X, Y, m, n):\n",
    "    if m==0 or n==0:\n",
    "        return 0\n",
    "    elif X[m-1] == Y[n-1]:\n",
    "        return 1+ lcs_recur(X,Y,m-1,n-1)\n",
    "    else:\n",
    "        return max(lcs_recur(X,Y,m,n-1),lcs_recur(X,Y,m-1,n))"
   ]
  },
  {
   "cell_type": "code",
   "execution_count": 3,
   "metadata": {},
   "outputs": [
    {
     "name": "stdout",
     "output_type": "stream",
     "text": [
      "E OR\n"
     ]
    },
    {
     "data": {
      "text/plain": [
       "4"
      ]
     },
     "execution_count": 3,
     "metadata": {},
     "output_type": "execute_result"
    }
   ],
   "source": [
    "#동적계획법\n",
    "\n",
    "def lcs_dp(X, Y):\n",
    "    m = len(X)\n",
    "    n = len(Y)\n",
    "    L = [[None]*(n+1) for _ in range(m+1)]\n",
    "\n",
    "    for i in range(m+1):\n",
    "        for j in range(n+1):\n",
    "            if i==0 or j==0:\n",
    "                L[i][j] = 0\n",
    "            elif X[i-1] == Y[j-1]:\n",
    "                L[i][j] =  L[i-1][j-1]+1\n",
    "            else:\n",
    "                L[i][j] = max(L[i-1][j], L[i][j-1])\n",
    "\n",
    "    print(lcs_dp_traceback(\"GAME OVER\", \"HELLO WORLD\", L))\n",
    "    return L[m][n]\n",
    "\n",
    "\n",
    "def lcs_dp_traceback(X, Y, L):\n",
    "    lcs = \"\"\n",
    "    i = len(X)\n",
    "    j = len(Y)\n",
    "    while i>0 and j>0:\n",
    "        v = L[i][j]\n",
    "        if v>L[i][j-1] and v>L[i-1][j] and v>L[i-1][j-1]:\n",
    "            i-=1\n",
    "            j-=1\n",
    "            lcs = X[i] + lcs\n",
    "        \n",
    "        elif v == L[i][j-1] and v>L[i-1][j]:\n",
    "            j -=1\n",
    "        else:\n",
    "            i -= 1\n",
    "    return lcs\n",
    "\n",
    "lcs_dp(\"GAME OVER\", \"HELLO WORLD\")"
   ]
  },
  {
   "cell_type": "markdown",
   "metadata": {},
   "source": [
    "### 7.5 그래프의 인접 행렬 표현과 최단 경로 문제\n",
    "1. 시작 -> 도착 최단경로\n",
    "2. 시작 -> 모든 최단경로(Dijkstra)\n",
    "3. 모두 -> 모두 최단경로(2의 반복)"
   ]
  },
  {
   "cell_type": "markdown",
   "metadata": {},
   "source": [
    "### 7.6 모든 정점간의 최단 경로 길이\n",
    "- 3번의 더 간단한 해결법.. Floyd-Warshall 알고리즘\n",
    "- "
   ]
  },
  {
   "cell_type": "code",
   "execution_count": 4,
   "metadata": {},
   "outputs": [
    {
     "name": "stdout",
     "output_type": "stream",
     "text": [
      "==============================\n",
      "   0   7INF INF    3  10INF \n",
      "   7   0   4  10   2   6INF \n",
      "INF    4   0   2INF INF INF \n",
      "INF   10   2   0  11   9   4\n",
      "   3   2INF   11   0  13   5\n",
      "  10   6INF    9  13   0INF \n",
      "INF INF INF    4   5INF    0\n",
      "==============================\n",
      "   0   7  11  17   3  10INF \n",
      "   7   0   4  10   2   6INF \n",
      "  11   4   0   2   6  10INF \n",
      "  17  10   2   0  11   9   4\n",
      "   3   2   6  11   0   8   5\n",
      "  10   6  10   9   8   0INF \n",
      "INF INF INF    4   5INF    0\n",
      "==============================\n",
      "   0   7  11  13   3  10INF \n",
      "   7   0   4   6   2   6INF \n",
      "  11   4   0   2   6  10INF \n",
      "  13   6   2   0   8   9   4\n",
      "   3   2   6   8   0   8   5\n",
      "  10   6  10   9   8   0INF \n",
      "INF INF INF    4   5INF    0\n",
      "==============================\n",
      "   0   7  11  13   3  10  17\n",
      "   7   0   4   6   2   6  10\n",
      "  11   4   0   2   6  10   6\n",
      "  13   6   2   0   8   9   4\n",
      "   3   2   6   8   0   8   5\n",
      "  10   6  10   9   8   0  13\n",
      "  17  10   6   4   5  13   0\n",
      "==============================\n",
      "   0   5   9  11   3  10   8\n",
      "   5   0   4   6   2   6   7\n",
      "   9   4   0   2   6  10   6\n",
      "  11   6   2   0   8   9   4\n",
      "   3   2   6   8   0   8   5\n",
      "  10   6  10   9   8   0  13\n",
      "   8   7   6   4   5  13   0\n",
      "==============================\n",
      "   0   5   9  11   3  10   8\n",
      "   5   0   4   6   2   6   7\n",
      "   9   4   0   2   6  10   6\n",
      "  11   6   2   0   8   9   4\n",
      "   3   2   6   8   0   8   5\n",
      "  10   6  10   9   8   0  13\n",
      "   8   7   6   4   5  13   0\n",
      "==============================\n",
      "   0   5   9  11   3  10   8\n",
      "   5   0   4   6   2   6   7\n",
      "   9   4   0   2   6  10   6\n",
      "  11   6   2   0   8   9   4\n",
      "   3   2   6   8   0   8   5\n",
      "  10   6  10   9   8   0  13\n",
      "   8   7   6   4   5  13   0\n"
     ]
    }
   ],
   "source": [
    "import copy\n",
    "def shortest_path_floyd(vertex, W):\n",
    "    vsize = len(vertex)\n",
    "    D = copy.deepcopy(W)\n",
    "\n",
    "    for k in range(vsize):\n",
    "        for i in range(vsize):\n",
    "            for j in range(vsize):\n",
    "                if (D[i][k]+D[k][j] < D[i][j]):\n",
    "                    D[i][j] = D[i][k] + D[k][j]\n",
    "        printD(D)\n",
    "\n",
    "def printD(D):\n",
    "    vsize = len(D)\n",
    "    print(\"=\"*30)\n",
    "    for i in range(vsize):\n",
    "        for j in range(vsize):\n",
    "            if (D[i][j] == INF):\n",
    "                print(\"INF \", end='')\n",
    "            else:\n",
    "                print(\"%4d\"%D[i][j], end='')\n",
    "        print(\"\")\n",
    "\n",
    "INF = 99999\n",
    "vertex = ['A','B','C','D','E','F','G']\n",
    "weight = [[0, 7, INF, INF, 3, 10, INF],\n",
    "          [7, 0, 4, 10, 2, 6, INF],\n",
    "          [INF, 4, 0, 2, INF, INF,INF],\n",
    "          [INF, 10, 2, 0 ,11, 9, 4],\n",
    "          [3, 2, INF, 11, 0, 13, 5],\n",
    "          [10, 6, INF, 9, 13, 0, INF],\n",
    "          [INF,INF,INF,4, 5, INF, 0]]\n",
    "shortest_path_floyd(vertex,weight)\n"
   ]
  },
  {
   "cell_type": "markdown",
   "metadata": {},
   "source": [
    "### 7.7 편집 거리\n",
    "- 하나의 문자열을 수정하여 다른 문자열을 만드는 문제\n",
    "- 삽입, 삭제, 대체 3가지만을 이용함\n",
    "- 단어 철자오류, 유전자 유사도 측정 등.."
   ]
  },
  {
   "cell_type": "code",
   "execution_count": null,
   "metadata": {},
   "outputs": [],
   "source": [
    "#분할 정복\n",
    "def edit_distance(S, T, m, n):\n",
    "    if m==0: return n\n",
    "    if n==0: return m\n",
    "\n",
    "    if S[m-1] == T[n-1]:\n",
    "        return edit_distance(S, T, m-1, n-1)\n",
    "    \n",
    "    return 1+ min(edit_distance(S,T,m,n-1),\n",
    "                  edit_distance(S,T,m-1,n),\n",
    "                  edit_distance(S,T,m-1,n-1))"
   ]
  },
  {
   "cell_type": "code",
   "execution_count": 7,
   "metadata": {},
   "outputs": [
    {
     "name": "stdout",
     "output_type": "stream",
     "text": [
      "mem[0][0] =  0\n",
      "mem[1][0] =  1\n",
      "mem[2][0] =  2\n",
      "mem[0][1] =  1\n",
      "mem[1][1] =  1\n",
      "mem[2][1] =  2\n",
      "mem[1][2] =  1\n",
      "mem[2][2] =  2\n",
      "mem[0][2] =  2\n",
      "mem[0][3] =  3\n",
      "mem[1][3] =  2\n",
      "mem[2][3] =  2\n",
      "mem[3][4] =  2\n",
      "mem[4][5] =  2\n",
      "mem[5][6] =  2\n",
      "mem[6][7] =  2\n"
     ]
    },
    {
     "data": {
      "text/plain": [
       "2"
      ]
     },
     "execution_count": 7,
     "metadata": {},
     "output_type": "execute_result"
    }
   ],
   "source": [
    "#테이블 생성이 애매... memoization\n",
    "\n",
    "def edit_distance_mem(S, T, m, n):\n",
    "    global mem\n",
    "    if m==0: return n\n",
    "    if n==0: return m\n",
    "\n",
    "    if mem[m-1][n-1] == None:\n",
    "        if S[m-1] == T[n-1]:\n",
    "            mem[m-1][n-1] = edit_distance_mem(S,T,m-1,n-1)\n",
    "        \n",
    "        else:\n",
    "            mem[m-1][n-1] = 1+ min(edit_distance_mem(S,T,m,n-1),\n",
    "                  edit_distance_mem(S,T,m-1,n),\n",
    "                  edit_distance_mem(S,T,m-1,n-1))\n",
    "        print(\"mem[%d][%d] = \"%(m-1,n-1), mem[m-1][n-1])\n",
    "    \n",
    "    return mem[m-1][n-1]\n",
    "\n",
    "S = \"tuesday\"\n",
    "T = \"thursday\"\n",
    "m = len(S)\n",
    "n = len(T)\n",
    "mem = [[None for _ in range(n)] for _ in range(m)]\n",
    "\n",
    "edit_distance_mem(S,T,m,n)"
   ]
  },
  {
   "cell_type": "markdown",
   "metadata": {},
   "source": [
    "## Practice"
   ]
  },
  {
   "cell_type": "code",
   "execution_count": 7,
   "metadata": {},
   "outputs": [
    {
     "name": "stdout",
     "output_type": "stream",
     "text": [
      "0\n",
      "1\n",
      "1\n",
      "2\n",
      "3\n",
      "5\n",
      "8\n",
      "13\n",
      "21\n"
     ]
    }
   ],
   "source": [
    "#1\n",
    "# def fib_mem(n):\n",
    "#     global mem\n",
    "#     if n == 1:\n",
    "#         return 1\n",
    "#     elif n == 2:\n",
    "#         return 2\n",
    "\n",
    "    \n",
    "#     if mem[n-1] is None:\n",
    "#         if mem[n-2] is None :\n",
    "#             mem[n-2] = fib_mem(n-1)\n",
    "#         if mem[n-3] is None:\n",
    "#             mem[n-3] = fib_mem(n-2)\n",
    "#         mem[n-1] = mem[n-2]+mem[n-3]\n",
    "    \n",
    "#     return mem[n-1]\n",
    "\n",
    "# #memoization \n",
    "# n = 8\n",
    "# mem = [None]*(n+1)\n",
    "# def fib_dp_mem(n):\n",
    "#     if (mem[n] == None):\n",
    "#         if n<2:\n",
    "#             mem[n]=n\n",
    "#         else:\n",
    "#             mem[n] = fib_dp_mem(n-1) + fib_dp_mem(n-2)\n",
    "#     return mem[n]\n",
    "\n",
    "# fib_dp_mem(8), mem\n",
    "\n",
    "def fib_tbl(n):\n",
    "    t = [0]*(n+1)\n",
    "    t[0]=0\n",
    "    t[1]=1\n",
    "    for i in range(2,n):\n",
    "        t[i] = t[i-1]+t[i-2]\n",
    "    \n",
    "    return t[n-1]\n",
    "for i in range(1,10):\n",
    "    print(fib_tbl(i))\n"
   ]
  },
  {
   "cell_type": "code",
   "execution_count": null,
   "metadata": {},
   "outputs": [],
   "source": []
  }
 ],
 "metadata": {
  "kernelspec": {
   "display_name": "Python 3",
   "language": "python",
   "name": "python3"
  },
  "language_info": {
   "codemirror_mode": {
    "name": "ipython",
    "version": 3
   },
   "file_extension": ".py",
   "mimetype": "text/x-python",
   "name": "python",
   "nbconvert_exporter": "python",
   "pygments_lexer": "ipython3",
   "version": "3.11.2"
  }
 },
 "nbformat": 4,
 "nbformat_minor": 2
}
