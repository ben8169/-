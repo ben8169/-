{
 "cells": [
  {
   "cell_type": "markdown",
   "metadata": {},
   "source": [
    "#### 1.3"
   ]
  },
  {
   "cell_type": "code",
   "execution_count": 9,
   "metadata": {},
   "outputs": [
    {
     "name": "stdout",
     "output_type": "stream",
     "text": [
      "[10.     8.125  6.5    5.125  4.     3.125  2.5    2.125  2.     2.125\n",
      "  2.5    3.125  4.     5.125  6.5    8.125 10.   ]\n"
     ]
    }
   ],
   "source": [
    "#https://github.com/wikibook/pytorchdl2/blob/main/notebooks/ch01_python.ipynb\n",
    "import numpy as np\n",
    "import matplotlib.pyplot as plt\n",
    "\n",
    "def f(x):\n",
    "    return (2* x**2 +2)\n",
    "\n",
    "\n",
    "x = np.arange(-2,2.1,0.25)\n",
    "y = f(x)\n",
    "print(y)\n",
    "\n",
    "plt.plot(x, y)\n",
    "plt.show"
   ]
  },
  {
   "cell_type": "markdown",
   "metadata": {},
   "source": [
    "#### 1.4\n",
    "$f'(x) = \\lim_{h \\to 0} \\frac{f(x+h) - f(x-h)}{2h}$\n",
    "<br>\n",
    "->중심 차분"
   ]
  },
  {
   "cell_type": "code",
   "execution_count": 12,
   "metadata": {},
   "outputs": [
    {
     "name": "stdout",
     "output_type": "stream",
     "text": [
      "<function fdiff.<locals>.diff at 0x0000019991009240>\n",
      "[-8.e-12 -7.e-12 -6.e-12 -5.e-12 -4.e-12 -3.e-12 -2.e-12 -1.e-12  0.e+00\n",
      "  1.e-12  2.e-12  3.e-12  4.e-12  5.e-12  6.e-12  7.e-12  8.e-12]\n"
     ]
    }
   ],
   "source": [
    "def fdiff(f):\n",
    "    def diff(x):  \n",
    "        h = 1e-6\n",
    "        return (f(x+h)-f(x-h)) / 2*h\n",
    "    return diff\n",
    "\n",
    "\n",
    "diff = fdiff(f)\n",
    "y_dash = diff(x)\n",
    "print(diff)         #합성함수\n",
    "print(y_dash)"
   ]
  },
  {
   "cell_type": "code",
   "execution_count": null,
   "metadata": {},
   "outputs": [],
   "source": [
    "plt.plot(x, y, label=r'y=f(x)', c = 'b')\n",
    "plt.plot(x, y_dash, label=r\"y=f'(x)\", c='r')\n",
    "plt.legend()\n",
    "plt.show()"
   ]
  },
  {
   "cell_type": "code",
   "execution_count": 15,
   "metadata": {},
   "outputs": [
    {
     "name": "stdout",
     "output_type": "stream",
     "text": [
      "[0.11920292 0.1480472  0.18242552 0.22270014 0.26894142 0.3208213\n",
      " 0.37754067 0.4378235  0.5        0.5621765  0.62245933 0.6791787\n",
      " 0.73105858 0.77729986 0.81757448 0.8519528  0.88079708]\n"
     ]
    }
   ],
   "source": [
    "def g(x):\n",
    "    return 1/(np.exp(-x)+1)\n",
    "\n",
    "y=g(x)\n",
    "print(y)       # x=0일 때 정확히 0.5를 표시"
   ]
  },
  {
   "cell_type": "code",
   "execution_count": null,
   "metadata": {},
   "outputs": [],
   "source": [
    "plt.plot(x, y)\n",
    "plt.show()"
   ]
  },
  {
   "cell_type": "code",
   "execution_count": null,
   "metadata": {},
   "outputs": [],
   "source": [
    "diff = fdiff(g)\n",
    "y_dash = diff(x)\n",
    "print(y_dash)\n",
    "\n",
    "plt.plot(x, y, label=r'y=f(x)', c='b')\n",
    "plt.plot(x, y, label=r\"y=f'(x)\", c='r')\n",
    "plt.legend()\n",
    "plt.show()          #x=0"
   ]
  },
  {
   "cell_type": "markdown",
   "metadata": {},
   "source": [
    "#### 1.5"
   ]
  },
  {
   "cell_type": "code",
   "execution_count": 1,
   "metadata": {},
   "outputs": [],
   "source": [
    "import matplotlib.pyplot as plt\n",
    "import matplotlib.patches as patches\n",
    "\n",
    "class Point:\n",
    "    def __init__(self, x, y):\n",
    "        self.x = x\n",
    "        self.y = y\n",
    "\n",
    "    def draw(self):\n",
    "        plt.plot(self.x, self.y, marker='o', markersize=10, c='r')\n",
    "\n",
    "class Circle(Point):\n",
    "    def __init__(self, x, y, r):\n",
    "        super().__init__(x, y)\n",
    "        self.r = r\n",
    "\n",
    "class Circle2(Point):\n",
    "    def __init__(self, x, y, r):\n",
    "        super().__init__(x, y)\n",
    "        self.r = r\n",
    "\n",
    "    def draw(self):\n",
    "        super().draw()\n",
    "        c = patches.Circle(xy=(self.x, self.y), radius=self.r, fc='b', ec='k')\n",
    "        ax.add_patch(c)\n",
    "\n",
    "\n",
    "\n",
    "p1 = Point(2,3)\n",
    "p2 = Point(-1,-2)\n",
    "\n",
    "print(p1.x, p1.y)\n",
    "p1.draw()\n",
    "plt.show()\n",
    "\n",
    "c1_1 = Circle(1, 0 , 2)\n",
    "print(c1_1.x,c1_1.y,c1_1.r)\n",
    "\n",
    "ax = plt.subplot()\n",
    "p1.draw()\n",
    "p2.draw()\n",
    "c1_1.draw()\n",
    "plt.show()\n",
    "\n",
    "\n",
    "c2_1 = Circle2(1,0,2)\n",
    "\n",
    "ax = plt.subplot()\n",
    "p1.draw()\n",
    "p2.draw()\n",
    "c2_1.draw()\n",
    "plt.xlim(-4,4)\n",
    "plt.ylim(-4,4)\n",
    "plt.show()\n",
    "\n",
    "\n"
   ]
  },
  {
   "cell_type": "code",
   "execution_count": 4,
   "metadata": {},
   "outputs": [
    {
     "name": "stdout",
     "output_type": "stream",
     "text": [
      "1\n",
      "2\n"
     ]
    }
   ],
   "source": [
    "class testclass:\n",
    "    def __init__(self) -> None:\n",
    "        pass\n",
    "    def testfunc1(self):\n",
    "        print(1)\n",
    "\n",
    "class testclass2(testclass):\n",
    "    def __init__(self) -> None:\n",
    "        super().__init__()\n",
    "    \n",
    "    def testfunc2(self):\n",
    "        super().testfunc1()\n",
    "        print(2)\n",
    "\n",
    "\n",
    "t = testclass2()\n",
    "t.testfunc2()\n"
   ]
  },
  {
   "cell_type": "code",
   "execution_count": 10,
   "metadata": {},
   "outputs": [
    {
     "name": "stdout",
     "output_type": "stream",
     "text": [
      "1\n"
     ]
    },
    {
     "data": {
      "text/plain": [
       "(16, 16)"
      ]
     },
     "execution_count": 10,
     "metadata": {},
     "output_type": "execute_result"
    }
   ],
   "source": [
    "class testclass:\n",
    "    def __init__(self) -> None:\n",
    "        print(1)\n",
    "    def testfunc1(self):\n",
    "        pass\n",
    "    def __call__(self, x):\n",
    "        return x**2\n",
    "    def power(self, x):\n",
    "        return x**2\n",
    "\n",
    "\n",
    "t = testclass()\n",
    "t(4), t.power(4)"
   ]
  },
  {
   "cell_type": "code",
   "execution_count": null,
   "metadata": {},
   "outputs": [],
   "source": []
  }
 ],
 "metadata": {
  "kernelspec": {
   "display_name": "base",
   "language": "python",
   "name": "python3"
  },
  "language_info": {
   "codemirror_mode": {
    "name": "ipython",
    "version": 3
   },
   "file_extension": ".py",
   "mimetype": "text/x-python",
   "name": "python",
   "nbconvert_exporter": "python",
   "pygments_lexer": "ipython3",
   "version": "3.10.13"
  }
 },
 "nbformat": 4,
 "nbformat_minor": 2
}
