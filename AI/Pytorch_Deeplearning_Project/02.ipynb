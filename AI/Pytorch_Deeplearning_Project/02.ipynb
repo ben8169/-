{
 "cells": [
  {
   "cell_type": "markdown",
   "metadata": {},
   "source": [
    ">#### 2.2"
   ]
  },
  {
   "cell_type": "code",
   "execution_count": 1,
   "metadata": {},
   "outputs": [],
   "source": [
    "import torch\n",
    "import numpy as np\n",
    "import matplotlib.pyplot as plt"
   ]
  },
  {
   "cell_type": "code",
   "execution_count": 2,
   "metadata": {},
   "outputs": [
    {
     "name": "stdout",
     "output_type": "stream",
     "text": [
      "<class 'torch.Tensor'>\n",
      "torch.float32\n",
      "torch.Size([])\n",
      "tensor(1.)\n"
     ]
    }
   ],
   "source": [
    "r0 = torch.tensor(1.0).float()      #Tensor 생성 시 float()를 꼭 붙여서 float32로 변환!!(nn.Linear에서 에러 발생)\n",
    "print(type(r0))\n",
    "print(r0.dtype)\n",
    "print(r0.shape)\n",
    "print(r0.data)"
   ]
  },
  {
   "cell_type": "code",
   "execution_count": 3,
   "metadata": {},
   "outputs": [
    {
     "name": "stdout",
     "output_type": "stream",
     "text": [
      "(5,)\n",
      "torch.float32\n",
      "torch.Size([5])\n",
      "tensor([1., 2., 3., 4., 5.])\n"
     ]
    }
   ],
   "source": [
    "r1_np = np.array([1,2,3,4,5])\n",
    "print(r1_np.shape)\n",
    "\n",
    "r1 = torch.tensor(r1_np).float()\n",
    "print(r1.dtype)\n",
    "print(r1.shape)\n",
    "print(r1.data)"
   ]
  },
  {
   "cell_type": "code",
   "execution_count": 4,
   "metadata": {},
   "outputs": [
    {
     "name": "stdout",
     "output_type": "stream",
     "text": [
      "(2, 3)\n",
      "torch.Size([2, 3])\n",
      "tensor([[1., 5., 6.],\n",
      "        [4., 3., 2.]])\n"
     ]
    }
   ],
   "source": [
    "r2_np = np.array([[1,5,6], [4,3,2]])\n",
    "print(r2_np.shape)\n",
    "\n",
    "r2 = torch.tensor(r2_np).float()\n",
    "print(r2.shape)\n",
    "print(r2.data)\n"
   ]
  },
  {
   "cell_type": "code",
   "execution_count": 5,
   "metadata": {},
   "outputs": [
    {
     "name": "stdout",
     "output_type": "stream",
     "text": [
      "torch.Size([3, 2, 2])\n",
      "tensor([[[-0.1115,  0.1204],\n",
      "         [-0.3696, -0.2404]],\n",
      "\n",
      "        [[-1.1969,  0.2093],\n",
      "         [-0.9724, -0.7550]],\n",
      "\n",
      "        [[ 0.3239, -0.1085],\n",
      "         [ 0.2103, -0.3908]]])\n"
     ]
    }
   ],
   "source": [
    "torch.manual_seed(123)\n",
    "r3 = torch.randn((3,2,2))\n",
    "print(r3.shape)\n",
    "print(r3.data)"
   ]
  },
  {
   "cell_type": "code",
   "execution_count": 6,
   "metadata": {},
   "outputs": [
    {
     "name": "stdout",
     "output_type": "stream",
     "text": [
      "torch.Size([2, 3, 2, 2])\n",
      "tensor([[[[ 0,  1],\n",
      "          [ 2,  3]],\n",
      "\n",
      "         [[ 4,  5],\n",
      "          [ 6,  7]],\n",
      "\n",
      "         [[ 8,  9],\n",
      "          [10, 11]]],\n",
      "\n",
      "\n",
      "        [[[12, 13],\n",
      "          [14, 15]],\n",
      "\n",
      "         [[16, 17],\n",
      "          [18, 19]],\n",
      "\n",
      "         [[20, 21],\n",
      "          [22, 23]]]])\n"
     ]
    }
   ],
   "source": [
    "# r4 = torch.ones((2,3,2,2))\n",
    "r4_np = np.arange(24).reshape(2,3,2,2)\n",
    "r4 = torch.tensor(r4_np)\n",
    "\n",
    "\n",
    "print(r4.shape)\n",
    "print(r4.data)"
   ]
  },
  {
   "cell_type": "code",
   "execution_count": 7,
   "metadata": {},
   "outputs": [
    {
     "name": "stdout",
     "output_type": "stream",
     "text": [
      "torch.int64\n"
     ]
    }
   ],
   "source": [
    "r5 = r1.long()\n",
    "print(r5.dtype)"
   ]
  },
  {
   "cell_type": "code",
   "execution_count": 8,
   "metadata": {},
   "outputs": [
    {
     "name": "stdout",
     "output_type": "stream",
     "text": [
      "torch.Size([3, 4])\n",
      "tensor([[-0.1115,  0.1204, -0.3696, -0.2404],\n",
      "        [-1.1969,  0.2093, -0.9724, -0.7550],\n",
      "        [ 0.3239, -0.1085,  0.2103, -0.3908]])\n"
     ]
    }
   ],
   "source": [
    "r6 = r3.view(3,-1)\n",
    "print(r6.shape)\n",
    "print(r6.data)      #print(r6)"
   ]
  },
  {
   "cell_type": "code",
   "execution_count": 9,
   "metadata": {},
   "outputs": [
    {
     "name": "stdout",
     "output_type": "stream",
     "text": [
      "torch.Size([12])\n",
      "tensor([-0.1115,  0.1204, -0.3696, -0.2404, -1.1969,  0.2093, -0.9724, -0.7550,\n",
      "         0.3239, -0.1085,  0.2103, -0.3908])\n"
     ]
    }
   ],
   "source": [
    "r7 = r3.view(-1)\n",
    "print(r7.shape)\n",
    "print(r7.data)"
   ]
  },
  {
   "cell_type": "code",
   "execution_count": 10,
   "metadata": {},
   "outputs": [
    {
     "name": "stdout",
     "output_type": "stream",
     "text": [
      "requires_grad: False\n",
      "device: cpu\n"
     ]
    }
   ],
   "source": [
    "print('requires_grad:', r1.requires_grad)       #자동 미분?\n",
    "print('device:', r1.device)"
   ]
  },
  {
   "cell_type": "code",
   "execution_count": 11,
   "metadata": {},
   "outputs": [
    {
     "name": "stdout",
     "output_type": "stream",
     "text": [
      "<class 'float'>\n",
      "1.0\n"
     ]
    }
   ],
   "source": [
    "item = r0.item()\n",
    "print(type(item))\n",
    "print(item)"
   ]
  },
  {
   "cell_type": "code",
   "execution_count": 12,
   "metadata": {},
   "outputs": [
    {
     "name": "stdout",
     "output_type": "stream",
     "text": [
      "torch.Size([1])\n",
      "tensor([1.])\n",
      "1.0\n"
     ]
    }
   ],
   "source": [
    "t1 = torch.ones(1)\n",
    "print(t1.shape)\n",
    "print(t1)\n",
    "print(t1.item())"
   ]
  },
  {
   "cell_type": "code",
   "execution_count": 13,
   "metadata": {},
   "outputs": [
    {
     "name": "stdout",
     "output_type": "stream",
     "text": [
      "tensor([[1., 5., 6.],\n",
      "        [4., 3., 2.]])\n",
      "tensor(6.)\n",
      "torch.return_types.max(\n",
      "values=tensor([6., 4.]),\n",
      "indices=tensor([2, 0]))\n",
      "tensor([6., 4.])\n",
      "tensor([2, 0])\n"
     ]
    }
   ],
   "source": [
    "print(r2)\n",
    "print(r2.max())\n",
    "print(torch.max(r2,1))\n",
    "print(torch.max(r2,1)[0])   #max values\n",
    "print(torch.max(r2,1)[1])   #indices of max values"
   ]
  },
  {
   "cell_type": "markdown",
   "metadata": {},
   "source": [
    ">#### 2.4"
   ]
  },
  {
   "cell_type": "code",
   "execution_count": 14,
   "metadata": {},
   "outputs": [
    {
     "data": {
      "text/plain": [
       "array([-2.  , -1.75, -1.5 , -1.25, -1.  , -0.75, -0.5 , -0.25,  0.  ,\n",
       "        0.25,  0.5 ,  0.75,  1.  ,  1.25,  1.5 ,  1.75,  2.  ])"
      ]
     },
     "execution_count": 14,
     "metadata": {},
     "output_type": "execute_result"
    }
   ],
   "source": [
    "#1.경사 계산용 변수의 정의\n",
    "x_np = np.arange(-2,2.1,0.25)\n",
    "x_np"
   ]
  },
  {
   "cell_type": "code",
   "execution_count": 15,
   "metadata": {},
   "outputs": [
    {
     "data": {
      "text/plain": [
       "(tensor([-2.0000, -1.7500, -1.5000, -1.2500, -1.0000, -0.7500, -0.5000, -0.2500,\n",
       "          0.0000,  0.2500,  0.5000,  0.7500,  1.0000,  1.2500,  1.5000,  1.7500,\n",
       "          2.0000], requires_grad=True),\n",
       " torch.Size([17]))"
      ]
     },
     "execution_count": 15,
     "metadata": {},
     "output_type": "execute_result"
    }
   ],
   "source": [
    "x = torch.tensor(x_np, requires_grad=True, dtype=torch.float32)\n",
    "x, x.shape"
   ]
  },
  {
   "cell_type": "code",
   "execution_count": 16,
   "metadata": {},
   "outputs": [
    {
     "data": {
      "text/plain": [
       "tensor([10.0000,  8.1250,  6.5000,  5.1250,  4.0000,  3.1250,  2.5000,  2.1250,\n",
       "         2.0000,  2.1250,  2.5000,  3.1250,  4.0000,  5.1250,  6.5000,  8.1250,\n",
       "        10.0000], grad_fn=<AddBackward0>)"
      ]
     },
     "execution_count": 16,
     "metadata": {},
     "output_type": "execute_result"
    }
   ],
   "source": [
    "#2.텐서 변수 간의 계산\n",
    "y = 2 * x**2 +2     #y도 자동적으로 텐서 변수가 됨\n",
    "y"
   ]
  },
  {
   "cell_type": "code",
   "execution_count": 17,
   "metadata": {},
   "outputs": [
    {
     "data": {
      "image/png": "[encoded data removed]",
      "text/plain": [
       "<Figure size 640x480 with 1 Axes>"
      ]
     },
     "metadata": {},
     "output_type": "display_data"
    }
   ],
   "source": [
    "plt.plot(x.data, y.data)\n",
    "plt.show()"
   ]
  },
  {
   "cell_type": "code",
   "execution_count": 18,
   "metadata": {},
   "outputs": [],
   "source": [
    "z = y.sum()"
   ]
  },
  {
   "cell_type": "code",
   "execution_count": 19,
   "metadata": {},
   "outputs": [
    {
     "data": {
      "image/svg+xml": [
       "<?xml version=\"1.0\" encoding=\"UTF-8\" standalone=\"no\"?>\n",
       "<!DOCTYPE svg PUBLIC \"-//W3C//DTD SVG 1.1//EN\"\n",
       " \"http://www.w3.org/Graphics/SVG/1.1/DTD/svg11.dtd\">\n",
       "<!-- Generated by graphviz version 10.0.1 (20240210.2158)\n",
       " -->\n",
       "<!-- Pages: 1 -->\n",
       "<svg width=\"108pt\" height=\"382pt\"\n",
       " viewBox=\"0.00 0.00 108.00 382.00\" xmlns=\"http://www.w3.org/2000/svg\" xmlns:xlink=\"http://www.w3.org/1999/xlink\">\n",
       "<g id=\"graph0\" class=\"graph\" transform=\"scale(1 1) rotate(0) translate(4 378)\">\n",
       "<polygon fill=\"white\" stroke=\"none\" points=\"-4,4 -4,-378 104,-378 104,4 -4,4\"/>\n",
       "<!-- 4817327664 -->\n",
       "<g id=\"node1\" class=\"node\">\n",
       "<title>4817327664</title>\n",
       "<polygon fill=\"#caff70\" stroke=\"black\" points=\"77,-31.25 23,-31.25 23,0 77,0 77,-31.25\"/>\n",
       "<text text-anchor=\"middle\" x=\"50\" y=\"-5.75\" font-family=\"monospace\" font-size=\"10.00\"> ()</text>\n",
       "</g>\n",
       "<!-- 4817921840 -->\n",
       "<g id=\"node2\" class=\"node\">\n",
       "<title>4817921840</title>\n",
       "<polygon fill=\"lightgrey\" stroke=\"black\" points=\"94,-86.5 6,-86.5 6,-67.25 94,-67.25 94,-86.5\"/>\n",
       "<text text-anchor=\"middle\" x=\"50\" y=\"-73\" font-family=\"monospace\" font-size=\"10.00\">SumBackward0</text>\n",
       "</g>\n",
       "<!-- 4817921840&#45;&gt;4817327664 -->\n",
       "<g id=\"edge6\" class=\"edge\">\n",
       "<title>4817921840&#45;&gt;4817327664</title>\n",
       "<path fill=\"none\" stroke=\"black\" d=\"M50,-66.88C50,-60.54 50,-51.7 50,-43.2\"/>\n",
       "<polygon fill=\"black\" stroke=\"black\" points=\"53.5,-43.22 50,-33.22 46.5,-43.22 53.5,-43.22\"/>\n",
       "</g>\n",
       "<!-- 4817922560 -->\n",
       "<g id=\"node3\" class=\"node\">\n",
       "<title>4817922560</title>\n",
       "<polygon fill=\"lightgrey\" stroke=\"black\" points=\"94,-141.75 6,-141.75 6,-122.5 94,-122.5 94,-141.75\"/>\n",
       "<text text-anchor=\"middle\" x=\"50\" y=\"-128.25\" font-family=\"monospace\" font-size=\"10.00\">AddBackward0</text>\n",
       "</g>\n",
       "<!-- 4817922560&#45;&gt;4817921840 -->\n",
       "<g id=\"edge1\" class=\"edge\">\n",
       "<title>4817922560&#45;&gt;4817921840</title>\n",
       "<path fill=\"none\" stroke=\"black\" d=\"M50,-122.33C50,-115.82 50,-106.67 50,-98.37\"/>\n",
       "<polygon fill=\"black\" stroke=\"black\" points=\"53.5,-98.37 50,-88.37 46.5,-98.37 53.5,-98.37\"/>\n",
       "</g>\n",
       "<!-- 4817922752 -->\n",
       "<g id=\"node4\" class=\"node\">\n",
       "<title>4817922752</title>\n",
       "<polygon fill=\"lightgrey\" stroke=\"black\" points=\"94,-197 6,-197 6,-177.75 94,-177.75 94,-197\"/>\n",
       "<text text-anchor=\"middle\" x=\"50\" y=\"-183.5\" font-family=\"monospace\" font-size=\"10.00\">MulBackward0</text>\n",
       "</g>\n",
       "<!-- 4817922752&#45;&gt;4817922560 -->\n",
       "<g id=\"edge2\" class=\"edge\">\n",
       "<title>4817922752&#45;&gt;4817922560</title>\n",
       "<path fill=\"none\" stroke=\"black\" d=\"M50,-177.58C50,-171.07 50,-161.92 50,-153.62\"/>\n",
       "<polygon fill=\"black\" stroke=\"black\" points=\"53.5,-153.62 50,-143.62 46.5,-153.62 53.5,-153.62\"/>\n",
       "</g>\n",
       "<!-- 4817922704 -->\n",
       "<g id=\"node5\" class=\"node\">\n",
       "<title>4817922704</title>\n",
       "<polygon fill=\"lightgrey\" stroke=\"black\" points=\"94,-252.25 6,-252.25 6,-233 94,-233 94,-252.25\"/>\n",
       "<text text-anchor=\"middle\" x=\"50\" y=\"-238.75\" font-family=\"monospace\" font-size=\"10.00\">PowBackward0</text>\n",
       "</g>\n",
       "<!-- 4817922704&#45;&gt;4817922752 -->\n",
       "<g id=\"edge3\" class=\"edge\">\n",
       "<title>4817922704&#45;&gt;4817922752</title>\n",
       "<path fill=\"none\" stroke=\"black\" d=\"M50,-232.83C50,-226.32 50,-217.17 50,-208.87\"/>\n",
       "<polygon fill=\"black\" stroke=\"black\" points=\"53.5,-208.87 50,-198.87 46.5,-208.87 53.5,-208.87\"/>\n",
       "</g>\n",
       "<!-- 4817922512 -->\n",
       "<g id=\"node6\" class=\"node\">\n",
       "<title>4817922512</title>\n",
       "<polygon fill=\"lightgrey\" stroke=\"black\" points=\"100,-307.5 0,-307.5 0,-288.25 100,-288.25 100,-307.5\"/>\n",
       "<text text-anchor=\"middle\" x=\"50\" y=\"-294\" font-family=\"monospace\" font-size=\"10.00\">AccumulateGrad</text>\n",
       "</g>\n",
       "<!-- 4817922512&#45;&gt;4817922704 -->\n",
       "<g id=\"edge4\" class=\"edge\">\n",
       "<title>4817922512&#45;&gt;4817922704</title>\n",
       "<path fill=\"none\" stroke=\"black\" d=\"M50,-288.08C50,-281.57 50,-272.42 50,-264.12\"/>\n",
       "<polygon fill=\"black\" stroke=\"black\" points=\"53.5,-264.12 50,-254.12 46.5,-264.12 53.5,-264.12\"/>\n",
       "</g>\n",
       "<!-- 4815974128 -->\n",
       "<g id=\"node7\" class=\"node\">\n",
       "<title>4815974128</title>\n",
       "<polygon fill=\"lightblue\" stroke=\"black\" points=\"77,-374 23,-374 23,-343.5 77,-343.5 77,-374\"/>\n",
       "<text text-anchor=\"middle\" x=\"50\" y=\"-360.5\" font-family=\"monospace\" font-size=\"10.00\">x</text>\n",
       "<text text-anchor=\"middle\" x=\"50\" y=\"-349.25\" font-family=\"monospace\" font-size=\"10.00\"> (17)</text>\n",
       "</g>\n",
       "<!-- 4815974128&#45;&gt;4817922512 -->\n",
       "<g id=\"edge5\" class=\"edge\">\n",
       "<title>4815974128&#45;&gt;4817922512</title>\n",
       "<path fill=\"none\" stroke=\"black\" d=\"M50,-343.2C50,-335.96 50,-327.09 50,-319.19\"/>\n",
       "<polygon fill=\"black\" stroke=\"black\" points=\"53.5,-319.46 50,-309.46 46.5,-319.46 53.5,-319.46\"/>\n",
       "</g>\n",
       "</g>\n",
       "</svg>\n"
      ],
      "text/plain": [
       "<graphviz.graphs.Digraph at 0x11f2ba760>"
      ]
     },
     "metadata": {},
     "output_type": "display_data"
    }
   ],
   "source": [
    "#3. 계산 그래프 시각화\n",
    "from torchviz import make_dot\n",
    "\n",
    "g = make_dot(z, params={'x': x})\n",
    "display(g)"
   ]
  },
  {
   "cell_type": "code",
   "execution_count": 20,
   "metadata": {},
   "outputs": [],
   "source": [
    "#4. 경사 계산\n",
    "z.backward()"
   ]
  },
  {
   "cell_type": "code",
   "execution_count": 21,
   "metadata": {},
   "outputs": [
    {
     "name": "stdout",
     "output_type": "stream",
     "text": [
      "tensor([-2.0000, -1.7500, -1.5000, -1.2500, -1.0000, -0.7500, -0.5000, -0.2500,\n",
      "         0.0000,  0.2500,  0.5000,  0.7500,  1.0000,  1.2500,  1.5000,  1.7500,\n",
      "         2.0000], requires_grad=True)\n",
      "tensor([-8., -7., -6., -5., -4., -3., -2., -1.,  0.,  1.,  2.,  3.,  4.,  5.,\n",
      "         6.,  7.,  8.])\n"
     ]
    }
   ],
   "source": [
    "print(x)\n",
    "print(x.grad)"
   ]
  },
  {
   "cell_type": "code",
   "execution_count": 22,
   "metadata": {},
   "outputs": [
    {
     "data": {
      "image/png": "[encoded data removed]",
      "text/plain": [
       "<Figure size 640x480 with 1 Axes>"
      ]
     },
     "metadata": {},
     "output_type": "display_data"
    }
   ],
   "source": [
    "# 미분 잘되었는지 확인!\n",
    "plt.plot(x.data, y.data, c='b', label='y')\n",
    "plt.plot(x.data, x.grad.data, c='r', label='y.grad')\n",
    "plt.legend()\n",
    "plt.show()"
   ]
  },
  {
   "cell_type": "code",
   "execution_count": 23,
   "metadata": {},
   "outputs": [
    {
     "name": "stdout",
     "output_type": "stream",
     "text": [
      "tensor([0., 0., 0., 0., 0., 0., 0., 0., 0., 0., 0., 0., 0., 0., 0., 0., 0.])\n"
     ]
    }
   ],
   "source": [
    "# 초기화\n",
    "x.grad.zero_()\n",
    "print(x.grad)"
   ]
  },
  {
   "cell_type": "markdown",
   "metadata": {},
   "source": [
    ">#### 2.5"
   ]
  },
  {
   "cell_type": "markdown",
   "metadata": {},
   "source": [
    "##### 직접 함수 사용"
   ]
  },
  {
   "cell_type": "code",
   "execution_count": 24,
   "metadata": {},
   "outputs": [],
   "source": [
    "x_np = np.arange(-2,2.1,0.25)\n",
    "x = torch.tensor(x_np, requires_grad=True, dtype=torch.float32)\n",
    "y = 1/(1+torch.exp(-x))\n",
    "# z = sum(y)\n",
    "z = y.sum()"
   ]
  },
  {
   "cell_type": "code",
   "execution_count": 25,
   "metadata": {},
   "outputs": [
    {
     "data": {
      "image/png": "[encoded data removed]",
      "text/plain": [
       "<Figure size 640x480 with 1 Axes>"
      ]
     },
     "metadata": {},
     "output_type": "display_data"
    }
   ],
   "source": [
    "plt.plot(x.data,y.data)\n",
    "plt.show()"
   ]
  },
  {
   "cell_type": "code",
   "execution_count": 26,
   "metadata": {},
   "outputs": [
    {
     "data": {
      "image/svg+xml": [
       "<?xml version=\"1.0\" encoding=\"UTF-8\" standalone=\"no\"?>\n",
       "<!DOCTYPE svg PUBLIC \"-//W3C//DTD SVG 1.1//EN\"\n",
       " \"http://www.w3.org/Graphics/SVG/1.1/DTD/svg11.dtd\">\n",
       "<!-- Generated by graphviz version 10.0.1 (20240210.2158)\n",
       " -->\n",
       "<!-- Pages: 1 -->\n",
       "<svg width=\"138pt\" height=\"493pt\"\n",
       " viewBox=\"0.00 0.00 138.00 492.50\" xmlns=\"http://www.w3.org/2000/svg\" xmlns:xlink=\"http://www.w3.org/1999/xlink\">\n",
       "<g id=\"graph0\" class=\"graph\" transform=\"scale(1 1) rotate(0) translate(4 488.5)\">\n",
       "<polygon fill=\"white\" stroke=\"none\" points=\"-4,4 -4,-488.5 134,-488.5 134,4 -4,4\"/>\n",
       "<!-- 4815006192 -->\n",
       "<g id=\"node1\" class=\"node\">\n",
       "<title>4815006192</title>\n",
       "<polygon fill=\"#caff70\" stroke=\"black\" points=\"92,-31.25 38,-31.25 38,0 92,0 92,-31.25\"/>\n",
       "<text text-anchor=\"middle\" x=\"65\" y=\"-5.75\" font-family=\"monospace\" font-size=\"10.00\"> ()</text>\n",
       "</g>\n",
       "<!-- 4829052304 -->\n",
       "<g id=\"node2\" class=\"node\">\n",
       "<title>4829052304</title>\n",
       "<polygon fill=\"lightgrey\" stroke=\"black\" points=\"109,-86.5 21,-86.5 21,-67.25 109,-67.25 109,-86.5\"/>\n",
       "<text text-anchor=\"middle\" x=\"65\" y=\"-73\" font-family=\"monospace\" font-size=\"10.00\">SumBackward0</text>\n",
       "</g>\n",
       "<!-- 4829052304&#45;&gt;4815006192 -->\n",
       "<g id=\"edge8\" class=\"edge\">\n",
       "<title>4829052304&#45;&gt;4815006192</title>\n",
       "<path fill=\"none\" stroke=\"black\" d=\"M65,-66.88C65,-60.54 65,-51.7 65,-43.2\"/>\n",
       "<polygon fill=\"black\" stroke=\"black\" points=\"68.5,-43.22 65,-33.22 61.5,-43.22 68.5,-43.22\"/>\n",
       "</g>\n",
       "<!-- 4829051248 -->\n",
       "<g id=\"node3\" class=\"node\">\n",
       "<title>4829051248</title>\n",
       "<polygon fill=\"lightgrey\" stroke=\"black\" points=\"109,-141.75 21,-141.75 21,-122.5 109,-122.5 109,-141.75\"/>\n",
       "<text text-anchor=\"middle\" x=\"65\" y=\"-128.25\" font-family=\"monospace\" font-size=\"10.00\">MulBackward0</text>\n",
       "</g>\n",
       "<!-- 4829051248&#45;&gt;4829052304 -->\n",
       "<g id=\"edge1\" class=\"edge\">\n",
       "<title>4829051248&#45;&gt;4829052304</title>\n",
       "<path fill=\"none\" stroke=\"black\" d=\"M65,-122.33C65,-115.82 65,-106.67 65,-98.37\"/>\n",
       "<polygon fill=\"black\" stroke=\"black\" points=\"68.5,-98.37 65,-88.37 61.5,-98.37 68.5,-98.37\"/>\n",
       "</g>\n",
       "<!-- 4828989184 -->\n",
       "<g id=\"node4\" class=\"node\">\n",
       "<title>4828989184</title>\n",
       "<polygon fill=\"lightgrey\" stroke=\"black\" points=\"130,-197 0,-197 0,-177.75 130,-177.75 130,-197\"/>\n",
       "<text text-anchor=\"middle\" x=\"65\" y=\"-183.5\" font-family=\"monospace\" font-size=\"10.00\">ReciprocalBackward0</text>\n",
       "</g>\n",
       "<!-- 4828989184&#45;&gt;4829051248 -->\n",
       "<g id=\"edge2\" class=\"edge\">\n",
       "<title>4828989184&#45;&gt;4829051248</title>\n",
       "<path fill=\"none\" stroke=\"black\" d=\"M65,-177.58C65,-171.07 65,-161.92 65,-153.62\"/>\n",
       "<polygon fill=\"black\" stroke=\"black\" points=\"68.5,-153.62 65,-143.62 61.5,-153.62 68.5,-153.62\"/>\n",
       "</g>\n",
       "<!-- 4828989376 -->\n",
       "<g id=\"node5\" class=\"node\">\n",
       "<title>4828989376</title>\n",
       "<polygon fill=\"lightgrey\" stroke=\"black\" points=\"109,-252.25 21,-252.25 21,-233 109,-233 109,-252.25\"/>\n",
       "<text text-anchor=\"middle\" x=\"65\" y=\"-238.75\" font-family=\"monospace\" font-size=\"10.00\">AddBackward0</text>\n",
       "</g>\n",
       "<!-- 4828989376&#45;&gt;4828989184 -->\n",
       "<g id=\"edge3\" class=\"edge\">\n",
       "<title>4828989376&#45;&gt;4828989184</title>\n",
       "<path fill=\"none\" stroke=\"black\" d=\"M65,-232.83C65,-226.32 65,-217.17 65,-208.87\"/>\n",
       "<polygon fill=\"black\" stroke=\"black\" points=\"68.5,-208.87 65,-198.87 61.5,-208.87 68.5,-208.87\"/>\n",
       "</g>\n",
       "<!-- 4828989424 -->\n",
       "<g id=\"node6\" class=\"node\">\n",
       "<title>4828989424</title>\n",
       "<polygon fill=\"lightgrey\" stroke=\"black\" points=\"109,-307.5 21,-307.5 21,-288.25 109,-288.25 109,-307.5\"/>\n",
       "<text text-anchor=\"middle\" x=\"65\" y=\"-294\" font-family=\"monospace\" font-size=\"10.00\">ExpBackward0</text>\n",
       "</g>\n",
       "<!-- 4828989424&#45;&gt;4828989376 -->\n",
       "<g id=\"edge4\" class=\"edge\">\n",
       "<title>4828989424&#45;&gt;4828989376</title>\n",
       "<path fill=\"none\" stroke=\"black\" d=\"M65,-288.08C65,-281.57 65,-272.42 65,-264.12\"/>\n",
       "<polygon fill=\"black\" stroke=\"black\" points=\"68.5,-264.12 65,-254.12 61.5,-264.12 68.5,-264.12\"/>\n",
       "</g>\n",
       "<!-- 4829317584 -->\n",
       "<g id=\"node7\" class=\"node\">\n",
       "<title>4829317584</title>\n",
       "<polygon fill=\"lightgrey\" stroke=\"black\" points=\"109,-362.75 21,-362.75 21,-343.5 109,-343.5 109,-362.75\"/>\n",
       "<text text-anchor=\"middle\" x=\"65\" y=\"-349.25\" font-family=\"monospace\" font-size=\"10.00\">NegBackward0</text>\n",
       "</g>\n",
       "<!-- 4829317584&#45;&gt;4828989424 -->\n",
       "<g id=\"edge5\" class=\"edge\">\n",
       "<title>4829317584&#45;&gt;4828989424</title>\n",
       "<path fill=\"none\" stroke=\"black\" d=\"M65,-343.33C65,-336.82 65,-327.67 65,-319.37\"/>\n",
       "<polygon fill=\"black\" stroke=\"black\" points=\"68.5,-319.37 65,-309.37 61.5,-319.37 68.5,-319.37\"/>\n",
       "</g>\n",
       "<!-- 4828942448 -->\n",
       "<g id=\"node8\" class=\"node\">\n",
       "<title>4828942448</title>\n",
       "<polygon fill=\"lightgrey\" stroke=\"black\" points=\"115,-418 15,-418 15,-398.75 115,-398.75 115,-418\"/>\n",
       "<text text-anchor=\"middle\" x=\"65\" y=\"-404.5\" font-family=\"monospace\" font-size=\"10.00\">AccumulateGrad</text>\n",
       "</g>\n",
       "<!-- 4828942448&#45;&gt;4829317584 -->\n",
       "<g id=\"edge6\" class=\"edge\">\n",
       "<title>4828942448&#45;&gt;4829317584</title>\n",
       "<path fill=\"none\" stroke=\"black\" d=\"M65,-398.58C65,-392.07 65,-382.92 65,-374.62\"/>\n",
       "<polygon fill=\"black\" stroke=\"black\" points=\"68.5,-374.62 65,-364.62 61.5,-374.62 68.5,-374.62\"/>\n",
       "</g>\n",
       "<!-- 4818114736 -->\n",
       "<g id=\"node9\" class=\"node\">\n",
       "<title>4818114736</title>\n",
       "<polygon fill=\"lightblue\" stroke=\"black\" points=\"92,-484.5 38,-484.5 38,-454 92,-454 92,-484.5\"/>\n",
       "<text text-anchor=\"middle\" x=\"65\" y=\"-471\" font-family=\"monospace\" font-size=\"10.00\">x</text>\n",
       "<text text-anchor=\"middle\" x=\"65\" y=\"-459.75\" font-family=\"monospace\" font-size=\"10.00\"> (17)</text>\n",
       "</g>\n",
       "<!-- 4818114736&#45;&gt;4828942448 -->\n",
       "<g id=\"edge7\" class=\"edge\">\n",
       "<title>4818114736&#45;&gt;4828942448</title>\n",
       "<path fill=\"none\" stroke=\"black\" d=\"M65,-453.7C65,-446.46 65,-437.59 65,-429.69\"/>\n",
       "<polygon fill=\"black\" stroke=\"black\" points=\"68.5,-429.96 65,-419.96 61.5,-429.96 68.5,-429.96\"/>\n",
       "</g>\n",
       "</g>\n",
       "</svg>\n"
      ],
      "text/plain": [
       "<graphviz.graphs.Digraph at 0x11fd57c70>"
      ]
     },
     "metadata": {},
     "output_type": "display_data"
    }
   ],
   "source": [
    "g = make_dot(z, params={'x': x})\n",
    "display(g)"
   ]
  },
  {
   "cell_type": "code",
   "execution_count": 27,
   "metadata": {},
   "outputs": [
    {
     "name": "stdout",
     "output_type": "stream",
     "text": [
      "tensor([0.1050, 0.1261, 0.1491, 0.1731, 0.1966, 0.2179, 0.2350, 0.2461, 0.2500,\n",
      "        0.2461, 0.2350, 0.2179, 0.1966, 0.1731, 0.1491, 0.1261, 0.1050])\n",
      "tensor([0., 0., 0., 0., 0., 0., 0., 0., 0., 0., 0., 0., 0., 0., 0., 0., 0.])\n"
     ]
    }
   ],
   "source": [
    "z.backward()\n",
    "print(x.grad)\n",
    "x.grad.zero_()\n",
    "print(x.grad)\n"
   ]
  },
  {
   "cell_type": "markdown",
   "metadata": {},
   "source": [
    "##### torch.nn.Sigmoid() 사용"
   ]
  },
  {
   "cell_type": "code",
   "execution_count": 28,
   "metadata": {},
   "outputs": [],
   "source": [
    "sigmoid = torch.nn.Sigmoid()\n",
    "y = sigmoid(x)"
   ]
  },
  {
   "cell_type": "code",
   "execution_count": 29,
   "metadata": {},
   "outputs": [
    {
     "data": {
      "image/png": "[encoded data removed]",
      "text/plain": [
       "<Figure size 640x480 with 1 Axes>"
      ]
     },
     "metadata": {},
     "output_type": "display_data"
    }
   ],
   "source": [
    "plt.plot(x.data,y.data)\n",
    "plt.show()"
   ]
  },
  {
   "cell_type": "code",
   "execution_count": 30,
   "metadata": {},
   "outputs": [],
   "source": [
    "z = y.sum()"
   ]
  },
  {
   "cell_type": "code",
   "execution_count": 31,
   "metadata": {},
   "outputs": [
    {
     "data": {
      "image/svg+xml": [
       "<?xml version=\"1.0\" encoding=\"UTF-8\" standalone=\"no\"?>\n",
       "<!DOCTYPE svg PUBLIC \"-//W3C//DTD SVG 1.1//EN\"\n",
       " \"http://www.w3.org/Graphics/SVG/1.1/DTD/svg11.dtd\">\n",
       "<!-- Generated by graphviz version 10.0.1 (20240210.2158)\n",
       " -->\n",
       "<!-- Pages: 1 -->\n",
       "<svg width=\"120pt\" height=\"272pt\"\n",
       " viewBox=\"0.00 0.00 120.00 271.50\" xmlns=\"http://www.w3.org/2000/svg\" xmlns:xlink=\"http://www.w3.org/1999/xlink\">\n",
       "<g id=\"graph0\" class=\"graph\" transform=\"scale(1 1) rotate(0) translate(4 267.5)\">\n",
       "<polygon fill=\"white\" stroke=\"none\" points=\"-4,4 -4,-267.5 116,-267.5 116,4 -4,4\"/>\n",
       "<!-- 4829687872 -->\n",
       "<g id=\"node1\" class=\"node\">\n",
       "<title>4829687872</title>\n",
       "<polygon fill=\"#caff70\" stroke=\"black\" points=\"83,-31.25 29,-31.25 29,0 83,0 83,-31.25\"/>\n",
       "<text text-anchor=\"middle\" x=\"56\" y=\"-5.75\" font-family=\"monospace\" font-size=\"10.00\"> ()</text>\n",
       "</g>\n",
       "<!-- 4829358832 -->\n",
       "<g id=\"node2\" class=\"node\">\n",
       "<title>4829358832</title>\n",
       "<polygon fill=\"lightgrey\" stroke=\"black\" points=\"100,-86.5 12,-86.5 12,-67.25 100,-67.25 100,-86.5\"/>\n",
       "<text text-anchor=\"middle\" x=\"56\" y=\"-73\" font-family=\"monospace\" font-size=\"10.00\">SumBackward0</text>\n",
       "</g>\n",
       "<!-- 4829358832&#45;&gt;4829687872 -->\n",
       "<g id=\"edge4\" class=\"edge\">\n",
       "<title>4829358832&#45;&gt;4829687872</title>\n",
       "<path fill=\"none\" stroke=\"black\" d=\"M56,-66.88C56,-60.54 56,-51.7 56,-43.2\"/>\n",
       "<polygon fill=\"black\" stroke=\"black\" points=\"59.5,-43.22 56,-33.22 52.5,-43.22 59.5,-43.22\"/>\n",
       "</g>\n",
       "<!-- 4829359504 -->\n",
       "<g id=\"node3\" class=\"node\">\n",
       "<title>4829359504</title>\n",
       "<polygon fill=\"lightgrey\" stroke=\"black\" points=\"112,-141.75 0,-141.75 0,-122.5 112,-122.5 112,-141.75\"/>\n",
       "<text text-anchor=\"middle\" x=\"56\" y=\"-128.25\" font-family=\"monospace\" font-size=\"10.00\">SigmoidBackward0</text>\n",
       "</g>\n",
       "<!-- 4829359504&#45;&gt;4829358832 -->\n",
       "<g id=\"edge1\" class=\"edge\">\n",
       "<title>4829359504&#45;&gt;4829358832</title>\n",
       "<path fill=\"none\" stroke=\"black\" d=\"M56,-122.33C56,-115.82 56,-106.67 56,-98.37\"/>\n",
       "<polygon fill=\"black\" stroke=\"black\" points=\"59.5,-98.37 56,-88.37 52.5,-98.37 59.5,-98.37\"/>\n",
       "</g>\n",
       "<!-- 4816776304 -->\n",
       "<g id=\"node4\" class=\"node\">\n",
       "<title>4816776304</title>\n",
       "<polygon fill=\"lightgrey\" stroke=\"black\" points=\"106,-197 6,-197 6,-177.75 106,-177.75 106,-197\"/>\n",
       "<text text-anchor=\"middle\" x=\"56\" y=\"-183.5\" font-family=\"monospace\" font-size=\"10.00\">AccumulateGrad</text>\n",
       "</g>\n",
       "<!-- 4816776304&#45;&gt;4829359504 -->\n",
       "<g id=\"edge2\" class=\"edge\">\n",
       "<title>4816776304&#45;&gt;4829359504</title>\n",
       "<path fill=\"none\" stroke=\"black\" d=\"M56,-177.58C56,-171.07 56,-161.92 56,-153.62\"/>\n",
       "<polygon fill=\"black\" stroke=\"black\" points=\"59.5,-153.62 56,-143.62 52.5,-153.62 59.5,-153.62\"/>\n",
       "</g>\n",
       "<!-- 4818114736 -->\n",
       "<g id=\"node5\" class=\"node\">\n",
       "<title>4818114736</title>\n",
       "<polygon fill=\"lightblue\" stroke=\"black\" points=\"83,-263.5 29,-263.5 29,-233 83,-233 83,-263.5\"/>\n",
       "<text text-anchor=\"middle\" x=\"56\" y=\"-250\" font-family=\"monospace\" font-size=\"10.00\">x</text>\n",
       "<text text-anchor=\"middle\" x=\"56\" y=\"-238.75\" font-family=\"monospace\" font-size=\"10.00\"> (17)</text>\n",
       "</g>\n",
       "<!-- 4818114736&#45;&gt;4816776304 -->\n",
       "<g id=\"edge3\" class=\"edge\">\n",
       "<title>4818114736&#45;&gt;4816776304</title>\n",
       "<path fill=\"none\" stroke=\"black\" d=\"M56,-232.7C56,-225.46 56,-216.59 56,-208.69\"/>\n",
       "<polygon fill=\"black\" stroke=\"black\" points=\"59.5,-208.96 56,-198.96 52.5,-208.96 59.5,-208.96\"/>\n",
       "</g>\n",
       "</g>\n",
       "</svg>\n"
      ],
      "text/plain": [
       "<graphviz.graphs.Digraph at 0x11fdbce80>"
      ]
     },
     "metadata": {},
     "output_type": "display_data"
    }
   ],
   "source": [
    "g = make_dot(z, params={'x':x})\n",
    "display(g)"
   ]
  },
  {
   "cell_type": "code",
   "execution_count": 32,
   "metadata": {},
   "outputs": [
    {
     "name": "stdout",
     "output_type": "stream",
     "text": [
      "tensor([0.1050, 0.1261, 0.1491, 0.1731, 0.1966, 0.2179, 0.2350, 0.2461, 0.2500,\n",
      "        0.2461, 0.2350, 0.2179, 0.1966, 0.1731, 0.1491, 0.1261, 0.1050])\n"
     ]
    }
   ],
   "source": [
    "z.backward()\n",
    "print(x.grad)"
   ]
  },
  {
   "cell_type": "code",
   "execution_count": 33,
   "metadata": {},
   "outputs": [],
   "source": [
    "x_np = np.arange(-2,2.1,0.25)\n",
    "x = torch.tensor(x_np, requires_grad=True, dtype=torch.float32)\n",
    "y = x**2\n",
    "z = y.sum()\n",
    "\n"
   ]
  },
  {
   "cell_type": "code",
   "execution_count": 34,
   "metadata": {},
   "outputs": [
    {
     "data": {
      "image/svg+xml": [
       "<?xml version=\"1.0\" encoding=\"UTF-8\" standalone=\"no\"?>\n",
       "<!DOCTYPE svg PUBLIC \"-//W3C//DTD SVG 1.1//EN\"\n",
       " \"http://www.w3.org/Graphics/SVG/1.1/DTD/svg11.dtd\">\n",
       "<!-- Generated by graphviz version 10.0.1 (20240210.2158)\n",
       " -->\n",
       "<!-- Pages: 1 -->\n",
       "<svg width=\"108pt\" height=\"272pt\"\n",
       " viewBox=\"0.00 0.00 108.00 271.50\" xmlns=\"http://www.w3.org/2000/svg\" xmlns:xlink=\"http://www.w3.org/1999/xlink\">\n",
       "<g id=\"graph0\" class=\"graph\" transform=\"scale(1 1) rotate(0) translate(4 267.5)\">\n",
       "<polygon fill=\"white\" stroke=\"none\" points=\"-4,4 -4,-267.5 104,-267.5 104,4 -4,4\"/>\n",
       "<!-- 4815488880 -->\n",
       "<g id=\"node1\" class=\"node\">\n",
       "<title>4815488880</title>\n",
       "<polygon fill=\"#caff70\" stroke=\"black\" points=\"77,-31.25 23,-31.25 23,0 77,0 77,-31.25\"/>\n",
       "<text text-anchor=\"middle\" x=\"50\" y=\"-5.75\" font-family=\"monospace\" font-size=\"10.00\"> ()</text>\n",
       "</g>\n",
       "<!-- 4829899792 -->\n",
       "<g id=\"node2\" class=\"node\">\n",
       "<title>4829899792</title>\n",
       "<polygon fill=\"lightgrey\" stroke=\"black\" points=\"94,-86.5 6,-86.5 6,-67.25 94,-67.25 94,-86.5\"/>\n",
       "<text text-anchor=\"middle\" x=\"50\" y=\"-73\" font-family=\"monospace\" font-size=\"10.00\">SumBackward0</text>\n",
       "</g>\n",
       "<!-- 4829899792&#45;&gt;4815488880 -->\n",
       "<g id=\"edge4\" class=\"edge\">\n",
       "<title>4829899792&#45;&gt;4815488880</title>\n",
       "<path fill=\"none\" stroke=\"black\" d=\"M50,-66.88C50,-60.54 50,-51.7 50,-43.2\"/>\n",
       "<polygon fill=\"black\" stroke=\"black\" points=\"53.5,-43.22 50,-33.22 46.5,-43.22 53.5,-43.22\"/>\n",
       "</g>\n",
       "<!-- 4829900128 -->\n",
       "<g id=\"node3\" class=\"node\">\n",
       "<title>4829900128</title>\n",
       "<polygon fill=\"lightgrey\" stroke=\"black\" points=\"94,-141.75 6,-141.75 6,-122.5 94,-122.5 94,-141.75\"/>\n",
       "<text text-anchor=\"middle\" x=\"50\" y=\"-128.25\" font-family=\"monospace\" font-size=\"10.00\">PowBackward0</text>\n",
       "</g>\n",
       "<!-- 4829900128&#45;&gt;4829899792 -->\n",
       "<g id=\"edge1\" class=\"edge\">\n",
       "<title>4829900128&#45;&gt;4829899792</title>\n",
       "<path fill=\"none\" stroke=\"black\" d=\"M50,-122.33C50,-115.82 50,-106.67 50,-98.37\"/>\n",
       "<polygon fill=\"black\" stroke=\"black\" points=\"53.5,-98.37 50,-88.37 46.5,-98.37 53.5,-98.37\"/>\n",
       "</g>\n",
       "<!-- 4829897344 -->\n",
       "<g id=\"node4\" class=\"node\">\n",
       "<title>4829897344</title>\n",
       "<polygon fill=\"lightgrey\" stroke=\"black\" points=\"100,-197 0,-197 0,-177.75 100,-177.75 100,-197\"/>\n",
       "<text text-anchor=\"middle\" x=\"50\" y=\"-183.5\" font-family=\"monospace\" font-size=\"10.00\">AccumulateGrad</text>\n",
       "</g>\n",
       "<!-- 4829897344&#45;&gt;4829900128 -->\n",
       "<g id=\"edge2\" class=\"edge\">\n",
       "<title>4829897344&#45;&gt;4829900128</title>\n",
       "<path fill=\"none\" stroke=\"black\" d=\"M50,-177.58C50,-171.07 50,-161.92 50,-153.62\"/>\n",
       "<polygon fill=\"black\" stroke=\"black\" points=\"53.5,-153.62 50,-143.62 46.5,-153.62 53.5,-153.62\"/>\n",
       "</g>\n",
       "<!-- 4817925680 -->\n",
       "<g id=\"node5\" class=\"node\">\n",
       "<title>4817925680</title>\n",
       "<polygon fill=\"lightblue\" stroke=\"black\" points=\"77,-263.5 23,-263.5 23,-233 77,-233 77,-263.5\"/>\n",
       "<text text-anchor=\"middle\" x=\"50\" y=\"-250\" font-family=\"monospace\" font-size=\"10.00\">x</text>\n",
       "<text text-anchor=\"middle\" x=\"50\" y=\"-238.75\" font-family=\"monospace\" font-size=\"10.00\"> (17)</text>\n",
       "</g>\n",
       "<!-- 4817925680&#45;&gt;4829897344 -->\n",
       "<g id=\"edge3\" class=\"edge\">\n",
       "<title>4817925680&#45;&gt;4829897344</title>\n",
       "<path fill=\"none\" stroke=\"black\" d=\"M50,-232.7C50,-225.46 50,-216.59 50,-208.69\"/>\n",
       "<polygon fill=\"black\" stroke=\"black\" points=\"53.5,-208.96 50,-198.96 46.5,-208.96 53.5,-208.96\"/>\n",
       "</g>\n",
       "</g>\n",
       "</svg>\n"
      ],
      "text/plain": [
       "<graphviz.graphs.Digraph at 0x11fe26cd0>"
      ]
     },
     "metadata": {},
     "output_type": "display_data"
    }
   ],
   "source": [
    "g = make_dot(z, params={'x': x})\n",
    "display(g)\n"
   ]
  },
  {
   "cell_type": "code",
   "execution_count": 37,
   "metadata": {},
   "outputs": [],
   "source": [
    "# x.grad.zero_()"
   ]
  },
  {
   "cell_type": "markdown",
   "metadata": {},
   "source": [
    "##### x.sum()과 sum(x)... 전자 사용"
   ]
  },
  {
   "cell_type": "code",
   "execution_count": 38,
   "metadata": {},
   "outputs": [
    {
     "name": "stdout",
     "output_type": "stream",
     "text": [
      "15\n",
      "15\n",
      "tensor(15)\n",
      "tensor(15)\n"
     ]
    }
   ],
   "source": [
    "import numpy as np\n",
    "import torch\n",
    "\n",
    "a_np = np.array([1, 2, 3, 4, 5])\n",
    "a_torch = torch.tensor([1, 2, 3, 4, 5])\n",
    "\n",
    "print(np.sum(a_np))  # Output: 15\n",
    "print(a_np.sum())    # Output: 15\n",
    "\n",
    "print(torch.sum(a_torch))  # Output: tensor(15)\n",
    "print(a_torch.sum())       # Output: tensor(15)\n"
   ]
  },
  {
   "cell_type": "code",
   "execution_count": null,
   "metadata": {},
   "outputs": [],
   "source": []
  }
 ],
 "metadata": {
  "kernelspec": {
   "display_name": "base",
   "language": "python",
   "name": "python3"
  },
  "language_info": {
   "codemirror_mode": {
    "name": "ipython",
    "version": 3
   },
   "file_extension": ".py",
   "mimetype": "text/x-python",
   "name": "python",
   "nbconvert_exporter": "python",
   "pygments_lexer": "ipython3",
   "version": "3.9.6"
  }
 },
 "nbformat": 4,
 "nbformat_minor": 2
}
