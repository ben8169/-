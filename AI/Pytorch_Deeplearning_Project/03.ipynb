{
  "nbformat": 4,
  "nbformat_minor": 0,
  "metadata": {
    "colab": {
      "provenance": [],
      "authorship_tag": "ABX9TyMXQMF/y4vlmCN2ykd/BfZJ",
      "include_colab_link": true
    },
    "kernelspec": {
      "name": "python3",
      "display_name": "Python 3"
    },
    "language_info": {
      "name": "python"
    }
  },
  "cells": [
    {
      "cell_type": "markdown",
      "metadata": {
        "id": "view-in-github",
        "colab_type": "text"
      },
      "source": [
        "<a href=\"https://colab.research.google.com/github/ben8169/Study/blob/main/AI/Pytorch_Deeplearning_Project/03.ipynb\" target=\"_parent\"><img src=\"https://colab.research.google.com/assets/colab-badge.svg\" alt=\"Open In Colab\"/></a>"
      ]
    },
    {
      "cell_type": "code",
      "source": [
        "# !sudo apt-get install -y fonts-nanum\n",
        "# !sudo fc-cache -fv\n",
        "# !rm ~/.cache/matplotlib -rf"
      ],
      "metadata": {
        "id": "TeNydLi1ATM_"
      },
      "execution_count": null,
      "outputs": []
    },
    {
      "cell_type": "code",
      "source": [
        "# !pip  install torchviz"
      ],
      "metadata": {
        "colab": {
          "base_uri": "https://localhost:8080/"
        },
        "id": "XIeekELG_AF8",
        "outputId": "45d2efe1-1aeb-4d83-df71-8996d61ce4da"
      },
      "execution_count": null,
      "outputs": [
        {
          "output_type": "stream",
          "name": "stdout",
          "text": [
            "Reading package lists... Done\n",
            "Building dependency tree... Done\n",
            "Reading state information... Done\n",
            "fonts-nanum is already the newest version (20200506-1).\n",
            "0 upgraded, 0 newly installed, 0 to remove and 38 not upgraded.\n",
            "/usr/share/fonts: caching, new cache contents: 0 fonts, 1 dirs\n",
            "/usr/share/fonts/truetype: caching, new cache contents: 0 fonts, 3 dirs\n",
            "/usr/share/fonts/truetype/humor-sans: caching, new cache contents: 1 fonts, 0 dirs\n",
            "/usr/share/fonts/truetype/liberation: caching, new cache contents: 16 fonts, 0 dirs\n",
            "/usr/share/fonts/truetype/nanum: caching, new cache contents: 12 fonts, 0 dirs\n",
            "/usr/local/share/fonts: caching, new cache contents: 0 fonts, 0 dirs\n",
            "/root/.local/share/fonts: skipping, no such directory\n",
            "/root/.fonts: skipping, no such directory\n",
            "/usr/share/fonts/truetype: skipping, looped directory detected\n",
            "/usr/share/fonts/truetype/humor-sans: skipping, looped directory detected\n",
            "/usr/share/fonts/truetype/liberation: skipping, looped directory detected\n",
            "/usr/share/fonts/truetype/nanum: skipping, looped directory detected\n",
            "/var/cache/fontconfig: cleaning cache directory\n",
            "/root/.cache/fontconfig: not cleaning non-existent cache directory\n",
            "/root/.fontconfig: not cleaning non-existent cache directory\n",
            "fc-cache: succeeded\n"
          ]
        }
      ]
    },
    {
      "cell_type": "code",
      "source": [
        "import numpy as np\n",
        "import torch\n",
        "import matplotlib.pyplot as plt\n",
        "from torchviz import make_dot\n",
        "\n",
        "plt.rc('font', family='NanumBarunGothic')"
      ],
      "metadata": {
        "id": "Slt_u1IQ-w3V"
      },
      "execution_count": null,
      "outputs": []
    },
    {
      "cell_type": "markdown",
      "source": [
        ">#### 3.5"
      ],
      "metadata": {
        "id": "cfh5lYXBBHfa"
      }
    },
    {
      "cell_type": "code",
      "execution_count": null,
      "metadata": {
        "colab": {
          "base_uri": "https://localhost:8080/"
        },
        "id": "dBYq1lOt95tP",
        "outputId": "1836f228-a16f-4a2d-9c6b-260e3c12a167"
      },
      "outputs": [
        {
          "output_type": "stream",
          "name": "stdout",
          "text": [
            "[[166.   58.7]\n",
            " [176.   75.7]\n",
            " [171.   62.1]\n",
            " [173.   70.4]\n",
            " [169.   60.1]]\n"
          ]
        }
      ],
      "source": [
        "sampleData1 = np.array([\n",
        "    [166, 58.7],\n",
        "    [176, 75.7],\n",
        "    [171, 62.1],\n",
        "    [173, 70.4],\n",
        "    [169, 60.1]\n",
        "])\n",
        "print(sampleData1)"
      ]
    },
    {
      "cell_type": "code",
      "source": [
        "x = sampleData1[:,0]\n",
        "y = sampleData1[:,1]\n",
        "x, y"
      ],
      "metadata": {
        "colab": {
          "base_uri": "https://localhost:8080/"
        },
        "id": "YWxOX_oP99zm",
        "outputId": "ebd77907-ba19-4ea7-df0b-ab5ae6dd9605"
      },
      "execution_count": null,
      "outputs": [
        {
          "output_type": "execute_result",
          "data": {
            "text/plain": [
              "(array([166., 176., 171., 173., 169.]), array([58.7, 75.7, 62.1, 70.4, 60.1]))"
            ]
          },
          "metadata": {},
          "execution_count": 7
        }
      ]
    },
    {
      "cell_type": "code",
      "source": [
        "plt.scatter(x, y, c='k', s=50)\n",
        "plt.xlabel('$x$: 신장 (cm)')\n",
        "plt.ylabel('$x$: 체중 (kg)')\n",
        "plt.title('신장과 체중의 관계')\n",
        "plt.show()"
      ],
      "metadata": {
        "colab": {
          "base_uri": "https://localhost:8080/",
          "height": 474
        },
        "id": "eyya9m5Z_eba",
        "outputId": "f49db23e-af7b-4128-a053-b043a7681f13"
      },
      "execution_count": null,
      "outputs": [
        {
          "output_type": "display_data",
          "data": {
            "text/plain": [
              "<Figure size 640x480 with 1 Axes>"
            ],
            "image/png": "[encoded data removed]"
          },
          "metadata": {}
        }
      ]
    },
    {
      "cell_type": "code",
      "source": [
        "X = x-x.mean()\n",
        "Y = y-y.mean()\n",
        "\n",
        "plt.scatter(X, Y, c='k', s=50)\n",
        "plt.xlabel('$x$: 신장 (cm)')\n",
        "plt.ylabel('$x$: 체중 (kg)')\n",
        "plt.title('데이터 가공 후 신장과 체중의 관계')\n",
        "plt.show()"
      ],
      "metadata": {
        "colab": {
          "base_uri": "https://localhost:8080/",
          "height": 511
        },
        "id": "-9W2y_FT_2xe",
        "outputId": "28cb7cf2-c630-4e93-97d1-7498fea4b39a"
      },
      "execution_count": null,
      "outputs": [
        {
          "output_type": "stream",
          "name": "stderr",
          "text": [
            "/usr/local/lib/python3.10/dist-packages/IPython/core/pylabtools.py:151: UserWarning: Glyph 8722 (\\N{MINUS SIGN}) missing from current font.\n",
            "  fig.canvas.print_figure(bytes_io, **kw)\n"
          ]
        },
        {
          "output_type": "display_data",
          "data": {
            "text/plain": [
              "<Figure size 640x480 with 1 Axes>"
            ],
            "image/png": "[encoded data removed]"
          },
          "metadata": {}
        }
      ]
    },
    {
      "cell_type": "markdown",
      "source": [
        ">#### 3.6 예측 계산"
      ],
      "metadata": {
        "id": "J6VwnOeSBJz_"
      }
    },
    {
      "cell_type": "code",
      "source": [
        "#텐서 변수로 변환\n",
        "X = torch.tensor(X).float()\n",
        "Y = torch.tensor(Y).float()\n",
        "\n",
        "print(X)\n",
        "print(Y)"
      ],
      "metadata": {
        "colab": {
          "base_uri": "https://localhost:8080/"
        },
        "id": "_lf5s0jdAjCk",
        "outputId": "afb5af43-140b-4ede-c79a-632a44cbaba5"
      },
      "execution_count": null,
      "outputs": [
        {
          "output_type": "stream",
          "name": "stdout",
          "text": [
            "tensor([-5.,  5.,  0.,  2., -2.])\n",
            "tensor([-6.7000, 10.3000, -3.3000,  5.0000, -5.3000])\n"
          ]
        }
      ]
    },
    {
      "cell_type": "code",
      "source": [
        "#파라미터 정의\n",
        "W = torch.tensor(1.0, requires_grad=True).float()\n",
        "B = torch.tensor(1.0, requires_grad=True).float()\n",
        "\n",
        "W, B, W.grad, B.grad"
      ],
      "metadata": {
        "colab": {
          "base_uri": "https://localhost:8080/"
        },
        "id": "tqAe2DMZBYg5",
        "outputId": "9f9484ce-6176-499f-bab0-0b462012dd51"
      },
      "execution_count": null,
      "outputs": [
        {
          "output_type": "execute_result",
          "data": {
            "text/plain": [
              "(tensor(1., requires_grad=True), tensor(1., requires_grad=True), None, None)"
            ]
          },
          "metadata": {},
          "execution_count": 23
        }
      ]
    },
    {
      "cell_type": "code",
      "source": [
        "def pred(X):\n",
        "  return W*X +B\n",
        "\n",
        "Yp = pred(X)\n",
        "print(Yp)"
      ],
      "metadata": {
        "colab": {
          "base_uri": "https://localhost:8080/"
        },
        "id": "69WDBCDZBkRb",
        "outputId": "2ace8d08-ec8c-44da-98b3-cabf2b359193"
      },
      "execution_count": null,
      "outputs": [
        {
          "output_type": "stream",
          "name": "stdout",
          "text": [
            "tensor([-4.,  6.,  1.,  3., -1.], grad_fn=<AddBackward0>)\n"
          ]
        }
      ]
    },
    {
      "cell_type": "code",
      "source": [
        "params = {'W':W, 'B':B}\n",
        "g = make_dot(Yp, params=params)\n",
        "display(g)"
      ],
      "metadata": {
        "colab": {
          "base_uri": "https://localhost:8080/",
          "height": 395
        },
        "id": "hjhn0Th7Bu71",
        "outputId": "24dbd903-9e58-4442-856a-6b03c8be38ce"
      },
      "execution_count": null,
      "outputs": [
        {
          "output_type": "display_data",
          "data": {
            "image/svg+xml": "<?xml version=\"1.0\" encoding=\"UTF-8\" standalone=\"no\"?>\n<!DOCTYPE svg PUBLIC \"-//W3C//DTD SVG 1.1//EN\"\n \"http://www.w3.org/Graphics/SVG/1.1/DTD/svg11.dtd\">\n<!-- Generated by graphviz version 2.43.0 (0)\n -->\n<!-- Title: %3 Pages: 1 -->\n<svg width=\"222pt\" height=\"281pt\"\n viewBox=\"0.00 0.00 222.00 281.00\" xmlns=\"http://www.w3.org/2000/svg\" xmlns:xlink=\"http://www.w3.org/1999/xlink\">\n<g id=\"graph0\" class=\"graph\" transform=\"scale(1 1) rotate(0) translate(4 277)\">\n<title>%3</title>\n<polygon fill=\"white\" stroke=\"transparent\" points=\"-4,4 -4,-277 218,-277 218,4 -4,4\"/>\n<!-- 133244459048032 -->\n<g id=\"node1\" class=\"node\">\n<title>133244459048032</title>\n<polygon fill=\"#caff70\" stroke=\"black\" points=\"133.5,-31 79.5,-31 79.5,0 133.5,0 133.5,-31\"/>\n<text text-anchor=\"middle\" x=\"106.5\" y=\"-7\" font-family=\"monospace\" font-size=\"10.00\"> (5)</text>\n</g>\n<!-- 133241622695360 -->\n<g id=\"node2\" class=\"node\">\n<title>133241622695360</title>\n<polygon fill=\"lightgrey\" stroke=\"black\" points=\"151,-86 62,-86 62,-67 151,-67 151,-86\"/>\n<text text-anchor=\"middle\" x=\"106.5\" y=\"-74\" font-family=\"monospace\" font-size=\"10.00\">AddBackward0</text>\n</g>\n<!-- 133241622695360&#45;&gt;133244459048032 -->\n<g id=\"edge6\" class=\"edge\">\n<title>133241622695360&#45;&gt;133244459048032</title>\n<path fill=\"none\" stroke=\"black\" d=\"M106.5,-66.79C106.5,-60.07 106.5,-50.4 106.5,-41.34\"/>\n<polygon fill=\"black\" stroke=\"black\" points=\"110,-41.19 106.5,-31.19 103,-41.19 110,-41.19\"/>\n</g>\n<!-- 133241622698432 -->\n<g id=\"node3\" class=\"node\">\n<title>133241622698432</title>\n<polygon fill=\"lightgrey\" stroke=\"black\" points=\"95,-141 6,-141 6,-122 95,-122 95,-141\"/>\n<text text-anchor=\"middle\" x=\"50.5\" y=\"-129\" font-family=\"monospace\" font-size=\"10.00\">MulBackward0</text>\n</g>\n<!-- 133241622698432&#45;&gt;133241622695360 -->\n<g id=\"edge1\" class=\"edge\">\n<title>133241622698432&#45;&gt;133241622695360</title>\n<path fill=\"none\" stroke=\"black\" d=\"M59.5,-121.98C67.69,-114.23 80.01,-102.58 89.97,-93.14\"/>\n<polygon fill=\"black\" stroke=\"black\" points=\"92.48,-95.59 97.34,-86.17 87.67,-90.5 92.48,-95.59\"/>\n</g>\n<!-- 133241622705104 -->\n<g id=\"node4\" class=\"node\">\n<title>133241622705104</title>\n<polygon fill=\"lightgrey\" stroke=\"black\" points=\"101,-201.5 0,-201.5 0,-182.5 101,-182.5 101,-201.5\"/>\n<text text-anchor=\"middle\" x=\"50.5\" y=\"-189.5\" font-family=\"monospace\" font-size=\"10.00\">AccumulateGrad</text>\n</g>\n<!-- 133241622705104&#45;&gt;133241622698432 -->\n<g id=\"edge2\" class=\"edge\">\n<title>133241622705104&#45;&gt;133241622698432</title>\n<path fill=\"none\" stroke=\"black\" d=\"M50.5,-182.37C50.5,-174.25 50.5,-161.81 50.5,-151.39\"/>\n<polygon fill=\"black\" stroke=\"black\" points=\"54,-151.17 50.5,-141.17 47,-151.17 54,-151.17\"/>\n</g>\n<!-- 133241622397712 -->\n<g id=\"node5\" class=\"node\">\n<title>133241622397712</title>\n<polygon fill=\"lightblue\" stroke=\"black\" points=\"77.5,-273 23.5,-273 23.5,-243 77.5,-243 77.5,-273\"/>\n<text text-anchor=\"middle\" x=\"50.5\" y=\"-261\" font-family=\"monospace\" font-size=\"10.00\">W</text>\n<text text-anchor=\"middle\" x=\"50.5\" y=\"-250\" font-family=\"monospace\" font-size=\"10.00\"> ()</text>\n</g>\n<!-- 133241622397712&#45;&gt;133241622705104 -->\n<g id=\"edge3\" class=\"edge\">\n<title>133241622397712&#45;&gt;133241622705104</title>\n<path fill=\"none\" stroke=\"black\" d=\"M50.5,-242.8C50.5,-233.7 50.5,-221.79 50.5,-211.9\"/>\n<polygon fill=\"black\" stroke=\"black\" points=\"54,-211.84 50.5,-201.84 47,-211.84 54,-211.84\"/>\n</g>\n<!-- 133241622699392 -->\n<g id=\"node6\" class=\"node\">\n<title>133241622699392</title>\n<polygon fill=\"lightgrey\" stroke=\"black\" points=\"214,-141 113,-141 113,-122 214,-122 214,-141\"/>\n<text text-anchor=\"middle\" x=\"163.5\" y=\"-129\" font-family=\"monospace\" font-size=\"10.00\">AccumulateGrad</text>\n</g>\n<!-- 133241622699392&#45;&gt;133241622695360 -->\n<g id=\"edge4\" class=\"edge\">\n<title>133241622699392&#45;&gt;133241622695360</title>\n<path fill=\"none\" stroke=\"black\" d=\"M154.34,-121.98C146,-114.23 133.47,-102.58 123.32,-93.14\"/>\n<polygon fill=\"black\" stroke=\"black\" points=\"125.53,-90.42 115.82,-86.17 120.76,-95.54 125.53,-90.42\"/>\n</g>\n<!-- 133244458563072 -->\n<g id=\"node7\" class=\"node\">\n<title>133244458563072</title>\n<polygon fill=\"lightblue\" stroke=\"black\" points=\"190.5,-207 136.5,-207 136.5,-177 190.5,-177 190.5,-207\"/>\n<text text-anchor=\"middle\" x=\"163.5\" y=\"-195\" font-family=\"monospace\" font-size=\"10.00\">B</text>\n<text text-anchor=\"middle\" x=\"163.5\" y=\"-184\" font-family=\"monospace\" font-size=\"10.00\"> ()</text>\n</g>\n<!-- 133244458563072&#45;&gt;133241622699392 -->\n<g id=\"edge5\" class=\"edge\">\n<title>133244458563072&#45;&gt;133241622699392</title>\n<path fill=\"none\" stroke=\"black\" d=\"M163.5,-176.84C163.5,-169.21 163.5,-159.7 163.5,-151.45\"/>\n<polygon fill=\"black\" stroke=\"black\" points=\"167,-151.27 163.5,-141.27 160,-151.27 167,-151.27\"/>\n</g>\n</g>\n</svg>\n",
            "text/plain": [
              "<graphviz.graphs.Digraph at 0x792ebb972b30>"
            ]
          },
          "metadata": {}
        }
      ]
    },
    {
      "cell_type": "markdown",
      "source": [
        ">#### 3.7 손실 계산"
      ],
      "metadata": {
        "id": "anJNCV6OCDSt"
      }
    },
    {
      "cell_type": "code",
      "source": [
        "def MSE(Yp, Y):\n",
        "  return ((Yp-Y)**2).mean()\n",
        "\n",
        "loss = MSE(Yp, Y)\n",
        "loss"
      ],
      "metadata": {
        "colab": {
          "base_uri": "https://localhost:8080/"
        },
        "id": "qLnBiONrB-KO",
        "outputId": "b6d461b8-a2ff-43fd-ef1c-e55e8c0ea5c4"
      },
      "execution_count": null,
      "outputs": [
        {
          "output_type": "execute_result",
          "data": {
            "text/plain": [
              "tensor(13.3520, grad_fn=<MeanBackward0>)"
            ]
          },
          "metadata": {},
          "execution_count": 15
        }
      ]
    },
    {
      "cell_type": "code",
      "source": [
        "params = {'W':W, 'B':B}\n",
        "g = make_dot(loss, params=params)\n",
        "display(g)"
      ],
      "metadata": {
        "colab": {
          "base_uri": "https://localhost:8080/",
          "height": 615
        },
        "id": "-Jsalnd6C7Qv",
        "outputId": "6aebfb3f-7b9e-4058-9fe7-cce6d282af48"
      },
      "execution_count": null,
      "outputs": [
        {
          "output_type": "display_data",
          "data": {
            "image/svg+xml": "<?xml version=\"1.0\" encoding=\"UTF-8\" standalone=\"no\"?>\n<!DOCTYPE svg PUBLIC \"-//W3C//DTD SVG 1.1//EN\"\n \"http://www.w3.org/Graphics/SVG/1.1/DTD/svg11.dtd\">\n<!-- Generated by graphviz version 2.43.0 (0)\n -->\n<!-- Title: %3 Pages: 1 -->\n<svg width=\"222pt\" height=\"446pt\"\n viewBox=\"0.00 0.00 222.00 446.00\" xmlns=\"http://www.w3.org/2000/svg\" xmlns:xlink=\"http://www.w3.org/1999/xlink\">\n<g id=\"graph0\" class=\"graph\" transform=\"scale(1 1) rotate(0) translate(4 442)\">\n<title>%3</title>\n<polygon fill=\"white\" stroke=\"transparent\" points=\"-4,4 -4,-442 218,-442 218,4 -4,4\"/>\n<!-- 133241525364800 -->\n<g id=\"node1\" class=\"node\">\n<title>133241525364800</title>\n<polygon fill=\"#caff70\" stroke=\"black\" points=\"133.5,-31 79.5,-31 79.5,0 133.5,0 133.5,-31\"/>\n<text text-anchor=\"middle\" x=\"106.5\" y=\"-7\" font-family=\"monospace\" font-size=\"10.00\"> ()</text>\n</g>\n<!-- 133244457044240 -->\n<g id=\"node2\" class=\"node\">\n<title>133244457044240</title>\n<polygon fill=\"lightgrey\" stroke=\"black\" points=\"154,-86 59,-86 59,-67 154,-67 154,-86\"/>\n<text text-anchor=\"middle\" x=\"106.5\" y=\"-74\" font-family=\"monospace\" font-size=\"10.00\">MeanBackward0</text>\n</g>\n<!-- 133244457044240&#45;&gt;133241525364800 -->\n<g id=\"edge9\" class=\"edge\">\n<title>133244457044240&#45;&gt;133241525364800</title>\n<path fill=\"none\" stroke=\"black\" d=\"M106.5,-66.79C106.5,-60.07 106.5,-50.4 106.5,-41.34\"/>\n<polygon fill=\"black\" stroke=\"black\" points=\"110,-41.19 106.5,-31.19 103,-41.19 110,-41.19\"/>\n</g>\n<!-- 133244457055184 -->\n<g id=\"node3\" class=\"node\">\n<title>133244457055184</title>\n<polygon fill=\"lightgrey\" stroke=\"black\" points=\"151,-141 62,-141 62,-122 151,-122 151,-141\"/>\n<text text-anchor=\"middle\" x=\"106.5\" y=\"-129\" font-family=\"monospace\" font-size=\"10.00\">PowBackward0</text>\n</g>\n<!-- 133244457055184&#45;&gt;133244457044240 -->\n<g id=\"edge1\" class=\"edge\">\n<title>133244457055184&#45;&gt;133244457044240</title>\n<path fill=\"none\" stroke=\"black\" d=\"M106.5,-121.75C106.5,-114.8 106.5,-104.85 106.5,-96.13\"/>\n<polygon fill=\"black\" stroke=\"black\" points=\"110,-96.09 106.5,-86.09 103,-96.09 110,-96.09\"/>\n</g>\n<!-- 133244457053216 -->\n<g id=\"node4\" class=\"node\">\n<title>133244457053216</title>\n<polygon fill=\"lightgrey\" stroke=\"black\" points=\"151,-196 62,-196 62,-177 151,-177 151,-196\"/>\n<text text-anchor=\"middle\" x=\"106.5\" y=\"-184\" font-family=\"monospace\" font-size=\"10.00\">SubBackward0</text>\n</g>\n<!-- 133244457053216&#45;&gt;133244457055184 -->\n<g id=\"edge2\" class=\"edge\">\n<title>133244457053216&#45;&gt;133244457055184</title>\n<path fill=\"none\" stroke=\"black\" d=\"M106.5,-176.75C106.5,-169.8 106.5,-159.85 106.5,-151.13\"/>\n<polygon fill=\"black\" stroke=\"black\" points=\"110,-151.09 106.5,-141.09 103,-151.09 110,-151.09\"/>\n</g>\n<!-- 133244457048848 -->\n<g id=\"node5\" class=\"node\">\n<title>133244457048848</title>\n<polygon fill=\"lightgrey\" stroke=\"black\" points=\"151,-251 62,-251 62,-232 151,-232 151,-251\"/>\n<text text-anchor=\"middle\" x=\"106.5\" y=\"-239\" font-family=\"monospace\" font-size=\"10.00\">AddBackward0</text>\n</g>\n<!-- 133244457048848&#45;&gt;133244457053216 -->\n<g id=\"edge3\" class=\"edge\">\n<title>133244457048848&#45;&gt;133244457053216</title>\n<path fill=\"none\" stroke=\"black\" d=\"M106.5,-231.75C106.5,-224.8 106.5,-214.85 106.5,-206.13\"/>\n<polygon fill=\"black\" stroke=\"black\" points=\"110,-206.09 106.5,-196.09 103,-206.09 110,-206.09\"/>\n</g>\n<!-- 133244457049472 -->\n<g id=\"node6\" class=\"node\">\n<title>133244457049472</title>\n<polygon fill=\"lightgrey\" stroke=\"black\" points=\"95,-306 6,-306 6,-287 95,-287 95,-306\"/>\n<text text-anchor=\"middle\" x=\"50.5\" y=\"-294\" font-family=\"monospace\" font-size=\"10.00\">MulBackward0</text>\n</g>\n<!-- 133244457049472&#45;&gt;133244457048848 -->\n<g id=\"edge4\" class=\"edge\">\n<title>133244457049472&#45;&gt;133244457048848</title>\n<path fill=\"none\" stroke=\"black\" d=\"M59.5,-286.98C67.69,-279.23 80.01,-267.58 89.97,-258.14\"/>\n<polygon fill=\"black\" stroke=\"black\" points=\"92.48,-260.59 97.34,-251.17 87.67,-255.5 92.48,-260.59\"/>\n</g>\n<!-- 133244457045968 -->\n<g id=\"node7\" class=\"node\">\n<title>133244457045968</title>\n<polygon fill=\"lightgrey\" stroke=\"black\" points=\"101,-366.5 0,-366.5 0,-347.5 101,-347.5 101,-366.5\"/>\n<text text-anchor=\"middle\" x=\"50.5\" y=\"-354.5\" font-family=\"monospace\" font-size=\"10.00\">AccumulateGrad</text>\n</g>\n<!-- 133244457045968&#45;&gt;133244457049472 -->\n<g id=\"edge5\" class=\"edge\">\n<title>133244457045968&#45;&gt;133244457049472</title>\n<path fill=\"none\" stroke=\"black\" d=\"M50.5,-347.37C50.5,-339.25 50.5,-326.81 50.5,-316.39\"/>\n<polygon fill=\"black\" stroke=\"black\" points=\"54,-316.17 50.5,-306.17 47,-316.17 54,-316.17\"/>\n</g>\n<!-- 133241622397712 -->\n<g id=\"node8\" class=\"node\">\n<title>133241622397712</title>\n<polygon fill=\"lightblue\" stroke=\"black\" points=\"77.5,-438 23.5,-438 23.5,-408 77.5,-408 77.5,-438\"/>\n<text text-anchor=\"middle\" x=\"50.5\" y=\"-426\" font-family=\"monospace\" font-size=\"10.00\">W</text>\n<text text-anchor=\"middle\" x=\"50.5\" y=\"-415\" font-family=\"monospace\" font-size=\"10.00\"> ()</text>\n</g>\n<!-- 133241622397712&#45;&gt;133244457045968 -->\n<g id=\"edge6\" class=\"edge\">\n<title>133241622397712&#45;&gt;133244457045968</title>\n<path fill=\"none\" stroke=\"black\" d=\"M50.5,-407.8C50.5,-398.7 50.5,-386.79 50.5,-376.9\"/>\n<polygon fill=\"black\" stroke=\"black\" points=\"54,-376.84 50.5,-366.84 47,-376.84 54,-376.84\"/>\n</g>\n<!-- 133244457044960 -->\n<g id=\"node9\" class=\"node\">\n<title>133244457044960</title>\n<polygon fill=\"lightgrey\" stroke=\"black\" points=\"214,-306 113,-306 113,-287 214,-287 214,-306\"/>\n<text text-anchor=\"middle\" x=\"163.5\" y=\"-294\" font-family=\"monospace\" font-size=\"10.00\">AccumulateGrad</text>\n</g>\n<!-- 133244457044960&#45;&gt;133244457048848 -->\n<g id=\"edge7\" class=\"edge\">\n<title>133244457044960&#45;&gt;133244457048848</title>\n<path fill=\"none\" stroke=\"black\" d=\"M154.34,-286.98C146,-279.23 133.47,-267.58 123.32,-258.14\"/>\n<polygon fill=\"black\" stroke=\"black\" points=\"125.53,-255.42 115.82,-251.17 120.76,-260.54 125.53,-255.42\"/>\n</g>\n<!-- 133244458563072 -->\n<g id=\"node10\" class=\"node\">\n<title>133244458563072</title>\n<polygon fill=\"lightblue\" stroke=\"black\" points=\"190.5,-372 136.5,-372 136.5,-342 190.5,-342 190.5,-372\"/>\n<text text-anchor=\"middle\" x=\"163.5\" y=\"-360\" font-family=\"monospace\" font-size=\"10.00\">B</text>\n<text text-anchor=\"middle\" x=\"163.5\" y=\"-349\" font-family=\"monospace\" font-size=\"10.00\"> ()</text>\n</g>\n<!-- 133244458563072&#45;&gt;133244457044960 -->\n<g id=\"edge8\" class=\"edge\">\n<title>133244458563072&#45;&gt;133244457044960</title>\n<path fill=\"none\" stroke=\"black\" d=\"M163.5,-341.84C163.5,-334.21 163.5,-324.7 163.5,-316.45\"/>\n<polygon fill=\"black\" stroke=\"black\" points=\"167,-316.27 163.5,-306.27 160,-316.27 167,-316.27\"/>\n</g>\n</g>\n</svg>\n",
            "text/plain": [
              "<graphviz.graphs.Digraph at 0x792f6487ce20>"
            ]
          },
          "metadata": {}
        }
      ]
    },
    {
      "cell_type": "markdown",
      "source": [
        ">#### 3.8 경사 계산"
      ],
      "metadata": {
        "id": "hGmLHK2_DZp5"
      }
    },
    {
      "cell_type": "code",
      "source": [
        "loss.backward()\n",
        "print(loss)\n",
        "print(W.grad)\n",
        "print(B.grad)"
      ],
      "metadata": {
        "colab": {
          "base_uri": "https://localhost:8080/"
        },
        "id": "1Jj6ffoIC_wy",
        "outputId": "979ff776-0ad0-4c2c-d439-7c4c1a2c5387"
      },
      "execution_count": null,
      "outputs": [
        {
          "output_type": "stream",
          "name": "stdout",
          "text": [
            "tensor(13.3520, grad_fn=<MeanBackward0>)\n",
            "tensor(-19.0400)\n",
            "tensor(2.0000)\n"
          ]
        }
      ]
    },
    {
      "cell_type": "code",
      "source": [
        "lr = 0.001\n",
        "with torch.no_grad():     #일시적으로 계산 그래프 생성 기능이 정지하여, 변수를 수정할 수 있다.\n",
        "  W -= lr * W.grad\n",
        "  B -= lr * B.grad\n",
        "\n",
        "  W.grad.zero_()\n",
        "  B.grad.zero_()"
      ],
      "metadata": {
        "id": "svVVOw3mD0FN"
      },
      "execution_count": null,
      "outputs": []
    },
    {
      "cell_type": "code",
      "source": [
        "print(W)\n",
        "print(B)\n",
        "print(W.grad)\n",
        "print(B.grad)"
      ],
      "metadata": {
        "colab": {
          "base_uri": "https://localhost:8080/"
        },
        "id": "nkhEqLEWEVkC",
        "outputId": "5fbc98da-e12b-4b05-cda8-bf024e4e6aef"
      },
      "execution_count": null,
      "outputs": [
        {
          "output_type": "stream",
          "name": "stdout",
          "text": [
            "tensor(1.0381, requires_grad=True)\n",
            "tensor(0.9960, requires_grad=True)\n",
            "tensor(0.)\n",
            "tensor(0.)\n"
          ]
        }
      ]
    },
    {
      "cell_type": "code",
      "source": [
        "W = torch.tensor(1.0, requires_grad=True).float()\n",
        "B = torch.tensor(1.0, requires_grad=True).float()\n",
        "\n",
        "num_epochs = 5000\n",
        "\n",
        "lr = 1e-3\n",
        "\n",
        "history = np.zeros((0,2))\n",
        "history"
      ],
      "metadata": {
        "colab": {
          "base_uri": "https://localhost:8080/"
        },
        "id": "thH0J6MEEejr",
        "outputId": "9e92b0b7-1143-4a5c-af7e-b7bd4ec44abd"
      },
      "execution_count": null,
      "outputs": [
        {
          "output_type": "execute_result",
          "data": {
            "text/plain": [
              "array([], shape=(0, 2), dtype=float64)"
            ]
          },
          "metadata": {},
          "execution_count": 29
        }
      ]
    },
    {
      "cell_type": "code",
      "source": [
        "for epoch in range(num_epochs):\n",
        "  Yp = pred(X)\n",
        "  loss = MSE(Yp, Y)\n",
        "  loss.backward()\n",
        "  with torch.no_grad():\n",
        "    W -= lr * W.grad\n",
        "    B -= lr * B.grad\n",
        "\n",
        "    W.grad.zero_()\n",
        "    B.grad.zero_()\n",
        "\n",
        "  if (epoch % 100 == 0):\n",
        "    item = np.array([epoch, loss.item()])\n",
        "    history = np.vstack((history, item))\n",
        "    print(f'epoch = {epoch} loss = {loss:>.4f}')"
      ],
      "metadata": {
        "colab": {
          "base_uri": "https://localhost:8080/"
        },
        "id": "3J84anaXFNAc",
        "outputId": "fe740b3e-c697-4f93-c3c4-43b3999215ee"
      },
      "execution_count": null,
      "outputs": [
        {
          "output_type": "stream",
          "name": "stdout",
          "text": [
            "epoch = 0 loss = 13.3520\n",
            "epoch = 100 loss = 5.2805\n",
            "epoch = 200 loss = 4.9887\n",
            "epoch = 300 loss = 4.8399\n",
            "epoch = 400 loss = 4.7406\n",
            "epoch = 500 loss = 4.6741\n",
            "epoch = 600 loss = 4.6295\n",
            "epoch = 700 loss = 4.5997\n",
            "epoch = 800 loss = 4.5797\n",
            "epoch = 900 loss = 4.5663\n",
            "epoch = 1000 loss = 4.5573\n",
            "epoch = 1100 loss = 4.5513\n",
            "epoch = 1200 loss = 4.5472\n",
            "epoch = 1300 loss = 4.5445\n",
            "epoch = 1400 loss = 4.5427\n",
            "epoch = 1500 loss = 4.5415\n",
            "epoch = 1600 loss = 4.5407\n",
            "epoch = 1700 loss = 4.5401\n",
            "epoch = 1800 loss = 4.5398\n",
            "epoch = 1900 loss = 4.5395\n",
            "epoch = 2000 loss = 4.5394\n",
            "epoch = 2100 loss = 4.5393\n",
            "epoch = 2200 loss = 4.5392\n",
            "epoch = 2300 loss = 4.5391\n",
            "epoch = 2400 loss = 4.5391\n",
            "epoch = 2500 loss = 4.5391\n",
            "epoch = 2600 loss = 4.5391\n",
            "epoch = 2700 loss = 4.5391\n",
            "epoch = 2800 loss = 4.5390\n",
            "epoch = 2900 loss = 4.5390\n",
            "epoch = 3000 loss = 4.5390\n",
            "epoch = 3100 loss = 4.5390\n",
            "epoch = 3200 loss = 4.5390\n",
            "epoch = 3300 loss = 4.5390\n",
            "epoch = 3400 loss = 4.5390\n",
            "epoch = 3500 loss = 4.5390\n",
            "epoch = 3600 loss = 4.5390\n",
            "epoch = 3700 loss = 4.5390\n",
            "epoch = 3800 loss = 4.5390\n",
            "epoch = 3900 loss = 4.5390\n",
            "epoch = 4000 loss = 4.5390\n",
            "epoch = 4100 loss = 4.5390\n",
            "epoch = 4200 loss = 4.5390\n",
            "epoch = 4300 loss = 4.5390\n",
            "epoch = 4400 loss = 4.5390\n",
            "epoch = 4500 loss = 4.5390\n",
            "epoch = 4600 loss = 4.5390\n",
            "epoch = 4700 loss = 4.5390\n",
            "epoch = 4800 loss = 4.5390\n",
            "epoch = 4900 loss = 4.5390\n"
          ]
        }
      ]
    },
    {
      "cell_type": "code",
      "source": [
        "print('W=', W.data.numpy())\n",
        "print('B=', B.data.numpy())\n",
        "\n",
        "print(f'Before: loss:{history[0,1]:>.4f}')\n",
        "print(f'After:  loss:{history[-1,1]:>.4f}')\n"
      ],
      "metadata": {
        "colab": {
          "base_uri": "https://localhost:8080/"
        },
        "id": "kd9dEYaEGHfh",
        "outputId": "b4eca8e1-7243-4d12-974c-e30049754f9f"
      },
      "execution_count": null,
      "outputs": [
        {
          "output_type": "stream",
          "name": "stdout",
          "text": [
            "W= 1.8206872\n",
            "B= 4.49939e-05\n",
            "Before: loss:13.3520\n",
            "After:  loss:4.5390\n"
          ]
        }
      ]
    },
    {
      "cell_type": "code",
      "source": [
        "history"
      ],
      "metadata": {
        "colab": {
          "base_uri": "https://localhost:8080/"
        },
        "id": "3W1smfFoG9wd",
        "outputId": "5d383aca-3ba3-41e0-edea-5a31631907b8"
      },
      "execution_count": null,
      "outputs": [
        {
          "output_type": "execute_result",
          "data": {
            "text/plain": [
              "array([[0.00000000e+00, 1.33520021e+01],\n",
              "       [1.00000000e+02, 5.28052711e+00],\n",
              "       [2.00000000e+02, 4.98865747e+00],\n",
              "       [3.00000000e+02, 4.83987331e+00],\n",
              "       [4.00000000e+02, 4.74060869e+00],\n",
              "       [5.00000000e+02, 4.67409897e+00],\n",
              "       [6.00000000e+02, 4.62953472e+00],\n",
              "       [7.00000000e+02, 4.59967518e+00],\n",
              "       [8.00000000e+02, 4.57966661e+00],\n",
              "       [9.00000000e+02, 4.56626034e+00],\n",
              "       [1.00000000e+03, 4.55727768e+00],\n",
              "       [1.10000000e+03, 4.55125761e+00],\n",
              "       [1.20000000e+03, 4.54722500e+00],\n",
              "       [1.30000000e+03, 4.54452229e+00],\n",
              "       [1.40000000e+03, 4.54271221e+00],\n",
              "       [1.50000000e+03, 4.54149866e+00],\n",
              "       [1.60000000e+03, 4.54068470e+00],\n",
              "       [1.70000000e+03, 4.54014158e+00],\n",
              "       [1.80000000e+03, 4.53977633e+00],\n",
              "       [1.90000000e+03, 4.53953266e+00],\n",
              "       [2.00000000e+03, 4.53936672e+00],\n",
              "       [2.10000000e+03, 4.53925800e+00],\n",
              "       [2.20000000e+03, 4.53918409e+00],\n",
              "       [2.30000000e+03, 4.53913403e+00],\n",
              "       [2.40000000e+03, 4.53910208e+00],\n",
              "       [2.50000000e+03, 4.53907967e+00],\n",
              "       [2.60000000e+03, 4.53906441e+00],\n",
              "       [2.70000000e+03, 4.53905582e+00],\n",
              "       [2.80000000e+03, 4.53904772e+00],\n",
              "       [2.90000000e+03, 4.53904390e+00],\n",
              "       [3.00000000e+03, 4.53904057e+00],\n",
              "       [3.10000000e+03, 4.53903866e+00],\n",
              "       [3.20000000e+03, 4.53903818e+00],\n",
              "       [3.30000000e+03, 4.53903675e+00],\n",
              "       [3.40000000e+03, 4.53903627e+00],\n",
              "       [3.50000000e+03, 4.53903484e+00],\n",
              "       [3.60000000e+03, 4.53903580e+00],\n",
              "       [3.70000000e+03, 4.53903532e+00],\n",
              "       [3.80000000e+03, 4.53903484e+00],\n",
              "       [3.90000000e+03, 4.53903484e+00],\n",
              "       [4.00000000e+03, 4.53903484e+00],\n",
              "       [4.10000000e+03, 4.53903437e+00],\n",
              "       [4.20000000e+03, 4.53903484e+00],\n",
              "       [4.30000000e+03, 4.53903532e+00],\n",
              "       [4.40000000e+03, 4.53903437e+00],\n",
              "       [4.50000000e+03, 4.53903484e+00],\n",
              "       [4.60000000e+03, 4.53903437e+00],\n",
              "       [4.70000000e+03, 4.53903484e+00],\n",
              "       [4.80000000e+03, 4.53903484e+00],\n",
              "       [4.90000000e+03, 4.53903437e+00]])"
            ]
          },
          "metadata": {},
          "execution_count": 32
        }
      ]
    },
    {
      "cell_type": "code",
      "source": [
        "# 학습 곡선\n",
        "\n",
        "plt.plot(history[:,0], history[:,1], 'b')\n",
        "plt.xlabel('반복 횟수')\n",
        "plt.ylabel('손실')\n",
        "plt.title('학습 곡선(손실)')\n",
        "plt.show()"
      ],
      "metadata": {
        "colab": {
          "base_uri": "https://localhost:8080/",
          "height": 471
        },
        "id": "kRd0hlzoGwru",
        "outputId": "0f1a882b-1279-4c6c-8a5e-098ff40b66fb"
      },
      "execution_count": null,
      "outputs": [
        {
          "output_type": "display_data",
          "data": {
            "text/plain": [
              "<Figure size 640x480 with 1 Axes>"
            ],
            "image/png": "[encoded data removed]"
          },
          "metadata": {}
        }
      ]
    },
    {
      "cell_type": "code",
      "source": [
        "plt.scatter(X, Y, c='k', s=50)\n",
        "plt.xlabel('$X$')\n",
        "plt.ylabel('$Y$')\n",
        "plt.plot()"
      ],
      "metadata": {
        "id": "WH5wYGHnHLI6"
      },
      "execution_count": null,
      "outputs": []
    }
  ]
}