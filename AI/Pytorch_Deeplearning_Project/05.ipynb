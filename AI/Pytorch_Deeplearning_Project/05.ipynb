{
  "cells": [
    {
      "cell_type": "code",
      "execution_count": 1,
      "metadata": {
        "id": "Wjw7rTG77i5o"
      },
<<<<<<< HEAD
      "outputs": [],
=======
      "outputs": [
        {
          "name": "stdout",
          "output_type": "stream",
          "text": [
            "Reading package lists... Done\n",
            "Building dependency tree... Done\n",
            "Reading state information... Done\n",
            "Note, selecting 'fonts-nanum-extra' for glob 'fonts-nanum*'\n",
            "Note, selecting 'fonts-nanum-coding' for glob 'fonts-nanum*'\n",
            "Note, selecting 'fonts-nanum-eco' for glob 'fonts-nanum*'\n",
            "Note, selecting 'fonts-nanum' for glob 'fonts-nanum*'\n",
            "The following NEW packages will be installed:\n",
            "  fonts-nanum fonts-nanum-coding fonts-nanum-eco fonts-nanum-extra\n",
            "0 upgraded, 4 newly installed, 0 to remove and 39 not upgraded.\n",
            "Need to get 46.0 MB of archives.\n",
            "After this operation, 177 MB of additional disk space will be used.\n",
            "Get:1 http://archive.ubuntu.com/ubuntu jammy/universe amd64 fonts-nanum all 20200506-1 [10.3 MB]\n",
            "Get:2 http://archive.ubuntu.com/ubuntu jammy/universe amd64 fonts-nanum-coding all 2.5-3 [4,988 B]\n",
            "Get:3 http://archive.ubuntu.com/ubuntu jammy/universe amd64 fonts-nanum-eco all 1.000-7 [14.7 MB]\n",
            "Get:4 http://archive.ubuntu.com/ubuntu jammy/universe amd64 fonts-nanum-extra all 20200506-1 [21.0 MB]\n",
            "Fetched 46.0 MB in 6s (8,280 kB/s)\n",
            "debconf: unable to initialize frontend: Dialog\n",
            "debconf: (No usable dialog-like program is installed, so the dialog based frontend cannot be used. at /usr/share/perl5/Debconf/FrontEnd/Dialog.pm line 78, <> line 4.)\n",
            "debconf: falling back to frontend: Readline\n",
            "debconf: unable to initialize frontend: Readline\n",
            "debconf: (This frontend requires a controlling tty.)\n",
            "debconf: falling back to frontend: Teletype\n",
            "dpkg-preconfigure: unable to re-open stdin: \n",
            "Selecting previously unselected package fonts-nanum.\n",
            "(Reading database ... 121753 files and directories currently installed.)\n",
            "Preparing to unpack .../fonts-nanum_20200506-1_all.deb ...\n",
            "Unpacking fonts-nanum (20200506-1) ...\n",
            "Selecting previously unselected package fonts-nanum-coding.\n",
            "Preparing to unpack .../fonts-nanum-coding_2.5-3_all.deb ...\n",
            "Unpacking fonts-nanum-coding (2.5-3) ...\n",
            "Selecting previously unselected package fonts-nanum-eco.\n",
            "Preparing to unpack .../fonts-nanum-eco_1.000-7_all.deb ...\n",
            "Unpacking fonts-nanum-eco (1.000-7) ...\n",
            "Selecting previously unselected package fonts-nanum-extra.\n",
            "Preparing to unpack .../fonts-nanum-extra_20200506-1_all.deb ...\n",
            "Unpacking fonts-nanum-extra (20200506-1) ...\n",
            "Setting up fonts-nanum-extra (20200506-1) ...\n",
            "Setting up fonts-nanum (20200506-1) ...\n",
            "Setting up fonts-nanum-coding (2.5-3) ...\n",
            "Setting up fonts-nanum-eco (1.000-7) ...\n",
            "Processing triggers for fontconfig (2.13.1-4.2ubuntu5) ...\n",
            "/usr/share/fonts: caching, new cache contents: 0 fonts, 1 dirs\n",
            "/usr/share/fonts/truetype: caching, new cache contents: 0 fonts, 3 dirs\n",
            "/usr/share/fonts/truetype/humor-sans: caching, new cache contents: 1 fonts, 0 dirs\n",
            "/usr/share/fonts/truetype/liberation: caching, new cache contents: 16 fonts, 0 dirs\n",
            "/usr/share/fonts/truetype/nanum: caching, new cache contents: 39 fonts, 0 dirs\n",
            "/usr/local/share/fonts: caching, new cache contents: 0 fonts, 0 dirs\n",
            "/root/.local/share/fonts: skipping, no such directory\n",
            "/root/.fonts: skipping, no such directory\n",
            "/usr/share/fonts/truetype: skipping, looped directory detected\n",
            "/usr/share/fonts/truetype/humor-sans: skipping, looped directory detected\n",
            "/usr/share/fonts/truetype/liberation: skipping, looped directory detected\n",
            "/usr/share/fonts/truetype/nanum: skipping, looped directory detected\n",
            "/var/cache/fontconfig: cleaning cache directory\n",
            "/root/.cache/fontconfig: not cleaning non-existent cache directory\n",
            "/root/.fontconfig: not cleaning non-existent cache directory\n",
            "fc-cache: succeeded\n"
          ]
        }
      ],
>>>>>>> 0e3319cda3964e7917fbbd23812a3ab53ad93dd6
      "source": [
        "# !sudo apt-get install -y fonts-nanum*\n",
        "# !sudo fc-cache -fv\n",
        "# !rm -rf ~/.cache/matplotlib"
      ]
    },
    {
      "cell_type": "code",
<<<<<<< HEAD
      "source": [
        "# !pip install torchviz | tail -n 1\n",
        "# !pip install torchinfo | tail -n 1"
      ],
=======
      "execution_count": 2,
>>>>>>> 0e3319cda3964e7917fbbd23812a3ab53ad93dd6
      "metadata": {
        "id": "jtU0r_A57u45"
      },
<<<<<<< HEAD
      "execution_count": 2,
      "outputs": []
=======
      "outputs": [
        {
          "name": "stdout",
          "output_type": "stream",
          "text": [
            "Successfully installed nvidia-cublas-cu12-12.1.3.1 nvidia-cuda-cupti-cu12-12.1.105 nvidia-cuda-nvrtc-cu12-12.1.105 nvidia-cuda-runtime-cu12-12.1.105 nvidia-cudnn-cu12-8.9.2.26 nvidia-cufft-cu12-11.0.2.54 nvidia-curand-cu12-10.3.2.106 nvidia-cusolver-cu12-11.4.5.107 nvidia-cusparse-cu12-12.1.0.106 nvidia-nccl-cu12-2.19.3 nvidia-nvjitlink-cu12-12.4.99 nvidia-nvtx-cu12-12.1.105 torchviz-0.0.2\n",
            "Successfully installed torchinfo-1.8.0\n"
          ]
        }
      ],
      "source": [
        "!pip install torchviz | tail -n 1\n",
        "!pip install torchinfo | tail -n 1"
      ]
>>>>>>> 0e3319cda3964e7917fbbd23812a3ab53ad93dd6
    },
    {
      "cell_type": "code",
      "execution_count": null,
      "metadata": {
        "id": "wELsqGW_79YT"
      },
<<<<<<< HEAD
      "execution_count": 3,
      "outputs": []
=======
      "outputs": [],
      "source": [
        "# https://github.com/wikibook/pytorchdl2/blob/main/notebooks/ch05_regression.ipynb"
      ]
>>>>>>> 0e3319cda3964e7917fbbd23812a3ab53ad93dd6
    },
    {
      "cell_type": "code",
      "execution_count": 1,
      "metadata": {
        "id": "0RGXzjiX7vX4"
      },
      "outputs": [],
      "source": [
        "%matplotlib inline\n",
        "import pandas as pd\n",
        "import numpy as np\n",
        "import matplotlib.pyplot as plt\n",
        "from IPython.display import display\n",
        "\n",
        "# 폰트 관련 용도\n",
        "import matplotlib.font_manager as fm\n",
        "\n",
        "\n",
        "import torch\n",
        "import torch.nn as nn\n",
        "import torch.optim as optim\n",
        "from torchviz import make_dot\n",
        "\n",
        "plt.rc('font', family='NanumBarunGothic')"
<<<<<<< HEAD
      ],
      "metadata": {
        "id": "0RGXzjiX7vX4"
      },
      "execution_count": 4,
      "outputs": []
=======
      ]
>>>>>>> 0e3319cda3964e7917fbbd23812a3ab53ad93dd6
    },
    {
      "cell_type": "markdown",
      "metadata": {
        "id": "SITWzkn9tSRu"
      },
      "source": [
        "#### 1입력 1출력"
      ]
    },
    {
      "cell_type": "code",
      "execution_count": 3,
      "metadata": {
        "colab": {
          "base_uri": "https://localhost:8080/"
        },
        "id": "1a3jkDb9rg2u",
        "outputId": "6ace2a49-6a7c-43a8-f243-e1530096a063"
      },
<<<<<<< HEAD
      "execution_count": 5,
=======
>>>>>>> 0e3319cda3964e7917fbbd23812a3ab53ad93dd6
      "outputs": [
        {
          "name": "stdout",
          "output_type": "stream",
          "text": [
            "Linear(in_features=1, out_features=1, bias=True)\n"
          ]
        }
      ],
      "source": [
        "torch.manual_seed(123)\n",
        "\n",
        "l1 = nn.Linear(1, 1)\n",
        "\n",
        "print(l1)"
      ]
    },
    {
      "cell_type": "code",
      "execution_count": 4,
      "metadata": {
        "colab": {
          "base_uri": "https://localhost:8080/"
        },
        "id": "YJ68ZA_Srh-J",
        "outputId": "96eebbdf-6a10-4946-f129-97efee75ffac"
      },
<<<<<<< HEAD
      "execution_count": 6,
=======
>>>>>>> 0e3319cda3964e7917fbbd23812a3ab53ad93dd6
      "outputs": [
        {
          "name": "stdout",
          "output_type": "stream",
          "text": [
            "name:  weight\n",
            "tensor:  Parameter containing:\n",
            "tensor([[-0.4078]], requires_grad=True)\n",
            "shape:  torch.Size([1, 1])\n",
            "name:  bias\n",
            "tensor:  Parameter containing:\n",
            "tensor([0.0331], requires_grad=True)\n",
            "shape:  torch.Size([1])\n"
          ]
        }
      ],
      "source": [
        "for param in l1.named_parameters():\n",
        "    print('name: ', param[0])\n",
        "    print('tensor: ', param[1])\n",
        "    print('shape: ', param[1].shape)\n"
      ]
    },
    {
      "cell_type": "code",
      "execution_count": 5,
      "metadata": {
        "colab": {
          "base_uri": "https://localhost:8080/"
        },
        "id": "c-Xc3lQ5r3z8",
        "outputId": "d2939ed2-2abf-4cc1-90a3-2b416f726e4d"
      },
<<<<<<< HEAD
      "execution_count": 7,
=======
>>>>>>> 0e3319cda3964e7917fbbd23812a3ab53ad93dd6
      "outputs": [
        {
          "name": "stdout",
          "output_type": "stream",
          "text": [
            "Parameter containing:\n",
            "tensor([[2.]], requires_grad=True)\n",
            "Parameter containing:\n",
            "tensor([1.], requires_grad=True)\n"
          ]
        }
      ],
      "source": [
        "#명시적 초기화\n",
        "nn.init.constant_(l1.weight, 2.0)\n",
        "nn.init.constant_(l1.bias, 1.0)\n",
        "\n",
        "print(l1.weight)\n",
        "print(l1.bias)"
      ]
    },
    {
      "cell_type": "code",
      "execution_count": 6,
      "metadata": {
        "colab": {
          "base_uri": "https://localhost:8080/"
        },
        "id": "Urnk_jtasgvx",
        "outputId": "8d32284a-de28-4536-f8cb-42956d7a1692"
      },
<<<<<<< HEAD
      "execution_count": 8,
=======
>>>>>>> 0e3319cda3964e7917fbbd23812a3ab53ad93dd6
      "outputs": [
        {
          "data": {
            "text/plain": [
              "(torch.Size([5, 1]),\n",
              " tensor([[-2.],\n",
              "         [-1.],\n",
              "         [ 0.],\n",
              "         [ 1.],\n",
              "         [ 2.]]))"
            ]
          },
          "execution_count": 6,
          "metadata": {},
<<<<<<< HEAD
          "execution_count": 8
=======
          "output_type": "execute_result"
>>>>>>> 0e3319cda3964e7917fbbd23812a3ab53ad93dd6
        }
      ],
      "source": [
        "x_np = np.arange(-2,2.1,1)\n",
        "x = torch.tensor(x_np, dtype = torch.float32)\n",
        "x = x.view(-1,1)\n",
        "x.shape, x"
      ]
    },
    {
      "cell_type": "code",
      "execution_count": 8,
      "metadata": {
        "colab": {
          "base_uri": "https://localhost:8080/"
        },
        "id": "Tjs1l8qntA-f",
        "outputId": "08ec4c1b-1589-4f89-9c07-3292927c8e64"
      },
<<<<<<< HEAD
      "execution_count": 9,
=======
>>>>>>> 0e3319cda3964e7917fbbd23812a3ab53ad93dd6
      "outputs": [
        {
          "data": {
            "text/plain": [
              "(torch.Size([5, 1]),\n",
              " tensor([[-3.],\n",
              "         [-1.],\n",
              "         [ 1.],\n",
              "         [ 3.],\n",
              "         [ 5.]]))"
            ]
          },
          "execution_count": 8,
          "metadata": {},
<<<<<<< HEAD
          "execution_count": 9
=======
          "output_type": "execute_result"
>>>>>>> 0e3319cda3964e7917fbbd23812a3ab53ad93dd6
        }
      ],
      "source": [
        "y = l1(x)\n",
        "y.shape, y.data"
      ]
    },
    {
      "cell_type": "markdown",
      "metadata": {
        "id": "SUyJ3fPntUGX"
      },
      "source": [
        "2입력 1출력"
      ]
    },
    {
      "cell_type": "code",
<<<<<<< HEAD
      "source": [
        "l2 = nn.Linear(2, 1)\n",
        "\n",
        "nn.init.constant_(l2.weight, 1.)\n",
        "nn.init.constant_(l2.bias, 2.)\n",
        "l2.weight, l2.bias"
      ],
=======
      "execution_count": 9,
>>>>>>> 0e3319cda3964e7917fbbd23812a3ab53ad93dd6
      "metadata": {
        "colab": {
          "base_uri": "https://localhost:8080/"
        },
        "id": "Wd9hsOu7tNOR",
        "outputId": "d1fa29e1-2d0a-4f1c-a17d-3131625f79d8"
      },
<<<<<<< HEAD
      "execution_count": 22,
=======
>>>>>>> 0e3319cda3964e7917fbbd23812a3ab53ad93dd6
      "outputs": [
        {
          "data": {
            "text/plain": [
              "(Parameter containing:\n",
              " tensor([[1., 1.]], requires_grad=True),\n",
              " Parameter containing:\n",
              " tensor([2.], requires_grad=True))"
            ]
          },
          "execution_count": 9,
          "metadata": {},
<<<<<<< HEAD
          "execution_count": 22
=======
          "output_type": "execute_result"
>>>>>>> 0e3319cda3964e7917fbbd23812a3ab53ad93dd6
        }
      ],
      "source": [
        "l2 = nn.Linear(2, 1)\n",
        "nn.init.constant_(l2.weight, 1.)\n",
        "nn.init.constant_(l2.bias, 2.)\n",
        "l2.weight, l2.bias"
      ]
    },
    {
      "cell_type": "code",
      "execution_count": 12,
      "metadata": {
        "colab": {
          "base_uri": "https://localhost:8080/"
        },
        "id": "VzK7cCtUtiJz",
        "outputId": "45e759ee-24a7-4e5a-d16a-8e7892fec206"
      },
<<<<<<< HEAD
      "execution_count": 11,
=======
>>>>>>> 0e3319cda3964e7917fbbd23812a3ab53ad93dd6
      "outputs": [
        {
          "data": {
            "text/plain": [
              "(torch.Size([4, 2]),\n",
              " tensor([[0., 0.],\n",
              "         [0., 1.],\n",
              "         [1., 0.],\n",
              "         [1., 1.]]))"
            ]
          },
          "execution_count": 12,
          "metadata": {},
<<<<<<< HEAD
          "execution_count": 11
=======
          "output_type": "execute_result"
>>>>>>> 0e3319cda3964e7917fbbd23812a3ab53ad93dd6
        }
      ],
      "source": [
        "x2 = torch.tensor([[0, 0],\n",
        "                   [0, 1],\n",
        "                   [1, 0],\n",
        "                   [1, 1]], dtype = torch.float32)\n",
        "\n",
        "x2.shape, x2"
      ]
    },
    {
      "cell_type": "code",
      "execution_count": 13,
      "metadata": {
        "colab": {
          "base_uri": "https://localhost:8080/"
        },
        "id": "erBWgg8xtxyG",
        "outputId": "32d63975-8aee-402b-b979-7952503b78fa"
      },
<<<<<<< HEAD
      "execution_count": 12,
=======
>>>>>>> 0e3319cda3964e7917fbbd23812a3ab53ad93dd6
      "outputs": [
        {
          "data": {
            "text/plain": [
              "(torch.Size([4, 1]),\n",
              " tensor([[2.],\n",
              "         [3.],\n",
              "         [3.],\n",
              "         [4.]]))"
            ]
          },
          "execution_count": 13,
          "metadata": {},
<<<<<<< HEAD
          "execution_count": 12
=======
          "output_type": "execute_result"
>>>>>>> 0e3319cda3964e7917fbbd23812a3ab53ad93dd6
        }
      ],
      "source": [
        "y2 = l2(x2)\n",
        "y2.shape, y2.data"
      ]
    },
    {
      "cell_type": "markdown",
      "metadata": {
        "id": "0Qmr2l8IuDbJ"
      },
      "source": [
        "2입력 3출력"
      ]
    },
    {
      "cell_type": "code",
      "execution_count": 27,
      "metadata": {
        "colab": {
          "base_uri": "https://localhost:8080/"
        },
        "id": "U-oAlqNCt0QN",
        "outputId": "26bc5c59-863c-426b-9dc4-169ba485d5ba"
      },
<<<<<<< HEAD
      "execution_count": 13,
=======
>>>>>>> 0e3319cda3964e7917fbbd23812a3ab53ad93dd6
      "outputs": [
        {
          "data": {
            "text/plain": [
              "(Parameter containing:\n",
              " tensor([[1., 1.],\n",
              "         [2., 2.],\n",
              "         [3., 3.]], requires_grad=True),\n",
              " Parameter containing:\n",
              " tensor([2., 2., 2.], requires_grad=True))"
            ]
          },
          "execution_count": 27,
          "metadata": {},
<<<<<<< HEAD
          "execution_count": 13
=======
          "output_type": "execute_result"
>>>>>>> 0e3319cda3964e7917fbbd23812a3ab53ad93dd6
        }
      ],
      "source": [
        "l3 = nn.Linear(2,3)\n",
        "\n",
        "nn.init.constant_(l3.weight[0,:], 1.0)\n",
        "nn.init.constant_(l3.weight[1,0:2], 2.0)\n",
        "nn.init.constant_(l3.weight[2,:], 3.0)\n",
        "nn.init.constant_(l3.bias, 2.0)\n",
        "\n",
        "l3.weight, l3.bias"
      ]
    },
    {
      "cell_type": "code",
      "execution_count": 29,
      "metadata": {
        "colab": {
          "base_uri": "https://localhost:8080/"
        },
        "id": "lgeKDlrSuVrb",
        "outputId": "3f92ace8-0a3a-49ad-886b-c208a736fa2c"
      },
<<<<<<< HEAD
      "execution_count": 14,
=======
>>>>>>> 0e3319cda3964e7917fbbd23812a3ab53ad93dd6
      "outputs": [
        {
          "data": {
            "text/plain": [
              "(torch.Size([4, 3]),\n",
              " tensor([[2., 2., 2.],\n",
              "         [3., 4., 5.],\n",
              "         [3., 4., 5.],\n",
              "         [4., 6., 8.]]))"
            ]
          },
          "execution_count": 29,
          "metadata": {},
<<<<<<< HEAD
          "execution_count": 14
=======
          "output_type": "execute_result"
>>>>>>> 0e3319cda3964e7917fbbd23812a3ab53ad93dd6
        }
      ],
      "source": [
        "y3 = l3(x2)\n",
        "y3.shape, y3.data"
      ]
    },
    {
      "cell_type": "markdown",
      "metadata": {
        "id": "eQQT8fTXvfKt"
      },
      "source": [
        "### 모델 정의"
      ]
    },
    {
      "cell_type": "code",
      "execution_count": 30,
      "metadata": {
        "id": "wJjmY5YBu94J"
      },
      "outputs": [],
      "source": [
        "class Net(nn.Module):\n",
        "    def __init__(self, n_input, n_output):\n",
        "        super().__init__()\n",
        "\n",
        "        self.l1 = nn.Linear(n_input, n_output)\n",
        "\n",
        "    def forward(self, x):\n",
        "        x1 = self.l1(x)\n",
        "        return x1"
<<<<<<< HEAD
      ],
      "metadata": {
        "id": "wJjmY5YBu94J"
      },
      "execution_count": 15,
      "outputs": []
=======
      ]
>>>>>>> 0e3319cda3964e7917fbbd23812a3ab53ad93dd6
    },
    {
      "cell_type": "code",
      "execution_count": 36,
      "metadata": {
        "colab": {
          "base_uri": "https://localhost:8080/"
        },
        "id": "9DQGs5RSwQBb",
        "outputId": "7f1cdc4c-f6e2-443d-d902-fc63d299dd3e"
      },
      "outputs": [
        {
          "data": {
            "text/plain": [
              "torch.Size([100, 1])"
            ]
          },
          "execution_count": 36,
          "metadata": {},
          "output_type": "execute_result"
        }
      ],
      "source": [
        "inputs = torch.ones(100,1)\n",
        "\n",
        "n_input = 1\n",
        "n_output = 1\n",
        "net = Net(n_input, n_output)\n",
        "\n",
        "outputs = net(inputs)\n",
        "outputs.shape"
<<<<<<< HEAD
      ],
      "metadata": {
        "colab": {
          "base_uri": "https://localhost:8080/"
        },
        "id": "9DQGs5RSwQBb",
        "outputId": "a646c4a0-a107-42ee-e032-c6d489e1c752"
      },
      "execution_count": 16,
      "outputs": [
        {
          "output_type": "execute_result",
          "data": {
            "text/plain": [
              "torch.Size([100, 1])"
            ]
          },
          "metadata": {},
          "execution_count": 16
        }
      ]
    },
    {
      "cell_type": "markdown",
      "source": [
        "### 손실함수"
      ],
      "metadata": {
        "id": "HzhYVIoTbMkA"
      }
    },
    {
      "cell_type": "code",
      "source": [
        "# #손실함수\n",
        "# criterion = nn.MSELoss()\n",
        "\n",
        "# loss = criterion(outputs, labels1) / 2\n",
        "\n",
        "# #경사계산\n",
        "# loss.backward()"
      ],
      "metadata": {
        "id": "GCqD6wOswZH3"
      },
      "execution_count": 24,
      "outputs": []
    },
    {
      "cell_type": "markdown",
      "source": [
        "## 데이터 준비"
      ],
      "metadata": {
        "id": "e6byTiEubsCF"
      }
    },
    {
      "cell_type": "code",
      "source": [
        "import pandas as pd\n",
        "\n",
        "data_url = \"http://lib.stat.cmu.edu/datasets/boston\"\n",
        "raw_df = pd.read_csv(data_url, sep=\"\\s+\",skiprows=22,header=None)\n",
        "raw_df"
      ],
      "metadata": {
        "colab": {
          "base_uri": "https://localhost:8080/",
          "height": 424
        },
        "id": "e458aRMgbRo_",
        "outputId": "923755fe-4f26-4cc5-e4dc-761bdf699502"
      },
      "execution_count": 27,
      "outputs": [
        {
          "output_type": "execute_result",
          "data": {
            "text/plain": [
              "             0      1      2    3      4      5     6       7    8      9   \\\n",
              "0       0.00632  18.00   2.31  0.0  0.538  6.575  65.2  4.0900  1.0  296.0   \n",
              "1     396.90000   4.98  24.00  NaN    NaN    NaN   NaN     NaN  NaN    NaN   \n",
              "2       0.02731   0.00   7.07  0.0  0.469  6.421  78.9  4.9671  2.0  242.0   \n",
              "3     396.90000   9.14  21.60  NaN    NaN    NaN   NaN     NaN  NaN    NaN   \n",
              "4       0.02729   0.00   7.07  0.0  0.469  7.185  61.1  4.9671  2.0  242.0   \n",
              "...         ...    ...    ...  ...    ...    ...   ...     ...  ...    ...   \n",
              "1007  396.90000   5.64  23.90  NaN    NaN    NaN   NaN     NaN  NaN    NaN   \n",
              "1008    0.10959   0.00  11.93  0.0  0.573  6.794  89.3  2.3889  1.0  273.0   \n",
              "1009  393.45000   6.48  22.00  NaN    NaN    NaN   NaN     NaN  NaN    NaN   \n",
              "1010    0.04741   0.00  11.93  0.0  0.573  6.030  80.8  2.5050  1.0  273.0   \n",
              "1011  396.90000   7.88  11.90  NaN    NaN    NaN   NaN     NaN  NaN    NaN   \n",
              "\n",
              "        10  \n",
              "0     15.3  \n",
              "1      NaN  \n",
              "2     17.8  \n",
              "3      NaN  \n",
              "4     17.8  \n",
              "...    ...  \n",
              "1007   NaN  \n",
              "1008  21.0  \n",
              "1009   NaN  \n",
              "1010  21.0  \n",
              "1011   NaN  \n",
              "\n",
              "[1012 rows x 11 columns]"
            ],
            "text/html": [
              "\n",
              "  <div id=\"df-2e632e37-c3b1-4170-966e-505a1a54190c\" class=\"colab-df-container\">\n",
              "    <div>\n",
              "<style scoped>\n",
              "    .dataframe tbody tr th:only-of-type {\n",
              "        vertical-align: middle;\n",
              "    }\n",
              "\n",
              "    .dataframe tbody tr th {\n",
              "        vertical-align: top;\n",
              "    }\n",
              "\n",
              "    .dataframe thead th {\n",
              "        text-align: right;\n",
              "    }\n",
              "</style>\n",
              "<table border=\"1\" class=\"dataframe\">\n",
              "  <thead>\n",
              "    <tr style=\"text-align: right;\">\n",
              "      <th></th>\n",
              "      <th>0</th>\n",
              "      <th>1</th>\n",
              "      <th>2</th>\n",
              "      <th>3</th>\n",
              "      <th>4</th>\n",
              "      <th>5</th>\n",
              "      <th>6</th>\n",
              "      <th>7</th>\n",
              "      <th>8</th>\n",
              "      <th>9</th>\n",
              "      <th>10</th>\n",
              "    </tr>\n",
              "  </thead>\n",
              "  <tbody>\n",
              "    <tr>\n",
              "      <th>0</th>\n",
              "      <td>0.00632</td>\n",
              "      <td>18.00</td>\n",
              "      <td>2.31</td>\n",
              "      <td>0.0</td>\n",
              "      <td>0.538</td>\n",
              "      <td>6.575</td>\n",
              "      <td>65.2</td>\n",
              "      <td>4.0900</td>\n",
              "      <td>1.0</td>\n",
              "      <td>296.0</td>\n",
              "      <td>15.3</td>\n",
              "    </tr>\n",
              "    <tr>\n",
              "      <th>1</th>\n",
              "      <td>396.90000</td>\n",
              "      <td>4.98</td>\n",
              "      <td>24.00</td>\n",
              "      <td>NaN</td>\n",
              "      <td>NaN</td>\n",
              "      <td>NaN</td>\n",
              "      <td>NaN</td>\n",
              "      <td>NaN</td>\n",
              "      <td>NaN</td>\n",
              "      <td>NaN</td>\n",
              "      <td>NaN</td>\n",
              "    </tr>\n",
              "    <tr>\n",
              "      <th>2</th>\n",
              "      <td>0.02731</td>\n",
              "      <td>0.00</td>\n",
              "      <td>7.07</td>\n",
              "      <td>0.0</td>\n",
              "      <td>0.469</td>\n",
              "      <td>6.421</td>\n",
              "      <td>78.9</td>\n",
              "      <td>4.9671</td>\n",
              "      <td>2.0</td>\n",
              "      <td>242.0</td>\n",
              "      <td>17.8</td>\n",
              "    </tr>\n",
              "    <tr>\n",
              "      <th>3</th>\n",
              "      <td>396.90000</td>\n",
              "      <td>9.14</td>\n",
              "      <td>21.60</td>\n",
              "      <td>NaN</td>\n",
              "      <td>NaN</td>\n",
              "      <td>NaN</td>\n",
              "      <td>NaN</td>\n",
              "      <td>NaN</td>\n",
              "      <td>NaN</td>\n",
              "      <td>NaN</td>\n",
              "      <td>NaN</td>\n",
              "    </tr>\n",
              "    <tr>\n",
              "      <th>4</th>\n",
              "      <td>0.02729</td>\n",
              "      <td>0.00</td>\n",
              "      <td>7.07</td>\n",
              "      <td>0.0</td>\n",
              "      <td>0.469</td>\n",
              "      <td>7.185</td>\n",
              "      <td>61.1</td>\n",
              "      <td>4.9671</td>\n",
              "      <td>2.0</td>\n",
              "      <td>242.0</td>\n",
              "      <td>17.8</td>\n",
              "    </tr>\n",
              "    <tr>\n",
              "      <th>...</th>\n",
              "      <td>...</td>\n",
              "      <td>...</td>\n",
              "      <td>...</td>\n",
              "      <td>...</td>\n",
              "      <td>...</td>\n",
              "      <td>...</td>\n",
              "      <td>...</td>\n",
              "      <td>...</td>\n",
              "      <td>...</td>\n",
              "      <td>...</td>\n",
              "      <td>...</td>\n",
              "    </tr>\n",
              "    <tr>\n",
              "      <th>1007</th>\n",
              "      <td>396.90000</td>\n",
              "      <td>5.64</td>\n",
              "      <td>23.90</td>\n",
              "      <td>NaN</td>\n",
              "      <td>NaN</td>\n",
              "      <td>NaN</td>\n",
              "      <td>NaN</td>\n",
              "      <td>NaN</td>\n",
              "      <td>NaN</td>\n",
              "      <td>NaN</td>\n",
              "      <td>NaN</td>\n",
              "    </tr>\n",
              "    <tr>\n",
              "      <th>1008</th>\n",
              "      <td>0.10959</td>\n",
              "      <td>0.00</td>\n",
              "      <td>11.93</td>\n",
              "      <td>0.0</td>\n",
              "      <td>0.573</td>\n",
              "      <td>6.794</td>\n",
              "      <td>89.3</td>\n",
              "      <td>2.3889</td>\n",
              "      <td>1.0</td>\n",
              "      <td>273.0</td>\n",
              "      <td>21.0</td>\n",
              "    </tr>\n",
              "    <tr>\n",
              "      <th>1009</th>\n",
              "      <td>393.45000</td>\n",
              "      <td>6.48</td>\n",
              "      <td>22.00</td>\n",
              "      <td>NaN</td>\n",
              "      <td>NaN</td>\n",
              "      <td>NaN</td>\n",
              "      <td>NaN</td>\n",
              "      <td>NaN</td>\n",
              "      <td>NaN</td>\n",
              "      <td>NaN</td>\n",
              "      <td>NaN</td>\n",
              "    </tr>\n",
              "    <tr>\n",
              "      <th>1010</th>\n",
              "      <td>0.04741</td>\n",
              "      <td>0.00</td>\n",
              "      <td>11.93</td>\n",
              "      <td>0.0</td>\n",
              "      <td>0.573</td>\n",
              "      <td>6.030</td>\n",
              "      <td>80.8</td>\n",
              "      <td>2.5050</td>\n",
              "      <td>1.0</td>\n",
              "      <td>273.0</td>\n",
              "      <td>21.0</td>\n",
              "    </tr>\n",
              "    <tr>\n",
              "      <th>1011</th>\n",
              "      <td>396.90000</td>\n",
              "      <td>7.88</td>\n",
              "      <td>11.90</td>\n",
              "      <td>NaN</td>\n",
              "      <td>NaN</td>\n",
              "      <td>NaN</td>\n",
              "      <td>NaN</td>\n",
              "      <td>NaN</td>\n",
              "      <td>NaN</td>\n",
              "      <td>NaN</td>\n",
              "      <td>NaN</td>\n",
              "    </tr>\n",
              "  </tbody>\n",
              "</table>\n",
              "<p>1012 rows × 11 columns</p>\n",
              "</div>\n",
              "    <div class=\"colab-df-buttons\">\n",
              "\n",
              "  <div class=\"colab-df-container\">\n",
              "    <button class=\"colab-df-convert\" onclick=\"convertToInteractive('df-2e632e37-c3b1-4170-966e-505a1a54190c')\"\n",
              "            title=\"Convert this dataframe to an interactive table.\"\n",
              "            style=\"display:none;\">\n",
              "\n",
              "  <svg xmlns=\"http://www.w3.org/2000/svg\" height=\"24px\" viewBox=\"0 -960 960 960\">\n",
              "    <path d=\"M120-120v-720h720v720H120Zm60-500h600v-160H180v160Zm220 220h160v-160H400v160Zm0 220h160v-160H400v160ZM180-400h160v-160H180v160Zm440 0h160v-160H620v160ZM180-180h160v-160H180v160Zm440 0h160v-160H620v160Z\"/>\n",
              "  </svg>\n",
              "    </button>\n",
              "\n",
              "  <style>\n",
              "    .colab-df-container {\n",
              "      display:flex;\n",
              "      gap: 12px;\n",
              "    }\n",
              "\n",
              "    .colab-df-convert {\n",
              "      background-color: #E8F0FE;\n",
              "      border: none;\n",
              "      border-radius: 50%;\n",
              "      cursor: pointer;\n",
              "      display: none;\n",
              "      fill: #1967D2;\n",
              "      height: 32px;\n",
              "      padding: 0 0 0 0;\n",
              "      width: 32px;\n",
              "    }\n",
              "\n",
              "    .colab-df-convert:hover {\n",
              "      background-color: #E2EBFA;\n",
              "      box-shadow: 0px 1px 2px rgba(60, 64, 67, 0.3), 0px 1px 3px 1px rgba(60, 64, 67, 0.15);\n",
              "      fill: #174EA6;\n",
              "    }\n",
              "\n",
              "    .colab-df-buttons div {\n",
              "      margin-bottom: 4px;\n",
              "    }\n",
              "\n",
              "    [theme=dark] .colab-df-convert {\n",
              "      background-color: #3B4455;\n",
              "      fill: #D2E3FC;\n",
              "    }\n",
              "\n",
              "    [theme=dark] .colab-df-convert:hover {\n",
              "      background-color: #434B5C;\n",
              "      box-shadow: 0px 1px 3px 1px rgba(0, 0, 0, 0.15);\n",
              "      filter: drop-shadow(0px 1px 2px rgba(0, 0, 0, 0.3));\n",
              "      fill: #FFFFFF;\n",
              "    }\n",
              "  </style>\n",
              "\n",
              "    <script>\n",
              "      const buttonEl =\n",
              "        document.querySelector('#df-2e632e37-c3b1-4170-966e-505a1a54190c button.colab-df-convert');\n",
              "      buttonEl.style.display =\n",
              "        google.colab.kernel.accessAllowed ? 'block' : 'none';\n",
              "\n",
              "      async function convertToInteractive(key) {\n",
              "        const element = document.querySelector('#df-2e632e37-c3b1-4170-966e-505a1a54190c');\n",
              "        const dataTable =\n",
              "          await google.colab.kernel.invokeFunction('convertToInteractive',\n",
              "                                                    [key], {});\n",
              "        if (!dataTable) return;\n",
              "\n",
              "        const docLinkHtml = 'Like what you see? Visit the ' +\n",
              "          '<a target=\"_blank\" href=https://colab.research.google.com/notebooks/data_table.ipynb>data table notebook</a>'\n",
              "          + ' to learn more about interactive tables.';\n",
              "        element.innerHTML = '';\n",
              "        dataTable['output_type'] = 'display_data';\n",
              "        await google.colab.output.renderOutput(dataTable, element);\n",
              "        const docLink = document.createElement('div');\n",
              "        docLink.innerHTML = docLinkHtml;\n",
              "        element.appendChild(docLink);\n",
              "      }\n",
              "    </script>\n",
              "  </div>\n",
              "\n",
              "\n",
              "<div id=\"df-4caf87d6-8e47-431a-9132-7de8a34f0bfa\">\n",
              "  <button class=\"colab-df-quickchart\" onclick=\"quickchart('df-4caf87d6-8e47-431a-9132-7de8a34f0bfa')\"\n",
              "            title=\"Suggest charts\"\n",
              "            style=\"display:none;\">\n",
              "\n",
              "<svg xmlns=\"http://www.w3.org/2000/svg\" height=\"24px\"viewBox=\"0 0 24 24\"\n",
              "     width=\"24px\">\n",
              "    <g>\n",
              "        <path d=\"M19 3H5c-1.1 0-2 .9-2 2v14c0 1.1.9 2 2 2h14c1.1 0 2-.9 2-2V5c0-1.1-.9-2-2-2zM9 17H7v-7h2v7zm4 0h-2V7h2v10zm4 0h-2v-4h2v4z\"/>\n",
              "    </g>\n",
              "</svg>\n",
              "  </button>\n",
              "\n",
              "<style>\n",
              "  .colab-df-quickchart {\n",
              "      --bg-color: #E8F0FE;\n",
              "      --fill-color: #1967D2;\n",
              "      --hover-bg-color: #E2EBFA;\n",
              "      --hover-fill-color: #174EA6;\n",
              "      --disabled-fill-color: #AAA;\n",
              "      --disabled-bg-color: #DDD;\n",
              "  }\n",
              "\n",
              "  [theme=dark] .colab-df-quickchart {\n",
              "      --bg-color: #3B4455;\n",
              "      --fill-color: #D2E3FC;\n",
              "      --hover-bg-color: #434B5C;\n",
              "      --hover-fill-color: #FFFFFF;\n",
              "      --disabled-bg-color: #3B4455;\n",
              "      --disabled-fill-color: #666;\n",
              "  }\n",
              "\n",
              "  .colab-df-quickchart {\n",
              "    background-color: var(--bg-color);\n",
              "    border: none;\n",
              "    border-radius: 50%;\n",
              "    cursor: pointer;\n",
              "    display: none;\n",
              "    fill: var(--fill-color);\n",
              "    height: 32px;\n",
              "    padding: 0;\n",
              "    width: 32px;\n",
              "  }\n",
              "\n",
              "  .colab-df-quickchart:hover {\n",
              "    background-color: var(--hover-bg-color);\n",
              "    box-shadow: 0 1px 2px rgba(60, 64, 67, 0.3), 0 1px 3px 1px rgba(60, 64, 67, 0.15);\n",
              "    fill: var(--button-hover-fill-color);\n",
              "  }\n",
              "\n",
              "  .colab-df-quickchart-complete:disabled,\n",
              "  .colab-df-quickchart-complete:disabled:hover {\n",
              "    background-color: var(--disabled-bg-color);\n",
              "    fill: var(--disabled-fill-color);\n",
              "    box-shadow: none;\n",
              "  }\n",
              "\n",
              "  .colab-df-spinner {\n",
              "    border: 2px solid var(--fill-color);\n",
              "    border-color: transparent;\n",
              "    border-bottom-color: var(--fill-color);\n",
              "    animation:\n",
              "      spin 1s steps(1) infinite;\n",
              "  }\n",
              "\n",
              "  @keyframes spin {\n",
              "    0% {\n",
              "      border-color: transparent;\n",
              "      border-bottom-color: var(--fill-color);\n",
              "      border-left-color: var(--fill-color);\n",
              "    }\n",
              "    20% {\n",
              "      border-color: transparent;\n",
              "      border-left-color: var(--fill-color);\n",
              "      border-top-color: var(--fill-color);\n",
              "    }\n",
              "    30% {\n",
              "      border-color: transparent;\n",
              "      border-left-color: var(--fill-color);\n",
              "      border-top-color: var(--fill-color);\n",
              "      border-right-color: var(--fill-color);\n",
              "    }\n",
              "    40% {\n",
              "      border-color: transparent;\n",
              "      border-right-color: var(--fill-color);\n",
              "      border-top-color: var(--fill-color);\n",
              "    }\n",
              "    60% {\n",
              "      border-color: transparent;\n",
              "      border-right-color: var(--fill-color);\n",
              "    }\n",
              "    80% {\n",
              "      border-color: transparent;\n",
              "      border-right-color: var(--fill-color);\n",
              "      border-bottom-color: var(--fill-color);\n",
              "    }\n",
              "    90% {\n",
              "      border-color: transparent;\n",
              "      border-bottom-color: var(--fill-color);\n",
              "    }\n",
              "  }\n",
              "</style>\n",
              "\n",
              "  <script>\n",
              "    async function quickchart(key) {\n",
              "      const quickchartButtonEl =\n",
              "        document.querySelector('#' + key + ' button');\n",
              "      quickchartButtonEl.disabled = true;  // To prevent multiple clicks.\n",
              "      quickchartButtonEl.classList.add('colab-df-spinner');\n",
              "      try {\n",
              "        const charts = await google.colab.kernel.invokeFunction(\n",
              "            'suggestCharts', [key], {});\n",
              "      } catch (error) {\n",
              "        console.error('Error during call to suggestCharts:', error);\n",
              "      }\n",
              "      quickchartButtonEl.classList.remove('colab-df-spinner');\n",
              "      quickchartButtonEl.classList.add('colab-df-quickchart-complete');\n",
              "    }\n",
              "    (() => {\n",
              "      let quickchartButtonEl =\n",
              "        document.querySelector('#df-4caf87d6-8e47-431a-9132-7de8a34f0bfa button');\n",
              "      quickchartButtonEl.style.display =\n",
              "        google.colab.kernel.accessAllowed ? 'block' : 'none';\n",
              "    })();\n",
              "  </script>\n",
              "</div>\n",
              "    </div>\n",
              "  </div>\n"
            ],
            "application/vnd.google.colaboratory.intrinsic+json": {
              "type": "dataframe",
              "variable_name": "raw_df",
              "summary": "{\n  \"name\": \"raw_df\",\n  \"rows\": 1012,\n  \"fields\": [\n    {\n      \"column\": 0,\n      \"properties\": {\n        \"dtype\": \"number\",\n        \"std\": 188.13283937823942,\n        \"min\": 0.00632,\n        \"max\": 396.9,\n        \"num_unique_values\": 861,\n        \"samples\": [\n          7.02259,\n          0.10659,\n          376.94\n        ],\n        \"semantic_type\": \"\",\n        \"description\": \"\"\n      }\n    },\n    {\n      \"column\": 1,\n      \"properties\": {\n        \"dtype\": \"number\",\n        \"std\": 17.250728213077664,\n        \"min\": 0.0,\n        \"max\": 100.0,\n        \"num_unique_values\": 480,\n        \"samples\": [\n          17.5,\n          17.64,\n          12.13\n        ],\n        \"semantic_type\": \"\",\n        \"description\": \"\"\n      }\n    },\n    {\n      \"column\": 2,\n      \"properties\": {\n        \"dtype\": \"number\",\n        \"std\": 9.912615669583948,\n        \"min\": 0.46,\n        \"max\": 50.0,\n        \"num_unique_values\": 304,\n        \"samples\": [\n          30.1,\n          29.8,\n          17.3\n        ],\n        \"semantic_type\": \"\",\n        \"description\": \"\"\n      }\n    },\n    {\n      \"column\": 3,\n      \"properties\": {\n        \"dtype\": \"number\",\n        \"std\": 0.25399404134041037,\n        \"min\": 0.0,\n        \"max\": 1.0,\n        \"num_unique_values\": 2,\n        \"samples\": [\n          1.0,\n          0.0\n        ],\n        \"semantic_type\": \"\",\n        \"description\": \"\"\n      }\n    },\n    {\n      \"column\": 4,\n      \"properties\": {\n        \"dtype\": \"number\",\n        \"std\": 0.11587767566755595,\n        \"min\": 0.385,\n        \"max\": 0.871,\n        \"num_unique_values\": 81,\n        \"samples\": [\n          0.401,\n          0.538\n        ],\n        \"semantic_type\": \"\",\n        \"description\": \"\"\n      }\n    },\n    {\n      \"column\": 5,\n      \"properties\": {\n        \"dtype\": \"number\",\n        \"std\": 0.7026171434153233,\n        \"min\": 3.561,\n        \"max\": 8.78,\n        \"num_unique_values\": 446,\n        \"samples\": [\n          6.849,\n          4.88\n        ],\n        \"semantic_type\": \"\",\n        \"description\": \"\"\n      }\n    },\n    {\n      \"column\": 6,\n      \"properties\": {\n        \"dtype\": \"number\",\n        \"std\": 28.148861406903617,\n        \"min\": 2.9,\n        \"max\": 100.0,\n        \"num_unique_values\": 356,\n        \"samples\": [\n          51.8,\n          33.8\n        ],\n        \"semantic_type\": \"\",\n        \"description\": \"\"\n      }\n    },\n    {\n      \"column\": 7,\n      \"properties\": {\n        \"dtype\": \"number\",\n        \"std\": 2.105710126627611,\n        \"min\": 1.1296,\n        \"max\": 12.1265,\n        \"num_unique_values\": 412,\n        \"samples\": [\n          2.2955,\n          4.2515\n        ],\n        \"semantic_type\": \"\",\n        \"description\": \"\"\n      }\n    },\n    {\n      \"column\": 8,\n      \"properties\": {\n        \"dtype\": \"number\",\n        \"std\": 8.707259384239366,\n        \"min\": 1.0,\n        \"max\": 24.0,\n        \"num_unique_values\": 9,\n        \"samples\": [\n          7.0,\n          2.0\n        ],\n        \"semantic_type\": \"\",\n        \"description\": \"\"\n      }\n    },\n    {\n      \"column\": 9,\n      \"properties\": {\n        \"dtype\": \"number\",\n        \"std\": 168.53711605495903,\n        \"min\": 187.0,\n        \"max\": 711.0,\n        \"num_unique_values\": 66,\n        \"samples\": [\n          370.0,\n          666.0\n        ],\n        \"semantic_type\": \"\",\n        \"description\": \"\"\n      }\n    },\n    {\n      \"column\": 10,\n      \"properties\": {\n        \"dtype\": \"number\",\n        \"std\": 2.1649455237144406,\n        \"min\": 12.6,\n        \"max\": 22.0,\n        \"num_unique_values\": 46,\n        \"samples\": [\n          19.6,\n          15.6\n        ],\n        \"semantic_type\": \"\",\n        \"description\": \"\"\n      }\n    }\n  ]\n}"
            }
          },
          "metadata": {},
          "execution_count": 27
        }
=======
>>>>>>> 0e3319cda3964e7917fbbd23812a3ab53ad93dd6
      ]
    },
    {
      "cell_type": "code",
      "execution_count": 32,
      "metadata": {
        "id": "GCqD6wOswZH3"
      },
      "outputs": [],
      "source": [
<<<<<<< HEAD
        "x_org = np.hstack([raw_df.values[::2,:], raw_df.values[1::2,:2]])\n",
        "yt = raw_df.values[1::2,2]\n",
        "x_org, yt"
      ],
      "metadata": {
        "id": "HE09n5hTb1P8"
      },
      "execution_count": 30,
      "outputs": []
    },
    {
      "cell_type": "code",
      "source": [
        "feature_names = np.array(['CRIM', 'ZN', 'INDUS', 'CHAS', 'NOX',\n",
        "                          'RM', 'AGE', 'DIS', 'RAD', 'TAX', 'PTRATIO','B', 'LSTAT'])"
      ],
      "metadata": {
        "id": "xLwar4E6cgSY"
      },
      "execution_count": 33,
      "outputs": []
    },
    {
      "cell_type": "code",
      "source": [
        "print('원본 데이터', x_org.shape, yt.shape)\n",
        "print('항목명: ', feature_names)"
      ],
      "metadata": {
        "colab": {
          "base_uri": "https://localhost:8080/"
        },
        "id": "OYSQCKCacn25",
        "outputId": "d03c08ef-5458-46db-b559-376a20704273"
      },
      "execution_count": 34,
      "outputs": [
        {
          "output_type": "stream",
          "name": "stdout",
          "text": [
            "원본 데이터 (506, 13) (506,)\n",
            "항목명:  ['CRIM' 'ZN' 'INDUS' 'CHAS' 'NOX' 'RM' 'AGE' 'DIS' 'RAD' 'TAX' 'PTRATIO'\n",
            " 'B' 'LSTAT']\n"
          ]
        }
      ]
    },
    {
      "cell_type": "code",
      "source": [
        "x = x_org[:,feature_names == 'RM']\n",
        "print('추출 후', x.shape)\n",
        "print(x[:5,:])\n",
        "\n",
        "# 정답 데이터 y 표시\n",
        "print('정답 데이터')\n",
        "print(yt[:5])"
      ],
      "metadata": {
        "colab": {
          "base_uri": "https://localhost:8080/"
        },
        "id": "82zl89lUc9r8",
        "outputId": "596e349c-08c5-4e09-876a-9adf178f3ef8"
      },
      "execution_count": 35,
      "outputs": [
        {
          "output_type": "stream",
          "name": "stdout",
          "text": [
            "추출 후 (506, 1)\n",
            "[[6.575]\n",
            " [6.421]\n",
            " [7.185]\n",
            " [6.998]\n",
            " [7.147]]\n",
            "정답 데이터\n",
            "[24.  21.6 34.7 33.4 36.2]\n"
          ]
        }
      ]
    },
    {
      "cell_type": "code",
      "source": [
        "plt.scatter(x, yt, s=10, c='b')\n",
        "plt.xlabel('방 개수')\n",
        "plt.ylabel('가격')\n",
        "plt.title('방 개수와 가격의 산포도')\n",
        "plt.show()"
      ],
      "metadata": {
        "colab": {
          "base_uri": "https://localhost:8080/",
          "height": 471
        },
        "id": "pxEAyYZgdEql",
        "outputId": "f6e7d9f9-63c5-4526-b4c4-d5b318da8c68"
      },
      "execution_count": 36,
      "outputs": [
        {
          "output_type": "display_data",
          "data": {
            "text/plain": [
              "<Figure size 640x480 with 1 Axes>"
            ],
            "image/png": "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\n"
          },
          "metadata": {}
        }
      ]
    },
    {
      "cell_type": "markdown",
      "source": [
        "### 모델 정의"
      ],
      "metadata": {
        "id": "TK3aNB3DdVj1"
      }
    },
    {
      "cell_type": "code",
      "source": [
        "n_input = x.shape[1]\n",
        "n_output = 1"
      ],
      "metadata": {
        "id": "MxY_YWNTdVfr"
      },
      "execution_count": 38,
      "outputs": []
    },
    {
      "cell_type": "code",
      "source": [
        "class Net(nn.Module):\n",
        "    def __init__(self, n_input, n_output):\n",
        "        super().__init__()\n",
        "\n",
        "        self.l1 = nn.Linear(n_input, n_output)\n",
        "\n",
        "        nn.init.constant_(self.l1.weight, 1.)\n",
        "        nn.init.constant_(self.l1.bias, 1.)\n",
        "\n",
        "    def forward(self, x):\n",
        "        x1 = self.l1(x)\n",
        "        return x1\n"
      ],
      "metadata": {
        "id": "HEwfPOhodTuQ"
      },
      "execution_count": 39,
      "outputs": []
    },
    {
      "cell_type": "code",
      "source": [
        "net = Net(n_input, n_output)\n",
        "outputs = net(inputs)\n",
        "# outputs"
      ],
      "metadata": {
        "id": "KoqIPS7SeGxP"
      },
      "execution_count": null,
      "outputs": []
    },
    {
      "cell_type": "code",
      "source": [
        "list(net.parameters())"
      ],
      "metadata": {
        "colab": {
          "base_uri": "https://localhost:8080/"
        },
        "id": "FZ5WwjNmekfJ",
        "outputId": "78c73f9f-cdc2-4396-d42f-1fcc29635e0e"
      },
      "execution_count": 45,
      "outputs": [
        {
          "output_type": "execute_result",
          "data": {
            "text/plain": [
              "[Parameter containing:\n",
              " tensor([[1.]], requires_grad=True),\n",
              " Parameter containing:\n",
              " tensor([1.], requires_grad=True)]"
            ]
          },
          "metadata": {},
          "execution_count": 45
        }
      ]
    },
    {
      "cell_type": "code",
      "source": [
        "list(net.named_parameters())"
      ],
      "metadata": {
        "colab": {
          "base_uri": "https://localhost:8080/"
        },
        "id": "8kR8JDBOf52G",
        "outputId": "c7cb389c-7925-4dcd-a647-192dae171fad"
      },
      "execution_count": 47,
      "outputs": [
        {
          "output_type": "execute_result",
          "data": {
            "text/plain": [
              "[('l1.weight',\n",
              "  Parameter containing:\n",
              "  tensor([[1.]], requires_grad=True)),\n",
              " ('l1.bias',\n",
              "  Parameter containing:\n",
              "  tensor([1.], requires_grad=True))]"
            ]
          },
          "metadata": {},
          "execution_count": 47
        }
      ]
    },
    {
      "cell_type": "code",
      "source": [
        "print(net)"
      ],
      "metadata": {
        "colab": {
          "base_uri": "https://localhost:8080/"
        },
        "id": "rzH-Ow2qgQV5",
        "outputId": "b51df744-976c-495a-8ee7-2cb228629791"
      },
      "execution_count": 48,
      "outputs": [
        {
          "output_type": "stream",
          "name": "stdout",
          "text": [
            "Net(\n",
            "  (l1): Linear(in_features=1, out_features=1, bias=True)\n",
            ")\n"
          ]
        }
      ]
    },
    {
      "cell_type": "code",
      "source": [
        "from torchinfo import summary\n",
        "summary(net,(1,))"
      ],
      "metadata": {
        "colab": {
          "base_uri": "https://localhost:8080/"
        },
        "id": "myPXtquwgcFs",
        "outputId": "04d00509-0991-4847-80ca-07dc3365fc09"
      },
      "execution_count": 50,
      "outputs": [
        {
          "output_type": "execute_result",
          "data": {
            "text/plain": [
              "==========================================================================================\n",
              "Layer (type:depth-idx)                   Output Shape              Param #\n",
              "==========================================================================================\n",
              "Net                                      [1]                       --\n",
              "├─Linear: 1-1                            [1]                       2\n",
              "==========================================================================================\n",
              "Total params: 2\n",
              "Trainable params: 2\n",
              "Non-trainable params: 0\n",
              "Total mult-adds (M): 0.00\n",
              "==========================================================================================\n",
              "Input size (MB): 0.00\n",
              "Forward/backward pass size (MB): 0.00\n",
              "Params size (MB): 0.00\n",
              "Estimated Total Size (MB): 0.00\n",
              "=========================================================================================="
            ]
          },
          "metadata": {},
          "execution_count": 50
        }
      ]
    },
    {
      "cell_type": "markdown",
      "source": [
        "### 손실함수와 최적화함수의 정의"
      ],
      "metadata": {
        "id": "D5LdTgPigoLd"
      }
    },
    {
      "cell_type": "code",
      "source": [
        "criterion = nn.MSELoss()\n",
        "lr = 0.01\n",
        "optimizer = optim.SGD(net.parameters(), lr=lr)\n",
        "optimizer"
      ],
      "metadata": {
        "colab": {
          "base_uri": "https://localhost:8080/"
        },
        "id": "vBP8aFa6ghsV",
        "outputId": "45957575-da04-4e28-8b3a-5924c2bd141e"
      },
      "execution_count": 58,
      "outputs": [
        {
          "output_type": "execute_result",
          "data": {
            "text/plain": [
              "SGD (\n",
              "Parameter Group 0\n",
              "    dampening: 0\n",
              "    differentiable: False\n",
              "    foreach: None\n",
              "    lr: 0.01\n",
              "    maximize: False\n",
              "    momentum: 0\n",
              "    nesterov: False\n",
              "    weight_decay: 0\n",
              ")"
            ]
          },
          "metadata": {},
          "execution_count": 58
        }
      ]
    },
    {
      "cell_type": "code",
      "source": [
        "inputs = torch.tensor(x, dtype = torch.float32)\n",
        "labels = torch.tensor(yt, dtype = torch.float32)\n",
        "\n",
        "inputs.shape, labels.shape"
      ],
      "metadata": {
        "colab": {
          "base_uri": "https://localhost:8080/"
        },
        "id": "DlcUI_vBhULj",
        "outputId": "63a68285-756d-42f2-8fde-94c1d67864de"
      },
      "execution_count": 59,
      "outputs": [
        {
          "output_type": "execute_result",
          "data": {
            "text/plain": [
              "(torch.Size([506, 1]), torch.Size([506]))"
            ]
          },
          "metadata": {},
          "execution_count": 59
        }
      ]
    },
    {
      "cell_type": "code",
      "source": [
        "#labels가 criterion에 들어가기 위해 (N,1) size를 유지해야 한다\n",
        "labels1 = labels.view((-1,1))\n",
        "labels1.shape"
      ],
      "metadata": {
        "colab": {
          "base_uri": "https://localhost:8080/"
        },
        "id": "-VfjRO9ihOCU",
        "outputId": "698b663c-0f42-48d4-f4c7-652022da047a"
      },
      "execution_count": 61,
      "outputs": [
        {
          "output_type": "execute_result",
          "data": {
            "text/plain": [
              "torch.Size([506, 1])"
            ]
          },
          "metadata": {},
          "execution_count": 61
        }
      ]
    },
    {
      "cell_type": "markdown",
      "source": [
        "predict, loss, grad, step"
      ],
      "metadata": {
        "id": "Dgxn3FdliqX7"
      }
    },
    {
      "cell_type": "code",
      "source": [
        "outputs = net(inputs)\n",
        "loss = criterion(outputs,labels1)\n",
        "\n",
        "loss.item()"
      ],
      "metadata": {
        "colab": {
          "base_uri": "https://localhost:8080/"
        },
        "id": "_1Trzb1YicGT",
        "outputId": "50058f16-c0ea-41d2-e409-cc714498f093"
      },
      "execution_count": 71,
      "outputs": [
        {
          "output_type": "execute_result",
          "data": {
            "text/plain": [
              "67.71083068847656"
            ]
          },
          "metadata": {},
          "execution_count": 71
        }
      ]
    },
    {
      "cell_type": "code",
      "source": [
        "g = make_dot(loss, params = dict(net.named_parameters()))\n",
        "display(g)"
      ],
      "metadata": {
        "colab": {
          "base_uri": "https://localhost:8080/",
          "height": 469
        },
        "id": "vWEBCLx8i8Gb",
        "outputId": "a015aabe-5941-41f9-e2fe-352384d11b03"
      },
      "execution_count": 72,
      "outputs": [
        {
          "output_type": "display_data",
          "data": {
            "image/svg+xml": "<?xml version=\"1.0\" encoding=\"UTF-8\" standalone=\"no\"?>\n<!DOCTYPE svg PUBLIC \"-//W3C//DTD SVG 1.1//EN\"\n \"http://www.w3.org/Graphics/SVG/1.1/DTD/svg11.dtd\">\n<!-- Generated by graphviz version 2.43.0 (0)\n -->\n<!-- Title: %3 Pages: 1 -->\n<svg width=\"216pt\" height=\"336pt\"\n viewBox=\"0.00 0.00 216.00 336.00\" xmlns=\"http://www.w3.org/2000/svg\" xmlns:xlink=\"http://www.w3.org/1999/xlink\">\n<g id=\"graph0\" class=\"graph\" transform=\"scale(1 1) rotate(0) translate(4 332)\">\n<title>%3</title>\n<polygon fill=\"white\" stroke=\"transparent\" points=\"-4,4 -4,-332 212,-332 212,4 -4,4\"/>\n<!-- 132661525070528 -->\n<g id=\"node1\" class=\"node\">\n<title>132661525070528</title>\n<polygon fill=\"#caff70\" stroke=\"black\" points=\"130.5,-31 76.5,-31 76.5,0 130.5,0 130.5,-31\"/>\n<text text-anchor=\"middle\" x=\"103.5\" y=\"-7\" font-family=\"monospace\" font-size=\"10.00\"> ()</text>\n</g>\n<!-- 132661524566256 -->\n<g id=\"node2\" class=\"node\">\n<title>132661524566256</title>\n<polygon fill=\"lightgrey\" stroke=\"black\" points=\"160,-86 47,-86 47,-67 160,-67 160,-86\"/>\n<text text-anchor=\"middle\" x=\"103.5\" y=\"-74\" font-family=\"monospace\" font-size=\"10.00\">MseLossBackward0</text>\n</g>\n<!-- 132661524566256&#45;&gt;132661525070528 -->\n<g id=\"edge7\" class=\"edge\">\n<title>132661524566256&#45;&gt;132661525070528</title>\n<path fill=\"none\" stroke=\"black\" d=\"M103.5,-66.79C103.5,-60.07 103.5,-50.4 103.5,-41.34\"/>\n<polygon fill=\"black\" stroke=\"black\" points=\"107,-41.19 103.5,-31.19 100,-41.19 107,-41.19\"/>\n</g>\n<!-- 132661524567840 -->\n<g id=\"node3\" class=\"node\">\n<title>132661524567840</title>\n<polygon fill=\"lightgrey\" stroke=\"black\" points=\"154,-141 53,-141 53,-122 154,-122 154,-141\"/>\n<text text-anchor=\"middle\" x=\"103.5\" y=\"-129\" font-family=\"monospace\" font-size=\"10.00\">AddmmBackward0</text>\n</g>\n<!-- 132661524567840&#45;&gt;132661524566256 -->\n<g id=\"edge1\" class=\"edge\">\n<title>132661524567840&#45;&gt;132661524566256</title>\n<path fill=\"none\" stroke=\"black\" d=\"M103.5,-121.75C103.5,-114.8 103.5,-104.85 103.5,-96.13\"/>\n<polygon fill=\"black\" stroke=\"black\" points=\"107,-96.09 103.5,-86.09 100,-96.09 107,-96.09\"/>\n</g>\n<!-- 132661524570432 -->\n<g id=\"node4\" class=\"node\">\n<title>132661524570432</title>\n<polygon fill=\"lightgrey\" stroke=\"black\" points=\"101,-196 0,-196 0,-177 101,-177 101,-196\"/>\n<text text-anchor=\"middle\" x=\"50.5\" y=\"-184\" font-family=\"monospace\" font-size=\"10.00\">AccumulateGrad</text>\n</g>\n<!-- 132661524570432&#45;&gt;132661524567840 -->\n<g id=\"edge2\" class=\"edge\">\n<title>132661524570432&#45;&gt;132661524567840</title>\n<path fill=\"none\" stroke=\"black\" d=\"M59.25,-176.75C66.97,-169.03 78.4,-157.6 87.72,-148.28\"/>\n<polygon fill=\"black\" stroke=\"black\" points=\"90.31,-150.64 94.91,-141.09 85.36,-145.69 90.31,-150.64\"/>\n</g>\n<!-- 132661957900496 -->\n<g id=\"node5\" class=\"node\">\n<title>132661957900496</title>\n<polygon fill=\"lightblue\" stroke=\"black\" points=\"80,-262 21,-262 21,-232 80,-232 80,-262\"/>\n<text text-anchor=\"middle\" x=\"50.5\" y=\"-250\" font-family=\"monospace\" font-size=\"10.00\">l1.bias</text>\n<text text-anchor=\"middle\" x=\"50.5\" y=\"-239\" font-family=\"monospace\" font-size=\"10.00\"> (1)</text>\n</g>\n<!-- 132661957900496&#45;&gt;132661524570432 -->\n<g id=\"edge3\" class=\"edge\">\n<title>132661957900496&#45;&gt;132661524570432</title>\n<path fill=\"none\" stroke=\"black\" d=\"M50.5,-231.84C50.5,-224.21 50.5,-214.7 50.5,-206.45\"/>\n<polygon fill=\"black\" stroke=\"black\" points=\"54,-206.27 50.5,-196.27 47,-206.27 54,-206.27\"/>\n</g>\n<!-- 132661524568848 -->\n<g id=\"node6\" class=\"node\">\n<title>132661524568848</title>\n<polygon fill=\"lightgrey\" stroke=\"black\" points=\"196,-196 119,-196 119,-177 196,-177 196,-196\"/>\n<text text-anchor=\"middle\" x=\"157.5\" y=\"-184\" font-family=\"monospace\" font-size=\"10.00\">TBackward0</text>\n</g>\n<!-- 132661524568848&#45;&gt;132661524567840 -->\n<g id=\"edge4\" class=\"edge\">\n<title>132661524568848&#45;&gt;132661524567840</title>\n<path fill=\"none\" stroke=\"black\" d=\"M148.58,-176.75C140.72,-169.03 129.07,-157.6 119.58,-148.28\"/>\n<polygon fill=\"black\" stroke=\"black\" points=\"121.84,-145.6 112.25,-141.09 116.94,-150.59 121.84,-145.6\"/>\n</g>\n<!-- 132661524570048 -->\n<g id=\"node7\" class=\"node\">\n<title>132661524570048</title>\n<polygon fill=\"lightgrey\" stroke=\"black\" points=\"208,-256.5 107,-256.5 107,-237.5 208,-237.5 208,-256.5\"/>\n<text text-anchor=\"middle\" x=\"157.5\" y=\"-244.5\" font-family=\"monospace\" font-size=\"10.00\">AccumulateGrad</text>\n</g>\n<!-- 132661524570048&#45;&gt;132661524568848 -->\n<g id=\"edge5\" class=\"edge\">\n<title>132661524570048&#45;&gt;132661524568848</title>\n<path fill=\"none\" stroke=\"black\" d=\"M157.5,-237.37C157.5,-229.25 157.5,-216.81 157.5,-206.39\"/>\n<polygon fill=\"black\" stroke=\"black\" points=\"161,-206.17 157.5,-196.17 154,-206.17 161,-206.17\"/>\n</g>\n<!-- 132661954664848 -->\n<g id=\"node8\" class=\"node\">\n<title>132661954664848</title>\n<polygon fill=\"lightblue\" stroke=\"black\" points=\"193,-328 122,-328 122,-298 193,-298 193,-328\"/>\n<text text-anchor=\"middle\" x=\"157.5\" y=\"-316\" font-family=\"monospace\" font-size=\"10.00\">l1.weight</text>\n<text text-anchor=\"middle\" x=\"157.5\" y=\"-305\" font-family=\"monospace\" font-size=\"10.00\"> (1, 1)</text>\n</g>\n<!-- 132661954664848&#45;&gt;132661524570048 -->\n<g id=\"edge6\" class=\"edge\">\n<title>132661954664848&#45;&gt;132661524570048</title>\n<path fill=\"none\" stroke=\"black\" d=\"M157.5,-297.8C157.5,-288.7 157.5,-276.79 157.5,-266.9\"/>\n<polygon fill=\"black\" stroke=\"black\" points=\"161,-266.84 157.5,-256.84 154,-266.84 161,-266.84\"/>\n</g>\n</g>\n</svg>\n",
            "text/plain": [
              "<graphviz.graphs.Digraph at 0x78a7ab0c1750>"
            ]
          },
          "metadata": {}
        }
      ]
    },
    {
      "cell_type": "code",
      "source": [
        "loss.backward()\n",
        "\n",
        "net.l1.weight.grad,net.l1.bias.grad"
      ],
      "metadata": {
        "colab": {
          "base_uri": "https://localhost:8080/"
        },
        "id": "J_loyVzKi34_",
        "outputId": "e097ae48-bc38-4e11-8d5c-4cf3a0615b97"
      },
      "execution_count": 73,
      "outputs": [
        {
          "output_type": "execute_result",
          "data": {
            "text/plain": [
              "(tensor([[-271.9179]]), tensor([-40.0821]))"
            ]
          },
          "metadata": {},
          "execution_count": 73
        }
      ]
    },
    {
      "cell_type": "code",
      "source": [
        "optimizer.step()\n",
        "\n",
        "print(net.l1.weight)\n",
        "print(net.l1.weight.grad)\n",
        "print(net.l1.bias)\n",
        "print(net.l1.bias.grad)"
      ],
      "metadata": {
        "colab": {
          "base_uri": "https://localhost:8080/"
        },
        "id": "bbp2pBi4i7Hr",
        "outputId": "0d298186-bde1-4242-87f7-803d0e6ed227"
      },
      "execution_count": 74,
      "outputs": [
        {
          "output_type": "stream",
          "name": "stdout",
          "text": [
            "Parameter containing:\n",
            "tensor([[5.7156]], requires_grad=True)\n",
            "tensor([[-271.9179]])\n",
            "Parameter containing:\n",
            "tensor([1.7058], requires_grad=True)\n",
            "tensor([-40.0821])\n"
          ]
        }
      ]
    },
    {
      "cell_type": "code",
      "source": [
        "optimizer.zero_grad()"
      ],
      "metadata": {
        "id": "OaGFTPz6jqJP"
      },
      "execution_count": 75,
      "outputs": []
    },
    {
      "cell_type": "markdown",
      "source": [
        "### 반복 계산"
      ],
      "metadata": {
        "id": "DLTRBTitj5z4"
      }
    },
    {
      "cell_type": "code",
      "source": [
        "lr = 0.01\n",
        "net = Net(n_input, n_output)\n",
        "criterion = nn.MSELoss()\n",
        "optimizer = optim.SGD(net.parameters(), lr=lr)\n",
        "num_epochs = 50000\n",
        "history = np.zeros((0,2))"
      ],
      "metadata": {
        "id": "4jilOGO8j2qI"
      },
      "execution_count": 76,
      "outputs": []
    },
    {
      "cell_type": "code",
      "source": [
        "for epoch in range(1,num_epochs+1):\n",
        "    optimizer.zero_grad()\n",
        "    outputs = net(inputs)\n",
        "    loss = criterion(outputs, labels1)/2.0\n",
        "    loss.backward()\n",
        "    optimizer.step()\n",
        "\n",
        "    if (epoch%5000 == 0):\n",
        "        history = np.vstack((history, np.array([epoch,loss.item()])))\n",
        "        print(f'Epoch {epoch} loss: {loss.item():.5f}')"
      ],
      "metadata": {
        "colab": {
          "base_uri": "https://localhost:8080/"
        },
        "id": "yHylNb3BkO7a",
        "outputId": "65d588f3-467e-48d4-849b-2b3e14e5c8c7"
      },
      "execution_count": 77,
      "outputs": [
        {
          "output_type": "stream",
          "name": "stdout",
          "text": [
            "Epoch 5000 loss: 24.20682\n",
            "Epoch 10000 loss: 22.52336\n",
            "Epoch 15000 loss: 22.01754\n",
            "Epoch 20000 loss: 21.86556\n",
            "Epoch 25000 loss: 21.81989\n",
            "Epoch 30000 loss: 21.80617\n",
            "Epoch 35000 loss: 21.80205\n",
            "Epoch 40000 loss: 21.80081\n",
            "Epoch 45000 loss: 21.80044\n",
            "Epoch 50000 loss: 21.80032\n"
          ]
        }
      ]
    },
    {
      "cell_type": "code",
      "source": [
        "print(f'초기 손실값: {history[0,1]:.5f}')\n",
        "print(f'최종 손실값: {history[-1,1]:.5f}')"
      ],
      "metadata": {
        "colab": {
          "base_uri": "https://localhost:8080/"
        },
        "id": "b-dgk4_bkz_p",
        "outputId": "a42b7729-df40-4846-9502-090a1b1deb56"
      },
      "execution_count": 78,
      "outputs": [
        {
          "output_type": "stream",
          "name": "stdout",
          "text": [
            "초기 손실값: 24.20682\n",
            "최종 손실값: 21.80032\n"
          ]
        }
      ]
    },
    {
      "cell_type": "code",
      "source": [
        "plt.plot(history[:,0], history[:,1], 'b')\n",
        "plt.ylabel('손실')\n",
        "plt.title('학습 곡선(손실)')\n",
        "plt.show()"
      ],
      "metadata": {
        "colab": {
          "base_uri": "https://localhost:8080/",
          "height": 451
        },
        "id": "DihwmwthlEPa",
        "outputId": "410c41b5-fd3c-471b-81cf-75d1d4d72353"
      },
      "execution_count": 79,
      "outputs": [
        {
          "output_type": "display_data",
          "data": {
            "text/plain": [
              "<Figure size 640x480 with 1 Axes>"
            ],
            "image/png": "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\n"
          },
          "metadata": {}
        }
      ]
    },
    {
      "cell_type": "code",
      "source": [
        "xse = np.array((x.min(), x.max())).reshape(-1,1)\n",
        "Xse = torch.tensor(xse).float()\n",
        "\n",
        "with torch.no_grad():\n",
        "  Yse = net(Xse)\n",
        "\n",
        "print(Yse.numpy())"
      ],
      "metadata": {
        "colab": {
          "base_uri": "https://localhost:8080/"
        },
        "id": "PIdiF4imlbw_",
        "outputId": "7223b29c-2f0d-45af-d27c-ecefd4c121f8"
      },
      "execution_count": 93,
      "outputs": [
        {
          "output_type": "stream",
          "name": "stdout",
          "text": [
            "[[-2.2188644]\n",
            " [45.212074 ]]\n"
          ]
        }
      ]
    },
    {
      "cell_type": "code",
      "source": [
        "Xse, Yse"
      ],
      "metadata": {
        "colab": {
          "base_uri": "https://localhost:8080/"
        },
        "id": "vj5-6GWrl3_l",
        "outputId": "18d680a9-665b-4a47-8b97-c0b056398bc8"
      },
      "execution_count": 94,
      "outputs": [
        {
          "output_type": "execute_result",
          "data": {
            "text/plain": [
              "(tensor([[3.5610],\n",
              "         [8.7800]]),\n",
              " tensor([[-2.2189],\n",
              "         [45.2121]]))"
            ]
          },
          "metadata": {},
          "execution_count": 94
        }
      ]
    },
    {
      "cell_type": "code",
      "source": [
        "plt.scatter(x, yt, s=10, c='b')\n",
        "plt.xlabel('방 개수')\n",
        "plt.ylabel('가격')\n",
        "plt.plot(Xse.data, Yse.data, c='k')\n",
        "plt.title('산포도와 회귀 직선')\n",
        "plt.show()"
      ],
      "metadata": {
        "colab": {
          "base_uri": "https://localhost:8080/",
          "height": 471
        },
        "id": "zxDwei8klRru",
        "outputId": "39a930ea-8066-4356-920e-d786f610f058"
      },
      "execution_count": 95,
      "outputs": [
        {
          "output_type": "display_data",
          "data": {
            "text/plain": [
              "<Figure size 640x480 with 1 Axes>"
            ],
            "image/png": "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\n"
          },
          "metadata": {}
        }
      ]
    },
    {
      "cell_type": "code",
      "source": [
        "plt.scatter([-5,6],[5,-6],c='r')\n",
        "plt.show()"
      ],
      "metadata": {
        "colab": {
          "base_uri": "https://localhost:8080/",
          "height": 430
        },
        "id": "zEUf2NJVlfZP",
        "outputId": "6cd9b0a3-55bd-4616-a8fa-80c54b667c3e"
      },
      "execution_count": 96,
      "outputs": [
        {
          "output_type": "display_data",
          "data": {
            "text/plain": [
              "<Figure size 640x480 with 1 Axes>"
            ],
            "image/png": "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\n"
          },
          "metadata": {}
        }
      ]
    },
    {
      "cell_type": "markdown",
      "source": [
        "## 중회귀 모델로 확장"
      ],
      "metadata": {
        "id": "OxX_Xz3gm2K0"
      }
    },
    {
      "cell_type": "code",
      "source": [
        "x_add = x_org[:,feature_names == 'LSTAT']\n",
        "x2 = np.hstack((x,x_add))\n",
        "\n",
        "print(x2.shape)\n",
        "print(x2[:5,:])"
      ],
      "metadata": {
        "colab": {
          "base_uri": "https://localhost:8080/"
        },
        "id": "YflBfRcGmDgq",
        "outputId": "a3b8068c-753c-4669-df81-5aae0f73fdc2"
      },
      "execution_count": 97,
      "outputs": [
        {
          "output_type": "stream",
          "name": "stdout",
          "text": [
            "(506, 2)\n",
            "[[6.575 4.98 ]\n",
            " [6.421 9.14 ]\n",
            " [7.185 4.03 ]\n",
            " [6.998 2.94 ]\n",
            " [7.147 5.33 ]]\n"
          ]
        }
      ]
    },
    {
      "cell_type": "code",
      "source": [
        "n_input = x2.shape[-1]\n",
        "print(n_input)"
      ],
      "metadata": {
        "colab": {
          "base_uri": "https://localhost:8080/"
        },
        "id": "GCWyaL77nIfz",
        "outputId": "14829335-55a4-41df-e3cb-7e78d17ccd9b"
      },
      "execution_count": 98,
      "outputs": [
        {
          "output_type": "stream",
          "name": "stdout",
          "text": [
            "2\n"
          ]
        }
      ]
    },
    {
      "cell_type": "code",
      "source": [
        "net = Net(n_input, n_output)\n",
        "net"
      ],
      "metadata": {
        "colab": {
          "base_uri": "https://localhost:8080/"
        },
        "id": "4tCRy_ATo22r",
        "outputId": "559748e9-1b1c-4d5d-acce-9c1ae887757b"
      },
      "execution_count": 101,
      "outputs": [
        {
          "output_type": "execute_result",
          "data": {
            "text/plain": [
              "Net(\n",
              "  (l1): Linear(in_features=2, out_features=1, bias=True)\n",
              ")"
            ]
          },
          "metadata": {},
          "execution_count": 101
        }
      ]
    },
    {
      "cell_type": "code",
      "source": [
        "list(net.named_parameters())"
      ],
      "metadata": {
        "colab": {
          "base_uri": "https://localhost:8080/"
        },
        "id": "HvYHetRbo-oL",
        "outputId": "b8d38b37-82fb-485f-9939-8639a31af8e4"
      },
      "execution_count": 105,
      "outputs": [
        {
          "output_type": "execute_result",
          "data": {
            "text/plain": [
              "[('l1.weight',\n",
              "  Parameter containing:\n",
              "  tensor([[1., 1.]], requires_grad=True)),\n",
              " ('l1.bias',\n",
              "  Parameter containing:\n",
              "  tensor([1.], requires_grad=True))]"
            ]
          },
          "metadata": {},
          "execution_count": 105
        }
      ]
    },
    {
      "cell_type": "code",
      "source": [
        "from torchinfo import summary\n",
        "summary(net, (2,))"
      ],
      "metadata": {
        "colab": {
          "base_uri": "https://localhost:8080/"
        },
        "id": "TUTnljfiqb-i",
        "outputId": "dc126100-9d01-4071-d632-cd03385d72eb"
      },
      "execution_count": 106,
      "outputs": [
        {
          "output_type": "execute_result",
          "data": {
            "text/plain": [
              "==========================================================================================\n",
              "Layer (type:depth-idx)                   Output Shape              Param #\n",
              "==========================================================================================\n",
              "Net                                      [1]                       --\n",
              "├─Linear: 1-1                            [1]                       3\n",
              "==========================================================================================\n",
              "Total params: 3\n",
              "Trainable params: 3\n",
              "Non-trainable params: 0\n",
              "Total mult-adds (M): 0.00\n",
              "==========================================================================================\n",
              "Input size (MB): 0.00\n",
              "Forward/backward pass size (MB): 0.00\n",
              "Params size (MB): 0.00\n",
              "Estimated Total Size (MB): 0.00\n",
              "=========================================================================================="
            ]
          },
          "metadata": {},
          "execution_count": 106
        }
      ]
    },
    {
      "cell_type": "code",
      "source": [
        "inputs = torch.tensor(x2,dtype = torch.float32)\n",
        "\n",
        "lr = 0.001\n",
        "\n",
        "# 인스턴스 생성(파라미터 값 초기화)\n",
        "net = Net(n_input, n_output)\n",
        "\n",
        "# 손실 함수：평균 제곱 오차\n",
        "criterion = nn.MSELoss()\n",
        "\n",
        "# 최적화 함수 : 경사 하강법\n",
        "optimizer = optim.SGD(net.parameters(), lr=lr)\n",
        "\n",
        "# 반복 횟수\n",
        "num_epochs = 2000\n",
        "\n",
        "# 평가 결과 기록(손실 값만 기록)\n",
        "history = np.zeros((0,2))"
      ],
      "metadata": {
        "id": "V_D-XF9Jo_ou"
      },
      "execution_count": 109,
      "outputs": []
    },
    {
      "cell_type": "code",
      "source": [
        "# 반복 계산 메인 루프\n",
        "\n",
        "for epoch in range(num_epochs):\n",
        "\n",
        "    # 경삿값 초기화\n",
        "    optimizer.zero_grad()\n",
        "\n",
        "    # 예측 계산\n",
        "    outputs = net(inputs)\n",
        "\n",
        "    # 오차 계산\n",
        "    # \"딥러닝을 위한 수학\"에 나온 결과와 맞추기 위해 2로 나눈 값을 손실로 정의\n",
        "    loss = criterion(outputs, labels1) / 2.0\n",
        "\n",
        "    # 경사 계산\n",
        "    loss.backward()\n",
        "\n",
        "    # 파라미터 수정\n",
        "    optimizer.step()\n",
        "\n",
        "    # 100회 마다 도중 경과를 기록\n",
        "    if ( epoch % 100 == 0):\n",
        "        history = np.vstack((history, np.array([epoch, loss.item()])))\n",
        "        print(f'Epoch {epoch} loss: {loss.item():.5f}')"
      ],
      "metadata": {
        "colab": {
          "base_uri": "https://localhost:8080/"
        },
        "id": "G094pE5OqhDK",
        "outputId": "ef264522-0481-41a9-8eeb-1adc45eae2a1"
      },
      "execution_count": 110,
      "outputs": [
        {
          "output_type": "stream",
          "name": "stdout",
          "text": [
            "Epoch 0 loss: 112.06398\n",
            "Epoch 100 loss: 25.35892\n",
            "Epoch 200 loss: 16.39105\n",
            "Epoch 300 loss: 15.40301\n",
            "Epoch 400 loss: 15.29414\n",
            "Epoch 500 loss: 15.28211\n",
            "Epoch 600 loss: 15.28076\n",
            "Epoch 700 loss: 15.28059\n",
            "Epoch 800 loss: 15.28054\n",
            "Epoch 900 loss: 15.28051\n",
            "Epoch 1000 loss: 15.28048\n",
            "Epoch 1100 loss: 15.28046\n",
            "Epoch 1200 loss: 15.28043\n",
            "Epoch 1300 loss: 15.28040\n",
            "Epoch 1400 loss: 15.28037\n",
            "Epoch 1500 loss: 15.28034\n",
            "Epoch 1600 loss: 15.28031\n",
            "Epoch 1700 loss: 15.28028\n",
            "Epoch 1800 loss: 15.28026\n",
            "Epoch 1900 loss: 15.28023\n"
          ]
        }
      ]
    },
    {
      "cell_type": "code",
      "source": [
        "print(f'초기 손실값: {history[0,1]:.5f}')\n",
        "print(f'최종 손실값: {history[-1,1]:.5f}')"
      ],
      "metadata": {
        "colab": {
          "base_uri": "https://localhost:8080/"
        },
        "id": "uGOH7NRjqunS",
        "outputId": "cfdada6e-f35a-4119-850e-5d545b0b6d43"
      },
      "execution_count": 112,
      "outputs": [
        {
          "output_type": "stream",
          "name": "stdout",
          "text": [
            "초기 손실값: 112.06398\n",
            "최종 손실값: 15.28023\n"
          ]
        }
      ]
    },
    {
      "cell_type": "code",
      "source": [
        "plt.plot(history[:,0], history[:,1], 'b')\n",
        "plt.xlabel('반복 횟수')\n",
        "plt.ylabel('손실')\n",
        "plt.title('학습 곡선(손실)')\n",
        "plt.show()"
      ],
      "metadata": {
        "colab": {
          "base_uri": "https://localhost:8080/",
          "height": 471
        },
        "id": "yfimpR_CqhZb",
        "outputId": "467b3d4e-f0d7-4374-eaf2-b392cf30e2a5"
      },
      "execution_count": 113,
      "outputs": [
        {
          "output_type": "display_data",
          "data": {
            "text/plain": [
              "<Figure size 640x480 with 1 Axes>"
            ],
            "image/png": "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\n"
          },
          "metadata": {}
        }
      ]
    },
    {
      "cell_type": "code",
      "source": [],
      "metadata": {
        "id": "AytylZXdqucK"
      },
      "execution_count": null,
      "outputs": []
=======
        "criterion = nn.MSELoss()\n",
        "\n",
        "loss = criterion(outputs, labels) / 2.\n",
        "\n",
        "loss.backward()"
      ]
>>>>>>> 0e3319cda3964e7917fbbd23812a3ab53ad93dd6
    }
  ],
  "metadata": {
    "colab": {
      "provenance": []
    },
    "kernelspec": {
      "display_name": "Python 3",
      "name": "python3"
    },
    "language_info": {
      "name": "python"
    }
  },
  "nbformat": 4,
  "nbformat_minor": 0
}
