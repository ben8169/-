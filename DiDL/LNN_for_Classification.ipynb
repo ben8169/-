{
  "nbformat": 4,
  "nbformat_minor": 0,
  "metadata": {
    "colab": {
      "provenance": [],
      "authorship_tag": "ABX9TyOkyQ+gzPjfOsEjCauPQ7Hq"
    },
    "kernelspec": {
      "name": "python3",
      "display_name": "Python 3"
    },
    "language_info": {
      "name": "python"
    }
  },
  "cells": [
    {
      "cell_type": "code",
      "execution_count": null,
      "metadata": {
        "id": "kAWLrQ8taO-r"
      },
      "outputs": [],
      "source": [
        "#for d2l\n",
        "!pip install setuptools==65.5.0 \"wheel<0.40.0\"\n",
        "!pip install d2l==1.0.0b0"
      ]
    },
    {
      "cell_type": "markdown",
      "source": [
        "<h2>LNN for Classification"
      ],
      "metadata": {
        "id": "Vy-kaMJCbbRW"
      }
    },
    {
      "cell_type": "markdown",
      "source": [
        "<h3>3.1 Softmax Regression</h3>\n",
        "\n",
        "\n",
        "*   One-hot encoding\n",
        "*   Regression - (binary-sigmoid/categorical-softmax) cross-entrophy loss as loss function\n",
        "*   Point -> The derivative of the cross-entropy loss when combined with softmax behaves very similarly to the derivative of squared error; namely by taking the difference between the expected behavior and its prediction.\n",
        "  - ㅎㅇ\n",
        "  - ㅎㅇ\n",
        "\n",
        "\n"
      ],
      "metadata": {
        "id": "i4sTLRFEbhUW"
      }
    },
    {
      "cell_type": "code",
      "source": [
        "...\n"
      ],
      "metadata": {
        "colab": {
          "base_uri": "https://localhost:8080/"
        },
        "id": "q3_AgyC5a-5a",
        "outputId": "cf242acf-e6b3-43a4-8da9-64ff4a385bc4"
      },
      "execution_count": 1,
      "outputs": [
        {
          "output_type": "execute_result",
          "data": {
            "text/plain": [
              "Ellipsis"
            ]
          },
          "metadata": {},
          "execution_count": 1
        }
      ]
    },
    {
      "cell_type": "code",
      "source": [],
      "metadata": {
        "id": "7CVYQFNFbmz-"
      },
      "execution_count": null,
      "outputs": []
    }
  ]
}