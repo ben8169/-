{
  "nbformat": 4,
  "nbformat_minor": 0,
  "metadata": {
    "colab": {
      "provenance": [],
      "authorship_tag": "ABX9TyPrdoIuHms6+aNpzWdZiowt",
      "include_colab_link": true
    },
    "kernelspec": {
      "name": "python3",
      "display_name": "Python 3"
    },
    "language_info": {
      "name": "python"
    }
  },
  "cells": [
    {
      "cell_type": "markdown",
      "metadata": {
        "id": "view-in-github",
        "colab_type": "text"
      },
      "source": [
        "<a href=\"https://colab.research.google.com/github/ben8169/Study/blob/main/DiDL/Word_Embedding(word2vec).ipynb\" target=\"_parent\"><img src=\"https://colab.research.google.com/assets/colab-badge.svg\" alt=\"Open In Colab\"/></a>"
      ]
    },
    {
      "cell_type": "markdown",
      "source": [
        "<h2>Word Embedding(word2vec)</h2>"
      ],
      "metadata": {
        "id": "WnlOnUZrr_jS"
      }
    },
    {
      "cell_type": "markdown",
      "source": [
        "<h3>15.1. Word Embedding (word2vec)</h3>\n",
        "\n",
        "\n",
        "*   단어가 의미를 가지듯이, word vector는 단어를 표현하기 위해 사용되는 feature 벡터\n",
        "*   Word Embedding : word -> vector\n",
        "*   NLP(Natural Language Processing)의 기본\n",
        "\n"
      ],
      "metadata": {
        "id": "PEVzwvrTsKH6"
      }
    },
    {
      "cell_type": "markdown",
      "source": [
        "<h4>15.1.1. One-Hot Vectors Are a Bad Choice</h4>\n",
        "\n",
        "\n",
        "\n",
        "*   RNN 때는 One-Hot vector를 사용해서 단어를 표현\n",
        "\n",
        "\n",
        "\n",
        "\n"
      ],
      "metadata": {
        "id": "VawyDk4Cs_wY"
      }
    },
    {
      "cell_type": "code",
      "source": [],
      "metadata": {
        "id": "nu5dim8OsP6k"
      },
      "execution_count": null,
      "outputs": []
    }
  ]
}