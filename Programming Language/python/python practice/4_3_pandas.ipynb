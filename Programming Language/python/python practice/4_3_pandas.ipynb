{
 "cells": [
  {
   "cell_type": "code",
   "execution_count": 1,
   "metadata": {},
   "outputs": [],
   "source": [
    "import pandas as pd\n",
    "import numpy as np"
   ]
  },
  {
   "cell_type": "code",
   "execution_count": 2,
   "metadata": {},
   "outputs": [],
   "source": [
    "pd.set_option('display.max_columns', 10)\n",
    "pd.set_option('display.width', 1000)"
   ]
  },
  {
   "cell_type": "code",
   "execution_count": null,
   "metadata": {},
   "outputs": [],
   "source": [
    "# UserID::Gender::Age::Occupation::Zip-code\n",
    "# MovieID::Title::Genres\n",
    "# UserID::MovieID::Rating::Timestamp"
   ]
  },
  {
   "cell_type": "code",
   "execution_count": 10,
   "metadata": {},
   "outputs": [],
   "source": [
    "def read_data():\n",
    "    user = pd.read_csv('ml-1m/users.dat',\n",
    "                       delimiter='::',\n",
    "                       engine='python',\n",
    "                       header=None,\n",
    "                       names='UserID::Gender::Age::Occupation::Zip-code'.split('::'))\n",
    "    movie = pd.read_csv('ml-1m/movies.dat',\n",
    "                        delimiter='::',\n",
    "                        engine='python',\n",
    "                        header=None,\n",
    "                        encoding='latin1',\n",
    "                        names='MovieID::Title::Genres'.split('::'))\n",
    "\n",
    "    rating = pd.read_csv('ml-1m/ratings.dat',\n",
    "                         delimiter='::',\n",
    "                         engine='python',\n",
    "                         header=None,\n",
    "                         encoding='latin1',\n",
    "                         names='UserID::MovieID::Rating::Timestamp'.split('::'))\n",
    "\n",
    "    df = pd.merge(pd.merge(user, rating), movie)\n",
    "    # print(df)\n",
    "\n",
    "    # print(user)\n",
    "    # print('='*50)\n",
    "    # print(movie)\n",
    "    # print('='*50)\n",
    "    # print(rating)\n",
    "\n",
    "    return df"
   ]
  },
  {
   "cell_type": "code",
   "execution_count": 87,
   "metadata": {},
   "outputs": [
    {
     "name": "stdout",
     "output_type": "stream",
     "text": [
      "Gender                                             F         M\n",
      "Title                                                         \n",
      "$1,000,000 Duck (1971)                      3.375000  2.761905\n",
      "'Night Mother (1986)                        3.388889  3.352941\n",
      "'Til There Was You (1997)                   2.675676  2.733333\n",
      "'burbs, The (1989)                          2.793478  2.962085\n",
      "...And Justice for All (1979)               3.828571  3.689024\n",
      "...                                              ...       ...\n",
      "Zed & Two Noughts, A (1985)                 3.500000  3.380952\n",
      "Zero Effect (1998)                          3.864407  3.723140\n",
      "Zero Kelvin (Kjærlighetens kjøtere) (1995)       NaN  3.500000\n",
      "Zeus and Roxanne (1997)                     2.777778  2.357143\n",
      "eXistenZ (1999)                             3.098592  3.289086\n",
      "\n",
      "[3706 rows x 2 columns]\n",
      "\n",
      "Index(['10 Things I Hate About You (1999)', '101 Dalmatians (1961)', '12 Angry Men (1957)', '13th Warrior, The (1999)', '20,000 Leagues Under the Sea (1954)', '2001: A Space Odyssey (1968)', '28 Days (2000)', 'Abyss, The (1989)', 'Ace Ventura: Pet Detective (1994)', 'Addams Family, The (1991)',\n",
      "       ...\n",
      "       'Witness (1985)', 'Wizard of Oz, The (1939)', 'Working Girl (1988)', 'World Is Not Enough, The (1999)', 'Wrong Trousers, The (1993)', 'X-Files: Fight the Future, The (1998)', 'X-Men (2000)', 'You've Got Mail (1998)', 'Young Frankenstein (1974)', 'Young Guns (1988)'], dtype='object', name='Title', length=618)\n",
      "\n"
     ]
    },
    {
     "ename": "TypeError",
     "evalue": "'numpy.ndarray' object is not callable",
     "output_type": "error",
     "traceback": [
      "\u001b[1;31m---------------------------------------------------------------------------\u001b[0m",
      "\u001b[1;31mTypeError\u001b[0m                                 Traceback (most recent call last)",
      "Cell \u001b[1;32mIn[87], line 58\u001b[0m\n\u001b[0;32m     45\u001b[0m     \u001b[39mprint\u001b[39m(rating_500\u001b[39m.\u001b[39mindex\u001b[39m.\u001b[39mvalues(), end\u001b[39m=\u001b[39m\u001b[39m'\u001b[39m\u001b[39m\\n\u001b[39;00m\u001b[39m\\n\u001b[39;00m\u001b[39m'\u001b[39m)\n\u001b[0;32m     46\u001b[0m     \u001b[39m# rating_500.index의 행 번호를 rating_by_title에서 찾아서 출력\u001b[39;00m\n\u001b[0;32m     47\u001b[0m \n\u001b[0;32m     48\u001b[0m     \u001b[39m# over_500 = rating_by_title.loc[rating_500.index]\u001b[39;00m\n\u001b[0;32m     49\u001b[0m \n\u001b[0;32m     50\u001b[0m     \u001b[39m# print(over_500, end='\\n\\n')\u001b[39;00m\n\u001b[1;32m---> 58\u001b[0m show_pivot()\n",
      "Cell \u001b[1;32mIn[87], line 45\u001b[0m, in \u001b[0;36mshow_pivot\u001b[1;34m()\u001b[0m\n\u001b[0;32m     43\u001b[0m \u001b[39mprint\u001b[39m(rating_by_title, end\u001b[39m=\u001b[39m\u001b[39m'\u001b[39m\u001b[39m\\n\u001b[39;00m\u001b[39m\\n\u001b[39;00m\u001b[39m'\u001b[39m)\n\u001b[0;32m     44\u001b[0m \u001b[39mprint\u001b[39m(rating_500\u001b[39m.\u001b[39mindex, end\u001b[39m=\u001b[39m\u001b[39m'\u001b[39m\u001b[39m\\n\u001b[39;00m\u001b[39m\\n\u001b[39;00m\u001b[39m'\u001b[39m)\n\u001b[1;32m---> 45\u001b[0m \u001b[39mprint\u001b[39m(rating_500\u001b[39m.\u001b[39;49mindex\u001b[39m.\u001b[39;49mvalues(), end\u001b[39m=\u001b[39m\u001b[39m'\u001b[39m\u001b[39m\\n\u001b[39;00m\u001b[39m\\n\u001b[39;00m\u001b[39m'\u001b[39m)\n",
      "\u001b[1;31mTypeError\u001b[0m: 'numpy.ndarray' object is not callable"
     ]
    }
   ],
   "source": [
    "def show_pivot():\n",
    "    df = read_data()\n",
    "    # print(df)\n",
    "\n",
    "    # p1 = df.pivot_table(values='Rating', index='Gender')\n",
    "    # print(p1, end='\\n\\n')\n",
    "\n",
    "\n",
    "    # # 성별, 연령대별 평점을 보여주세요\n",
    "    # p2 = df.pivot_table(values='Rating', index='Age',columns='Gender')\n",
    "    # print(p2, end='\\n\\n')\n",
    "\n",
    "    # 아래 데이터프레임에서 25살 남성의 평점을 알려주세요 (2가지)\n",
    "    # p3 = df.pivot_table(values='Rating', index=['Age','Gender'])\n",
    "    # print(p3, end='\\n\\n')\n",
    "\n",
    "    # print(p3.iloc[5].values)\n",
    "    # print(p3.loc[25].iloc[1].values)\n",
    "    # print(p3.loc[25].loc['M'].values)\n",
    "    # print(p3.loc[25, 'M'].values, end='\\n\\n')\n",
    "\n",
    "    #Age가 1. 18인 행만 출력\n",
    "    # print(p3.loc[[1,18]].values, end='\\n\\n')\n",
    "    # print(p3.loc[[1,18]].loc[:,'Rating'].values, end='\\n\\n')\n",
    "\n",
    "\n",
    "    # print(p3.unstack(), end='\\n\\n')\n",
    "    # print(p3.unstack().stack(), end='\\n\\n')\n",
    "\n",
    "    # p4 = df.pivot_table(values='Rating', index='Age', columns='Gender',\n",
    "    #                     aggfunc=[np.mean, np.sum])\n",
    "    # print(p4, end='\\n\\n')\n",
    "\n",
    "    by_title = df.groupby('Title').size()\n",
    "    # print(by_title, end='\\n\\n')\n",
    "\n",
    "\n",
    "    #rating 500에 해당하는 영화가 by_title의 몇번째 행인지 찾아서 출력\n",
    "    rating_500 = by_title[by_title >= 500]\n",
    "    # print(rating_500, end='\\n\\n')\n",
    "\n",
    "    rating_by_title = df.pivot_table(values='Rating', index='Title', columns='Gender')\n",
    "    print(rating_by_title, end='\\n\\n')\n",
    "    print(rating_500.index, end='\\n\\n')\n",
    "    print(rating_500.index.values(), end='\\n\\n')\n",
    "\n",
    "    \n",
    "\n",
    "show_pivot()"
   ]
  },
  {
   "cell_type": "code",
   "execution_count": null,
   "metadata": {},
   "outputs": [],
   "source": []
  }
 ],
 "metadata": {
  "kernelspec": {
   "display_name": "base",
   "language": "python",
   "name": "python3"
  },
  "language_info": {
   "codemirror_mode": {
    "name": "ipython",
    "version": 3
   },
   "file_extension": ".py",
   "mimetype": "text/x-python",
   "name": "python",
   "nbconvert_exporter": "python",
   "pygments_lexer": "ipython3",
   "version": "3.10.9"
  },
  "orig_nbformat": 4
 },
 "nbformat": 4,
 "nbformat_minor": 2
}
