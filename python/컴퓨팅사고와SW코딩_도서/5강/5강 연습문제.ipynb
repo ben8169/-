{
 "cells": [
  {
   "attachments": {},
   "cell_type": "markdown",
   "metadata": {},
   "source": [
    "1. 다이어트 칼로리 계산 프로그램"
   ]
  },
  {
   "cell_type": "code",
   "execution_count": 1,
   "metadata": {},
   "outputs": [
    {
     "name": "stdout",
     "output_type": "stream",
     "text": [
      "========== 다이어트 기록 프로그램 ==========\n",
      "오늘의 날짜 : 2023년 3월 1일\n",
      "1. 2023/2/18\n",
      "아침식사 기록입니다.{'밥': 300, '김치': 20}\n",
      "점심식사 기록입니다.{'라면': 500}\n",
      "저녁식사 기록입니다.{'된장찌개': 400}\n",
      "========================================\n",
      "========================================\n",
      "========== 다이어트 기록 프로그램 ==========\n",
      "오늘의 날짜 : 2023년 3월 1일\n",
      "<<2023년 3월 1일의 식단 기록>>\n",
      "아침식단 입력입니다.0개 입력하셨습니다. 현재 기록된 식단 : {}\n",
      "점심식단 입력입니다.0개 입력하셨습니다. 현재 기록된 식단 : {}\n",
      "점심식단 입력입니다.1개 입력하셨습니다. 현재 기록된 식단 : {'라면': 30}\n",
      "저녁식단 입력입니다.0개 입력하셨습니다. 현재 기록된 식단 : {}\n",
      "저녁식단 입력입니다.1개 입력하셨습니다. 현재 기록된 식단 : {'냉면': 40}\n",
      "========== 다이어트 기록 프로그램 ==========\n",
      "오늘의 날짜 : 2023년 3월 1일\n",
      "1. 2023/2/18\n",
      "2. 2023/3/1\n",
      "아침식사 기록입니다.{}\n",
      "점심식사 기록입니다.{'라면': 30}\n",
      "저녁식사 기록입니다.{'냉면': 40}\n",
      "========================================\n",
      "========================================\n",
      "========== 다이어트 기록 프로그램 ==========\n",
      "오늘의 날짜 : 2023년 3월 1일\n"
     ]
    },
    {
     "ename": "ValueError",
     "evalue": "invalid literal for int() with base 10: ''",
     "output_type": "error",
     "traceback": [
      "\u001b[1;31m---------------------------------------------------------------------------\u001b[0m",
      "\u001b[1;31mValueError\u001b[0m                                Traceback (most recent call last)",
      "\u001b[1;32m~\\AppData\\Local\\Temp\\ipykernel_28504\\244859143.py\u001b[0m in \u001b[0;36m<module>\u001b[1;34m\u001b[0m\n\u001b[0;32m     36\u001b[0m     \u001b[0mprint\u001b[0m\u001b[1;33m(\u001b[0m\u001b[1;34m\"=\"\u001b[0m\u001b[1;33m*\u001b[0m\u001b[1;36m10\u001b[0m\u001b[1;33m,\u001b[0m\u001b[1;34m\"다이어트 기록 프로그램\"\u001b[0m\u001b[1;33m,\u001b[0m\u001b[1;34m\"=\"\u001b[0m\u001b[1;33m*\u001b[0m\u001b[1;36m10\u001b[0m\u001b[1;33m)\u001b[0m\u001b[1;33m\u001b[0m\u001b[1;33m\u001b[0m\u001b[0m\n\u001b[0;32m     37\u001b[0m     \u001b[0mprint\u001b[0m\u001b[1;33m(\u001b[0m\u001b[1;34mf\"오늘의 날짜 : {year}년 {month}월 {day}일\"\u001b[0m\u001b[1;33m)\u001b[0m\u001b[1;33m\u001b[0m\u001b[1;33m\u001b[0m\u001b[0m\n\u001b[1;32m---> 38\u001b[1;33m     \u001b[0mmenu\u001b[0m \u001b[1;33m=\u001b[0m \u001b[0mint\u001b[0m\u001b[1;33m(\u001b[0m\u001b[0minput\u001b[0m\u001b[1;33m(\u001b[0m\u001b[1;33m(\u001b[0m\u001b[1;34m\"1. 오늘 식단 기록 \\n2. 기록 불러오기\"\u001b[0m\u001b[1;33m)\u001b[0m\u001b[1;33m)\u001b[0m\u001b[1;33m)\u001b[0m\u001b[1;33m\u001b[0m\u001b[1;33m\u001b[0m\u001b[0m\n\u001b[0m\u001b[0;32m     39\u001b[0m     \u001b[1;32mif\u001b[0m \u001b[0mmenu\u001b[0m \u001b[1;33m==\u001b[0m \u001b[1;36m1\u001b[0m\u001b[1;33m:\u001b[0m\u001b[1;33m\u001b[0m\u001b[1;33m\u001b[0m\u001b[0m\n\u001b[0;32m     40\u001b[0m         \u001b[0mprint\u001b[0m\u001b[1;33m(\u001b[0m\u001b[1;34mf\"<<{year}년 {month}월 {day}일의 식단 기록>>\"\u001b[0m\u001b[1;33m)\u001b[0m\u001b[1;33m\u001b[0m\u001b[1;33m\u001b[0m\u001b[0m\n",
      "\u001b[1;31mValueError\u001b[0m: invalid literal for int() with base 10: ''"
     ]
    }
   ],
   "source": [
    "from datetime import datetime\n",
    "year = datetime.today().year\n",
    "month = datetime.today().month\n",
    "day = datetime.today().day\n",
    "\n",
    "database = {\"2023/2/18\":[\n",
    "    {\"밥\":300, '김치':20},\n",
    "    {'라면':500},\n",
    "    {'된장찌개':400}\n",
    "]}\n",
    "\n",
    "def input_menu():\n",
    "    dic1 = {}; dic2 = {}; dic3 = {}\n",
    "    for i in ['아침', '점심', '저녁']:\n",
    "        while True:\n",
    "            if i == '아침':\n",
    "                dic = dic1\n",
    "            elif i == '점심':\n",
    "                dic = dic2\n",
    "            else:\n",
    "                dic = dic3\n",
    "            print(f\"{i}식단 입력입니다.{len(dic)}개 입력하셨습니다. 현재 기록된 식단 : {dic}\")\n",
    "            food = input(\"음식이름 입력(입력 종료:Q):\")\n",
    "            if food == 'q'.lower():\n",
    "                break\n",
    "            calorie = int(input(\"칼로리 입력:\"))\n",
    "            dic[food] = calorie\n",
    "    return [dic1,dic2,dic3]\n",
    "\n",
    "\n",
    "def save_menu():\n",
    "    database[f\"{year}/{month}/{day}\"] = input_menu()\n",
    "\n",
    "mainmenu = True\n",
    "while mainmenu:\n",
    "    print(\"=\"*10,\"다이어트 기록 프로그램\",\"=\"*10)\n",
    "    print(f\"오늘의 날짜 : {year}년 {month}월 {day}일\")\n",
    "    menu = int(input((\"1. 오늘 식단 기록 \\n2. 기록 불러오기\")))\n",
    "    if menu == 1:\n",
    "        print(f\"<<{year}년 {month}월 {day}일의 식단 기록>>\")\n",
    "        save_menu()\n",
    "        quit_to_menu = input(\"기록이 완료되었습니다. 메뉴로 돌아가시겠습니까?(Y/N)\")\n",
    "        mainmenu = True if quit_to_menu in [\"Y\",'y'] else False\n",
    "\n",
    "\n",
    "    elif menu == 2:\n",
    "        key_list = list(database.keys())\n",
    "        for x, y in enumerate(key_list,1):\n",
    "            print(f\"{x}. {y}\")\n",
    "        dayfind = int(input(\"조회할 날짜 번호를 선택하세요\"))\n",
    "        dayfind_index = dayfind - 1\n",
    "        meal_list = database[key_list[dayfind_index]]\n",
    "        meal_type = ['아침', '점심', '저녁']\n",
    "        for i in range(3):\n",
    "            print(f\"{meal_type[i]}식사 기록입니다.{meal_list[i]}\")\n",
    "\n",
    "        print(\"=\"*40)\n",
    "        print(\"=\"*40)\n",
    "        quit_to_menu = input(\"조회가 완료되었습니다. 메뉴로 돌아가시겠습니까?(Y/N)\")\n",
    "        mainmenu = True if quit_to_menu == \"Y\".lower() else False\n"
   ]
  },
  {
   "attachments": {},
   "cell_type": "markdown",
   "metadata": {},
   "source": [
    "2. 튜플 요소 자료형별 구별"
   ]
  },
  {
   "cell_type": "code",
   "execution_count": 28,
   "metadata": {},
   "outputs": [
    {
     "name": "stdout",
     "output_type": "stream",
     "text": [
      "('A', 'B')\n",
      "(1, 2, 3)\n",
      "(True, False)\n"
     ]
    },
    {
     "data": {
      "text/plain": [
       "[None, None, None]"
      ]
     },
     "execution_count": 28,
     "metadata": {},
     "output_type": "execute_result"
    }
   ],
   "source": [
    "tuple1 = (1,'A',True,'B',2,3,False)\n",
    "tuple_to_list = list(tuple1)\n",
    "str_list = []\n",
    "int_list = []\n",
    "float_list = []\n",
    "bool_list = []\n",
    "\n",
    "for i in tuple_to_list:\n",
    "    if type(i) == str:\n",
    "        str_list.append(i)\n",
    "    elif type(i) == int:\n",
    "        int_list.append(i)\n",
    "    elif type(i) == float:\n",
    "        float_list.append(i)\n",
    "    elif type(i) == bool:\n",
    "        bool_list.append(i)\n",
    "\n",
    "str_tuple = tuple(str_list)\n",
    "int_tuple = tuple(int_list)\n",
    "float_tuple = tuple(float_list)\n",
    "bool_tuple = tuple(bool_list)\n",
    "[print(i) for i in [str_tuple, int_tuple, float_tuple, bool_tuple] if i]\n"
   ]
  },
  {
   "attachments": {},
   "cell_type": "markdown",
   "metadata": {},
   "source": [
    "3. turtle dictionary"
   ]
  },
  {
   "cell_type": "code",
   "execution_count": 37,
   "metadata": {},
   "outputs": [
    {
     "ename": "AttributeError",
     "evalue": "'NoneType' object has no attribute 'lower'",
     "output_type": "error",
     "traceback": [
      "\u001b[1;31m---------------------------------------------------------------------------\u001b[0m",
      "\u001b[1;31mAttributeError\u001b[0m                            Traceback (most recent call last)",
      "\u001b[1;32m~\\AppData\\Local\\Temp\\ipykernel_28504\\1271262671.py\u001b[0m in \u001b[0;36m<module>\u001b[1;34m\u001b[0m\n\u001b[0;32m      8\u001b[0m \u001b[1;32mwhile\u001b[0m \u001b[1;32mTrue\u001b[0m\u001b[1;33m:\u001b[0m\u001b[1;33m\u001b[0m\u001b[1;33m\u001b[0m\u001b[0m\n\u001b[0;32m      9\u001b[0m     \u001b[0mvoca\u001b[0m \u001b[1;33m=\u001b[0m \u001b[0mt\u001b[0m\u001b[1;33m.\u001b[0m\u001b[0mtextinput\u001b[0m\u001b[1;33m(\u001b[0m\u001b[1;34m\"단어\"\u001b[0m\u001b[1;33m,\u001b[0m \u001b[1;34m\"단어를 입력하세요! Q:종료\"\u001b[0m\u001b[1;33m)\u001b[0m\u001b[1;33m\u001b[0m\u001b[1;33m\u001b[0m\u001b[0m\n\u001b[1;32m---> 10\u001b[1;33m     \u001b[1;32mif\u001b[0m \u001b[0mvoca\u001b[0m\u001b[1;33m.\u001b[0m\u001b[0mlower\u001b[0m\u001b[1;33m(\u001b[0m\u001b[1;33m)\u001b[0m \u001b[1;33m==\u001b[0m \u001b[1;34m\"q\"\u001b[0m\u001b[1;33m:\u001b[0m\u001b[1;33m\u001b[0m\u001b[1;33m\u001b[0m\u001b[0m\n\u001b[0m\u001b[0;32m     11\u001b[0m         \u001b[1;32mbreak\u001b[0m\u001b[1;33m\u001b[0m\u001b[1;33m\u001b[0m\u001b[0m\n\u001b[0;32m     12\u001b[0m \u001b[1;33m\u001b[0m\u001b[0m\n",
      "\u001b[1;31mAttributeError\u001b[0m: 'NoneType' object has no attribute 'lower'"
     ]
    }
   ],
   "source": [
    "import turtle as t\n",
    "voca_dic = {}\n",
    "t.ht()\n",
    "t.speed(1000)\n",
    "\n",
    "\n",
    "i = 0\n",
    "while True:\n",
    "    voca = t.textinput(\"단어\", \"단어를 입력하세요! Q:종료\")\n",
    "    if voca.lower() == \"q\":\n",
    "        break\n",
    "\n",
    "    meaning = t.textinput(voca,\"뜻을 입력하세요!\")\n",
    "    voca_dic[voca] = meaning\n",
    "\n",
    "    t.goto(0,i)\n",
    "    t.pendown()\n",
    "    t.write(f\"{voca}:{meaning}\",font=('Arial', 15, 'normal'))\n",
    "    t.penup()\n",
    "    i -= 30\n",
    "\n",
    "\n",
    "# t.mainloop()\n",
    "t.exitonclick()\n"
   ]
  },
  {
   "cell_type": "code",
   "execution_count": null,
   "metadata": {},
   "outputs": [],
   "source": [
    "import sys\n",
    "\n",
    "a = sys.stdin.readline()\n",
    "print(a)"
   ]
  },
  {
   "cell_type": "code",
   "execution_count": null,
   "metadata": {},
   "outputs": [],
   "source": []
  }
 ],
 "metadata": {
  "kernelspec": {
   "display_name": "base",
   "language": "python",
   "name": "python3"
  },
  "language_info": {
   "codemirror_mode": {
    "name": "ipython",
    "version": 3
   },
   "file_extension": ".py",
   "mimetype": "text/x-python",
   "name": "python",
   "nbconvert_exporter": "python",
   "pygments_lexer": "ipython3",
   "version": "3.9.13"
  },
  "orig_nbformat": 4,
  "vscode": {
   "interpreter": {
    "hash": "1ac8e9929d9c95e338e18c23a76929f5cdb00dbb4349faf1bdb1e370ecdc6693"
   }
  }
 },
 "nbformat": 4,
 "nbformat_minor": 2
}
