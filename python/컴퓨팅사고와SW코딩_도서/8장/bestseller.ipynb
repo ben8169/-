{
 "cells": [
  {
   "cell_type": "code",
   "execution_count": 10,
   "metadata": {},
   "outputs": [],
   "source": [
    "from selenium import webdriver\n",
    "from selenium.webdriver.common.by import By"
   ]
  },
  {
   "cell_type": "code",
   "execution_count": 11,
   "metadata": {},
   "outputs": [],
   "source": [
    "driver = webdriver.Chrome()\n",
    "url = 'https://www.aladin.co.kr/shop/common/wbest.aspx?BranchType=1&start=we_tab'\n",
    "driver.get(url)"
   ]
  },
  {
   "cell_type": "code",
   "execution_count": 19,
   "metadata": {},
   "outputs": [],
   "source": [
    "#각 tag의 class name 으로 scraping\n",
    "x = driver.find_elements(By.CLASS_NAME,\"bo3\")\n",
    "book_name = [i.text for i in x]"
   ]
  },
  {
   "cell_type": "code",
   "execution_count": 20,
   "metadata": {},
   "outputs": [],
   "source": [
    "x = driver.find_elements(By.CLASS_NAME,\"ss_p2\")\n",
    "book_price = [i.text for i in x]"
   ]
  },
  {
   "cell_type": "code",
   "execution_count": 38,
   "metadata": {},
   "outputs": [
    {
     "name": "stdout",
     "output_type": "stream",
     "text": [
      "세이노의 가르침                      \t\t  6,480원  \n",
      "사장학개론                         \t\t 22,500원  \n",
      "브라질에 비가 내리면 스타벅스 주식을 사라       \t\t 16,200원  \n",
      "스즈메의 문단속                      \t\t 11,700원  \n",
      "나는 대한민국 검사였다                  \t\t 18,000원  \n",
      "살 때, 팔 때, 벌 때                 \t\t 19,800원  \n",
      "흔한남매 과학 탐험대 7 : 생물 1          \t\t 12,600원  \n",
      "거인의 노트                        \t\t 16,200원  \n",
      "무르무르의 유령                      \t\t 17,100원  \n",
      "김미경의 마흔 수업                    \t\t 16,200원  \n",
      "이상한 과자 가게 전천당 17              \t\t 11,700원  \n",
      "내면소통                          \t\t 29,700원  \n",
      "닐 게이먼 베스트 컬렉션                 \t\t 35,100원  \n",
      "사이토 히토리의 1퍼센트 부자의법칙           \t\t 15,300원  \n",
      "환상서점                          \t\t 13,950원  \n",
      "156층 나무 집                     \t\t 12,600원  \n",
      "견딜 수 없는 사랑                    \t\t 15,120원  \n",
      "히카루가 죽은 여름 1                  \t\t  5,400원  \n",
      "만화 그녀가 공작저로 가야 했던 사정 8 (A2 태피스\n",
      "트리 + 홀로그램 북마크 4종 + 일러스트 엽서 2종 포함 한정판)\t 29,700원  \n",
      "고양이 해결사 깜냥 5                  \t\t  9,900원  \n",
      "우리 인생 정상 영업합니다                \t\t 15,120원  \n",
      "불편한 편의점 (벚꽃 에디션)              \t\t 12,600원  \n",
      "설민석의 세계사 대모험 16               \t\t 11,700원  \n",
      "도쿄 리벤저스 30                    \t\t  5,400원  \n",
      "파쇄                            \t\t\t 11,700원  \n",
      "ETS 토익 정기시험 기출문제집 1000 Vol. 3 \n",
      "Reading (리딩)                  \t 16,020원  \n",
      "러시아 지정학 아틀라스                  \t\t 24,300원  \n",
      "슬램덩크 리소스-THE FIRST SLAM DUNK re:SOURCE\t\t 18,000원  \n",
      "조셉 머피 잠재의식의 힘                 \t\t 17,100원  \n",
      "ETS 토익 정기시험 기출문제집 1000 Vol. 3 \n",
      "Listening (리스닝)               \t 16,020원  \n",
      "생기부 필독서 100                   \t\t 19,800원  \n",
      "해커스 토익 기출 보카 TOEIC VOCA 단어장   \t\t 11,610원  \n",
      "아버지의 해방일지                     \t\t 13,500원  \n",
      "슬램덩크 신장재편판 6                  \t\t  6,300원  \n",
      "슬램덩크 신장재편판 2                  \t\t  5,850원  \n",
      "만일 내가 인생을 다시 산다면 (10만 부 기념 스페셜 에디션)\t\t 15,480원  \n",
      "슬램덩크 신장재편판 1                  \t\t  6,300원  \n",
      "슬램덩크 신장재편판 4                  \t\t  6,300원  \n",
      "전태일평전                         \t\t 13,500원  \n",
      "슬램덩크 신장재편판 7                  \t\t  6,750원  \n",
      "슬램덩크 신장재편판 5                  \t\t  6,300원  \n",
      "슬램덩크 신장재편판 9                  \t\t  6,750원  \n",
      "2023 큰별쌤 최태성의 별★별한국사 한국사능력검정시험\n",
      " 심화(1, 2, 3급) 상               \t 13,950원  \n",
      "슬램덩크 신장재편판 3                  \t\t  6,300원  \n",
      "슬램덩크 신장재편판 8                  \t\t  6,750원  \n",
      "2023 해커스 GSAT 삼성직무적성검사 통합 기본서 \n",
      "최신기출유형+실전모의고사 (수리논리/추리)       \t 21,510원  \n",
      "슬램덩크 신장재편판 10                 \t\t  6,300원  \n",
      "2023 큰별쌤 최태성의 별★별한국사 한국사능력검정시험\n",
      " 심화(1, 2, 3급) 하               \t 13,500원  \n",
      "원씽 The One Thing (리커버 특별판)    \t\t 12,600원  \n",
      "슬램덩크 신장재편판 17                 \t\t  6,300원  \n"
     ]
    }
   ],
   "source": [
    "for a, b in zip(book_name, book_price):\n",
    "    if len(a)<4:\n",
    "        print(\"{:<30}\\t\\t\\t{:^10}\".format(a,b))\n",
    "    elif len(a)>40:\n",
    "        print(\"{:<30}\\n{:<30}\\t{:^10}\".format(a[:30],a[30:],b))\n",
    "    else:\n",
    "        print(\"{:<30}\\t\\t{:^10}\".format(a,b))"
   ]
  },
  {
   "cell_type": "code",
   "execution_count": 12,
   "metadata": {},
   "outputs": [
    {
     "data": {
      "text/plain": [
       "('세이노의 가르침', '살 때, 팔 때, 벌 때')"
      ]
     },
     "execution_count": 12,
     "metadata": {},
     "output_type": "execute_result"
    }
   ],
   "source": [
    "#Xpath를 가지고는 한계가 있었음.\n",
    "# x_path = r\"\"\"//*[@id=\"Myform\"]/div[2]/table/tbody/tr/td[3]/table/tbody/tr[1]/td[1]/div[1]/ul/li[2]/a/b\"\"\"\n",
    "# a = driver.find_element(By.XPATH,x_path)\n",
    "# a.text"
   ]
  },
  {
   "cell_type": "code",
   "execution_count": 13,
   "metadata": {},
   "outputs": [
    {
     "name": "stdout",
     "output_type": "stream",
     "text": [
      "세이노의 가르침\n",
      "사장학개론\n",
      "브라질에 비가 내리면 스타벅스 주식을 사라\n",
      "스즈메의 문단속\n",
      "살 때, 팔 때, 벌 때\n",
      "흔한남매 과학 탐험대 7 : 생물 1\n",
      "거인의 노트\n",
      "무르무르의 유령\n",
      "김미경의 마흔 수업\n"
     ]
    }
   ],
   "source": [
    "# for i in range(2,6):\n",
    "#     x_path = f\"\"\"//*[@id=\"Myform\"]/div[{i}]/table/tbody/tr/td[3]/table/tbody/tr[1]/td[1]/div[1]/ul/li[2]/a/b\"\"\"\n",
    "#     a = driver.find_element(By.XPATH,x_path)\n",
    "#     print(a.text)\n",
    "\n",
    "# for i in range(7,12):\n",
    "#     x_path = f\"\"\"//*[@id=\"Myform\"]/div[{i}]/table/tbody/tr/td[3]/table/tbody/tr[1]/td[1]/div[1]/ul/li[2]/a/b\"\"\"\n",
    "#     a = driver.find_element(By.XPATH,x_path)\n",
    "#     print(a.text)"
   ]
  }
 ],
 "metadata": {
  "kernelspec": {
   "display_name": "Python 3",
   "language": "python",
   "name": "python3"
  },
  "language_info": {
   "codemirror_mode": {
    "name": "ipython",
    "version": 3
   },
   "file_extension": ".py",
   "mimetype": "text/x-python",
   "name": "python",
   "nbconvert_exporter": "python",
   "pygments_lexer": "ipython3",
   "version": "3.11.2"
  },
  "orig_nbformat": 4
 },
 "nbformat": 4,
 "nbformat_minor": 2
}
