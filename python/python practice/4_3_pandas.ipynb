{
 "cells": [
  {
   "cell_type": "code",
   "execution_count": 1,
   "metadata": {},
   "outputs": [],
   "source": [
    "import pandas as pd\n",
    "import numpy as np"
   ]
  },
  {
   "cell_type": "code",
   "execution_count": 2,
   "metadata": {},
   "outputs": [],
   "source": [
    "pd.set_option('display.max_columns', 10)\n",
    "pd.set_option('display.width', 1000)"
   ]
  },
  {
   "cell_type": "code",
   "execution_count": null,
   "metadata": {},
   "outputs": [],
   "source": [
    "# UserID::Gender::Age::Occupation::Zip-code\n",
    "# MovieID::Title::Genres\n",
    "# UserID::MovieID::Rating::Timestamp"
   ]
  },
  {
   "cell_type": "code",
   "execution_count": 10,
   "metadata": {},
   "outputs": [],
   "source": [
    "def read_data():\n",
    "    user = pd.read_csv('ml-1m/users.dat',\n",
    "                       delimiter='::',\n",
    "                       engine='python',\n",
    "                       header=None,\n",
    "                       names='UserID::Gender::Age::Occupation::Zip-code'.split('::'))\n",
    "    movie = pd.read_csv('ml-1m/movies.dat',\n",
    "                        delimiter='::',\n",
    "                        engine='python',\n",
    "                        header=None,\n",
    "                        encoding='latin1',\n",
    "                        names='MovieID::Title::Genres'.split('::'))\n",
    "\n",
    "    rating = pd.read_csv('ml-1m/ratings.dat',\n",
    "                         delimiter='::',\n",
    "                         engine='python',\n",
    "                         header=None,\n",
    "                         encoding='latin1',\n",
    "                         names='UserID::MovieID::Rating::Timestamp'.split('::'))\n",
    "\n",
    "    df = pd.merge(pd.merge(user, rating), movie)\n",
    "    # print(df)\n",
    "\n",
    "    # print(user)\n",
    "    # print('='*50)\n",
    "    # print(movie)\n",
    "    # print('='*50)\n",
    "    # print(rating)\n",
    "\n",
    "    return df"
   ]
  },
  {
   "cell_type": "code",
   "execution_count": 50,
   "metadata": {},
   "outputs": [
    {
     "name": "stderr",
     "output_type": "stream",
     "text": [
      "C:\\Users\\ben81\\AppData\\Local\\Temp\\ipykernel_15284\\98646445.py:50: FutureWarning: In a future version of pandas all arguments of Series.sort_values will be keyword-only.\n",
      "  print(over_500.sort_values('F',ascending=False),end='\\n\\n')\n"
     ]
    },
    {
     "ename": "ValueError",
     "evalue": "No axis named F for object type Series",
     "output_type": "error",
     "traceback": [
      "\u001b[1;31m---------------------------------------------------------------------------\u001b[0m",
      "\u001b[1;31mKeyError\u001b[0m                                  Traceback (most recent call last)",
      "File \u001b[1;32mc:\\Users\\ben81\\anaconda3\\lib\\site-packages\\pandas\\core\\generic.py:554\u001b[0m, in \u001b[0;36mNDFrame._get_axis_number\u001b[1;34m(cls, axis)\u001b[0m\n\u001b[0;32m    553\u001b[0m \u001b[39mtry\u001b[39;00m:\n\u001b[1;32m--> 554\u001b[0m     \u001b[39mreturn\u001b[39;00m \u001b[39mcls\u001b[39;49m\u001b[39m.\u001b[39;49m_AXIS_TO_AXIS_NUMBER[axis]\n\u001b[0;32m    555\u001b[0m \u001b[39mexcept\u001b[39;00m \u001b[39mKeyError\u001b[39;00m:\n",
      "\u001b[1;31mKeyError\u001b[0m: 'F'",
      "\nDuring handling of the above exception, another exception occurred:\n",
      "\u001b[1;31mValueError\u001b[0m                                Traceback (most recent call last)",
      "Cell \u001b[1;32mIn[50], line 52\u001b[0m\n\u001b[0;32m     45\u001b[0m     \u001b[39m#값을 정렬\u001b[39;00m\n\u001b[0;32m     46\u001b[0m     \u001b[39m# print(over_500.sort_values(ascending=False), end='\\n\\n')\u001b[39;00m\n\u001b[0;32m     47\u001b[0m \n\u001b[0;32m     48\u001b[0m     \u001b[39m#여성들이 좋아하는 영화 top10을 알려주세요\u001b[39;00m\n\u001b[0;32m     49\u001b[0m     \u001b[39m#print(rating_by_title.sort_values('F',ascending=False)[:10], end='\\n\\n')\u001b[39;00m\n\u001b[0;32m     50\u001b[0m     \u001b[39mprint\u001b[39m(over_500\u001b[39m.\u001b[39msort_values(\u001b[39m'\u001b[39m\u001b[39mF\u001b[39m\u001b[39m'\u001b[39m,ascending\u001b[39m=\u001b[39m\u001b[39mFalse\u001b[39;00m),end\u001b[39m=\u001b[39m\u001b[39m'\u001b[39m\u001b[39m\\n\u001b[39;00m\u001b[39m\\n\u001b[39;00m\u001b[39m'\u001b[39m)\n\u001b[1;32m---> 52\u001b[0m show_pivot()\n",
      "Cell \u001b[1;32mIn[50], line 50\u001b[0m, in \u001b[0;36mshow_pivot\u001b[1;34m()\u001b[0m\n\u001b[0;32m     43\u001b[0m over_500 \u001b[39m=\u001b[39m rating_by_title[rating_by_title \u001b[39m>\u001b[39m\u001b[39m=\u001b[39m \u001b[39m500\u001b[39m]\n\u001b[0;32m     45\u001b[0m \u001b[39m#값을 정렬\u001b[39;00m\n\u001b[0;32m     46\u001b[0m \u001b[39m# print(over_500.sort_values(ascending=False), end='\\n\\n')\u001b[39;00m\n\u001b[0;32m     47\u001b[0m \n\u001b[0;32m     48\u001b[0m \u001b[39m#여성들이 좋아하는 영화 top10을 알려주세요\u001b[39;00m\n\u001b[0;32m     49\u001b[0m \u001b[39m#print(rating_by_title.sort_values('F',ascending=False)[:10], end='\\n\\n')\u001b[39;00m\n\u001b[1;32m---> 50\u001b[0m \u001b[39mprint\u001b[39m(over_500\u001b[39m.\u001b[39;49msort_values(\u001b[39m'\u001b[39;49m\u001b[39mF\u001b[39;49m\u001b[39m'\u001b[39;49m,ascending\u001b[39m=\u001b[39;49m\u001b[39mFalse\u001b[39;49;00m),end\u001b[39m=\u001b[39m\u001b[39m'\u001b[39m\u001b[39m\\n\u001b[39;00m\u001b[39m\\n\u001b[39;00m\u001b[39m'\u001b[39m)\n",
      "File \u001b[1;32mc:\\Users\\ben81\\anaconda3\\lib\\site-packages\\pandas\\util\\_decorators.py:331\u001b[0m, in \u001b[0;36mdeprecate_nonkeyword_arguments.<locals>.decorate.<locals>.wrapper\u001b[1;34m(*args, **kwargs)\u001b[0m\n\u001b[0;32m    325\u001b[0m \u001b[39mif\u001b[39;00m \u001b[39mlen\u001b[39m(args) \u001b[39m>\u001b[39m num_allow_args:\n\u001b[0;32m    326\u001b[0m     warnings\u001b[39m.\u001b[39mwarn(\n\u001b[0;32m    327\u001b[0m         msg\u001b[39m.\u001b[39mformat(arguments\u001b[39m=\u001b[39m_format_argument_list(allow_args)),\n\u001b[0;32m    328\u001b[0m         \u001b[39mFutureWarning\u001b[39;00m,\n\u001b[0;32m    329\u001b[0m         stacklevel\u001b[39m=\u001b[39mfind_stack_level(),\n\u001b[0;32m    330\u001b[0m     )\n\u001b[1;32m--> 331\u001b[0m \u001b[39mreturn\u001b[39;00m func(\u001b[39m*\u001b[39margs, \u001b[39m*\u001b[39m\u001b[39m*\u001b[39mkwargs)\n",
      "File \u001b[1;32mc:\\Users\\ben81\\anaconda3\\lib\\site-packages\\pandas\\core\\series.py:3744\u001b[0m, in \u001b[0;36mSeries.sort_values\u001b[1;34m(self, axis, ascending, inplace, kind, na_position, ignore_index, key)\u001b[0m\n\u001b[0;32m   3742\u001b[0m inplace \u001b[39m=\u001b[39m validate_bool_kwarg(inplace, \u001b[39m\"\u001b[39m\u001b[39minplace\u001b[39m\u001b[39m\"\u001b[39m)\n\u001b[0;32m   3743\u001b[0m \u001b[39m# Validate the axis parameter\u001b[39;00m\n\u001b[1;32m-> 3744\u001b[0m \u001b[39mself\u001b[39;49m\u001b[39m.\u001b[39;49m_get_axis_number(axis)\n\u001b[0;32m   3746\u001b[0m \u001b[39m# GH 5856/5853\u001b[39;00m\n\u001b[0;32m   3747\u001b[0m \u001b[39mif\u001b[39;00m inplace \u001b[39mand\u001b[39;00m \u001b[39mself\u001b[39m\u001b[39m.\u001b[39m_is_cached:\n",
      "File \u001b[1;32mc:\\Users\\ben81\\anaconda3\\lib\\site-packages\\pandas\\core\\generic.py:556\u001b[0m, in \u001b[0;36mNDFrame._get_axis_number\u001b[1;34m(cls, axis)\u001b[0m\n\u001b[0;32m    554\u001b[0m     \u001b[39mreturn\u001b[39;00m \u001b[39mcls\u001b[39m\u001b[39m.\u001b[39m_AXIS_TO_AXIS_NUMBER[axis]\n\u001b[0;32m    555\u001b[0m \u001b[39mexcept\u001b[39;00m \u001b[39mKeyError\u001b[39;00m:\n\u001b[1;32m--> 556\u001b[0m     \u001b[39mraise\u001b[39;00m \u001b[39mValueError\u001b[39;00m(\u001b[39mf\u001b[39m\u001b[39m\"\u001b[39m\u001b[39mNo axis named \u001b[39m\u001b[39m{\u001b[39;00maxis\u001b[39m}\u001b[39;00m\u001b[39m for object type \u001b[39m\u001b[39m{\u001b[39;00m\u001b[39mcls\u001b[39m\u001b[39m.\u001b[39m\u001b[39m__name__\u001b[39m\u001b[39m}\u001b[39;00m\u001b[39m\"\u001b[39m)\n",
      "\u001b[1;31mValueError\u001b[0m: No axis named F for object type Series"
     ]
    }
   ],
   "source": [
    "def show_pivot():\n",
    "    df = read_data()\n",
    "    # print(df)\n",
    "\n",
    "    # p1 = df.pivot_table(values='Rating', index='Gender')\n",
    "    # print(p1, end='\\n\\n')\n",
    "\n",
    "\n",
    "    # # 성별, 연령대별 평점을 보여주세요\n",
    "    # p2 = df.pivot_table(values='Rating', index='Age',columns='Gender')\n",
    "    # print(p2, end='\\n\\n')\n",
    "\n",
    "    # 아래 데이터프레임에서 25살 남성의 평점을 알려주세요 (2가지)\n",
    "    # p3 = df.pivot_table(values='Rating', index=['Age','Gender'])\n",
    "    # print(p3, end='\\n\\n')\n",
    "\n",
    "    # print(p3.iloc[5].values)\n",
    "    # print(p3.loc[25].iloc[1].values)\n",
    "    # print(p3.loc[25].loc['M'].values)\n",
    "    # print(p3.loc[25, 'M'].values, end='\\n\\n')\n",
    "\n",
    "    #Age가 1. 18인 행만 출력\n",
    "    # print(p3.loc[[1,18]].values, end='\\n\\n')\n",
    "    # print(p3.loc[[1,18]].loc[:,'Rating'].values, end='\\n\\n')\n",
    "\n",
    "\n",
    "    # print(p3.unstack(), end='\\n\\n')\n",
    "    # print(p3.unstack().stack(), end='\\n\\n')\n",
    "\n",
    "    # p4 = df.pivot_table(values='Rating', index='Age', columns='Gender',\n",
    "    #                     aggfunc=[np.mean, np.sum])\n",
    "    # print(p4, end='\\n\\n')\n",
    "\n",
    "    # by_title = df.groupby('Title')\n",
    "    # print(by_title, end='\\n\\n')\n",
    "    # print(\"=\"*50)\n",
    "    # print(by_title.size(), end='\\n\\n')\n",
    "\n",
    "    #평점 갯수가 500개 이상인 영화의 평점을 출력\n",
    "    rating_by_title = df.groupby('Title').size()\n",
    "    # print(rating_by_title, end='\\n\\n')\n",
    "\n",
    "    over_500 = rating_by_title[rating_by_title >= 500]\n",
    "    \n",
    "    #값을 정렬\n",
    "    # print(over_500.sort_values(ascending=False), end='\\n\\n')\n",
    "\n",
    "    #여성들이 좋아하는 영화 top10을 알려주세요\n",
    "    #print(rating_by_title.sort_values('F',ascending=False)[:10], end='\\n\\n')\n",
    "    print(over_500.sort_values('F',ascending=False),end='\\n\\n')\n",
    "\n",
    "show_pivot()"
   ]
  },
  {
   "cell_type": "code",
   "execution_count": null,
   "metadata": {},
   "outputs": [],
   "source": []
  }
 ],
 "metadata": {
  "kernelspec": {
   "display_name": "base",
   "language": "python",
   "name": "python3"
  },
  "language_info": {
   "codemirror_mode": {
    "name": "ipython",
    "version": 3
   },
   "file_extension": ".py",
   "mimetype": "text/x-python",
   "name": "python",
   "nbconvert_exporter": "python",
   "pygments_lexer": "ipython3",
   "version": "3.10.9"
  },
  "orig_nbformat": 4
 },
 "nbformat": 4,
 "nbformat_minor": 2
}
