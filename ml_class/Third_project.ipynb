{
  "cells": [
    {
      "cell_type": "code",
      "execution_count": 1,
      "metadata": {
        "id": "j5JUoFOdgoh8"
      },
      "outputs": [],
      "source": [
        "# !pip install tensorflow pandas scikit-learn matplotlib"
      ]
    },
    {
      "cell_type": "code",
      "execution_count": 1,
      "metadata": {},
      "outputs": [],
      "source": [
        "import torch, gc\n",
        "gc.collect()\n",
        "torch.cuda.empty_cache()"
      ]
    },
    {
      "cell_type": "code",
      "execution_count": 2,
      "metadata": {
        "id": "rehBcReIhThE"
      },
      "outputs": [],
      "source": [
        "import pandas as pd\n",
        "import numpy as np\n",
        "from sklearn.model_selection import train_test_split\n",
        "\n",
        "# 데이터 로드\n",
        "# df = pd.read_csv('/content/drive/MyDrive/skku-2024-1-machine-learning-third-project/train.csv')\n",
        "df = pd.read_csv('./skku-2024-1-machine-learning-third-project/train.csv')\n",
        "\n",
        "# train-test 분리\n",
        "train_df, val_df = train_test_split(df, test_size=0.2, random_state=42)\n"
      ]
    },
    {
      "cell_type": "code",
      "execution_count": 3,
      "metadata": {
        "colab": {
          "base_uri": "https://localhost:8080/"
        },
        "id": "TDS68RlswPCy",
        "outputId": "2b4c74ed-b5ed-42a1-cba1-b15895029790"
      },
      "outputs": [
        {
          "data": {
            "text/plain": [
              "(3785, 2)"
            ]
          },
          "execution_count": 3,
          "metadata": {},
          "output_type": "execute_result"
        }
      ],
      "source": [
        "df.shape"
      ]
    },
    {
      "cell_type": "code",
      "execution_count": 4,
      "metadata": {
        "colab": {
          "base_uri": "https://localhost:8080/",
          "height": 424
        },
        "id": "RfOX_KM-6DsK",
        "outputId": "bd29b47e-b0a0-4f5e-ffce-001dce41e248"
      },
      "outputs": [
        {
          "data": {
            "text/html": [
              "<div>\n",
              "<style scoped>\n",
              "    .dataframe tbody tr th:only-of-type {\n",
              "        vertical-align: middle;\n",
              "    }\n",
              "\n",
              "    .dataframe tbody tr th {\n",
              "        vertical-align: top;\n",
              "    }\n",
              "\n",
              "    .dataframe thead th {\n",
              "        text-align: right;\n",
              "    }\n",
              "</style>\n",
              "<table border=\"1\" class=\"dataframe\">\n",
              "  <thead>\n",
              "    <tr style=\"text-align: right;\">\n",
              "      <th></th>\n",
              "      <th>image_name</th>\n",
              "    </tr>\n",
              "  </thead>\n",
              "  <tbody>\n",
              "    <tr>\n",
              "      <th>0</th>\n",
              "      <td>6417.jpg</td>\n",
              "    </tr>\n",
              "    <tr>\n",
              "      <th>1</th>\n",
              "      <td>6418.jpg</td>\n",
              "    </tr>\n",
              "    <tr>\n",
              "      <th>2</th>\n",
              "      <td>6420.jpg</td>\n",
              "    </tr>\n",
              "    <tr>\n",
              "      <th>3</th>\n",
              "      <td>6422.jpg</td>\n",
              "    </tr>\n",
              "    <tr>\n",
              "      <th>4</th>\n",
              "      <td>6425.jpg</td>\n",
              "    </tr>\n",
              "    <tr>\n",
              "      <th>...</th>\n",
              "      <td>...</td>\n",
              "    </tr>\n",
              "    <tr>\n",
              "      <th>435</th>\n",
              "      <td>7132.jpg</td>\n",
              "    </tr>\n",
              "    <tr>\n",
              "      <th>436</th>\n",
              "      <td>7134.jpg</td>\n",
              "    </tr>\n",
              "    <tr>\n",
              "      <th>437</th>\n",
              "      <td>7135.jpg</td>\n",
              "    </tr>\n",
              "    <tr>\n",
              "      <th>438</th>\n",
              "      <td>7136.jpg</td>\n",
              "    </tr>\n",
              "    <tr>\n",
              "      <th>439</th>\n",
              "      <td>7138.jpg</td>\n",
              "    </tr>\n",
              "  </tbody>\n",
              "</table>\n",
              "<p>440 rows × 1 columns</p>\n",
              "</div>"
            ],
            "text/plain": [
              "    image_name\n",
              "0     6417.jpg\n",
              "1     6418.jpg\n",
              "2     6420.jpg\n",
              "3     6422.jpg\n",
              "4     6425.jpg\n",
              "..         ...\n",
              "435   7132.jpg\n",
              "436   7134.jpg\n",
              "437   7135.jpg\n",
              "438   7136.jpg\n",
              "439   7138.jpg\n",
              "\n",
              "[440 rows x 1 columns]"
            ]
          },
          "execution_count": 4,
          "metadata": {},
          "output_type": "execute_result"
        }
      ],
      "source": [
        "# df2 = pd.read_csv(\"/content/drive/MyDrive/skku-2024-1-machine-learning-third-project/test.csv\")\n",
        "df2 = pd.read_csv(\"skku-2024-1-machine-learning-third-project/test.csv\")\n",
        "df2"
      ]
    },
    {
      "cell_type": "code",
      "execution_count": 5,
      "metadata": {
        "id": "IfYzTHIssx-D"
      },
      "outputs": [],
      "source": [
        "# import os\n",
        "# import shutil\n",
        "\n",
        "# dir = r\"/content/drive/MyDrive/skku-2024-1-machine-learning-third-project/SceneImages\"\n",
        "\n",
        "# # train_lst = df['image_name'].values.tolist()\n",
        "\n",
        "# # for i in train_lst:\n",
        "# #     shutil.move(dir+\"/\"+i,\"/content/drive/MyDrive/skku-2024-1-machine-learning-third-project/train\")\n",
        "\n",
        "# # files = os.listdir(dir)\n",
        "# # for i in (files):\n",
        "# #     shutil.move(dir+\"/\"+i,\"/content/drive/MyDrive/skku-2024-1-machine-learning-third-project/test\")\n",
        "\n",
        "# print(len(os.listdir(\"/content/drive/MyDrive/skku-2024-1-machine-learning-third-project/train\")))\n",
        "# print(len(os.listdir(\"/content/drive/MyDrive/skku-2024-1-machine-learning-third-project/test\")))\n",
        "# print(len(os.listdir(\"/content/drive/MyDrive/skku-2024-1-machine-learning-third-project/SceneImages\")))"
      ]
    },
    {
      "cell_type": "code",
      "execution_count": 6,
      "metadata": {
        "colab": {
          "base_uri": "https://localhost:8080/"
        },
        "id": "xCkmpwM0wV8k",
        "outputId": "97bb70b2-8876-4c96-dec3-8cbf8b5affad"
      },
      "outputs": [],
      "source": [
        "# print(set(os.listdir(\"/content/drive/MyDrive/skku-2024-1-machine-learning-third-project/train\")) == set(df['image_name'].values.tolist()))\n",
        "# print(set(os.listdir(\"/content/drive/MyDrive/skku-2024-1-machine-learning-third-project/test\")) == set(df2['image_name'].values.tolist()))"
      ]
    },
    {
      "attachments": {
        "image.png": {
          "image/png": "[encoded data removed]"
        }
      },
      "cell_type": "markdown",
      "metadata": {},
      "source": [
        "![image.png](attachment:image.png)"
      ]
    },
    {
      "cell_type": "markdown",
      "metadata": {},
      "source": [
        "https://discuss.pytorch.org/t/input-size-for-efficientnet-versions-from-torchvision-models/140525"
      ]
    },
    {
      "cell_type": "code",
      "execution_count": 7,
      "metadata": {},
      "outputs": [
        {
          "data": {
            "text/plain": [
              "(384, 380)"
            ]
          },
          "execution_count": 7,
          "metadata": {},
          "output_type": "execute_result"
        }
      ],
      "source": [
        "sizes = {\n",
        "    'b0': (256, 224), 'b1': (256, 240), 'b2': (288, 288), 'b3': (320, 300),\n",
        "    'b4': (384, 380), 'b5': (489, 456), 'b6': (561, 528), 'b7': (633, 600),\n",
        "}\n",
        "resoultion = sizes['b4']\n",
        "resoultion"
      ]
    },
    {
      "cell_type": "code",
      "execution_count": 8,
      "metadata": {
        "id": "bvj4Gr16hk2O"
      },
      "outputs": [],
      "source": [
        "from torchvision import transforms\n",
        "from torch.utils.data import DataLoader, Dataset\n",
        "from PIL import Image\n",
        "\n",
        "class CustomDataset(Dataset):\n",
        "    def __init__(self, dataframe, img_dir, transform=None):\n",
        "        self.dataframe = dataframe\n",
        "        self.img_dir = img_dir\n",
        "        self.transform = transform\n",
        "\n",
        "    def __len__(self):\n",
        "        return len(self.dataframe)\n",
        "\n",
        "    def __getitem__(self, idx):\n",
        "        img_name = os.path.join(self.img_dir, self.dataframe.iloc[idx, 0])\n",
        "        image = Image.open(img_name).convert('RGB')\n",
        "        label = self.dataframe.iloc[idx, 1]\n",
        "\n",
        "        if self.transform:\n",
        "            image = self.transform(image)\n",
        "\n",
        "        return image, label\n",
        "\n",
        "# 이미지 변환 설정\n",
        "transform = transforms.Compose([\n",
        "    transforms.Resize(resoultion),\n",
        "    transforms.RandomHorizontalFlip(p=0.5),\n",
        "    transforms.RandomResizedCrop(size=resoultion, scale=(0.8, 1.0)),\n",
        "    transforms.RandomRotation(degrees=15),\n",
        "    transforms.ColorJitter(brightness=0.2, contrast=0.2, saturation=0.2, hue=0.2),\n",
        "    transforms.ToTensor(),\n",
        "    transforms.Normalize(mean=[0.485, 0.456, 0.406], std=[0.229, 0.224, 0.225])\n",
        "])\n",
        "\n",
        "# train_dataset = CustomDataset(train_df, '/content/drive/MyDrive/skku-2024-1-machine-learning-third-project/train', transform=transform)\n",
        "# val_dataset = CustomDataset(val_df, '/content/drive/MyDrive/skku-2024-1-machine-learning-third-project/train', transform=transform)\n",
        "train_dataset = CustomDataset(train_df, 'skku-2024-1-machine-learning-third-project/train', transform=transform)\n",
        "val_dataset = CustomDataset(val_df, 'skku-2024-1-machine-learning-third-project/train', transform=transform)\n",
        "\n",
        "train_loader = DataLoader(train_dataset, batch_size=16, shuffle=True)\n",
        "val_loader = DataLoader(val_dataset, batch_size=16, shuffle=False)\n"
      ]
    },
    {
      "cell_type": "code",
      "execution_count": 9,
      "metadata": {
        "colab": {
          "base_uri": "https://localhost:8080/"
        },
        "id": "M_vz2uxQh3Ct",
        "outputId": "209d6bc0-b2a3-4e53-b439-aec4ce2c6cd9"
      },
      "outputs": [
        {
          "name": "stderr",
          "output_type": "stream",
          "text": [
            "c:\\Users\\ben81\\anaconda3\\Lib\\site-packages\\torchvision\\models\\_utils.py:208: UserWarning: The parameter 'pretrained' is deprecated since 0.13 and may be removed in the future, please use 'weights' instead.\n",
            "  warnings.warn(\n",
            "c:\\Users\\ben81\\anaconda3\\Lib\\site-packages\\torchvision\\models\\_utils.py:223: UserWarning: Arguments other than a weight enum or `None` for 'weights' are deprecated since 0.13 and may be removed in the future. The current behavior is equivalent to passing `weights=EfficientNet_B4_Weights.IMAGENET1K_V1`. You can also use `weights=EfficientNet_B4_Weights.DEFAULT` to get the most up-to-date weights.\n",
            "  warnings.warn(msg)\n"
          ]
        }
      ],
      "source": [
        "import torch\n",
        "import torch.nn as nn\n",
        "import torch.optim as optim\n",
        "from torchvision import models\n",
        "\n",
        "# 모델 정의\n",
        "model = models.efficientnet_b4(pretrained=True)\n",
        "model.classifier[1] = nn.Linear(model.classifier[1].in_features, len(train_df['label'].unique()))\n",
        "\n",
        "# GPU 사용 설정\n",
        "device = torch.device('cuda' if torch.cuda.is_available() else 'cpu')\n",
        "model = model.to(device)\n"
      ]
    },
    {
      "cell_type": "code",
      "execution_count": 11,
      "metadata": {},
      "outputs": [
        {
          "data": {
            "text/plain": [
              "('b4_resoultion_changed.pth',\n",
              " './skku-2024-1-machine-learning-third-project/b4_resoultion_changed.csv')"
            ]
          },
          "execution_count": 11,
          "metadata": {},
          "output_type": "execute_result"
        }
      ],
      "source": [
        "project_name = 'b4_resoultion_changed'\n",
        "\n",
        "model_save_path = project_name+'.pth'\n",
        "df_save_path = './skku-2024-1-machine-learning-third-project/' + project_name + '.csv'\n",
        "model_save_path, df_save_path"
      ]
    },
    {
      "cell_type": "code",
      "execution_count": 12,
      "metadata": {
        "colab": {
          "base_uri": "https://localhost:8080/"
        },
        "id": "E5tKSWU8xHEo",
        "outputId": "2e31d43a-f90b-4d6f-8ea9-b4d87ce5450e"
      },
      "outputs": [
        {
          "data": {
            "text/plain": [
              "device(type='cuda')"
            ]
          },
          "execution_count": 12,
          "metadata": {},
          "output_type": "execute_result"
        }
      ],
      "source": [
        "device"
      ]
    },
    {
      "cell_type": "code",
      "execution_count": 13,
      "metadata": {
        "colab": {
          "base_uri": "https://localhost:8080/"
        },
        "id": "f3JYxyL9h4oP",
        "outputId": "fa357bef-bbf6-475b-c1a3-4af137a0c4c3"
      },
      "outputs": [
        {
          "name": "stdout",
          "output_type": "stream",
          "text": [
            "Epoch 0/99, Loss: 1.0642, Acc: 0.6830, Val Acc: 0.8573\n",
            "Epoch 1/99, Loss: 0.3850, Acc: 0.8603, Val Acc: 0.8943\n",
            "Epoch 2/99, Loss: 0.2810, Acc: 0.8993, Val Acc: 0.8956\n",
            "Epoch 3/99, Loss: 0.2481, Acc: 0.9164, Val Acc: 0.9036\n",
            "Epoch 4/99, Loss: 0.2205, Acc: 0.9240, Val Acc: 0.9062\n",
            "Epoch 5/99, Loss: 0.1886, Acc: 0.9369, Val Acc: 0.9221\n",
            "Epoch 6/99, Loss: 0.1585, Acc: 0.9425, Val Acc: 0.9273\n",
            "Epoch 7/99, Loss: 0.1524, Acc: 0.9455, Val Acc: 0.9115\n",
            "Epoch 8/99, Loss: 0.1206, Acc: 0.9581, Val Acc: 0.9247\n",
            "Epoch 9/99, Loss: 0.1122, Acc: 0.9600, Val Acc: 0.9155\n",
            "Epoch 10/99, Loss: 0.0871, Acc: 0.9723, Val Acc: 0.9168\n",
            "Epoch 11/99, Loss: 0.0902, Acc: 0.9680, Val Acc: 0.9207\n",
            "Epoch 12/99, Loss: 0.0798, Acc: 0.9696, Val Acc: 0.9207\n",
            "Epoch 13/99, Loss: 0.0616, Acc: 0.9789, Val Acc: 0.9168\n",
            "Epoch 14/99, Loss: 0.0511, Acc: 0.9825, Val Acc: 0.9221\n",
            "Epoch 15/99, Loss: 0.0468, Acc: 0.9868, Val Acc: 0.9207\n",
            "Epoch 16/99, Loss: 0.0429, Acc: 0.9884, Val Acc: 0.9022\n",
            "Epoch 17/99, Loss: 0.0340, Acc: 0.9898, Val Acc: 0.9128\n",
            "Epoch 18/99, Loss: 0.0416, Acc: 0.9838, Val Acc: 0.9128\n",
            "Epoch 19/99, Loss: 0.0297, Acc: 0.9901, Val Acc: 0.9273\n",
            "Epoch 20/99, Loss: 0.0296, Acc: 0.9898, Val Acc: 0.9049\n",
            "Epoch 21/99, Loss: 0.0262, Acc: 0.9917, Val Acc: 0.9128\n",
            "Epoch 22/99, Loss: 0.0342, Acc: 0.9888, Val Acc: 0.9168\n",
            "Epoch 23/99, Loss: 0.0263, Acc: 0.9911, Val Acc: 0.9273\n",
            "Epoch 24/99, Loss: 0.0226, Acc: 0.9921, Val Acc: 0.9168\n",
            "Epoch 25/99, Loss: 0.0258, Acc: 0.9924, Val Acc: 0.9102\n",
            "Epoch 26/99, Loss: 0.0230, Acc: 0.9937, Val Acc: 0.9287\n",
            "Epoch 27/99, Loss: 0.0223, Acc: 0.9921, Val Acc: 0.9247\n",
            "Epoch 28/99, Loss: 0.0180, Acc: 0.9944, Val Acc: 0.9234\n",
            "Epoch 29/99, Loss: 0.0211, Acc: 0.9927, Val Acc: 0.9194\n",
            "Epoch 30/99, Loss: 0.0138, Acc: 0.9957, Val Acc: 0.9141\n",
            "Epoch 31/99, Loss: 0.0117, Acc: 0.9964, Val Acc: 0.9181\n",
            "Epoch 32/99, Loss: 0.0203, Acc: 0.9937, Val Acc: 0.9128\n",
            "Epoch 33/99, Loss: 0.0230, Acc: 0.9924, Val Acc: 0.9234\n",
            "Epoch 34/99, Loss: 0.0190, Acc: 0.9934, Val Acc: 0.9102\n",
            "Epoch 35/99, Loss: 0.0144, Acc: 0.9957, Val Acc: 0.9036\n",
            "Epoch 36/99, Loss: 0.0092, Acc: 0.9977, Val Acc: 0.9102\n"
          ]
        }
      ],
      "source": [
        "import os\n",
        "\n",
        "criterion = nn.CrossEntropyLoss()\n",
        "optimizer = optim.Adam(model.parameters(), lr=0.0001)\n",
        "\n",
        "# 학습 함수 정의\n",
        "def train_model(model, train_loader, val_loader, criterion, optimizer, num_epochs=200):\n",
        "    best_acc = 0.0\n",
        "\n",
        "    for epoch in range(num_epochs):\n",
        "        model.train()\n",
        "        running_loss = 0.0\n",
        "        running_corrects = 0\n",
        "\n",
        "        for inputs, labels in train_loader:\n",
        "            inputs = inputs.to(device)\n",
        "            labels = labels.to(device)\n",
        "\n",
        "            optimizer.zero_grad()\n",
        "\n",
        "            outputs = model(inputs)\n",
        "            _, preds = torch.max(outputs, 1)\n",
        "            loss = criterion(outputs, labels)\n",
        "\n",
        "            loss.backward()\n",
        "            optimizer.step()\n",
        "\n",
        "            running_loss += loss.item() * inputs.size(0)\n",
        "            running_corrects += torch.sum(preds == labels.data)\n",
        "\n",
        "        epoch_loss = running_loss / len(train_loader.dataset)\n",
        "        epoch_acc = running_corrects.double() / len(train_loader.dataset)\n",
        "\n",
        "        model.eval()\n",
        "        val_running_corrects = 0\n",
        "\n",
        "        with torch.no_grad():\n",
        "            for inputs, labels in val_loader:\n",
        "                inputs = inputs.to(device)\n",
        "                labels = labels.to(device)\n",
        "\n",
        "                outputs = model(inputs)\n",
        "                _, preds = torch.max(outputs, 1)\n",
        "\n",
        "                val_running_corrects += torch.sum(preds == labels.data)\n",
        "\n",
        "        val_acc = val_running_corrects.double() / len(val_loader.dataset)\n",
        "\n",
        "        print(f'Epoch {epoch}/{num_epochs - 1}, Loss: {epoch_loss:.4f}, Acc: {epoch_acc:.4f}, Val Acc: {val_acc:.4f}')\n",
        "\n",
        "        if val_acc > best_acc and epoch>45:\n",
        "            best_acc = val_acc\n",
        "            # torch.save(model.state_dict(), '/content/drive/MyDrive/skku-2024-1-machine-learning-third-project/best_model_200_twoaug.pth')\n",
        "            torch.save(model.state_dict(), model_save_path)\n",
        "\n",
        "    print('Best Val Acc: {:4f}'.format(best_acc))\n",
        "\n",
        "# 모델 학습\n",
        "train_model(model, train_loader, val_loader, criterion, optimizer, num_epochs=100)\n"
      ]
    },
    {
      "cell_type": "code",
      "execution_count": null,
      "metadata": {
        "id": "NpaR43srh7I7"
      },
      "outputs": [
        {
          "name": "stdout",
          "output_type": "stream",
          "text": [
            "Predictions saved to predictions.csv\n"
          ]
        }
      ],
      "source": [
        "import pandas as pd\n",
        "import os\n",
        "from PIL import Image\n",
        "from torchvision import transforms\n",
        "\n",
        "\n",
        "# 모델 로드\n",
        "# model.load_state_dict(torch.load('/content/drive/MyDrive/skku-2024-1-machine-learning-third-project/best_model_200_twoaug.pth'))\n",
        "model.load_state_dict(torch.load(model_save_path))\n",
        "model.eval()\n",
        "\n",
        "# 이미지 변환 설정\n",
        "transform = transforms.Compose([\n",
        "    transforms.Resize(resoultion),\n",
        "    transforms.ToTensor(),\n",
        "    transforms.Normalize([0.485, 0.456, 0.406], [0.229, 0.224, 0.225])\n",
        "])\n",
        "\n",
        "def predict_image(image_path, model):\n",
        "    image = Image.open(image_path).convert('RGB')\n",
        "    image = transform(image).unsqueeze(0).to(device)\n",
        "\n",
        "    with torch.no_grad():\n",
        "        outputs = model(image)\n",
        "        _, preds = torch.max(outputs, 1)\n",
        "\n",
        "    return preds.item()\n",
        "\n",
        "# 예측할 이미지 리스트 생성\n",
        "image_names = df2['image_name'].values.tolist()\n",
        "\n",
        "# 예측 결과 저장을 위한 리스트\n",
        "results = []\n",
        "\n",
        "# 예측 및 결과 저장\n",
        "for image_name in image_names:\n",
        "    image_path = os.path.join('./skku-2024-1-machine-learning-third-project/test', image_name)\n",
        "    predicted_class = predict_image(image_path, model)\n",
        "    results.append({'image_name': image_name, 'label': predicted_class})\n",
        "\n",
        "# 리스트를 데이터프레임으로 변환\n",
        "result_df = pd.DataFrame(results)\n",
        "\n",
        "# 결과 CSV 파일로 저장\n",
        "# result_df.to_csv('/content/drive/MyDrive/skku-2024-1-machine-learning-third-project/predictions_200.csv', index=False)\n",
        "result_df.to_csv(df_save_path, index=False)\n",
        "\n",
        "print(df_save_path)\n"
      ]
    },
    {
      "cell_type": "code",
      "execution_count": 15,
      "metadata": {
        "id": "z7yXH2l_xukc"
      },
      "outputs": [
        {
          "data": {
            "text/html": [
              "<div>\n",
              "<style scoped>\n",
              "    .dataframe tbody tr th:only-of-type {\n",
              "        vertical-align: middle;\n",
              "    }\n",
              "\n",
              "    .dataframe tbody tr th {\n",
              "        vertical-align: top;\n",
              "    }\n",
              "\n",
              "    .dataframe thead th {\n",
              "        text-align: right;\n",
              "    }\n",
              "</style>\n",
              "<table border=\"1\" class=\"dataframe\">\n",
              "  <thead>\n",
              "    <tr style=\"text-align: right;\">\n",
              "      <th></th>\n",
              "      <th>image_name</th>\n",
              "      <th>label</th>\n",
              "    </tr>\n",
              "  </thead>\n",
              "  <tbody>\n",
              "    <tr>\n",
              "      <th>0</th>\n",
              "      <td>6417.jpg</td>\n",
              "      <td>0</td>\n",
              "    </tr>\n",
              "    <tr>\n",
              "      <th>1</th>\n",
              "      <td>6418.jpg</td>\n",
              "      <td>3</td>\n",
              "    </tr>\n",
              "    <tr>\n",
              "      <th>2</th>\n",
              "      <td>6420.jpg</td>\n",
              "      <td>0</td>\n",
              "    </tr>\n",
              "    <tr>\n",
              "      <th>3</th>\n",
              "      <td>6422.jpg</td>\n",
              "      <td>2</td>\n",
              "    </tr>\n",
              "    <tr>\n",
              "      <th>4</th>\n",
              "      <td>6425.jpg</td>\n",
              "      <td>5</td>\n",
              "    </tr>\n",
              "    <tr>\n",
              "      <th>...</th>\n",
              "      <td>...</td>\n",
              "      <td>...</td>\n",
              "    </tr>\n",
              "    <tr>\n",
              "      <th>435</th>\n",
              "      <td>7132.jpg</td>\n",
              "      <td>5</td>\n",
              "    </tr>\n",
              "    <tr>\n",
              "      <th>436</th>\n",
              "      <td>7134.jpg</td>\n",
              "      <td>4</td>\n",
              "    </tr>\n",
              "    <tr>\n",
              "      <th>437</th>\n",
              "      <td>7135.jpg</td>\n",
              "      <td>4</td>\n",
              "    </tr>\n",
              "    <tr>\n",
              "      <th>438</th>\n",
              "      <td>7136.jpg</td>\n",
              "      <td>4</td>\n",
              "    </tr>\n",
              "    <tr>\n",
              "      <th>439</th>\n",
              "      <td>7138.jpg</td>\n",
              "      <td>0</td>\n",
              "    </tr>\n",
              "  </tbody>\n",
              "</table>\n",
              "<p>440 rows × 2 columns</p>\n",
              "</div>"
            ],
            "text/plain": [
              "    image_name  label\n",
              "0     6417.jpg      0\n",
              "1     6418.jpg      3\n",
              "2     6420.jpg      0\n",
              "3     6422.jpg      2\n",
              "4     6425.jpg      5\n",
              "..         ...    ...\n",
              "435   7132.jpg      5\n",
              "436   7134.jpg      4\n",
              "437   7135.jpg      4\n",
              "438   7136.jpg      4\n",
              "439   7138.jpg      0\n",
              "\n",
              "[440 rows x 2 columns]"
            ]
          },
          "execution_count": 15,
          "metadata": {},
          "output_type": "execute_result"
        }
      ],
      "source": [
        "result_df"
      ]
    },
    {
      "cell_type": "code",
      "execution_count": 16,
      "metadata": {
        "colab": {
          "base_uri": "https://localhost:8080/",
          "height": 424
        },
        "id": "MDvDBCOB4f9H",
        "outputId": "abe964cf-57d8-4b2c-d1d7-aeef486f5723"
      },
      "outputs": [
        {
          "ename": "FileNotFoundError",
          "evalue": "[Errno 2] No such file or directory: '/content/drive/MyDrive/skku-2024-1-machine-learning-third-project/submission.csv'",
          "output_type": "error",
          "traceback": [
            "\u001b[1;31m---------------------------------------------------------------------------\u001b[0m",
            "\u001b[1;31mFileNotFoundError\u001b[0m                         Traceback (most recent call last)",
            "Cell \u001b[1;32mIn[16], line 1\u001b[0m\n\u001b[1;32m----> 1\u001b[0m df3 \u001b[38;5;241m=\u001b[39m pd\u001b[38;5;241m.\u001b[39mread_csv(\u001b[38;5;124m\"\u001b[39m\u001b[38;5;124m/content/drive/MyDrive/skku-2024-1-machine-learning-third-project/submission.csv\u001b[39m\u001b[38;5;124m\"\u001b[39m)\n\u001b[0;32m      2\u001b[0m df3\n",
            "File \u001b[1;32mc:\\Users\\ben81\\anaconda3\\Lib\\site-packages\\pandas\\io\\parsers\\readers.py:948\u001b[0m, in \u001b[0;36mread_csv\u001b[1;34m(filepath_or_buffer, sep, delimiter, header, names, index_col, usecols, dtype, engine, converters, true_values, false_values, skipinitialspace, skiprows, skipfooter, nrows, na_values, keep_default_na, na_filter, verbose, skip_blank_lines, parse_dates, infer_datetime_format, keep_date_col, date_parser, date_format, dayfirst, cache_dates, iterator, chunksize, compression, thousands, decimal, lineterminator, quotechar, quoting, doublequote, escapechar, comment, encoding, encoding_errors, dialect, on_bad_lines, delim_whitespace, low_memory, memory_map, float_precision, storage_options, dtype_backend)\u001b[0m\n\u001b[0;32m    935\u001b[0m kwds_defaults \u001b[38;5;241m=\u001b[39m _refine_defaults_read(\n\u001b[0;32m    936\u001b[0m     dialect,\n\u001b[0;32m    937\u001b[0m     delimiter,\n\u001b[1;32m   (...)\u001b[0m\n\u001b[0;32m    944\u001b[0m     dtype_backend\u001b[38;5;241m=\u001b[39mdtype_backend,\n\u001b[0;32m    945\u001b[0m )\n\u001b[0;32m    946\u001b[0m kwds\u001b[38;5;241m.\u001b[39mupdate(kwds_defaults)\n\u001b[1;32m--> 948\u001b[0m \u001b[38;5;28;01mreturn\u001b[39;00m _read(filepath_or_buffer, kwds)\n",
            "File \u001b[1;32mc:\\Users\\ben81\\anaconda3\\Lib\\site-packages\\pandas\\io\\parsers\\readers.py:611\u001b[0m, in \u001b[0;36m_read\u001b[1;34m(filepath_or_buffer, kwds)\u001b[0m\n\u001b[0;32m    608\u001b[0m _validate_names(kwds\u001b[38;5;241m.\u001b[39mget(\u001b[38;5;124m\"\u001b[39m\u001b[38;5;124mnames\u001b[39m\u001b[38;5;124m\"\u001b[39m, \u001b[38;5;28;01mNone\u001b[39;00m))\n\u001b[0;32m    610\u001b[0m \u001b[38;5;66;03m# Create the parser.\u001b[39;00m\n\u001b[1;32m--> 611\u001b[0m parser \u001b[38;5;241m=\u001b[39m TextFileReader(filepath_or_buffer, \u001b[38;5;241m*\u001b[39m\u001b[38;5;241m*\u001b[39mkwds)\n\u001b[0;32m    613\u001b[0m \u001b[38;5;28;01mif\u001b[39;00m chunksize \u001b[38;5;129;01mor\u001b[39;00m iterator:\n\u001b[0;32m    614\u001b[0m     \u001b[38;5;28;01mreturn\u001b[39;00m parser\n",
            "File \u001b[1;32mc:\\Users\\ben81\\anaconda3\\Lib\\site-packages\\pandas\\io\\parsers\\readers.py:1448\u001b[0m, in \u001b[0;36mTextFileReader.__init__\u001b[1;34m(self, f, engine, **kwds)\u001b[0m\n\u001b[0;32m   1445\u001b[0m     \u001b[38;5;28mself\u001b[39m\u001b[38;5;241m.\u001b[39moptions[\u001b[38;5;124m\"\u001b[39m\u001b[38;5;124mhas_index_names\u001b[39m\u001b[38;5;124m\"\u001b[39m] \u001b[38;5;241m=\u001b[39m kwds[\u001b[38;5;124m\"\u001b[39m\u001b[38;5;124mhas_index_names\u001b[39m\u001b[38;5;124m\"\u001b[39m]\n\u001b[0;32m   1447\u001b[0m \u001b[38;5;28mself\u001b[39m\u001b[38;5;241m.\u001b[39mhandles: IOHandles \u001b[38;5;241m|\u001b[39m \u001b[38;5;28;01mNone\u001b[39;00m \u001b[38;5;241m=\u001b[39m \u001b[38;5;28;01mNone\u001b[39;00m\n\u001b[1;32m-> 1448\u001b[0m \u001b[38;5;28mself\u001b[39m\u001b[38;5;241m.\u001b[39m_engine \u001b[38;5;241m=\u001b[39m \u001b[38;5;28mself\u001b[39m\u001b[38;5;241m.\u001b[39m_make_engine(f, \u001b[38;5;28mself\u001b[39m\u001b[38;5;241m.\u001b[39mengine)\n",
            "File \u001b[1;32mc:\\Users\\ben81\\anaconda3\\Lib\\site-packages\\pandas\\io\\parsers\\readers.py:1705\u001b[0m, in \u001b[0;36mTextFileReader._make_engine\u001b[1;34m(self, f, engine)\u001b[0m\n\u001b[0;32m   1703\u001b[0m     \u001b[38;5;28;01mif\u001b[39;00m \u001b[38;5;124m\"\u001b[39m\u001b[38;5;124mb\u001b[39m\u001b[38;5;124m\"\u001b[39m \u001b[38;5;129;01mnot\u001b[39;00m \u001b[38;5;129;01min\u001b[39;00m mode:\n\u001b[0;32m   1704\u001b[0m         mode \u001b[38;5;241m+\u001b[39m\u001b[38;5;241m=\u001b[39m \u001b[38;5;124m\"\u001b[39m\u001b[38;5;124mb\u001b[39m\u001b[38;5;124m\"\u001b[39m\n\u001b[1;32m-> 1705\u001b[0m \u001b[38;5;28mself\u001b[39m\u001b[38;5;241m.\u001b[39mhandles \u001b[38;5;241m=\u001b[39m get_handle(\n\u001b[0;32m   1706\u001b[0m     f,\n\u001b[0;32m   1707\u001b[0m     mode,\n\u001b[0;32m   1708\u001b[0m     encoding\u001b[38;5;241m=\u001b[39m\u001b[38;5;28mself\u001b[39m\u001b[38;5;241m.\u001b[39moptions\u001b[38;5;241m.\u001b[39mget(\u001b[38;5;124m\"\u001b[39m\u001b[38;5;124mencoding\u001b[39m\u001b[38;5;124m\"\u001b[39m, \u001b[38;5;28;01mNone\u001b[39;00m),\n\u001b[0;32m   1709\u001b[0m     compression\u001b[38;5;241m=\u001b[39m\u001b[38;5;28mself\u001b[39m\u001b[38;5;241m.\u001b[39moptions\u001b[38;5;241m.\u001b[39mget(\u001b[38;5;124m\"\u001b[39m\u001b[38;5;124mcompression\u001b[39m\u001b[38;5;124m\"\u001b[39m, \u001b[38;5;28;01mNone\u001b[39;00m),\n\u001b[0;32m   1710\u001b[0m     memory_map\u001b[38;5;241m=\u001b[39m\u001b[38;5;28mself\u001b[39m\u001b[38;5;241m.\u001b[39moptions\u001b[38;5;241m.\u001b[39mget(\u001b[38;5;124m\"\u001b[39m\u001b[38;5;124mmemory_map\u001b[39m\u001b[38;5;124m\"\u001b[39m, \u001b[38;5;28;01mFalse\u001b[39;00m),\n\u001b[0;32m   1711\u001b[0m     is_text\u001b[38;5;241m=\u001b[39mis_text,\n\u001b[0;32m   1712\u001b[0m     errors\u001b[38;5;241m=\u001b[39m\u001b[38;5;28mself\u001b[39m\u001b[38;5;241m.\u001b[39moptions\u001b[38;5;241m.\u001b[39mget(\u001b[38;5;124m\"\u001b[39m\u001b[38;5;124mencoding_errors\u001b[39m\u001b[38;5;124m\"\u001b[39m, \u001b[38;5;124m\"\u001b[39m\u001b[38;5;124mstrict\u001b[39m\u001b[38;5;124m\"\u001b[39m),\n\u001b[0;32m   1713\u001b[0m     storage_options\u001b[38;5;241m=\u001b[39m\u001b[38;5;28mself\u001b[39m\u001b[38;5;241m.\u001b[39moptions\u001b[38;5;241m.\u001b[39mget(\u001b[38;5;124m\"\u001b[39m\u001b[38;5;124mstorage_options\u001b[39m\u001b[38;5;124m\"\u001b[39m, \u001b[38;5;28;01mNone\u001b[39;00m),\n\u001b[0;32m   1714\u001b[0m )\n\u001b[0;32m   1715\u001b[0m \u001b[38;5;28;01massert\u001b[39;00m \u001b[38;5;28mself\u001b[39m\u001b[38;5;241m.\u001b[39mhandles \u001b[38;5;129;01mis\u001b[39;00m \u001b[38;5;129;01mnot\u001b[39;00m \u001b[38;5;28;01mNone\u001b[39;00m\n\u001b[0;32m   1716\u001b[0m f \u001b[38;5;241m=\u001b[39m \u001b[38;5;28mself\u001b[39m\u001b[38;5;241m.\u001b[39mhandles\u001b[38;5;241m.\u001b[39mhandle\n",
            "File \u001b[1;32mc:\\Users\\ben81\\anaconda3\\Lib\\site-packages\\pandas\\io\\common.py:863\u001b[0m, in \u001b[0;36mget_handle\u001b[1;34m(path_or_buf, mode, encoding, compression, memory_map, is_text, errors, storage_options)\u001b[0m\n\u001b[0;32m    858\u001b[0m \u001b[38;5;28;01melif\u001b[39;00m \u001b[38;5;28misinstance\u001b[39m(handle, \u001b[38;5;28mstr\u001b[39m):\n\u001b[0;32m    859\u001b[0m     \u001b[38;5;66;03m# Check whether the filename is to be opened in binary mode.\u001b[39;00m\n\u001b[0;32m    860\u001b[0m     \u001b[38;5;66;03m# Binary mode does not support 'encoding' and 'newline'.\u001b[39;00m\n\u001b[0;32m    861\u001b[0m     \u001b[38;5;28;01mif\u001b[39;00m ioargs\u001b[38;5;241m.\u001b[39mencoding \u001b[38;5;129;01mand\u001b[39;00m \u001b[38;5;124m\"\u001b[39m\u001b[38;5;124mb\u001b[39m\u001b[38;5;124m\"\u001b[39m \u001b[38;5;129;01mnot\u001b[39;00m \u001b[38;5;129;01min\u001b[39;00m ioargs\u001b[38;5;241m.\u001b[39mmode:\n\u001b[0;32m    862\u001b[0m         \u001b[38;5;66;03m# Encoding\u001b[39;00m\n\u001b[1;32m--> 863\u001b[0m         handle \u001b[38;5;241m=\u001b[39m \u001b[38;5;28mopen\u001b[39m(\n\u001b[0;32m    864\u001b[0m             handle,\n\u001b[0;32m    865\u001b[0m             ioargs\u001b[38;5;241m.\u001b[39mmode,\n\u001b[0;32m    866\u001b[0m             encoding\u001b[38;5;241m=\u001b[39mioargs\u001b[38;5;241m.\u001b[39mencoding,\n\u001b[0;32m    867\u001b[0m             errors\u001b[38;5;241m=\u001b[39merrors,\n\u001b[0;32m    868\u001b[0m             newline\u001b[38;5;241m=\u001b[39m\u001b[38;5;124m\"\u001b[39m\u001b[38;5;124m\"\u001b[39m,\n\u001b[0;32m    869\u001b[0m         )\n\u001b[0;32m    870\u001b[0m     \u001b[38;5;28;01melse\u001b[39;00m:\n\u001b[0;32m    871\u001b[0m         \u001b[38;5;66;03m# Binary mode\u001b[39;00m\n\u001b[0;32m    872\u001b[0m         handle \u001b[38;5;241m=\u001b[39m \u001b[38;5;28mopen\u001b[39m(handle, ioargs\u001b[38;5;241m.\u001b[39mmode)\n",
            "\u001b[1;31mFileNotFoundError\u001b[0m: [Errno 2] No such file or directory: '/content/drive/MyDrive/skku-2024-1-machine-learning-third-project/submission.csv'"
          ]
        }
      ],
      "source": [
        "df3 = pd.read_csv(\"/content/drive/MyDrive/skku-2024-1-machine-learning-third-project/submission.csv\")\n",
        "df3"
      ]
    },
    {
      "cell_type": "markdown",
      "metadata": {},
      "source": [
        "Ensemble"
      ]
    },
    {
      "cell_type": "code",
      "execution_count": null,
      "metadata": {},
      "outputs": [],
      "source": [
        "import torch\n",
        "import torch.nn as nn\n",
        "import torch.optim as optim\n",
        "from torchvision import models, transforms, datasets\n",
        "from torch.utils.data import DataLoader\n",
        "\n",
        "\n",
        "# 모델 로드 및 출력층 수정\n",
        "def load_model(model_name, num_classes):\n",
        "    if model_name == 'efficientnet_b7':\n",
        "        model = models.efficientnet_b7(pretrained=True)\n",
        "        model.classifier[1] = nn.Linear(model.classifier[1].in_features, num_classes)\n",
        "    elif model_name == 'resnet50':\n",
        "        model = models.resnet50(pretrained=True)\n",
        "        model.fc = nn.Linear(model.fc.in_features, num_classes)\n",
        "    elif model_name == 'densenet121':\n",
        "        model = models.densenet121(pretrained=True)\n",
        "        model.classifier = nn.Linear(model.classifier.in_features, num_classes)\n",
        "    else:\n",
        "        raise ValueError(\"Unsupported model type\")\n",
        "    return model\n",
        "\n",
        "# 모델 목록\n",
        "model_names = ['efficientnet_b7', 'resnet50', 'densenet121']\n",
        "num_classes = 6\n",
        "models_list = [load_model(name, num_classes) for name in model_names]\n",
        "\n",
        "# 옵티마이저 및 손실 함수 정의\n",
        "optimizers = [optim.Adam(model.parameters(), lr=1e-3) for model in models_list]\n",
        "criterion = nn.CrossEntropyLoss()\n",
        "\n",
        "# 모델 학습 함수\n",
        "def train_model(model, optimizer, num_epochs=10):\n",
        "    device = torch.device('cuda' if torch.cuda.is_available() else 'cpu')\n",
        "    model.to(device)\n",
        "    model.train()\n",
        "    for epoch in range(num_epochs):\n",
        "        running_loss = 0.0\n",
        "        for inputs, targets in train_loader:\n",
        "            inputs, targets = inputs.to(device), targets.to(device)\n",
        "            optimizer.zero_grad()\n",
        "            outputs = model(inputs)\n",
        "            loss = criterion(outputs, targets)\n",
        "            loss.backward()\n",
        "            optimizer.step()\n",
        "            running_loss += loss.item()\n",
        "        print(f\"Epoch [{epoch+1}/{num_epochs}], Loss: {running_loss/len(train_loader)}\")\n",
        "    return model\n",
        "\n",
        "# 모델 학습\n",
        "trained_models = [train_model(model, optimizer) for model, optimizer in zip(models_list, optimizers)]\n",
        "\n",
        "# 앙상블 예측 함수\n",
        "def ensemble_predict(models, inputs):\n",
        "    outputs = [model(inputs) for model in models]\n",
        "    avg_output = torch.mean(torch.stack(outputs), dim=0)\n",
        "    return avg_output\n",
        "\n",
        "# 모델 평가\n",
        "def evaluate(models):\n",
        "    device = torch.device('cuda' if torch.cuda.is_available() else 'cpu')\n",
        "    correct = 0\n",
        "    total = 0\n",
        "    for model in models:\n",
        "        model.to(device)\n",
        "        model.eval()\n",
        "    \n",
        "    with torch.no_grad():\n",
        "        for inputs, targets in val_loader:\n",
        "            inputs, targets = inputs.to(device), targets.to(device)\n",
        "            outputs = ensemble_predict(models, inputs)\n",
        "            _, predicted = torch.max(outputs, 1)\n",
        "            total += targets.size(0)\n",
        "            correct += (predicted == targets).sum().item()\n",
        "\n",
        "    accuracy = correct / total\n",
        "    return accuracy\n",
        "\n",
        "accuracy = evaluate(trained_models)\n",
        "print(f\"Ensemble Accuracy: {accuracy}\")\n"
      ]
    }
  ],
  "metadata": {
    "accelerator": "GPU",
    "colab": {
      "gpuType": "T4",
      "provenance": []
    },
    "kernelspec": {
      "display_name": "Python 3",
      "name": "python3"
    },
    "language_info": {
      "codemirror_mode": {
        "name": "ipython",
        "version": 3
      },
      "file_extension": ".py",
      "mimetype": "text/x-python",
      "name": "python",
      "nbconvert_exporter": "python",
      "pygments_lexer": "ipython3",
      "version": "3.11.7"
    }
  },
  "nbformat": 4,
  "nbformat_minor": 0
}
