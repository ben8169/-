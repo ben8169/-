{
  "cells": [
    {
      "cell_type": "markdown",
      "metadata": {
        "id": "7D73hNdx0y7x"
      },
      "source": [
        "### Download Spam Mail Dataset\n"
      ]
    },
    {
      "cell_type": "code",
      "execution_count": 1,
      "metadata": {
        "id": "QEZdiXX60y71"
      },
      "outputs": [
        {
          "name": "stderr",
          "output_type": "stream",
          "text": [
            "[nltk_data] Downloading package stopwords to\n",
            "[nltk_data]     C:\\Users\\ben81\\AppData\\Roaming\\nltk_data...\n",
            "[nltk_data]   Package stopwords is already up-to-date!\n",
            "[nltk_data] Downloading package names to\n",
            "[nltk_data]     C:\\Users\\ben81\\AppData\\Roaming\\nltk_data...\n",
            "[nltk_data]   Package names is already up-to-date!\n",
            "[nltk_data] Downloading package wordnet to\n",
            "[nltk_data]     C:\\Users\\ben81\\AppData\\Roaming\\nltk_data...\n",
            "[nltk_data]   Package wordnet is already up-to-date!\n"
          ]
        },
        {
          "data": {
            "text/plain": [
              "True"
            ]
          },
          "execution_count": 1,
          "metadata": {},
          "output_type": "execute_result"
        }
      ],
      "source": [
        "import nltk\n",
        "nltk.download(\"stopwords\")\n",
        "nltk.download(\"names\")\n",
        "nltk.download(\"wordnet\")"
      ]
    },
    {
      "cell_type": "markdown",
      "metadata": {
        "id": "7CfAJemy0y71"
      },
      "source": [
        "### Load Dataset"
      ]
    },
    {
      "cell_type": "code",
      "execution_count": 2,
      "metadata": {
        "id": "kPgJg1HR0y71"
      },
      "outputs": [],
      "source": [
        "import glob, os\n",
        "\n",
        "# init\n",
        "\"\"\"\n",
        "emails: a set of email\n",
        "labels: a set of label representing whetere the gien email is spam or ham\n",
        "  - spam: 1\n",
        "  - ham: 0\n",
        "\"\"\"\n",
        "\n",
        "emails, labels = [], []\n",
        "parition = 0"
      ]
    },
    {
      "cell_type": "code",
      "execution_count": 3,
      "metadata": {
        "id": "wjGMnPWF0y71",
        "outputId": "7c47e42f-8f90-4a27-859b-5c7327415ddb"
      },
      "outputs": [
        {
          "name": "stdout",
          "output_type": "stream",
          "text": [
            "# of emails = 5172\n",
            "# of labels = 5172\n"
          ]
        }
      ],
      "source": [
        "# load spam dataset\n",
        "file_path = 'enron1/spam'\n",
        "\n",
        "for fname in glob.glob(os.path.join(file_path, '*.txt')):\n",
        "    with open(fname, 'r', encoding='ISO-8859-1') as f: # [!important] check encofing format\n",
        "      emails.append(f.read())\n",
        "      labels.append(1)\n",
        "\n",
        "file_path = 'enron1/ham'\n",
        "for fname in glob.glob(os.path.join(file_path, '*.txt')):\n",
        "    with open(fname, 'r', encoding='ISO-8859-1') as f:\n",
        "      emails.append(f.read())\n",
        "      labels.append(0)\n",
        "\n",
        "print('# of emails = {}\\n# of labels = {}'.format(len(emails), len(labels)))"
      ]
    },
    {
      "cell_type": "markdown",
      "metadata": {
        "id": "Ozk-ZxUL0y72"
      },
      "source": [
        "### Data Preprocessing\n",
        "  - remove number and punctuation\n",
        "  - remove name entity\n",
        "  - remove stopword\n",
        "  - lemmatization"
      ]
    },
    {
      "cell_type": "code",
      "execution_count": 4,
      "metadata": {
        "id": "wq6M2Md50y72"
      },
      "outputs": [],
      "source": [
        "# remove number and punctuation\n",
        "def letters_only(word):\n",
        "    return word.isalpha()\n",
        "\n",
        "# remove name entity\n",
        "from nltk.corpus import names\n",
        "all_names = set(names.words())\n",
        "\n",
        "# lemmaization\n",
        "from nltk.stem import WordNetLemmatizer\n",
        "lemmatizer = WordNetLemmatizer()\n",
        "\n",
        "\n",
        "# put all together to clean texts\n",
        "def clean_text(doc):\n",
        "    cleaned_doc = []\n",
        "    for word in doc.split(' '): # split doc. by blank (' ')\n",
        "        word = word.lower() # ABD -> abd\n",
        "        if letters_only(word) and word not in all_names and len(word) > 2: # remove number and punc. and name entity\n",
        "            cleaned_doc.append(lemmatizer.lemmatize(word))\n",
        "\n",
        "    return ' '.join(cleaned_doc)\n",
        "\n",
        "cleaned_emails = [clean_text(doc) for doc in emails]"
      ]
    },
    {
      "cell_type": "markdown",
      "metadata": {
        "id": "Udqy2SbI0y72"
      },
      "source": [
        "### Data Preparation\n",
        "* Split data into train and test set."
      ]
    },
    {
      "cell_type": "code",
      "execution_count": 5,
      "metadata": {
        "id": "X-SvVN1l0y72"
      },
      "outputs": [],
      "source": [
        "from sklearn.model_selection import train_test_split\n",
        "from sklearn.feature_extraction.text import CountVectorizer\n",
        "\n",
        "X_train, X_test, Y_train, Y_test = train_test_split(cleaned_emails, labels, test_size=0.33, random_state=486)\n",
        "\n",
        "cv = CountVectorizer(stop_words='english', max_features=500)\n",
        "\n",
        "term_docs_train = cv.fit_transform(X_train) # get counter vector for X_train\n",
        "term_docs_test = cv.transform(X_test) # get counter vector for X_test"
      ]
    },
    {
      "cell_type": "markdown",
      "metadata": {
        "id": "kctd6gCh0y72"
      },
      "source": [
        "### Import Model and Train"
      ]
    },
    {
      "cell_type": "code",
      "execution_count": 6,
      "metadata": {
        "id": "g2ZQp6RV0y72"
      },
      "outputs": [
        {
          "name": "stdout",
          "output_type": "stream",
          "text": [
            "[1.00613415e-04 7.93455384e-05 6.87116002e-05]\n",
            "[1.00613415e-04 7.93455384e-05 6.87116002e-05]\n"
          ]
        }
      ],
      "source": [
        "import numpy as np\n",
        "from naivebayes import NaiveBayesClassifier\n",
        "\n",
        "gnb = NaiveBayesClassifier()\n",
        "gnb.fit(term_docs_train.toarray(), Y_train)\n",
        "y_pred = gnb.predict(term_docs_test.toarray())"
      ]
    },
    {
      "cell_type": "markdown",
      "metadata": {
        "id": "4R6B5qs70y72"
      },
      "source": [
        "### Simple Evaluation"
      ]
    },
    {
      "cell_type": "code",
      "execution_count": 7,
      "metadata": {
        "id": "15i7iAJv0y72",
        "outputId": "235c5ab2-1a7e-462e-f863-b853c55395cf"
      },
      "outputs": [
        {
          "name": "stdout",
          "output_type": "stream",
          "text": [
            "Accuracy of the model is: 0.90\n"
          ]
        }
      ],
      "source": [
        "from sklearn.metrics import accuracy_score\n",
        "acc = accuracy_score(Y_test, y_pred)\n",
        "print(\"Accuracy of the model is: {:.2f}\".format(acc))"
      ]
    },
    {
      "cell_type": "code",
      "execution_count": null,
      "metadata": {},
      "outputs": [],
      "source": []
    }
  ],
  "metadata": {
    "colab": {
      "provenance": []
    },
    "interpreter": {
      "hash": "31f2aee4e71d21fbe5cf8b01ff0e069b9275f58929596ceb00d14d90e3e16cd6"
    },
    "kernelspec": {
      "display_name": "Python 3.8.9 64-bit",
      "language": "python",
      "name": "python3"
    },
    "language_info": {
      "codemirror_mode": {
        "name": "ipython",
        "version": 3
      },
      "file_extension": ".py",
      "mimetype": "text/x-python",
      "name": "python",
      "nbconvert_exporter": "python",
      "pygments_lexer": "ipython3",
      "version": "3.10.13"
    },
    "orig_nbformat": 4
  },
  "nbformat": 4,
  "nbformat_minor": 0
}
