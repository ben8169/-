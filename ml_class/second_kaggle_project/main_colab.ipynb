{
  "cells": [
    {
      "cell_type": "markdown",
      "metadata": {
        "id": "gcC8G2_mK61V"
      },
      "source": [
        "## Validation 1. Is Scaling meaningful?"
      ]
    },
    {
      "cell_type": "code",
      "execution_count": 1,
      "metadata": {
        "id": "STOGasN7K61W"
      },
      "outputs": [],
      "source": [
        "import pandas as pd\n",
        "from sklearn.model_selection import train_test_split\n",
        "import xgboost as xgb\n",
        "from sklearn.svm import SVC\n",
        "from sklearn.preprocessing import MinMaxScaler\n",
        "from sklearn.model_selection import GridSearchCV\n",
        "from sklearn.metrics import accuracy_score\n",
        "from collections import Counter"
      ]
    },
    {
      "cell_type": "code",
      "execution_count": 2,
      "metadata": {
        "id": "7dKk7Y3TK61W"
      },
      "outputs": [],
      "source": [
        "train = pd.read_csv('train.csv')\n",
        "test = pd.read_csv('test.csv')\n",
        "train = train.iloc[:,1:]\n",
        "test = test.iloc[:,1:]"
      ]
    },
    {
      "cell_type": "code",
      "execution_count": 4,
      "metadata": {
        "colab": {
          "base_uri": "https://localhost:8080/"
        },
        "id": "_ZBIbBjJK61X",
        "outputId": "1cd58dd3-8f32-4093-82d9-db529d59d553"
      },
      "outputs": [
        {
          "output_type": "execute_result",
          "data": {
            "text/plain": [
              "(Series([], dtype: int64), Series([], dtype: int64))"
            ]
          },
          "metadata": {},
          "execution_count": 4
        }
      ],
      "source": [
        "train.isnull().sum()[train.isnull().sum()>0], test.isnull().sum()[test.isnull().sum()>0]"
      ]
    },
    {
      "cell_type": "code",
      "execution_count": null,
      "metadata": {
        "id": "eheM9vRUK61X",
        "outputId": "e91ed362-fafd-4d8a-9ffe-cbb037be4624"
      },
      "outputs": [
        {
          "name": "stdout",
          "output_type": "stream",
          "text": [
            "AGE\n",
            "[72 66 75 77 85 82 67 73 84 78 61 69 48 70 50 46 63 57 53 74 56 81 88 65\n",
            " 79 62 36 34 40 59 54 68 60 44 42 83 51 49 76 55 47 71 87 80 52 31 58 37\n",
            " 64 43 39 45]\n",
            "Adenocarcinoma\n",
            "[1 0]\n",
            "Large cell carcinoma\n",
            "[1 0]\n",
            "Squamous cell carcinoma\n",
            "[0 1]\n",
            "TX\n",
            "[1 0]\n",
            "T0\n",
            "[0 1]\n",
            "T1\n",
            "[0 1]\n",
            "T1a\n",
            "[0 1]\n",
            "T1b\n",
            "[0 1]\n",
            "T1c\n",
            "[0 1]\n",
            "T2\n",
            "[0 1]\n",
            "T2a\n",
            "[0 1]\n",
            "T2b\n",
            "[0 1]\n",
            "T3\n",
            "[0 1]\n",
            "T4\n",
            "[0 1]\n",
            "N1\n",
            "[0 1]\n",
            "N2\n",
            "[0 1]\n",
            "N3\n",
            "[0 1]\n",
            "M1a\n",
            "[0 1]\n",
            "M1b\n",
            "[0 1]\n",
            "M1c\n",
            "[0 1]\n",
            "Type of Drink\n",
            "[99  3  2  1]\n",
            "Smoke\n",
            "[2 1 0]\n",
            "Height\n",
            "[142.  179.4 169.8 158.5 172.3 153.8 146.4 144.1 151.8 171.  165.1 146.2\n",
            " 142.9 167.1 166.  145.8 176.4 175.5 145.4 168.1 156.  167.2 162.  167.4\n",
            " 164.8 168.3 167.6 163.6 149.  143.1 159.2 163.1 170.2 150.5 161.2 173.5\n",
            " 148.5 167.7 181.6 172.1 165.7 165.3 152.2 182.9 171.9 150.8 156.2 168.5\n",
            " 169.7 146.6 176.  147.7 174.1 171.5 166.2 176.5 160.2 161.9 152.8 152.\n",
            " 149.7 158.  178.7 178.5 162.7 144.  166.6 165.  162.9 154.8 151.6 147.3\n",
            " 154.6 166.3 156.5 150.4 152.9 148.  162.5 170.1 173.9 159.1 148.1 148.4\n",
            " 168.9 157.6 180.1 163.5 174.  177.5 165.4 149.2 150.1 153.2 152.7 163.7\n",
            " 159.5 163.2 172.8 155.  170.  162.3 173.1 160.6 184.2 144.8 172.9 171.3\n",
            " 147.  153.  169.1 157.3 148.2 168.  179.9 181.7 173.7 161.5 168.4 178.\n",
            " 177.6 170.6 143.3 173.3 169.3 165.9 151.4 163.3 156.1 179.2 151.7 144.4\n",
            " 165.6 151.  159.3 172.2 170.7 164.3 171.1 156.7 170.8 164.5 177.3 164.4\n",
            " 153.7 158.6 175.2 178.6 161.8 167.  151.5 160.4 153.1 155.4 167.9 162.6\n",
            " 180.3 159.  176.9 173.  171.7 171.6 151.2 176.2 142.3 148.8 182.  170.3\n",
            " 173.4 155.6 159.7 161.4 158.1 156.4 174.2 161.7 173.6 159.6 180.  168.7\n",
            " 161.6 160.3 179.7 152.4 149.3 158.8 160.8 163.  155.5 164.7 177.  154.4\n",
            " 172.4 174.5 155.2 154.3 158.4 157.9 149.1 154.7 155.8 157.2 158.2 166.7\n",
            " 175.3 169.4 162.8 165.2 166.8 145.6 175.6 158.3 152.6 177.1 152.5 173.2\n",
            " 175.8 152.3 147.5 155.9 155.1 158.9 148.3 147.4 153.4 161.1 149.6 166.5\n",
            " 154.5 177.2 167.3 145.2 151.1 157.5 169.  164.1 150.  148.6 144.6 175.9\n",
            " 155.3 154.2 174.6 166.4 174.7 159.8 170.9 146.7 174.9 170.4 154.9 172.6\n",
            " 150.3 175.4 169.2 160.5 160.1 154.  157.  171.8 169.9 155.7 164.  172.5\n",
            " 174.3 162.2 169.6 157.4 146.1 162.1 174.4 160.  165.5 142.2 158.7 169.5\n",
            " 174.8 147.2 163.8 159.9 164.6 163.9 153.3 156.6 182.1 173.8 159.4 150.2\n",
            " 160.7 161.  149.5 163.4 168.6 179.  166.1 188.3 180.7 156.3 146.  183.\n",
            " 152.1 178.8 170.5 167.5 161.3 157.7 148.7 180.9 175.1 165.8 168.8 166.9\n",
            " 156.8 164.9 162.4 160.9 148.9 154.1 167.8 171.2 172.  157.1 175.7 175.\n",
            " 157.8 153.5 150.6]\n",
            "Weight\n",
            "[ 68.2  61.1  73.8  79.1  44.3  44.4  62.4  56.8  45.   68.4  86.2  79.\n",
            "  46.6  97.1  43.5  66.7  62.3  53.5  59.1  66.3  50.4  65.   43.8  72.\n",
            "  69.4  61.2  48.8  46.   74.3  49.8  63.   54.2  76.   98.9  73.7  51.5\n",
            "  80.   62.6  72.6  60.6  48.7  55.6  62.1  69.8  85.   64.8  75.9  61.8\n",
            "  82.2  52.9  74.   74.9  87.3  54.6  53.6  78.3  50.5  57.1  86.4  48.2\n",
            "  65.7  68.7  56.5  47.9  56.4  70.2  54.7  50.9  56.   53.7  62.   49.3\n",
            "  69.1  76.2  69.   76.4  65.6  79.7  79.6  68.9  52.5  83.9  66.6  49.9\n",
            "  62.9  67.4  77.   62.8  82.8  67.3  73.3  73.   56.6  50.1  68.   75.5\n",
            "  58.1  69.2  60.9  45.8  59.4  83.3 100.7  51.9  48.1  56.7  44.   73.1\n",
            "  92.6  66.9  74.2  71.4  64.   55.4  63.5  72.8  74.6  44.5  81.   94.3\n",
            "  88.8  58.2  79.4  61.   84.7  74.5  73.2  68.5  84.4  60.3  52.4  89.8\n",
            "  57.6  59.7  69.6  67.8  68.6  51.3  70.3  81.2  54.9  43.   87.7  60.4\n",
            "  67.9  68.8  73.9  45.4  67.   63.4  34.3  58.9  61.5  52.3  76.1  85.9\n",
            "  79.9  69.7  71.   81.6  44.9  49.1  54.4  45.3  47.8  63.1  56.1  43.2\n",
            "  60.2  80.8  55.9  60.8  58.6  51.4  58.7  61.9  79.2  71.7  56.9  78.\n",
            "  55.   77.4  70.1  76.6  49.   55.2  66.8  71.9  40.   56.2  63.7  71.5\n",
            "  67.6  77.1  39.3  53.3  75.4  51.6  71.8  54.5  78.8  61.4  66.5  63.8\n",
            "  49.7  80.3  56.3  68.3  38.6  77.3  80.5  44.7  82.5  72.7  73.6  78.1\n",
            "  42.   87.1  51.   59.8  64.2  48.   94.9  82.4  54.3  61.3  50.8  51.7\n",
            "  72.4  67.7  74.7  58.   57.5  66.4  52.2  55.5  69.3  83.   62.2  81.5\n",
            "  71.1  87.2  59.2  78.4  50.3  66.1  74.1  62.7  65.1  66.2  55.7  64.9\n",
            "  65.8  51.1  80.2  38.2  78.2  50.   84.   77.8  53.   67.1  58.8  64.6\n",
            "  63.6  67.5  57.   66.   73.4  51.8  75.   83.8  78.5  72.5  54.1  59.\n",
            "  55.8  57.3  53.8  57.4  57.7  63.3  68.1  73.5  72.1  42.9  71.2  70.6\n",
            "  75.3  80.1  48.3  83.6  52.6  48.6  51.2  91.8  52.1  70.9  71.3  80.9\n",
            "  80.4  40.4  64.1 105.1  77.9  77.7  59.5  71.6  65.4  61.6  75.6  82.3\n",
            "  50.7  81.9  52.8  81.1  46.9  60.   62.5  46.1  58.3  57.8  46.8  54.8\n",
            "  70.   82.1  77.6  76.7  75.2  75.8  70.5  74.8  55.1  48.4  57.9  59.3\n",
            "  65.3  72.9  55.3  46.3  53.2  57.2  53.9  58.5  64.7  50.6  49.6  53.1\n",
            "  70.7  91.6  46.2  70.8  52.7  49.5  61.7  58.4  78.9  65.5  41.6  81.7\n",
            "  89.4  87.   45.6  63.2  60.5  59.9  84.9  52.   80.6  49.4  63.9  74.4\n",
            "  44.6  60.1  41.   69.5  60.7  44.2  78.7  47.1  70.4  64.4  64.3  54.\n",
            "  79.8  85.8  87.6  50.2]\n",
            "FEV1_FVC_P\n",
            "[87 54 79 78 48 85 64 52 91 88 44 80 81 83 47 69 42 45 66 90 59 96 86 37\n",
            " 71 77 41 98 65 39 73 94 51 43 31 74 93 97 84 62 82 67 70 76 53 50 55 36\n",
            " 68 57 63 61 58 75 72 95 46 56 60 49 89 99 92]\n",
            "DLCO_VA_P\n",
            "[102 112  73 137  85 105  27 132 108 141  66 113  53  98 120 104  62 114\n",
            " 118  55  59  82  51  88 153 145 133  71  58 115  91 117 122  68  65  60\n",
            " 106  95  64  33 140 135  89 126  76 150  77 107  57  46  97 134 130  43\n",
            " 127  80 155  96 110 128 144 136  45 111 124  93  69  86  84  72  44 100\n",
            "  52  75  87 129  70 101 123 139 148  99 109  79 146 119 156  94  56 131\n",
            "  41 149  61  90 138  83 121  63 103  54  49  78 116  67  81  42  50  92\n",
            "  47  74  48 125 161]\n",
            "EGFR mutation Detection\n",
            "[99  1  0]\n",
            "Operation\n",
            "[1 0]\n",
            "Chemotherapy\n",
            "[0 1]\n",
            "Radiation Therapy\n",
            "[0 1]\n",
            "Survival period\n",
            "[157 567 253 266 470 407 225 568 320 364 371 259 141 179 408 111 321 297\n",
            " 171 635 241  37 460 355 312  85 148 238  42 101 505 336 115 131  87  71\n",
            "  57 461  96 467  74 197 708 118 112  97 191 316 105 414 474 504 139 277\n",
            " 169 229 379 240 187 107 180  36 559 228  99 279 456 656 215 719  62  16\n",
            "  52 125 522 369 326 190 520 561 694 305 161 422 427  72  91 195  35 254\n",
            " 136 263  78  28 574 123 304 182  98 210 293 450 698 146 129 154 166 167\n",
            " 104 324 239  53 592  46 618  70 178 509 356 545  66 156 464  58 291  73\n",
            " 252 623 405 713 613  60 335  41  68  79 425  30 270 192 177 271 265  69\n",
            " 363 690 269 445 143 221 552 294 663 145 102 173 459  75 340 189 217 274\n",
            " 319 257 643 373 211  44 302 400  39 378 598 160 616 286 537 301 149 117\n",
            " 133 163  93 144 730 203 521 426 300 212 153 158 430 275 494 596 227 164\n",
            " 216  27  88 109 122 327 196 155 350 152 383]\n",
            "Death\n",
            "[0 1]\n"
          ]
        }
      ],
      "source": [
        "for col in train.columns:\n",
        "    print(col)\n",
        "    print(train[col].unique())"
      ]
    },
    {
      "cell_type": "code",
      "execution_count": null,
      "metadata": {
        "id": "ETUGIBlYK61X"
      },
      "outputs": [],
      "source": [
        "# Type of Drink = [99  3  2  1]\n",
        "# Smoke = [2 1 0]\n",
        "# EGFR mutation Detection = [99  1  0]\n",
        "\n",
        "train = pd.get_dummies(train, columns = ['Type of Drink', 'Smoke', 'EGFR mutation Detection'])\n",
        "test = pd.get_dummies(test, columns = ['Type of Drink', 'Smoke', 'EGFR mutation Detection'])\n"
      ]
    },
    {
      "cell_type": "code",
      "execution_count": null,
      "metadata": {
        "id": "De2kJWdiK61X",
        "outputId": "f6d3cc15-a59a-4815-f4e0-906e3f9a1114"
      },
      "outputs": [
        {
          "data": {
            "text/html": [
              "<div>\n",
              "<style scoped>\n",
              "    .dataframe tbody tr th:only-of-type {\n",
              "        vertical-align: middle;\n",
              "    }\n",
              "\n",
              "    .dataframe tbody tr th {\n",
              "        vertical-align: top;\n",
              "    }\n",
              "\n",
              "    .dataframe thead th {\n",
              "        text-align: right;\n",
              "    }\n",
              "</style>\n",
              "<table border=\"1\" class=\"dataframe\">\n",
              "  <thead>\n",
              "    <tr style=\"text-align: right;\">\n",
              "      <th></th>\n",
              "      <th>AGE</th>\n",
              "      <th>Adenocarcinoma</th>\n",
              "      <th>Large cell carcinoma</th>\n",
              "      <th>Squamous cell carcinoma</th>\n",
              "      <th>TX</th>\n",
              "      <th>T0</th>\n",
              "      <th>T1</th>\n",
              "      <th>T1a</th>\n",
              "      <th>T1b</th>\n",
              "      <th>T1c</th>\n",
              "      <th>...</th>\n",
              "      <th>Type of Drink_1</th>\n",
              "      <th>Type of Drink_2</th>\n",
              "      <th>Type of Drink_3</th>\n",
              "      <th>Type of Drink_99</th>\n",
              "      <th>Smoke_0</th>\n",
              "      <th>Smoke_1</th>\n",
              "      <th>Smoke_2</th>\n",
              "      <th>EGFR mutation Detection_0</th>\n",
              "      <th>EGFR mutation Detection_1</th>\n",
              "      <th>EGFR mutation Detection_99</th>\n",
              "    </tr>\n",
              "  </thead>\n",
              "  <tbody>\n",
              "    <tr>\n",
              "      <th>0</th>\n",
              "      <td>72</td>\n",
              "      <td>1</td>\n",
              "      <td>1</td>\n",
              "      <td>0</td>\n",
              "      <td>1</td>\n",
              "      <td>0</td>\n",
              "      <td>0</td>\n",
              "      <td>0</td>\n",
              "      <td>0</td>\n",
              "      <td>0</td>\n",
              "      <td>...</td>\n",
              "      <td>False</td>\n",
              "      <td>False</td>\n",
              "      <td>False</td>\n",
              "      <td>True</td>\n",
              "      <td>False</td>\n",
              "      <td>False</td>\n",
              "      <td>True</td>\n",
              "      <td>False</td>\n",
              "      <td>False</td>\n",
              "      <td>True</td>\n",
              "    </tr>\n",
              "    <tr>\n",
              "      <th>1</th>\n",
              "      <td>66</td>\n",
              "      <td>1</td>\n",
              "      <td>0</td>\n",
              "      <td>0</td>\n",
              "      <td>0</td>\n",
              "      <td>0</td>\n",
              "      <td>1</td>\n",
              "      <td>0</td>\n",
              "      <td>0</td>\n",
              "      <td>0</td>\n",
              "      <td>...</td>\n",
              "      <td>False</td>\n",
              "      <td>False</td>\n",
              "      <td>False</td>\n",
              "      <td>True</td>\n",
              "      <td>False</td>\n",
              "      <td>False</td>\n",
              "      <td>True</td>\n",
              "      <td>False</td>\n",
              "      <td>False</td>\n",
              "      <td>True</td>\n",
              "    </tr>\n",
              "    <tr>\n",
              "      <th>2</th>\n",
              "      <td>75</td>\n",
              "      <td>1</td>\n",
              "      <td>1</td>\n",
              "      <td>0</td>\n",
              "      <td>1</td>\n",
              "      <td>0</td>\n",
              "      <td>0</td>\n",
              "      <td>0</td>\n",
              "      <td>0</td>\n",
              "      <td>0</td>\n",
              "      <td>...</td>\n",
              "      <td>False</td>\n",
              "      <td>False</td>\n",
              "      <td>True</td>\n",
              "      <td>False</td>\n",
              "      <td>False</td>\n",
              "      <td>False</td>\n",
              "      <td>True</td>\n",
              "      <td>False</td>\n",
              "      <td>False</td>\n",
              "      <td>True</td>\n",
              "    </tr>\n",
              "    <tr>\n",
              "      <th>3</th>\n",
              "      <td>77</td>\n",
              "      <td>1</td>\n",
              "      <td>0</td>\n",
              "      <td>1</td>\n",
              "      <td>0</td>\n",
              "      <td>0</td>\n",
              "      <td>1</td>\n",
              "      <td>0</td>\n",
              "      <td>0</td>\n",
              "      <td>0</td>\n",
              "      <td>...</td>\n",
              "      <td>False</td>\n",
              "      <td>True</td>\n",
              "      <td>False</td>\n",
              "      <td>False</td>\n",
              "      <td>False</td>\n",
              "      <td>False</td>\n",
              "      <td>True</td>\n",
              "      <td>False</td>\n",
              "      <td>True</td>\n",
              "      <td>False</td>\n",
              "    </tr>\n",
              "    <tr>\n",
              "      <th>4</th>\n",
              "      <td>85</td>\n",
              "      <td>1</td>\n",
              "      <td>0</td>\n",
              "      <td>0</td>\n",
              "      <td>0</td>\n",
              "      <td>0</td>\n",
              "      <td>0</td>\n",
              "      <td>0</td>\n",
              "      <td>0</td>\n",
              "      <td>1</td>\n",
              "      <td>...</td>\n",
              "      <td>False</td>\n",
              "      <td>True</td>\n",
              "      <td>False</td>\n",
              "      <td>False</td>\n",
              "      <td>False</td>\n",
              "      <td>False</td>\n",
              "      <td>True</td>\n",
              "      <td>False</td>\n",
              "      <td>False</td>\n",
              "      <td>True</td>\n",
              "    </tr>\n",
              "    <tr>\n",
              "      <th>...</th>\n",
              "      <td>...</td>\n",
              "      <td>...</td>\n",
              "      <td>...</td>\n",
              "      <td>...</td>\n",
              "      <td>...</td>\n",
              "      <td>...</td>\n",
              "      <td>...</td>\n",
              "      <td>...</td>\n",
              "      <td>...</td>\n",
              "      <td>...</td>\n",
              "      <td>...</td>\n",
              "      <td>...</td>\n",
              "      <td>...</td>\n",
              "      <td>...</td>\n",
              "      <td>...</td>\n",
              "      <td>...</td>\n",
              "      <td>...</td>\n",
              "      <td>...</td>\n",
              "      <td>...</td>\n",
              "      <td>...</td>\n",
              "      <td>...</td>\n",
              "    </tr>\n",
              "    <tr>\n",
              "      <th>9995</th>\n",
              "      <td>69</td>\n",
              "      <td>1</td>\n",
              "      <td>0</td>\n",
              "      <td>0</td>\n",
              "      <td>0</td>\n",
              "      <td>0</td>\n",
              "      <td>0</td>\n",
              "      <td>0</td>\n",
              "      <td>1</td>\n",
              "      <td>0</td>\n",
              "      <td>...</td>\n",
              "      <td>False</td>\n",
              "      <td>False</td>\n",
              "      <td>False</td>\n",
              "      <td>True</td>\n",
              "      <td>False</td>\n",
              "      <td>True</td>\n",
              "      <td>False</td>\n",
              "      <td>True</td>\n",
              "      <td>False</td>\n",
              "      <td>False</td>\n",
              "    </tr>\n",
              "    <tr>\n",
              "      <th>9996</th>\n",
              "      <td>37</td>\n",
              "      <td>0</td>\n",
              "      <td>0</td>\n",
              "      <td>0</td>\n",
              "      <td>0</td>\n",
              "      <td>0</td>\n",
              "      <td>0</td>\n",
              "      <td>1</td>\n",
              "      <td>0</td>\n",
              "      <td>0</td>\n",
              "      <td>...</td>\n",
              "      <td>False</td>\n",
              "      <td>True</td>\n",
              "      <td>False</td>\n",
              "      <td>False</td>\n",
              "      <td>False</td>\n",
              "      <td>True</td>\n",
              "      <td>False</td>\n",
              "      <td>True</td>\n",
              "      <td>False</td>\n",
              "      <td>False</td>\n",
              "    </tr>\n",
              "    <tr>\n",
              "      <th>9997</th>\n",
              "      <td>31</td>\n",
              "      <td>1</td>\n",
              "      <td>0</td>\n",
              "      <td>0</td>\n",
              "      <td>0</td>\n",
              "      <td>0</td>\n",
              "      <td>0</td>\n",
              "      <td>1</td>\n",
              "      <td>0</td>\n",
              "      <td>0</td>\n",
              "      <td>...</td>\n",
              "      <td>False</td>\n",
              "      <td>True</td>\n",
              "      <td>False</td>\n",
              "      <td>False</td>\n",
              "      <td>False</td>\n",
              "      <td>False</td>\n",
              "      <td>True</td>\n",
              "      <td>False</td>\n",
              "      <td>False</td>\n",
              "      <td>True</td>\n",
              "    </tr>\n",
              "    <tr>\n",
              "      <th>9998</th>\n",
              "      <td>85</td>\n",
              "      <td>0</td>\n",
              "      <td>0</td>\n",
              "      <td>0</td>\n",
              "      <td>0</td>\n",
              "      <td>0</td>\n",
              "      <td>0</td>\n",
              "      <td>0</td>\n",
              "      <td>0</td>\n",
              "      <td>0</td>\n",
              "      <td>...</td>\n",
              "      <td>True</td>\n",
              "      <td>False</td>\n",
              "      <td>False</td>\n",
              "      <td>False</td>\n",
              "      <td>False</td>\n",
              "      <td>False</td>\n",
              "      <td>True</td>\n",
              "      <td>False</td>\n",
              "      <td>True</td>\n",
              "      <td>False</td>\n",
              "    </tr>\n",
              "    <tr>\n",
              "      <th>9999</th>\n",
              "      <td>31</td>\n",
              "      <td>0</td>\n",
              "      <td>0</td>\n",
              "      <td>0</td>\n",
              "      <td>1</td>\n",
              "      <td>0</td>\n",
              "      <td>0</td>\n",
              "      <td>0</td>\n",
              "      <td>0</td>\n",
              "      <td>0</td>\n",
              "      <td>...</td>\n",
              "      <td>False</td>\n",
              "      <td>True</td>\n",
              "      <td>False</td>\n",
              "      <td>False</td>\n",
              "      <td>True</td>\n",
              "      <td>False</td>\n",
              "      <td>False</td>\n",
              "      <td>False</td>\n",
              "      <td>False</td>\n",
              "      <td>True</td>\n",
              "    </tr>\n",
              "  </tbody>\n",
              "</table>\n",
              "<p>10000 rows × 40 columns</p>\n",
              "</div>"
            ],
            "text/plain": [
              "      AGE  Adenocarcinoma  Large cell carcinoma  Squamous cell carcinoma  TX  \\\n",
              "0      72               1                     1                        0   1   \n",
              "1      66               1                     0                        0   0   \n",
              "2      75               1                     1                        0   1   \n",
              "3      77               1                     0                        1   0   \n",
              "4      85               1                     0                        0   0   \n",
              "...   ...             ...                   ...                      ...  ..   \n",
              "9995   69               1                     0                        0   0   \n",
              "9996   37               0                     0                        0   0   \n",
              "9997   31               1                     0                        0   0   \n",
              "9998   85               0                     0                        0   0   \n",
              "9999   31               0                     0                        0   1   \n",
              "\n",
              "      T0  T1  T1a  T1b  T1c  ...  Type of Drink_1  Type of Drink_2  \\\n",
              "0      0   0    0    0    0  ...            False            False   \n",
              "1      0   1    0    0    0  ...            False            False   \n",
              "2      0   0    0    0    0  ...            False            False   \n",
              "3      0   1    0    0    0  ...            False             True   \n",
              "4      0   0    0    0    1  ...            False             True   \n",
              "...   ..  ..  ...  ...  ...  ...              ...              ...   \n",
              "9995   0   0    0    1    0  ...            False            False   \n",
              "9996   0   0    1    0    0  ...            False             True   \n",
              "9997   0   0    1    0    0  ...            False             True   \n",
              "9998   0   0    0    0    0  ...             True            False   \n",
              "9999   0   0    0    0    0  ...            False             True   \n",
              "\n",
              "      Type of Drink_3  Type of Drink_99  Smoke_0  Smoke_1  Smoke_2  \\\n",
              "0               False              True    False    False     True   \n",
              "1               False              True    False    False     True   \n",
              "2                True             False    False    False     True   \n",
              "3               False             False    False    False     True   \n",
              "4               False             False    False    False     True   \n",
              "...               ...               ...      ...      ...      ...   \n",
              "9995            False              True    False     True    False   \n",
              "9996            False             False    False     True    False   \n",
              "9997            False             False    False    False     True   \n",
              "9998            False             False    False    False     True   \n",
              "9999            False             False     True    False    False   \n",
              "\n",
              "      EGFR mutation Detection_0  EGFR mutation Detection_1  \\\n",
              "0                         False                      False   \n",
              "1                         False                      False   \n",
              "2                         False                      False   \n",
              "3                         False                       True   \n",
              "4                         False                      False   \n",
              "...                         ...                        ...   \n",
              "9995                       True                      False   \n",
              "9996                       True                      False   \n",
              "9997                      False                      False   \n",
              "9998                      False                       True   \n",
              "9999                      False                      False   \n",
              "\n",
              "      EGFR mutation Detection_99  \n",
              "0                           True  \n",
              "1                           True  \n",
              "2                           True  \n",
              "3                          False  \n",
              "4                           True  \n",
              "...                          ...  \n",
              "9995                       False  \n",
              "9996                       False  \n",
              "9997                        True  \n",
              "9998                       False  \n",
              "9999                        True  \n",
              "\n",
              "[10000 rows x 40 columns]"
            ]
          },
          "execution_count": 5,
          "metadata": {},
          "output_type": "execute_result"
        }
      ],
      "source": [
        "train"
      ]
    },
    {
      "cell_type": "code",
      "execution_count": null,
      "metadata": {
        "id": "1mhZJXy0K61X",
        "outputId": "b39067b4-4194-43ea-c0ae-3e55cae4f992"
      },
      "outputs": [
        {
          "data": {
            "text/html": [
              "<div>\n",
              "<style scoped>\n",
              "    .dataframe tbody tr th:only-of-type {\n",
              "        vertical-align: middle;\n",
              "    }\n",
              "\n",
              "    .dataframe tbody tr th {\n",
              "        vertical-align: top;\n",
              "    }\n",
              "\n",
              "    .dataframe thead th {\n",
              "        text-align: right;\n",
              "    }\n",
              "</style>\n",
              "<table border=\"1\" class=\"dataframe\">\n",
              "  <thead>\n",
              "    <tr style=\"text-align: right;\">\n",
              "      <th></th>\n",
              "      <th>AGE</th>\n",
              "      <th>Adenocarcinoma</th>\n",
              "      <th>Large cell carcinoma</th>\n",
              "      <th>Squamous cell carcinoma</th>\n",
              "      <th>TX</th>\n",
              "      <th>T0</th>\n",
              "      <th>T1</th>\n",
              "      <th>T1a</th>\n",
              "      <th>T1b</th>\n",
              "      <th>T1c</th>\n",
              "      <th>...</th>\n",
              "      <th>Type of Drink_1</th>\n",
              "      <th>Type of Drink_2</th>\n",
              "      <th>Type of Drink_3</th>\n",
              "      <th>Type of Drink_99</th>\n",
              "      <th>Smoke_0</th>\n",
              "      <th>Smoke_1</th>\n",
              "      <th>Smoke_2</th>\n",
              "      <th>EGFR mutation Detection_0</th>\n",
              "      <th>EGFR mutation Detection_1</th>\n",
              "      <th>EGFR mutation Detection_99</th>\n",
              "    </tr>\n",
              "  </thead>\n",
              "  <tbody>\n",
              "    <tr>\n",
              "      <th>0</th>\n",
              "      <td>35</td>\n",
              "      <td>1</td>\n",
              "      <td>0</td>\n",
              "      <td>0</td>\n",
              "      <td>0</td>\n",
              "      <td>0</td>\n",
              "      <td>0</td>\n",
              "      <td>0</td>\n",
              "      <td>0</td>\n",
              "      <td>0</td>\n",
              "      <td>...</td>\n",
              "      <td>True</td>\n",
              "      <td>False</td>\n",
              "      <td>False</td>\n",
              "      <td>False</td>\n",
              "      <td>False</td>\n",
              "      <td>True</td>\n",
              "      <td>False</td>\n",
              "      <td>True</td>\n",
              "      <td>False</td>\n",
              "      <td>False</td>\n",
              "    </tr>\n",
              "    <tr>\n",
              "      <th>1</th>\n",
              "      <td>60</td>\n",
              "      <td>1</td>\n",
              "      <td>0</td>\n",
              "      <td>0</td>\n",
              "      <td>0</td>\n",
              "      <td>0</td>\n",
              "      <td>0</td>\n",
              "      <td>0</td>\n",
              "      <td>1</td>\n",
              "      <td>0</td>\n",
              "      <td>...</td>\n",
              "      <td>False</td>\n",
              "      <td>False</td>\n",
              "      <td>True</td>\n",
              "      <td>False</td>\n",
              "      <td>True</td>\n",
              "      <td>False</td>\n",
              "      <td>False</td>\n",
              "      <td>True</td>\n",
              "      <td>False</td>\n",
              "      <td>False</td>\n",
              "    </tr>\n",
              "    <tr>\n",
              "      <th>2</th>\n",
              "      <td>45</td>\n",
              "      <td>1</td>\n",
              "      <td>1</td>\n",
              "      <td>1</td>\n",
              "      <td>1</td>\n",
              "      <td>0</td>\n",
              "      <td>0</td>\n",
              "      <td>0</td>\n",
              "      <td>0</td>\n",
              "      <td>0</td>\n",
              "      <td>...</td>\n",
              "      <td>True</td>\n",
              "      <td>False</td>\n",
              "      <td>False</td>\n",
              "      <td>False</td>\n",
              "      <td>True</td>\n",
              "      <td>False</td>\n",
              "      <td>False</td>\n",
              "      <td>False</td>\n",
              "      <td>False</td>\n",
              "      <td>True</td>\n",
              "    </tr>\n",
              "    <tr>\n",
              "      <th>3</th>\n",
              "      <td>31</td>\n",
              "      <td>0</td>\n",
              "      <td>0</td>\n",
              "      <td>0</td>\n",
              "      <td>1</td>\n",
              "      <td>0</td>\n",
              "      <td>0</td>\n",
              "      <td>0</td>\n",
              "      <td>0</td>\n",
              "      <td>0</td>\n",
              "      <td>...</td>\n",
              "      <td>False</td>\n",
              "      <td>False</td>\n",
              "      <td>False</td>\n",
              "      <td>True</td>\n",
              "      <td>False</td>\n",
              "      <td>True</td>\n",
              "      <td>False</td>\n",
              "      <td>False</td>\n",
              "      <td>True</td>\n",
              "      <td>False</td>\n",
              "    </tr>\n",
              "    <tr>\n",
              "      <th>4</th>\n",
              "      <td>55</td>\n",
              "      <td>0</td>\n",
              "      <td>0</td>\n",
              "      <td>1</td>\n",
              "      <td>0</td>\n",
              "      <td>0</td>\n",
              "      <td>0</td>\n",
              "      <td>1</td>\n",
              "      <td>0</td>\n",
              "      <td>0</td>\n",
              "      <td>...</td>\n",
              "      <td>False</td>\n",
              "      <td>False</td>\n",
              "      <td>False</td>\n",
              "      <td>True</td>\n",
              "      <td>False</td>\n",
              "      <td>True</td>\n",
              "      <td>False</td>\n",
              "      <td>False</td>\n",
              "      <td>False</td>\n",
              "      <td>True</td>\n",
              "    </tr>\n",
              "    <tr>\n",
              "      <th>...</th>\n",
              "      <td>...</td>\n",
              "      <td>...</td>\n",
              "      <td>...</td>\n",
              "      <td>...</td>\n",
              "      <td>...</td>\n",
              "      <td>...</td>\n",
              "      <td>...</td>\n",
              "      <td>...</td>\n",
              "      <td>...</td>\n",
              "      <td>...</td>\n",
              "      <td>...</td>\n",
              "      <td>...</td>\n",
              "      <td>...</td>\n",
              "      <td>...</td>\n",
              "      <td>...</td>\n",
              "      <td>...</td>\n",
              "      <td>...</td>\n",
              "      <td>...</td>\n",
              "      <td>...</td>\n",
              "      <td>...</td>\n",
              "      <td>...</td>\n",
              "    </tr>\n",
              "    <tr>\n",
              "      <th>4995</th>\n",
              "      <td>47</td>\n",
              "      <td>1</td>\n",
              "      <td>1</td>\n",
              "      <td>0</td>\n",
              "      <td>0</td>\n",
              "      <td>0</td>\n",
              "      <td>0</td>\n",
              "      <td>0</td>\n",
              "      <td>0</td>\n",
              "      <td>1</td>\n",
              "      <td>...</td>\n",
              "      <td>False</td>\n",
              "      <td>False</td>\n",
              "      <td>False</td>\n",
              "      <td>True</td>\n",
              "      <td>True</td>\n",
              "      <td>False</td>\n",
              "      <td>False</td>\n",
              "      <td>False</td>\n",
              "      <td>False</td>\n",
              "      <td>True</td>\n",
              "    </tr>\n",
              "    <tr>\n",
              "      <th>4996</th>\n",
              "      <td>44</td>\n",
              "      <td>1</td>\n",
              "      <td>0</td>\n",
              "      <td>1</td>\n",
              "      <td>0</td>\n",
              "      <td>0</td>\n",
              "      <td>1</td>\n",
              "      <td>0</td>\n",
              "      <td>0</td>\n",
              "      <td>0</td>\n",
              "      <td>...</td>\n",
              "      <td>False</td>\n",
              "      <td>False</td>\n",
              "      <td>False</td>\n",
              "      <td>True</td>\n",
              "      <td>False</td>\n",
              "      <td>False</td>\n",
              "      <td>True</td>\n",
              "      <td>False</td>\n",
              "      <td>False</td>\n",
              "      <td>True</td>\n",
              "    </tr>\n",
              "    <tr>\n",
              "      <th>4997</th>\n",
              "      <td>80</td>\n",
              "      <td>0</td>\n",
              "      <td>0</td>\n",
              "      <td>1</td>\n",
              "      <td>0</td>\n",
              "      <td>0</td>\n",
              "      <td>0</td>\n",
              "      <td>1</td>\n",
              "      <td>0</td>\n",
              "      <td>0</td>\n",
              "      <td>...</td>\n",
              "      <td>False</td>\n",
              "      <td>False</td>\n",
              "      <td>True</td>\n",
              "      <td>False</td>\n",
              "      <td>True</td>\n",
              "      <td>False</td>\n",
              "      <td>False</td>\n",
              "      <td>True</td>\n",
              "      <td>False</td>\n",
              "      <td>False</td>\n",
              "    </tr>\n",
              "    <tr>\n",
              "      <th>4998</th>\n",
              "      <td>69</td>\n",
              "      <td>1</td>\n",
              "      <td>0</td>\n",
              "      <td>0</td>\n",
              "      <td>0</td>\n",
              "      <td>0</td>\n",
              "      <td>0</td>\n",
              "      <td>0</td>\n",
              "      <td>0</td>\n",
              "      <td>0</td>\n",
              "      <td>...</td>\n",
              "      <td>False</td>\n",
              "      <td>True</td>\n",
              "      <td>False</td>\n",
              "      <td>False</td>\n",
              "      <td>False</td>\n",
              "      <td>False</td>\n",
              "      <td>True</td>\n",
              "      <td>True</td>\n",
              "      <td>False</td>\n",
              "      <td>False</td>\n",
              "    </tr>\n",
              "    <tr>\n",
              "      <th>4999</th>\n",
              "      <td>81</td>\n",
              "      <td>0</td>\n",
              "      <td>1</td>\n",
              "      <td>0</td>\n",
              "      <td>0</td>\n",
              "      <td>0</td>\n",
              "      <td>1</td>\n",
              "      <td>0</td>\n",
              "      <td>0</td>\n",
              "      <td>0</td>\n",
              "      <td>...</td>\n",
              "      <td>False</td>\n",
              "      <td>False</td>\n",
              "      <td>True</td>\n",
              "      <td>False</td>\n",
              "      <td>False</td>\n",
              "      <td>True</td>\n",
              "      <td>False</td>\n",
              "      <td>True</td>\n",
              "      <td>False</td>\n",
              "      <td>False</td>\n",
              "    </tr>\n",
              "  </tbody>\n",
              "</table>\n",
              "<p>5000 rows × 39 columns</p>\n",
              "</div>"
            ],
            "text/plain": [
              "      AGE  Adenocarcinoma  Large cell carcinoma  Squamous cell carcinoma  TX  \\\n",
              "0      35               1                     0                        0   0   \n",
              "1      60               1                     0                        0   0   \n",
              "2      45               1                     1                        1   1   \n",
              "3      31               0                     0                        0   1   \n",
              "4      55               0                     0                        1   0   \n",
              "...   ...             ...                   ...                      ...  ..   \n",
              "4995   47               1                     1                        0   0   \n",
              "4996   44               1                     0                        1   0   \n",
              "4997   80               0                     0                        1   0   \n",
              "4998   69               1                     0                        0   0   \n",
              "4999   81               0                     1                        0   0   \n",
              "\n",
              "      T0  T1  T1a  T1b  T1c  ...  Type of Drink_1  Type of Drink_2  \\\n",
              "0      0   0    0    0    0  ...             True            False   \n",
              "1      0   0    0    1    0  ...            False            False   \n",
              "2      0   0    0    0    0  ...             True            False   \n",
              "3      0   0    0    0    0  ...            False            False   \n",
              "4      0   0    1    0    0  ...            False            False   \n",
              "...   ..  ..  ...  ...  ...  ...              ...              ...   \n",
              "4995   0   0    0    0    1  ...            False            False   \n",
              "4996   0   1    0    0    0  ...            False            False   \n",
              "4997   0   0    1    0    0  ...            False            False   \n",
              "4998   0   0    0    0    0  ...            False             True   \n",
              "4999   0   1    0    0    0  ...            False            False   \n",
              "\n",
              "      Type of Drink_3  Type of Drink_99  Smoke_0  Smoke_1  Smoke_2  \\\n",
              "0               False             False    False     True    False   \n",
              "1                True             False     True    False    False   \n",
              "2               False             False     True    False    False   \n",
              "3               False              True    False     True    False   \n",
              "4               False              True    False     True    False   \n",
              "...               ...               ...      ...      ...      ...   \n",
              "4995            False              True     True    False    False   \n",
              "4996            False              True    False    False     True   \n",
              "4997             True             False     True    False    False   \n",
              "4998            False             False    False    False     True   \n",
              "4999             True             False    False     True    False   \n",
              "\n",
              "      EGFR mutation Detection_0  EGFR mutation Detection_1  \\\n",
              "0                          True                      False   \n",
              "1                          True                      False   \n",
              "2                         False                      False   \n",
              "3                         False                       True   \n",
              "4                         False                      False   \n",
              "...                         ...                        ...   \n",
              "4995                      False                      False   \n",
              "4996                      False                      False   \n",
              "4997                       True                      False   \n",
              "4998                       True                      False   \n",
              "4999                       True                      False   \n",
              "\n",
              "      EGFR mutation Detection_99  \n",
              "0                          False  \n",
              "1                          False  \n",
              "2                           True  \n",
              "3                          False  \n",
              "4                           True  \n",
              "...                          ...  \n",
              "4995                        True  \n",
              "4996                        True  \n",
              "4997                       False  \n",
              "4998                       False  \n",
              "4999                       False  \n",
              "\n",
              "[5000 rows x 39 columns]"
            ]
          },
          "execution_count": 6,
          "metadata": {},
          "output_type": "execute_result"
        }
      ],
      "source": [
        "test"
      ]
    },
    {
      "cell_type": "markdown",
      "metadata": {
        "id": "EW6HaN6pK61Y"
      },
      "source": [
        "### Experiment"
      ]
    },
    {
      "cell_type": "code",
      "execution_count": null,
      "metadata": {
        "id": "_Qf0-3VHK61Y"
      },
      "outputs": [],
      "source": [
        "X_raw = train.drop(columns=['Death'])\n",
        "y_raw = train.loc[:,'Death']\n",
        "X_train_not_scaled, X_test_not_scaled, y_train_not_scaled, y_test_not_scaled = train_test_split(X_raw, y_raw, test_size=0.2, random_state=42,stratify=y_raw)"
      ]
    },
    {
      "cell_type": "markdown",
      "metadata": {
        "id": "RZZ-42yVK61Y"
      },
      "source": [
        "#### Not scaled"
      ]
    },
    {
      "cell_type": "markdown",
      "metadata": {
        "id": "nqjLbHzfK61Y"
      },
      "source": [
        "##### XGBoost"
      ]
    },
    {
      "cell_type": "code",
      "execution_count": null,
      "metadata": {
        "id": "ssV6KCtuK61Y",
        "outputId": "bda524f2-99b9-4f5c-bbe6-37c6d24f6110"
      },
      "outputs": [
        {
          "name": "stdout",
          "output_type": "stream",
          "text": [
            "Accuracy: 0.765\n"
          ]
        },
        {
          "data": {
            "text/plain": [
              "Counter({0: 1929, 1: 71})"
            ]
          },
          "execution_count": 77,
          "metadata": {},
          "output_type": "execute_result"
        }
      ],
      "source": [
        "dtrain_not_scaled = xgb.DMatrix(X_train_not_scaled, label=y_train_not_scaled)\n",
        "dtest_not_scaled = xgb.DMatrix(X_test_not_scaled, label=y_test_not_scaled)\n",
        "\n",
        "# params = {\n",
        "#     'max_depth': 6,\n",
        "#     'eta': 0.3,\n",
        "#     'objective': 'binary:logistic',\n",
        "#     'eval_metric': 'error'\n",
        "# }\n",
        "params = {\n",
        "           'learning_rate': 0.1,\n",
        "           'max_depth': 10,\n",
        "           'min_child_weight': 3,\n",
        "           'subsample': 0.9,\n",
        "           'validate_parameters': 1,\n",
        "           'scale_pos_weight': 1,\n",
        "           'colsample_bytree': 0.7,\n",
        "           }\n",
        "\n",
        "\n",
        "num_rounds = 2000\n",
        "model_not_scaled = xgb.train(params, dtrain_not_scaled, num_rounds)\n",
        "\n",
        "preds = model_not_scaled.predict(dtest_not_scaled)\n",
        "pred_labels_not_scaled = [round(pred) for pred in preds]\n",
        "\n",
        "accuracy_not_scaled = accuracy_score(y_test_not_scaled, pred_labels_not_scaled)\n",
        "print(\"Accuracy:\", accuracy_not_scaled)\n",
        "Counter(pred_labels_not_scaled)\n"
      ]
    },
    {
      "cell_type": "markdown",
      "metadata": {
        "id": "XN9HeRemK61Y"
      },
      "source": [
        "###### XGBoost with GridSearch"
      ]
    },
    {
      "cell_type": "code",
      "execution_count": null,
      "metadata": {
        "id": "ifiMMtbsK61Y",
        "outputId": "0ac31f61-223e-4cea-a22a-aa30dee4e2e6"
      },
      "outputs": [
        {
          "ename": "NameError",
          "evalue": "name 'params' is not defined",
          "output_type": "error",
          "traceback": [
            "\u001b[1;31m---------------------------------------------------------------------------\u001b[0m",
            "\u001b[1;31mNameError\u001b[0m                                 Traceback (most recent call last)",
            "Cell \u001b[1;32mIn[8], line 23\u001b[0m\n\u001b[0;32m     10\u001b[0m param \u001b[38;5;241m=\u001b[39m {\n\u001b[0;32m     11\u001b[0m            \u001b[38;5;124m'\u001b[39m\u001b[38;5;124mlearning_rate\u001b[39m\u001b[38;5;124m'\u001b[39m: \u001b[38;5;241m0.1\u001b[39m, \n\u001b[0;32m     12\u001b[0m            \u001b[38;5;124m'\u001b[39m\u001b[38;5;124mmax_depth\u001b[39m\u001b[38;5;124m'\u001b[39m: \u001b[38;5;241m2000\u001b[39m, \n\u001b[1;32m   (...)\u001b[0m\n\u001b[0;32m     18\u001b[0m            \u001b[38;5;124m'\u001b[39m\u001b[38;5;124mcolsample_bytree\u001b[39m\u001b[38;5;124m'\u001b[39m: \u001b[38;5;241m0.6\u001b[39m,\n\u001b[0;32m     19\u001b[0m            }\n\u001b[0;32m     22\u001b[0m num_rounds \u001b[38;5;241m=\u001b[39m \u001b[38;5;241m20000\u001b[39m\n\u001b[1;32m---> 23\u001b[0m model_not_scaled \u001b[38;5;241m=\u001b[39m xgb\u001b[38;5;241m.\u001b[39mtrain(params, dtrain_not_scaled, num_rounds)\n\u001b[0;32m     25\u001b[0m preds \u001b[38;5;241m=\u001b[39m model_not_scaled\u001b[38;5;241m.\u001b[39mpredict(dtest_not_scaled)\n\u001b[0;32m     26\u001b[0m pred_labels_not_scaled \u001b[38;5;241m=\u001b[39m [\u001b[38;5;28mround\u001b[39m(pred) \u001b[38;5;28;01mfor\u001b[39;00m pred \u001b[38;5;129;01min\u001b[39;00m preds]\n",
            "\u001b[1;31mNameError\u001b[0m: name 'params' is not defined"
          ]
        }
      ],
      "source": [
        "dtrain_not_scaled = xgb.DMatrix(X_train_not_scaled, label=y_train_not_scaled)\n",
        "dtest_not_scaled = xgb.DMatrix(X_test_not_scaled, label=y_test_not_scaled)\n",
        "\n",
        "# params = {\n",
        "#     'max_depth': 6,\n",
        "#     'eta': 0.3,\n",
        "#     'objective': 'binary:logistic',\n",
        "#     'eval_metric': 'error'\n",
        "# }\n",
        "param = {\n",
        "           'learning_rate': 0.1,\n",
        "           'max_depth': 2000,\n",
        "           'min_child_weight': 3,\n",
        "           'gamma': 0.1,\n",
        "           'subsample': 0.9,\n",
        "           'validate_parameters': 1,\n",
        "           'scale_pos_weight': 1,\n",
        "           'colsample_bytree': 0.6,\n",
        "           }\n",
        "\n",
        "\n",
        "num_rounds = 20000\n",
        "model_not_scaled = xgb.train(params, dtrain_not_scaled, num_rounds)\n",
        "\n",
        "preds = model_not_scaled.predict(dtest_not_scaled)\n",
        "pred_labels_not_scaled = [round(pred) for pred in preds]\n",
        "\n",
        "accuracy_not_scaled = accuracy_score(y_test_not_scaled, pred_labels_not_scaled)\n",
        "print(\"Accuracy:\", accuracy_not_scaled)\n",
        "Counter(pred_labels_not_scaled)\n"
      ]
    },
    {
      "cell_type": "markdown",
      "metadata": {
        "id": "aEqEJS9lK61Z"
      },
      "source": [
        "##### SVM"
      ]
    },
    {
      "cell_type": "code",
      "execution_count": null,
      "metadata": {
        "id": "T9R_3LBPK61Z",
        "outputId": "75690b4e-da44-477a-802f-38281a4c3c6f"
      },
      "outputs": [
        {
          "name": "stdout",
          "output_type": "stream",
          "text": [
            "0.7895\n"
          ]
        },
        {
          "data": {
            "text/plain": [
              "Counter({0: 2000})"
            ]
          },
          "execution_count": 14,
          "metadata": {},
          "output_type": "execute_result"
        }
      ],
      "source": [
        "SVM_not_scaled = SVC()\n",
        "SVM_not_scaled.fit(X_train_not_scaled,y_train_not_scaled)\n",
        "print(SVM_not_scaled.score(X_test_not_scaled, y_test_not_scaled))\n",
        "Counter(SVM_not_scaled.predict(X_test_not_scaled))"
      ]
    },
    {
      "cell_type": "markdown",
      "metadata": {
        "id": "U0krjbFDK61Z"
      },
      "source": [
        "#### Scaled"
      ]
    },
    {
      "cell_type": "code",
      "execution_count": 3,
      "metadata": {
        "id": "Bm8EDFU3K61Z"
      },
      "outputs": [],
      "source": [
        "bool_col_train = []\n",
        "nume_col_train = []\n",
        "bool_col_test = []\n",
        "nume_col_test = []\n",
        "\n",
        "for col in train.drop(columns=['Death']).columns:\n",
        "    unique_values = train[col].unique()\n",
        "    if len(unique_values) == 2 and all(value in [0, 1] for value in unique_values):\n",
        "        bool_col_train.append(col)\n",
        "    else:\n",
        "        nume_col_train.append(col)\n",
        "\n",
        "for col in test.columns:\n",
        "    unique_values = test[col].unique()\n",
        "    if len(unique_values) == 2 and all(value in [0, 1] for value in unique_values):\n",
        "        bool_col_test.append(col)\n",
        "    else:\n",
        "        nume_col_test.append(col)\n"
      ]
    },
    {
      "cell_type": "code",
      "execution_count": 4,
      "metadata": {
        "colab": {
          "base_uri": "https://localhost:8080/"
        },
        "id": "34EhnSkzK61Z",
        "outputId": "1c315540-a29b-4c5a-b754-83524e3f124d"
      },
      "outputs": [
        {
          "output_type": "execute_result",
          "data": {
            "text/plain": [
              "(['AGE',\n",
              "  'Type of Drink',\n",
              "  'Smoke',\n",
              "  'Height',\n",
              "  'Weight',\n",
              "  'FEV1_FVC_P',\n",
              "  'DLCO_VA_P',\n",
              "  'EGFR mutation Detection',\n",
              "  'Survival period'],\n",
              " ['Adenocarcinoma',\n",
              "  'Large cell carcinoma',\n",
              "  'Squamous cell carcinoma',\n",
              "  'TX',\n",
              "  'T0',\n",
              "  'T1',\n",
              "  'T1a',\n",
              "  'T1b',\n",
              "  'T1c',\n",
              "  'T2',\n",
              "  'T2a',\n",
              "  'T2b',\n",
              "  'T3',\n",
              "  'T4',\n",
              "  'N1',\n",
              "  'N2',\n",
              "  'N3',\n",
              "  'M1a',\n",
              "  'M1b',\n",
              "  'M1c',\n",
              "  'Operation',\n",
              "  'Chemotherapy',\n",
              "  'Radiation Therapy'])"
            ]
          },
          "metadata": {},
          "execution_count": 4
        }
      ],
      "source": [
        "nume_col_train, bool_col_train"
      ]
    },
    {
      "cell_type": "code",
      "execution_count": 6,
      "metadata": {
        "id": "oroim531K61Z"
      },
      "outputs": [],
      "source": [
        "train_copy = train.copy()\n",
        "test_copy = test.copy()"
      ]
    },
    {
      "cell_type": "code",
      "execution_count": 7,
      "metadata": {
        "id": "poPtbIr4K61Z"
      },
      "outputs": [],
      "source": [
        "scaler = MinMaxScaler()\n",
        "for col in nume_col_train:\n",
        "    npy = train[col].to_numpy().reshape(-1,1)\n",
        "    normalized_data = scaler.fit_transform(npy)\n",
        "    train_copy[col] = normalized_data\n",
        "\n",
        "for col in nume_col_test:\n",
        "    npy = test[col].to_numpy().reshape(-1,1)\n",
        "    normalized_data = scaler.fit_transform(npy)\n",
        "    test_copy[col] = normalized_data\n"
      ]
    },
    {
      "cell_type": "code",
      "execution_count": 9,
      "metadata": {
        "colab": {
          "base_uri": "https://localhost:8080/"
        },
        "id": "0sHvl2S9K61Z",
        "outputId": "4d75db76-5324-45c8-cf64-de6181284b4e"
      },
      "outputs": [
        {
          "output_type": "execute_result",
          "data": {
            "text/plain": [
              "Index(['AGE', 'Adenocarcinoma', 'Large cell carcinoma',\n",
              "       'Squamous cell carcinoma', 'TX', 'T0', 'T1', 'T1a', 'T1b', 'T1c', 'T2',\n",
              "       'T2a', 'T2b', 'T3', 'T4', 'N1', 'N2', 'N3', 'M1a', 'M1b', 'M1c',\n",
              "       'Type of Drink', 'Smoke', 'Height', 'Weight', 'FEV1_FVC_P', 'DLCO_VA_P',\n",
              "       'EGFR mutation Detection', 'Operation', 'Chemotherapy',\n",
              "       'Radiation Therapy', 'Survival period', 'Death'],\n",
              "      dtype='object')"
            ]
          },
          "metadata": {},
          "execution_count": 9
        }
      ],
      "source": [
        "train_copy.columns"
      ]
    },
    {
      "cell_type": "code",
      "execution_count": 10,
      "metadata": {
        "colab": {
          "base_uri": "https://localhost:8080/"
        },
        "id": "4bxme38oK61Z",
        "outputId": "7105ef09-23ba-4c8b-f7ed-0f11154f9fcc"
      },
      "outputs": [
        {
          "output_type": "execute_result",
          "data": {
            "text/plain": [
              "Index(['AGE', 'Adenocarcinoma', 'Large cell carcinoma',\n",
              "       'Squamous cell carcinoma', 'TX', 'T0', 'T1', 'T1a', 'T1b', 'T1c', 'T2',\n",
              "       'T2a', 'T2b', 'T3', 'T4', 'N1', 'N2', 'N3', 'M1a', 'M1b', 'M1c',\n",
              "       'Type of Drink', 'Smoke', 'Height', 'Weight', 'FEV1_FVC_P', 'DLCO_VA_P',\n",
              "       'EGFR mutation Detection', 'Operation', 'Chemotherapy',\n",
              "       'Radiation Therapy', 'Survival period'],\n",
              "      dtype='object')"
            ]
          },
          "metadata": {},
          "execution_count": 10
        }
      ],
      "source": [
        "test_copy.columns"
      ]
    },
    {
      "cell_type": "code",
      "execution_count": 8,
      "metadata": {
        "id": "Qocre-vHK61Z"
      },
      "outputs": [],
      "source": [
        "X_preprocessed = train_copy.drop(columns=['Death'])\n",
        "y_preprocessed = train_copy.loc[:,'Death']\n",
        "\n",
        "X_train_scaled, X_test_scaled, y_train_scaled, y_test_scaled = train_test_split(X_preprocessed, y_preprocessed, test_size=0.2, random_state=42,stratify=y_preprocessed)"
      ]
    },
    {
      "cell_type": "markdown",
      "metadata": {
        "id": "86mvyZtqK61a"
      },
      "source": [
        "##### XGBoost"
      ]
    },
    {
      "cell_type": "code",
      "execution_count": null,
      "metadata": {
        "id": "54HJOXQ2K61a",
        "outputId": "a0c3070c-5dc9-428f-a90a-c299bc67c66c"
      },
      "outputs": [
        {
          "name": "stdout",
          "output_type": "stream",
          "text": [
            "Accuracy: 0.7655\n"
          ]
        },
        {
          "data": {
            "text/plain": [
              "Counter({0: 1928, 1: 72})"
            ]
          },
          "execution_count": 56,
          "metadata": {},
          "output_type": "execute_result"
        }
      ],
      "source": [
        "dtrain_scaled = xgb.DMatrix(X_train_scaled, label=y_train_scaled)\n",
        "dtest_scaled = xgb.DMatrix(X_test_scaled, label=y_test_scaled)\n",
        "\n",
        "params = {\n",
        "    'max_depth': 6,  # 트리의 최대 깊이\n",
        "    'eta': 0.3,  # 학습률\n",
        "    'objective': 'binary:logistic',\n",
        "    'eval_metric': 'error'  # 평가 지표 설정\n",
        "}\n",
        "\n",
        "# params = {'colsample_bytree': 0.7, 'gamma': 0, 'learning_rate': 0.1, 'max_depth': 3, 'min_child_weight': 3, 'subsample': 0.9}\n",
        "\n",
        "num_rounds = 100\n",
        "model_scaled = xgb.train(params, dtrain_scaled, num_rounds)\n",
        "\n",
        "preds = model_scaled.predict(dtest_scaled)\n",
        "pred_labels_scaled = [round(pred) for pred in preds]\n",
        "\n",
        "accuracy_scaled = accuracy_score(y_test_scaled, pred_labels_scaled)\n",
        "print(\"Accuracy:\", accuracy_scaled)\n",
        "Counter(pred_labels_scaled)\n"
      ]
    },
    {
      "cell_type": "markdown",
      "metadata": {
        "id": "9Kyhvi4gK61a"
      },
      "source": [
        "##### SVM"
      ]
    },
    {
      "cell_type": "code",
      "execution_count": null,
      "metadata": {
        "id": "GzUe20x9K61a",
        "outputId": "534f23a8-ffe2-48be-ead2-db3427397b9d"
      },
      "outputs": [
        {
          "name": "stdout",
          "output_type": "stream",
          "text": [
            "0.7895\n"
          ]
        },
        {
          "data": {
            "text/plain": [
              "Counter({0: 2000})"
            ]
          },
          "execution_count": 27,
          "metadata": {},
          "output_type": "execute_result"
        }
      ],
      "source": [
        "SVM_scaled = SVC()\n",
        "SVM_scaled.fit(X_train_scaled,y_train_scaled)\n",
        "print(SVM_scaled.score(X_test_scaled, y_test_scaled))\n",
        "Counter(SVM_scaled.predict(X_test_scaled))"
      ]
    },
    {
      "cell_type": "markdown",
      "metadata": {
        "id": "mDy3ueZPK61a"
      },
      "source": [
        "##### MLP"
      ]
    },
    {
      "cell_type": "code",
      "execution_count": 63,
      "metadata": {
        "id": "WYc_rEzyK61a"
      },
      "outputs": [],
      "source": [
        "from sklearn.neural_network import MLPClassifier\n",
        "mlp = MLPClassifier(hidden_layer_sizes=(100,), activation='logistic',solver='sgd', batch_size=64,\n",
        "                   learning_rate_init=0.001, max_iter=50)"
      ]
    },
    {
      "cell_type": "code",
      "execution_count": 64,
      "metadata": {
        "colab": {
          "base_uri": "https://localhost:8080/",
          "height": 75
        },
        "id": "4M3hpz1QK61a",
        "outputId": "b2e355bf-86a4-42ea-e9dd-03183e31a1ab"
      },
      "outputs": [
        {
          "output_type": "execute_result",
          "data": {
            "text/plain": [
              "MLPClassifier(activation='logistic', batch_size=64, max_iter=50, solver='sgd')"
            ],
            "text/html": [
              "<style>#sk-container-id-6 {color: black;background-color: white;}#sk-container-id-6 pre{padding: 0;}#sk-container-id-6 div.sk-toggleable {background-color: white;}#sk-container-id-6 label.sk-toggleable__label {cursor: pointer;display: block;width: 100%;margin-bottom: 0;padding: 0.3em;box-sizing: border-box;text-align: center;}#sk-container-id-6 label.sk-toggleable__label-arrow:before {content: \"▸\";float: left;margin-right: 0.25em;color: #696969;}#sk-container-id-6 label.sk-toggleable__label-arrow:hover:before {color: black;}#sk-container-id-6 div.sk-estimator:hover label.sk-toggleable__label-arrow:before {color: black;}#sk-container-id-6 div.sk-toggleable__content {max-height: 0;max-width: 0;overflow: hidden;text-align: left;background-color: #f0f8ff;}#sk-container-id-6 div.sk-toggleable__content pre {margin: 0.2em;color: black;border-radius: 0.25em;background-color: #f0f8ff;}#sk-container-id-6 input.sk-toggleable__control:checked~div.sk-toggleable__content {max-height: 200px;max-width: 100%;overflow: auto;}#sk-container-id-6 input.sk-toggleable__control:checked~label.sk-toggleable__label-arrow:before {content: \"▾\";}#sk-container-id-6 div.sk-estimator input.sk-toggleable__control:checked~label.sk-toggleable__label {background-color: #d4ebff;}#sk-container-id-6 div.sk-label input.sk-toggleable__control:checked~label.sk-toggleable__label {background-color: #d4ebff;}#sk-container-id-6 input.sk-hidden--visually {border: 0;clip: rect(1px 1px 1px 1px);clip: rect(1px, 1px, 1px, 1px);height: 1px;margin: -1px;overflow: hidden;padding: 0;position: absolute;width: 1px;}#sk-container-id-6 div.sk-estimator {font-family: monospace;background-color: #f0f8ff;border: 1px dotted black;border-radius: 0.25em;box-sizing: border-box;margin-bottom: 0.5em;}#sk-container-id-6 div.sk-estimator:hover {background-color: #d4ebff;}#sk-container-id-6 div.sk-parallel-item::after {content: \"\";width: 100%;border-bottom: 1px solid gray;flex-grow: 1;}#sk-container-id-6 div.sk-label:hover label.sk-toggleable__label {background-color: #d4ebff;}#sk-container-id-6 div.sk-serial::before {content: \"\";position: absolute;border-left: 1px solid gray;box-sizing: border-box;top: 0;bottom: 0;left: 50%;z-index: 0;}#sk-container-id-6 div.sk-serial {display: flex;flex-direction: column;align-items: center;background-color: white;padding-right: 0.2em;padding-left: 0.2em;position: relative;}#sk-container-id-6 div.sk-item {position: relative;z-index: 1;}#sk-container-id-6 div.sk-parallel {display: flex;align-items: stretch;justify-content: center;background-color: white;position: relative;}#sk-container-id-6 div.sk-item::before, #sk-container-id-6 div.sk-parallel-item::before {content: \"\";position: absolute;border-left: 1px solid gray;box-sizing: border-box;top: 0;bottom: 0;left: 50%;z-index: -1;}#sk-container-id-6 div.sk-parallel-item {display: flex;flex-direction: column;z-index: 1;position: relative;background-color: white;}#sk-container-id-6 div.sk-parallel-item:first-child::after {align-self: flex-end;width: 50%;}#sk-container-id-6 div.sk-parallel-item:last-child::after {align-self: flex-start;width: 50%;}#sk-container-id-6 div.sk-parallel-item:only-child::after {width: 0;}#sk-container-id-6 div.sk-dashed-wrapped {border: 1px dashed gray;margin: 0 0.4em 0.5em 0.4em;box-sizing: border-box;padding-bottom: 0.4em;background-color: white;}#sk-container-id-6 div.sk-label label {font-family: monospace;font-weight: bold;display: inline-block;line-height: 1.2em;}#sk-container-id-6 div.sk-label-container {text-align: center;}#sk-container-id-6 div.sk-container {/* jupyter's `normalize.less` sets `[hidden] { display: none; }` but bootstrap.min.css set `[hidden] { display: none !important; }` so we also need the `!important` here to be able to override the default hidden behavior on the sphinx rendered scikit-learn.org. See: https://github.com/scikit-learn/scikit-learn/issues/21755 */display: inline-block !important;position: relative;}#sk-container-id-6 div.sk-text-repr-fallback {display: none;}</style><div id=\"sk-container-id-6\" class=\"sk-top-container\"><div class=\"sk-text-repr-fallback\"><pre>MLPClassifier(activation=&#x27;logistic&#x27;, batch_size=64, max_iter=50, solver=&#x27;sgd&#x27;)</pre><b>In a Jupyter environment, please rerun this cell to show the HTML representation or trust the notebook. <br />On GitHub, the HTML representation is unable to render, please try loading this page with nbviewer.org.</b></div><div class=\"sk-container\" hidden><div class=\"sk-item\"><div class=\"sk-estimator sk-toggleable\"><input class=\"sk-toggleable__control sk-hidden--visually\" id=\"sk-estimator-id-6\" type=\"checkbox\" checked><label for=\"sk-estimator-id-6\" class=\"sk-toggleable__label sk-toggleable__label-arrow\">MLPClassifier</label><div class=\"sk-toggleable__content\"><pre>MLPClassifier(activation=&#x27;logistic&#x27;, batch_size=64, max_iter=50, solver=&#x27;sgd&#x27;)</pre></div></div></div></div></div>"
            ]
          },
          "metadata": {},
          "execution_count": 64
        }
      ],
      "source": [
        "mlp.fit(X_train_scaled,y_train_scaled)"
      ]
    },
    {
      "cell_type": "code",
      "execution_count": 65,
      "metadata": {
        "colab": {
          "base_uri": "https://localhost:8080/"
        },
        "id": "E3Jy6dsOK61a",
        "outputId": "a48b53d1-f3f2-4245-eafa-c759b3897cb3"
      },
      "outputs": [
        {
          "output_type": "execute_result",
          "data": {
            "text/plain": [
              "0.7895"
            ]
          },
          "metadata": {},
          "execution_count": 65
        }
      ],
      "source": [
        "mlp.score(X_test_scaled, y_test_scaled)"
      ]
    },
    {
      "cell_type": "code",
      "execution_count": 66,
      "metadata": {
        "colab": {
          "base_uri": "https://localhost:8080/"
        },
        "id": "-y4yKlXRK61b",
        "outputId": "bad96a80-c3a1-4ad6-e74a-8a423ef085f5"
      },
      "outputs": [
        {
          "output_type": "execute_result",
          "data": {
            "text/plain": [
              "{0}"
            ]
          },
          "metadata": {},
          "execution_count": 66
        }
      ],
      "source": [
        "set(mlp.predict(X_test_scaled))"
      ]
    },
    {
      "cell_type": "code",
      "execution_count": null,
      "metadata": {
        "id": "zYZGeROZK61b",
        "outputId": "8ab4c75a-64b9-4c9a-f681-215f9f9188eb"
      },
      "outputs": [
        {
          "data": {
            "text/plain": [
              "Counter({0: 1579, 1: 421})"
            ]
          },
          "execution_count": 31,
          "metadata": {},
          "output_type": "execute_result"
        }
      ],
      "source": [
        "Counter(y_test_scaled)"
      ]
    },
    {
      "cell_type": "markdown",
      "metadata": {
        "id": "_ixhmCQ6K61b"
      },
      "source": [
        "##### torch"
      ]
    },
    {
      "cell_type": "code",
      "execution_count": 31,
      "metadata": {
        "id": "LIbCI9HBK61b"
      },
      "outputs": [],
      "source": [
        "import torch\n",
        "import numpy as np"
      ]
    },
    {
      "cell_type": "code",
      "execution_count": 40,
      "metadata": {
        "id": "hHJr-YquK61b"
      },
      "outputs": [],
      "source": [
        "X_preprocessed = train_copy.drop(columns=['Death'])\n",
        "y_preprocessed = train_copy.loc[:,'Death']\n",
        "\n",
        "X_train_scaled, X_test_scaled, y_train_scaled, y_test_scaled = train_test_split(X_preprocessed, y_preprocessed, test_size=0.2, random_state=42,stratify=y_preprocessed)"
      ]
    },
    {
      "cell_type": "code",
      "execution_count": 68,
      "metadata": {
        "id": "BWND1oujK61b"
      },
      "outputs": [],
      "source": [
        "X_train_scaled = X_train_scaled.astype(np.float32)\n",
        "X_test_scaled = X_test_scaled.astype(np.float32)"
      ]
    },
    {
      "cell_type": "code",
      "execution_count": 69,
      "metadata": {
        "id": "17dzGSKwK61e"
      },
      "outputs": [],
      "source": [
        "X_train_scaled = torch.tensor(X_train_scaled.values, dtype=torch.float32)\n",
        "X_test_scaled = torch.tensor(X_test_scaled.values, dtype=torch.float32)\n",
        "y_train_scaled = torch.tensor(y_train_scaled.values, dtype=torch.long)\n",
        "y_test_scaled = torch.tensor(y_test_scaled.values, dtype=torch.long)"
      ]
    },
    {
      "cell_type": "code",
      "execution_count": 70,
      "metadata": {
        "id": "aUByWeA8K61e"
      },
      "outputs": [],
      "source": [
        "device = torch.device('cuda' if torch.cuda.is_available() else 'cpu')\n",
        "X_train_scaled = X_train_scaled.to(device)\n",
        "X_test_scaled = X_test_scaled.to(device)\n",
        "y_train_scaled = y_train_scaled.to(device)\n",
        "y_test_scaled = y_test_scaled.to(device)"
      ]
    },
    {
      "cell_type": "code",
      "execution_count": 71,
      "metadata": {
        "colab": {
          "base_uri": "https://localhost:8080/"
        },
        "id": "Uryt_nS8K61e",
        "outputId": "7fa2043b-b762-4ddc-df33-d55c9bda907d"
      },
      "outputs": [
        {
          "output_type": "execute_result",
          "data": {
            "text/plain": [
              "device(type='cuda')"
            ]
          },
          "metadata": {},
          "execution_count": 71
        }
      ],
      "source": [
        "device"
      ]
    },
    {
      "cell_type": "code",
      "execution_count": 37,
      "metadata": {
        "colab": {
          "base_uri": "https://localhost:8080/",
          "height": 373
        },
        "id": "zLa-o1ufK61e",
        "outputId": "b65fade2-5708-4b5f-b285-3c452b54a64a"
      },
      "outputs": [
        {
          "output_type": "stream",
          "name": "stdout",
          "text": [
            "Best Parameters: ((100,), 0.001, 64, 50)\n",
            "Best Accuracy: 0.7870000600814819\n"
          ]
        },
        {
          "output_type": "error",
          "ename": "TypeError",
          "evalue": "can't convert cuda:0 device type tensor to numpy. Use Tensor.cpu() to copy the tensor to host memory first.",
          "traceback": [
            "\u001b[0;31m---------------------------------------------------------------------------\u001b[0m",
            "\u001b[0;31mTypeError\u001b[0m                                 Traceback (most recent call last)",
            "\u001b[0;32m<ipython-input-37-ec36d6015eac>\u001b[0m in \u001b[0;36m<cell line: 73>\u001b[0;34m()\u001b[0m\n\u001b[1;32m     74\u001b[0m     \u001b[0moutputs\u001b[0m \u001b[0;34m=\u001b[0m \u001b[0mbest_model\u001b[0m\u001b[0;34m(\u001b[0m\u001b[0mX_test_scaled\u001b[0m\u001b[0;34m)\u001b[0m\u001b[0;34m\u001b[0m\u001b[0;34m\u001b[0m\u001b[0m\n\u001b[1;32m     75\u001b[0m     \u001b[0m_\u001b[0m\u001b[0;34m,\u001b[0m \u001b[0mpredicted\u001b[0m \u001b[0;34m=\u001b[0m \u001b[0mtorch\u001b[0m\u001b[0;34m.\u001b[0m\u001b[0mmax\u001b[0m\u001b[0;34m(\u001b[0m\u001b[0moutputs\u001b[0m\u001b[0;34m,\u001b[0m \u001b[0;36m1\u001b[0m\u001b[0;34m)\u001b[0m\u001b[0;34m\u001b[0m\u001b[0;34m\u001b[0m\u001b[0m\n\u001b[0;32m---> 76\u001b[0;31m     \u001b[0mprint\u001b[0m\u001b[0;34m(\u001b[0m\u001b[0mclassification_report\u001b[0m\u001b[0;34m(\u001b[0m\u001b[0my_test_scaled\u001b[0m\u001b[0;34m,\u001b[0m \u001b[0mpredicted\u001b[0m\u001b[0;34m)\u001b[0m\u001b[0;34m)\u001b[0m\u001b[0;34m\u001b[0m\u001b[0;34m\u001b[0m\u001b[0m\n\u001b[0m",
            "\u001b[0;32m/usr/local/lib/python3.10/dist-packages/sklearn/metrics/_classification.py\u001b[0m in \u001b[0;36mclassification_report\u001b[0;34m(y_true, y_pred, labels, target_names, sample_weight, digits, output_dict, zero_division)\u001b[0m\n\u001b[1;32m   2308\u001b[0m     \"\"\"\n\u001b[1;32m   2309\u001b[0m \u001b[0;34m\u001b[0m\u001b[0m\n\u001b[0;32m-> 2310\u001b[0;31m     \u001b[0my_type\u001b[0m\u001b[0;34m,\u001b[0m \u001b[0my_true\u001b[0m\u001b[0;34m,\u001b[0m \u001b[0my_pred\u001b[0m \u001b[0;34m=\u001b[0m \u001b[0m_check_targets\u001b[0m\u001b[0;34m(\u001b[0m\u001b[0my_true\u001b[0m\u001b[0;34m,\u001b[0m \u001b[0my_pred\u001b[0m\u001b[0;34m)\u001b[0m\u001b[0;34m\u001b[0m\u001b[0;34m\u001b[0m\u001b[0m\n\u001b[0m\u001b[1;32m   2311\u001b[0m \u001b[0;34m\u001b[0m\u001b[0m\n\u001b[1;32m   2312\u001b[0m     \u001b[0;32mif\u001b[0m \u001b[0mlabels\u001b[0m \u001b[0;32mis\u001b[0m \u001b[0;32mNone\u001b[0m\u001b[0;34m:\u001b[0m\u001b[0;34m\u001b[0m\u001b[0;34m\u001b[0m\u001b[0m\n",
            "\u001b[0;32m/usr/local/lib/python3.10/dist-packages/sklearn/metrics/_classification.py\u001b[0m in \u001b[0;36m_check_targets\u001b[0;34m(y_true, y_pred)\u001b[0m\n\u001b[1;32m     85\u001b[0m     \"\"\"\n\u001b[1;32m     86\u001b[0m     \u001b[0mcheck_consistent_length\u001b[0m\u001b[0;34m(\u001b[0m\u001b[0my_true\u001b[0m\u001b[0;34m,\u001b[0m \u001b[0my_pred\u001b[0m\u001b[0;34m)\u001b[0m\u001b[0;34m\u001b[0m\u001b[0;34m\u001b[0m\u001b[0m\n\u001b[0;32m---> 87\u001b[0;31m     \u001b[0mtype_true\u001b[0m \u001b[0;34m=\u001b[0m \u001b[0mtype_of_target\u001b[0m\u001b[0;34m(\u001b[0m\u001b[0my_true\u001b[0m\u001b[0;34m,\u001b[0m \u001b[0minput_name\u001b[0m\u001b[0;34m=\u001b[0m\u001b[0;34m\"y_true\"\u001b[0m\u001b[0;34m)\u001b[0m\u001b[0;34m\u001b[0m\u001b[0;34m\u001b[0m\u001b[0m\n\u001b[0m\u001b[1;32m     88\u001b[0m     \u001b[0mtype_pred\u001b[0m \u001b[0;34m=\u001b[0m \u001b[0mtype_of_target\u001b[0m\u001b[0;34m(\u001b[0m\u001b[0my_pred\u001b[0m\u001b[0;34m,\u001b[0m \u001b[0minput_name\u001b[0m\u001b[0;34m=\u001b[0m\u001b[0;34m\"y_pred\"\u001b[0m\u001b[0;34m)\u001b[0m\u001b[0;34m\u001b[0m\u001b[0;34m\u001b[0m\u001b[0m\n\u001b[1;32m     89\u001b[0m \u001b[0;34m\u001b[0m\u001b[0m\n",
            "\u001b[0;32m/usr/local/lib/python3.10/dist-packages/sklearn/utils/multiclass.py\u001b[0m in \u001b[0;36mtype_of_target\u001b[0;34m(y, input_name)\u001b[0m\n\u001b[1;32m    307\u001b[0m         \u001b[0;32mraise\u001b[0m \u001b[0mValueError\u001b[0m\u001b[0;34m(\u001b[0m\u001b[0;34m\"y cannot be class 'SparseSeries' or 'SparseArray'\"\u001b[0m\u001b[0;34m)\u001b[0m\u001b[0;34m\u001b[0m\u001b[0;34m\u001b[0m\u001b[0m\n\u001b[1;32m    308\u001b[0m \u001b[0;34m\u001b[0m\u001b[0m\n\u001b[0;32m--> 309\u001b[0;31m     \u001b[0;32mif\u001b[0m \u001b[0mis_multilabel\u001b[0m\u001b[0;34m(\u001b[0m\u001b[0my\u001b[0m\u001b[0;34m)\u001b[0m\u001b[0;34m:\u001b[0m\u001b[0;34m\u001b[0m\u001b[0;34m\u001b[0m\u001b[0m\n\u001b[0m\u001b[1;32m    310\u001b[0m         \u001b[0;32mreturn\u001b[0m \u001b[0;34m\"multilabel-indicator\"\u001b[0m\u001b[0;34m\u001b[0m\u001b[0;34m\u001b[0m\u001b[0m\n\u001b[1;32m    311\u001b[0m \u001b[0;34m\u001b[0m\u001b[0m\n",
            "\u001b[0;32m/usr/local/lib/python3.10/dist-packages/sklearn/utils/multiclass.py\u001b[0m in \u001b[0;36mis_multilabel\u001b[0;34m(y)\u001b[0m\n\u001b[1;32m    167\u001b[0m             \u001b[0mwarnings\u001b[0m\u001b[0;34m.\u001b[0m\u001b[0msimplefilter\u001b[0m\u001b[0;34m(\u001b[0m\u001b[0;34m\"error\"\u001b[0m\u001b[0;34m,\u001b[0m \u001b[0mnp\u001b[0m\u001b[0;34m.\u001b[0m\u001b[0mVisibleDeprecationWarning\u001b[0m\u001b[0;34m)\u001b[0m\u001b[0;34m\u001b[0m\u001b[0;34m\u001b[0m\u001b[0m\n\u001b[1;32m    168\u001b[0m             \u001b[0;32mtry\u001b[0m\u001b[0;34m:\u001b[0m\u001b[0;34m\u001b[0m\u001b[0;34m\u001b[0m\u001b[0m\n\u001b[0;32m--> 169\u001b[0;31m                 \u001b[0my\u001b[0m \u001b[0;34m=\u001b[0m \u001b[0mcheck_array\u001b[0m\u001b[0;34m(\u001b[0m\u001b[0my\u001b[0m\u001b[0;34m,\u001b[0m \u001b[0mdtype\u001b[0m\u001b[0;34m=\u001b[0m\u001b[0;32mNone\u001b[0m\u001b[0;34m,\u001b[0m \u001b[0;34m**\u001b[0m\u001b[0mcheck_y_kwargs\u001b[0m\u001b[0;34m)\u001b[0m\u001b[0;34m\u001b[0m\u001b[0;34m\u001b[0m\u001b[0m\n\u001b[0m\u001b[1;32m    170\u001b[0m             \u001b[0;32mexcept\u001b[0m \u001b[0;34m(\u001b[0m\u001b[0mnp\u001b[0m\u001b[0;34m.\u001b[0m\u001b[0mVisibleDeprecationWarning\u001b[0m\u001b[0;34m,\u001b[0m \u001b[0mValueError\u001b[0m\u001b[0;34m)\u001b[0m \u001b[0;32mas\u001b[0m \u001b[0me\u001b[0m\u001b[0;34m:\u001b[0m\u001b[0;34m\u001b[0m\u001b[0;34m\u001b[0m\u001b[0m\n\u001b[1;32m    171\u001b[0m                 \u001b[0;32mif\u001b[0m \u001b[0mstr\u001b[0m\u001b[0;34m(\u001b[0m\u001b[0me\u001b[0m\u001b[0;34m)\u001b[0m\u001b[0;34m.\u001b[0m\u001b[0mstartswith\u001b[0m\u001b[0;34m(\u001b[0m\u001b[0;34m\"Complex data not supported\"\u001b[0m\u001b[0;34m)\u001b[0m\u001b[0;34m:\u001b[0m\u001b[0;34m\u001b[0m\u001b[0;34m\u001b[0m\u001b[0m\n",
            "\u001b[0;32m/usr/local/lib/python3.10/dist-packages/sklearn/utils/validation.py\u001b[0m in \u001b[0;36mcheck_array\u001b[0;34m(array, accept_sparse, accept_large_sparse, dtype, order, copy, force_all_finite, ensure_2d, allow_nd, ensure_min_samples, ensure_min_features, estimator, input_name)\u001b[0m\n\u001b[1;32m    877\u001b[0m                     \u001b[0marray\u001b[0m \u001b[0;34m=\u001b[0m \u001b[0mxp\u001b[0m\u001b[0;34m.\u001b[0m\u001b[0mastype\u001b[0m\u001b[0;34m(\u001b[0m\u001b[0marray\u001b[0m\u001b[0;34m,\u001b[0m \u001b[0mdtype\u001b[0m\u001b[0;34m,\u001b[0m \u001b[0mcopy\u001b[0m\u001b[0;34m=\u001b[0m\u001b[0;32mFalse\u001b[0m\u001b[0;34m)\u001b[0m\u001b[0;34m\u001b[0m\u001b[0;34m\u001b[0m\u001b[0m\n\u001b[1;32m    878\u001b[0m                 \u001b[0;32melse\u001b[0m\u001b[0;34m:\u001b[0m\u001b[0;34m\u001b[0m\u001b[0;34m\u001b[0m\u001b[0m\n\u001b[0;32m--> 879\u001b[0;31m                     \u001b[0marray\u001b[0m \u001b[0;34m=\u001b[0m \u001b[0m_asarray_with_order\u001b[0m\u001b[0;34m(\u001b[0m\u001b[0marray\u001b[0m\u001b[0;34m,\u001b[0m \u001b[0morder\u001b[0m\u001b[0;34m=\u001b[0m\u001b[0morder\u001b[0m\u001b[0;34m,\u001b[0m \u001b[0mdtype\u001b[0m\u001b[0;34m=\u001b[0m\u001b[0mdtype\u001b[0m\u001b[0;34m,\u001b[0m \u001b[0mxp\u001b[0m\u001b[0;34m=\u001b[0m\u001b[0mxp\u001b[0m\u001b[0;34m)\u001b[0m\u001b[0;34m\u001b[0m\u001b[0;34m\u001b[0m\u001b[0m\n\u001b[0m\u001b[1;32m    880\u001b[0m             \u001b[0;32mexcept\u001b[0m \u001b[0mComplexWarning\u001b[0m \u001b[0;32mas\u001b[0m \u001b[0mcomplex_warning\u001b[0m\u001b[0;34m:\u001b[0m\u001b[0;34m\u001b[0m\u001b[0;34m\u001b[0m\u001b[0m\n\u001b[1;32m    881\u001b[0m                 raise ValueError(\n",
            "\u001b[0;32m/usr/local/lib/python3.10/dist-packages/sklearn/utils/_array_api.py\u001b[0m in \u001b[0;36m_asarray_with_order\u001b[0;34m(array, dtype, order, copy, xp)\u001b[0m\n\u001b[1;32m    183\u001b[0m     \u001b[0;32mif\u001b[0m \u001b[0mxp\u001b[0m\u001b[0;34m.\u001b[0m\u001b[0m__name__\u001b[0m \u001b[0;32min\u001b[0m \u001b[0;34m{\u001b[0m\u001b[0;34m\"numpy\"\u001b[0m\u001b[0;34m,\u001b[0m \u001b[0;34m\"numpy.array_api\"\u001b[0m\u001b[0;34m}\u001b[0m\u001b[0;34m:\u001b[0m\u001b[0;34m\u001b[0m\u001b[0;34m\u001b[0m\u001b[0m\n\u001b[1;32m    184\u001b[0m         \u001b[0;31m# Use NumPy API to support order\u001b[0m\u001b[0;34m\u001b[0m\u001b[0;34m\u001b[0m\u001b[0m\n\u001b[0;32m--> 185\u001b[0;31m         \u001b[0marray\u001b[0m \u001b[0;34m=\u001b[0m \u001b[0mnumpy\u001b[0m\u001b[0;34m.\u001b[0m\u001b[0masarray\u001b[0m\u001b[0;34m(\u001b[0m\u001b[0marray\u001b[0m\u001b[0;34m,\u001b[0m \u001b[0morder\u001b[0m\u001b[0;34m=\u001b[0m\u001b[0morder\u001b[0m\u001b[0;34m,\u001b[0m \u001b[0mdtype\u001b[0m\u001b[0;34m=\u001b[0m\u001b[0mdtype\u001b[0m\u001b[0;34m)\u001b[0m\u001b[0;34m\u001b[0m\u001b[0;34m\u001b[0m\u001b[0m\n\u001b[0m\u001b[1;32m    186\u001b[0m         \u001b[0;32mreturn\u001b[0m \u001b[0mxp\u001b[0m\u001b[0;34m.\u001b[0m\u001b[0masarray\u001b[0m\u001b[0;34m(\u001b[0m\u001b[0marray\u001b[0m\u001b[0;34m,\u001b[0m \u001b[0mcopy\u001b[0m\u001b[0;34m=\u001b[0m\u001b[0mcopy\u001b[0m\u001b[0;34m)\u001b[0m\u001b[0;34m\u001b[0m\u001b[0;34m\u001b[0m\u001b[0m\n\u001b[1;32m    187\u001b[0m     \u001b[0;32melse\u001b[0m\u001b[0;34m:\u001b[0m\u001b[0;34m\u001b[0m\u001b[0;34m\u001b[0m\u001b[0m\n",
            "\u001b[0;32m/usr/local/lib/python3.10/dist-packages/torch/_tensor.py\u001b[0m in \u001b[0;36m__array__\u001b[0;34m(self, dtype)\u001b[0m\n\u001b[1;32m   1060\u001b[0m             \u001b[0;32mreturn\u001b[0m \u001b[0mhandle_torch_function\u001b[0m\u001b[0;34m(\u001b[0m\u001b[0mTensor\u001b[0m\u001b[0;34m.\u001b[0m\u001b[0m__array__\u001b[0m\u001b[0;34m,\u001b[0m \u001b[0;34m(\u001b[0m\u001b[0mself\u001b[0m\u001b[0;34m,\u001b[0m\u001b[0;34m)\u001b[0m\u001b[0;34m,\u001b[0m \u001b[0mself\u001b[0m\u001b[0;34m,\u001b[0m \u001b[0mdtype\u001b[0m\u001b[0;34m=\u001b[0m\u001b[0mdtype\u001b[0m\u001b[0;34m)\u001b[0m\u001b[0;34m\u001b[0m\u001b[0;34m\u001b[0m\u001b[0m\n\u001b[1;32m   1061\u001b[0m         \u001b[0;32mif\u001b[0m \u001b[0mdtype\u001b[0m \u001b[0;32mis\u001b[0m \u001b[0;32mNone\u001b[0m\u001b[0;34m:\u001b[0m\u001b[0;34m\u001b[0m\u001b[0;34m\u001b[0m\u001b[0m\n\u001b[0;32m-> 1062\u001b[0;31m             \u001b[0;32mreturn\u001b[0m \u001b[0mself\u001b[0m\u001b[0;34m.\u001b[0m\u001b[0mnumpy\u001b[0m\u001b[0;34m(\u001b[0m\u001b[0;34m)\u001b[0m\u001b[0;34m\u001b[0m\u001b[0;34m\u001b[0m\u001b[0m\n\u001b[0m\u001b[1;32m   1063\u001b[0m         \u001b[0;32melse\u001b[0m\u001b[0;34m:\u001b[0m\u001b[0;34m\u001b[0m\u001b[0;34m\u001b[0m\u001b[0m\n\u001b[1;32m   1064\u001b[0m             \u001b[0;32mreturn\u001b[0m \u001b[0mself\u001b[0m\u001b[0;34m.\u001b[0m\u001b[0mnumpy\u001b[0m\u001b[0;34m(\u001b[0m\u001b[0;34m)\u001b[0m\u001b[0;34m.\u001b[0m\u001b[0mastype\u001b[0m\u001b[0;34m(\u001b[0m\u001b[0mdtype\u001b[0m\u001b[0;34m,\u001b[0m \u001b[0mcopy\u001b[0m\u001b[0;34m=\u001b[0m\u001b[0;32mFalse\u001b[0m\u001b[0;34m)\u001b[0m\u001b[0;34m\u001b[0m\u001b[0;34m\u001b[0m\u001b[0m\n",
            "\u001b[0;31mTypeError\u001b[0m: can't convert cuda:0 device type tensor to numpy. Use Tensor.cpu() to copy the tensor to host memory first."
          ]
        }
      ],
      "source": [
        "import torch\n",
        "import torch.nn as nn\n",
        "import torch.optim as optim\n",
        "from sklearn.model_selection import train_test_split\n",
        "from sklearn.datasets import load_digits\n",
        "from sklearn.metrics import classification_report\n",
        "from sklearn.preprocessing import StandardScaler\n",
        "from itertools import product\n",
        "\n",
        "class MLP(nn.Module):\n",
        "    def __init__(self, input_size, hidden_layer_sizes, output_size):\n",
        "        super(MLP, self).__init__()\n",
        "        layers = []\n",
        "        prev_size = input_size\n",
        "        for hidden_size in hidden_layer_sizes:\n",
        "            layers.append(nn.Linear(prev_size, hidden_size))\n",
        "            layers.append(nn.ReLU())\n",
        "            prev_size = hidden_size\n",
        "        layers.append(nn.Linear(prev_size, output_size))\n",
        "        self.model = nn.Sequential(*layers)\n",
        "\n",
        "    def forward(self, x):\n",
        "        return self.model(x)\n",
        "\n",
        "# 하이퍼파라미터 설정\n",
        "parameter_space = {\n",
        "    'hidden_layer_sizes': [(50,), (100,), (50, 50), (100, 50), (100, 100)],\n",
        "    'learning_rate': [0.001, 0.01],\n",
        "    'batch_size': [32, 64],\n",
        "    'epochs': [50, 100],\n",
        "}\n",
        "\n",
        "# 하이퍼파라미터 그리드 검색\n",
        "best_model = None\n",
        "best_acc = 0\n",
        "best_params = None\n",
        "\n",
        "for params in product(*parameter_space.values()):\n",
        "    hidden_layer_sizes, learning_rate, batch_size, epochs = params\n",
        "    model = MLP(input_size=X_train_scaled.shape[1], hidden_layer_sizes=hidden_layer_sizes, output_size=10)\n",
        "    model.to(device)\n",
        "    criterion = nn.CrossEntropyLoss()\n",
        "    optimizer = optim.Adam(model.parameters(), lr=learning_rate)\n",
        "\n",
        "    # 학습\n",
        "    model.train()\n",
        "    for epoch in range(epochs):\n",
        "        for i in range(0, len(X_train_scaled), batch_size):\n",
        "            inputs = X_train_scaled[i:i+batch_size]\n",
        "            labels = y_train_scaled[i:i+batch_size]\n",
        "            optimizer.zero_grad()\n",
        "            outputs = model(inputs)\n",
        "            loss = criterion(outputs, labels)\n",
        "            loss.backward()\n",
        "            optimizer.step()\n",
        "\n",
        "    # 검증\n",
        "    model.eval()\n",
        "    with torch.no_grad():\n",
        "        outputs = model(X_test_scaled)\n",
        "        _, predicted = torch.max(outputs, 1)\n",
        "        accuracy = (predicted == y_test_scaled).float().mean().item()\n",
        "        if accuracy > best_acc:\n",
        "            best_acc = accuracy\n",
        "            best_model = model\n",
        "            best_params = params\n",
        "\n",
        "print(f'Best Parameters: {best_params}')\n",
        "print(f'Best Accuracy: {best_acc}')\n",
        "\n",
        "# 최종 모델 평가\n",
        "best_model.eval()\n",
        "with torch.no_grad():\n",
        "    outputs = best_model(X_test_scaled)\n",
        "    _, predicted = torch.max(outputs, 1)\n",
        "    print(classification_report(y_test_scaled, predicted))"
      ]
    },
    {
      "cell_type": "code",
      "source": [
        "model.eval()\n",
        "with torch.no_grad():\n",
        "    test_outputs = model(X_test_scaled)\n",
        "\n",
        "# 예측된 클래스를 결정\n",
        "_, predicted_labels = torch.max(test_outputs, 1)\n"
      ],
      "metadata": {
        "id": "WzD4o5AqSRYP"
      },
      "execution_count": 72,
      "outputs": []
    },
    {
      "cell_type": "code",
      "source": [
        "predicted_labels.cpu().numpy()"
      ],
      "metadata": {
        "colab": {
          "base_uri": "https://localhost:8080/"
        },
        "id": "znKKQn1PSmeH",
        "outputId": "99001237-00fe-4cb3-f3d1-f020f7fcc88e"
      },
      "execution_count": 88,
      "outputs": [
        {
          "output_type": "execute_result",
          "data": {
            "text/plain": [
              "array([0, 0, 0, ..., 0, 0, 1])"
            ]
          },
          "metadata": {},
          "execution_count": 88
        }
      ]
    },
    {
      "cell_type": "code",
      "source": [
        "from collections import Counter\n",
        "Counter(predicted_labels.cpu().numpy())"
      ],
      "metadata": {
        "colab": {
          "base_uri": "https://localhost:8080/"
        },
        "id": "4P64VTkQSa2o",
        "outputId": "7103c9e0-3762-4c7c-9db3-41b62cceae81"
      },
      "execution_count": 89,
      "outputs": [
        {
          "output_type": "execute_result",
          "data": {
            "text/plain": [
              "Counter({0: 1588, 1: 412})"
            ]
          },
          "metadata": {},
          "execution_count": 89
        }
      ]
    },
    {
      "cell_type": "markdown",
      "metadata": {
        "id": "QlgeHgs4K61f"
      },
      "source": [
        "## Validation 2. Train with related"
      ]
    },
    {
      "cell_type": "code",
      "execution_count": null,
      "metadata": {
        "id": "MLVFBVXUK61f"
      },
      "outputs": [],
      "source": [
        "related_factors = [\n",
        "    'Adenocarcinoma',\n",
        "    'Large cell carcinoma',\n",
        "    'Squamous cell carcinoma',\n",
        "    'TX', 'T0', 'T1', 'T1a', 'T1b', 'T1c', 'T2', 'T2a', 'T2b', 'T3', 'T4',\n",
        "    'N1', 'N2', 'N3',\n",
        "    'M1a', 'M1b', 'M1c',\n",
        "    'Smoke',\n",
        "    'FEV1_FVC_P',\n",
        "    'DLCO_VA_P',\n",
        "    'EGFR mutation Detection',\n",
        "    'Operation',\n",
        "    'Chemotherapy',\n",
        "    'Radiation Therapy',\n",
        "    'Survival period',\n",
        "    'Death'\n",
        "]\n",
        "train = pd.read_csv('train.csv')\n",
        "test = pd.read_csv('test.csv')\n",
        "train = train.iloc[:,1:]\n",
        "test = test.iloc[:,1:]\n",
        "\n",
        "train_related = train[related_factors]\n",
        "test_related = test[related_factors[:-1]]"
      ]
    },
    {
      "cell_type": "code",
      "execution_count": null,
      "metadata": {
        "id": "Tu_ZuTnfK61f"
      },
      "outputs": [],
      "source": [
        "train_related = pd.get_dummies(train_related, columns = [ 'Smoke', 'EGFR mutation Detection'])\n",
        "test_related = pd.get_dummies(test_related, columns = [ 'Smoke', 'EGFR mutation Detection'])"
      ]
    },
    {
      "cell_type": "code",
      "execution_count": null,
      "metadata": {
        "id": "bTc2S_WWK61f",
        "outputId": "fc24412b-6647-46e8-a91b-39fdfd21ba12"
      },
      "outputs": [
        {
          "data": {
            "text/plain": [
              "Index(['Adenocarcinoma', 'Large cell carcinoma', 'Squamous cell carcinoma',\n",
              "       'TX', 'T0', 'T1', 'T1a', 'T1b', 'T1c', 'T2', 'T2a', 'T2b', 'T3', 'T4',\n",
              "       'N1', 'N2', 'N3', 'M1a', 'M1b', 'M1c', 'FEV1_FVC_P', 'DLCO_VA_P',\n",
              "       'Operation', 'Chemotherapy', 'Radiation Therapy', 'Survival period',\n",
              "       'Death', 'Smoke_0', 'Smoke_1', 'Smoke_2', 'EGFR mutation Detection_0',\n",
              "       'EGFR mutation Detection_1', 'EGFR mutation Detection_99'],\n",
              "      dtype='object')"
            ]
          },
          "execution_count": 81,
          "metadata": {},
          "output_type": "execute_result"
        }
      ],
      "source": [
        "train_related.columns"
      ]
    },
    {
      "cell_type": "code",
      "execution_count": null,
      "metadata": {
        "id": "PhpzUVyUK61f",
        "outputId": "6977f430-fa8f-4cc7-8056-a469be6ca692"
      },
      "outputs": [
        {
          "data": {
            "text/plain": [
              "Index(['Adenocarcinoma', 'Large cell carcinoma', 'Squamous cell carcinoma',\n",
              "       'TX', 'T0', 'T1', 'T1a', 'T1b', 'T1c', 'T2', 'T2a', 'T2b', 'T3', 'T4',\n",
              "       'N1', 'N2', 'N3', 'M1a', 'M1b', 'M1c', 'FEV1_FVC_P', 'DLCO_VA_P',\n",
              "       'Operation', 'Chemotherapy', 'Radiation Therapy', 'Survival period',\n",
              "       'Smoke_0', 'Smoke_1', 'Smoke_2', 'EGFR mutation Detection_0',\n",
              "       'EGFR mutation Detection_1', 'EGFR mutation Detection_99'],\n",
              "      dtype='object')"
            ]
          },
          "execution_count": 80,
          "metadata": {},
          "output_type": "execute_result"
        }
      ],
      "source": [
        "test_related.columns"
      ]
    },
    {
      "cell_type": "code",
      "execution_count": null,
      "metadata": {
        "id": "kwC0V2SFK61f"
      },
      "outputs": [],
      "source": [
        "X_raw = train_related.drop(columns=['Death'])\n",
        "y_raw = train_related.loc[:,'Death']\n",
        "X_train_related, X_test_related, y_train_related, y_test_related = train_test_split(X_raw, y_raw, test_size=0.2, random_state=42,stratify=y_raw)"
      ]
    },
    {
      "cell_type": "code",
      "execution_count": null,
      "metadata": {
        "id": "ACCu4K3_K61f",
        "outputId": "11172930-6c30-456f-986e-399ff7a505fc"
      },
      "outputs": [
        {
          "name": "stdout",
          "output_type": "stream",
          "text": [
            "Accuracy: 0.7475\n"
          ]
        },
        {
          "data": {
            "text/plain": [
              "Counter({0: 1868, 1: 132})"
            ]
          },
          "execution_count": 76,
          "metadata": {},
          "output_type": "execute_result"
        }
      ],
      "source": [
        "dtrain_related = xgb.DMatrix(X_train_related, label=y_train_related)\n",
        "dtest_related = xgb.DMatrix(X_test_related, label=y_test_related)\n",
        "\n",
        "# params = {\n",
        "#     'max_depth': 6,\n",
        "#     'eta': 0.3,\n",
        "#     'objective': 'binary:logistic',\n",
        "#     'eval_metric': 'error'\n",
        "# }\n",
        "params = {\n",
        "           'learning_rate': 0.1,\n",
        "           'max_depth': 10,\n",
        "           'min_child_weight': 3,\n",
        "           'subsample': 0.9,\n",
        "           'validate_parameters': 1,\n",
        "           'scale_pos_weight': 1,\n",
        "           'colsample_bytree': 0.7,\n",
        "           }\n",
        "\n",
        "\n",
        "num_rounds = 2000\n",
        "model_related = xgb.train(params, dtrain_related, num_rounds)\n",
        "\n",
        "preds = model_related.predict(dtest_related)\n",
        "pred_labels_related = [round(pred) for pred in preds]\n",
        "\n",
        "accuracy_related = accuracy_score(y_test_related, pred_labels_related)\n",
        "print(\"Accuracy:\", accuracy_related)\n",
        "Counter(pred_labels_related)\n"
      ]
    },
    {
      "cell_type": "markdown",
      "metadata": {
        "id": "HKXnSHjRK61f"
      },
      "source": [
        "## Submission"
      ]
    },
    {
      "cell_type": "code",
      "execution_count": 90,
      "metadata": {
        "colab": {
          "base_uri": "https://localhost:8080/",
          "height": 478
        },
        "id": "hU4pxw7sK61g",
        "outputId": "335f6775-c05e-4067-bbf7-fdbdfa2ac38a"
      },
      "outputs": [
        {
          "output_type": "execute_result",
          "data": {
            "text/plain": [
              "      AGE  Adenocarcinoma  Large cell carcinoma  Squamous cell carcinoma  TX  \\\n",
              "0      35               1                     0                        0   0   \n",
              "1      60               1                     0                        0   0   \n",
              "2      45               1                     1                        1   1   \n",
              "3      31               0                     0                        0   1   \n",
              "4      55               0                     0                        1   0   \n",
              "...   ...             ...                   ...                      ...  ..   \n",
              "4995   47               1                     1                        0   0   \n",
              "4996   44               1                     0                        1   0   \n",
              "4997   80               0                     0                        1   0   \n",
              "4998   69               1                     0                        0   0   \n",
              "4999   81               0                     1                        0   0   \n",
              "\n",
              "      T0  T1  T1a  T1b  T1c  ...  Smoke  Height  Weight  FEV1_FVC_P  \\\n",
              "0      0   0    0    0    0  ...      1   174.2    69.1          82   \n",
              "1      0   0    0    1    0  ...      0   158.8    67.4          52   \n",
              "2      0   0    0    0    0  ...      0   159.7    71.2          49   \n",
              "3      0   0    0    0    0  ...      1   153.6    71.0          82   \n",
              "4      0   0    1    0    0  ...      1   163.6    72.0          68   \n",
              "...   ..  ..  ...  ...  ...  ...    ...     ...     ...         ...   \n",
              "4995   0   0    0    0    1  ...      0   147.6    79.0          40   \n",
              "4996   0   1    0    0    0  ...      2   151.0    41.6          69   \n",
              "4997   0   0    1    0    0  ...      0   157.8    58.2          40   \n",
              "4998   0   0    0    0    0  ...      2   167.5    56.7          89   \n",
              "4999   0   1    0    0    0  ...      1   155.7    41.0          94   \n",
              "\n",
              "      DLCO_VA_P  EGFR mutation Detection  Operation  Chemotherapy  \\\n",
              "0            43                        0          0             1   \n",
              "1            86                        0          0             0   \n",
              "2            68                       99          1             1   \n",
              "3            87                        1          1             0   \n",
              "4           127                       99          0             1   \n",
              "...         ...                      ...        ...           ...   \n",
              "4995         79                       99          1             0   \n",
              "4996         67                       99          0             0   \n",
              "4997        137                        0          1             1   \n",
              "4998         77                        0          1             1   \n",
              "4999         66                        0          0             1   \n",
              "\n",
              "      Radiation Therapy  Survival period  \n",
              "0                     0              355  \n",
              "1                     1              166  \n",
              "2                     1              623  \n",
              "3                     0              445  \n",
              "4                     0               70  \n",
              "...                 ...              ...  \n",
              "4995                  0              104  \n",
              "4996                  0               42  \n",
              "4997                  0              190  \n",
              "4998                  1              635  \n",
              "4999                  0              635  \n",
              "\n",
              "[5000 rows x 32 columns]"
            ],
            "text/html": [
              "\n",
              "  <div id=\"df-5b76ff1f-c1d5-409b-a3b8-38000818a6d2\" class=\"colab-df-container\">\n",
              "    <div>\n",
              "<style scoped>\n",
              "    .dataframe tbody tr th:only-of-type {\n",
              "        vertical-align: middle;\n",
              "    }\n",
              "\n",
              "    .dataframe tbody tr th {\n",
              "        vertical-align: top;\n",
              "    }\n",
              "\n",
              "    .dataframe thead th {\n",
              "        text-align: right;\n",
              "    }\n",
              "</style>\n",
              "<table border=\"1\" class=\"dataframe\">\n",
              "  <thead>\n",
              "    <tr style=\"text-align: right;\">\n",
              "      <th></th>\n",
              "      <th>AGE</th>\n",
              "      <th>Adenocarcinoma</th>\n",
              "      <th>Large cell carcinoma</th>\n",
              "      <th>Squamous cell carcinoma</th>\n",
              "      <th>TX</th>\n",
              "      <th>T0</th>\n",
              "      <th>T1</th>\n",
              "      <th>T1a</th>\n",
              "      <th>T1b</th>\n",
              "      <th>T1c</th>\n",
              "      <th>...</th>\n",
              "      <th>Smoke</th>\n",
              "      <th>Height</th>\n",
              "      <th>Weight</th>\n",
              "      <th>FEV1_FVC_P</th>\n",
              "      <th>DLCO_VA_P</th>\n",
              "      <th>EGFR mutation Detection</th>\n",
              "      <th>Operation</th>\n",
              "      <th>Chemotherapy</th>\n",
              "      <th>Radiation Therapy</th>\n",
              "      <th>Survival period</th>\n",
              "    </tr>\n",
              "  </thead>\n",
              "  <tbody>\n",
              "    <tr>\n",
              "      <th>0</th>\n",
              "      <td>35</td>\n",
              "      <td>1</td>\n",
              "      <td>0</td>\n",
              "      <td>0</td>\n",
              "      <td>0</td>\n",
              "      <td>0</td>\n",
              "      <td>0</td>\n",
              "      <td>0</td>\n",
              "      <td>0</td>\n",
              "      <td>0</td>\n",
              "      <td>...</td>\n",
              "      <td>1</td>\n",
              "      <td>174.2</td>\n",
              "      <td>69.1</td>\n",
              "      <td>82</td>\n",
              "      <td>43</td>\n",
              "      <td>0</td>\n",
              "      <td>0</td>\n",
              "      <td>1</td>\n",
              "      <td>0</td>\n",
              "      <td>355</td>\n",
              "    </tr>\n",
              "    <tr>\n",
              "      <th>1</th>\n",
              "      <td>60</td>\n",
              "      <td>1</td>\n",
              "      <td>0</td>\n",
              "      <td>0</td>\n",
              "      <td>0</td>\n",
              "      <td>0</td>\n",
              "      <td>0</td>\n",
              "      <td>0</td>\n",
              "      <td>1</td>\n",
              "      <td>0</td>\n",
              "      <td>...</td>\n",
              "      <td>0</td>\n",
              "      <td>158.8</td>\n",
              "      <td>67.4</td>\n",
              "      <td>52</td>\n",
              "      <td>86</td>\n",
              "      <td>0</td>\n",
              "      <td>0</td>\n",
              "      <td>0</td>\n",
              "      <td>1</td>\n",
              "      <td>166</td>\n",
              "    </tr>\n",
              "    <tr>\n",
              "      <th>2</th>\n",
              "      <td>45</td>\n",
              "      <td>1</td>\n",
              "      <td>1</td>\n",
              "      <td>1</td>\n",
              "      <td>1</td>\n",
              "      <td>0</td>\n",
              "      <td>0</td>\n",
              "      <td>0</td>\n",
              "      <td>0</td>\n",
              "      <td>0</td>\n",
              "      <td>...</td>\n",
              "      <td>0</td>\n",
              "      <td>159.7</td>\n",
              "      <td>71.2</td>\n",
              "      <td>49</td>\n",
              "      <td>68</td>\n",
              "      <td>99</td>\n",
              "      <td>1</td>\n",
              "      <td>1</td>\n",
              "      <td>1</td>\n",
              "      <td>623</td>\n",
              "    </tr>\n",
              "    <tr>\n",
              "      <th>3</th>\n",
              "      <td>31</td>\n",
              "      <td>0</td>\n",
              "      <td>0</td>\n",
              "      <td>0</td>\n",
              "      <td>1</td>\n",
              "      <td>0</td>\n",
              "      <td>0</td>\n",
              "      <td>0</td>\n",
              "      <td>0</td>\n",
              "      <td>0</td>\n",
              "      <td>...</td>\n",
              "      <td>1</td>\n",
              "      <td>153.6</td>\n",
              "      <td>71.0</td>\n",
              "      <td>82</td>\n",
              "      <td>87</td>\n",
              "      <td>1</td>\n",
              "      <td>1</td>\n",
              "      <td>0</td>\n",
              "      <td>0</td>\n",
              "      <td>445</td>\n",
              "    </tr>\n",
              "    <tr>\n",
              "      <th>4</th>\n",
              "      <td>55</td>\n",
              "      <td>0</td>\n",
              "      <td>0</td>\n",
              "      <td>1</td>\n",
              "      <td>0</td>\n",
              "      <td>0</td>\n",
              "      <td>0</td>\n",
              "      <td>1</td>\n",
              "      <td>0</td>\n",
              "      <td>0</td>\n",
              "      <td>...</td>\n",
              "      <td>1</td>\n",
              "      <td>163.6</td>\n",
              "      <td>72.0</td>\n",
              "      <td>68</td>\n",
              "      <td>127</td>\n",
              "      <td>99</td>\n",
              "      <td>0</td>\n",
              "      <td>1</td>\n",
              "      <td>0</td>\n",
              "      <td>70</td>\n",
              "    </tr>\n",
              "    <tr>\n",
              "      <th>...</th>\n",
              "      <td>...</td>\n",
              "      <td>...</td>\n",
              "      <td>...</td>\n",
              "      <td>...</td>\n",
              "      <td>...</td>\n",
              "      <td>...</td>\n",
              "      <td>...</td>\n",
              "      <td>...</td>\n",
              "      <td>...</td>\n",
              "      <td>...</td>\n",
              "      <td>...</td>\n",
              "      <td>...</td>\n",
              "      <td>...</td>\n",
              "      <td>...</td>\n",
              "      <td>...</td>\n",
              "      <td>...</td>\n",
              "      <td>...</td>\n",
              "      <td>...</td>\n",
              "      <td>...</td>\n",
              "      <td>...</td>\n",
              "      <td>...</td>\n",
              "    </tr>\n",
              "    <tr>\n",
              "      <th>4995</th>\n",
              "      <td>47</td>\n",
              "      <td>1</td>\n",
              "      <td>1</td>\n",
              "      <td>0</td>\n",
              "      <td>0</td>\n",
              "      <td>0</td>\n",
              "      <td>0</td>\n",
              "      <td>0</td>\n",
              "      <td>0</td>\n",
              "      <td>1</td>\n",
              "      <td>...</td>\n",
              "      <td>0</td>\n",
              "      <td>147.6</td>\n",
              "      <td>79.0</td>\n",
              "      <td>40</td>\n",
              "      <td>79</td>\n",
              "      <td>99</td>\n",
              "      <td>1</td>\n",
              "      <td>0</td>\n",
              "      <td>0</td>\n",
              "      <td>104</td>\n",
              "    </tr>\n",
              "    <tr>\n",
              "      <th>4996</th>\n",
              "      <td>44</td>\n",
              "      <td>1</td>\n",
              "      <td>0</td>\n",
              "      <td>1</td>\n",
              "      <td>0</td>\n",
              "      <td>0</td>\n",
              "      <td>1</td>\n",
              "      <td>0</td>\n",
              "      <td>0</td>\n",
              "      <td>0</td>\n",
              "      <td>...</td>\n",
              "      <td>2</td>\n",
              "      <td>151.0</td>\n",
              "      <td>41.6</td>\n",
              "      <td>69</td>\n",
              "      <td>67</td>\n",
              "      <td>99</td>\n",
              "      <td>0</td>\n",
              "      <td>0</td>\n",
              "      <td>0</td>\n",
              "      <td>42</td>\n",
              "    </tr>\n",
              "    <tr>\n",
              "      <th>4997</th>\n",
              "      <td>80</td>\n",
              "      <td>0</td>\n",
              "      <td>0</td>\n",
              "      <td>1</td>\n",
              "      <td>0</td>\n",
              "      <td>0</td>\n",
              "      <td>0</td>\n",
              "      <td>1</td>\n",
              "      <td>0</td>\n",
              "      <td>0</td>\n",
              "      <td>...</td>\n",
              "      <td>0</td>\n",
              "      <td>157.8</td>\n",
              "      <td>58.2</td>\n",
              "      <td>40</td>\n",
              "      <td>137</td>\n",
              "      <td>0</td>\n",
              "      <td>1</td>\n",
              "      <td>1</td>\n",
              "      <td>0</td>\n",
              "      <td>190</td>\n",
              "    </tr>\n",
              "    <tr>\n",
              "      <th>4998</th>\n",
              "      <td>69</td>\n",
              "      <td>1</td>\n",
              "      <td>0</td>\n",
              "      <td>0</td>\n",
              "      <td>0</td>\n",
              "      <td>0</td>\n",
              "      <td>0</td>\n",
              "      <td>0</td>\n",
              "      <td>0</td>\n",
              "      <td>0</td>\n",
              "      <td>...</td>\n",
              "      <td>2</td>\n",
              "      <td>167.5</td>\n",
              "      <td>56.7</td>\n",
              "      <td>89</td>\n",
              "      <td>77</td>\n",
              "      <td>0</td>\n",
              "      <td>1</td>\n",
              "      <td>1</td>\n",
              "      <td>1</td>\n",
              "      <td>635</td>\n",
              "    </tr>\n",
              "    <tr>\n",
              "      <th>4999</th>\n",
              "      <td>81</td>\n",
              "      <td>0</td>\n",
              "      <td>1</td>\n",
              "      <td>0</td>\n",
              "      <td>0</td>\n",
              "      <td>0</td>\n",
              "      <td>1</td>\n",
              "      <td>0</td>\n",
              "      <td>0</td>\n",
              "      <td>0</td>\n",
              "      <td>...</td>\n",
              "      <td>1</td>\n",
              "      <td>155.7</td>\n",
              "      <td>41.0</td>\n",
              "      <td>94</td>\n",
              "      <td>66</td>\n",
              "      <td>0</td>\n",
              "      <td>0</td>\n",
              "      <td>1</td>\n",
              "      <td>0</td>\n",
              "      <td>635</td>\n",
              "    </tr>\n",
              "  </tbody>\n",
              "</table>\n",
              "<p>5000 rows × 32 columns</p>\n",
              "</div>\n",
              "    <div class=\"colab-df-buttons\">\n",
              "\n",
              "  <div class=\"colab-df-container\">\n",
              "    <button class=\"colab-df-convert\" onclick=\"convertToInteractive('df-5b76ff1f-c1d5-409b-a3b8-38000818a6d2')\"\n",
              "            title=\"Convert this dataframe to an interactive table.\"\n",
              "            style=\"display:none;\">\n",
              "\n",
              "  <svg xmlns=\"http://www.w3.org/2000/svg\" height=\"24px\" viewBox=\"0 -960 960 960\">\n",
              "    <path d=\"M120-120v-720h720v720H120Zm60-500h600v-160H180v160Zm220 220h160v-160H400v160Zm0 220h160v-160H400v160ZM180-400h160v-160H180v160Zm440 0h160v-160H620v160ZM180-180h160v-160H180v160Zm440 0h160v-160H620v160Z\"/>\n",
              "  </svg>\n",
              "    </button>\n",
              "\n",
              "  <style>\n",
              "    .colab-df-container {\n",
              "      display:flex;\n",
              "      gap: 12px;\n",
              "    }\n",
              "\n",
              "    .colab-df-convert {\n",
              "      background-color: #E8F0FE;\n",
              "      border: none;\n",
              "      border-radius: 50%;\n",
              "      cursor: pointer;\n",
              "      display: none;\n",
              "      fill: #1967D2;\n",
              "      height: 32px;\n",
              "      padding: 0 0 0 0;\n",
              "      width: 32px;\n",
              "    }\n",
              "\n",
              "    .colab-df-convert:hover {\n",
              "      background-color: #E2EBFA;\n",
              "      box-shadow: 0px 1px 2px rgba(60, 64, 67, 0.3), 0px 1px 3px 1px rgba(60, 64, 67, 0.15);\n",
              "      fill: #174EA6;\n",
              "    }\n",
              "\n",
              "    .colab-df-buttons div {\n",
              "      margin-bottom: 4px;\n",
              "    }\n",
              "\n",
              "    [theme=dark] .colab-df-convert {\n",
              "      background-color: #3B4455;\n",
              "      fill: #D2E3FC;\n",
              "    }\n",
              "\n",
              "    [theme=dark] .colab-df-convert:hover {\n",
              "      background-color: #434B5C;\n",
              "      box-shadow: 0px 1px 3px 1px rgba(0, 0, 0, 0.15);\n",
              "      filter: drop-shadow(0px 1px 2px rgba(0, 0, 0, 0.3));\n",
              "      fill: #FFFFFF;\n",
              "    }\n",
              "  </style>\n",
              "\n",
              "    <script>\n",
              "      const buttonEl =\n",
              "        document.querySelector('#df-5b76ff1f-c1d5-409b-a3b8-38000818a6d2 button.colab-df-convert');\n",
              "      buttonEl.style.display =\n",
              "        google.colab.kernel.accessAllowed ? 'block' : 'none';\n",
              "\n",
              "      async function convertToInteractive(key) {\n",
              "        const element = document.querySelector('#df-5b76ff1f-c1d5-409b-a3b8-38000818a6d2');\n",
              "        const dataTable =\n",
              "          await google.colab.kernel.invokeFunction('convertToInteractive',\n",
              "                                                    [key], {});\n",
              "        if (!dataTable) return;\n",
              "\n",
              "        const docLinkHtml = 'Like what you see? Visit the ' +\n",
              "          '<a target=\"_blank\" href=https://colab.research.google.com/notebooks/data_table.ipynb>data table notebook</a>'\n",
              "          + ' to learn more about interactive tables.';\n",
              "        element.innerHTML = '';\n",
              "        dataTable['output_type'] = 'display_data';\n",
              "        await google.colab.output.renderOutput(dataTable, element);\n",
              "        const docLink = document.createElement('div');\n",
              "        docLink.innerHTML = docLinkHtml;\n",
              "        element.appendChild(docLink);\n",
              "      }\n",
              "    </script>\n",
              "  </div>\n",
              "\n",
              "\n",
              "<div id=\"df-9f9de090-dea1-4181-b10a-40d6433f52ab\">\n",
              "  <button class=\"colab-df-quickchart\" onclick=\"quickchart('df-9f9de090-dea1-4181-b10a-40d6433f52ab')\"\n",
              "            title=\"Suggest charts\"\n",
              "            style=\"display:none;\">\n",
              "\n",
              "<svg xmlns=\"http://www.w3.org/2000/svg\" height=\"24px\"viewBox=\"0 0 24 24\"\n",
              "     width=\"24px\">\n",
              "    <g>\n",
              "        <path d=\"M19 3H5c-1.1 0-2 .9-2 2v14c0 1.1.9 2 2 2h14c1.1 0 2-.9 2-2V5c0-1.1-.9-2-2-2zM9 17H7v-7h2v7zm4 0h-2V7h2v10zm4 0h-2v-4h2v4z\"/>\n",
              "    </g>\n",
              "</svg>\n",
              "  </button>\n",
              "\n",
              "<style>\n",
              "  .colab-df-quickchart {\n",
              "      --bg-color: #E8F0FE;\n",
              "      --fill-color: #1967D2;\n",
              "      --hover-bg-color: #E2EBFA;\n",
              "      --hover-fill-color: #174EA6;\n",
              "      --disabled-fill-color: #AAA;\n",
              "      --disabled-bg-color: #DDD;\n",
              "  }\n",
              "\n",
              "  [theme=dark] .colab-df-quickchart {\n",
              "      --bg-color: #3B4455;\n",
              "      --fill-color: #D2E3FC;\n",
              "      --hover-bg-color: #434B5C;\n",
              "      --hover-fill-color: #FFFFFF;\n",
              "      --disabled-bg-color: #3B4455;\n",
              "      --disabled-fill-color: #666;\n",
              "  }\n",
              "\n",
              "  .colab-df-quickchart {\n",
              "    background-color: var(--bg-color);\n",
              "    border: none;\n",
              "    border-radius: 50%;\n",
              "    cursor: pointer;\n",
              "    display: none;\n",
              "    fill: var(--fill-color);\n",
              "    height: 32px;\n",
              "    padding: 0;\n",
              "    width: 32px;\n",
              "  }\n",
              "\n",
              "  .colab-df-quickchart:hover {\n",
              "    background-color: var(--hover-bg-color);\n",
              "    box-shadow: 0 1px 2px rgba(60, 64, 67, 0.3), 0 1px 3px 1px rgba(60, 64, 67, 0.15);\n",
              "    fill: var(--button-hover-fill-color);\n",
              "  }\n",
              "\n",
              "  .colab-df-quickchart-complete:disabled,\n",
              "  .colab-df-quickchart-complete:disabled:hover {\n",
              "    background-color: var(--disabled-bg-color);\n",
              "    fill: var(--disabled-fill-color);\n",
              "    box-shadow: none;\n",
              "  }\n",
              "\n",
              "  .colab-df-spinner {\n",
              "    border: 2px solid var(--fill-color);\n",
              "    border-color: transparent;\n",
              "    border-bottom-color: var(--fill-color);\n",
              "    animation:\n",
              "      spin 1s steps(1) infinite;\n",
              "  }\n",
              "\n",
              "  @keyframes spin {\n",
              "    0% {\n",
              "      border-color: transparent;\n",
              "      border-bottom-color: var(--fill-color);\n",
              "      border-left-color: var(--fill-color);\n",
              "    }\n",
              "    20% {\n",
              "      border-color: transparent;\n",
              "      border-left-color: var(--fill-color);\n",
              "      border-top-color: var(--fill-color);\n",
              "    }\n",
              "    30% {\n",
              "      border-color: transparent;\n",
              "      border-left-color: var(--fill-color);\n",
              "      border-top-color: var(--fill-color);\n",
              "      border-right-color: var(--fill-color);\n",
              "    }\n",
              "    40% {\n",
              "      border-color: transparent;\n",
              "      border-right-color: var(--fill-color);\n",
              "      border-top-color: var(--fill-color);\n",
              "    }\n",
              "    60% {\n",
              "      border-color: transparent;\n",
              "      border-right-color: var(--fill-color);\n",
              "    }\n",
              "    80% {\n",
              "      border-color: transparent;\n",
              "      border-right-color: var(--fill-color);\n",
              "      border-bottom-color: var(--fill-color);\n",
              "    }\n",
              "    90% {\n",
              "      border-color: transparent;\n",
              "      border-bottom-color: var(--fill-color);\n",
              "    }\n",
              "  }\n",
              "</style>\n",
              "\n",
              "  <script>\n",
              "    async function quickchart(key) {\n",
              "      const quickchartButtonEl =\n",
              "        document.querySelector('#' + key + ' button');\n",
              "      quickchartButtonEl.disabled = true;  // To prevent multiple clicks.\n",
              "      quickchartButtonEl.classList.add('colab-df-spinner');\n",
              "      try {\n",
              "        const charts = await google.colab.kernel.invokeFunction(\n",
              "            'suggestCharts', [key], {});\n",
              "      } catch (error) {\n",
              "        console.error('Error during call to suggestCharts:', error);\n",
              "      }\n",
              "      quickchartButtonEl.classList.remove('colab-df-spinner');\n",
              "      quickchartButtonEl.classList.add('colab-df-quickchart-complete');\n",
              "    }\n",
              "    (() => {\n",
              "      let quickchartButtonEl =\n",
              "        document.querySelector('#df-9f9de090-dea1-4181-b10a-40d6433f52ab button');\n",
              "      quickchartButtonEl.style.display =\n",
              "        google.colab.kernel.accessAllowed ? 'block' : 'none';\n",
              "    })();\n",
              "  </script>\n",
              "</div>\n",
              "    </div>\n",
              "  </div>\n"
            ],
            "application/vnd.google.colaboratory.intrinsic+json": {
              "type": "dataframe",
              "variable_name": "test"
            }
          },
          "metadata": {},
          "execution_count": 90
        }
      ],
      "source": [
        "test"
      ]
    },
    {
      "cell_type": "code",
      "execution_count": null,
      "metadata": {
        "id": "Tp2SfOGxK61g",
        "outputId": "eea99e28-2858-4dd3-82e8-21980424a1d4"
      },
      "outputs": [
        {
          "data": {
            "text/plain": [
              "array([0, 1], dtype=int64)"
            ]
          },
          "execution_count": 149,
          "metadata": {},
          "output_type": "execute_result"
        }
      ],
      "source": [
        "# submission = pd.read_csv('submission.csv')\n",
        "# submission['Death'] = ...\n",
        "# submission['Death'].unique()"
      ]
    },
    {
      "cell_type": "markdown",
      "metadata": {
        "id": "GajlDU2tK61g"
      },
      "source": [
        "### XGBoost_scaled"
      ]
    },
    {
      "cell_type": "code",
      "execution_count": null,
      "metadata": {
        "id": "9T8UYE7AK61g",
        "outputId": "39eb4a76-537c-4c89-fa0a-a24726bf1dd8"
      },
      "outputs": [
        {
          "data": {
            "text/plain": [
              "Counter({0: 4703, 1: 297})"
            ]
          },
          "execution_count": 93,
          "metadata": {},
          "output_type": "execute_result"
        }
      ],
      "source": [
        "real_test_not_scaled = xgb.DMatrix(test_copy)\n",
        "preds =  model_not_scaled.predict(real_test_not_scaled)\n",
        "pred_labels = [round(pred) for pred in preds]\n",
        "Counter(pred_labels)"
      ]
    },
    {
      "cell_type": "code",
      "execution_count": null,
      "metadata": {
        "id": "0vczdcTTK61g",
        "outputId": "8de380b5-0118-4579-f781-f94995305520"
      },
      "outputs": [
        {
          "data": {
            "text/plain": [
              "Counter({0: 4703, 1: 297})"
            ]
          },
          "execution_count": 94,
          "metadata": {},
          "output_type": "execute_result"
        }
      ],
      "source": [
        "submission = pd.read_csv('submission.csv')\n",
        "submission['Death'] = pred_labels\n",
        "Counter(submission['Death'])"
      ]
    },
    {
      "cell_type": "code",
      "execution_count": null,
      "metadata": {
        "id": "4z3Q6GdWK61g"
      },
      "outputs": [],
      "source": [
        "submission.to_csv('submission.csv',index=False)"
      ]
    },
    {
      "cell_type": "markdown",
      "metadata": {
        "id": "38u8VbEsK61g"
      },
      "source": [
        "### XGBoost_related"
      ]
    },
    {
      "cell_type": "code",
      "execution_count": null,
      "metadata": {
        "id": "E7JmL2LnK61g",
        "outputId": "d4f74ec0-260a-4f9d-c168-29b2a6000799"
      },
      "outputs": [
        {
          "data": {
            "text/plain": [
              "Counter({0: 4555, 1: 445})"
            ]
          },
          "execution_count": 88,
          "metadata": {},
          "output_type": "execute_result"
        }
      ],
      "source": [
        "real_test_related = xgb.DMatrix(test_related)\n",
        "preds =  model_related.predict(real_test_related)\n",
        "pred_labels = [round(pred) for pred in preds]\n",
        "Counter(pred_labels)"
      ]
    },
    {
      "cell_type": "code",
      "execution_count": null,
      "metadata": {
        "id": "KGox65ECK61h",
        "outputId": "842f9ad3-1783-4854-eede-a2e5a03c8773"
      },
      "outputs": [
        {
          "data": {
            "text/plain": [
              "Counter({0: 4555, 1: 445})"
            ]
          },
          "execution_count": 89,
          "metadata": {},
          "output_type": "execute_result"
        }
      ],
      "source": [
        "submission = pd.read_csv('submission.csv')\n",
        "submission['Death'] = pred_labels\n",
        "Counter(submission['Death'])"
      ]
    },
    {
      "cell_type": "code",
      "execution_count": null,
      "metadata": {
        "id": "dI8VrRUyK61h"
      },
      "outputs": [],
      "source": [
        "submission.to_csv('submission.csv',index=False)"
      ]
    },
    {
      "cell_type": "code",
      "execution_count": null,
      "metadata": {
        "id": "z62En9YOK61h"
      },
      "outputs": [],
      "source": [
        "!explorer ."
      ]
    },
    {
      "cell_type": "code",
      "execution_count": 95,
      "metadata": {
        "id": "1TipfvdaK61h"
      },
      "outputs": [],
      "source": [
        "X = test_copy.astype(np.float32)\n",
        "X = torch.tensor(X.values, dtype=torch.float32)\n",
        "X = X.to(device)"
      ]
    },
    {
      "cell_type": "code",
      "source": [
        "model.eval()\n",
        "with torch.no_grad():\n",
        "    test_outputs = model(X)\n",
        "\n",
        "# 예측된 클래스를 결정\n",
        "_, predicted_labels = torch.max(test_outputs, 1)\n"
      ],
      "metadata": {
        "id": "wgbu9mYIVRBC"
      },
      "execution_count": 96,
      "outputs": []
    },
    {
      "cell_type": "code",
      "source": [
        "predicted_labels.cpu().numpy()"
      ],
      "metadata": {
        "colab": {
          "base_uri": "https://localhost:8080/"
        },
        "id": "7Lnffk9yVZBr",
        "outputId": "fe8a9a19-97ab-4e01-911e-d84a4ad989b6"
      },
      "execution_count": 97,
      "outputs": [
        {
          "output_type": "execute_result",
          "data": {
            "text/plain": [
              "array([0, 0, 0, ..., 0, 0, 0])"
            ]
          },
          "metadata": {},
          "execution_count": 97
        }
      ]
    },
    {
      "cell_type": "code",
      "source": [
        "submission = pd.read_csv('submission.csv')\n",
        "submission['Death'] = predicted_labels.cpu().numpy()\n",
        "Counter(submission['Death'])"
      ],
      "metadata": {
        "colab": {
          "base_uri": "https://localhost:8080/"
        },
        "id": "O3YvZ0afVwPe",
        "outputId": "82e2de29-d0b9-45bd-c4b3-182d7ce97a9c"
      },
      "execution_count": 98,
      "outputs": [
        {
          "output_type": "execute_result",
          "data": {
            "text/plain": [
              "Counter({0: 3679, 1: 1321})"
            ]
          },
          "metadata": {},
          "execution_count": 98
        }
      ]
    },
    {
      "cell_type": "code",
      "source": [
        "submission.to_csv('submission.csv',index=False)"
      ],
      "metadata": {
        "id": "J0O6uOfgVyqO"
      },
      "execution_count": 99,
      "outputs": []
    },
    {
      "cell_type": "code",
      "source": [],
      "metadata": {
        "id": "KYsdZ6NMWEVo"
      },
      "execution_count": null,
      "outputs": []
    }
  ],
  "metadata": {
    "kernelspec": {
      "display_name": "Python 3",
      "name": "python3"
    },
    "language_info": {
      "codemirror_mode": {
        "name": "ipython",
        "version": 3
      },
      "file_extension": ".py",
      "mimetype": "text/x-python",
      "name": "python",
      "nbconvert_exporter": "python",
      "pygments_lexer": "ipython3",
      "version": "3.11.7"
    },
    "colab": {
      "provenance": [],
      "gpuType": "T4"
    },
    "accelerator": "GPU"
  },
  "nbformat": 4,
  "nbformat_minor": 0
}