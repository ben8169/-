{
 "cells": [
  {
   "cell_type": "code",
   "execution_count": 22,
   "metadata": {},
   "outputs": [],
   "source": [
    "f = open('myname.txt','r')\n",
    "st = f.read()\n",
    "st=st.lower()\n",
    "my_dic = dict()\n",
    "import nltk\n",
    "from nltk.stem import WordNetLemmatizer\n",
    "from nltk import pos_tag\n",
    "import pickle\n",
    "\n",
    "lemmatizer = WordNetLemmatizer()\n",
    "pos_tags = pos_tag(st.split())\n",
    "\n",
    "for word, tag in pos_tags:\n",
    "    if word == \"cloud\":\n",
    "        word = \"cloud computing\"\n",
    "    elif word == \"computing\":\n",
    "        continue\n",
    "    else:\n",
    "        pass\n",
    "    base_form = lemmatizer.lemmatize(word)\n",
    "    my_dic[word] = [base_form, tag]\n",
    "\n",
    "\n",
    "cnt = 0\n",
    "while cnt<5:\n",
    "    new_word = input()\n",
    "    if new_word in my_dic:\n",
    "        print(my_dic[new_word])\n",
    "    else:\n",
    "        my_dic[new_word] = [lemmatizer.lemmatize(new_word),pos_tag([new_word])[0][1]]\n",
    "        cnt += 1\n",
    "        print(f\"new_word:{cnt}\")\n",
    "\n",
    "with open('my_dic.json', 'wb') as f:\n",
    "    pickle.dump(my_dic, f)\n",
    "with open('my_dic.json', 'rb') as f:\n",
    "    my_dic_read = pickle.load(f)"
   ]
  },
  {
   "cell_type": "code",
   "execution_count": 16,
   "metadata": {},
   "outputs": [
    {
     "name": "stdout",
     "output_type": "stream",
     "text": [
      "female:1\n"
     ]
    }
   ],
   "source": [
    "passenger_list = [\n",
    "    ['1','John, Mr. Henry', 'A2'],\n",
    "    ['2','Patrick', 'C4'],\n",
    "    ['3','', 'B3'],\n",
    "    ['4','Mr', ''],\n",
    "    ['5','John, Mr. Kim', 'A'],\n",
    "    ['6','', '23'],\n",
    "    ['7','Mrs. Emile', 'A1'],\n",
    "]\n",
    "\n",
    "def func1():\n",
    "    female=0\n",
    "    for line in passenger_list:\n",
    "        if (\"Mrs.\" in line[1] or \"Ms.\" in line[1]):\n",
    "            female+=1\n",
    "    print(\"female:%d\"%female)\n",
    "\n",
    "func1()"
   ]
  },
  {
   "cell_type": "code",
   "execution_count": 18,
   "metadata": {},
   "outputs": [
    {
     "name": "stdout",
     "output_type": "stream",
     "text": [
      "3 1 3\n"
     ]
    }
   ],
   "source": [
    "def func2():\n",
    "    a_class=0\n",
    "    b_class=0\n",
    "    c_class=0\n",
    "    for line in passenger_list:\n",
    "        if (\"A\" in line[2]):\n",
    "            a_class+=1\n",
    "        elif (\"B\" in line[2]):\n",
    "            b_class+=1\n",
    "        else:\n",
    "            c_class+=1\n",
    "\n",
    "    print(a_class,b_class,c_class)\n",
    "func2()"
   ]
  },
  {
   "cell_type": "code",
   "execution_count": 19,
   "metadata": {},
   "outputs": [
    {
     "name": "stdout",
     "output_type": "stream",
     "text": [
      "4\n"
     ]
    }
   ],
   "source": [
    "def func3():\n",
    "    import re\n",
    "    male = 0\n",
    "    mr = re.compile(r'.*Mr.*')\n",
    "    for line in passenger_list:\n",
    "        if (mr.search(line[1])):\n",
    "            male+=1\n",
    "    print(male)\n",
    "func3()"
   ]
  },
  {
   "cell_type": "code",
   "execution_count": 20,
   "metadata": {},
   "outputs": [
    {
     "data": {
      "text/plain": [
       "[['1', 'John, Mr. Henry', 'A'],\n",
       " ['2', 'Patrick', 'C'],\n",
       " ['3', '', 'B'],\n",
       " ['4', 'Mr', ''],\n",
       " ['5', 'John, Mr. Kim', 'A'],\n",
       " ['6', '', ''],\n",
       " ['7', 'Mrs. Emile', 'A']]"
      ]
     },
     "execution_count": 20,
     "metadata": {},
     "output_type": "execute_result"
    }
   ],
   "source": [
    "def func4():\n",
    "    for line in passenger_list:\n",
    "        line[2] = ''.join(i for i in line[2] if not i.isdigit())\n",
    "\n",
    "func4()\n",
    "passenger_list"
   ]
  },
  {
   "cell_type": "code",
   "execution_count": 21,
   "metadata": {},
   "outputs": [
    {
     "data": {
      "text/plain": [
       "[['1', 'Mr. Henry', 'A'],\n",
       " ['2', '', 'C'],\n",
       " ['3', '', 'B'],\n",
       " ['4', '', ''],\n",
       " ['5', 'Mr. Kim', 'A'],\n",
       " ['6', '', ''],\n",
       " ['7', '', 'A']]"
      ]
     },
     "execution_count": 21,
     "metadata": {},
     "output_type": "execute_result"
    }
   ],
   "source": [
    "def func5():\n",
    "    for line in passenger_list:\n",
    "        line[1] = ''.join(line[1].split(\", \")[1:])\n",
    "func5()\n",
    "passenger_list"
   ]
  },
  {
   "cell_type": "code",
   "execution_count": 54,
   "metadata": {},
   "outputs": [],
   "source": [
    "class Beverage:\n",
    "    def __init__(self,size,name):\n",
    "        self.name = name\n",
    "        self.caffeine = 0\n",
    "        self.size = size\n",
    "    def __repr__(self):\n",
    "        return f\"{self.name} drink\"\n",
    "    \n",
    "    def contains_caffeine(self):\n",
    "        if (self.caffeine):\n",
    "            return f\"Contains {self.caffeine}mg per cup\"\n",
    "        else:\n",
    "            return \"No caffeine\"\n",
    "        \n",
    "class Coffee(Beverage):\n",
    "    def __init__(self, size='Small', name='Coffee'):\n",
    "        super().__init__(size, name)\n",
    "        self.caffeine = 125\n",
    "    def price(self):\n",
    "        return 5000\n",
    "\n",
    "class Milk(Beverage):\n",
    "    def __init__(self, size='Small', name='Milk'):\n",
    "        super().__init__(size, name)\n",
    "        self.flavor = 'Creamy'\n",
    "        self.caffeine = 0\n",
    "    def price(self):\n",
    "        return 3000\n",
    "\n",
    "class CafeLatte(Coffee,Milk):\n",
    "    def __init__(self, size):\n",
    "        super().__init__(size, \"CafeLatte\")\n",
    "\n",
    "class Lemonade(Beverage):\n",
    "    def __init__(self, size='Venti', name='Lemonade'):\n",
    "        super().__init__(size, name)\n",
    "    def price(self):\n",
    "        return 7000\n",
    "        \n"
   ]
  },
  {
   "cell_type": "code",
   "execution_count": 56,
   "metadata": {},
   "outputs": [
    {
     "data": {
      "text/plain": [
       "'Small'"
      ]
     },
     "execution_count": 56,
     "metadata": {},
     "output_type": "execute_result"
    }
   ],
   "source": [
    "coffee = Coffee()\n",
    "cafelatte1 = CafeLatte('big')\n",
    "cafelatte1.caffeine\n",
    "lemon = Lemonade()\n",
    "coffee.size"
   ]
  },
  {
   "cell_type": "code",
   "execution_count": 57,
   "metadata": {},
   "outputs": [
    {
     "data": {
      "text/plain": [
       "'No caffeine'"
      ]
     },
     "execution_count": 57,
     "metadata": {},
     "output_type": "execute_result"
    }
   ],
   "source": [
    "lemon.contains_caffeine()"
   ]
  },
  {
   "cell_type": "code",
   "execution_count": 60,
   "metadata": {},
   "outputs": [
    {
     "data": {
      "text/plain": [
       "[1, 2, 3, 4]"
      ]
     },
     "execution_count": 60,
     "metadata": {},
     "output_type": "execute_result"
    }
   ],
   "source": [
    "image = [[1,2],[3,4]]\n",
    "\n",
    "def fun1(image):\n",
    "    row = len(image)\n",
    "    col = len(image[0])\n",
    "\n",
    "    result = [0]*(row*col)\n",
    "    for r in range(row):\n",
    "        for c in range(col):\n",
    "            result[r*col+c] = image[r][c]\n",
    "    return result\n",
    "\n",
    "fun1(image)"
   ]
  },
  {
   "cell_type": "code",
   "execution_count": 61,
   "metadata": {},
   "outputs": [
    {
     "data": {
      "text/plain": [
       "[1, 2, 3, 4]"
      ]
     },
     "execution_count": 61,
     "metadata": {},
     "output_type": "execute_result"
    }
   ],
   "source": [
    "def fun2(image):\n",
    "    row = len(image)\n",
    "    col = len(image[0])\n",
    "\n",
    "    result = [0]*(row*col)\n",
    "    for i in range(row*col):\n",
    "        r = i//row\n",
    "        c = i % row\n",
    "        result[i] = image[r][c]\n",
    "    return result\n",
    "\n",
    "fun2(image)"
   ]
  },
  {
   "cell_type": "code",
   "execution_count": 64,
   "metadata": {},
   "outputs": [
    {
     "data": {
      "text/plain": [
       "[[1, 2], [3, 4]]"
      ]
     },
     "execution_count": 64,
     "metadata": {},
     "output_type": "execute_result"
    }
   ],
   "source": [
    "def fun3(image):\n",
    "    result=[]\n",
    "    for row in image:\n",
    "        result.append(row)\n",
    "    return result\n",
    "fun3(image)"
   ]
  },
  {
   "cell_type": "code",
   "execution_count": 65,
   "metadata": {},
   "outputs": [
    {
     "data": {
      "text/plain": [
       "[1, 2, 3, 4]"
      ]
     },
     "execution_count": 65,
     "metadata": {},
     "output_type": "execute_result"
    }
   ],
   "source": [
    "def fun4(image):\n",
    "    result=[]\n",
    "    for row in image:\n",
    "        for pixel in row:\n",
    "            result.append(pixel)\n",
    "    return result\n",
    "fun4(image)"
   ]
  },
  {
   "cell_type": "code",
   "execution_count": 66,
   "metadata": {},
   "outputs": [
    {
     "data": {
      "text/plain": [
       "[1, 3, 2, 4]"
      ]
     },
     "execution_count": 66,
     "metadata": {},
     "output_type": "execute_result"
    }
   ],
   "source": [
    "def fun5(image):\n",
    "    row = len(image)\n",
    "    col = len(image[0])\n",
    "\n",
    "    result = []\n",
    "    for c in range(col):\n",
    "        for r in range(row):\n",
    "            pixel = image[r][c]\n",
    "            result.append(pixel)\n",
    "\n",
    "    return result\n",
    "\n",
    "fun5(image)"
   ]
  },
  {
   "cell_type": "code",
   "execution_count": 68,
   "metadata": {},
   "outputs": [
    {
     "name": "stdout",
     "output_type": "stream",
     "text": [
      "|3 5|\n",
      "|6 7|\n",
      "|7 10|\n",
      "|7 10|\n"
     ]
    }
   ],
   "source": [
    "class TwoByTwoMatrix():\n",
    "    def __init__(self, a, b, c, d):\n",
    "        self.a = a\n",
    "        self.b = b\n",
    "        self.c = c\n",
    "        self.d = d\n",
    "    \n",
    "    def __add__(self, other):\n",
    "        a = self.a + other.a\n",
    "        b = self.b + other.b\n",
    "        c = self.c + other.c\n",
    "        d = self.d + other.d\n",
    "        return TwoByTwoMatrix(a, b, c, d)\n",
    "    \n",
    "    def __mul__(self, other):\n",
    "        a = self.a * other.a + self.b * other.c\n",
    "        b = self.a * other.b + self.b * other.d\n",
    "        c = self.c * other.a + self.d * other.c\n",
    "        d = self.c * other.b + self.d * other.d\n",
    "        return TwoByTwoMatrix(a, b, c, d)\n",
    "    \n",
    "    def __repr__(self) -> str:\n",
    "        return \"|{} {}|\\n|{} {}|\".format(self.a,self.b,self.c,self.d)\n",
    "    \n",
    "mat_a = TwoByTwoMatrix(1,1,1,1)\n",
    "mat_b = TwoByTwoMatrix(2,4,5,6)\n",
    "\n",
    "\n",
    "print(mat_a+mat_b)\n",
    "print(mat_a*mat_b)\n",
    "    \n",
    "    "
   ]
  },
  {
   "cell_type": "code",
   "execution_count": 80,
   "metadata": {},
   "outputs": [
    {
     "name": "stdout",
     "output_type": "stream",
     "text": [
      "Ellipsis\n"
     ]
    }
   ],
   "source": [
    "import random\n",
    "lst=[]\n",
    "for _ in range(10000):\n",
    "    lst.append(random.randrange(5)+1)\n",
    "if 5 in lst:\n",
    "    print(...)"
   ]
  },
  {
   "cell_type": "code",
   "execution_count": null,
   "metadata": {},
   "outputs": [],
   "source": [
    "win!\n",
    "Total=6\n",
    "\n",
    "Lose!\n",
    "Total =6"
   ]
  },
  {
   "cell_type": "code",
   "execution_count": 85,
   "metadata": {},
   "outputs": [
    {
     "name": "stdout",
     "output_type": "stream",
     "text": [
      "except\n",
      "1\n"
     ]
    }
   ],
   "source": [
    "score가 짝수, 0이면 try\n",
    "score가 홀수이면 except"
   ]
  },
  {
   "cell_type": "code",
   "execution_count": 88,
   "metadata": {},
   "outputs": [],
   "source": [
    "2 2 2 -> 1\n",
    "\n",
    "10/1\n"
   ]
  },
  {
   "cell_type": "code",
   "execution_count": 90,
   "metadata": {},
   "outputs": [
    {
     "data": {
      "text/plain": [
       "0.046296296296296294"
      ]
     },
     "execution_count": 90,
     "metadata": {},
     "output_type": "execute_result"
    }
   ],
   "source": [
    "10/(6*6*6)"
   ]
  },
  {
   "cell_type": "code",
   "execution_count": 91,
   "metadata": {},
   "outputs": [
    {
     "data": {
      "text/plain": [
       "108"
      ]
     },
     "execution_count": 91,
     "metadata": {},
     "output_type": "execute_result"
    }
   ],
   "source": [
    "3*36"
   ]
  },
  {
   "cell_type": "code",
   "execution_count": 96,
   "metadata": {},
   "outputs": [
    {
     "ename": "ValueError",
     "evalue": "too many values to unpack (expected 3)",
     "output_type": "error",
     "traceback": [
      "\u001b[0;31m---------------------------------------------------------------------------\u001b[0m",
      "\u001b[0;31mValueError\u001b[0m                                Traceback (most recent call last)",
      "Cell \u001b[0;32mIn[96], line 1\u001b[0m\n\u001b[0;32m----> 1\u001b[0m N, M, V \u001b[38;5;241m=\u001b[39m \u001b[38;5;28mlist\u001b[39m(\u001b[38;5;28mmap\u001b[39m(\u001b[38;5;28mint\u001b[39m,(\u001b[38;5;28minput\u001b[39m()\u001b[38;5;241m.\u001b[39msplit())))\n\u001b[1;32m      3\u001b[0m graph \u001b[38;5;241m=\u001b[39m \u001b[38;5;28mdict\u001b[39m()\n\u001b[1;32m      4\u001b[0m \u001b[38;5;28;01mfor\u001b[39;00m i \u001b[38;5;129;01min\u001b[39;00m \u001b[38;5;28mrange\u001b[39m(M):\n",
      "\u001b[0;31mValueError\u001b[0m: too many values to unpack (expected 3)"
     ]
    }
   ],
   "source": [
    "N, M, V = list(map(int,(input().split())))\n",
    "\n",
    "graph = dict()\n",
    "for i in range(M):\n",
    "    x, y = list(map(int,(input().split())))\n",
    "    if graph[x] == None:\n",
    "        graph[x] = y\n",
    "    else:\n",
    "        graph[x].append(y)\n",
    "\n",
    "graph\n"
   ]
  },
  {
   "cell_type": "code",
   "execution_count": 6,
   "metadata": {},
   "outputs": [
    {
     "ename": "AttributeError",
     "evalue": "'set' object has no attribute 'sort'",
     "output_type": "error",
     "traceback": [
      "\u001b[0;31m---------------------------------------------------------------------------\u001b[0m",
      "\u001b[0;31mAttributeError\u001b[0m                            Traceback (most recent call last)",
      "Cell \u001b[0;32mIn[6], line 1\u001b[0m\n\u001b[0;32m----> 1\u001b[0m \u001b[43m{\u001b[49m\u001b[38;5;241;43m1\u001b[39;49m\u001b[43m,\u001b[49m\u001b[38;5;241;43m2\u001b[39;49m\u001b[43m,\u001b[49m\u001b[38;5;241;43m5\u001b[39;49m\u001b[43m,\u001b[49m\u001b[38;5;241;43m3\u001b[39;49m\u001b[43m}\u001b[49m\u001b[38;5;241;43m.\u001b[39;49m\u001b[43msort\u001b[49m()\n",
      "\u001b[0;31mAttributeError\u001b[0m: 'set' object has no attribute 'sort'"
     ]
    }
   ],
   "source": [
    "{1,2,5,3}.sort()"
   ]
  },
  {
   "cell_type": "code",
   "execution_count": 12,
   "metadata": {},
   "outputs": [
    {
     "name": "stdout",
     "output_type": "stream",
     "text": [
      "1000 999\n",
      "1000 999\n"
     ]
    }
   ],
   "source": [
    "import sys\n",
    "import queue\n",
    "\n",
    "N, M, V = map(int, input().split())\n",
    "\n",
    "graph = dict()\n",
    "\n",
    "for _ in range(M):\n",
    "    a, b = map(int, input().split())\n",
    "    if a not in graph:\n",
    "        graph[a] = {b}\n",
    "    else:\n",
    "        graph[a].add(b)\n",
    "    \n",
    "    a, b = b, a\n",
    "    if a not in graph:\n",
    "        graph[a] = {b}\n",
    "    else:\n",
    "        graph[a].add(b)\n",
    "        \n",
    "for i in graph:\n",
    "    graph[i] = sorted(graph[i])\n",
    "    \n",
    "\n",
    "def DFS(graph, start):\n",
    "    stk = queue.LifoQueue()\n",
    "    stk.put(start)\n",
    "    visited = []\n",
    "\n",
    "    while not stk.empty():\n",
    "        tmp = stk.get()\n",
    "        if tmp not in visited:\n",
    "            visited.append(tmp)\n",
    "            if tmp in graph:\n",
    "                for i in reversed(graph[tmp]):\n",
    "                    stk.put(i)\n",
    "    return visited\n",
    "\n",
    "def BFS(graph, start):\n",
    "    q = queue.Queue()\n",
    "    q.put(start)\n",
    "    visited = []\n",
    "\n",
    "    while not q.empty():\n",
    "        tmp = q.get()\n",
    "        if tmp not in visited:\n",
    "            visited.append(tmp)\n",
    "            if tmp in graph:    \n",
    "                for i in graph[tmp]:\n",
    "                    q.put(i)\n",
    "    return visited\n",
    "\n",
    "print(*DFS(graph, V))\n",
    "print(*BFS(graph, V))"
   ]
  },
  {
   "cell_type": "code",
   "execution_count": null,
   "metadata": {},
   "outputs": [],
   "source": []
  }
 ],
 "metadata": {
  "kernelspec": {
   "display_name": "Python 3",
   "language": "python",
   "name": "python3"
  },
  "language_info": {
   "codemirror_mode": {
    "name": "ipython",
    "version": 3
   },
   "file_extension": ".py",
   "mimetype": "text/x-python",
   "name": "python",
   "nbconvert_exporter": "python",
   "pygments_lexer": "ipython3",
   "version": "3.9.6"
  }
 },
 "nbformat": 4,
 "nbformat_minor": 2
}
