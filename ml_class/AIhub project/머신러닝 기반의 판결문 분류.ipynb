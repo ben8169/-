{
  "cells": [
    {
      "attachments": {},
      "cell_type": "markdown",
      "metadata": {
        "id": "T9d2pfGC_gYR"
      },
      "source": [
        "### 사전준비"
      ]
    },
    {
      "attachments": {},
      "cell_type": "markdown",
      "metadata": {
        "id": "PoyF_9zh_s7r"
      },
      "source": [
        "### 환경설정\n"
      ]
    },
    {
      "cell_type": "code",
      "execution_count": 1,
      "metadata": {},
      "outputs": [
        {
          "name": "stdout",
          "output_type": "stream",
          "text": [
            "['cmtt10', 'DejaVu Sans', 'STIXGeneral', 'DejaVu Sans Mono', 'STIXSizeFourSym', 'STIXSizeFiveSym', 'STIXSizeTwoSym', 'DejaVu Sans Mono', 'STIXGeneral', 'DejaVu Serif', 'STIXNonUnicode', 'STIXSizeOneSym', 'DejaVu Sans Mono', 'cmr10', 'STIXNonUnicode', 'STIXSizeTwoSym', 'STIXSizeOneSym', 'DejaVu Serif Display', 'DejaVu Sans', 'STIXGeneral', 'STIXGeneral', 'DejaVu Sans', 'cmmi10', 'STIXSizeThreeSym', 'cmb10', 'DejaVu Serif', 'STIXSizeThreeSym', 'DejaVu Sans', 'cmss10', 'DejaVu Sans Mono', 'DejaVu Serif', 'DejaVu Serif', 'cmex10', 'cmsy10', 'STIXNonUnicode', 'STIXSizeFourSym', 'STIXNonUnicode', 'DejaVu Sans Display', 'Tahoma', 'Gadugi', 'Bradley Hand ITC', 'SimSun-ExtB', 'Berlin Sans FB Demi', 'OCR A Extended', 'Calibri', 'Microsoft New Tai Lue', 'Lucida Sans', 'Segoe UI', 'Lucida Sans Unicode', 'HYHeadLine-Medium', 'Broadway', 'Sylfaen', 'Papyrus', 'Rockwell Condensed', 'Trebuchet MS', 'Cambria', 'Pyunji R', 'Bell MT', 'Candara', 'Cambria', 'Courier New', 'Elephant', 'New Gulim', 'Century Gothic', 'Freestyle Script', 'Curlz MT', 'Sitka', 'Lucida Sans Typewriter', 'Yet R', 'Gadugi', 'Lucida Console', 'Rockwell Condensed', 'Arial', 'Perpetua', 'Palatino Linotype', 'Georgia', 'Bookman Old Style', 'Tw Cen MT', 'Lucida Fax', 'Baskerville Old Face', 'Gabriola', 'Tw Cen MT', 'Segoe UI', 'Niagara Solid', 'Felix Titling', 'Comic Sans MS', 'Arial', 'Century Schoolbook', 'Century Gothic', 'Garamond', 'Gill Sans MT', 'Bodoni MT', 'Corbel', 'Georgia', 'Times New Roman', 'Lucida Fax', 'Segoe Script', 'Arial', 'Calibri', 'Corbel', 'Perpetua', 'Lucida Sans Typewriter', 'Bodoni MT', 'Book Antiqua', 'Verdana', 'Constantia', 'MT Extra', 'Showcard Gothic', 'Bookshelf Symbol 7', 'Rockwell Extra Bold', 'Goudy Old Style', 'Century Gothic', 'Rockwell', 'Candara', 'Matura MT Script Capitals', 'French Script MT', 'Bookman Old Style', 'Poor Richard', 'Webdings', 'Segoe UI', 'HoloLens MDL2 Assets', 'Bodoni MT', 'Leelawadee UI', 'Informal Roman', 'Old English Text MT', 'Gill Sans Ultra Bold Condensed', 'Garamond', 'Calibri', 'Palatino Linotype', 'Eras Demi ITC', 'Franklin Gothic Heavy', 'Wide Latin', 'Agency FB', 'Gill Sans Ultra Bold', 'Bodoni MT', 'Forte', 'Cambria', 'Yu Gothic', 'Magic R', 'Segoe UI', 'Century Gothic', 'Leelawadee UI', 'Segoe Print', 'Corbel', 'Segoe UI', 'Castellar', 'Script MT Bold', 'Malgun Gothic', 'Microsoft JhengHei', 'Bernard MT Condensed', 'Gill Sans MT', 'Trebuchet MS', 'HYGothic-Medium', 'Candara', 'Palace Script MT', 'Franklin Gothic Demi', 'Rage Italic', 'Perpetua Titling MT', 'Harrington', 'Segoe UI', 'Colonna MT', 'Tempus Sans ITC', 'Lucida Handwriting', 'Lucida Sans', 'Century Schoolbook', 'Kunstler Script', 'Segoe UI', 'Microsoft PhagsPa', 'Century', 'Dubai', 'Viner Hand ITC', 'Ravie', 'Ami R', 'Pristina', 'Calibri', 'Calibri', 'Nirmala UI', 'Lucida Bright', 'HYShortSamul-Medium', 'Bell MT', 'Verdana', 'Calisto MT', 'Lucida Bright', 'Constantia', 'Agency FB', 'Dubai', 'Segoe UI', 'Goudy Stout', 'Niagara Engraved', 'Onyx', 'Bodoni MT', 'Franklin Gothic Medium', 'Times New Roman', 'Parchment', 'Constantia', 'Calisto MT', 'Mistral', 'Arial', 'Stencil', 'Comic Sans MS', 'Tw Cen MT', 'Arial', 'Perpetua', 'Mongolian Baiti', 'Playbill', 'Brush Script MT', 'Microsoft Himalaya', 'Tahoma', 'Cambria', 'Candara', 'Bodoni MT', 'Comic Sans MS', 'Courier New', 'Book Antiqua', 'Tw Cen MT Condensed', 'Rockwell', 'Lucida Sans Typewriter', 'Corbel', 'Segoe UI Historic', 'Candara', 'Lucida Calligraphy', 'Palatino Linotype', 'Myanmar Text', 'Goudy Old Style', 'Franklin Gothic Book', 'Headline R', 'Berlin Sans FB', 'HYPMokGak-Bold', 'Corbel', 'Verdana', 'Bodoni MT', 'Haettenschweiler', 'Wingdings', 'MS Outlook', 'Lucida Sans', 'Myanmar Text', 'Sitka', 'Franklin Gothic Demi Cond', 'Centaur', 'Edwardian Script ITC', 'Franklin Gothic Medium', 'Gloucester MT Extra Condensed', 'Batang', 'Trebuchet MS', 'Microsoft PhagsPa', 'Gigi', 'Microsoft YaHei', 'HYPost-Medium', 'Lucida Sans', 'Microsoft JhengHei', 'Juice ITC', 'Century Schoolbook', 'Jokerman', 'MingLiU-ExtB', 'Bodoni MT', 'Harlow Solid Italic', 'Tw Cen MT Condensed Extra Bold', 'Californian FB', 'Consolas', 'Nirmala UI', 'Yu Gothic', 'Eras Bold ITC', 'Courier New', 'Segoe UI Variable', 'HYMyeongJo-Extra', 'Consolas', 'Arial Rounded MT Bold', 'Bookman Old Style', 'Gulim', 'Microsoft JhengHei', 'Franklin Gothic Medium Cond', 'Arial', 'Engravers MT', 'Malgun Gothic', 'SimSun', 'Microsoft Tai Le', 'High Tower Text', 'Consolas', 'Comic Sans MS', 'Bodoni MT', 'Footlight MT Light', 'Rockwell', 'HYGothic-Extra', 'Eras Medium ITC', 'Ebrima', 'Microsoft Sans Serif', 'Calisto MT', 'Georgia', 'Maiandra GD', 'Perpetua', 'Eras Light ITC', 'Times New Roman', 'Gill Sans MT', 'Corbel', 'Times New Roman', 'Modern No. 20', 'Book Antiqua', 'Britannic Bold', 'Chiller', 'Californian FB', 'Franklin Gothic Heavy', 'Imprint MT Shadow', 'Arial', 'Candara', 'Book Antiqua', 'Century Schoolbook', 'Constantia', 'Garamond', 'Nirmala UI', 'Segoe Print', 'HYGungSo-Bold', 'Segoe UI Symbol', 'Bell MT', 'Segoe UI', 'Yu Gothic', 'Goudy Old Style', 'Wingdings 2', 'Ebrima', 'Elephant', 'Microsoft New Tai Lue', 'Magneto', 'Segoe UI', 'Arial', 'HYPost-Light', 'Tw Cen MT Condensed', 'Franklin Gothic Book', 'Microsoft YaHei', 'Trebuchet MS', 'Berlin Sans FB', 'MoeumT R', 'Segoe Script', 'Impact', 'Kristen ITC', 'Bodoni MT', 'Symbol', 'Malgun Gothic', 'MS Gothic', 'Lucida Sans Typewriter', 'Leelawadee UI', 'Segoe Fluent Icons', 'Dubai', 'Segoe MDL2 Assets', 'Lucida Bright', 'Blackadder ITC', 'Arial', 'Tw Cen MT', 'Microsoft Yi Baiti', 'Gill Sans MT Condensed', 'Copperplate Gothic Bold', 'Palatino Linotype', 'Georgia', 'Gill Sans MT', 'Calisto MT', 'Copperplate Gothic Light', 'Ink Free', 'Californian FB', 'HYGraphic-Medium', 'Vivaldi', 'Bookman Old Style', 'Dubai', 'Verdana', 'Bahnschrift', 'Rockwell', 'Microsoft YaHei', 'Yu Gothic', 'Bauhaus 93', 'Consolas', 'MV Boli', 'Cooper Black', 'Franklin Gothic Demi', 'Perpetua Titling MT', 'High Tower Text', 'Sans Serif Collection', 'HYSinMyeongJo-Medium', 'Lucida Fax', 'Algerian', 'Courier New', 'Vladimir Script', 'Lucida Fax', 'Javanese Text', 'Wingdings 3', 'Snap ITC', 'Segoe UI Emoji', 'Segoe UI', 'Monotype Corsiva', 'MS Reference Specialty', 'MS Reference Sans Serif', 'Bodoni MT', 'Lucida Bright', 'Calibri', 'Gill Sans MT Ext Condensed Bold', 'Microsoft Tai Le', 'Segoe UI']\n"
          ]
        }
      ],
      "source": [
        "# 한글 깨짐을 방지하는 코드\n",
        "import matplotlib.pyplot as plt\n",
        "\n",
        "# 가능한 font list 확인\n",
        "import matplotlib.font_manager as fm\n",
        "f = [f.name for f in fm.fontManager.ttflist]\n",
        "print(f)\n",
        "\n",
        "# 확인 이후\n",
        "plt.rc('font', family='Malgun Gothic')"
      ]
    },
    {
      "cell_type": "code",
      "execution_count": 2,
      "metadata": {
        "id": "5M90KUrJ_fL1"
      },
      "outputs": [],
      "source": [
        "import pandas as pd\n",
        "import numpy as np\n",
        "import re\n",
        "import io\n",
        "import os\n",
        "from tqdm.notebook import tqdm\n",
        "tqdm.pandas()\n",
        "from torch.utils.data import Dataset, DataLoader\n",
        "from ml_things import plot_dict, plot_confusion_matrix, fix_text\n",
        "from sklearn.metrics import classification_report, accuracy_score\n",
        "\n",
        "# GPU 메모리 및 최대 시퀀스 길이에 따른 배치 수 설정이 필요\n",
        "# 시퀀스 길이가 짧다면 32 이상의 배치 사이즈를 사용하는 것이 가능\n",
        "batch_size = 32\n",
        "\n",
        "data_path ='./판결문'\n",
        "# data_path ='./archive/라벨링데이터/판결문'\n",
        "\n",
        "# 분류 라벨\n",
        "labels_ids = {'01_주장':0, '02_사실':1, '03_판단':2, '04_결론':3}\n",
        "\n",
        "# How many labels are we using in training.\n",
        "# This is used to decide size of classification head.\n",
        "n_labels = len(labels_ids)"
      ]
    },
    {
      "attachments": {},
      "cell_type": "markdown",
      "metadata": {
        "id": "TOV7a7heAE7z"
      },
      "source": [
        "### 학습데이터 전처리"
      ]
    },
    {
      "cell_type": "code",
      "execution_count": 3,
      "metadata": {
        "id": "EocADwxX_fTy"
      },
      "outputs": [],
      "source": [
        "import json\n",
        "def is_json_key_present(json, key):\n",
        "    try:\n",
        "        buf = json[key]\n",
        "    except KeyError:\n",
        "        return False\n",
        "    return True\n",
        "\n",
        "class JsonDataset(Dataset):\n",
        " \n",
        "\n",
        "  def __init__(self, path):\n",
        "\n",
        "    # Check if path exists.\n",
        "    if not os.path.isdir(path):\n",
        "      # Raise error if path is invalid.\n",
        "      raise ValueError('Invalid `path` variable! Needs to be a directory')\n",
        "    self.texts = []\n",
        "    self.labels = []\n",
        "\n",
        "    \n",
        "    for label in ['01.민사', '02.형사', '03.행정']:\n",
        "      sentiment_path = os.path.join(path, label)\n",
        "\n",
        "      # Get all files from path.\n",
        "      for (root, directories, files) in os.walk(sentiment_path):\n",
        "      # Go through each file and read its content.\n",
        "        for file_name in tqdm(files, desc=f'{root} files'):\n",
        "          file_path = os.path.join(root, file_name)          \n",
        "          with open(file_path, \"r\") as json_file:\n",
        "            json_data  =  json.load(json_file)        \n",
        "            if(is_json_key_present(json_data,\"assrs\") and is_json_key_present(json_data['assrs'],\"acusrAssrs\")) :             \n",
        "              for data in json_data['assrs']['acusrAssrs'] :\n",
        "                self.texts.append(fix_text(data))\n",
        "                self.labels.append('01_주장')\n",
        "\n",
        "            if(is_json_key_present(json_data,\"assrs\") and is_json_key_present(json_data['assrs'],\"dedatAssrs\")) :\n",
        "              for data in json_data['assrs']['dedatAssrs'] :\n",
        "                self.texts.append(fix_text(data))\n",
        "                self.labels.append('01_주장')\n",
        "\n",
        "            if(is_json_key_present(json_data,\"facts\") and is_json_key_present(json_data['facts'],\"bsisFacts\")) :\n",
        "              for data in json_data['facts']['bsisFacts'] :\n",
        "                self.texts.append(fix_text(data))\n",
        "                self.labels.append('02_사실')\n",
        "\n",
        "        \n",
        "            if(is_json_key_present(json_data,\"dcss\") and is_json_key_present(json_data['dcss'],\"courtDcss\")) :\n",
        "              for data in json_data['dcss']['courtDcss'] :\n",
        "                self.texts.append(fix_text(data))\n",
        "                self.labels.append('03_판단')\n",
        "      \n",
        "            if(is_json_key_present(json_data,\"close\") and is_json_key_present(json_data['close'],\"cnclsns\")) :\n",
        "              for data in json_data['close']['cnclsns'] :\n",
        "\n",
        "                self.texts.append(fix_text(data))\n",
        "                self.labels.append('04_결론')\n",
        "    # Number of exmaples.\n",
        "    self.n_examples = len(self.labels)\n",
        "    return\n",
        "  \n",
        "  def __len__(self):\n",
        "    return self.n_examples\n",
        "\n",
        "  def __getitem__(self, item):\n",
        "    return {'text':self.texts[item],\n",
        "            'label':self.labels[item]}"
      ]
    },
    {
      "attachments": {},
      "cell_type": "markdown",
      "metadata": {
        "id": "R4xr2V1aAJjy"
      },
      "source": [
        "### 모델 초기화"
      ]
    },
    {
      "attachments": {},
      "cell_type": "markdown",
      "metadata": {
        "id": "6REEvvVqYByF"
      },
      "source": [
        "## 학습데이터 LOAD\n"
      ]
    },
    {
      "cell_type": "code",
      "execution_count": 4,
      "metadata": {
        "id": "Si_d402r_fYN"
      },
      "outputs": [
        {
          "name": "stderr",
          "output_type": "stream",
          "text": [
            "c:\\Users\\ben81\\anaconda3\\Lib\\site-packages\\ipywidgets\\widgets\\widget.py:438: DeprecationWarning: The `ipykernel.comm.Comm` class has been deprecated. Please use the `comm` module instead.For creating comms, use the function `from comm import create_comm`.\n",
            "  self.comm = Comm(**args)\n",
            "c:\\Users\\ben81\\anaconda3\\Lib\\site-packages\\ipywidgets\\widgets\\widget.py:438: DeprecationWarning: The `ipykernel.comm.Comm` class has been deprecated. Please use the `comm` module instead.For creating comms, use the function `from comm import create_comm`.\n",
            "  self.comm = Comm(**args)\n",
            "c:\\Users\\ben81\\anaconda3\\Lib\\site-packages\\ipywidgets\\widgets\\widget.py:438: DeprecationWarning: The `ipykernel.comm.Comm` class has been deprecated. Please use the `comm` module instead.For creating comms, use the function `from comm import create_comm`.\n",
            "  self.comm = Comm(**args)\n",
            "c:\\Users\\ben81\\anaconda3\\Lib\\site-packages\\ipywidgets\\widgets\\widget.py:438: DeprecationWarning: The `ipykernel.comm.Comm` class has been deprecated. Please use the `comm` module instead.For creating comms, use the function `from comm import create_comm`.\n",
            "  self.comm = Comm(**args)\n",
            "c:\\Users\\ben81\\anaconda3\\Lib\\site-packages\\ipywidgets\\widgets\\widget.py:438: DeprecationWarning: The `ipykernel.comm.Comm` class has been deprecated. Please use the `comm` module instead.For creating comms, use the function `from comm import create_comm`.\n",
            "  self.comm = Comm(**args)\n",
            "c:\\Users\\ben81\\anaconda3\\Lib\\site-packages\\ipywidgets\\widgets\\widget.py:438: DeprecationWarning: The `ipykernel.comm.Comm` class has been deprecated. Please use the `comm` module instead.For creating comms, use the function `from comm import create_comm`.\n",
            "  self.comm = Comm(**args)\n",
            "c:\\Users\\ben81\\anaconda3\\Lib\\site-packages\\ipywidgets\\widgets\\widget.py:438: DeprecationWarning: The `ipykernel.comm.Comm` class has been deprecated. Please use the `comm` module instead.For creating comms, use the function `from comm import create_comm`.\n",
            "  self.comm = Comm(**args)\n",
            "c:\\Users\\ben81\\anaconda3\\Lib\\site-packages\\ipywidgets\\widgets\\widget.py:438: DeprecationWarning: The `ipykernel.comm.Comm` class has been deprecated. Please use the `comm` module instead.For creating comms, use the function `from comm import create_comm`.\n",
            "  self.comm = Comm(**args)\n",
            "c:\\Users\\ben81\\anaconda3\\Lib\\site-packages\\ipywidgets\\widgets\\widget.py:438: DeprecationWarning: The `ipykernel.comm.Comm` class has been deprecated. Please use the `comm` module instead.For creating comms, use the function `from comm import create_comm`.\n",
            "  self.comm = Comm(**args)\n",
            "c:\\Users\\ben81\\anaconda3\\Lib\\site-packages\\ipywidgets\\widgets\\widget.py:438: DeprecationWarning: The `ipykernel.comm.Comm` class has been deprecated. Please use the `comm` module instead.For creating comms, use the function `from comm import create_comm`.\n",
            "  self.comm = Comm(**args)\n",
            "c:\\Users\\ben81\\anaconda3\\Lib\\site-packages\\ipywidgets\\widgets\\widget.py:438: DeprecationWarning: The `ipykernel.comm.Comm` class has been deprecated. Please use the `comm` module instead.For creating comms, use the function `from comm import create_comm`.\n",
            "  self.comm = Comm(**args)\n"
          ]
        },
        {
          "data": {
            "application/vnd.jupyter.widget-view+json": {
              "model_id": "fcbd789179594607810ba2e1330523b7",
              "version_major": 2,
              "version_minor": 0
            },
            "text/plain": [
              "./판결문\\01.민사 files: 0it [00:00, ?it/s]"
            ]
          },
          "metadata": {},
          "output_type": "display_data"
        },
        {
          "name": "stderr",
          "output_type": "stream",
          "text": [
            "c:\\Users\\ben81\\anaconda3\\Lib\\site-packages\\ipywidgets\\widgets\\widget.py:438: DeprecationWarning: The `ipykernel.comm.Comm` class has been deprecated. Please use the `comm` module instead.For creating comms, use the function `from comm import create_comm`.\n",
            "  self.comm = Comm(**args)\n",
            "c:\\Users\\ben81\\anaconda3\\Lib\\site-packages\\ipywidgets\\widgets\\widget.py:438: DeprecationWarning: The `ipykernel.comm.Comm` class has been deprecated. Please use the `comm` module instead.For creating comms, use the function `from comm import create_comm`.\n",
            "  self.comm = Comm(**args)\n",
            "c:\\Users\\ben81\\anaconda3\\Lib\\site-packages\\ipywidgets\\widgets\\widget.py:438: DeprecationWarning: The `ipykernel.comm.Comm` class has been deprecated. Please use the `comm` module instead.For creating comms, use the function `from comm import create_comm`.\n",
            "  self.comm = Comm(**args)\n",
            "c:\\Users\\ben81\\anaconda3\\Lib\\site-packages\\ipywidgets\\widgets\\widget.py:438: DeprecationWarning: The `ipykernel.comm.Comm` class has been deprecated. Please use the `comm` module instead.For creating comms, use the function `from comm import create_comm`.\n",
            "  self.comm = Comm(**args)\n",
            "c:\\Users\\ben81\\anaconda3\\Lib\\site-packages\\ipywidgets\\widgets\\widget.py:438: DeprecationWarning: The `ipykernel.comm.Comm` class has been deprecated. Please use the `comm` module instead.For creating comms, use the function `from comm import create_comm`.\n",
            "  self.comm = Comm(**args)\n",
            "c:\\Users\\ben81\\anaconda3\\Lib\\site-packages\\ipywidgets\\widgets\\widget.py:438: DeprecationWarning: The `ipykernel.comm.Comm` class has been deprecated. Please use the `comm` module instead.For creating comms, use the function `from comm import create_comm`.\n",
            "  self.comm = Comm(**args)\n",
            "c:\\Users\\ben81\\anaconda3\\Lib\\site-packages\\ipywidgets\\widgets\\widget.py:438: DeprecationWarning: The `ipykernel.comm.Comm` class has been deprecated. Please use the `comm` module instead.For creating comms, use the function `from comm import create_comm`.\n",
            "  self.comm = Comm(**args)\n",
            "c:\\Users\\ben81\\anaconda3\\Lib\\site-packages\\ipywidgets\\widgets\\widget.py:438: DeprecationWarning: The `ipykernel.comm.Comm` class has been deprecated. Please use the `comm` module instead.For creating comms, use the function `from comm import create_comm`.\n",
            "  self.comm = Comm(**args)\n",
            "c:\\Users\\ben81\\anaconda3\\Lib\\site-packages\\ipywidgets\\widgets\\widget.py:438: DeprecationWarning: The `ipykernel.comm.Comm` class has been deprecated. Please use the `comm` module instead.For creating comms, use the function `from comm import create_comm`.\n",
            "  self.comm = Comm(**args)\n",
            "c:\\Users\\ben81\\anaconda3\\Lib\\site-packages\\ipywidgets\\widgets\\widget.py:438: DeprecationWarning: The `ipykernel.comm.Comm` class has been deprecated. Please use the `comm` module instead.For creating comms, use the function `from comm import create_comm`.\n",
            "  self.comm = Comm(**args)\n",
            "c:\\Users\\ben81\\anaconda3\\Lib\\site-packages\\ipywidgets\\widgets\\widget.py:438: DeprecationWarning: The `ipykernel.comm.Comm` class has been deprecated. Please use the `comm` module instead.For creating comms, use the function `from comm import create_comm`.\n",
            "  self.comm = Comm(**args)\n"
          ]
        },
        {
          "data": {
            "application/vnd.jupyter.widget-view+json": {
              "model_id": "bf0e2e5456ee450ab21561ef11f7bc79",
              "version_major": 2,
              "version_minor": 0
            },
            "text/plain": [
              "./판결문\\01.민사\\1981~2016 files:   0%|          | 0/3257 [00:00<?, ?it/s]"
            ]
          },
          "metadata": {},
          "output_type": "display_data"
        },
        {
          "name": "stderr",
          "output_type": "stream",
          "text": [
            "c:\\Users\\ben81\\anaconda3\\Lib\\site-packages\\ipywidgets\\widgets\\widget.py:438: DeprecationWarning: The `ipykernel.comm.Comm` class has been deprecated. Please use the `comm` module instead.For creating comms, use the function `from comm import create_comm`.\n",
            "  self.comm = Comm(**args)\n",
            "c:\\Users\\ben81\\anaconda3\\Lib\\site-packages\\ipywidgets\\widgets\\widget.py:438: DeprecationWarning: The `ipykernel.comm.Comm` class has been deprecated. Please use the `comm` module instead.For creating comms, use the function `from comm import create_comm`.\n",
            "  self.comm = Comm(**args)\n",
            "c:\\Users\\ben81\\anaconda3\\Lib\\site-packages\\ipywidgets\\widgets\\widget.py:438: DeprecationWarning: The `ipykernel.comm.Comm` class has been deprecated. Please use the `comm` module instead.For creating comms, use the function `from comm import create_comm`.\n",
            "  self.comm = Comm(**args)\n",
            "c:\\Users\\ben81\\anaconda3\\Lib\\site-packages\\ipywidgets\\widgets\\widget.py:438: DeprecationWarning: The `ipykernel.comm.Comm` class has been deprecated. Please use the `comm` module instead.For creating comms, use the function `from comm import create_comm`.\n",
            "  self.comm = Comm(**args)\n",
            "c:\\Users\\ben81\\anaconda3\\Lib\\site-packages\\ipywidgets\\widgets\\widget.py:438: DeprecationWarning: The `ipykernel.comm.Comm` class has been deprecated. Please use the `comm` module instead.For creating comms, use the function `from comm import create_comm`.\n",
            "  self.comm = Comm(**args)\n",
            "c:\\Users\\ben81\\anaconda3\\Lib\\site-packages\\ipywidgets\\widgets\\widget.py:438: DeprecationWarning: The `ipykernel.comm.Comm` class has been deprecated. Please use the `comm` module instead.For creating comms, use the function `from comm import create_comm`.\n",
            "  self.comm = Comm(**args)\n",
            "c:\\Users\\ben81\\anaconda3\\Lib\\site-packages\\ipywidgets\\widgets\\widget.py:438: DeprecationWarning: The `ipykernel.comm.Comm` class has been deprecated. Please use the `comm` module instead.For creating comms, use the function `from comm import create_comm`.\n",
            "  self.comm = Comm(**args)\n",
            "c:\\Users\\ben81\\anaconda3\\Lib\\site-packages\\ipywidgets\\widgets\\widget.py:438: DeprecationWarning: The `ipykernel.comm.Comm` class has been deprecated. Please use the `comm` module instead.For creating comms, use the function `from comm import create_comm`.\n",
            "  self.comm = Comm(**args)\n",
            "c:\\Users\\ben81\\anaconda3\\Lib\\site-packages\\ipywidgets\\widgets\\widget.py:438: DeprecationWarning: The `ipykernel.comm.Comm` class has been deprecated. Please use the `comm` module instead.For creating comms, use the function `from comm import create_comm`.\n",
            "  self.comm = Comm(**args)\n",
            "c:\\Users\\ben81\\anaconda3\\Lib\\site-packages\\ipywidgets\\widgets\\widget.py:438: DeprecationWarning: The `ipykernel.comm.Comm` class has been deprecated. Please use the `comm` module instead.For creating comms, use the function `from comm import create_comm`.\n",
            "  self.comm = Comm(**args)\n",
            "c:\\Users\\ben81\\anaconda3\\Lib\\site-packages\\ipywidgets\\widgets\\widget.py:438: DeprecationWarning: The `ipykernel.comm.Comm` class has been deprecated. Please use the `comm` module instead.For creating comms, use the function `from comm import create_comm`.\n",
            "  self.comm = Comm(**args)\n"
          ]
        },
        {
          "data": {
            "application/vnd.jupyter.widget-view+json": {
              "model_id": "f1a13352db3b4a7db2276109d3d8eb6c",
              "version_major": 2,
              "version_minor": 0
            },
            "text/plain": [
              "./판결문\\01.민사\\2017 files:   0%|          | 0/225 [00:00<?, ?it/s]"
            ]
          },
          "metadata": {},
          "output_type": "display_data"
        },
        {
          "name": "stderr",
          "output_type": "stream",
          "text": [
            "c:\\Users\\ben81\\anaconda3\\Lib\\site-packages\\ipywidgets\\widgets\\widget.py:438: DeprecationWarning: The `ipykernel.comm.Comm` class has been deprecated. Please use the `comm` module instead.For creating comms, use the function `from comm import create_comm`.\n",
            "  self.comm = Comm(**args)\n",
            "c:\\Users\\ben81\\anaconda3\\Lib\\site-packages\\ipywidgets\\widgets\\widget.py:438: DeprecationWarning: The `ipykernel.comm.Comm` class has been deprecated. Please use the `comm` module instead.For creating comms, use the function `from comm import create_comm`.\n",
            "  self.comm = Comm(**args)\n",
            "c:\\Users\\ben81\\anaconda3\\Lib\\site-packages\\ipywidgets\\widgets\\widget.py:438: DeprecationWarning: The `ipykernel.comm.Comm` class has been deprecated. Please use the `comm` module instead.For creating comms, use the function `from comm import create_comm`.\n",
            "  self.comm = Comm(**args)\n",
            "c:\\Users\\ben81\\anaconda3\\Lib\\site-packages\\ipywidgets\\widgets\\widget.py:438: DeprecationWarning: The `ipykernel.comm.Comm` class has been deprecated. Please use the `comm` module instead.For creating comms, use the function `from comm import create_comm`.\n",
            "  self.comm = Comm(**args)\n",
            "c:\\Users\\ben81\\anaconda3\\Lib\\site-packages\\ipywidgets\\widgets\\widget.py:438: DeprecationWarning: The `ipykernel.comm.Comm` class has been deprecated. Please use the `comm` module instead.For creating comms, use the function `from comm import create_comm`.\n",
            "  self.comm = Comm(**args)\n",
            "c:\\Users\\ben81\\anaconda3\\Lib\\site-packages\\ipywidgets\\widgets\\widget.py:438: DeprecationWarning: The `ipykernel.comm.Comm` class has been deprecated. Please use the `comm` module instead.For creating comms, use the function `from comm import create_comm`.\n",
            "  self.comm = Comm(**args)\n",
            "c:\\Users\\ben81\\anaconda3\\Lib\\site-packages\\ipywidgets\\widgets\\widget.py:438: DeprecationWarning: The `ipykernel.comm.Comm` class has been deprecated. Please use the `comm` module instead.For creating comms, use the function `from comm import create_comm`.\n",
            "  self.comm = Comm(**args)\n",
            "c:\\Users\\ben81\\anaconda3\\Lib\\site-packages\\ipywidgets\\widgets\\widget.py:438: DeprecationWarning: The `ipykernel.comm.Comm` class has been deprecated. Please use the `comm` module instead.For creating comms, use the function `from comm import create_comm`.\n",
            "  self.comm = Comm(**args)\n",
            "c:\\Users\\ben81\\anaconda3\\Lib\\site-packages\\ipywidgets\\widgets\\widget.py:438: DeprecationWarning: The `ipykernel.comm.Comm` class has been deprecated. Please use the `comm` module instead.For creating comms, use the function `from comm import create_comm`.\n",
            "  self.comm = Comm(**args)\n",
            "c:\\Users\\ben81\\anaconda3\\Lib\\site-packages\\ipywidgets\\widgets\\widget.py:438: DeprecationWarning: The `ipykernel.comm.Comm` class has been deprecated. Please use the `comm` module instead.For creating comms, use the function `from comm import create_comm`.\n",
            "  self.comm = Comm(**args)\n",
            "c:\\Users\\ben81\\anaconda3\\Lib\\site-packages\\ipywidgets\\widgets\\widget.py:438: DeprecationWarning: The `ipykernel.comm.Comm` class has been deprecated. Please use the `comm` module instead.For creating comms, use the function `from comm import create_comm`.\n",
            "  self.comm = Comm(**args)\n"
          ]
        },
        {
          "data": {
            "application/vnd.jupyter.widget-view+json": {
              "model_id": "afd526749ad74e3b94028b175312e9e5",
              "version_major": 2,
              "version_minor": 0
            },
            "text/plain": [
              "./판결문\\01.민사\\2018 files:   0%|          | 0/154 [00:00<?, ?it/s]"
            ]
          },
          "metadata": {},
          "output_type": "display_data"
        },
        {
          "name": "stderr",
          "output_type": "stream",
          "text": [
            "c:\\Users\\ben81\\anaconda3\\Lib\\site-packages\\ipywidgets\\widgets\\widget.py:438: DeprecationWarning: The `ipykernel.comm.Comm` class has been deprecated. Please use the `comm` module instead.For creating comms, use the function `from comm import create_comm`.\n",
            "  self.comm = Comm(**args)\n",
            "c:\\Users\\ben81\\anaconda3\\Lib\\site-packages\\ipywidgets\\widgets\\widget.py:438: DeprecationWarning: The `ipykernel.comm.Comm` class has been deprecated. Please use the `comm` module instead.For creating comms, use the function `from comm import create_comm`.\n",
            "  self.comm = Comm(**args)\n",
            "c:\\Users\\ben81\\anaconda3\\Lib\\site-packages\\ipywidgets\\widgets\\widget.py:438: DeprecationWarning: The `ipykernel.comm.Comm` class has been deprecated. Please use the `comm` module instead.For creating comms, use the function `from comm import create_comm`.\n",
            "  self.comm = Comm(**args)\n",
            "c:\\Users\\ben81\\anaconda3\\Lib\\site-packages\\ipywidgets\\widgets\\widget.py:438: DeprecationWarning: The `ipykernel.comm.Comm` class has been deprecated. Please use the `comm` module instead.For creating comms, use the function `from comm import create_comm`.\n",
            "  self.comm = Comm(**args)\n",
            "c:\\Users\\ben81\\anaconda3\\Lib\\site-packages\\ipywidgets\\widgets\\widget.py:438: DeprecationWarning: The `ipykernel.comm.Comm` class has been deprecated. Please use the `comm` module instead.For creating comms, use the function `from comm import create_comm`.\n",
            "  self.comm = Comm(**args)\n",
            "c:\\Users\\ben81\\anaconda3\\Lib\\site-packages\\ipywidgets\\widgets\\widget.py:438: DeprecationWarning: The `ipykernel.comm.Comm` class has been deprecated. Please use the `comm` module instead.For creating comms, use the function `from comm import create_comm`.\n",
            "  self.comm = Comm(**args)\n",
            "c:\\Users\\ben81\\anaconda3\\Lib\\site-packages\\ipywidgets\\widgets\\widget.py:438: DeprecationWarning: The `ipykernel.comm.Comm` class has been deprecated. Please use the `comm` module instead.For creating comms, use the function `from comm import create_comm`.\n",
            "  self.comm = Comm(**args)\n",
            "c:\\Users\\ben81\\anaconda3\\Lib\\site-packages\\ipywidgets\\widgets\\widget.py:438: DeprecationWarning: The `ipykernel.comm.Comm` class has been deprecated. Please use the `comm` module instead.For creating comms, use the function `from comm import create_comm`.\n",
            "  self.comm = Comm(**args)\n",
            "c:\\Users\\ben81\\anaconda3\\Lib\\site-packages\\ipywidgets\\widgets\\widget.py:438: DeprecationWarning: The `ipykernel.comm.Comm` class has been deprecated. Please use the `comm` module instead.For creating comms, use the function `from comm import create_comm`.\n",
            "  self.comm = Comm(**args)\n",
            "c:\\Users\\ben81\\anaconda3\\Lib\\site-packages\\ipywidgets\\widgets\\widget.py:438: DeprecationWarning: The `ipykernel.comm.Comm` class has been deprecated. Please use the `comm` module instead.For creating comms, use the function `from comm import create_comm`.\n",
            "  self.comm = Comm(**args)\n",
            "c:\\Users\\ben81\\anaconda3\\Lib\\site-packages\\ipywidgets\\widgets\\widget.py:438: DeprecationWarning: The `ipykernel.comm.Comm` class has been deprecated. Please use the `comm` module instead.For creating comms, use the function `from comm import create_comm`.\n",
            "  self.comm = Comm(**args)\n"
          ]
        },
        {
          "data": {
            "application/vnd.jupyter.widget-view+json": {
              "model_id": "fbc09ea4479a468ab2fbcfb63b4efc9b",
              "version_major": 2,
              "version_minor": 0
            },
            "text/plain": [
              "./판결문\\01.민사\\2019 files:   0%|          | 0/81 [00:00<?, ?it/s]"
            ]
          },
          "metadata": {},
          "output_type": "display_data"
        },
        {
          "name": "stderr",
          "output_type": "stream",
          "text": [
            "c:\\Users\\ben81\\anaconda3\\Lib\\site-packages\\ipywidgets\\widgets\\widget.py:438: DeprecationWarning: The `ipykernel.comm.Comm` class has been deprecated. Please use the `comm` module instead.For creating comms, use the function `from comm import create_comm`.\n",
            "  self.comm = Comm(**args)\n",
            "c:\\Users\\ben81\\anaconda3\\Lib\\site-packages\\ipywidgets\\widgets\\widget.py:438: DeprecationWarning: The `ipykernel.comm.Comm` class has been deprecated. Please use the `comm` module instead.For creating comms, use the function `from comm import create_comm`.\n",
            "  self.comm = Comm(**args)\n",
            "c:\\Users\\ben81\\anaconda3\\Lib\\site-packages\\ipywidgets\\widgets\\widget.py:438: DeprecationWarning: The `ipykernel.comm.Comm` class has been deprecated. Please use the `comm` module instead.For creating comms, use the function `from comm import create_comm`.\n",
            "  self.comm = Comm(**args)\n",
            "c:\\Users\\ben81\\anaconda3\\Lib\\site-packages\\ipywidgets\\widgets\\widget.py:438: DeprecationWarning: The `ipykernel.comm.Comm` class has been deprecated. Please use the `comm` module instead.For creating comms, use the function `from comm import create_comm`.\n",
            "  self.comm = Comm(**args)\n",
            "c:\\Users\\ben81\\anaconda3\\Lib\\site-packages\\ipywidgets\\widgets\\widget.py:438: DeprecationWarning: The `ipykernel.comm.Comm` class has been deprecated. Please use the `comm` module instead.For creating comms, use the function `from comm import create_comm`.\n",
            "  self.comm = Comm(**args)\n",
            "c:\\Users\\ben81\\anaconda3\\Lib\\site-packages\\ipywidgets\\widgets\\widget.py:438: DeprecationWarning: The `ipykernel.comm.Comm` class has been deprecated. Please use the `comm` module instead.For creating comms, use the function `from comm import create_comm`.\n",
            "  self.comm = Comm(**args)\n",
            "c:\\Users\\ben81\\anaconda3\\Lib\\site-packages\\ipywidgets\\widgets\\widget.py:438: DeprecationWarning: The `ipykernel.comm.Comm` class has been deprecated. Please use the `comm` module instead.For creating comms, use the function `from comm import create_comm`.\n",
            "  self.comm = Comm(**args)\n",
            "c:\\Users\\ben81\\anaconda3\\Lib\\site-packages\\ipywidgets\\widgets\\widget.py:438: DeprecationWarning: The `ipykernel.comm.Comm` class has been deprecated. Please use the `comm` module instead.For creating comms, use the function `from comm import create_comm`.\n",
            "  self.comm = Comm(**args)\n",
            "c:\\Users\\ben81\\anaconda3\\Lib\\site-packages\\ipywidgets\\widgets\\widget.py:438: DeprecationWarning: The `ipykernel.comm.Comm` class has been deprecated. Please use the `comm` module instead.For creating comms, use the function `from comm import create_comm`.\n",
            "  self.comm = Comm(**args)\n",
            "c:\\Users\\ben81\\anaconda3\\Lib\\site-packages\\ipywidgets\\widgets\\widget.py:438: DeprecationWarning: The `ipykernel.comm.Comm` class has been deprecated. Please use the `comm` module instead.For creating comms, use the function `from comm import create_comm`.\n",
            "  self.comm = Comm(**args)\n",
            "c:\\Users\\ben81\\anaconda3\\Lib\\site-packages\\ipywidgets\\widgets\\widget.py:438: DeprecationWarning: The `ipykernel.comm.Comm` class has been deprecated. Please use the `comm` module instead.For creating comms, use the function `from comm import create_comm`.\n",
            "  self.comm = Comm(**args)\n"
          ]
        },
        {
          "data": {
            "application/vnd.jupyter.widget-view+json": {
              "model_id": "7ce1aad8d7364990abf801465d29c36d",
              "version_major": 2,
              "version_minor": 0
            },
            "text/plain": [
              "./판결문\\01.민사\\2020 files:   0%|          | 0/50 [00:00<?, ?it/s]"
            ]
          },
          "metadata": {},
          "output_type": "display_data"
        },
        {
          "name": "stderr",
          "output_type": "stream",
          "text": [
            "c:\\Users\\ben81\\anaconda3\\Lib\\site-packages\\ipywidgets\\widgets\\widget.py:438: DeprecationWarning: The `ipykernel.comm.Comm` class has been deprecated. Please use the `comm` module instead.For creating comms, use the function `from comm import create_comm`.\n",
            "  self.comm = Comm(**args)\n",
            "c:\\Users\\ben81\\anaconda3\\Lib\\site-packages\\ipywidgets\\widgets\\widget.py:438: DeprecationWarning: The `ipykernel.comm.Comm` class has been deprecated. Please use the `comm` module instead.For creating comms, use the function `from comm import create_comm`.\n",
            "  self.comm = Comm(**args)\n",
            "c:\\Users\\ben81\\anaconda3\\Lib\\site-packages\\ipywidgets\\widgets\\widget.py:438: DeprecationWarning: The `ipykernel.comm.Comm` class has been deprecated. Please use the `comm` module instead.For creating comms, use the function `from comm import create_comm`.\n",
            "  self.comm = Comm(**args)\n",
            "c:\\Users\\ben81\\anaconda3\\Lib\\site-packages\\ipywidgets\\widgets\\widget.py:438: DeprecationWarning: The `ipykernel.comm.Comm` class has been deprecated. Please use the `comm` module instead.For creating comms, use the function `from comm import create_comm`.\n",
            "  self.comm = Comm(**args)\n",
            "c:\\Users\\ben81\\anaconda3\\Lib\\site-packages\\ipywidgets\\widgets\\widget.py:438: DeprecationWarning: The `ipykernel.comm.Comm` class has been deprecated. Please use the `comm` module instead.For creating comms, use the function `from comm import create_comm`.\n",
            "  self.comm = Comm(**args)\n",
            "c:\\Users\\ben81\\anaconda3\\Lib\\site-packages\\ipywidgets\\widgets\\widget.py:438: DeprecationWarning: The `ipykernel.comm.Comm` class has been deprecated. Please use the `comm` module instead.For creating comms, use the function `from comm import create_comm`.\n",
            "  self.comm = Comm(**args)\n",
            "c:\\Users\\ben81\\anaconda3\\Lib\\site-packages\\ipywidgets\\widgets\\widget.py:438: DeprecationWarning: The `ipykernel.comm.Comm` class has been deprecated. Please use the `comm` module instead.For creating comms, use the function `from comm import create_comm`.\n",
            "  self.comm = Comm(**args)\n",
            "c:\\Users\\ben81\\anaconda3\\Lib\\site-packages\\ipywidgets\\widgets\\widget.py:438: DeprecationWarning: The `ipykernel.comm.Comm` class has been deprecated. Please use the `comm` module instead.For creating comms, use the function `from comm import create_comm`.\n",
            "  self.comm = Comm(**args)\n",
            "c:\\Users\\ben81\\anaconda3\\Lib\\site-packages\\ipywidgets\\widgets\\widget.py:438: DeprecationWarning: The `ipykernel.comm.Comm` class has been deprecated. Please use the `comm` module instead.For creating comms, use the function `from comm import create_comm`.\n",
            "  self.comm = Comm(**args)\n",
            "c:\\Users\\ben81\\anaconda3\\Lib\\site-packages\\ipywidgets\\widgets\\widget.py:438: DeprecationWarning: The `ipykernel.comm.Comm` class has been deprecated. Please use the `comm` module instead.For creating comms, use the function `from comm import create_comm`.\n",
            "  self.comm = Comm(**args)\n",
            "c:\\Users\\ben81\\anaconda3\\Lib\\site-packages\\ipywidgets\\widgets\\widget.py:438: DeprecationWarning: The `ipykernel.comm.Comm` class has been deprecated. Please use the `comm` module instead.For creating comms, use the function `from comm import create_comm`.\n",
            "  self.comm = Comm(**args)\n"
          ]
        },
        {
          "data": {
            "application/vnd.jupyter.widget-view+json": {
              "model_id": "a684e0697c6b4be883ebb4f449a24acf",
              "version_major": 2,
              "version_minor": 0
            },
            "text/plain": [
              "./판결문\\01.민사\\2021 files:   0%|          | 0/32 [00:00<?, ?it/s]"
            ]
          },
          "metadata": {},
          "output_type": "display_data"
        },
        {
          "name": "stderr",
          "output_type": "stream",
          "text": [
            "c:\\Users\\ben81\\anaconda3\\Lib\\site-packages\\ipywidgets\\widgets\\widget.py:438: DeprecationWarning: The `ipykernel.comm.Comm` class has been deprecated. Please use the `comm` module instead.For creating comms, use the function `from comm import create_comm`.\n",
            "  self.comm = Comm(**args)\n",
            "c:\\Users\\ben81\\anaconda3\\Lib\\site-packages\\ipywidgets\\widgets\\widget.py:438: DeprecationWarning: The `ipykernel.comm.Comm` class has been deprecated. Please use the `comm` module instead.For creating comms, use the function `from comm import create_comm`.\n",
            "  self.comm = Comm(**args)\n",
            "c:\\Users\\ben81\\anaconda3\\Lib\\site-packages\\ipywidgets\\widgets\\widget.py:438: DeprecationWarning: The `ipykernel.comm.Comm` class has been deprecated. Please use the `comm` module instead.For creating comms, use the function `from comm import create_comm`.\n",
            "  self.comm = Comm(**args)\n",
            "c:\\Users\\ben81\\anaconda3\\Lib\\site-packages\\ipywidgets\\widgets\\widget.py:438: DeprecationWarning: The `ipykernel.comm.Comm` class has been deprecated. Please use the `comm` module instead.For creating comms, use the function `from comm import create_comm`.\n",
            "  self.comm = Comm(**args)\n",
            "c:\\Users\\ben81\\anaconda3\\Lib\\site-packages\\ipywidgets\\widgets\\widget.py:438: DeprecationWarning: The `ipykernel.comm.Comm` class has been deprecated. Please use the `comm` module instead.For creating comms, use the function `from comm import create_comm`.\n",
            "  self.comm = Comm(**args)\n",
            "c:\\Users\\ben81\\anaconda3\\Lib\\site-packages\\ipywidgets\\widgets\\widget.py:438: DeprecationWarning: The `ipykernel.comm.Comm` class has been deprecated. Please use the `comm` module instead.For creating comms, use the function `from comm import create_comm`.\n",
            "  self.comm = Comm(**args)\n",
            "c:\\Users\\ben81\\anaconda3\\Lib\\site-packages\\ipywidgets\\widgets\\widget.py:438: DeprecationWarning: The `ipykernel.comm.Comm` class has been deprecated. Please use the `comm` module instead.For creating comms, use the function `from comm import create_comm`.\n",
            "  self.comm = Comm(**args)\n",
            "c:\\Users\\ben81\\anaconda3\\Lib\\site-packages\\ipywidgets\\widgets\\widget.py:438: DeprecationWarning: The `ipykernel.comm.Comm` class has been deprecated. Please use the `comm` module instead.For creating comms, use the function `from comm import create_comm`.\n",
            "  self.comm = Comm(**args)\n",
            "c:\\Users\\ben81\\anaconda3\\Lib\\site-packages\\ipywidgets\\widgets\\widget.py:438: DeprecationWarning: The `ipykernel.comm.Comm` class has been deprecated. Please use the `comm` module instead.For creating comms, use the function `from comm import create_comm`.\n",
            "  self.comm = Comm(**args)\n",
            "c:\\Users\\ben81\\anaconda3\\Lib\\site-packages\\ipywidgets\\widgets\\widget.py:438: DeprecationWarning: The `ipykernel.comm.Comm` class has been deprecated. Please use the `comm` module instead.For creating comms, use the function `from comm import create_comm`.\n",
            "  self.comm = Comm(**args)\n",
            "c:\\Users\\ben81\\anaconda3\\Lib\\site-packages\\ipywidgets\\widgets\\widget.py:438: DeprecationWarning: The `ipykernel.comm.Comm` class has been deprecated. Please use the `comm` module instead.For creating comms, use the function `from comm import create_comm`.\n",
            "  self.comm = Comm(**args)\n"
          ]
        },
        {
          "data": {
            "application/vnd.jupyter.widget-view+json": {
              "model_id": "886cdccd50844137a57cfbff62f8916c",
              "version_major": 2,
              "version_minor": 0
            },
            "text/plain": [
              "./판결문\\02.형사 files: 0it [00:00, ?it/s]"
            ]
          },
          "metadata": {},
          "output_type": "display_data"
        },
        {
          "name": "stderr",
          "output_type": "stream",
          "text": [
            "c:\\Users\\ben81\\anaconda3\\Lib\\site-packages\\ipywidgets\\widgets\\widget.py:438: DeprecationWarning: The `ipykernel.comm.Comm` class has been deprecated. Please use the `comm` module instead.For creating comms, use the function `from comm import create_comm`.\n",
            "  self.comm = Comm(**args)\n",
            "c:\\Users\\ben81\\anaconda3\\Lib\\site-packages\\ipywidgets\\widgets\\widget.py:438: DeprecationWarning: The `ipykernel.comm.Comm` class has been deprecated. Please use the `comm` module instead.For creating comms, use the function `from comm import create_comm`.\n",
            "  self.comm = Comm(**args)\n",
            "c:\\Users\\ben81\\anaconda3\\Lib\\site-packages\\ipywidgets\\widgets\\widget.py:438: DeprecationWarning: The `ipykernel.comm.Comm` class has been deprecated. Please use the `comm` module instead.For creating comms, use the function `from comm import create_comm`.\n",
            "  self.comm = Comm(**args)\n",
            "c:\\Users\\ben81\\anaconda3\\Lib\\site-packages\\ipywidgets\\widgets\\widget.py:438: DeprecationWarning: The `ipykernel.comm.Comm` class has been deprecated. Please use the `comm` module instead.For creating comms, use the function `from comm import create_comm`.\n",
            "  self.comm = Comm(**args)\n",
            "c:\\Users\\ben81\\anaconda3\\Lib\\site-packages\\ipywidgets\\widgets\\widget.py:438: DeprecationWarning: The `ipykernel.comm.Comm` class has been deprecated. Please use the `comm` module instead.For creating comms, use the function `from comm import create_comm`.\n",
            "  self.comm = Comm(**args)\n",
            "c:\\Users\\ben81\\anaconda3\\Lib\\site-packages\\ipywidgets\\widgets\\widget.py:438: DeprecationWarning: The `ipykernel.comm.Comm` class has been deprecated. Please use the `comm` module instead.For creating comms, use the function `from comm import create_comm`.\n",
            "  self.comm = Comm(**args)\n",
            "c:\\Users\\ben81\\anaconda3\\Lib\\site-packages\\ipywidgets\\widgets\\widget.py:438: DeprecationWarning: The `ipykernel.comm.Comm` class has been deprecated. Please use the `comm` module instead.For creating comms, use the function `from comm import create_comm`.\n",
            "  self.comm = Comm(**args)\n",
            "c:\\Users\\ben81\\anaconda3\\Lib\\site-packages\\ipywidgets\\widgets\\widget.py:438: DeprecationWarning: The `ipykernel.comm.Comm` class has been deprecated. Please use the `comm` module instead.For creating comms, use the function `from comm import create_comm`.\n",
            "  self.comm = Comm(**args)\n",
            "c:\\Users\\ben81\\anaconda3\\Lib\\site-packages\\ipywidgets\\widgets\\widget.py:438: DeprecationWarning: The `ipykernel.comm.Comm` class has been deprecated. Please use the `comm` module instead.For creating comms, use the function `from comm import create_comm`.\n",
            "  self.comm = Comm(**args)\n",
            "c:\\Users\\ben81\\anaconda3\\Lib\\site-packages\\ipywidgets\\widgets\\widget.py:438: DeprecationWarning: The `ipykernel.comm.Comm` class has been deprecated. Please use the `comm` module instead.For creating comms, use the function `from comm import create_comm`.\n",
            "  self.comm = Comm(**args)\n",
            "c:\\Users\\ben81\\anaconda3\\Lib\\site-packages\\ipywidgets\\widgets\\widget.py:438: DeprecationWarning: The `ipykernel.comm.Comm` class has been deprecated. Please use the `comm` module instead.For creating comms, use the function `from comm import create_comm`.\n",
            "  self.comm = Comm(**args)\n"
          ]
        },
        {
          "data": {
            "application/vnd.jupyter.widget-view+json": {
              "model_id": "9bf1bedb74c74929b74ab67580332770",
              "version_major": 2,
              "version_minor": 0
            },
            "text/plain": [
              "./판결문\\02.형사\\1981~2016 files:   0%|          | 0/1454 [00:00<?, ?it/s]"
            ]
          },
          "metadata": {},
          "output_type": "display_data"
        },
        {
          "name": "stderr",
          "output_type": "stream",
          "text": [
            "c:\\Users\\ben81\\anaconda3\\Lib\\site-packages\\ipywidgets\\widgets\\widget.py:438: DeprecationWarning: The `ipykernel.comm.Comm` class has been deprecated. Please use the `comm` module instead.For creating comms, use the function `from comm import create_comm`.\n",
            "  self.comm = Comm(**args)\n",
            "c:\\Users\\ben81\\anaconda3\\Lib\\site-packages\\ipywidgets\\widgets\\widget.py:438: DeprecationWarning: The `ipykernel.comm.Comm` class has been deprecated. Please use the `comm` module instead.For creating comms, use the function `from comm import create_comm`.\n",
            "  self.comm = Comm(**args)\n",
            "c:\\Users\\ben81\\anaconda3\\Lib\\site-packages\\ipywidgets\\widgets\\widget.py:438: DeprecationWarning: The `ipykernel.comm.Comm` class has been deprecated. Please use the `comm` module instead.For creating comms, use the function `from comm import create_comm`.\n",
            "  self.comm = Comm(**args)\n",
            "c:\\Users\\ben81\\anaconda3\\Lib\\site-packages\\ipywidgets\\widgets\\widget.py:438: DeprecationWarning: The `ipykernel.comm.Comm` class has been deprecated. Please use the `comm` module instead.For creating comms, use the function `from comm import create_comm`.\n",
            "  self.comm = Comm(**args)\n",
            "c:\\Users\\ben81\\anaconda3\\Lib\\site-packages\\ipywidgets\\widgets\\widget.py:438: DeprecationWarning: The `ipykernel.comm.Comm` class has been deprecated. Please use the `comm` module instead.For creating comms, use the function `from comm import create_comm`.\n",
            "  self.comm = Comm(**args)\n",
            "c:\\Users\\ben81\\anaconda3\\Lib\\site-packages\\ipywidgets\\widgets\\widget.py:438: DeprecationWarning: The `ipykernel.comm.Comm` class has been deprecated. Please use the `comm` module instead.For creating comms, use the function `from comm import create_comm`.\n",
            "  self.comm = Comm(**args)\n",
            "c:\\Users\\ben81\\anaconda3\\Lib\\site-packages\\ipywidgets\\widgets\\widget.py:438: DeprecationWarning: The `ipykernel.comm.Comm` class has been deprecated. Please use the `comm` module instead.For creating comms, use the function `from comm import create_comm`.\n",
            "  self.comm = Comm(**args)\n",
            "c:\\Users\\ben81\\anaconda3\\Lib\\site-packages\\ipywidgets\\widgets\\widget.py:438: DeprecationWarning: The `ipykernel.comm.Comm` class has been deprecated. Please use the `comm` module instead.For creating comms, use the function `from comm import create_comm`.\n",
            "  self.comm = Comm(**args)\n",
            "c:\\Users\\ben81\\anaconda3\\Lib\\site-packages\\ipywidgets\\widgets\\widget.py:438: DeprecationWarning: The `ipykernel.comm.Comm` class has been deprecated. Please use the `comm` module instead.For creating comms, use the function `from comm import create_comm`.\n",
            "  self.comm = Comm(**args)\n",
            "c:\\Users\\ben81\\anaconda3\\Lib\\site-packages\\ipywidgets\\widgets\\widget.py:438: DeprecationWarning: The `ipykernel.comm.Comm` class has been deprecated. Please use the `comm` module instead.For creating comms, use the function `from comm import create_comm`.\n",
            "  self.comm = Comm(**args)\n",
            "c:\\Users\\ben81\\anaconda3\\Lib\\site-packages\\ipywidgets\\widgets\\widget.py:438: DeprecationWarning: The `ipykernel.comm.Comm` class has been deprecated. Please use the `comm` module instead.For creating comms, use the function `from comm import create_comm`.\n",
            "  self.comm = Comm(**args)\n"
          ]
        },
        {
          "data": {
            "application/vnd.jupyter.widget-view+json": {
              "model_id": "199b312c8de04274b4eea4919e9340af",
              "version_major": 2,
              "version_minor": 0
            },
            "text/plain": [
              "./판결문\\02.형사\\2017 files:   0%|          | 0/270 [00:00<?, ?it/s]"
            ]
          },
          "metadata": {},
          "output_type": "display_data"
        },
        {
          "name": "stderr",
          "output_type": "stream",
          "text": [
            "c:\\Users\\ben81\\anaconda3\\Lib\\site-packages\\ipywidgets\\widgets\\widget.py:438: DeprecationWarning: The `ipykernel.comm.Comm` class has been deprecated. Please use the `comm` module instead.For creating comms, use the function `from comm import create_comm`.\n",
            "  self.comm = Comm(**args)\n",
            "c:\\Users\\ben81\\anaconda3\\Lib\\site-packages\\ipywidgets\\widgets\\widget.py:438: DeprecationWarning: The `ipykernel.comm.Comm` class has been deprecated. Please use the `comm` module instead.For creating comms, use the function `from comm import create_comm`.\n",
            "  self.comm = Comm(**args)\n",
            "c:\\Users\\ben81\\anaconda3\\Lib\\site-packages\\ipywidgets\\widgets\\widget.py:438: DeprecationWarning: The `ipykernel.comm.Comm` class has been deprecated. Please use the `comm` module instead.For creating comms, use the function `from comm import create_comm`.\n",
            "  self.comm = Comm(**args)\n",
            "c:\\Users\\ben81\\anaconda3\\Lib\\site-packages\\ipywidgets\\widgets\\widget.py:438: DeprecationWarning: The `ipykernel.comm.Comm` class has been deprecated. Please use the `comm` module instead.For creating comms, use the function `from comm import create_comm`.\n",
            "  self.comm = Comm(**args)\n",
            "c:\\Users\\ben81\\anaconda3\\Lib\\site-packages\\ipywidgets\\widgets\\widget.py:438: DeprecationWarning: The `ipykernel.comm.Comm` class has been deprecated. Please use the `comm` module instead.For creating comms, use the function `from comm import create_comm`.\n",
            "  self.comm = Comm(**args)\n",
            "c:\\Users\\ben81\\anaconda3\\Lib\\site-packages\\ipywidgets\\widgets\\widget.py:438: DeprecationWarning: The `ipykernel.comm.Comm` class has been deprecated. Please use the `comm` module instead.For creating comms, use the function `from comm import create_comm`.\n",
            "  self.comm = Comm(**args)\n",
            "c:\\Users\\ben81\\anaconda3\\Lib\\site-packages\\ipywidgets\\widgets\\widget.py:438: DeprecationWarning: The `ipykernel.comm.Comm` class has been deprecated. Please use the `comm` module instead.For creating comms, use the function `from comm import create_comm`.\n",
            "  self.comm = Comm(**args)\n",
            "c:\\Users\\ben81\\anaconda3\\Lib\\site-packages\\ipywidgets\\widgets\\widget.py:438: DeprecationWarning: The `ipykernel.comm.Comm` class has been deprecated. Please use the `comm` module instead.For creating comms, use the function `from comm import create_comm`.\n",
            "  self.comm = Comm(**args)\n",
            "c:\\Users\\ben81\\anaconda3\\Lib\\site-packages\\ipywidgets\\widgets\\widget.py:438: DeprecationWarning: The `ipykernel.comm.Comm` class has been deprecated. Please use the `comm` module instead.For creating comms, use the function `from comm import create_comm`.\n",
            "  self.comm = Comm(**args)\n",
            "c:\\Users\\ben81\\anaconda3\\Lib\\site-packages\\ipywidgets\\widgets\\widget.py:438: DeprecationWarning: The `ipykernel.comm.Comm` class has been deprecated. Please use the `comm` module instead.For creating comms, use the function `from comm import create_comm`.\n",
            "  self.comm = Comm(**args)\n",
            "c:\\Users\\ben81\\anaconda3\\Lib\\site-packages\\ipywidgets\\widgets\\widget.py:438: DeprecationWarning: The `ipykernel.comm.Comm` class has been deprecated. Please use the `comm` module instead.For creating comms, use the function `from comm import create_comm`.\n",
            "  self.comm = Comm(**args)\n"
          ]
        },
        {
          "data": {
            "application/vnd.jupyter.widget-view+json": {
              "model_id": "9c5cebc392934ded8a567620a2334b3a",
              "version_major": 2,
              "version_minor": 0
            },
            "text/plain": [
              "./판결문\\02.형사\\2018 files:   0%|          | 0/317 [00:00<?, ?it/s]"
            ]
          },
          "metadata": {},
          "output_type": "display_data"
        },
        {
          "name": "stderr",
          "output_type": "stream",
          "text": [
            "c:\\Users\\ben81\\anaconda3\\Lib\\site-packages\\ipywidgets\\widgets\\widget.py:438: DeprecationWarning: The `ipykernel.comm.Comm` class has been deprecated. Please use the `comm` module instead.For creating comms, use the function `from comm import create_comm`.\n",
            "  self.comm = Comm(**args)\n",
            "c:\\Users\\ben81\\anaconda3\\Lib\\site-packages\\ipywidgets\\widgets\\widget.py:438: DeprecationWarning: The `ipykernel.comm.Comm` class has been deprecated. Please use the `comm` module instead.For creating comms, use the function `from comm import create_comm`.\n",
            "  self.comm = Comm(**args)\n",
            "c:\\Users\\ben81\\anaconda3\\Lib\\site-packages\\ipywidgets\\widgets\\widget.py:438: DeprecationWarning: The `ipykernel.comm.Comm` class has been deprecated. Please use the `comm` module instead.For creating comms, use the function `from comm import create_comm`.\n",
            "  self.comm = Comm(**args)\n",
            "c:\\Users\\ben81\\anaconda3\\Lib\\site-packages\\ipywidgets\\widgets\\widget.py:438: DeprecationWarning: The `ipykernel.comm.Comm` class has been deprecated. Please use the `comm` module instead.For creating comms, use the function `from comm import create_comm`.\n",
            "  self.comm = Comm(**args)\n",
            "c:\\Users\\ben81\\anaconda3\\Lib\\site-packages\\ipywidgets\\widgets\\widget.py:438: DeprecationWarning: The `ipykernel.comm.Comm` class has been deprecated. Please use the `comm` module instead.For creating comms, use the function `from comm import create_comm`.\n",
            "  self.comm = Comm(**args)\n",
            "c:\\Users\\ben81\\anaconda3\\Lib\\site-packages\\ipywidgets\\widgets\\widget.py:438: DeprecationWarning: The `ipykernel.comm.Comm` class has been deprecated. Please use the `comm` module instead.For creating comms, use the function `from comm import create_comm`.\n",
            "  self.comm = Comm(**args)\n",
            "c:\\Users\\ben81\\anaconda3\\Lib\\site-packages\\ipywidgets\\widgets\\widget.py:438: DeprecationWarning: The `ipykernel.comm.Comm` class has been deprecated. Please use the `comm` module instead.For creating comms, use the function `from comm import create_comm`.\n",
            "  self.comm = Comm(**args)\n",
            "c:\\Users\\ben81\\anaconda3\\Lib\\site-packages\\ipywidgets\\widgets\\widget.py:438: DeprecationWarning: The `ipykernel.comm.Comm` class has been deprecated. Please use the `comm` module instead.For creating comms, use the function `from comm import create_comm`.\n",
            "  self.comm = Comm(**args)\n",
            "c:\\Users\\ben81\\anaconda3\\Lib\\site-packages\\ipywidgets\\widgets\\widget.py:438: DeprecationWarning: The `ipykernel.comm.Comm` class has been deprecated. Please use the `comm` module instead.For creating comms, use the function `from comm import create_comm`.\n",
            "  self.comm = Comm(**args)\n",
            "c:\\Users\\ben81\\anaconda3\\Lib\\site-packages\\ipywidgets\\widgets\\widget.py:438: DeprecationWarning: The `ipykernel.comm.Comm` class has been deprecated. Please use the `comm` module instead.For creating comms, use the function `from comm import create_comm`.\n",
            "  self.comm = Comm(**args)\n",
            "c:\\Users\\ben81\\anaconda3\\Lib\\site-packages\\ipywidgets\\widgets\\widget.py:438: DeprecationWarning: The `ipykernel.comm.Comm` class has been deprecated. Please use the `comm` module instead.For creating comms, use the function `from comm import create_comm`.\n",
            "  self.comm = Comm(**args)\n"
          ]
        },
        {
          "data": {
            "application/vnd.jupyter.widget-view+json": {
              "model_id": "7a17924cbae249ecbdfdb1880ac76ef6",
              "version_major": 2,
              "version_minor": 0
            },
            "text/plain": [
              "./판결문\\02.형사\\2019 files:   0%|          | 0/115 [00:00<?, ?it/s]"
            ]
          },
          "metadata": {},
          "output_type": "display_data"
        },
        {
          "name": "stderr",
          "output_type": "stream",
          "text": [
            "c:\\Users\\ben81\\anaconda3\\Lib\\site-packages\\ipywidgets\\widgets\\widget.py:438: DeprecationWarning: The `ipykernel.comm.Comm` class has been deprecated. Please use the `comm` module instead.For creating comms, use the function `from comm import create_comm`.\n",
            "  self.comm = Comm(**args)\n",
            "c:\\Users\\ben81\\anaconda3\\Lib\\site-packages\\ipywidgets\\widgets\\widget.py:438: DeprecationWarning: The `ipykernel.comm.Comm` class has been deprecated. Please use the `comm` module instead.For creating comms, use the function `from comm import create_comm`.\n",
            "  self.comm = Comm(**args)\n",
            "c:\\Users\\ben81\\anaconda3\\Lib\\site-packages\\ipywidgets\\widgets\\widget.py:438: DeprecationWarning: The `ipykernel.comm.Comm` class has been deprecated. Please use the `comm` module instead.For creating comms, use the function `from comm import create_comm`.\n",
            "  self.comm = Comm(**args)\n",
            "c:\\Users\\ben81\\anaconda3\\Lib\\site-packages\\ipywidgets\\widgets\\widget.py:438: DeprecationWarning: The `ipykernel.comm.Comm` class has been deprecated. Please use the `comm` module instead.For creating comms, use the function `from comm import create_comm`.\n",
            "  self.comm = Comm(**args)\n",
            "c:\\Users\\ben81\\anaconda3\\Lib\\site-packages\\ipywidgets\\widgets\\widget.py:438: DeprecationWarning: The `ipykernel.comm.Comm` class has been deprecated. Please use the `comm` module instead.For creating comms, use the function `from comm import create_comm`.\n",
            "  self.comm = Comm(**args)\n",
            "c:\\Users\\ben81\\anaconda3\\Lib\\site-packages\\ipywidgets\\widgets\\widget.py:438: DeprecationWarning: The `ipykernel.comm.Comm` class has been deprecated. Please use the `comm` module instead.For creating comms, use the function `from comm import create_comm`.\n",
            "  self.comm = Comm(**args)\n",
            "c:\\Users\\ben81\\anaconda3\\Lib\\site-packages\\ipywidgets\\widgets\\widget.py:438: DeprecationWarning: The `ipykernel.comm.Comm` class has been deprecated. Please use the `comm` module instead.For creating comms, use the function `from comm import create_comm`.\n",
            "  self.comm = Comm(**args)\n",
            "c:\\Users\\ben81\\anaconda3\\Lib\\site-packages\\ipywidgets\\widgets\\widget.py:438: DeprecationWarning: The `ipykernel.comm.Comm` class has been deprecated. Please use the `comm` module instead.For creating comms, use the function `from comm import create_comm`.\n",
            "  self.comm = Comm(**args)\n",
            "c:\\Users\\ben81\\anaconda3\\Lib\\site-packages\\ipywidgets\\widgets\\widget.py:438: DeprecationWarning: The `ipykernel.comm.Comm` class has been deprecated. Please use the `comm` module instead.For creating comms, use the function `from comm import create_comm`.\n",
            "  self.comm = Comm(**args)\n",
            "c:\\Users\\ben81\\anaconda3\\Lib\\site-packages\\ipywidgets\\widgets\\widget.py:438: DeprecationWarning: The `ipykernel.comm.Comm` class has been deprecated. Please use the `comm` module instead.For creating comms, use the function `from comm import create_comm`.\n",
            "  self.comm = Comm(**args)\n",
            "c:\\Users\\ben81\\anaconda3\\Lib\\site-packages\\ipywidgets\\widgets\\widget.py:438: DeprecationWarning: The `ipykernel.comm.Comm` class has been deprecated. Please use the `comm` module instead.For creating comms, use the function `from comm import create_comm`.\n",
            "  self.comm = Comm(**args)\n"
          ]
        },
        {
          "data": {
            "application/vnd.jupyter.widget-view+json": {
              "model_id": "d449f3bdd4ce482f8c3efb293075dcd7",
              "version_major": 2,
              "version_minor": 0
            },
            "text/plain": [
              "./판결문\\02.형사\\2020 files:   0%|          | 0/112 [00:00<?, ?it/s]"
            ]
          },
          "metadata": {},
          "output_type": "display_data"
        },
        {
          "name": "stderr",
          "output_type": "stream",
          "text": [
            "c:\\Users\\ben81\\anaconda3\\Lib\\site-packages\\ipywidgets\\widgets\\widget.py:438: DeprecationWarning: The `ipykernel.comm.Comm` class has been deprecated. Please use the `comm` module instead.For creating comms, use the function `from comm import create_comm`.\n",
            "  self.comm = Comm(**args)\n",
            "c:\\Users\\ben81\\anaconda3\\Lib\\site-packages\\ipywidgets\\widgets\\widget.py:438: DeprecationWarning: The `ipykernel.comm.Comm` class has been deprecated. Please use the `comm` module instead.For creating comms, use the function `from comm import create_comm`.\n",
            "  self.comm = Comm(**args)\n",
            "c:\\Users\\ben81\\anaconda3\\Lib\\site-packages\\ipywidgets\\widgets\\widget.py:438: DeprecationWarning: The `ipykernel.comm.Comm` class has been deprecated. Please use the `comm` module instead.For creating comms, use the function `from comm import create_comm`.\n",
            "  self.comm = Comm(**args)\n",
            "c:\\Users\\ben81\\anaconda3\\Lib\\site-packages\\ipywidgets\\widgets\\widget.py:438: DeprecationWarning: The `ipykernel.comm.Comm` class has been deprecated. Please use the `comm` module instead.For creating comms, use the function `from comm import create_comm`.\n",
            "  self.comm = Comm(**args)\n",
            "c:\\Users\\ben81\\anaconda3\\Lib\\site-packages\\ipywidgets\\widgets\\widget.py:438: DeprecationWarning: The `ipykernel.comm.Comm` class has been deprecated. Please use the `comm` module instead.For creating comms, use the function `from comm import create_comm`.\n",
            "  self.comm = Comm(**args)\n",
            "c:\\Users\\ben81\\anaconda3\\Lib\\site-packages\\ipywidgets\\widgets\\widget.py:438: DeprecationWarning: The `ipykernel.comm.Comm` class has been deprecated. Please use the `comm` module instead.For creating comms, use the function `from comm import create_comm`.\n",
            "  self.comm = Comm(**args)\n",
            "c:\\Users\\ben81\\anaconda3\\Lib\\site-packages\\ipywidgets\\widgets\\widget.py:438: DeprecationWarning: The `ipykernel.comm.Comm` class has been deprecated. Please use the `comm` module instead.For creating comms, use the function `from comm import create_comm`.\n",
            "  self.comm = Comm(**args)\n",
            "c:\\Users\\ben81\\anaconda3\\Lib\\site-packages\\ipywidgets\\widgets\\widget.py:438: DeprecationWarning: The `ipykernel.comm.Comm` class has been deprecated. Please use the `comm` module instead.For creating comms, use the function `from comm import create_comm`.\n",
            "  self.comm = Comm(**args)\n",
            "c:\\Users\\ben81\\anaconda3\\Lib\\site-packages\\ipywidgets\\widgets\\widget.py:438: DeprecationWarning: The `ipykernel.comm.Comm` class has been deprecated. Please use the `comm` module instead.For creating comms, use the function `from comm import create_comm`.\n",
            "  self.comm = Comm(**args)\n",
            "c:\\Users\\ben81\\anaconda3\\Lib\\site-packages\\ipywidgets\\widgets\\widget.py:438: DeprecationWarning: The `ipykernel.comm.Comm` class has been deprecated. Please use the `comm` module instead.For creating comms, use the function `from comm import create_comm`.\n",
            "  self.comm = Comm(**args)\n",
            "c:\\Users\\ben81\\anaconda3\\Lib\\site-packages\\ipywidgets\\widgets\\widget.py:438: DeprecationWarning: The `ipykernel.comm.Comm` class has been deprecated. Please use the `comm` module instead.For creating comms, use the function `from comm import create_comm`.\n",
            "  self.comm = Comm(**args)\n"
          ]
        },
        {
          "data": {
            "application/vnd.jupyter.widget-view+json": {
              "model_id": "509f606cedb44292be4255d3fba61de2",
              "version_major": 2,
              "version_minor": 0
            },
            "text/plain": [
              "./판결문\\02.형사\\2021 files:   0%|          | 0/60 [00:00<?, ?it/s]"
            ]
          },
          "metadata": {},
          "output_type": "display_data"
        },
        {
          "name": "stderr",
          "output_type": "stream",
          "text": [
            "c:\\Users\\ben81\\anaconda3\\Lib\\site-packages\\ipywidgets\\widgets\\widget.py:438: DeprecationWarning: The `ipykernel.comm.Comm` class has been deprecated. Please use the `comm` module instead.For creating comms, use the function `from comm import create_comm`.\n",
            "  self.comm = Comm(**args)\n",
            "c:\\Users\\ben81\\anaconda3\\Lib\\site-packages\\ipywidgets\\widgets\\widget.py:438: DeprecationWarning: The `ipykernel.comm.Comm` class has been deprecated. Please use the `comm` module instead.For creating comms, use the function `from comm import create_comm`.\n",
            "  self.comm = Comm(**args)\n",
            "c:\\Users\\ben81\\anaconda3\\Lib\\site-packages\\ipywidgets\\widgets\\widget.py:438: DeprecationWarning: The `ipykernel.comm.Comm` class has been deprecated. Please use the `comm` module instead.For creating comms, use the function `from comm import create_comm`.\n",
            "  self.comm = Comm(**args)\n",
            "c:\\Users\\ben81\\anaconda3\\Lib\\site-packages\\ipywidgets\\widgets\\widget.py:438: DeprecationWarning: The `ipykernel.comm.Comm` class has been deprecated. Please use the `comm` module instead.For creating comms, use the function `from comm import create_comm`.\n",
            "  self.comm = Comm(**args)\n",
            "c:\\Users\\ben81\\anaconda3\\Lib\\site-packages\\ipywidgets\\widgets\\widget.py:438: DeprecationWarning: The `ipykernel.comm.Comm` class has been deprecated. Please use the `comm` module instead.For creating comms, use the function `from comm import create_comm`.\n",
            "  self.comm = Comm(**args)\n",
            "c:\\Users\\ben81\\anaconda3\\Lib\\site-packages\\ipywidgets\\widgets\\widget.py:438: DeprecationWarning: The `ipykernel.comm.Comm` class has been deprecated. Please use the `comm` module instead.For creating comms, use the function `from comm import create_comm`.\n",
            "  self.comm = Comm(**args)\n",
            "c:\\Users\\ben81\\anaconda3\\Lib\\site-packages\\ipywidgets\\widgets\\widget.py:438: DeprecationWarning: The `ipykernel.comm.Comm` class has been deprecated. Please use the `comm` module instead.For creating comms, use the function `from comm import create_comm`.\n",
            "  self.comm = Comm(**args)\n",
            "c:\\Users\\ben81\\anaconda3\\Lib\\site-packages\\ipywidgets\\widgets\\widget.py:438: DeprecationWarning: The `ipykernel.comm.Comm` class has been deprecated. Please use the `comm` module instead.For creating comms, use the function `from comm import create_comm`.\n",
            "  self.comm = Comm(**args)\n",
            "c:\\Users\\ben81\\anaconda3\\Lib\\site-packages\\ipywidgets\\widgets\\widget.py:438: DeprecationWarning: The `ipykernel.comm.Comm` class has been deprecated. Please use the `comm` module instead.For creating comms, use the function `from comm import create_comm`.\n",
            "  self.comm = Comm(**args)\n",
            "c:\\Users\\ben81\\anaconda3\\Lib\\site-packages\\ipywidgets\\widgets\\widget.py:438: DeprecationWarning: The `ipykernel.comm.Comm` class has been deprecated. Please use the `comm` module instead.For creating comms, use the function `from comm import create_comm`.\n",
            "  self.comm = Comm(**args)\n",
            "c:\\Users\\ben81\\anaconda3\\Lib\\site-packages\\ipywidgets\\widgets\\widget.py:438: DeprecationWarning: The `ipykernel.comm.Comm` class has been deprecated. Please use the `comm` module instead.For creating comms, use the function `from comm import create_comm`.\n",
            "  self.comm = Comm(**args)\n"
          ]
        },
        {
          "data": {
            "application/vnd.jupyter.widget-view+json": {
              "model_id": "35dcd62e40ad48b78dfb8f0cd395554a",
              "version_major": 2,
              "version_minor": 0
            },
            "text/plain": [
              "./판결문\\03.행정 files: 0it [00:00, ?it/s]"
            ]
          },
          "metadata": {},
          "output_type": "display_data"
        },
        {
          "name": "stderr",
          "output_type": "stream",
          "text": [
            "c:\\Users\\ben81\\anaconda3\\Lib\\site-packages\\ipywidgets\\widgets\\widget.py:438: DeprecationWarning: The `ipykernel.comm.Comm` class has been deprecated. Please use the `comm` module instead.For creating comms, use the function `from comm import create_comm`.\n",
            "  self.comm = Comm(**args)\n",
            "c:\\Users\\ben81\\anaconda3\\Lib\\site-packages\\ipywidgets\\widgets\\widget.py:438: DeprecationWarning: The `ipykernel.comm.Comm` class has been deprecated. Please use the `comm` module instead.For creating comms, use the function `from comm import create_comm`.\n",
            "  self.comm = Comm(**args)\n",
            "c:\\Users\\ben81\\anaconda3\\Lib\\site-packages\\ipywidgets\\widgets\\widget.py:438: DeprecationWarning: The `ipykernel.comm.Comm` class has been deprecated. Please use the `comm` module instead.For creating comms, use the function `from comm import create_comm`.\n",
            "  self.comm = Comm(**args)\n",
            "c:\\Users\\ben81\\anaconda3\\Lib\\site-packages\\ipywidgets\\widgets\\widget.py:438: DeprecationWarning: The `ipykernel.comm.Comm` class has been deprecated. Please use the `comm` module instead.For creating comms, use the function `from comm import create_comm`.\n",
            "  self.comm = Comm(**args)\n",
            "c:\\Users\\ben81\\anaconda3\\Lib\\site-packages\\ipywidgets\\widgets\\widget.py:438: DeprecationWarning: The `ipykernel.comm.Comm` class has been deprecated. Please use the `comm` module instead.For creating comms, use the function `from comm import create_comm`.\n",
            "  self.comm = Comm(**args)\n",
            "c:\\Users\\ben81\\anaconda3\\Lib\\site-packages\\ipywidgets\\widgets\\widget.py:438: DeprecationWarning: The `ipykernel.comm.Comm` class has been deprecated. Please use the `comm` module instead.For creating comms, use the function `from comm import create_comm`.\n",
            "  self.comm = Comm(**args)\n",
            "c:\\Users\\ben81\\anaconda3\\Lib\\site-packages\\ipywidgets\\widgets\\widget.py:438: DeprecationWarning: The `ipykernel.comm.Comm` class has been deprecated. Please use the `comm` module instead.For creating comms, use the function `from comm import create_comm`.\n",
            "  self.comm = Comm(**args)\n",
            "c:\\Users\\ben81\\anaconda3\\Lib\\site-packages\\ipywidgets\\widgets\\widget.py:438: DeprecationWarning: The `ipykernel.comm.Comm` class has been deprecated. Please use the `comm` module instead.For creating comms, use the function `from comm import create_comm`.\n",
            "  self.comm = Comm(**args)\n",
            "c:\\Users\\ben81\\anaconda3\\Lib\\site-packages\\ipywidgets\\widgets\\widget.py:438: DeprecationWarning: The `ipykernel.comm.Comm` class has been deprecated. Please use the `comm` module instead.For creating comms, use the function `from comm import create_comm`.\n",
            "  self.comm = Comm(**args)\n",
            "c:\\Users\\ben81\\anaconda3\\Lib\\site-packages\\ipywidgets\\widgets\\widget.py:438: DeprecationWarning: The `ipykernel.comm.Comm` class has been deprecated. Please use the `comm` module instead.For creating comms, use the function `from comm import create_comm`.\n",
            "  self.comm = Comm(**args)\n",
            "c:\\Users\\ben81\\anaconda3\\Lib\\site-packages\\ipywidgets\\widgets\\widget.py:438: DeprecationWarning: The `ipykernel.comm.Comm` class has been deprecated. Please use the `comm` module instead.For creating comms, use the function `from comm import create_comm`.\n",
            "  self.comm = Comm(**args)\n"
          ]
        },
        {
          "data": {
            "application/vnd.jupyter.widget-view+json": {
              "model_id": "69d8ff4f16e94161bdbdce742928bbc8",
              "version_major": 2,
              "version_minor": 0
            },
            "text/plain": [
              "./판결문\\03.행정\\1981~2016 files:   0%|          | 0/1424 [00:00<?, ?it/s]"
            ]
          },
          "metadata": {},
          "output_type": "display_data"
        },
        {
          "name": "stderr",
          "output_type": "stream",
          "text": [
            "c:\\Users\\ben81\\anaconda3\\Lib\\site-packages\\ipywidgets\\widgets\\widget.py:438: DeprecationWarning: The `ipykernel.comm.Comm` class has been deprecated. Please use the `comm` module instead.For creating comms, use the function `from comm import create_comm`.\n",
            "  self.comm = Comm(**args)\n",
            "c:\\Users\\ben81\\anaconda3\\Lib\\site-packages\\ipywidgets\\widgets\\widget.py:438: DeprecationWarning: The `ipykernel.comm.Comm` class has been deprecated. Please use the `comm` module instead.For creating comms, use the function `from comm import create_comm`.\n",
            "  self.comm = Comm(**args)\n",
            "c:\\Users\\ben81\\anaconda3\\Lib\\site-packages\\ipywidgets\\widgets\\widget.py:438: DeprecationWarning: The `ipykernel.comm.Comm` class has been deprecated. Please use the `comm` module instead.For creating comms, use the function `from comm import create_comm`.\n",
            "  self.comm = Comm(**args)\n",
            "c:\\Users\\ben81\\anaconda3\\Lib\\site-packages\\ipywidgets\\widgets\\widget.py:438: DeprecationWarning: The `ipykernel.comm.Comm` class has been deprecated. Please use the `comm` module instead.For creating comms, use the function `from comm import create_comm`.\n",
            "  self.comm = Comm(**args)\n",
            "c:\\Users\\ben81\\anaconda3\\Lib\\site-packages\\ipywidgets\\widgets\\widget.py:438: DeprecationWarning: The `ipykernel.comm.Comm` class has been deprecated. Please use the `comm` module instead.For creating comms, use the function `from comm import create_comm`.\n",
            "  self.comm = Comm(**args)\n",
            "c:\\Users\\ben81\\anaconda3\\Lib\\site-packages\\ipywidgets\\widgets\\widget.py:438: DeprecationWarning: The `ipykernel.comm.Comm` class has been deprecated. Please use the `comm` module instead.For creating comms, use the function `from comm import create_comm`.\n",
            "  self.comm = Comm(**args)\n",
            "c:\\Users\\ben81\\anaconda3\\Lib\\site-packages\\ipywidgets\\widgets\\widget.py:438: DeprecationWarning: The `ipykernel.comm.Comm` class has been deprecated. Please use the `comm` module instead.For creating comms, use the function `from comm import create_comm`.\n",
            "  self.comm = Comm(**args)\n",
            "c:\\Users\\ben81\\anaconda3\\Lib\\site-packages\\ipywidgets\\widgets\\widget.py:438: DeprecationWarning: The `ipykernel.comm.Comm` class has been deprecated. Please use the `comm` module instead.For creating comms, use the function `from comm import create_comm`.\n",
            "  self.comm = Comm(**args)\n",
            "c:\\Users\\ben81\\anaconda3\\Lib\\site-packages\\ipywidgets\\widgets\\widget.py:438: DeprecationWarning: The `ipykernel.comm.Comm` class has been deprecated. Please use the `comm` module instead.For creating comms, use the function `from comm import create_comm`.\n",
            "  self.comm = Comm(**args)\n",
            "c:\\Users\\ben81\\anaconda3\\Lib\\site-packages\\ipywidgets\\widgets\\widget.py:438: DeprecationWarning: The `ipykernel.comm.Comm` class has been deprecated. Please use the `comm` module instead.For creating comms, use the function `from comm import create_comm`.\n",
            "  self.comm = Comm(**args)\n",
            "c:\\Users\\ben81\\anaconda3\\Lib\\site-packages\\ipywidgets\\widgets\\widget.py:438: DeprecationWarning: The `ipykernel.comm.Comm` class has been deprecated. Please use the `comm` module instead.For creating comms, use the function `from comm import create_comm`.\n",
            "  self.comm = Comm(**args)\n"
          ]
        },
        {
          "data": {
            "application/vnd.jupyter.widget-view+json": {
              "model_id": "c142b4ac27094f839e1480ed375338b8",
              "version_major": 2,
              "version_minor": 0
            },
            "text/plain": [
              "./판결문\\03.행정\\2017 files:   0%|          | 0/122 [00:00<?, ?it/s]"
            ]
          },
          "metadata": {},
          "output_type": "display_data"
        },
        {
          "name": "stderr",
          "output_type": "stream",
          "text": [
            "c:\\Users\\ben81\\anaconda3\\Lib\\site-packages\\ipywidgets\\widgets\\widget.py:438: DeprecationWarning: The `ipykernel.comm.Comm` class has been deprecated. Please use the `comm` module instead.For creating comms, use the function `from comm import create_comm`.\n",
            "  self.comm = Comm(**args)\n",
            "c:\\Users\\ben81\\anaconda3\\Lib\\site-packages\\ipywidgets\\widgets\\widget.py:438: DeprecationWarning: The `ipykernel.comm.Comm` class has been deprecated. Please use the `comm` module instead.For creating comms, use the function `from comm import create_comm`.\n",
            "  self.comm = Comm(**args)\n",
            "c:\\Users\\ben81\\anaconda3\\Lib\\site-packages\\ipywidgets\\widgets\\widget.py:438: DeprecationWarning: The `ipykernel.comm.Comm` class has been deprecated. Please use the `comm` module instead.For creating comms, use the function `from comm import create_comm`.\n",
            "  self.comm = Comm(**args)\n",
            "c:\\Users\\ben81\\anaconda3\\Lib\\site-packages\\ipywidgets\\widgets\\widget.py:438: DeprecationWarning: The `ipykernel.comm.Comm` class has been deprecated. Please use the `comm` module instead.For creating comms, use the function `from comm import create_comm`.\n",
            "  self.comm = Comm(**args)\n",
            "c:\\Users\\ben81\\anaconda3\\Lib\\site-packages\\ipywidgets\\widgets\\widget.py:438: DeprecationWarning: The `ipykernel.comm.Comm` class has been deprecated. Please use the `comm` module instead.For creating comms, use the function `from comm import create_comm`.\n",
            "  self.comm = Comm(**args)\n",
            "c:\\Users\\ben81\\anaconda3\\Lib\\site-packages\\ipywidgets\\widgets\\widget.py:438: DeprecationWarning: The `ipykernel.comm.Comm` class has been deprecated. Please use the `comm` module instead.For creating comms, use the function `from comm import create_comm`.\n",
            "  self.comm = Comm(**args)\n",
            "c:\\Users\\ben81\\anaconda3\\Lib\\site-packages\\ipywidgets\\widgets\\widget.py:438: DeprecationWarning: The `ipykernel.comm.Comm` class has been deprecated. Please use the `comm` module instead.For creating comms, use the function `from comm import create_comm`.\n",
            "  self.comm = Comm(**args)\n",
            "c:\\Users\\ben81\\anaconda3\\Lib\\site-packages\\ipywidgets\\widgets\\widget.py:438: DeprecationWarning: The `ipykernel.comm.Comm` class has been deprecated. Please use the `comm` module instead.For creating comms, use the function `from comm import create_comm`.\n",
            "  self.comm = Comm(**args)\n",
            "c:\\Users\\ben81\\anaconda3\\Lib\\site-packages\\ipywidgets\\widgets\\widget.py:438: DeprecationWarning: The `ipykernel.comm.Comm` class has been deprecated. Please use the `comm` module instead.For creating comms, use the function `from comm import create_comm`.\n",
            "  self.comm = Comm(**args)\n",
            "c:\\Users\\ben81\\anaconda3\\Lib\\site-packages\\ipywidgets\\widgets\\widget.py:438: DeprecationWarning: The `ipykernel.comm.Comm` class has been deprecated. Please use the `comm` module instead.For creating comms, use the function `from comm import create_comm`.\n",
            "  self.comm = Comm(**args)\n",
            "c:\\Users\\ben81\\anaconda3\\Lib\\site-packages\\ipywidgets\\widgets\\widget.py:438: DeprecationWarning: The `ipykernel.comm.Comm` class has been deprecated. Please use the `comm` module instead.For creating comms, use the function `from comm import create_comm`.\n",
            "  self.comm = Comm(**args)\n"
          ]
        },
        {
          "data": {
            "application/vnd.jupyter.widget-view+json": {
              "model_id": "446af1773e814325acd0410eab0f733e",
              "version_major": 2,
              "version_minor": 0
            },
            "text/plain": [
              "./판결문\\03.행정\\2018 files:   0%|          | 0/96 [00:00<?, ?it/s]"
            ]
          },
          "metadata": {},
          "output_type": "display_data"
        },
        {
          "name": "stderr",
          "output_type": "stream",
          "text": [
            "c:\\Users\\ben81\\anaconda3\\Lib\\site-packages\\ipywidgets\\widgets\\widget.py:438: DeprecationWarning: The `ipykernel.comm.Comm` class has been deprecated. Please use the `comm` module instead.For creating comms, use the function `from comm import create_comm`.\n",
            "  self.comm = Comm(**args)\n",
            "c:\\Users\\ben81\\anaconda3\\Lib\\site-packages\\ipywidgets\\widgets\\widget.py:438: DeprecationWarning: The `ipykernel.comm.Comm` class has been deprecated. Please use the `comm` module instead.For creating comms, use the function `from comm import create_comm`.\n",
            "  self.comm = Comm(**args)\n",
            "c:\\Users\\ben81\\anaconda3\\Lib\\site-packages\\ipywidgets\\widgets\\widget.py:438: DeprecationWarning: The `ipykernel.comm.Comm` class has been deprecated. Please use the `comm` module instead.For creating comms, use the function `from comm import create_comm`.\n",
            "  self.comm = Comm(**args)\n",
            "c:\\Users\\ben81\\anaconda3\\Lib\\site-packages\\ipywidgets\\widgets\\widget.py:438: DeprecationWarning: The `ipykernel.comm.Comm` class has been deprecated. Please use the `comm` module instead.For creating comms, use the function `from comm import create_comm`.\n",
            "  self.comm = Comm(**args)\n",
            "c:\\Users\\ben81\\anaconda3\\Lib\\site-packages\\ipywidgets\\widgets\\widget.py:438: DeprecationWarning: The `ipykernel.comm.Comm` class has been deprecated. Please use the `comm` module instead.For creating comms, use the function `from comm import create_comm`.\n",
            "  self.comm = Comm(**args)\n",
            "c:\\Users\\ben81\\anaconda3\\Lib\\site-packages\\ipywidgets\\widgets\\widget.py:438: DeprecationWarning: The `ipykernel.comm.Comm` class has been deprecated. Please use the `comm` module instead.For creating comms, use the function `from comm import create_comm`.\n",
            "  self.comm = Comm(**args)\n",
            "c:\\Users\\ben81\\anaconda3\\Lib\\site-packages\\ipywidgets\\widgets\\widget.py:438: DeprecationWarning: The `ipykernel.comm.Comm` class has been deprecated. Please use the `comm` module instead.For creating comms, use the function `from comm import create_comm`.\n",
            "  self.comm = Comm(**args)\n",
            "c:\\Users\\ben81\\anaconda3\\Lib\\site-packages\\ipywidgets\\widgets\\widget.py:438: DeprecationWarning: The `ipykernel.comm.Comm` class has been deprecated. Please use the `comm` module instead.For creating comms, use the function `from comm import create_comm`.\n",
            "  self.comm = Comm(**args)\n",
            "c:\\Users\\ben81\\anaconda3\\Lib\\site-packages\\ipywidgets\\widgets\\widget.py:438: DeprecationWarning: The `ipykernel.comm.Comm` class has been deprecated. Please use the `comm` module instead.For creating comms, use the function `from comm import create_comm`.\n",
            "  self.comm = Comm(**args)\n",
            "c:\\Users\\ben81\\anaconda3\\Lib\\site-packages\\ipywidgets\\widgets\\widget.py:438: DeprecationWarning: The `ipykernel.comm.Comm` class has been deprecated. Please use the `comm` module instead.For creating comms, use the function `from comm import create_comm`.\n",
            "  self.comm = Comm(**args)\n",
            "c:\\Users\\ben81\\anaconda3\\Lib\\site-packages\\ipywidgets\\widgets\\widget.py:438: DeprecationWarning: The `ipykernel.comm.Comm` class has been deprecated. Please use the `comm` module instead.For creating comms, use the function `from comm import create_comm`.\n",
            "  self.comm = Comm(**args)\n"
          ]
        },
        {
          "data": {
            "application/vnd.jupyter.widget-view+json": {
              "model_id": "b410b43388494819b4d3ec3c1b9a2f45",
              "version_major": 2,
              "version_minor": 0
            },
            "text/plain": [
              "./판결문\\03.행정\\2019 files:   0%|          | 0/75 [00:00<?, ?it/s]"
            ]
          },
          "metadata": {},
          "output_type": "display_data"
        },
        {
          "name": "stderr",
          "output_type": "stream",
          "text": [
            "c:\\Users\\ben81\\anaconda3\\Lib\\site-packages\\ipywidgets\\widgets\\widget.py:438: DeprecationWarning: The `ipykernel.comm.Comm` class has been deprecated. Please use the `comm` module instead.For creating comms, use the function `from comm import create_comm`.\n",
            "  self.comm = Comm(**args)\n",
            "c:\\Users\\ben81\\anaconda3\\Lib\\site-packages\\ipywidgets\\widgets\\widget.py:438: DeprecationWarning: The `ipykernel.comm.Comm` class has been deprecated. Please use the `comm` module instead.For creating comms, use the function `from comm import create_comm`.\n",
            "  self.comm = Comm(**args)\n",
            "c:\\Users\\ben81\\anaconda3\\Lib\\site-packages\\ipywidgets\\widgets\\widget.py:438: DeprecationWarning: The `ipykernel.comm.Comm` class has been deprecated. Please use the `comm` module instead.For creating comms, use the function `from comm import create_comm`.\n",
            "  self.comm = Comm(**args)\n",
            "c:\\Users\\ben81\\anaconda3\\Lib\\site-packages\\ipywidgets\\widgets\\widget.py:438: DeprecationWarning: The `ipykernel.comm.Comm` class has been deprecated. Please use the `comm` module instead.For creating comms, use the function `from comm import create_comm`.\n",
            "  self.comm = Comm(**args)\n",
            "c:\\Users\\ben81\\anaconda3\\Lib\\site-packages\\ipywidgets\\widgets\\widget.py:438: DeprecationWarning: The `ipykernel.comm.Comm` class has been deprecated. Please use the `comm` module instead.For creating comms, use the function `from comm import create_comm`.\n",
            "  self.comm = Comm(**args)\n",
            "c:\\Users\\ben81\\anaconda3\\Lib\\site-packages\\ipywidgets\\widgets\\widget.py:438: DeprecationWarning: The `ipykernel.comm.Comm` class has been deprecated. Please use the `comm` module instead.For creating comms, use the function `from comm import create_comm`.\n",
            "  self.comm = Comm(**args)\n",
            "c:\\Users\\ben81\\anaconda3\\Lib\\site-packages\\ipywidgets\\widgets\\widget.py:438: DeprecationWarning: The `ipykernel.comm.Comm` class has been deprecated. Please use the `comm` module instead.For creating comms, use the function `from comm import create_comm`.\n",
            "  self.comm = Comm(**args)\n",
            "c:\\Users\\ben81\\anaconda3\\Lib\\site-packages\\ipywidgets\\widgets\\widget.py:438: DeprecationWarning: The `ipykernel.comm.Comm` class has been deprecated. Please use the `comm` module instead.For creating comms, use the function `from comm import create_comm`.\n",
            "  self.comm = Comm(**args)\n",
            "c:\\Users\\ben81\\anaconda3\\Lib\\site-packages\\ipywidgets\\widgets\\widget.py:438: DeprecationWarning: The `ipykernel.comm.Comm` class has been deprecated. Please use the `comm` module instead.For creating comms, use the function `from comm import create_comm`.\n",
            "  self.comm = Comm(**args)\n",
            "c:\\Users\\ben81\\anaconda3\\Lib\\site-packages\\ipywidgets\\widgets\\widget.py:438: DeprecationWarning: The `ipykernel.comm.Comm` class has been deprecated. Please use the `comm` module instead.For creating comms, use the function `from comm import create_comm`.\n",
            "  self.comm = Comm(**args)\n",
            "c:\\Users\\ben81\\anaconda3\\Lib\\site-packages\\ipywidgets\\widgets\\widget.py:438: DeprecationWarning: The `ipykernel.comm.Comm` class has been deprecated. Please use the `comm` module instead.For creating comms, use the function `from comm import create_comm`.\n",
            "  self.comm = Comm(**args)\n"
          ]
        },
        {
          "data": {
            "application/vnd.jupyter.widget-view+json": {
              "model_id": "71b1fb628a9e4a4f9be7f2c4509d0f63",
              "version_major": 2,
              "version_minor": 0
            },
            "text/plain": [
              "./판결문\\03.행정\\2020 files:   0%|          | 0/42 [00:00<?, ?it/s]"
            ]
          },
          "metadata": {},
          "output_type": "display_data"
        },
        {
          "name": "stderr",
          "output_type": "stream",
          "text": [
            "c:\\Users\\ben81\\anaconda3\\Lib\\site-packages\\ipywidgets\\widgets\\widget.py:438: DeprecationWarning: The `ipykernel.comm.Comm` class has been deprecated. Please use the `comm` module instead.For creating comms, use the function `from comm import create_comm`.\n",
            "  self.comm = Comm(**args)\n",
            "c:\\Users\\ben81\\anaconda3\\Lib\\site-packages\\ipywidgets\\widgets\\widget.py:438: DeprecationWarning: The `ipykernel.comm.Comm` class has been deprecated. Please use the `comm` module instead.For creating comms, use the function `from comm import create_comm`.\n",
            "  self.comm = Comm(**args)\n",
            "c:\\Users\\ben81\\anaconda3\\Lib\\site-packages\\ipywidgets\\widgets\\widget.py:438: DeprecationWarning: The `ipykernel.comm.Comm` class has been deprecated. Please use the `comm` module instead.For creating comms, use the function `from comm import create_comm`.\n",
            "  self.comm = Comm(**args)\n",
            "c:\\Users\\ben81\\anaconda3\\Lib\\site-packages\\ipywidgets\\widgets\\widget.py:438: DeprecationWarning: The `ipykernel.comm.Comm` class has been deprecated. Please use the `comm` module instead.For creating comms, use the function `from comm import create_comm`.\n",
            "  self.comm = Comm(**args)\n",
            "c:\\Users\\ben81\\anaconda3\\Lib\\site-packages\\ipywidgets\\widgets\\widget.py:438: DeprecationWarning: The `ipykernel.comm.Comm` class has been deprecated. Please use the `comm` module instead.For creating comms, use the function `from comm import create_comm`.\n",
            "  self.comm = Comm(**args)\n",
            "c:\\Users\\ben81\\anaconda3\\Lib\\site-packages\\ipywidgets\\widgets\\widget.py:438: DeprecationWarning: The `ipykernel.comm.Comm` class has been deprecated. Please use the `comm` module instead.For creating comms, use the function `from comm import create_comm`.\n",
            "  self.comm = Comm(**args)\n",
            "c:\\Users\\ben81\\anaconda3\\Lib\\site-packages\\ipywidgets\\widgets\\widget.py:438: DeprecationWarning: The `ipykernel.comm.Comm` class has been deprecated. Please use the `comm` module instead.For creating comms, use the function `from comm import create_comm`.\n",
            "  self.comm = Comm(**args)\n",
            "c:\\Users\\ben81\\anaconda3\\Lib\\site-packages\\ipywidgets\\widgets\\widget.py:438: DeprecationWarning: The `ipykernel.comm.Comm` class has been deprecated. Please use the `comm` module instead.For creating comms, use the function `from comm import create_comm`.\n",
            "  self.comm = Comm(**args)\n",
            "c:\\Users\\ben81\\anaconda3\\Lib\\site-packages\\ipywidgets\\widgets\\widget.py:438: DeprecationWarning: The `ipykernel.comm.Comm` class has been deprecated. Please use the `comm` module instead.For creating comms, use the function `from comm import create_comm`.\n",
            "  self.comm = Comm(**args)\n",
            "c:\\Users\\ben81\\anaconda3\\Lib\\site-packages\\ipywidgets\\widgets\\widget.py:438: DeprecationWarning: The `ipykernel.comm.Comm` class has been deprecated. Please use the `comm` module instead.For creating comms, use the function `from comm import create_comm`.\n",
            "  self.comm = Comm(**args)\n",
            "c:\\Users\\ben81\\anaconda3\\Lib\\site-packages\\ipywidgets\\widgets\\widget.py:438: DeprecationWarning: The `ipykernel.comm.Comm` class has been deprecated. Please use the `comm` module instead.For creating comms, use the function `from comm import create_comm`.\n",
            "  self.comm = Comm(**args)\n"
          ]
        },
        {
          "data": {
            "application/vnd.jupyter.widget-view+json": {
              "model_id": "570c9aef1e7b43efbffa27a2af1b5bf6",
              "version_major": 2,
              "version_minor": 0
            },
            "text/plain": [
              "./판결문\\03.행정\\2021 files:   0%|          | 0/108 [00:00<?, ?it/s]"
            ]
          },
          "metadata": {},
          "output_type": "display_data"
        }
      ],
      "source": [
        "import pandas as pd\n",
        "from sklearn.model_selection import train_test_split\n",
        "\n",
        "# JSON Data \n",
        "dataset = JsonDataset(path=data_path)\n",
        "df = pd.DataFrame.from_records(dataset)\n",
        "df.groupby('label').size()\n",
        "\n",
        "df = df.sample(frac=0.05, random_state=123)\n",
        "\n",
        "df1 = df[df['label'].str.startswith('01')]\n",
        "df2 = df[df['label'].str.startswith('02')]\n",
        "df3 = df[df['label'].str.startswith('03')]\n",
        "df4 = df[df['label'].str.startswith('04')]        \n",
        "\n",
        "# 전체 데이터에서 train, test 분리 (9 : 1)\n",
        "df1_train, df1_test = train_test_split(df1, test_size=0.1, random_state=123)\n",
        "df2_train, df2_test = train_test_split(df2, test_size=0.1, random_state=123)\n",
        "df3_train, df3_test = train_test_split(df3, test_size=0.1, random_state=123)\n",
        "df4_train, df4_test = train_test_split(df4, test_size=0.1, random_state=123)\n",
        "\n",
        "df_train = pd.concat([df1_train,df2_train,df3_train,df4_train])\n",
        "df_test = pd.concat([df1_test,df2_test,df3_test,df4_test])"
      ]
    },
    {
      "cell_type": "code",
      "execution_count": 5,
      "metadata": {
        "id": "rOjDEWBJ0ORP"
      },
      "outputs": [
        {
          "data": {
            "text/plain": [
              "label\n",
              "01_주장    1828\n",
              "02_사실    3203\n",
              "03_판단    5817\n",
              "04_결론    1179\n",
              "dtype: int64"
            ]
          },
          "execution_count": 5,
          "metadata": {},
          "output_type": "execute_result"
        }
      ],
      "source": [
        "#전체데이터 확인\n",
        "df.groupby('label').size()"
      ]
    },
    {
      "cell_type": "code",
      "execution_count": 6,
      "metadata": {},
      "outputs": [
        {
          "ename": "JVMNotFoundException",
          "evalue": "No JVM shared library file (jvm.dll) found. Try setting up the JAVA_HOME environment variable properly.",
          "output_type": "error",
          "traceback": [
            "\u001b[1;31m---------------------------------------------------------------------------\u001b[0m",
            "\u001b[1;31mJVMNotFoundException\u001b[0m                      Traceback (most recent call last)",
            "Cell \u001b[1;32mIn[6], line 4\u001b[0m\n\u001b[0;32m      2\u001b[0m \u001b[38;5;28;01mfrom\u001b[39;00m \u001b[38;5;21;01mkonlpy\u001b[39;00m\u001b[38;5;21;01m.\u001b[39;00m\u001b[38;5;21;01mtag\u001b[39;00m \u001b[38;5;28;01mimport\u001b[39;00m Okt\n\u001b[0;32m      3\u001b[0m \u001b[38;5;66;03m# Okt의 객체 생성\u001b[39;00m\n\u001b[1;32m----> 4\u001b[0m okt \u001b[38;5;241m=\u001b[39m Okt()\n\u001b[0;32m      6\u001b[0m \u001b[38;5;66;03m# 한국어에서 의미가 거의 없는 단어들을 불용어 처리하기 위해 집합을 만듦\u001b[39;00m\n\u001b[0;32m      7\u001b[0m stop_words \u001b[38;5;241m=\u001b[39m \u001b[38;5;28mset\u001b[39m([\u001b[38;5;124m'\u001b[39m\u001b[38;5;124m은\u001b[39m\u001b[38;5;124m'\u001b[39m, \u001b[38;5;124m'\u001b[39m\u001b[38;5;124m는\u001b[39m\u001b[38;5;124m'\u001b[39m, \u001b[38;5;124m'\u001b[39m\u001b[38;5;124m이\u001b[39m\u001b[38;5;124m'\u001b[39m, \u001b[38;5;124m'\u001b[39m\u001b[38;5;124m가\u001b[39m\u001b[38;5;124m'\u001b[39m, \u001b[38;5;124m'\u001b[39m\u001b[38;5;124m아\u001b[39m\u001b[38;5;124m'\u001b[39m, \u001b[38;5;124m'\u001b[39m\u001b[38;5;124m하\u001b[39m\u001b[38;5;124m'\u001b[39m, \u001b[38;5;124m'\u001b[39m\u001b[38;5;124m들\u001b[39m\u001b[38;5;124m'\u001b[39m, \u001b[38;5;124m'\u001b[39m\u001b[38;5;124m것\u001b[39m\u001b[38;5;124m'\u001b[39m, \u001b[38;5;124m'\u001b[39m\u001b[38;5;124m의\u001b[39m\u001b[38;5;124m'\u001b[39m, \u001b[38;5;124m'\u001b[39m\u001b[38;5;124m있\u001b[39m\u001b[38;5;124m'\u001b[39m, \u001b[38;5;124m'\u001b[39m\u001b[38;5;124m되\u001b[39m\u001b[38;5;124m'\u001b[39m, \u001b[38;5;124m'\u001b[39m\u001b[38;5;124m수\u001b[39m\u001b[38;5;124m'\u001b[39m, \u001b[38;5;124m'\u001b[39m\u001b[38;5;124m보\u001b[39m\u001b[38;5;124m'\u001b[39m, \u001b[38;5;124m'\u001b[39m\u001b[38;5;124m주\u001b[39m\u001b[38;5;124m'\u001b[39m, \u001b[38;5;124m'\u001b[39m\u001b[38;5;124m등\u001b[39m\u001b[38;5;124m'\u001b[39m, \u001b[38;5;124m'\u001b[39m\u001b[38;5;124m한\u001b[39m\u001b[38;5;124m'\u001b[39m, \u001b[38;5;124m'\u001b[39m\u001b[38;5;124m에\u001b[39m\u001b[38;5;124m'\u001b[39m])\n",
            "File \u001b[1;32mc:\\Users\\ben81\\anaconda3\\Lib\\site-packages\\konlpy\\tag\\_okt.py:51\u001b[0m, in \u001b[0;36mOkt.__init__\u001b[1;34m(self, jvmpath, max_heap_size)\u001b[0m\n\u001b[0;32m     49\u001b[0m \u001b[38;5;28;01mdef\u001b[39;00m \u001b[38;5;21m__init__\u001b[39m(\u001b[38;5;28mself\u001b[39m, jvmpath\u001b[38;5;241m=\u001b[39m\u001b[38;5;28;01mNone\u001b[39;00m, max_heap_size\u001b[38;5;241m=\u001b[39m\u001b[38;5;241m1024\u001b[39m):\n\u001b[0;32m     50\u001b[0m     \u001b[38;5;28;01mif\u001b[39;00m \u001b[38;5;129;01mnot\u001b[39;00m jpype\u001b[38;5;241m.\u001b[39misJVMStarted():\n\u001b[1;32m---> 51\u001b[0m         jvm\u001b[38;5;241m.\u001b[39minit_jvm(jvmpath, max_heap_size)\n\u001b[0;32m     53\u001b[0m     oktJavaPackage \u001b[38;5;241m=\u001b[39m jpype\u001b[38;5;241m.\u001b[39mJPackage(\u001b[38;5;124m'\u001b[39m\u001b[38;5;124mkr.lucypark.okt\u001b[39m\u001b[38;5;124m'\u001b[39m)\n\u001b[0;32m     54\u001b[0m     OktInterfaceJavaClass \u001b[38;5;241m=\u001b[39m oktJavaPackage\u001b[38;5;241m.\u001b[39mOktInterface\n",
            "File \u001b[1;32mc:\\Users\\ben81\\anaconda3\\Lib\\site-packages\\konlpy\\jvm.py:55\u001b[0m, in \u001b[0;36minit_jvm\u001b[1;34m(jvmpath, max_heap_size)\u001b[0m\n\u001b[0;32m     52\u001b[0m args \u001b[38;5;241m=\u001b[39m [javadir, os\u001b[38;5;241m.\u001b[39msep]\n\u001b[0;32m     53\u001b[0m classpath \u001b[38;5;241m=\u001b[39m [f\u001b[38;5;241m.\u001b[39mformat(\u001b[38;5;241m*\u001b[39margs) \u001b[38;5;28;01mfor\u001b[39;00m f \u001b[38;5;129;01min\u001b[39;00m folder_suffix]\n\u001b[1;32m---> 55\u001b[0m jvmpath \u001b[38;5;241m=\u001b[39m jvmpath \u001b[38;5;129;01mor\u001b[39;00m jpype\u001b[38;5;241m.\u001b[39mgetDefaultJVMPath()\n\u001b[0;32m     57\u001b[0m \u001b[38;5;66;03m# NOTE: Temporary patch for Issue #76. Erase when possible.\u001b[39;00m\n\u001b[0;32m     58\u001b[0m \u001b[38;5;28;01mif\u001b[39;00m sys\u001b[38;5;241m.\u001b[39mplatform \u001b[38;5;241m==\u001b[39m \u001b[38;5;124m'\u001b[39m\u001b[38;5;124mdarwin\u001b[39m\u001b[38;5;124m'\u001b[39m\\\n\u001b[0;32m     59\u001b[0m         \u001b[38;5;129;01mand\u001b[39;00m jvmpath\u001b[38;5;241m.\u001b[39mfind(\u001b[38;5;124m'\u001b[39m\u001b[38;5;124m1.8.0\u001b[39m\u001b[38;5;124m'\u001b[39m) \u001b[38;5;241m>\u001b[39m \u001b[38;5;241m0\u001b[39m\\\n\u001b[0;32m     60\u001b[0m         \u001b[38;5;129;01mand\u001b[39;00m jvmpath\u001b[38;5;241m.\u001b[39mendswith(\u001b[38;5;124m'\u001b[39m\u001b[38;5;124mlibjvm.dylib\u001b[39m\u001b[38;5;124m'\u001b[39m):\n",
            "File \u001b[1;32mc:\\Users\\ben81\\anaconda3\\Lib\\site-packages\\jpype\\_jvmfinder.py:74\u001b[0m, in \u001b[0;36mgetDefaultJVMPath\u001b[1;34m()\u001b[0m\n\u001b[0;32m     72\u001b[0m \u001b[38;5;28;01melse\u001b[39;00m:\n\u001b[0;32m     73\u001b[0m     finder \u001b[38;5;241m=\u001b[39m LinuxJVMFinder()\n\u001b[1;32m---> 74\u001b[0m \u001b[38;5;28;01mreturn\u001b[39;00m finder\u001b[38;5;241m.\u001b[39mget_jvm_path()\n",
            "File \u001b[1;32mc:\\Users\\ben81\\anaconda3\\Lib\\site-packages\\jpype\\_jvmfinder.py:212\u001b[0m, in \u001b[0;36mJVMFinder.get_jvm_path\u001b[1;34m(self)\u001b[0m\n\u001b[0;32m    210\u001b[0m \u001b[38;5;28;01mif\u001b[39;00m jvm_notsupport_ext \u001b[38;5;129;01mis\u001b[39;00m \u001b[38;5;129;01mnot\u001b[39;00m \u001b[38;5;28;01mNone\u001b[39;00m:\n\u001b[0;32m    211\u001b[0m     \u001b[38;5;28;01mraise\u001b[39;00m jvm_notsupport_ext\n\u001b[1;32m--> 212\u001b[0m \u001b[38;5;28;01mraise\u001b[39;00m JVMNotFoundException(\u001b[38;5;124m\"\u001b[39m\u001b[38;5;124mNo JVM shared library file (\u001b[39m\u001b[38;5;132;01m{0}\u001b[39;00m\u001b[38;5;124m) \u001b[39m\u001b[38;5;124m\"\u001b[39m\n\u001b[0;32m    213\u001b[0m                            \u001b[38;5;124m\"\u001b[39m\u001b[38;5;124mfound. Try setting up the JAVA_HOME \u001b[39m\u001b[38;5;124m\"\u001b[39m\n\u001b[0;32m    214\u001b[0m                            \u001b[38;5;124m\"\u001b[39m\u001b[38;5;124menvironment variable properly.\u001b[39m\u001b[38;5;124m\"\u001b[39m\n\u001b[0;32m    215\u001b[0m                            \u001b[38;5;241m.\u001b[39mformat(\u001b[38;5;28mself\u001b[39m\u001b[38;5;241m.\u001b[39m_libfile))\n",
            "\u001b[1;31mJVMNotFoundException\u001b[0m: No JVM shared library file (jvm.dll) found. Try setting up the JAVA_HOME environment variable properly."
          ]
        }
      ],
      "source": [
        "# 한국어 형태소 분석기 Okt를 사용하기 위해 import\n",
        "from konlpy.tag import Okt\n",
        "# Okt의 객체 생성\n",
        "okt = Okt()\n",
        "\n",
        "# 한국어에서 의미가 거의 없는 단어들을 불용어 처리하기 위해 집합을 만듦\n",
        "stop_words = set(['은', '는', '이', '가', '아', '하', '들', '것', '의', '있', '되', '수', '보', '주', '등', '한', '에'])"
      ]
    },
    {
      "cell_type": "code",
      "execution_count": null,
      "metadata": {},
      "outputs": [],
      "source": [
        "# 전처리 함수\n",
        "def preprocessing(okt, review):\n",
        "  # 한글이 아닌 단어는 지우고 \" \"으로 대체\n",
        "  review_text = re.sub(\"[^가-힣ㄱ-ㅎㅏ-ㅣ]\", \" \", review)\n",
        "  # 형태소 분석을 하며 stemming 기법을 사용\n",
        "  token_li = okt.morphs(review_text, stem=True)\n",
        "  # 이전 stop_words에 포함되지 않는 단어만 clean_review에 들어갈 수 있게 함\n",
        "  clean_review = [token for token in token_li if not token in stop_words]\n",
        "  # 단어들을 ' '기준으로 이어 붙혀서 하나의 string 타입의 변수를 생성함\n",
        "  clean_review = ' '.join(clean_review)\n",
        "\n",
        "  # 전처리 완료된 문장을 return\n",
        "  return clean_review.strip()"
      ]
    },
    {
      "cell_type": "code",
      "execution_count": null,
      "metadata": {},
      "outputs": [
        {
          "data": {
            "application/vnd.jupyter.widget-view+json": {
              "model_id": "145e205026174bfba83edc99e783553c",
              "version_major": 2,
              "version_minor": 0
            },
            "text/plain": [
              "  0%|          | 0/10823 [00:00<?, ?it/s]"
            ]
          },
          "metadata": {},
          "output_type": "display_data"
        },
        {
          "data": {
            "application/vnd.jupyter.widget-view+json": {
              "model_id": "08298c32d7ad46379b87253f9f07a8cb",
              "version_major": 2,
              "version_minor": 0
            },
            "text/plain": [
              "  0%|          | 0/1204 [00:00<?, ?it/s]"
            ]
          },
          "metadata": {},
          "output_type": "display_data"
        }
      ],
      "source": [
        "# preprocessing 함수를 적용\n",
        "df_train[\"prepro_data\"] = df_train[\"text\"].progress_apply(lambda x: preprocessing(okt, x))\n",
        "df_test[\"prepro_data\"] = df_test[\"text\"].progress_apply(lambda x: preprocessing(okt, x))"
      ]
    },
    {
      "cell_type": "code",
      "execution_count": null,
      "metadata": {},
      "outputs": [
        {
          "name": "stdout",
          "output_type": "stream",
          "text": [
            "공백 제거 전 훈련 데이터 개수:  10823\n",
            "공백 제거 후 훈련 데이터 개수:  10821\n",
            "공백 제거 전 태스트 데이터 개수:  1204\n",
            "공백 제거 후 테스트 데이터 개수:  1204\n"
          ]
        }
      ],
      "source": [
        "# 전처리 과정에서 모든 문장이 삭제될 가능성이 있으므로, 해당 데이터 제거\n",
        "\n",
        "print(\"공백 제거 전 훈련 데이터 개수: \", len(df_train))\n",
        "train_not_empty_value = df_train[\"prepro_data\"] != \"\"\n",
        "df_train = df_train[train_not_empty_value]\n",
        "print(\"공백 제거 후 훈련 데이터 개수: \", len(df_train))\n",
        "\n",
        "print(\"공백 제거 전 태스트 데이터 개수: \", len(df_test))\n",
        "test_not_empty_value = df_test[\"prepro_data\"] != \"\"\n",
        "df_test = df_test[test_not_empty_value]\n",
        "print(\"공백 제거 후 테스트 데이터 개수: \", len(df_test))"
      ]
    },
    {
      "cell_type": "code",
      "execution_count": null,
      "metadata": {},
      "outputs": [],
      "source": [
        "# 순서 변경\n",
        "df_train = df_train.sample(frac=1).reset_index(drop=True)\n",
        "df_test = df_test.sample(frac=1).reset_index(drop=True)\n",
        "\n",
        "# 훈련 데이터\n",
        "x_train = df_train[\"prepro_data\"].copy()\n",
        "y_train = df_train[\"label\"].copy()\n",
        "\n",
        "# 테스트 데이터\n",
        "x_test = df_test[\"prepro_data\"].copy()\n",
        "y_test = df_test[\"label\"].copy()"
      ]
    },
    {
      "cell_type": "code",
      "execution_count": null,
      "metadata": {},
      "outputs": [],
      "source": [
        "# tfidf embedding\n",
        "from sklearn.feature_extraction.text import TfidfVectorizer\n",
        "\n",
        "vectorizer = TfidfVectorizer()\n",
        "vectorizer.fit(x_train)\n",
        "tfidf_embeddings = vectorizer.transform(text_data)"
      ]
    },
    {
      "cell_type": "code",
      "execution_count": null,
      "metadata": {},
      "outputs": [],
      "source": [
        "from sklearn.feature_extraction.text import TfidfVectorizer\n",
        "\n",
        "# Create a TF-IDF vectorizer object\n",
        "vectorizer = TfidfVectorizer()\n",
        "\n",
        "# Fit the vectorizer on your text data\n",
        "vectorizer.fit(text_data)\n",
        "\n",
        "# Transform the text data into TF-IDF embeddings\n",
        "tfidf_embeddings = vectorizer.transform(text_data)"
      ]
    },
    {
      "cell_type": "code",
      "execution_count": null,
      "metadata": {},
      "outputs": [],
      "source": [
        "# modeling"
      ]
    },
    {
      "cell_type": "code",
      "execution_count": null,
      "metadata": {},
      "outputs": [],
      "source": [
        "# confusion matric 출력"
      ]
    },
    {
      "cell_type": "code",
      "execution_count": null,
      "metadata": {},
      "outputs": [],
      "source": [
        "# 결과 리포트 출력\n"
      ]
    },
    {
      "cell_type": "code",
      "execution_count": null,
      "metadata": {},
      "outputs": [],
      "source": []
    }
  ],
  "metadata": {
    "accelerator": "GPU",
    "colab": {
      "collapsed_sections": [],
      "machine_shape": "hm",
      "name": "AIHUB_판결문",
      "provenance": []
    },
    "kernelspec": {
      "display_name": "Python 3",
      "name": "python3"
    },
    "language_info": {
      "codemirror_mode": {
        "name": "ipython",
        "version": 3
      },
      "file_extension": ".py",
      "mimetype": "text/x-python",
      "name": "python",
      "nbconvert_exporter": "python",
      "pygments_lexer": "ipython3",
      "version": "3.11.7"
    }
  },
  "nbformat": 4,
  "nbformat_minor": 0
}
