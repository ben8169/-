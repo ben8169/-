{
 "cells": [
  {
   "attachments": {},
   "cell_type": "markdown",
   "metadata": {},
   "source": [
    "plt.rc('font',family='AppleGothic')"
   ]
  },
  {
   "cell_type": "code",
   "execution_count": 20,
   "metadata": {},
   "outputs": [
    {
     "ename": "ModuleNotFoundError",
     "evalue": "No module named 'matplotlib'",
     "output_type": "error",
     "traceback": [
      "\u001b[0;31m---------------------------------------------------------------------------\u001b[0m",
      "\u001b[0;31mModuleNotFoundError\u001b[0m                       Traceback (most recent call last)",
      "Cell \u001b[0;32mIn[20], line 2\u001b[0m\n\u001b[1;32m      1\u001b[0m \u001b[39mimport\u001b[39;00m \u001b[39mpandas\u001b[39;00m \u001b[39mas\u001b[39;00m \u001b[39mpd\u001b[39;00m\n\u001b[0;32m----> 2\u001b[0m \u001b[39mimport\u001b[39;00m \u001b[39mmatplotlib\u001b[39;00m\u001b[39m.\u001b[39;00m\u001b[39mpyplot\u001b[39;00m \u001b[39mas\u001b[39;00m \u001b[39mplt\u001b[39;00m\n",
      "\u001b[0;31mModuleNotFoundError\u001b[0m: No module named 'matplotlib'"
     ]
    }
   ],
   "source": [
    "import pandas as pd\n",
    "import matplotlib.pyplot as plt"
   ]
  },
  {
   "cell_type": "code",
   "execution_count": 7,
   "metadata": {},
   "outputs": [
    {
     "data": {
      "text/html": [
       "<div>\n",
       "<style scoped>\n",
       "    .dataframe tbody tr th:only-of-type {\n",
       "        vertical-align: middle;\n",
       "    }\n",
       "\n",
       "    .dataframe tbody tr th {\n",
       "        vertical-align: top;\n",
       "    }\n",
       "\n",
       "    .dataframe thead th {\n",
       "        text-align: right;\n",
       "    }\n",
       "</style>\n",
       "<table border=\"1\" class=\"dataframe\">\n",
       "  <thead>\n",
       "    <tr style=\"text-align: right;\">\n",
       "      <th></th>\n",
       "      <th>치매센터명</th>\n",
       "      <th>치매센터유형</th>\n",
       "      <th>소재지도로명주소</th>\n",
       "      <th>소재지지번주소</th>\n",
       "      <th>위도</th>\n",
       "      <th>경도</th>\n",
       "      <th>설립연월</th>\n",
       "      <th>건축물면적</th>\n",
       "      <th>부대시설정보</th>\n",
       "      <th>의사인원수</th>\n",
       "      <th>...</th>\n",
       "      <th>운영기관명</th>\n",
       "      <th>운영기관대표자명</th>\n",
       "      <th>운영기관전화번호</th>\n",
       "      <th>운영위탁일자</th>\n",
       "      <th>주요치매관리프로그램소개</th>\n",
       "      <th>관리기관전화번호</th>\n",
       "      <th>관리기관명</th>\n",
       "      <th>데이터기준일자</th>\n",
       "      <th>제공기관코드</th>\n",
       "      <th>제공기관명</th>\n",
       "    </tr>\n",
       "  </thead>\n",
       "  <tbody>\n",
       "    <tr>\n",
       "      <th>0</th>\n",
       "      <td>김제시 치매안심센터</td>\n",
       "      <td>치매안심센터</td>\n",
       "      <td>전라북도 김제시 성산길 138</td>\n",
       "      <td>전라북도 김제시 요촌동 423-2</td>\n",
       "      <td>35.800808</td>\n",
       "      <td>126.883339</td>\n",
       "      <td>2017-12</td>\n",
       "      <td>841.80</td>\n",
       "      <td>없음</td>\n",
       "      <td>1</td>\n",
       "      <td>...</td>\n",
       "      <td>김제시 보건소</td>\n",
       "      <td>김형희</td>\n",
       "      <td>063-540-4978</td>\n",
       "      <td>NaN</td>\n",
       "      <td>인지재활프로그램인지강화프로그램쉼터카페제공치매치료비지원치매선별검사 및 진단검사 등</td>\n",
       "      <td>063-540-2743</td>\n",
       "      <td>김제시 보건소치매재활과</td>\n",
       "      <td>2019-04-18</td>\n",
       "      <td>4710000</td>\n",
       "      <td>전라북도 김제시</td>\n",
       "    </tr>\n",
       "    <tr>\n",
       "      <th>1</th>\n",
       "      <td>시흥시 치매안심센터(정왕센터)</td>\n",
       "      <td>치매안심센터</td>\n",
       "      <td>경기도 시흥시 정왕대로233번길 19</td>\n",
       "      <td>경기도 시흥시 정왕동 1799-5</td>\n",
       "      <td>37.346721</td>\n",
       "      <td>126.740153</td>\n",
       "      <td>2018-11</td>\n",
       "      <td>538.68</td>\n",
       "      <td>사무실(1)+회의실(1)+교육실(2)+검진및상담실(4)+환자쉼터(1)+가족카페(1)</td>\n",
       "      <td>0</td>\n",
       "      <td>...</td>\n",
       "      <td>시흥시보건소</td>\n",
       "      <td>방효설</td>\n",
       "      <td>031-310-5930</td>\n",
       "      <td>NaN</td>\n",
       "      <td>치매조기검진+치매의료비 및 검진비 지원+치매예방교육+치매환자쉼터 및 가족지원사업 등</td>\n",
       "      <td>031-310-5858</td>\n",
       "      <td>경기도 시흥시청</td>\n",
       "      <td>2022-11-24</td>\n",
       "      <td>4010000</td>\n",
       "      <td>경기도 시흥시</td>\n",
       "    </tr>\n",
       "    <tr>\n",
       "      <th>2</th>\n",
       "      <td>시흥시 치매안심센터(대야신천센터)</td>\n",
       "      <td>치매안심센터</td>\n",
       "      <td>경기도 시흥시 호현로 55</td>\n",
       "      <td>경기도 시흥시 대야동 484-3</td>\n",
       "      <td>37.445579</td>\n",
       "      <td>126.785283</td>\n",
       "      <td>2019-04</td>\n",
       "      <td>489.00</td>\n",
       "      <td>사무실(1)+회의실(1)+ 검진실(2)+환자쉼터(1)+가족카페(1)</td>\n",
       "      <td>0</td>\n",
       "      <td>...</td>\n",
       "      <td>시흥시보건소</td>\n",
       "      <td>방효설</td>\n",
       "      <td>031-310-5857</td>\n",
       "      <td>NaN</td>\n",
       "      <td>치매조기검진+치매의료비 및 검진비 지원+치매예방교육+치매환자쉼터 및 가족지원사업 등</td>\n",
       "      <td>031-310-5858</td>\n",
       "      <td>경기도 시흥시청</td>\n",
       "      <td>2022-11-24</td>\n",
       "      <td>4010000</td>\n",
       "      <td>경기도 시흥시</td>\n",
       "    </tr>\n",
       "    <tr>\n",
       "      <th>3</th>\n",
       "      <td>남원시 치매안심센터</td>\n",
       "      <td>치매안심센터</td>\n",
       "      <td>전라북도 남원시 요천로 1285</td>\n",
       "      <td>전라북도 남원시 조산동 455</td>\n",
       "      <td>35.397838</td>\n",
       "      <td>127.363990</td>\n",
       "      <td>2018-11</td>\n",
       "      <td>469.08</td>\n",
       "      <td>지상 2층+상담실(1)+검사실(1)+진단평가실(1)+쉼터(1)+사무실(1)</td>\n",
       "      <td>0</td>\n",
       "      <td>...</td>\n",
       "      <td>남원시보건소</td>\n",
       "      <td>한용재</td>\n",
       "      <td>063-620-7725</td>\n",
       "      <td>NaN</td>\n",
       "      <td>치매인식 개선 및 예방사업+치매조기검진+맞춤형 사례관리+치매치료관리비지원+조호물품 ...</td>\n",
       "      <td>063-620-7725</td>\n",
       "      <td>전라북도 남원시청</td>\n",
       "      <td>2022-11-30</td>\n",
       "      <td>4700000</td>\n",
       "      <td>전라북도 남원시</td>\n",
       "    </tr>\n",
       "    <tr>\n",
       "      <th>4</th>\n",
       "      <td>울산광역시 동구보건소 치매안심센터</td>\n",
       "      <td>치매안심센터</td>\n",
       "      <td>울산광역시 동구 봉수로 155</td>\n",
       "      <td>울산광역시 동구 화정동 222</td>\n",
       "      <td>35.505086</td>\n",
       "      <td>129.416430</td>\n",
       "      <td>2019-08</td>\n",
       "      <td>615.32</td>\n",
       "      <td>진단실(2)+쉼터+교육실+음악실+감성실+요리실</td>\n",
       "      <td>1</td>\n",
       "      <td>...</td>\n",
       "      <td>울산광역시 동구보건소</td>\n",
       "      <td>신수진</td>\n",
       "      <td>052-209-4060</td>\n",
       "      <td>NaN</td>\n",
       "      <td>쉼터 운영+인지강화 및 인지재활 프로그램+힐링프로그램+자조모임</td>\n",
       "      <td>052-209-4060</td>\n",
       "      <td>울산광역시 동구보건소</td>\n",
       "      <td>2022-11-25</td>\n",
       "      <td>3710000</td>\n",
       "      <td>울산광역시 동구</td>\n",
       "    </tr>\n",
       "    <tr>\n",
       "      <th>...</th>\n",
       "      <td>...</td>\n",
       "      <td>...</td>\n",
       "      <td>...</td>\n",
       "      <td>...</td>\n",
       "      <td>...</td>\n",
       "      <td>...</td>\n",
       "      <td>...</td>\n",
       "      <td>...</td>\n",
       "      <td>...</td>\n",
       "      <td>...</td>\n",
       "      <td>...</td>\n",
       "      <td>...</td>\n",
       "      <td>...</td>\n",
       "      <td>...</td>\n",
       "      <td>...</td>\n",
       "      <td>...</td>\n",
       "      <td>...</td>\n",
       "      <td>...</td>\n",
       "      <td>...</td>\n",
       "      <td>...</td>\n",
       "      <td>...</td>\n",
       "    </tr>\n",
       "    <tr>\n",
       "      <th>300</th>\n",
       "      <td>안산시상록수보건소 치매안심센터</td>\n",
       "      <td>치매안심센터</td>\n",
       "      <td>경기도 안산시 상록구 차돌배기로1길 5</td>\n",
       "      <td>경기도 안산시 상록구 사동 1584</td>\n",
       "      <td>37.300264</td>\n",
       "      <td>126.845063</td>\n",
       "      <td>2019-05</td>\n",
       "      <td>430.00</td>\n",
       "      <td>로비(1)+사무실(1)+교육상담실(1)+검진실(3)+가족카페(1)+쉼터(1)</td>\n",
       "      <td>4</td>\n",
       "      <td>...</td>\n",
       "      <td>안산시 상록수보건소</td>\n",
       "      <td>오상근</td>\n",
       "      <td>031-481-5848</td>\n",
       "      <td>NaN</td>\n",
       "      <td>조기검진+등록관리+예방및홍보+쉼터및가족카페 운영</td>\n",
       "      <td>1666-1234</td>\n",
       "      <td>경기도 안산시 상록수보건소</td>\n",
       "      <td>2022-12-20</td>\n",
       "      <td>3930000</td>\n",
       "      <td>경기도 안산시</td>\n",
       "    </tr>\n",
       "    <tr>\n",
       "      <th>301</th>\n",
       "      <td>안산시단원보건소 치매안심센터</td>\n",
       "      <td>치매안심센터</td>\n",
       "      <td>경기도 안산시 단원구 화랑로 250,단원보건소 3층</td>\n",
       "      <td>경기도 안산시 단원구 초지동 666-8</td>\n",
       "      <td>37.321067</td>\n",
       "      <td>126.815263</td>\n",
       "      <td>2019-03</td>\n",
       "      <td>558.41</td>\n",
       "      <td>로비(1)+사무실(1)+상담실(1)+검진실(2)+가족카페(1)+쉼터(3)</td>\n",
       "      <td>3</td>\n",
       "      <td>...</td>\n",
       "      <td>안산시 단원보건소</td>\n",
       "      <td>정재훈</td>\n",
       "      <td>031-481-6556</td>\n",
       "      <td>NaN</td>\n",
       "      <td>조기검진+등록관리+예방및홍보+쉼터및가족카페 운영</td>\n",
       "      <td>1666-1234</td>\n",
       "      <td>경기도 안산시 단원보건소</td>\n",
       "      <td>2022-12-20</td>\n",
       "      <td>3930000</td>\n",
       "      <td>경기도 안산시</td>\n",
       "    </tr>\n",
       "    <tr>\n",
       "      <th>302</th>\n",
       "      <td>부산광역시남구치매안심센터</td>\n",
       "      <td>치매안심센터</td>\n",
       "      <td>부산광역시 남구 수영로 155(대연동)</td>\n",
       "      <td>부산광역시 남구 대연동 1768-3</td>\n",
       "      <td>35.134956</td>\n",
       "      <td>129.083553</td>\n",
       "      <td>2018-04</td>\n",
       "      <td>364.55</td>\n",
       "      <td>사무실(1)+검진실(3)+상담실(1)+프로그램실(2)</td>\n",
       "      <td>1</td>\n",
       "      <td>...</td>\n",
       "      <td>남구보건소치매안심센터</td>\n",
       "      <td>센터장 허목</td>\n",
       "      <td>051-607-3771</td>\n",
       "      <td>2018-04-27</td>\n",
       "      <td>치매조기검진+인지재활프로그램+고위험군 인지강화교실+치매예방교실 등</td>\n",
       "      <td>051-607-3771</td>\n",
       "      <td>부산광역시남구치매안심센터</td>\n",
       "      <td>2022-12-20</td>\n",
       "      <td>3310000</td>\n",
       "      <td>부산광역시 남구</td>\n",
       "    </tr>\n",
       "    <tr>\n",
       "      <th>303</th>\n",
       "      <td>용산구치매안심센터</td>\n",
       "      <td>치매안심센터</td>\n",
       "      <td>서울특별시 용산구 녹사평대로 150</td>\n",
       "      <td>NaN</td>\n",
       "      <td>37.532439</td>\n",
       "      <td>126.990478</td>\n",
       "      <td>2022-10</td>\n",
       "      <td>574.82</td>\n",
       "      <td>사무실(1)+교육실(1)+프로그램실(3)+신체계측실(1)+검진실(3)+진료실(1)+...</td>\n",
       "      <td>1</td>\n",
       "      <td>...</td>\n",
       "      <td>순천향대학교 서울병원</td>\n",
       "      <td>김성구</td>\n",
       "      <td>02-790-1541</td>\n",
       "      <td>2009-10-19</td>\n",
       "      <td>조기검진사업+치매환자등록관리사업+치매환자쉼터 운영사업+가족모임운영+교육 및 인지프로...</td>\n",
       "      <td>02-2199-8082</td>\n",
       "      <td>서울특별시 용산구 보건소</td>\n",
       "      <td>2022-12-20</td>\n",
       "      <td>3020000</td>\n",
       "      <td>서울특별시 용산구</td>\n",
       "    </tr>\n",
       "    <tr>\n",
       "      <th>304</th>\n",
       "      <td>금천구치매안심센터</td>\n",
       "      <td>치매안심센터</td>\n",
       "      <td>서울특별시 금천구 시흥대로 123길 11(독산1동 주민센터) 6층, 7층</td>\n",
       "      <td>서울특별시 금천구 독산동 289-5</td>\n",
       "      <td>37.470219</td>\n",
       "      <td>126.897044</td>\n",
       "      <td>2022-08</td>\n",
       "      <td>748.10</td>\n",
       "      <td>사무실1(센터장실1)+상담실(5)+기억키움학교1+프로그램실4+휴개살1+가족카페1+화장실4</td>\n",
       "      <td>1</td>\n",
       "      <td>...</td>\n",
       "      <td>고려대학교 구로병원</td>\n",
       "      <td>병원장 정희진</td>\n",
       "      <td>02-3281-9082</td>\n",
       "      <td>2020-01-01</td>\n",
       "      <td>예방 및 인식개선 사업, 조기검진 사업,등록관리사업,치매치료관리비 지원사업, 지역사...</td>\n",
       "      <td>02-2627-2215</td>\n",
       "      <td>서울특별시 금천구 보건소</td>\n",
       "      <td>2022-12-16</td>\n",
       "      <td>3170000</td>\n",
       "      <td>서울특별시 금천구</td>\n",
       "    </tr>\n",
       "  </tbody>\n",
       "</table>\n",
       "<p>305 rows × 23 columns</p>\n",
       "</div>"
      ],
      "text/plain": [
       "                  치매센터명  치매센터유형                                  소재지도로명주소  \\\n",
       "0            김제시 치매안심센터  치매안심센터                          전라북도 김제시 성산길 138   \n",
       "1      시흥시 치매안심센터(정왕센터)  치매안심센터                      경기도 시흥시 정왕대로233번길 19   \n",
       "2    시흥시 치매안심센터(대야신천센터)  치매안심센터                            경기도 시흥시 호현로 55   \n",
       "3            남원시 치매안심센터  치매안심센터                         전라북도 남원시 요천로 1285   \n",
       "4    울산광역시 동구보건소 치매안심센터  치매안심센터                          울산광역시 동구 봉수로 155   \n",
       "..                  ...     ...                                       ...   \n",
       "300    안산시상록수보건소 치매안심센터  치매안심센터                     경기도 안산시 상록구 차돌배기로1길 5   \n",
       "301     안산시단원보건소 치매안심센터  치매안심센터              경기도 안산시 단원구 화랑로 250,단원보건소 3층   \n",
       "302       부산광역시남구치매안심센터  치매안심센터                     부산광역시 남구 수영로 155(대연동)   \n",
       "303           용산구치매안심센터  치매안심센터                       서울특별시 용산구 녹사평대로 150   \n",
       "304           금천구치매안심센터  치매안심센터  서울특별시 금천구 시흥대로 123길 11(독산1동 주민센터) 6층, 7층   \n",
       "\n",
       "                   소재지지번주소         위도          경도     설립연월   건축물면적  \\\n",
       "0       전라북도 김제시 요촌동 423-2  35.800808  126.883339  2017-12  841.80   \n",
       "1       경기도 시흥시 정왕동 1799-5  37.346721  126.740153  2018-11  538.68   \n",
       "2        경기도 시흥시 대야동 484-3  37.445579  126.785283  2019-04  489.00   \n",
       "3         전라북도 남원시 조산동 455  35.397838  127.363990  2018-11  469.08   \n",
       "4         울산광역시 동구 화정동 222  35.505086  129.416430  2019-08  615.32   \n",
       "..                     ...        ...         ...      ...     ...   \n",
       "300    경기도 안산시 상록구 사동 1584  37.300264  126.845063  2019-05  430.00   \n",
       "301  경기도 안산시 단원구 초지동 666-8  37.321067  126.815263  2019-03  558.41   \n",
       "302    부산광역시 남구 대연동 1768-3  35.134956  129.083553  2018-04  364.55   \n",
       "303                    NaN  37.532439  126.990478  2022-10  574.82   \n",
       "304    서울특별시 금천구 독산동 289-5  37.470219  126.897044  2022-08  748.10   \n",
       "\n",
       "                                                부대시설정보  의사인원수  ...  \\\n",
       "0                                                   없음      1  ...   \n",
       "1       사무실(1)+회의실(1)+교육실(2)+검진및상담실(4)+환자쉼터(1)+가족카페(1)      0  ...   \n",
       "2                사무실(1)+회의실(1)+ 검진실(2)+환자쉼터(1)+가족카페(1)      0  ...   \n",
       "3            지상 2층+상담실(1)+검사실(1)+진단평가실(1)+쉼터(1)+사무실(1)      0  ...   \n",
       "4                            진단실(2)+쉼터+교육실+음악실+감성실+요리실      1  ...   \n",
       "..                                                 ...    ...  ...   \n",
       "300         로비(1)+사무실(1)+교육상담실(1)+검진실(3)+가족카페(1)+쉼터(1)      4  ...   \n",
       "301           로비(1)+사무실(1)+상담실(1)+검진실(2)+가족카페(1)+쉼터(3)      3  ...   \n",
       "302                      사무실(1)+검진실(3)+상담실(1)+프로그램실(2)      1  ...   \n",
       "303  사무실(1)+교육실(1)+프로그램실(3)+신체계측실(1)+검진실(3)+진료실(1)+...      1  ...   \n",
       "304  사무실1(센터장실1)+상담실(5)+기억키움학교1+프로그램실4+휴개살1+가족카페1+화장실4      1  ...   \n",
       "\n",
       "           운영기관명  운영기관대표자명      운영기관전화번호      운영위탁일자  \\\n",
       "0        김제시 보건소       김형희  063-540-4978         NaN   \n",
       "1         시흥시보건소       방효설  031-310-5930         NaN   \n",
       "2         시흥시보건소       방효설  031-310-5857         NaN   \n",
       "3         남원시보건소       한용재  063-620-7725         NaN   \n",
       "4    울산광역시 동구보건소       신수진  052-209-4060         NaN   \n",
       "..           ...       ...           ...         ...   \n",
       "300   안산시 상록수보건소       오상근  031-481-5848         NaN   \n",
       "301    안산시 단원보건소       정재훈  031-481-6556         NaN   \n",
       "302  남구보건소치매안심센터    센터장 허목  051-607-3771  2018-04-27   \n",
       "303  순천향대학교 서울병원       김성구   02-790-1541  2009-10-19   \n",
       "304   고려대학교 구로병원   병원장 정희진  02-3281-9082  2020-01-01   \n",
       "\n",
       "                                          주요치매관리프로그램소개      관리기관전화번호  \\\n",
       "0         인지재활프로그램인지강화프로그램쉼터카페제공치매치료비지원치매선별검사 및 진단검사 등  063-540-2743   \n",
       "1       치매조기검진+치매의료비 및 검진비 지원+치매예방교육+치매환자쉼터 및 가족지원사업 등  031-310-5858   \n",
       "2       치매조기검진+치매의료비 및 검진비 지원+치매예방교육+치매환자쉼터 및 가족지원사업 등  031-310-5858   \n",
       "3    치매인식 개선 및 예방사업+치매조기검진+맞춤형 사례관리+치매치료관리비지원+조호물품 ...  063-620-7725   \n",
       "4                   쉼터 운영+인지강화 및 인지재활 프로그램+힐링프로그램+자조모임  052-209-4060   \n",
       "..                                                 ...           ...   \n",
       "300                         조기검진+등록관리+예방및홍보+쉼터및가족카페 운영     1666-1234   \n",
       "301                         조기검진+등록관리+예방및홍보+쉼터및가족카페 운영     1666-1234   \n",
       "302               치매조기검진+인지재활프로그램+고위험군 인지강화교실+치매예방교실 등  051-607-3771   \n",
       "303  조기검진사업+치매환자등록관리사업+치매환자쉼터 운영사업+가족모임운영+교육 및 인지프로...  02-2199-8082   \n",
       "304  예방 및 인식개선 사업, 조기검진 사업,등록관리사업,치매치료관리비 지원사업, 지역사...  02-2627-2215   \n",
       "\n",
       "              관리기관명     데이터기준일자   제공기관코드      제공기관명  \n",
       "0      김제시 보건소치매재활과  2019-04-18  4710000   전라북도 김제시  \n",
       "1          경기도 시흥시청  2022-11-24  4010000    경기도 시흥시  \n",
       "2          경기도 시흥시청  2022-11-24  4010000    경기도 시흥시  \n",
       "3         전라북도 남원시청  2022-11-30  4700000   전라북도 남원시  \n",
       "4       울산광역시 동구보건소  2022-11-25  3710000   울산광역시 동구  \n",
       "..              ...         ...      ...        ...  \n",
       "300  경기도 안산시 상록수보건소  2022-12-20  3930000    경기도 안산시  \n",
       "301   경기도 안산시 단원보건소  2022-12-20  3930000    경기도 안산시  \n",
       "302   부산광역시남구치매안심센터  2022-12-20  3310000   부산광역시 남구  \n",
       "303   서울특별시 용산구 보건소  2022-12-20  3020000  서울특별시 용산구  \n",
       "304   서울특별시 금천구 보건소  2022-12-16  3170000  서울특별시 금천구  \n",
       "\n",
       "[305 rows x 23 columns]"
      ]
     },
     "execution_count": 7,
     "metadata": {},
     "output_type": "execute_result"
    }
   ],
   "source": [
    "dataset = pd.read_csv('/Users/ben8169/Downloads/전국치매센터표준데이터.csv',encoding='cp949')\n",
    "dataset"
   ]
  },
  {
   "cell_type": "code",
   "execution_count": null,
   "metadata": {},
   "outputs": [],
   "source": [
    "dataset.plot()"
   ]
  },
  {
   "cell_type": "code",
   "execution_count": null,
   "metadata": {},
   "outputs": [],
   "source": [
    "#Stacked Bar Chart\n",
    "dataset[['위도','경도']].head(15).plot(kind='bar',stacked=True)"
   ]
  },
  {
   "cell_type": "code",
   "execution_count": 22,
   "metadata": {},
   "outputs": [
    {
     "name": "stdout",
     "output_type": "stream",
     "text": [
      "Python 3.9.10\n"
     ]
    }
   ],
   "source": [
    "#Scatter Plot\n",
    "dataset.plot(kind='scatter',x='위도',y='경도',color = 'g')"
   ]
  },
  {
   "cell_type": "code",
   "execution_count": null,
   "metadata": {},
   "outputs": [],
   "source": [
    "#plot.bar -sort\n",
    "dataset1 =dataset.sort_values(by='위도',ascending=False)\n",
    "dataset['위도'].head(30).plot(kind='bar')"
   ]
  },
  {
   "cell_type": "code",
   "execution_count": null,
   "metadata": {},
   "outputs": [],
   "source": [
    "#plot.bar - 제목 붙이기\n",
    "dataset1[['위도','경도']].head(30).plot(kind='bar',title='위도vs경도')"
   ]
  },
  {
   "cell_type": "code",
   "execution_count": null,
   "metadata": {},
   "outputs": [],
   "source": [
    "#plot.bar - 순서 바꾸고 색 지정\n",
    "dataset1[['위도','경도']].head(7).plot.bar(color=['r','g','yellow']) "
   ]
  },
  {
   "cell_type": "code",
   "execution_count": null,
   "metadata": {},
   "outputs": [],
   "source": [
    "#plot.bar - groupby\n",
    "dataset2 = dataset.groupby('시군구명').sum()\n",
    "dataset2.plot.bar()"
   ]
  },
  {
   "cell_type": "code",
   "execution_count": null,
   "metadata": {},
   "outputs": [],
   "source": [
    "#plot.pie\n",
    "dataset2.plot.pie(y='시군구명',figsize=(5,5),autopct='%1.1f')"
   ]
  },
  {
   "cell_type": "code",
   "execution_count": null,
   "metadata": {},
   "outputs": [],
   "source": [
    "# df.plot(x='Time',y='Speed')\n",
    "# df.plot.area(x='Time',y='Speed')"
   ]
  },
  {
   "cell_type": "code",
   "execution_count": null,
   "metadata": {},
   "outputs": [],
   "source": [
    "# df[['Traffic']].plot.box()"
   ]
  },
  {
   "cell_type": "code",
   "execution_count": null,
   "metadata": {},
   "outputs": [],
   "source": [
    "# df[\"SPEED\"].plot.hist()"
   ]
  },
  {
   "attachments": {},
   "cell_type": "markdown",
   "metadata": {},
   "source": [
    "<H3>Seaborn"
   ]
  },
  {
   "cell_type": "code",
   "execution_count": 30,
   "metadata": {},
   "outputs": [
    {
     "ename": "ModuleNotFoundError",
     "evalue": "No module named 'seaborn'",
     "output_type": "error",
     "traceback": [
      "\u001b[0;31m---------------------------------------------------------------------------\u001b[0m",
      "\u001b[0;31mModuleNotFoundError\u001b[0m                       Traceback (most recent call last)",
      "Cell \u001b[0;32mIn[30], line 1\u001b[0m\n\u001b[0;32m----> 1\u001b[0m \u001b[39mimport\u001b[39;00m \u001b[39mseaborn\u001b[39;00m \u001b[39mas\u001b[39;00m \u001b[39msns\u001b[39;00m\n",
      "\u001b[0;31mModuleNotFoundError\u001b[0m: No module named 'seaborn'"
     ]
    }
   ],
   "source": [
    "import seaborn as sns"
   ]
  },
  {
   "cell_type": "code",
   "execution_count": null,
   "metadata": {},
   "outputs": [],
   "source": [
    "flights = sns.load_dataset('filghts')"
   ]
  },
  {
   "cell_type": "code",
   "execution_count": null,
   "metadata": {},
   "outputs": [],
   "source": [
    "#barplot\n",
    "plt.figure(figsize=(12,5))\n",
    "sns.barplot(x='year',y='passengers',data=flights)\n"
   ]
  },
  {
   "cell_type": "code",
   "execution_count": null,
   "metadata": {},
   "outputs": [],
   "source": [
    "#boxplot\n",
    "plt.figure(figsize=(10,8))\n",
    "sns.boxplot(x='month',y='passengers',data=flights)"
   ]
  },
  {
   "cell_type": "code",
   "execution_count": null,
   "metadata": {},
   "outputs": [],
   "source": [
    "#violinplot\n",
    "plt.figure(figsize=(10,7))\n",
    "sns.violinplot(x='month',y='passengers',data='passengers')"
   ]
  },
  {
   "cell_type": "code",
   "execution_count": null,
   "metadata": {},
   "outputs": [],
   "source": [
    "#swarmplot\n",
    "plt.figure(figsize=(10,7))\n",
    "sns.swarmplot(x='year',y='passengers',data=flights)"
   ]
  },
  {
   "cell_type": "code",
   "execution_count": null,
   "metadata": {},
   "outputs": [],
   "source": [
    "#lineplot\n",
    "plt.figure(figsize=(10,7))\n",
    "sns.lineplot(x='year',y='passengers',data=flights)"
   ]
  },
  {
   "cell_type": "code",
   "execution_count": null,
   "metadata": {},
   "outputs": [],
   "source": [
    "#heatmap\n",
    "plt.figure(figsize=(10,7))\n",
    "flight_heat = flights.pivot('month','year','passengers')\n",
    "sns.heatmap(flight_heat)"
   ]
  },
  {
   "cell_type": "code",
   "execution_count": null,
   "metadata": {},
   "outputs": [],
   "source": [
    "penguins = sns.load_dataset('penguins')\n",
    "penguins"
   ]
  },
  {
   "cell_type": "code",
   "execution_count": null,
   "metadata": {},
   "outputs": [],
   "source": [
    "#binwidth = 막대기 너비, kde = 밀도함수, hue = 색깔, \n",
    "sns.histplot(data=penguins,x='flipper_length_mm',binwidth=3, bins=20,kde=True,hue='species')"
   ]
  },
  {
   "cell_type": "code",
   "execution_count": null,
   "metadata": {},
   "outputs": [],
   "source": [
    "#displot\n",
    "#facet_kws = dict(margin_titles=True) = 그래프 제목\n",
    "sns.set_theme(style='darkgrid')\n",
    "\n",
    "sns.displot(penguins,x='flipper_length_mm',col='species',\n",
    "            hue='species',kind='kde',fill=True,binwidth=3,height=5,facet_kws=dict(margin_titles=True))"
   ]
  },
  {
   "cell_type": "code",
   "execution_count": null,
   "metadata": {},
   "outputs": [],
   "source": [
    "#ecdfplot\n",
    "plt.figure(figsize=(10,7)) \n",
    "sns.ecdfplot(data=penguins,x='flipper_length_mm',hue='species')"
   ]
  },
  {
   "cell_type": "code",
   "execution_count": null,
   "metadata": {},
   "outputs": [],
   "source": [
    "#pointplot\n",
    "plt.figure(figsize=(10,7))\n",
    "\n",
    "sns.pointplot(data=penguins, x=\"island\", y=\"body_mass_g\", hue=\"sex\")"
   ]
  },
  {
   "cell_type": "code",
   "execution_count": null,
   "metadata": {},
   "outputs": [],
   "source": [
    "df = sns.load_dataset('titanic')\n",
    "sns.catplot(data=df, x=\"age\", y=\"class\")\n",
    "#kind = 'box' = 박스그래프\n",
    "sns.catplot(data=df, x=\"age\", y=\"class\", kind=\"box\")"
   ]
  },
  {
   "cell_type": "code",
   "execution_count": null,
   "metadata": {},
   "outputs": [],
   "source": [
    "#countplot\n",
    "plt.figure(figsize=(10,7))\n",
    "sns.countplot(data=df, x=\"class\", hue=\"alive\")"
   ]
  },
  {
   "cell_type": "code",
   "execution_count": null,
   "metadata": {},
   "outputs": [],
   "source": [
    "tips = sns.load_dataset('tips')\n",
    "tips"
   ]
  },
  {
   "cell_type": "code",
   "execution_count": null,
   "metadata": {},
   "outputs": [],
   "source": [
    "#lmplot\n",
    "sns.lmplot(data=tips, x=\"total_bill\", y=\"tip\", hue=\"smoker\")"
   ]
  }
 ],
 "metadata": {
  "kernelspec": {
   "display_name": "Python 3",
   "language": "python",
   "name": "python3"
  },
  "language_info": {
   "codemirror_mode": {
    "name": "ipython",
    "version": 3
   },
   "file_extension": ".py",
   "mimetype": "text/x-python",
   "name": "python",
   "nbconvert_exporter": "python",
   "pygments_lexer": "ipython3",
   "version": "3.11.2"
  },
  "orig_nbformat": 4
 },
 "nbformat": 4,
 "nbformat_minor": 2
}
