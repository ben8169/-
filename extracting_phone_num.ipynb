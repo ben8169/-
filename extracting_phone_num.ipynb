{
 "cells": [
  {
   "cell_type": "code",
   "execution_count": null,
   "metadata": {},
   "outputs": [],
   "source": [
    "# !pip install openpyxl\n",
    "# !pip install pandas\n",
    "# !pip install openpyxl"
   ]
  },
  {
   "cell_type": "code",
   "execution_count": 45,
   "metadata": {},
   "outputs": [],
   "source": [
    "import pandas as pd\n",
    "import re\n",
    "excel_path = input(\"xlsx 파일 경로(ex:C:\\\\Users\\\\admin\\\\바탕 화면\\\\주소록.xlsx):\")\n",
    "col_name = input(\"번호가 저장된 열 이름(ex:휴대폰): \")\n",
    "excel_path = excel_path.replace(\"\\\\\", \"\\\\\\\\\")\n",
    "df = pd.read_excel(excel_path,engine='openpyxl')\n",
    "phone_df = df[col_name]\n",
    "phone_df.dropna(inplace=True)\n",
    "phone_list = re.findall(r'\\b010-\\d{4}-\\d{4}\\b',phone_df.to_string())\n",
    "phone_list = list(set(phone_list))\n",
    "result = \",\".join(phone_list)\n",
    "with open(\"output.txt\", \"w\") as file:\n",
    "    file.write(result)"
   ]
  },
  {
   "cell_type": "code",
   "execution_count": null,
   "metadata": {},
   "outputs": [],
   "source": []
  }
 ],
 "metadata": {
  "kernelspec": {
   "display_name": "base",
   "language": "python",
   "name": "python3"
  },
  "language_info": {
   "codemirror_mode": {
    "name": "ipython",
    "version": 3
   },
   "file_extension": ".py",
   "mimetype": "text/x-python",
   "name": "python",
   "nbconvert_exporter": "python",
   "pygments_lexer": "ipython3",
   "version": "3.10.13"
  },
  "orig_nbformat": 4
 },
 "nbformat": 4,
 "nbformat_minor": 2
}
